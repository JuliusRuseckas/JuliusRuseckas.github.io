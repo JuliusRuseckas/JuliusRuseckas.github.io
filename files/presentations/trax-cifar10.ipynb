{
 "cells": [
  {
   "cell_type": "markdown",
   "metadata": {},
   "source": [
    "# CIFAR10 classification using Trax"
   ]
  },
  {
   "cell_type": "markdown",
   "metadata": {},
   "source": [
    "[Trax](https://trax-ml.readthedocs.io/en/latest/) is an end-to-end library for deep learning that focuses on clear code and speed. It is actively used and maintained in the [Google Brain team](https://research.google.com/teams/brain/).\n",
    "\n",
    "GitHub repo: https://github.com/google/trax"
   ]
  },
  {
   "cell_type": "markdown",
   "metadata": {},
   "source": [
    "The basic units in Trax are *tensors*, using numpy interface."
   ]
  },
  {
   "cell_type": "markdown",
   "metadata": {},
   "source": [
    "In Trax numpy operations are accelerated using GPU or TPU. The gradients of functions on tensors are automatically computed. This is done in the `trax.fastmath` package which supports two backends:\n",
    "- [JAX](https://github.com/google/jax)\n",
    "- [TensorFlow numpy](https://www.tensorflow.org/guide/tf_numpy)."
   ]
  },
  {
   "cell_type": "markdown",
   "metadata": {},
   "source": [
    "Other libraries on top of JAX:\n",
    "- [Flax](https://flax.readthedocs.io/en/latest/) (also by Google)\n",
    "- [Haiku](https://dm-haiku.readthedocs.io/en/latest/) (by Google [DeepMind](https://deepmind.com/))\n",
    "- [Elegy](https://poets-ai.github.io/elegy/)"
   ]
  },
  {
   "cell_type": "markdown",
   "metadata": {},
   "source": [
    "Installing JAX: https://github.com/google/jax#pip-installation"
   ]
  },
  {
   "cell_type": "markdown",
   "metadata": {},
   "source": [
    "## Configuration"
   ]
  },
  {
   "cell_type": "markdown",
   "metadata": {},
   "source": [
    "Imports"
   ]
  },
  {
   "cell_type": "code",
   "execution_count": 1,
   "metadata": {},
   "outputs": [],
   "source": [
    "import trax\n",
    "from trax import layers as tl\n",
    "from trax import shapes\n",
    "from trax.fastmath import numpy as jnp\n",
    "from trax.supervised import training\n",
    "\n",
    "import numpy as np\n",
    "import tensorflow as tf"
   ]
  },
  {
   "cell_type": "code",
   "execution_count": 2,
   "metadata": {},
   "outputs": [],
   "source": [
    "%matplotlib inline\n",
    "import matplotlib.pyplot as plt"
   ]
  },
  {
   "cell_type": "markdown",
   "metadata": {},
   "source": [
    "Disable GPU usage by TensorFlow:"
   ]
  },
  {
   "cell_type": "code",
   "execution_count": 3,
   "metadata": {},
   "outputs": [],
   "source": [
    "tf.config.set_visible_devices([], 'GPU')"
   ]
  },
  {
   "cell_type": "code",
   "execution_count": 4,
   "metadata": {},
   "outputs": [
    {
     "name": "stdout",
     "output_type": "stream",
     "text": [
      "Current trax backend: jax\n"
     ]
    }
   ],
   "source": [
    "print(\"Current trax backend:\", trax.fastmath.backend_name())"
   ]
  },
  {
   "cell_type": "code",
   "execution_count": 5,
   "metadata": {},
   "outputs": [
    {
     "name": "stdout",
     "output_type": "stream",
     "text": [
      "Number of CPU or TPU devices: 1\n"
     ]
    }
   ],
   "source": [
    "print(\"Number of CPU or TPU devices:\", trax.fastmath.device_count())"
   ]
  },
  {
   "cell_type": "markdown",
   "metadata": {},
   "source": [
    "Configuration"
   ]
  },
  {
   "cell_type": "code",
   "execution_count": 6,
   "metadata": {},
   "outputs": [],
   "source": [
    "NUM_CLASSES = 10\n",
    "\n",
    "BATCH_SIZE = 32\n",
    "\n",
    "NUM_STEPS = 20000\n",
    "STEPS_PER_CHECKPOINT = 1000\n",
    "EVAL_BATCHES = 300\n",
    "WARMUP_STEPS = 500\n",
    "MAX_LR = 1e-3\n",
    "OUTPUT_DIR = 'output'"
   ]
  },
  {
   "cell_type": "code",
   "execution_count": 7,
   "metadata": {},
   "outputs": [],
   "source": [
    "!rm -rf {OUTPUT_DIR}"
   ]
  },
  {
   "cell_type": "markdown",
   "metadata": {},
   "source": [
    "## Dataset"
   ]
  },
  {
   "cell_type": "code",
   "execution_count": 8,
   "metadata": {},
   "outputs": [],
   "source": [
    "def augment_image(img):\n",
    "    img = tf.image.resize_with_crop_or_pad(img, 40, 40)\n",
    "    img = tf.image.random_crop(img, [32, 32, 3])\n",
    "    img = tf.image.random_flip_left_right(img)\n",
    "    img = tf.image.random_brightness(img, max_delta=0.2)\n",
    "    img = tf.image.random_contrast(img, 0.8, 1.2)\n",
    "    img = tf.image.random_saturation(img, 0.8, 1.2)\n",
    "    return img"
   ]
  },
  {
   "cell_type": "code",
   "execution_count": 9,
   "metadata": {},
   "outputs": [],
   "source": [
    "def Augment(generator):\n",
    "    for imgs, tgts in generator:\n",
    "        for i in range(len(imgs)):\n",
    "            imgs[i] = augment_image(imgs[i])\n",
    "        yield (imgs, tgts)"
   ]
  },
  {
   "cell_type": "code",
   "execution_count": 10,
   "metadata": {},
   "outputs": [],
   "source": [
    "def ToFloat(generator):\n",
    "    for img, tgt in generator:\n",
    "        img = img.astype(np.float32) / 255.0\n",
    "        yield (img, tgt)"
   ]
  },
  {
   "cell_type": "code",
   "execution_count": 11,
   "metadata": {},
   "outputs": [],
   "source": [
    "train_stream = trax.data.Serial(\n",
    "    trax.data.TFDS('cifar10', data_dir='data', keys=('image', 'label'), train=True),\n",
    "    trax.data.Shuffle(),\n",
    "    trax.data.Batch(BATCH_SIZE),\n",
    "    Augment,\n",
    "    ToFloat,\n",
    "    trax.data.AddLossWeights() # needed for tl.CrossEntropyLoss\n",
    ")"
   ]
  },
  {
   "cell_type": "code",
   "execution_count": 12,
   "metadata": {},
   "outputs": [],
   "source": [
    "eval_stream = trax.data.Serial(\n",
    "    trax.data.TFDS('cifar10', data_dir='data', keys=('image', 'label'), train=False),\n",
    "    trax.data.Batch(BATCH_SIZE),\n",
    "    ToFloat,\n",
    "    trax.data.AddLossWeights()\n",
    ")"
   ]
  },
  {
   "cell_type": "code",
   "execution_count": 13,
   "metadata": {},
   "outputs": [
    {
     "data": {
      "image/png": "[encoded data removed]",
      "text/plain": [
       "<Figure size 432x288 with 1 Axes>"
      ]
     },
     "metadata": {
      "needs_background": "light"
     },
     "output_type": "display_data"
    }
   ],
   "source": [
    "# Test generator:\n",
    "batch = next(train_stream())\n",
    "img = batch[0][0]\n",
    "plt.imshow(img);"
   ]
  },
  {
   "cell_type": "markdown",
   "metadata": {},
   "source": [
    "## Model"
   ]
  },
  {
   "cell_type": "code",
   "execution_count": 14,
   "metadata": {},
   "outputs": [],
   "source": [
    "def ConvBlock(filters, kernel_size=3, strides=1, act=True, mode='train'):\n",
    "    layers = [\n",
    "        tl.Conv(filters, (kernel_size, kernel_size), strides=(strides, strides), padding='SAME',\n",
    "                kernel_initializer=tl.initializers.KaimingNormalInitializer()),\n",
    "        tl.BatchNorm(mode=mode)\n",
    "    ]\n",
    "    if act: layers.append(tl.Relu())\n",
    "    return layers"
   ]
  },
  {
   "cell_type": "code",
   "execution_count": 15,
   "metadata": {},
   "outputs": [],
   "source": [
    "def BasicResidual(res_filters, strides=1, mode='train'):\n",
    "    return [\n",
    "        ConvBlock(res_filters, strides=strides, mode=mode),\n",
    "        ConvBlock(res_filters, act=False, mode=mode)\n",
    "    ]"
   ]
  },
  {
   "cell_type": "code",
   "execution_count": 16,
   "metadata": {},
   "outputs": [],
   "source": [
    "def Shortcut(prev_filters, res_filters, strides=1, mode='train'):\n",
    "    layers = []\n",
    "    if strides > 1:\n",
    "        layers.append(tl.AvgPool((strides, strides), (strides, strides)))\n",
    "    if prev_filters != res_filters:\n",
    "        layers += ConvBlock(res_filters, kernel_size=1, act=False, mode=mode)\n",
    "    if len(layers) == 0: layers = None\n",
    "    return layers"
   ]
  },
  {
   "cell_type": "code",
   "execution_count": 17,
   "metadata": {},
   "outputs": [],
   "source": [
    "def ZerosInitializer(shape, rng):\n",
    "    return jnp.zeros(shape, jnp.float32)"
   ]
  },
  {
   "cell_type": "code",
   "execution_count": 18,
   "metadata": {},
   "outputs": [],
   "source": [
    "def ResidualBlock(prev_filters, res_filters, strides=1, mode='train'):\n",
    "    shortcut = Shortcut(prev_filters, res_filters, strides, mode=mode)\n",
    "    residual = [\n",
    "        BasicResidual(res_filters, strides, mode=mode),\n",
    "        tl.Weights(ZerosInitializer, shape=(1,)),\n",
    "        tl.Multiply()\n",
    "    ]\n",
    "    return [\n",
    "        tl.Residual(residual, shortcut=shortcut),\n",
    "        tl.Relu()\n",
    "    ]"
   ]
  },
  {
   "cell_type": "code",
   "execution_count": 19,
   "metadata": {},
   "outputs": [],
   "source": [
    "def ResidualBody(filters, repetitions, strides, mode='train'):\n",
    "    layers = []\n",
    "    res_filters = filters\n",
    "    for rep, stride in zip(repetitions, strides):\n",
    "        for _ in range(rep):\n",
    "            layers.append(ResidualBlock(filters, res_filters, stride, mode=mode))\n",
    "            filters = res_filters\n",
    "            stride = 1\n",
    "        res_filters *= 2\n",
    "    return layers"
   ]
  },
  {
   "cell_type": "code",
   "execution_count": 20,
   "metadata": {},
   "outputs": [],
   "source": [
    "def Stem(filter_list, stride=1, mode='train'):\n",
    "    layers = []\n",
    "    for filters in filter_list:\n",
    "        layers.append(ConvBlock(filters, strides=stride, mode=mode))\n",
    "        stride = 1\n",
    "    return layers"
   ]
  },
  {
   "cell_type": "code",
   "execution_count": 21,
   "metadata": {},
   "outputs": [],
   "source": [
    "def GlobalAvgPool():\n",
    "    def pool(x):\n",
    "        pool_size = tuple(x.shape[1:3]) # NHWC\n",
    "        return trax.fastmath.avg_pool(x, pool_size=pool_size, strides=None, padding='VALID')\n",
    "    \n",
    "    return tl.Fn(\"GlobalAvgPool\", pool)"
   ]
  },
  {
   "cell_type": "code",
   "execution_count": 22,
   "metadata": {},
   "outputs": [],
   "source": [
    "def Head(classes, p_drop=0., mode='train'):\n",
    "    layers = [\n",
    "        GlobalAvgPool(),\n",
    "        tl.Flatten()\n",
    "    ]\n",
    "    if p_drop > 0: layers.append(tl.Dropout(p_drop, mode=mode))\n",
    "    layers += [\n",
    "        tl.Dense(classes),\n",
    "        tl.LogSoftmax()\n",
    "    ]\n",
    "    return layers"
   ]
  },
  {
   "cell_type": "code",
   "execution_count": 23,
   "metadata": {},
   "outputs": [],
   "source": [
    "def ResNet(repetitions, classes, strides=None, p_drop=0., mode='train'):\n",
    "    if not strides: strides = [2] * (len(repetitions) + 1)\n",
    "    return tl.Serial(\n",
    "        Stem([32, 32, 64], stride=strides[0], mode=mode),\n",
    "        ResidualBody(64, repetitions, strides[1:], mode=mode),\n",
    "        Head(classes, p_drop=p_drop, mode=mode)\n",
    "    )"
   ]
  },
  {
   "cell_type": "code",
   "execution_count": 24,
   "metadata": {},
   "outputs": [],
   "source": [
    "def MyModel(mode='train'):\n",
    "    return ResNet([2, 2, 2, 2], NUM_CLASSES, strides=[1, 1, 2, 2, 2], p_drop=0.3, mode=mode)"
   ]
  },
  {
   "cell_type": "code",
   "execution_count": 25,
   "metadata": {},
   "outputs": [],
   "source": [
    "model = MyModel()"
   ]
  },
  {
   "cell_type": "code",
   "execution_count": 26,
   "metadata": {},
   "outputs": [],
   "source": [
    "eval_model = MyModel(mode='eval')"
   ]
  },
  {
   "cell_type": "code",
   "execution_count": 27,
   "metadata": {},
   "outputs": [
    {
     "data": {
      "text/plain": [
       "Serial[\n",
       "  Conv\n",
       "  BatchNorm\n",
       "  Relu\n",
       "  Conv\n",
       "  BatchNorm\n",
       "  Relu\n",
       "  Conv\n",
       "  BatchNorm\n",
       "  Relu\n",
       "  Serial[\n",
       "    Branch_out2[\n",
       "      None\n",
       "      Serial[\n",
       "        Conv\n",
       "        BatchNorm\n",
       "        Relu\n",
       "        Conv\n",
       "        BatchNorm\n",
       "        Weights_(1,)_in0\n",
       "        Multiply_in2\n",
       "      ]\n",
       "    ]\n",
       "    Add_in2\n",
       "  ]\n",
       "  Relu\n",
       "  Serial[\n",
       "    Branch_out2[\n",
       "      None\n",
       "      Serial[\n",
       "        Conv\n",
       "        BatchNorm\n",
       "        Relu\n",
       "        Conv\n",
       "        BatchNorm\n",
       "        Weights_(1,)_in0\n",
       "        Multiply_in2\n",
       "      ]\n",
       "    ]\n",
       "    Add_in2\n",
       "  ]\n",
       "  Relu\n",
       "  Serial[\n",
       "    Branch_out2[\n",
       "      [AvgPool(2,2), Conv, BatchNorm]\n",
       "      Serial[\n",
       "        Conv\n",
       "        BatchNorm\n",
       "        Relu\n",
       "        Conv\n",
       "        BatchNorm\n",
       "        Weights_(1,)_in0\n",
       "        Multiply_in2\n",
       "      ]\n",
       "    ]\n",
       "    Add_in2\n",
       "  ]\n",
       "  Relu\n",
       "  Serial[\n",
       "    Branch_out2[\n",
       "      None\n",
       "      Serial[\n",
       "        Conv\n",
       "        BatchNorm\n",
       "        Relu\n",
       "        Conv\n",
       "        BatchNorm\n",
       "        Weights_(1,)_in0\n",
       "        Multiply_in2\n",
       "      ]\n",
       "    ]\n",
       "    Add_in2\n",
       "  ]\n",
       "  Relu\n",
       "  Serial[\n",
       "    Branch_out2[\n",
       "      [AvgPool(2,2), Conv, BatchNorm]\n",
       "      Serial[\n",
       "        Conv\n",
       "        BatchNorm\n",
       "        Relu\n",
       "        Conv\n",
       "        BatchNorm\n",
       "        Weights_(1,)_in0\n",
       "        Multiply_in2\n",
       "      ]\n",
       "    ]\n",
       "    Add_in2\n",
       "  ]\n",
       "  Relu\n",
       "  Serial[\n",
       "    Branch_out2[\n",
       "      None\n",
       "      Serial[\n",
       "        Conv\n",
       "        BatchNorm\n",
       "        Relu\n",
       "        Conv\n",
       "        BatchNorm\n",
       "        Weights_(1,)_in0\n",
       "        Multiply_in2\n",
       "      ]\n",
       "    ]\n",
       "    Add_in2\n",
       "  ]\n",
       "  Relu\n",
       "  Serial[\n",
       "    Branch_out2[\n",
       "      [AvgPool(2,2), Conv, BatchNorm]\n",
       "      Serial[\n",
       "        Conv\n",
       "        BatchNorm\n",
       "        Relu\n",
       "        Conv\n",
       "        BatchNorm\n",
       "        Weights_(1,)_in0\n",
       "        Multiply_in2\n",
       "      ]\n",
       "    ]\n",
       "    Add_in2\n",
       "  ]\n",
       "  Relu\n",
       "  Serial[\n",
       "    Branch_out2[\n",
       "      None\n",
       "      Serial[\n",
       "        Conv\n",
       "        BatchNorm\n",
       "        Relu\n",
       "        Conv\n",
       "        BatchNorm\n",
       "        Weights_(1,)_in0\n",
       "        Multiply_in2\n",
       "      ]\n",
       "    ]\n",
       "    Add_in2\n",
       "  ]\n",
       "  Relu\n",
       "  GlobalAvgPool\n",
       "  Flatten_keep1\n",
       "  Dropout\n",
       "  Dense_10\n",
       "  LogSoftmax\n",
       "]"
      ]
     },
     "execution_count": 27,
     "metadata": {},
     "output_type": "execute_result"
    }
   ],
   "source": [
    "model"
   ]
  },
  {
   "cell_type": "markdown",
   "metadata": {},
   "source": [
    "## Training"
   ]
  },
  {
   "cell_type": "code",
   "execution_count": 28,
   "metadata": {},
   "outputs": [],
   "source": [
    "train_task = training.TrainTask(\n",
    "    labeled_data=train_stream(),\n",
    "    loss_layer=tl.CrossEntropyLoss(),\n",
    "    optimizer=trax.optimizers.Adam(),\n",
    "    lr_schedule=trax.supervised.lr_schedules.warmup_and_rsqrt_decay(WARMUP_STEPS, MAX_LR),\n",
    "    n_steps_per_checkpoint=STEPS_PER_CHECKPOINT\n",
    ")"
   ]
  },
  {
   "cell_type": "code",
   "execution_count": 29,
   "metadata": {},
   "outputs": [],
   "source": [
    "eval_task = training.EvalTask(\n",
    "    labeled_data=eval_stream(),\n",
    "    metrics=[tl.CrossEntropyLoss(), tl.Accuracy()],\n",
    "    n_eval_batches=EVAL_BATCHES\n",
    ")"
   ]
  },
  {
   "cell_type": "code",
   "execution_count": 30,
   "metadata": {},
   "outputs": [
    {
     "name": "stderr",
     "output_type": "stream",
     "text": [
      "/home/aiserver/.virtualenvs/deeplearning/lib/python3.6/site-packages/jax/_src/lax/lax.py:6081: UserWarning: Explicitly requested dtype <class 'jax._src.numpy.lax_numpy.int64'> requested in zeros is not available, and will be truncated to dtype int32. To enable more dtypes, set the jax_enable_x64 configuration option or the JAX_ENABLE_X64 shell environment variable. See https://github.com/google/jax#current-gotchas for more.\n",
      "  warnings.warn(msg.format(dtype, fun_name , truncated_dtype))\n"
     ]
    }
   ],
   "source": [
    "training_loop = training.Loop(\n",
    "    model,\n",
    "    train_task,\n",
    "    eval_model=eval_model,\n",
    "    eval_tasks=eval_task,\n",
    "    output_dir=OUTPUT_DIR\n",
    ")"
   ]
  },
  {
   "cell_type": "code",
   "execution_count": 31,
   "metadata": {},
   "outputs": [
    {
     "name": "stdout",
     "output_type": "stream",
     "text": [
      "\n",
      "Step      1: Total number of trainable weights: 11205746\n",
      "Step      1: Ran 1 train steps in 16.24 secs\n",
      "Step      1: train CrossEntropyLoss |  2.61132336\n",
      "Step      1: eval  CrossEntropyLoss |  10.20209974\n",
      "Step      1: eval          Accuracy |  0.10989583\n",
      "\n",
      "Step   1000: Ran 999 train steps in 116.09 secs\n",
      "Step   1000: train CrossEntropyLoss |  1.76638615\n",
      "Step   1000: eval  CrossEntropyLoss |  3.25688744\n",
      "Step   1000: eval          Accuracy |  0.18250000\n",
      "\n",
      "Step   2000: Ran 1000 train steps in 106.21 secs\n",
      "Step   2000: train CrossEntropyLoss |  1.18806684\n",
      "Step   2000: eval  CrossEntropyLoss |  1.69844913\n",
      "Step   2000: eval          Accuracy |  0.48614583\n",
      "\n",
      "Step   3000: Ran 1000 train steps in 106.53 secs\n",
      "Step   3000: train CrossEntropyLoss |  0.94432074\n",
      "Step   3000: eval  CrossEntropyLoss |  1.09890646\n",
      "Step   3000: eval          Accuracy |  0.64437500\n",
      "\n",
      "Step   4000: Ran 1000 train steps in 105.61 secs\n",
      "Step   4000: train CrossEntropyLoss |  0.80568272\n",
      "Step   4000: eval  CrossEntropyLoss |  1.23607775\n",
      "Step   4000: eval          Accuracy |  0.63291667\n",
      "\n",
      "Step   5000: Ran 1000 train steps in 106.80 secs\n",
      "Step   5000: train CrossEntropyLoss |  0.71427822\n",
      "Step   5000: eval  CrossEntropyLoss |  0.89560480\n",
      "Step   5000: eval          Accuracy |  0.71364583\n",
      "\n",
      "Step   6000: Ran 1000 train steps in 106.05 secs\n",
      "Step   6000: train CrossEntropyLoss |  0.64773202\n",
      "Step   6000: eval  CrossEntropyLoss |  0.96779802\n",
      "Step   6000: eval          Accuracy |  0.70989583\n",
      "\n",
      "Step   7000: Ran 1000 train steps in 106.55 secs\n",
      "Step   7000: train CrossEntropyLoss |  0.60432559\n",
      "Step   7000: eval  CrossEntropyLoss |  0.70380987\n",
      "Step   7000: eval          Accuracy |  0.76489583\n",
      "\n",
      "Step   8000: Ran 1000 train steps in 107.08 secs\n",
      "Step   8000: train CrossEntropyLoss |  0.55522698\n",
      "Step   8000: eval  CrossEntropyLoss |  0.76587470\n",
      "Step   8000: eval          Accuracy |  0.75125000\n",
      "\n",
      "Step   9000: Ran 1000 train steps in 105.96 secs\n",
      "Step   9000: train CrossEntropyLoss |  0.53158909\n",
      "Step   9000: eval  CrossEntropyLoss |  0.69913244\n",
      "Step   9000: eval          Accuracy |  0.77208333\n",
      "\n",
      "Step  10000: Ran 1000 train steps in 109.51 secs\n",
      "Step  10000: train CrossEntropyLoss |  0.49183390\n",
      "Step  10000: eval  CrossEntropyLoss |  0.57984877\n",
      "Step  10000: eval          Accuracy |  0.80343750\n",
      "\n",
      "Step  11000: Ran 1000 train steps in 106.10 secs\n",
      "Step  11000: train CrossEntropyLoss |  0.46877530\n",
      "Step  11000: eval  CrossEntropyLoss |  0.48222975\n",
      "Step  11000: eval          Accuracy |  0.83604167\n",
      "\n",
      "Step  12000: Ran 1000 train steps in 107.04 secs\n",
      "Step  12000: train CrossEntropyLoss |  0.43882948\n",
      "Step  12000: eval  CrossEntropyLoss |  0.57474974\n",
      "Step  12000: eval          Accuracy |  0.81218750\n",
      "\n",
      "Step  13000: Ran 1000 train steps in 107.41 secs\n",
      "Step  13000: train CrossEntropyLoss |  0.41691700\n",
      "Step  13000: eval  CrossEntropyLoss |  0.53092413\n",
      "Step  13000: eval          Accuracy |  0.82760417\n",
      "\n",
      "Step  14000: Ran 1000 train steps in 107.03 secs\n",
      "Step  14000: train CrossEntropyLoss |  0.40698951\n",
      "Step  14000: eval  CrossEntropyLoss |  0.59010746\n",
      "Step  14000: eval          Accuracy |  0.80250000\n",
      "\n",
      "Step  15000: Ran 1000 train steps in 108.93 secs\n",
      "Step  15000: train CrossEntropyLoss |  0.38279334\n",
      "Step  15000: eval  CrossEntropyLoss |  0.49296554\n",
      "Step  15000: eval          Accuracy |  0.83458333\n",
      "\n",
      "Step  16000: Ran 1000 train steps in 105.39 secs\n",
      "Step  16000: train CrossEntropyLoss |  0.36752513\n",
      "Step  16000: eval  CrossEntropyLoss |  0.54803635\n",
      "Step  16000: eval          Accuracy |  0.82385417\n",
      "\n",
      "Step  17000: Ran 1000 train steps in 106.26 secs\n",
      "Step  17000: train CrossEntropyLoss |  0.36354846\n",
      "Step  17000: eval  CrossEntropyLoss |  0.46864894\n",
      "Step  17000: eval          Accuracy |  0.84552083\n",
      "\n",
      "Step  18000: Ran 1000 train steps in 107.32 secs\n",
      "Step  18000: train CrossEntropyLoss |  0.34194821\n",
      "Step  18000: eval  CrossEntropyLoss |  0.58723122\n",
      "Step  18000: eval          Accuracy |  0.82062500\n",
      "\n",
      "Step  19000: Ran 1000 train steps in 107.31 secs\n",
      "Step  19000: train CrossEntropyLoss |  0.32466933\n",
      "Step  19000: eval  CrossEntropyLoss |  0.47764196\n",
      "Step  19000: eval          Accuracy |  0.84145833\n",
      "\n",
      "Step  20000: Ran 1000 train steps in 106.91 secs\n",
      "Step  20000: train CrossEntropyLoss |  0.31532502\n",
      "Step  20000: eval  CrossEntropyLoss |  0.49582401\n",
      "Step  20000: eval          Accuracy |  0.83968750\n"
     ]
    }
   ],
   "source": [
    "training_loop.run(NUM_STEPS)"
   ]
  }
 ],
 "metadata": {
  "kernelspec": {
   "display_name": "Python 3",
   "language": "python",
   "name": "python3"
  },
  "language_info": {
   "codemirror_mode": {
    "name": "ipython",
    "version": 3
   },
   "file_extension": ".py",
   "mimetype": "text/x-python",
   "name": "python",
   "nbconvert_exporter": "python",
   "pygments_lexer": "ipython3",
   "version": "3.6.7"
  }
 },
 "nbformat": 4,
 "nbformat_minor": 4
}
