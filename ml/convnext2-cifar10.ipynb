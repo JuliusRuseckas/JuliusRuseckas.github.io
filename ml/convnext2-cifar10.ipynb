{
 "cells": [
  {
   "cell_type": "markdown",
   "metadata": {},
   "source": [
    "# ConvNeXtV2 on CIFAR10"
   ]
  },
  {
   "cell_type": "markdown",
   "metadata": {},
   "source": [
    "According to [arXiv:2301.00808 [cs.CV]](https://arxiv.org/abs/2301.00808)"
   ]
  },
  {
   "cell_type": "markdown",
   "metadata": {},
   "source": [
    "Original implementation in https://github.com/facebookresearch/ConvNeXt-V2"
   ]
  },
  {
   "cell_type": "markdown",
   "metadata": {},
   "source": [
    "## Configuration"
   ]
  },
  {
   "cell_type": "markdown",
   "metadata": {},
   "source": [
    "Imports"
   ]
  },
  {
   "cell_type": "code",
   "execution_count": 2,
   "metadata": {},
   "outputs": [],
   "source": [
    "import numpy as np\n",
    "from collections import defaultdict\n",
    "import matplotlib.pyplot as plt\n",
    "\n",
    "import torch\n",
    "import torch.nn as nn\n",
    "import torch.optim as optim\n",
    "import torch.nn.functional as F\n",
    "from torchvision import datasets, transforms\n",
    "\n",
    "from ignite.engine import Events, create_supervised_trainer, create_supervised_evaluator\n",
    "import ignite.metrics\n",
    "import ignite.contrib.handlers"
   ]
  },
  {
   "cell_type": "markdown",
   "metadata": {},
   "source": [
    "Configuration"
   ]
  },
  {
   "cell_type": "code",
   "execution_count": 3,
   "metadata": {},
   "outputs": [],
   "source": [
    "DATA_DIR='./data'\n",
    "\n",
    "IMAGE_SIZE = 32\n",
    "\n",
    "NUM_CLASSES = 10\n",
    "NUM_WORKERS = 8\n",
    "BATCH_SIZE = 32\n",
    "EPOCHS = 100\n",
    "\n",
    "LEARNING_RATE = 1e-3\n",
    "WEIGHT_DECAY = 1e-1"
   ]
  },
  {
   "cell_type": "code",
   "execution_count": 4,
   "metadata": {},
   "outputs": [
    {
     "name": "stdout",
     "output_type": "stream",
     "text": [
      "device: cuda\n"
     ]
    }
   ],
   "source": [
    "DEVICE = torch.device(\"cuda\") if torch.cuda.is_available() else torch.device(\"cpu\")\n",
    "print(\"device:\", DEVICE)"
   ]
  },
  {
   "cell_type": "markdown",
   "metadata": {},
   "source": [
    "## Data"
   ]
  },
  {
   "cell_type": "code",
   "execution_count": 5,
   "metadata": {},
   "outputs": [],
   "source": [
    "train_transform = transforms.Compose([\n",
    "    transforms.RandomHorizontalFlip(),\n",
    "    transforms.RandomCrop(IMAGE_SIZE, padding=4),\n",
    "    transforms.ColorJitter(brightness=0.2, contrast=0.2, saturation=0.2),\n",
    "    transforms.ToTensor()\n",
    "])"
   ]
  },
  {
   "cell_type": "code",
   "execution_count": 6,
   "metadata": {},
   "outputs": [
    {
     "name": "stdout",
     "output_type": "stream",
     "text": [
      "Files already downloaded and verified\n",
      "Files already downloaded and verified\n"
     ]
    }
   ],
   "source": [
    "train_dset = datasets.CIFAR10(root=DATA_DIR, train=True, download=True, transform=train_transform)\n",
    "test_dset = datasets.CIFAR10(root=DATA_DIR, train=False, download=True, transform=transforms.ToTensor())"
   ]
  },
  {
   "cell_type": "code",
   "execution_count": 7,
   "metadata": {},
   "outputs": [],
   "source": [
    "def dataset_show_image(dset, idx):\n",
    "    X, Y = dset[idx]\n",
    "    title = \"Ground truth: {}\".format(dset.classes[Y])\n",
    "    fig = plt.figure()\n",
    "    ax = fig.add_subplot(111)\n",
    "    ax.set_axis_off()\n",
    "    ax.imshow(np.moveaxis(X.numpy(), 0, -1))\n",
    "    ax.set_title(title)\n",
    "    plt.show()"
   ]
  },
  {
   "cell_type": "code",
   "execution_count": 8,
   "metadata": {},
   "outputs": [
    {
     "data": {
      "image/png": "[encoded data removed]",
      "text/plain": [
       "<Figure size 432x288 with 1 Axes>"
      ]
     },
     "metadata": {
      "needs_background": "light"
     },
     "output_type": "display_data"
    }
   ],
   "source": [
    "dataset_show_image(test_dset, 1)"
   ]
  },
  {
   "cell_type": "code",
   "execution_count": 9,
   "metadata": {},
   "outputs": [],
   "source": [
    "train_loader = torch.utils.data.DataLoader(train_dset, batch_size=BATCH_SIZE, shuffle=True,\n",
    "                                           num_workers=NUM_WORKERS, pin_memory=True)\n",
    "\n",
    "test_loader = torch.utils.data.DataLoader(test_dset, batch_size=BATCH_SIZE, shuffle=False,\n",
    "                                          num_workers=NUM_WORKERS, pin_memory=True)"
   ]
  },
  {
   "cell_type": "markdown",
   "metadata": {},
   "source": [
    "## Model"
   ]
  },
  {
   "cell_type": "markdown",
   "metadata": {},
   "source": [
    "Utilities"
   ]
  },
  {
   "cell_type": "code",
   "execution_count": 10,
   "metadata": {},
   "outputs": [],
   "source": [
    "class LayerNormChannels(nn.Module):\n",
    "    def __init__(self, channels):\n",
    "        super().__init__()\n",
    "        self.norm = nn.LayerNorm(channels)\n",
    "    \n",
    "    def forward(self, x):\n",
    "        x = x.transpose(1, -1)\n",
    "        x = self.norm(x)\n",
    "        x = x.transpose(-1, 1)\n",
    "        return x"
   ]
  },
  {
   "cell_type": "code",
   "execution_count": 11,
   "metadata": {},
   "outputs": [],
   "source": [
    "class Residual(nn.Module):\n",
    "    def __init__(self, *layers):\n",
    "        super().__init__()\n",
    "        self.residual = nn.Sequential(*layers)\n",
    "        self.gamma = nn.Parameter(torch.zeros(1))\n",
    "    \n",
    "    def forward(self, x):\n",
    "        return x + self.gamma * self.residual(x)"
   ]
  },
  {
   "cell_type": "markdown",
   "metadata": {},
   "source": [
    "GRN (Global Response Normalization) layer"
   ]
  },
  {
   "cell_type": "code",
   "execution_count": 12,
   "metadata": {},
   "outputs": [],
   "source": [
    "class GRN(nn.Module):\n",
    "    def __init__(self, channels):\n",
    "        super().__init__()\n",
    "        self.gamma = nn.Parameter(torch.zeros(1, channels, 1, 1))\n",
    "        self.beta = nn.Parameter(torch.zeros(1, channels, 1, 1))\n",
    "\n",
    "    def forward(self, x):\n",
    "        Gx = torch.norm(x, p=2, dim=(2,3), keepdim=True)\n",
    "        Nx = Gx / (Gx.mean(dim=1, keepdim=True) + 1e-6)\n",
    "        return self.gamma * (x * Nx) + self.beta + x"
   ]
  },
  {
   "cell_type": "markdown",
   "metadata": {},
   "source": [
    "ConvNeXtV2 stages"
   ]
  },
  {
   "cell_type": "code",
   "execution_count": 13,
   "metadata": {
    "tags": []
   },
   "outputs": [],
   "source": [
    "class ConvNeXtV2Block(Residual):\n",
    "    def __init__(self, channels, kernel_size, mult=4, p_drop=0.):\n",
    "        padding = (kernel_size - 1) // 2\n",
    "        hidden_channels = channels * mult\n",
    "        super().__init__(\n",
    "            nn.Conv2d(channels, channels, kernel_size, padding=padding, groups=channels),\n",
    "            LayerNormChannels(channels),\n",
    "            nn.Conv2d(channels, hidden_channels, 1),\n",
    "            nn.GELU(),\n",
    "            GRN(hidden_channels),\n",
    "            nn.Conv2d(hidden_channels, channels, 1),\n",
    "            nn.Dropout(p_drop)\n",
    "        )"
   ]
  },
  {
   "cell_type": "code",
   "execution_count": 14,
   "metadata": {},
   "outputs": [],
   "source": [
    "class DownsampleBlock(nn.Sequential):\n",
    "    def __init__(self, in_channels, out_channels, stride=2):\n",
    "        super().__init__(\n",
    "            LayerNormChannels(in_channels),\n",
    "            nn.Conv2d(in_channels, out_channels, stride, stride=stride)\n",
    "        )"
   ]
  },
  {
   "cell_type": "code",
   "execution_count": 15,
   "metadata": {},
   "outputs": [],
   "source": [
    "class Stage(nn.Sequential):\n",
    "    def __init__(self, in_channels, out_channels, num_blocks, kernel_size, p_drop=0.):\n",
    "        layers = [] if in_channels == out_channels else [DownsampleBlock(in_channels, out_channels)]\n",
    "        layers += [ConvNeXtV2Block(out_channels, kernel_size, p_drop=p_drop) for _ in range(num_blocks)]\n",
    "        super().__init__(*layers)"
   ]
  },
  {
   "cell_type": "code",
   "execution_count": 16,
   "metadata": {},
   "outputs": [],
   "source": [
    "class ConvNeXtV2Body(nn.Sequential):\n",
    "    def __init__(self, in_channels, channel_list, num_blocks_list, kernel_size, p_drop=0.):\n",
    "        layers = []\n",
    "        for out_channels, num_blocks in zip(channel_list, num_blocks_list):\n",
    "            layers.append(Stage(in_channels, out_channels, num_blocks, kernel_size, p_drop))\n",
    "            in_channels = out_channels\n",
    "        super().__init__(*layers)"
   ]
  },
  {
   "cell_type": "markdown",
   "metadata": {},
   "source": [
    "Main model"
   ]
  },
  {
   "cell_type": "code",
   "execution_count": 17,
   "metadata": {},
   "outputs": [],
   "source": [
    "class Stem(nn.Sequential):\n",
    "    def __init__(self, in_channels, out_channels, patch_size):\n",
    "        super().__init__(\n",
    "            nn.Conv2d(in_channels, out_channels, patch_size, stride=patch_size),\n",
    "            LayerNormChannels(out_channels)\n",
    "        )"
   ]
  },
  {
   "cell_type": "code",
   "execution_count": 18,
   "metadata": {},
   "outputs": [],
   "source": [
    "class Head(nn.Sequential):\n",
    "    def __init__(self, in_channels, classes):\n",
    "        super().__init__(\n",
    "            nn.AdaptiveAvgPool2d(1),\n",
    "            nn.Flatten(),\n",
    "            nn.LayerNorm(in_channels),\n",
    "            nn.Linear(in_channels, classes)\n",
    "        )"
   ]
  },
  {
   "cell_type": "code",
   "execution_count": 19,
   "metadata": {},
   "outputs": [],
   "source": [
    "class ConvNeXtV2(nn.Sequential):\n",
    "    def __init__(self, classes, channel_list, num_blocks_list, kernel_size, patch_size,\n",
    "                 in_channels=3, res_p_drop=0.):\n",
    "        super().__init__(\n",
    "            Stem(in_channels, channel_list[0], patch_size),\n",
    "            ConvNeXtV2Body(channel_list[0], channel_list, num_blocks_list, kernel_size, res_p_drop),\n",
    "            Head(channel_list[-1], classes)\n",
    "        )\n",
    "        self.reset_parameters()\n",
    "    \n",
    "    def reset_parameters(self):\n",
    "        for m in self.modules():\n",
    "            if isinstance(m, (nn.Linear, nn.Conv2d)):\n",
    "                nn.init.normal_(m.weight, std=0.02)\n",
    "                if m.bias is not None: nn.init.zeros_(m.bias)\n",
    "            elif isinstance(m, nn.LayerNorm):\n",
    "                nn.init.constant_(m.weight, 1.)\n",
    "                nn.init.zeros_(m.bias)\n",
    "            elif isinstance(m, Residual):\n",
    "                nn.init.zeros_(m.gamma)\n",
    "            elif isinstance(m, GRN):\n",
    "                nn.init.zeros_(m.gamma)\n",
    "                nn.init.zeros_(m.beta)\n",
    "    \n",
    "    def separate_parameters(self):\n",
    "        parameters_decay = set()\n",
    "        parameters_no_decay = set()\n",
    "        modules_weight_decay = (nn.Linear, nn.Conv2d)\n",
    "        modules_no_weight_decay = (nn.LayerNorm,)\n",
    "\n",
    "        for m_name, m in self.named_modules():\n",
    "            for param_name, param in m.named_parameters():\n",
    "                full_param_name = f\"{m_name}.{param_name}\" if m_name else param_name\n",
    "\n",
    "                if isinstance(m, modules_no_weight_decay):\n",
    "                    parameters_no_decay.add(full_param_name)\n",
    "                elif param_name.endswith(\"bias\"):\n",
    "                    parameters_no_decay.add(full_param_name)\n",
    "                elif isinstance(m, Residual) and param_name.endswith(\"gamma\"):\n",
    "                    parameters_no_decay.add(full_param_name)\n",
    "                elif isinstance(m, GRN) and (param_name.endswith(\"gamma\") or param_name.endswith(\"beta\")):\n",
    "                    parameters_no_decay.add(full_param_name)\n",
    "                elif isinstance(m, modules_weight_decay):\n",
    "                    parameters_decay.add(full_param_name)\n",
    "\n",
    "        # sanity check\n",
    "        assert len(parameters_decay & parameters_no_decay) == 0\n",
    "        assert len(parameters_decay) + len(parameters_no_decay) == len(list(model.parameters()))\n",
    "\n",
    "        return parameters_decay, parameters_no_decay"
   ]
  },
  {
   "cell_type": "code",
   "execution_count": 20,
   "metadata": {},
   "outputs": [],
   "source": [
    "model = ConvNeXtV2(NUM_CLASSES,\n",
    "                   channel_list = [64, 128, 256, 512],\n",
    "                   num_blocks_list = [2, 2, 2, 2],\n",
    "                   kernel_size=7, patch_size=1,\n",
    "                   res_p_drop=0.)"
   ]
  },
  {
   "cell_type": "code",
   "execution_count": 21,
   "metadata": {},
   "outputs": [],
   "source": [
    "model.to(DEVICE);"
   ]
  },
  {
   "cell_type": "code",
   "execution_count": 22,
   "metadata": {},
   "outputs": [
    {
     "name": "stdout",
     "output_type": "stream",
     "text": [
      "Number of parameters: 6,391,826\n"
     ]
    }
   ],
   "source": [
    "print(\"Number of parameters: {:,}\".format(sum(p.numel() for p in model.parameters())))"
   ]
  },
  {
   "cell_type": "markdown",
   "metadata": {},
   "source": [
    "## Training"
   ]
  },
  {
   "cell_type": "markdown",
   "metadata": {},
   "source": [
    "### Optimizer"
   ]
  },
  {
   "cell_type": "code",
   "execution_count": 23,
   "metadata": {},
   "outputs": [],
   "source": [
    "def get_optimizer(model, learning_rate, weight_decay):\n",
    "    param_dict = {pn: p for pn, p in model.named_parameters()}\n",
    "    parameters_decay, parameters_no_decay = model.separate_parameters()\n",
    "    \n",
    "    optim_groups = [\n",
    "        {\"params\": [param_dict[pn] for pn in parameters_decay], \"weight_decay\": weight_decay},\n",
    "        {\"params\": [param_dict[pn] for pn in parameters_no_decay], \"weight_decay\": 0.0},\n",
    "    ]\n",
    "    optimizer = optim.AdamW(optim_groups, lr=learning_rate)\n",
    "    return optimizer"
   ]
  },
  {
   "cell_type": "markdown",
   "metadata": {},
   "source": [
    "### Setup trainer"
   ]
  },
  {
   "cell_type": "code",
   "execution_count": 24,
   "metadata": {},
   "outputs": [],
   "source": [
    "loss = nn.CrossEntropyLoss()"
   ]
  },
  {
   "cell_type": "code",
   "execution_count": 25,
   "metadata": {},
   "outputs": [],
   "source": [
    "optimizer = get_optimizer(model, learning_rate=LEARNING_RATE, weight_decay=WEIGHT_DECAY)"
   ]
  },
  {
   "cell_type": "code",
   "execution_count": 26,
   "metadata": {},
   "outputs": [],
   "source": [
    "trainer = create_supervised_trainer(model, optimizer, loss, device=DEVICE)"
   ]
  },
  {
   "cell_type": "code",
   "execution_count": 27,
   "metadata": {},
   "outputs": [],
   "source": [
    "lr_scheduler = optim.lr_scheduler.OneCycleLR(optimizer, max_lr=LEARNING_RATE,\n",
    "                                             steps_per_epoch=len(train_loader), epochs=EPOCHS)"
   ]
  },
  {
   "cell_type": "code",
   "execution_count": 28,
   "metadata": {},
   "outputs": [],
   "source": [
    "trainer.add_event_handler(Events.ITERATION_COMPLETED, lambda engine: lr_scheduler.step());"
   ]
  },
  {
   "cell_type": "code",
   "execution_count": 29,
   "metadata": {},
   "outputs": [],
   "source": [
    "ignite.metrics.RunningAverage(output_transform=lambda x: x).attach(trainer, \"loss\")"
   ]
  },
  {
   "cell_type": "markdown",
   "metadata": {},
   "source": [
    "Evaluator"
   ]
  },
  {
   "cell_type": "code",
   "execution_count": 30,
   "metadata": {},
   "outputs": [],
   "source": [
    "val_metrics = {\"accuracy\": ignite.metrics.Accuracy(), \"loss\": ignite.metrics.Loss(loss)}"
   ]
  },
  {
   "cell_type": "code",
   "execution_count": 31,
   "metadata": {},
   "outputs": [],
   "source": [
    "evaluator = create_supervised_evaluator(model, metrics=val_metrics, device=DEVICE)"
   ]
  },
  {
   "cell_type": "code",
   "execution_count": 32,
   "metadata": {},
   "outputs": [],
   "source": [
    "history = defaultdict(list)"
   ]
  },
  {
   "cell_type": "code",
   "execution_count": 33,
   "metadata": {
    "tags": []
   },
   "outputs": [],
   "source": [
    "@trainer.on(Events.EPOCH_COMPLETED)\n",
    "def log_validation_results(engine):\n",
    "    train_state = engine.state\n",
    "    epoch = train_state.epoch\n",
    "    max_epochs = train_state.max_epochs\n",
    "    train_loss = train_state.metrics[\"loss\"]\n",
    "    history['train loss'].append(train_loss)\n",
    "    \n",
    "    evaluator.run(test_loader)\n",
    "    val_metrics = evaluator.state.metrics\n",
    "    val_loss = val_metrics[\"loss\"]\n",
    "    val_acc = val_metrics[\"accuracy\"]\n",
    "    history['val loss'].append(val_loss)\n",
    "    history['val acc'].append(val_acc)\n",
    "    \n",
    "    print(\"{}/{} - train: loss {:.3f}; val: loss {:.3f} accuracy {:.3f}\".format(\n",
    "        epoch, max_epochs, train_loss, val_loss, val_acc))"
   ]
  },
  {
   "cell_type": "markdown",
   "metadata": {},
   "source": [
    "### Start training"
   ]
  },
  {
   "cell_type": "code",
   "execution_count": 34,
   "metadata": {},
   "outputs": [
    {
     "name": "stdout",
     "output_type": "stream",
     "text": [
      "1/100 - train: loss 1.851; val: loss 1.831 accuracy 0.331\n",
      "2/100 - train: loss 1.682; val: loss 1.619 accuracy 0.415\n",
      "3/100 - train: loss 1.553; val: loss 1.524 accuracy 0.447\n",
      "4/100 - train: loss 1.479; val: loss 1.443 accuracy 0.469\n",
      "5/100 - train: loss 1.429; val: loss 1.395 accuracy 0.493\n",
      "6/100 - train: loss 1.358; val: loss 1.309 accuracy 0.527\n",
      "7/100 - train: loss 1.278; val: loss 1.260 accuracy 0.548\n",
      "8/100 - train: loss 1.233; val: loss 1.221 accuracy 0.565\n",
      "9/100 - train: loss 1.126; val: loss 1.073 accuracy 0.613\n",
      "10/100 - train: loss 1.020; val: loss 0.987 accuracy 0.648\n",
      "11/100 - train: loss 0.968; val: loss 0.946 accuracy 0.665\n",
      "12/100 - train: loss 0.860; val: loss 0.868 accuracy 0.689\n",
      "13/100 - train: loss 0.822; val: loss 0.816 accuracy 0.713\n",
      "14/100 - train: loss 0.758; val: loss 0.750 accuracy 0.732\n",
      "15/100 - train: loss 0.719; val: loss 0.690 accuracy 0.758\n",
      "16/100 - train: loss 0.659; val: loss 0.644 accuracy 0.775\n",
      "17/100 - train: loss 0.595; val: loss 0.641 accuracy 0.772\n",
      "18/100 - train: loss 0.608; val: loss 0.589 accuracy 0.794\n",
      "19/100 - train: loss 0.557; val: loss 0.573 accuracy 0.804\n",
      "20/100 - train: loss 0.518; val: loss 0.589 accuracy 0.797\n",
      "21/100 - train: loss 0.514; val: loss 0.599 accuracy 0.790\n",
      "22/100 - train: loss 0.502; val: loss 0.548 accuracy 0.810\n",
      "23/100 - train: loss 0.474; val: loss 0.487 accuracy 0.831\n",
      "24/100 - train: loss 0.454; val: loss 0.487 accuracy 0.833\n",
      "25/100 - train: loss 0.431; val: loss 0.523 accuracy 0.829\n",
      "26/100 - train: loss 0.441; val: loss 0.518 accuracy 0.822\n",
      "27/100 - train: loss 0.459; val: loss 0.464 accuracy 0.842\n",
      "28/100 - train: loss 0.418; val: loss 0.441 accuracy 0.850\n",
      "29/100 - train: loss 0.429; val: loss 0.439 accuracy 0.845\n",
      "30/100 - train: loss 0.416; val: loss 0.433 accuracy 0.852\n",
      "31/100 - train: loss 0.383; val: loss 0.437 accuracy 0.853\n",
      "32/100 - train: loss 0.387; val: loss 0.474 accuracy 0.842\n",
      "33/100 - train: loss 0.355; val: loss 0.482 accuracy 0.833\n",
      "34/100 - train: loss 0.356; val: loss 0.453 accuracy 0.848\n",
      "35/100 - train: loss 0.349; val: loss 0.480 accuracy 0.841\n",
      "36/100 - train: loss 0.350; val: loss 0.416 accuracy 0.858\n",
      "37/100 - train: loss 0.370; val: loss 0.401 accuracy 0.862\n",
      "38/100 - train: loss 0.331; val: loss 0.471 accuracy 0.844\n",
      "39/100 - train: loss 0.338; val: loss 0.433 accuracy 0.851\n",
      "40/100 - train: loss 0.349; val: loss 0.433 accuracy 0.854\n",
      "41/100 - train: loss 0.338; val: loss 0.387 accuracy 0.869\n",
      "42/100 - train: loss 0.309; val: loss 0.400 accuracy 0.869\n",
      "43/100 - train: loss 0.312; val: loss 0.419 accuracy 0.865\n",
      "44/100 - train: loss 0.310; val: loss 0.432 accuracy 0.856\n",
      "45/100 - train: loss 0.272; val: loss 0.414 accuracy 0.864\n",
      "46/100 - train: loss 0.252; val: loss 0.393 accuracy 0.871\n",
      "47/100 - train: loss 0.273; val: loss 0.430 accuracy 0.860\n",
      "48/100 - train: loss 0.262; val: loss 0.385 accuracy 0.875\n",
      "49/100 - train: loss 0.254; val: loss 0.396 accuracy 0.874\n",
      "50/100 - train: loss 0.247; val: loss 0.394 accuracy 0.869\n",
      "51/100 - train: loss 0.237; val: loss 0.368 accuracy 0.878\n",
      "52/100 - train: loss 0.227; val: loss 0.432 accuracy 0.867\n",
      "53/100 - train: loss 0.269; val: loss 0.376 accuracy 0.874\n",
      "54/100 - train: loss 0.226; val: loss 0.358 accuracy 0.884\n",
      "55/100 - train: loss 0.216; val: loss 0.423 accuracy 0.868\n",
      "56/100 - train: loss 0.221; val: loss 0.372 accuracy 0.881\n",
      "57/100 - train: loss 0.203; val: loss 0.406 accuracy 0.873\n",
      "58/100 - train: loss 0.204; val: loss 0.340 accuracy 0.890\n",
      "59/100 - train: loss 0.180; val: loss 0.337 accuracy 0.893\n",
      "60/100 - train: loss 0.160; val: loss 0.374 accuracy 0.883\n",
      "61/100 - train: loss 0.166; val: loss 0.349 accuracy 0.889\n",
      "62/100 - train: loss 0.149; val: loss 0.356 accuracy 0.890\n",
      "63/100 - train: loss 0.168; val: loss 0.361 accuracy 0.890\n",
      "64/100 - train: loss 0.139; val: loss 0.432 accuracy 0.870\n",
      "65/100 - train: loss 0.128; val: loss 0.354 accuracy 0.893\n",
      "66/100 - train: loss 0.123; val: loss 0.357 accuracy 0.893\n",
      "67/100 - train: loss 0.122; val: loss 0.367 accuracy 0.890\n",
      "68/100 - train: loss 0.098; val: loss 0.382 accuracy 0.886\n",
      "69/100 - train: loss 0.108; val: loss 0.459 accuracy 0.872\n",
      "70/100 - train: loss 0.090; val: loss 0.363 accuracy 0.895\n",
      "71/100 - train: loss 0.093; val: loss 0.365 accuracy 0.898\n",
      "72/100 - train: loss 0.089; val: loss 0.374 accuracy 0.899\n",
      "73/100 - train: loss 0.070; val: loss 0.383 accuracy 0.900\n",
      "74/100 - train: loss 0.056; val: loss 0.358 accuracy 0.902\n",
      "75/100 - train: loss 0.082; val: loss 0.396 accuracy 0.892\n",
      "76/100 - train: loss 0.051; val: loss 0.373 accuracy 0.903\n",
      "77/100 - train: loss 0.056; val: loss 0.384 accuracy 0.903\n",
      "78/100 - train: loss 0.047; val: loss 0.376 accuracy 0.900\n",
      "79/100 - train: loss 0.042; val: loss 0.377 accuracy 0.904\n",
      "80/100 - train: loss 0.033; val: loss 0.421 accuracy 0.900\n",
      "81/100 - train: loss 0.020; val: loss 0.385 accuracy 0.911\n",
      "82/100 - train: loss 0.019; val: loss 0.387 accuracy 0.907\n",
      "83/100 - train: loss 0.022; val: loss 0.374 accuracy 0.908\n",
      "84/100 - train: loss 0.019; val: loss 0.393 accuracy 0.909\n",
      "85/100 - train: loss 0.012; val: loss 0.397 accuracy 0.911\n",
      "86/100 - train: loss 0.008; val: loss 0.391 accuracy 0.915\n",
      "87/100 - train: loss 0.009; val: loss 0.388 accuracy 0.914\n",
      "88/100 - train: loss 0.008; val: loss 0.391 accuracy 0.917\n",
      "89/100 - train: loss 0.002; val: loss 0.401 accuracy 0.915\n",
      "90/100 - train: loss 0.004; val: loss 0.403 accuracy 0.918\n",
      "91/100 - train: loss 0.003; val: loss 0.409 accuracy 0.915\n",
      "92/100 - train: loss 0.001; val: loss 0.399 accuracy 0.917\n",
      "93/100 - train: loss 0.002; val: loss 0.396 accuracy 0.920\n",
      "94/100 - train: loss 0.001; val: loss 0.393 accuracy 0.924\n",
      "95/100 - train: loss 0.001; val: loss 0.387 accuracy 0.923\n",
      "96/100 - train: loss 0.000; val: loss 0.390 accuracy 0.924\n",
      "97/100 - train: loss 0.000; val: loss 0.392 accuracy 0.923\n",
      "98/100 - train: loss 0.001; val: loss 0.391 accuracy 0.923\n",
      "99/100 - train: loss 0.000; val: loss 0.391 accuracy 0.923\n",
      "100/100 - train: loss 0.001; val: loss 0.391 accuracy 0.923\n"
     ]
    }
   ],
   "source": [
    "trainer.run(train_loader, max_epochs=EPOCHS);"
   ]
  },
  {
   "cell_type": "code",
   "execution_count": 35,
   "metadata": {},
   "outputs": [],
   "source": [
    "def plot_history_train_val(history, key):\n",
    "    fig = plt.figure()\n",
    "    ax = fig.add_subplot(111)\n",
    "    xs = np.arange(1, len(history['train ' + key]) + 1)\n",
    "    ax.plot(xs, history['train ' + key], '.-', label='train')\n",
    "    ax.plot(xs, history['val ' + key], '.-', label='val')\n",
    "    ax.set_xlabel('epoch')\n",
    "    ax.set_ylabel(key)\n",
    "    ax.legend()\n",
    "    ax.grid()\n",
    "    plt.show()"
   ]
  },
  {
   "cell_type": "code",
   "execution_count": 36,
   "metadata": {},
   "outputs": [],
   "source": [
    "def plot_history(history, key):\n",
    "    fig = plt.figure()\n",
    "    ax = fig.add_subplot(111)\n",
    "    xs = np.arange(1, len(history[key]) + 1)\n",
    "    ax.plot(xs, history[key], '-')\n",
    "    ax.set_xlabel('epoch')\n",
    "    ax.set_ylabel(key)\n",
    "    ax.grid()\n",
    "    plt.show()"
   ]
  },
  {
   "cell_type": "code",
   "execution_count": 37,
   "metadata": {},
   "outputs": [
    {
     "data": {
      "image/png": "[encoded data removed]",
      "text/plain": [
       "<Figure size 432x288 with 1 Axes>"
      ]
     },
     "metadata": {
      "needs_background": "light"
     },
     "output_type": "display_data"
    }
   ],
   "source": [
    "plot_history_train_val(history, 'loss')"
   ]
  },
  {
   "cell_type": "code",
   "execution_count": 38,
   "metadata": {
    "tags": []
   },
   "outputs": [
    {
     "data": {
      "image/png": "[encoded data removed]",
      "text/plain": [
       "<Figure size 432x288 with 1 Axes>"
      ]
     },
     "metadata": {
      "needs_background": "light"
     },
     "output_type": "display_data"
    }
   ],
   "source": [
    "plot_history(history, 'val acc')"
   ]
  }
 ],
 "metadata": {
  "kernelspec": {
   "display_name": "Python 3",
   "language": "python",
   "name": "python3"
  },
  "language_info": {
   "codemirror_mode": {
    "name": "ipython",
    "version": 3
   },
   "file_extension": ".py",
   "mimetype": "text/x-python",
   "name": "python",
   "nbconvert_exporter": "python",
   "pygments_lexer": "ipython3",
   "version": "3.8.10"
  }
 },
 "nbformat": 4,
 "nbformat_minor": 4
}
