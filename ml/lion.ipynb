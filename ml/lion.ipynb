{
 "cells": [
  {
   "cell_type": "markdown",
   "id": "e11845f0-19f7-4dfa-84a1-2318f7e49578",
   "metadata": {
    "tags": []
   },
   "source": [
    "# Lion optimizer"
   ]
  },
  {
   "cell_type": "markdown",
   "id": "1fb4ff6e-efe5-4334-ad6e-8232f6b86708",
   "metadata": {},
   "source": [
    "Lion optimizer, [arXiv:2302.06675 [cs.LG]](https://arxiv.org/abs/2302.06675)"
   ]
  },
  {
   "cell_type": "markdown",
   "id": "216a6805-b190-4bde-b6ba-3454af8ff55f",
   "metadata": {},
   "source": [
    "Implementation https://github.com/google/automl/tree/master/lion"
   ]
  },
  {
   "cell_type": "markdown",
   "id": "e45a6754-0fd2-434e-a7ba-aadec409989b",
   "metadata": {},
   "source": [
    "Algorithm:\n",
    "```python\n",
    "def train(weight, gradient, momentum, lr):\n",
    "    update = interp(gradient, momentum, β1)\n",
    "    update = sign(update)\n",
    "    momentum = interp(gradient, momentum, β2)\n",
    "    weight_decay = weight * λ\n",
    "    update = update + weight_decay\n",
    "    update = update * lr\n",
    "    return update, momentum\n",
    "```"
   ]
  },
  {
   "cell_type": "markdown",
   "id": "69381004-7124-4e7b-8e9b-df7bae224a33",
   "metadata": {},
   "source": [
    "## Configuration"
   ]
  },
  {
   "cell_type": "markdown",
   "id": "f9a9c435-decf-4b3d-917a-ced2ad0e1f30",
   "metadata": {},
   "source": [
    "Imports"
   ]
  },
  {
   "cell_type": "code",
   "execution_count": 1,
   "id": "c57aef75-b1e4-4814-be78-4b5f907a588e",
   "metadata": {},
   "outputs": [],
   "source": [
    "import numpy as np\n",
    "from collections import defaultdict\n",
    "import matplotlib.pyplot as plt\n",
    "\n",
    "import torch\n",
    "import torch.nn as nn\n",
    "import torch.optim as optim\n",
    "import torch.nn.functional as F\n",
    "from torchvision import datasets, transforms\n",
    "\n",
    "from ignite.engine import Events, create_supervised_trainer, create_supervised_evaluator\n",
    "import ignite.metrics\n",
    "import ignite.contrib.handlers"
   ]
  },
  {
   "cell_type": "markdown",
   "id": "36df7fb5-1fdb-4251-90f2-e876fe9c64e4",
   "metadata": {},
   "source": [
    "Configuration"
   ]
  },
  {
   "cell_type": "code",
   "execution_count": 2,
   "id": "de49f1c2-56e0-49ce-a71d-85dec2ca4cd7",
   "metadata": {},
   "outputs": [],
   "source": [
    "DATA_DIR='./data'\n",
    "\n",
    "NUM_CLASSES = 10\n",
    "NUM_WORKERS = 8\n",
    "BATCH_SIZE = 128 # larger batch size is required for Lion\n",
    "EPOCHS = 20\n",
    "LEARNING_RATE = 3e-3 # learning rate should be smaller than for AdamW\n",
    "WEIGHT_DECAY = 1e-3"
   ]
  },
  {
   "cell_type": "code",
   "execution_count": 3,
   "id": "a169e4df-d547-4e17-82ff-69ec5823c109",
   "metadata": {},
   "outputs": [
    {
     "name": "stdout",
     "output_type": "stream",
     "text": [
      "device: cuda\n"
     ]
    }
   ],
   "source": [
    "DEVICE = torch.device(\"cuda\") if torch.cuda.is_available() else torch.device(\"cpu\")\n",
    "print(\"device:\", DEVICE)"
   ]
  },
  {
   "cell_type": "markdown",
   "id": "9aff8912-2aa3-43c2-bb55-66fd5909f03d",
   "metadata": {},
   "source": [
    "## Optimizer"
   ]
  },
  {
   "cell_type": "markdown",
   "id": "fff4d9a4-5c57-4052-9785-eed4015b9c69",
   "metadata": {},
   "source": [
    "Code from https://github.com/google/automl/tree/master/lion"
   ]
  },
  {
   "cell_type": "code",
   "execution_count": 4,
   "id": "4d00ba71-36b3-467c-8d56-3f9e9f8b0251",
   "metadata": {},
   "outputs": [],
   "source": [
    "class Lion(optim.Optimizer):\n",
    "    def __init__(self, params, lr=1e-4, betas=(0.9, 0.99), weight_decay=0.0):\n",
    "        if not 0.0 <= lr:\n",
    "            raise ValueError('Invalid learning rate: {}'.format(lr))\n",
    "        if not 0.0 <= betas[0] < 1.0:\n",
    "            raise ValueError('Invalid beta parameter at index 0: {}'.format(betas[0]))\n",
    "        if not 0.0 <= betas[1] < 1.0:\n",
    "            raise ValueError('Invalid beta parameter at index 1: {}'.format(betas[1]))\n",
    "        defaults = dict(lr=lr, betas=betas, weight_decay=weight_decay)\n",
    "        super().__init__(params, defaults)\n",
    "    \n",
    "    \n",
    "    @torch.no_grad()\n",
    "    def step(self, closure=None):\n",
    "        loss = None\n",
    "        if closure is not None:\n",
    "            with torch.enable_grad():\n",
    "                loss = closure()\n",
    "\n",
    "        for group in self.param_groups:\n",
    "            for p in group['params']:\n",
    "                if p.grad is None:\n",
    "                    continue\n",
    "\n",
    "                p.data.mul_(1 - group['lr'] * group['weight_decay'])\n",
    "\n",
    "                grad = p.grad\n",
    "                state = self.state[p]\n",
    "                if len(state) == 0:\n",
    "                    state['exp_avg'] = torch.zeros_like(p)\n",
    "\n",
    "                exp_avg = state['exp_avg']\n",
    "                beta1, beta2 = group['betas']\n",
    "\n",
    "                update = exp_avg * beta1 + grad * (1 - beta1)\n",
    "                p.add_(torch.sign(update), alpha = -group['lr'])\n",
    "                exp_avg.mul_(beta2).add_(grad, alpha = 1 - beta2)\n",
    "        \n",
    "        return loss"
   ]
  },
  {
   "cell_type": "markdown",
   "id": "c9530a47-7ce5-4f9a-9825-2ec7e742fa68",
   "metadata": {},
   "source": [
    "## Data"
   ]
  },
  {
   "cell_type": "code",
   "execution_count": 5,
   "id": "44d931a9-957e-4b09-99c2-307a52a8ab17",
   "metadata": {},
   "outputs": [],
   "source": [
    "train_transform = transforms.Compose([\n",
    "    transforms.RandomHorizontalFlip(),\n",
    "    transforms.RandomCrop(32, padding=4),\n",
    "    transforms.ColorJitter(brightness=0.2, contrast=0.2, saturation=0.2),\n",
    "    transforms.ToTensor(),\n",
    "    transforms.RandomErasing(p=0.1)\n",
    "])"
   ]
  },
  {
   "cell_type": "code",
   "execution_count": 6,
   "id": "b9ff1f70-b2eb-4547-ac7c-bdfdb3b9c492",
   "metadata": {},
   "outputs": [
    {
     "name": "stdout",
     "output_type": "stream",
     "text": [
      "Files already downloaded and verified\n",
      "Files already downloaded and verified\n"
     ]
    }
   ],
   "source": [
    "train_dset = datasets.CIFAR10(root=DATA_DIR, train=True, download=True, transform=train_transform)\n",
    "test_dset = datasets.CIFAR10(root=DATA_DIR, train=False, download=True, transform=transforms.ToTensor())"
   ]
  },
  {
   "cell_type": "code",
   "execution_count": 7,
   "id": "974eae60-5813-431b-9d94-6848b5a4f8ea",
   "metadata": {},
   "outputs": [],
   "source": [
    "train_loader = torch.utils.data.DataLoader(train_dset, batch_size=BATCH_SIZE, shuffle=True,\n",
    "                                           num_workers=NUM_WORKERS, pin_memory=True)\n",
    "test_loader = torch.utils.data.DataLoader(test_dset, batch_size=BATCH_SIZE, shuffle=False,\n",
    "                                          num_workers=NUM_WORKERS, pin_memory=True)"
   ]
  },
  {
   "cell_type": "code",
   "execution_count": 8,
   "id": "a19e5fbe-8f4b-4999-a2b2-e4f267168977",
   "metadata": {},
   "outputs": [],
   "source": [
    "def dataset_show_image(dset, idx):\n",
    "    X, Y = dset[idx]\n",
    "    title = \"Ground truth: {}\".format(dset.classes[Y])\n",
    "    fig = plt.figure()\n",
    "    ax = fig.add_subplot(111)\n",
    "    ax.set_axis_off()\n",
    "    ax.imshow(np.moveaxis(X.numpy(), 0, -1))\n",
    "    ax.set_title(title)\n",
    "    plt.show()"
   ]
  },
  {
   "cell_type": "code",
   "execution_count": 9,
   "id": "db53574e-dd84-44ca-a3aa-50ed5fb004a0",
   "metadata": {},
   "outputs": [
    {
     "data": {
      "image/png": "[encoded data removed]",
      "text/plain": [
       "<Figure size 432x288 with 1 Axes>"
      ]
     },
     "metadata": {
      "needs_background": "light"
     },
     "output_type": "display_data"
    }
   ],
   "source": [
    "dataset_show_image(test_dset, 1)"
   ]
  },
  {
   "cell_type": "markdown",
   "id": "ea256214-3aff-409a-8204-4b3c9b1a15f2",
   "metadata": {},
   "source": [
    "## Model"
   ]
  },
  {
   "cell_type": "markdown",
   "id": "f40e13b7-72f4-4241-9cab-f29430e05e75",
   "metadata": {},
   "source": [
    "Model architecture based on https://myrtle.ai/learn/how-to-train-your-resnet/ and https://github.com/tysam-code/hlb-CIFAR10"
   ]
  },
  {
   "cell_type": "code",
   "execution_count": 10,
   "id": "904d7200-075f-4b1a-83dd-3a2aa7ba83c2",
   "metadata": {},
   "outputs": [],
   "source": [
    "class ConvBlock(nn.Sequential):\n",
    "    def __init__(self, in_channels, out_channels, kernel_size=3, stride=1, act=True):\n",
    "        padding = (kernel_size - 1) // 2\n",
    "        layers = [\n",
    "            nn.Conv2d(in_channels, out_channels, kernel_size, stride=stride, padding=padding, bias=False),\n",
    "            nn.BatchNorm2d(out_channels)\n",
    "        ]\n",
    "        if act: layers.append(nn.ReLU(inplace=True))\n",
    "        super().__init__(*layers)"
   ]
  },
  {
   "cell_type": "code",
   "execution_count": 11,
   "id": "bea2d23e-ad5f-44f8-98e8-c30acfcf01e9",
   "metadata": {},
   "outputs": [],
   "source": [
    "class ResidualBlock(nn.Module):\n",
    "    def __init__(self, channels):\n",
    "        super().__init__()\n",
    "        self.residual = nn.Sequential(\n",
    "            ConvBlock(channels, channels, 3),\n",
    "            ConvBlock(channels, channels, 3, act=False)\n",
    "        )\n",
    "        self.act = nn.ReLU(inplace=True)\n",
    "        self.γ = nn.Parameter(torch.zeros(1))\n",
    "    \n",
    "    def forward(self, x):\n",
    "        out = x + self.γ * self.residual(x)\n",
    "        out = self.act(out)\n",
    "        return out"
   ]
  },
  {
   "cell_type": "code",
   "execution_count": 12,
   "id": "9e7edaab-4fe1-425e-9fba-65e1fbf9fcf0",
   "metadata": {},
   "outputs": [],
   "source": [
    "class DownBlock(nn.Sequential):\n",
    "    def __init__(self, in_channels, out_channels):\n",
    "        super().__init__(\n",
    "            ConvBlock(in_channels, out_channels, 3),\n",
    "            nn.MaxPool2d(2)\n",
    "        )"
   ]
  },
  {
   "cell_type": "code",
   "execution_count": 13,
   "id": "1e633bc8-b570-4f7e-a679-cb6d3f55690c",
   "metadata": {},
   "outputs": [],
   "source": [
    "class ResidualLayer(nn.Sequential):\n",
    "    def __init__(self, in_channels, out_channels):\n",
    "        super().__init__(\n",
    "            DownBlock(in_channels, out_channels),\n",
    "            ResidualBlock(out_channels)\n",
    "        )"
   ]
  },
  {
   "cell_type": "code",
   "execution_count": 14,
   "id": "a570a9fa-0d02-47f0-8c5f-ec877af91d75",
   "metadata": {},
   "outputs": [],
   "source": [
    "class TemperatureScaler(nn.Module):\n",
    "    def __init__(self, scaling_factor=0.1):\n",
    "        super().__init__()\n",
    "        self.scaler = nn.Parameter(torch.tensor(scaling_factor))\n",
    "\n",
    "    def forward(self, x):\n",
    "        return x * self.scaler"
   ]
  },
  {
   "cell_type": "code",
   "execution_count": 15,
   "id": "e45262b8-8825-412e-b4fb-35184cfa553e",
   "metadata": {},
   "outputs": [],
   "source": [
    "class Head(nn.Sequential):\n",
    "    def __init__(self, in_channels, classes):\n",
    "        super().__init__(\n",
    "            nn.AdaptiveMaxPool2d(1),\n",
    "            nn.Flatten(),\n",
    "            nn.Linear(in_channels, classes),\n",
    "            TemperatureScaler()\n",
    "        )"
   ]
  },
  {
   "cell_type": "code",
   "execution_count": 16,
   "id": "1d9d332c-bdc6-47a1-9178-9bcee5958fba",
   "metadata": {},
   "outputs": [],
   "source": [
    "class Net(nn.Sequential):\n",
    "    def __init__(self, classes, hidden_channels, in_channels=3):\n",
    "        channels = [hidden_channels * 2**num for num in range(4)]\n",
    "        super().__init__(\n",
    "            ConvBlock(in_channels, hidden_channels, 3),\n",
    "            ResidualLayer(channels[0], channels[1]),\n",
    "            DownBlock(channels[1], channels[2]),\n",
    "            ResidualLayer(channels[2], channels[3]),\n",
    "            Head(channels[3], classes)\n",
    "        )"
   ]
  },
  {
   "cell_type": "code",
   "execution_count": 17,
   "id": "3660662b-aa74-4ec1-a64a-f6e609b5bd41",
   "metadata": {},
   "outputs": [],
   "source": [
    "def init_linear(m):\n",
    "    if isinstance(m, (nn.Conv2d, nn.Linear)):\n",
    "        nn.init.kaiming_normal_(m.weight)\n",
    "        if m.bias is not None: nn.init.zeros_(m.bias)"
   ]
  },
  {
   "cell_type": "code",
   "execution_count": 18,
   "id": "59fbbda8-2bfc-4869-8de9-08601a591078",
   "metadata": {},
   "outputs": [],
   "source": [
    "model = Net(NUM_CLASSES, hidden_channels=64).to(DEVICE);"
   ]
  },
  {
   "cell_type": "code",
   "execution_count": 19,
   "id": "749a291e-e94f-468d-baec-dfdb5e5bc504",
   "metadata": {},
   "outputs": [],
   "source": [
    "model.apply(init_linear);"
   ]
  },
  {
   "cell_type": "code",
   "execution_count": 20,
   "id": "67e7591c-583d-4879-b4c1-a2616c6800cd",
   "metadata": {},
   "outputs": [
    {
     "name": "stdout",
     "output_type": "stream",
     "text": [
      "Number of parameters: 6,573,133\n"
     ]
    }
   ],
   "source": [
    "print(\"Number of parameters: {:,}\".format(sum(p.numel() for p in model.parameters())))"
   ]
  },
  {
   "cell_type": "markdown",
   "id": "f321926c-bd0e-4cdb-a9fd-b2f9d7ba4ced",
   "metadata": {},
   "source": [
    "## Training"
   ]
  },
  {
   "cell_type": "code",
   "execution_count": 21,
   "id": "911594a0-96aa-4141-8b63-d08e35b17e20",
   "metadata": {},
   "outputs": [],
   "source": [
    "loss = nn.CrossEntropyLoss(label_smoothing=0.1)"
   ]
  },
  {
   "cell_type": "code",
   "execution_count": 22,
   "id": "921cce85-6993-41b0-af30-4fb16b68b813",
   "metadata": {},
   "outputs": [],
   "source": [
    "optimizer = Lion(model.parameters(), lr=1e-6, weight_decay=WEIGHT_DECAY)"
   ]
  },
  {
   "cell_type": "code",
   "execution_count": 23,
   "id": "a9898d90-1ac7-4c0a-9eff-646021378698",
   "metadata": {},
   "outputs": [],
   "source": [
    "trainer = create_supervised_trainer(model, optimizer, loss, device=DEVICE)"
   ]
  },
  {
   "cell_type": "code",
   "execution_count": 24,
   "id": "3e16a892-b50b-4569-9b3a-c22e9d1d0cb1",
   "metadata": {},
   "outputs": [],
   "source": [
    "lr_scheduler = optim.lr_scheduler.OneCycleLR(optimizer, max_lr=LEARNING_RATE,\n",
    "                                             steps_per_epoch=len(train_loader), epochs=EPOCHS)"
   ]
  },
  {
   "cell_type": "code",
   "execution_count": 25,
   "id": "f1b38edf-1fc1-4cc5-8eca-a2b97fd4fa8e",
   "metadata": {},
   "outputs": [],
   "source": [
    "trainer.add_event_handler(Events.ITERATION_COMPLETED, lambda engine: lr_scheduler.step());"
   ]
  },
  {
   "cell_type": "code",
   "execution_count": 26,
   "id": "bb05c68a-9201-43ff-b74c-677712cd88b0",
   "metadata": {},
   "outputs": [],
   "source": [
    "ignite.metrics.RunningAverage(output_transform=lambda x: x).attach(trainer, \"loss\")"
   ]
  },
  {
   "cell_type": "code",
   "execution_count": 27,
   "id": "33cc803e-5782-4e91-8af8-1620efef3ab2",
   "metadata": {},
   "outputs": [],
   "source": [
    "val_metrics = {\"accuracy\": ignite.metrics.Accuracy(), \"loss\": ignite.metrics.Loss(loss)}"
   ]
  },
  {
   "cell_type": "code",
   "execution_count": 28,
   "id": "ec0a7a68-20d0-40fa-9a06-0b201436ea0d",
   "metadata": {},
   "outputs": [],
   "source": [
    "evaluator = create_supervised_evaluator(model, metrics=val_metrics, device=DEVICE)"
   ]
  },
  {
   "cell_type": "code",
   "execution_count": 29,
   "id": "f6c60b1f-2512-44a3-bb45-d6404b164d62",
   "metadata": {},
   "outputs": [],
   "source": [
    "history = defaultdict(list)"
   ]
  },
  {
   "cell_type": "code",
   "execution_count": 30,
   "id": "e56e2f68-c027-40a6-89c7-88d1582e4e42",
   "metadata": {},
   "outputs": [],
   "source": [
    "@trainer.on(Events.EPOCH_COMPLETED)\n",
    "def log_validation_results(engine):\n",
    "    train_state = engine.state\n",
    "    epoch = train_state.epoch\n",
    "    max_epochs = train_state.max_epochs\n",
    "    train_loss = train_state.metrics[\"loss\"]\n",
    "    history['train loss'].append(train_loss)\n",
    "    \n",
    "    evaluator.run(test_loader)\n",
    "    val_metrics = evaluator.state.metrics\n",
    "    val_loss = val_metrics[\"loss\"]\n",
    "    val_acc = val_metrics[\"accuracy\"]\n",
    "    history['val loss'].append(val_loss)\n",
    "    history['val acc'].append(val_acc)\n",
    "    \n",
    "    print(\"{}/{} - train: loss {:.3f}; val: loss {:.3f} accuracy {:.3f}\".format(\n",
    "        epoch, max_epochs, train_loss, val_loss, val_acc))"
   ]
  },
  {
   "cell_type": "code",
   "execution_count": 31,
   "id": "edb796ed-26e7-4bf6-993a-9e910275fbd9",
   "metadata": {},
   "outputs": [
    {
     "name": "stdout",
     "output_type": "stream",
     "text": [
      "1/20 - train: loss 1.352; val: loss 1.281 accuracy 0.658\n",
      "2/20 - train: loss 1.075; val: loss 1.129 accuracy 0.741\n",
      "3/20 - train: loss 0.978; val: loss 1.003 accuracy 0.797\n",
      "4/20 - train: loss 0.891; val: loss 0.946 accuracy 0.820\n",
      "5/20 - train: loss 0.845; val: loss 0.856 accuracy 0.858\n",
      "6/20 - train: loss 0.793; val: loss 0.824 accuracy 0.874\n",
      "7/20 - train: loss 0.759; val: loss 0.805 accuracy 0.876\n",
      "8/20 - train: loss 0.728; val: loss 0.813 accuracy 0.877\n",
      "9/20 - train: loss 0.705; val: loss 0.745 accuracy 0.903\n",
      "10/20 - train: loss 0.683; val: loss 0.751 accuracy 0.900\n",
      "11/20 - train: loss 0.665; val: loss 0.740 accuracy 0.904\n",
      "12/20 - train: loss 0.654; val: loss 0.725 accuracy 0.911\n",
      "13/20 - train: loss 0.634; val: loss 0.705 accuracy 0.921\n",
      "14/20 - train: loss 0.620; val: loss 0.711 accuracy 0.919\n",
      "15/20 - train: loss 0.598; val: loss 0.698 accuracy 0.919\n",
      "16/20 - train: loss 0.584; val: loss 0.688 accuracy 0.928\n",
      "17/20 - train: loss 0.571; val: loss 0.680 accuracy 0.930\n",
      "18/20 - train: loss 0.557; val: loss 0.668 accuracy 0.935\n",
      "19/20 - train: loss 0.551; val: loss 0.668 accuracy 0.936\n",
      "20/20 - train: loss 0.551; val: loss 0.666 accuracy 0.937\n"
     ]
    }
   ],
   "source": [
    "trainer.run(train_loader, max_epochs=EPOCHS);"
   ]
  },
  {
   "cell_type": "code",
   "execution_count": 32,
   "id": "90543eba-aa07-45c2-8493-457ae9bbca33",
   "metadata": {},
   "outputs": [],
   "source": [
    "def history_plot_train_val(history, key):\n",
    "    fig = plt.figure()\n",
    "    ax = fig.add_subplot(111)\n",
    "    xs = np.arange(1, len(history['train ' + key]) + 1)\n",
    "    ax.plot(xs, history['train ' + key], '.-', label='train')\n",
    "    ax.plot(xs, history['val ' + key], '.-', label='val')\n",
    "    ax.set_xlabel('epoch')\n",
    "    ax.set_ylabel(key)\n",
    "    ax.legend()\n",
    "    ax.grid()\n",
    "    plt.show()"
   ]
  },
  {
   "cell_type": "code",
   "execution_count": 33,
   "id": "5e99406e-12c3-41e4-8de6-63c8279a109c",
   "metadata": {},
   "outputs": [],
   "source": [
    "def history_plot(history, key):\n",
    "    fig = plt.figure()\n",
    "    ax = fig.add_subplot(111)\n",
    "    xs = np.arange(1, len(history[key]) + 1)\n",
    "    ax.plot(xs, history[key], '.-')\n",
    "    ax.set_xlabel('epoch')\n",
    "    ax.set_ylabel(key)\n",
    "    ax.grid()\n",
    "    plt.show()"
   ]
  },
  {
   "cell_type": "code",
   "execution_count": 34,
   "id": "eadf169c-e2ef-45fb-b476-849303783947",
   "metadata": {},
   "outputs": [
    {
     "data": {
      "image/png": "[encoded data removed]",
      "text/plain": [
       "<Figure size 432x288 with 1 Axes>"
      ]
     },
     "metadata": {
      "needs_background": "light"
     },
     "output_type": "display_data"
    }
   ],
   "source": [
    "history_plot_train_val(history, 'loss')"
   ]
  },
  {
   "cell_type": "code",
   "execution_count": 35,
   "id": "004d34c1-c2b6-43d5-a5fb-787ece8e6ae9",
   "metadata": {},
   "outputs": [
    {
     "data": {
      "image/png": "[encoded data removed]",
      "text/plain": [
       "<Figure size 432x288 with 1 Axes>"
      ]
     },
     "metadata": {
      "needs_background": "light"
     },
     "output_type": "display_data"
    }
   ],
   "source": [
    "history_plot(history, 'val acc')"
   ]
  }
 ],
 "metadata": {
  "kernelspec": {
   "display_name": "Python 3",
   "language": "python",
   "name": "python3"
  },
  "language_info": {
   "codemirror_mode": {
    "name": "ipython",
    "version": 3
   },
   "file_extension": ".py",
   "mimetype": "text/x-python",
   "name": "python",
   "nbconvert_exporter": "python",
   "pygments_lexer": "ipython3",
   "version": "3.8.10"
  }
 },
 "nbformat": 4,
 "nbformat_minor": 5
}
