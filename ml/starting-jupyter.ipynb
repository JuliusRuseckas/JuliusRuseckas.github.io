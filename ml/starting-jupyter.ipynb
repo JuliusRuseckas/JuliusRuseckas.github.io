{
 "cells": [
  {
   "cell_type": "markdown",
   "metadata": {},
   "source": [
    "# Getting started with Jupyter"
   ]
  },
  {
   "cell_type": "markdown",
   "metadata": {},
   "source": [
    "Jupyter: https://jupyter.org/"
   ]
  },
  {
   "cell_type": "markdown",
   "metadata": {},
   "source": [
    "### History"
   ]
  },
  {
   "cell_type": "markdown",
   "metadata": {},
   "source": [
    "**1988: Mathematica**\n",
    "\n",
    "https://www.wolfram.com/mathematica/\n",
    "\n",
    "- Created by Stephen Wolfram\n",
    "- Notebook interface designed by Theodore Gray\n",
    "- An all-in-one system: language (Wolfram Language), execution environment, scientific libraries"
   ]
  },
  {
   "cell_type": "markdown",
   "metadata": {},
   "source": [
    "Key architectural details of Mathematica Notebooks:\n",
    "- Two parts to the system: kernel and front-end\n",
    "- The front-end sends the input to the kernel, which returns the result, which is displayed\n",
    "- Mathematica notebooks are objects that can be manipulated by Mathematica programs"
   ]
  },
  {
   "cell_type": "markdown",
   "metadata": {},
   "source": [
    "**2001: IPython**\n",
    "\n",
    "https://ipython.org/\n",
    "\n",
    "Enhanced interactive environment that includes support for data visualization and facilities for distributed and parallel computation"
   ]
  },
  {
   "cell_type": "markdown",
   "metadata": {},
   "source": [
    "**2005: SageMath** (previously **Sage**)\n",
    "\n",
    "https://www.sagemath.org/\n",
    "\n",
    "**SageMath** is a free open-source mathematics software system licensed under the GPL. It builds on top of many existing open-source packages: NumPy, SciPy, matplotlib, Sympy, Maxima, GAP, FLINT, R and many more. Access their combined power through a common, Python-based language or directly via interfaces or wrappers.\n",
    "\n",
    "Mission: Creating a viable free open source alternative to Magma, Maple, Mathematica and Matlab.\n",
    "\n",
    "Created by William Stein"
   ]
  },
  {
   "cell_type": "markdown",
   "metadata": {},
   "source": [
    "**2011: IPython Notebook**"
   ]
  },
  {
   "cell_type": "markdown",
   "metadata": {},
   "source": [
    "**2014: Project Jupyter**\n",
    "\n",
    "https://jupyter.org/\n",
    "\n",
    "Jupyter: Julia, Python, R"
   ]
  },
  {
   "cell_type": "markdown",
   "metadata": {},
   "source": [
    "- rendered by GitHub\n",
    "- support by VS Code python plugin\n",
    "- Google Colab\n",
    "- Kaggle"
   ]
  },
  {
   "cell_type": "markdown",
   "metadata": {},
   "source": [
    "## Installation"
   ]
  },
  {
   "cell_type": "markdown",
   "metadata": {},
   "source": [
    "- With `pip`:\n",
    "```shell\n",
    "pip install jupyterlab\n",
    "```"
   ]
  },
  {
   "cell_type": "markdown",
   "metadata": {},
   "source": [
    "- Comes included in **Anacoda**,  https://www.anaconda.com\n",
    "```shell\n",
    "conda install -c conda-forge jupyterlab\n",
    "```"
   ]
  },
  {
   "cell_type": "markdown",
   "metadata": {},
   "source": [
    "# Starting"
   ]
  },
  {
   "cell_type": "markdown",
   "metadata": {},
   "source": [
    "From the command line:"
   ]
  },
  {
   "cell_type": "markdown",
   "metadata": {},
   "source": [
    "```shell\n",
    "jupyter-notebook\n",
    "```"
   ]
  },
  {
   "cell_type": "markdown",
   "metadata": {},
   "source": [
    "```shell\n",
    "jupyter-lab\n",
    "```"
   ]
  },
  {
   "cell_type": "markdown",
   "metadata": {},
   "source": [
    "On remote host:\n",
    "```shell\n",
    "ssh -L localhost:8888:localhost:8888 <server>\n",
    "```"
   ]
  },
  {
   "cell_type": "markdown",
   "metadata": {},
   "source": [
    "## Jupyter interface"
   ]
  },
  {
   "cell_type": "markdown",
   "metadata": {},
   "source": [
    "- Jupyter Notebook\n",
    "- JupyterLab"
   ]
  },
  {
   "cell_type": "markdown",
   "metadata": {},
   "source": [
    "Two modes: command mode and edit mode"
   ]
  },
  {
   "cell_type": "markdown",
   "metadata": {},
   "source": [
    "Command mode keyboard shortcuts:\n",
    "- a : insert cell above\n",
    "- b : insert cell below\n",
    "- dd : delete selected cell\n",
    "- m : markdown\n",
    "- Enter: edit mode"
   ]
  },
  {
   "cell_type": "markdown",
   "metadata": {},
   "source": [
    "Edit mode:\n",
    "- Tab : code completion or indent\n",
    "- Shift + Tab : tooltip\n",
    "- Esc : command mode"
   ]
  },
  {
   "cell_type": "markdown",
   "metadata": {},
   "source": [
    "## Markdown"
   ]
  },
  {
   "cell_type": "markdown",
   "metadata": {},
   "source": [
    "Section headings:\n",
    "- `# Heading 1`\n",
    "- `## Heading 2`\n",
    "- `## Heading 3`"
   ]
  },
  {
   "cell_type": "markdown",
   "metadata": {},
   "source": [
    "- **bold** : `**...**` or `__...__`\n",
    "- *italic* : `*...*` or `_..._`\n",
    "- **_bold and italic_** : `**_..._**`"
   ]
  },
  {
   "cell_type": "markdown",
   "metadata": {},
   "source": [
    "Lists:\n",
    "- unordered\n",
    "```\n",
    "    - item 1\n",
    "    - item 2\n",
    "```\n",
    "- ordered\n",
    "```\n",
    "    1. item 1\n",
    "    2. item 2\n",
    "```"
   ]
  },
  {
   "cell_type": "markdown",
   "metadata": {},
   "source": [
    "MathJax https://www.mathjax.org/"
   ]
  },
  {
   "cell_type": "markdown",
   "metadata": {},
   "source": [
    "$X_i^j$, see\n",
    "$$\n",
    "a = \\sum_i b_i \\int_c^d f(x)\\,\\mathrm{d}x\n",
    "$$"
   ]
  },
  {
   "cell_type": "markdown",
   "metadata": {},
   "source": [
    "`$...$` for inline math, `$$...$$` for displayed math\n",
    "\\begin{align}\n",
    "\\dot{x} & = \\sigma(y-x) \\\\\n",
    "\\dot{y} & = \\rho x - y - xz \\\\\n",
    "\\dot{z} & = -\\beta z + xy\n",
    "\\end{align}"
   ]
  },
  {
   "cell_type": "markdown",
   "metadata": {},
   "source": [
    "## Examples"
   ]
  },
  {
   "cell_type": "code",
   "execution_count": 1,
   "metadata": {},
   "outputs": [
    {
     "data": {
      "text/plain": [
       "4"
      ]
     },
     "execution_count": 1,
     "metadata": {},
     "output_type": "execute_result"
    }
   ],
   "source": [
    "2+2"
   ]
  },
  {
   "cell_type": "code",
   "execution_count": 2,
   "metadata": {},
   "outputs": [],
   "source": [
    "import numpy as np\n",
    "import matplotlib.pyplot as plt"
   ]
  },
  {
   "cell_type": "code",
   "execution_count": 3,
   "metadata": {},
   "outputs": [],
   "source": [
    "x = np.linspace(0, 20, 100)\n",
    "y = np.sin(x)\n",
    "s = np.abs(np.random.randn(x.shape[0])) * 100"
   ]
  },
  {
   "cell_type": "code",
   "execution_count": 4,
   "metadata": {},
   "outputs": [
    {
     "data": {
      "image/png": "[encoded data removed]",
      "text/plain": [
       "<Figure size 432x288 with 1 Axes>"
      ]
     },
     "metadata": {},
     "output_type": "display_data"
    }
   ],
   "source": [
    "plt.style.use('ggplot')\n",
    "plt.scatter(x, y, c=y, s=s)\n",
    "plt.xlabel('x')\n",
    "plt.ylabel('y')\n",
    "plt.title('Sin')\n",
    "plt.grid(True);"
   ]
  },
  {
   "cell_type": "markdown",
   "metadata": {},
   "source": [
    "## Widgets"
   ]
  },
  {
   "cell_type": "code",
   "execution_count": 5,
   "metadata": {},
   "outputs": [],
   "source": [
    "import ipywidgets as widgets"
   ]
  },
  {
   "cell_type": "code",
   "execution_count": 6,
   "metadata": {},
   "outputs": [],
   "source": [
    "def plot_Lissajous(nx, ny):\n",
    "    N = 400\n",
    "    t = np.linspace(0, 2 * np.pi, N)\n",
    "    x = np.sin(nx * t)\n",
    "    y = np.cos(ny * t)\n",
    "    plt.plot(x, y)\n",
    "    plt.ylim(-1.1, 1.1)\n",
    "    plt.show()"
   ]
  },
  {
   "cell_type": "code",
   "execution_count": 7,
   "metadata": {},
   "outputs": [],
   "source": [
    "wx = widgets.IntSlider(min=0, max=10, value=2, step=1, description=\"nx\")\n",
    "wy = widgets.IntSlider(min=0, max=10, value=3, step=1, description=\"ny\", orientation='vertical')\n",
    "out = widgets.interactive_output(plot_Lissajous, {'nx': wx, 'ny': wy})\n",
    "ui = widgets.HBox([wy, widgets.VBox([out, wx])])"
   ]
  },
  {
   "cell_type": "code",
   "execution_count": 8,
   "metadata": {},
   "outputs": [
    {
     "data": {
      "application/vnd.jupyter.widget-view+json": {
       "model_id": "979bbf81347644aaa8f2bf61996dc289",
       "version_major": 2,
       "version_minor": 0
      },
      "text/plain": [
       "HBox(children=(IntSlider(value=3, description='ny', max=10, orientation='vertical'), VBox(children=(Output(), …"
      ]
     },
     "metadata": {},
     "output_type": "display_data"
    }
   ],
   "source": [
    "ui"
   ]
  },
  {
   "cell_type": "markdown",
   "metadata": {},
   "source": [
    "## Voilà"
   ]
  },
  {
   "cell_type": "markdown",
   "metadata": {},
   "source": [
    "Voilà transforms a Jupyter Notebook into a stand-alone web application"
   ]
  },
  {
   "cell_type": "markdown",
   "metadata": {},
   "source": [
    "```shell\n",
    "voila <path-to-notebook>\n",
    "```"
   ]
  },
  {
   "cell_type": "markdown",
   "metadata": {},
   "source": [
    "Deployment\n",
    "\n",
    "https://mybinder.org/\n",
    "\n",
    "Turn a Git repo into a collection of interactive notebooks"
   ]
  },
  {
   "cell_type": "code",
   "execution_count": null,
   "metadata": {},
   "outputs": [],
   "source": []
  }
 ],
 "metadata": {
  "kernelspec": {
   "display_name": "Python 3",
   "language": "python",
   "name": "python3"
  },
  "language_info": {
   "codemirror_mode": {
    "name": "ipython",
    "version": 3
   },
   "file_extension": ".py",
   "mimetype": "text/x-python",
   "name": "python",
   "nbconvert_exporter": "python",
   "pygments_lexer": "ipython3",
   "version": "3.8.2"
  },
  "widgets": {
   "application/vnd.jupyter.widget-state+json": {
    "state": {
     "027a2242547443aba7df5c414c057160": {
      "model_module": "@jupyter-widgets/controls",
      "model_module_version": "1.5.0",
      "model_name": "SliderStyleModel",
      "state": {
       "description_width": ""
      }
     },
     "1132f4bf8d4a4e848cdc5acaf1bde91f": {
      "model_module": "@jupyter-widgets/controls",
      "model_module_version": "1.5.0",
      "model_name": "HBoxModel",
      "state": {
       "children": [
        "IPY_MODEL_7a2be39819dd49e7a14128e5e60575ec",
        "IPY_MODEL_bbed7c8eece145b3b757d5b21b35c289"
       ],
       "layout": "IPY_MODEL_872b057356d649cba6402ba65bf0df26"
      }
     },
     "1a3a84f44a6a442088d3e741d3e7aa72": {
      "model_module": "@jupyter-widgets/base",
      "model_module_version": "1.2.0",
      "model_name": "LayoutModel",
      "state": {}
     },
     "1eb9b16b15cc4c4aa8b6a85f3ee278c0": {
      "model_module": "@jupyter-widgets/controls",
      "model_module_version": "1.5.0",
      "model_name": "IntSliderModel",
      "state": {
       "description": "nx",
       "layout": "IPY_MODEL_2a23455415ea454fb71c2d8d148f7a8d",
       "max": 10,
       "style": "IPY_MODEL_97203cc4e7a0451db7b2decccdbea4cc",
       "value": 2
      }
     },
     "2a23455415ea454fb71c2d8d148f7a8d": {
      "model_module": "@jupyter-widgets/base",
      "model_module_version": "1.2.0",
      "model_name": "LayoutModel",
      "state": {}
     },
     "32e4893333c84ac89c5774a1d3737155": {
      "model_module": "@jupyter-widgets/base",
      "model_module_version": "1.2.0",
      "model_name": "LayoutModel",
      "state": {}
     },
     "4850ccf0b0274d56b0ffe3bbcd38c14d": {
      "model_module": "@jupyter-widgets/output",
      "model_module_version": "1.0.0",
      "model_name": "OutputModel",
      "state": {
       "layout": "IPY_MODEL_d47cd07757354fcb835dcd53fb192b2d",
       "outputs": [
        {
         "data": {
          "image/png": "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\n",
          "text/plain": "<Figure size 432x288 with 1 Axes>"
         },
         "metadata": {},
         "output_type": "display_data"
        }
       ]
      }
     },
     "7a2be39819dd49e7a14128e5e60575ec": {
      "model_module": "@jupyter-widgets/controls",
      "model_module_version": "1.5.0",
      "model_name": "IntSliderModel",
      "state": {
       "description": "ny",
       "layout": "IPY_MODEL_99bc06f272874024847f38f531697b52",
       "max": 10,
       "orientation": "vertical",
       "style": "IPY_MODEL_fe88b0d0a8a747cd8a4c266aab2d02c1",
       "value": 3
      }
     },
     "7f5158dbd4164b3a9a011c52c98de218": {
      "model_module": "@jupyter-widgets/controls",
      "model_module_version": "1.5.0",
      "model_name": "SliderStyleModel",
      "state": {
       "description_width": ""
      }
     },
     "872b057356d649cba6402ba65bf0df26": {
      "model_module": "@jupyter-widgets/base",
      "model_module_version": "1.2.0",
      "model_name": "LayoutModel",
      "state": {}
     },
     "93dc857ef4dc4a1a8d12b3229d6e5cc0": {
      "model_module": "@jupyter-widgets/output",
      "model_module_version": "1.0.0",
      "model_name": "OutputModel",
      "state": {
       "layout": "IPY_MODEL_da68c11a4689490a9dfa6bb3e7dd00cd",
       "outputs": [
        {
         "data": {
          "image/png": "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\n",
          "text/plain": "<Figure size 432x288 with 1 Axes>"
         },
         "metadata": {},
         "output_type": "display_data"
        }
       ]
      }
     },
     "97203cc4e7a0451db7b2decccdbea4cc": {
      "model_module": "@jupyter-widgets/controls",
      "model_module_version": "1.5.0",
      "model_name": "SliderStyleModel",
      "state": {
       "description_width": ""
      }
     },
     "979bbf81347644aaa8f2bf61996dc289": {
      "model_module": "@jupyter-widgets/controls",
      "model_module_version": "1.5.0",
      "model_name": "HBoxModel",
      "state": {
       "children": [
        "IPY_MODEL_a9536d4c91cf47d38c63ec7e0fc15518",
        "IPY_MODEL_f74378a2e60d4449bb022e9c1007b798"
       ],
       "layout": "IPY_MODEL_a432a2fcddc14f6bb6e051b3b3debbcf"
      }
     },
     "99bc06f272874024847f38f531697b52": {
      "model_module": "@jupyter-widgets/base",
      "model_module_version": "1.2.0",
      "model_name": "LayoutModel",
      "state": {}
     },
     "9a7a56381dc040649cf7dde186c4c849": {
      "model_module": "@jupyter-widgets/controls",
      "model_module_version": "1.5.0",
      "model_name": "IntSliderModel",
      "state": {
       "description": "nx",
       "layout": "IPY_MODEL_1a3a84f44a6a442088d3e741d3e7aa72",
       "max": 10,
       "style": "IPY_MODEL_7f5158dbd4164b3a9a011c52c98de218",
       "value": 2
      }
     },
     "a432a2fcddc14f6bb6e051b3b3debbcf": {
      "model_module": "@jupyter-widgets/base",
      "model_module_version": "1.2.0",
      "model_name": "LayoutModel",
      "state": {}
     },
     "a9536d4c91cf47d38c63ec7e0fc15518": {
      "model_module": "@jupyter-widgets/controls",
      "model_module_version": "1.5.0",
      "model_name": "IntSliderModel",
      "state": {
       "description": "ny",
       "layout": "IPY_MODEL_32e4893333c84ac89c5774a1d3737155",
       "max": 10,
       "orientation": "vertical",
       "style": "IPY_MODEL_027a2242547443aba7df5c414c057160",
       "value": 3
      }
     },
     "bbed7c8eece145b3b757d5b21b35c289": {
      "model_module": "@jupyter-widgets/controls",
      "model_module_version": "1.5.0",
      "model_name": "VBoxModel",
      "state": {
       "children": [
        "IPY_MODEL_4850ccf0b0274d56b0ffe3bbcd38c14d",
        "IPY_MODEL_9a7a56381dc040649cf7dde186c4c849"
       ],
       "layout": "IPY_MODEL_ef4e6c6f1bc6499a9daee34f1264446e"
      }
     },
     "beeaacf4bd854548abe69df56f225269": {
      "model_module": "@jupyter-widgets/base",
      "model_module_version": "1.2.0",
      "model_name": "LayoutModel",
      "state": {}
     },
     "d47cd07757354fcb835dcd53fb192b2d": {
      "model_module": "@jupyter-widgets/base",
      "model_module_version": "1.2.0",
      "model_name": "LayoutModel",
      "state": {}
     },
     "da68c11a4689490a9dfa6bb3e7dd00cd": {
      "model_module": "@jupyter-widgets/base",
      "model_module_version": "1.2.0",
      "model_name": "LayoutModel",
      "state": {}
     },
     "ef4e6c6f1bc6499a9daee34f1264446e": {
      "model_module": "@jupyter-widgets/base",
      "model_module_version": "1.2.0",
      "model_name": "LayoutModel",
      "state": {}
     },
     "f74378a2e60d4449bb022e9c1007b798": {
      "model_module": "@jupyter-widgets/controls",
      "model_module_version": "1.5.0",
      "model_name": "VBoxModel",
      "state": {
       "children": [
        "IPY_MODEL_93dc857ef4dc4a1a8d12b3229d6e5cc0",
        "IPY_MODEL_1eb9b16b15cc4c4aa8b6a85f3ee278c0"
       ],
       "layout": "IPY_MODEL_beeaacf4bd854548abe69df56f225269"
      }
     },
     "fe88b0d0a8a747cd8a4c266aab2d02c1": {
      "model_module": "@jupyter-widgets/controls",
      "model_module_version": "1.5.0",
      "model_name": "SliderStyleModel",
      "state": {
       "description_width": ""
      }
     }
    },
    "version_major": 2,
    "version_minor": 0
   }
  }
 },
 "nbformat": 4,
 "nbformat_minor": 4
}
