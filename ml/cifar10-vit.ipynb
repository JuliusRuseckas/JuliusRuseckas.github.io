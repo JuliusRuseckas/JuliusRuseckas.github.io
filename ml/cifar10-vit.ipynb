{
 "cells": [
  {
   "cell_type": "markdown",
   "metadata": {},
   "source": [
    "# Visual transformer on CIFAR10"
   ]
  },
  {
   "cell_type": "markdown",
   "metadata": {},
   "source": [
    "Main ideas:\n",
    "- convolution with kernel 3x3 before separation of the image into patches\n",
    "- attention with relative position encoding as in CoAtNet, [arXiv:2106.04803 [cs.CV]](https://arxiv.org/abs/2106.04803)\n",
    "- classification head with an additional nonlinearity and averge pooling"
   ]
  },
  {
   "cell_type": "markdown",
   "metadata": {},
   "source": [
    "## Configuration"
   ]
  },
  {
   "cell_type": "markdown",
   "metadata": {},
   "source": [
    "Imports"
   ]
  },
  {
   "cell_type": "code",
   "execution_count": 1,
   "metadata": {},
   "outputs": [],
   "source": [
    "import numpy as np\n",
    "from collections import defaultdict\n",
    "import matplotlib.pyplot as plt\n",
    "\n",
    "import torch\n",
    "import torch.nn as nn\n",
    "import torch.optim as optim\n",
    "import torch.nn.functional as F\n",
    "from torchvision import datasets, transforms\n",
    "\n",
    "from ignite.engine import Events, create_supervised_trainer, create_supervised_evaluator\n",
    "from ignite.utils import convert_tensor\n",
    "import ignite.metrics\n",
    "import ignite.contrib.handlers"
   ]
  },
  {
   "cell_type": "markdown",
   "metadata": {},
   "source": [
    "Configuration"
   ]
  },
  {
   "cell_type": "code",
   "execution_count": 2,
   "metadata": {},
   "outputs": [],
   "source": [
    "DATA_DIR='./data'\n",
    "\n",
    "IMAGE_SIZE = 32\n",
    "\n",
    "NUM_CLASSES = 10\n",
    "NUM_WORKERS = 8\n",
    "BATCH_SIZE = 32\n",
    "EPOCHS = 200\n",
    "\n",
    "LEARNING_RATE = 1e-3\n",
    "WEIGHT_DECAY = 1e-1"
   ]
  },
  {
   "cell_type": "code",
   "execution_count": 3,
   "metadata": {},
   "outputs": [
    {
     "name": "stdout",
     "output_type": "stream",
     "text": [
      "device: cuda\n"
     ]
    }
   ],
   "source": [
    "DEVICE = torch.device(\"cuda\") if torch.cuda.is_available() else torch.device(\"cpu\")\n",
    "print(\"device:\", DEVICE)"
   ]
  },
  {
   "cell_type": "markdown",
   "metadata": {},
   "source": [
    "## Data"
   ]
  },
  {
   "cell_type": "code",
   "execution_count": 4,
   "metadata": {},
   "outputs": [],
   "source": [
    "train_transform = transforms.Compose([\n",
    "    transforms.TrivialAugmentWide(interpolation=transforms.InterpolationMode.BILINEAR),\n",
    "    transforms.RandomHorizontalFlip(),\n",
    "    transforms.RandomCrop(32, padding=4),\n",
    "    transforms.PILToTensor(),\n",
    "    transforms.ConvertImageDtype(torch.float),\n",
    "    transforms.RandomErasing(p=0.1)\n",
    "])"
   ]
  },
  {
   "cell_type": "code",
   "execution_count": 5,
   "metadata": {},
   "outputs": [
    {
     "name": "stdout",
     "output_type": "stream",
     "text": [
      "Files already downloaded and verified\n",
      "Files already downloaded and verified\n"
     ]
    }
   ],
   "source": [
    "train_dset = datasets.CIFAR10(root=DATA_DIR, train=True, download=True, transform=train_transform)\n",
    "test_dset = datasets.CIFAR10(root=DATA_DIR, train=False, download=True, transform=transforms.ToTensor())"
   ]
  },
  {
   "cell_type": "code",
   "execution_count": 6,
   "metadata": {},
   "outputs": [],
   "source": [
    "def dataset_show_image(dset, idx):\n",
    "    X, Y = dset[idx]\n",
    "    title = \"Ground truth: {}\".format(dset.classes[Y])\n",
    "    fig = plt.figure()\n",
    "    ax = fig.add_subplot(111)\n",
    "    ax.set_axis_off()\n",
    "    ax.imshow(np.moveaxis(X.numpy(), 0, -1))\n",
    "    ax.set_title(title)\n",
    "    plt.show()"
   ]
  },
  {
   "cell_type": "code",
   "execution_count": 7,
   "metadata": {},
   "outputs": [
    {
     "data": {
      "image/png": "[encoded data removed]",
      "text/plain": [
       "<Figure size 432x288 with 1 Axes>"
      ]
     },
     "metadata": {
      "needs_background": "light"
     },
     "output_type": "display_data"
    }
   ],
   "source": [
    "dataset_show_image(test_dset, 1)"
   ]
  },
  {
   "cell_type": "code",
   "execution_count": 8,
   "metadata": {},
   "outputs": [],
   "source": [
    "train_loader = torch.utils.data.DataLoader(train_dset, batch_size=BATCH_SIZE, shuffle=True,\n",
    "                                           num_workers=NUM_WORKERS, pin_memory=True)\n",
    "test_loader = torch.utils.data.DataLoader(test_dset, batch_size=BATCH_SIZE, shuffle=False,\n",
    "                                          num_workers=NUM_WORKERS, pin_memory=True)"
   ]
  },
  {
   "cell_type": "markdown",
   "metadata": {},
   "source": [
    "## Model"
   ]
  },
  {
   "cell_type": "markdown",
   "metadata": {},
   "source": [
    "Utilities"
   ]
  },
  {
   "cell_type": "code",
   "execution_count": 9,
   "metadata": {},
   "outputs": [],
   "source": [
    "class Residual(nn.Module):\n",
    "    def __init__(self, *layers):\n",
    "        super().__init__()\n",
    "        self.residual = nn.Sequential(*layers)\n",
    "        self.gamma = nn.Parameter(torch.zeros(1))\n",
    "    \n",
    "    def forward(self, x):\n",
    "        return x + self.gamma * self.residual(x)"
   ]
  },
  {
   "cell_type": "code",
   "execution_count": 10,
   "metadata": {},
   "outputs": [],
   "source": [
    "class LayerNormChannels(nn.Module):\n",
    "    def __init__(self, channels):\n",
    "        super().__init__()\n",
    "        self.norm = nn.LayerNorm(channels)\n",
    "    \n",
    "    def forward(self, x):\n",
    "        x = x.transpose(1, -1)\n",
    "        x = self.norm(x)\n",
    "        x = x.transpose(-1, 1)\n",
    "        return x"
   ]
  },
  {
   "cell_type": "markdown",
   "metadata": {},
   "source": [
    "Transformer"
   ]
  },
  {
   "cell_type": "markdown",
   "metadata": {},
   "source": [
    "Attention"
   ]
  },
  {
   "cell_type": "markdown",
   "metadata": {},
   "source": [
    "$$\n",
    "O = V \\mathrm{softmax}\\left[\\frac{1}{\\sqrt{c}}K^{\\intercal}Q + R\\right]\n",
    "$$"
   ]
  },
  {
   "cell_type": "code",
   "execution_count": 11,
   "metadata": {},
   "outputs": [],
   "source": [
    "class SelfAttention2d(nn.Module):\n",
    "    def __init__(self, in_channels, out_channels, head_channels, shape):\n",
    "        super().__init__()\n",
    "        self.heads = out_channels // head_channels\n",
    "        self.head_channels = head_channels\n",
    "        self.scale = head_channels**-0.5\n",
    "        \n",
    "        self.to_keys = nn.Conv2d(in_channels, out_channels, 1)\n",
    "        self.to_queries = nn.Conv2d(in_channels, out_channels, 1)\n",
    "        self.to_values = nn.Conv2d(in_channels, out_channels, 1)\n",
    "        self.unifyheads = nn.Conv2d(out_channels, out_channels, 1)\n",
    "        \n",
    "        height, width = shape\n",
    "        self.pos_enc = nn.Parameter(torch.Tensor(self.heads, (2 * height - 1) * (2 * width - 1)))\n",
    "        self.register_buffer(\"relative_indices\", self.get_indices(height, width))\n",
    "    \n",
    "    def forward(self, x):\n",
    "        b, _, h, w = x.shape\n",
    "        \n",
    "        keys = self.to_keys(x).view(b, self.heads, self.head_channels, -1)\n",
    "        values = self.to_values(x).view(b, self.heads, self.head_channels, -1)\n",
    "        queries = self.to_queries(x).view(b, self.heads, self.head_channels, -1)\n",
    "        \n",
    "        att = keys.transpose(-2, -1) @ queries\n",
    "        \n",
    "        indices = self.relative_indices.expand(self.heads, -1)\n",
    "        rel_pos_enc = self.pos_enc.gather(-1, indices)\n",
    "        rel_pos_enc = rel_pos_enc.unflatten(-1, (h * w, h * w))\n",
    "        \n",
    "        att = att * self.scale + rel_pos_enc\n",
    "        att = F.softmax(att, dim=-2)\n",
    "        \n",
    "        out = values @ att\n",
    "        out = out.view(b, -1, h, w)\n",
    "        out = self.unifyheads(out)\n",
    "        return out\n",
    "    \n",
    "    @staticmethod\n",
    "    def get_indices(h, w):\n",
    "        y = torch.arange(h, dtype=torch.long)\n",
    "        x = torch.arange(w, dtype=torch.long)\n",
    "        \n",
    "        y1, x1, y2, x2 = torch.meshgrid(y, x, y, x, indexing='ij')\n",
    "        indices = (y1 - y2 + h - 1) * (2 * w - 1) + x1 - x2 + w - 1\n",
    "        indices = indices.flatten()\n",
    "        \n",
    "        return indices"
   ]
  },
  {
   "cell_type": "code",
   "execution_count": 12,
   "metadata": {},
   "outputs": [],
   "source": [
    "class FeedForward(nn.Sequential):\n",
    "    def __init__(self, in_channels, out_channels, mult=4):\n",
    "        hidden_channels = in_channels * mult\n",
    "        super().__init__(\n",
    "            nn.Conv2d(in_channels, hidden_channels, 1),\n",
    "            nn.GELU(),\n",
    "            nn.Conv2d(hidden_channels, out_channels, 1)   \n",
    "        )"
   ]
  },
  {
   "cell_type": "code",
   "execution_count": 13,
   "metadata": {},
   "outputs": [],
   "source": [
    "class TransformerBlock(nn.Sequential):\n",
    "    def __init__(self, channels, head_channels, shape, p_drop=0.):\n",
    "        super().__init__(\n",
    "            Residual(\n",
    "                LayerNormChannels(channels),\n",
    "                SelfAttention2d(channels, channels, head_channels, shape),\n",
    "                nn.Dropout(p_drop)\n",
    "            ),\n",
    "            Residual(\n",
    "                LayerNormChannels(channels),\n",
    "                FeedForward(channels, channels),\n",
    "                nn.Dropout(p_drop)\n",
    "            )\n",
    "        )"
   ]
  },
  {
   "cell_type": "code",
   "execution_count": 14,
   "metadata": {},
   "outputs": [],
   "source": [
    "class TransformerStack(nn.Sequential):\n",
    "    def __init__(self, num_blocks, channels, head_channels, shape, p_drop=0.):\n",
    "        layers = [TransformerBlock(channels, head_channels, shape, p_drop) for _ in range(num_blocks)]\n",
    "        super().__init__(*layers)"
   ]
  },
  {
   "cell_type": "markdown",
   "metadata": {},
   "source": [
    "Embedding of patches"
   ]
  },
  {
   "cell_type": "code",
   "execution_count": 15,
   "metadata": {},
   "outputs": [],
   "source": [
    "class ToPatches(nn.Sequential):\n",
    "    def __init__(self, in_channels, channels, patch_size, hidden_channels=32):\n",
    "        super().__init__(\n",
    "            nn.Conv2d(in_channels, hidden_channels, 3, padding=1),\n",
    "            nn.GELU(),\n",
    "            nn.Conv2d(hidden_channels, channels, patch_size, stride=patch_size)\n",
    "        )"
   ]
  },
  {
   "cell_type": "code",
   "execution_count": 16,
   "metadata": {},
   "outputs": [],
   "source": [
    "class AddPositionEmbedding(nn.Module):\n",
    "    def __init__(self, channels, shape):\n",
    "        super().__init__()\n",
    "        self.pos_embedding = nn.Parameter(torch.Tensor(channels, *shape))\n",
    "    \n",
    "    def forward(self, x):\n",
    "        return x + self.pos_embedding"
   ]
  },
  {
   "cell_type": "code",
   "execution_count": 17,
   "metadata": {},
   "outputs": [],
   "source": [
    "class ToEmbedding(nn.Sequential):\n",
    "    def __init__(self, in_channels, channels, patch_size, shape, p_drop=0.):\n",
    "        super().__init__(\n",
    "            ToPatches(in_channels, channels, patch_size),\n",
    "            AddPositionEmbedding(channels, shape),\n",
    "            nn.Dropout(p_drop)\n",
    "        )"
   ]
  },
  {
   "cell_type": "markdown",
   "metadata": {},
   "source": [
    "Main model"
   ]
  },
  {
   "cell_type": "code",
   "execution_count": 18,
   "metadata": {},
   "outputs": [],
   "source": [
    "class Head(nn.Sequential):\n",
    "    def __init__(self, in_channels, classes, p_drop=0.):\n",
    "        super().__init__(\n",
    "            LayerNormChannels(in_channels),\n",
    "            nn.GELU(),\n",
    "            nn.AdaptiveAvgPool2d(1),\n",
    "            nn.Flatten(),\n",
    "            nn.Dropout(p_drop),\n",
    "            nn.Linear(in_channels, classes)\n",
    "        )"
   ]
  },
  {
   "cell_type": "code",
   "execution_count": 19,
   "metadata": {},
   "outputs": [],
   "source": [
    "class RelViT(nn.Sequential):\n",
    "    def __init__(self, classes, image_size, channels, head_channels, num_blocks, patch_size,\n",
    "                 in_channels=3, emb_p_drop=0., trans_p_drop=0., head_p_drop=0.):\n",
    "        reduced_size = image_size // patch_size\n",
    "        shape = (reduced_size, reduced_size)\n",
    "        super().__init__(\n",
    "            ToEmbedding(in_channels, channels, patch_size, shape, emb_p_drop),\n",
    "            TransformerStack(num_blocks, channels, head_channels, shape, trans_p_drop),\n",
    "            Head(channels, classes, head_p_drop)\n",
    "        )\n",
    "        self.reset_parameters()\n",
    "    \n",
    "    def reset_parameters(self):\n",
    "        for m in self.modules():\n",
    "            if isinstance(m, (nn.Conv2d, nn.Linear)):\n",
    "                nn.init.kaiming_normal_(m.weight)\n",
    "                if m.bias is not None: nn.init.zeros_(m.bias)\n",
    "            elif isinstance(m, nn.LayerNorm):\n",
    "                nn.init.constant_(m.weight, 1.)\n",
    "                nn.init.zeros_(m.bias)\n",
    "            elif isinstance(m, AddPositionEmbedding):\n",
    "                nn.init.normal_(m.pos_embedding, mean=0.0, std=0.02)\n",
    "            elif isinstance(m, SelfAttention2d):\n",
    "                nn.init.normal_(m.pos_enc, mean=0.0, std=0.02)\n",
    "            elif isinstance(m, Residual):\n",
    "                nn.init.zeros_(m.gamma)\n",
    "    \n",
    "    def separate_parameters(self):\n",
    "        parameters_decay = set()\n",
    "        parameters_no_decay = set()\n",
    "        modules_weight_decay = (nn.Linear, nn.Conv2d)\n",
    "        modules_no_weight_decay = (nn.LayerNorm,)\n",
    "\n",
    "        for m_name, m in self.named_modules():\n",
    "            for param_name, param in m.named_parameters():\n",
    "                full_param_name = f\"{m_name}.{param_name}\" if m_name else param_name\n",
    "\n",
    "                if isinstance(m, modules_no_weight_decay):\n",
    "                    parameters_no_decay.add(full_param_name)\n",
    "                elif param_name.endswith(\"bias\"):\n",
    "                    parameters_no_decay.add(full_param_name)\n",
    "                elif isinstance(m, Residual) and param_name.endswith(\"gamma\"):\n",
    "                    parameters_no_decay.add(full_param_name)\n",
    "                elif isinstance(m, AddPositionEmbedding) and param_name.endswith(\"pos_embedding\"):\n",
    "                    parameters_no_decay.add(full_param_name)\n",
    "                elif isinstance(m, SelfAttention2d) and param_name.endswith(\"pos_enc\"):\n",
    "                    parameters_no_decay.add(full_param_name)\n",
    "                elif isinstance(m, modules_weight_decay):\n",
    "                    parameters_decay.add(full_param_name)\n",
    "\n",
    "        # sanity check\n",
    "        assert len(parameters_decay & parameters_no_decay) == 0\n",
    "        assert len(parameters_decay) + len(parameters_no_decay) == len(list(model.parameters()))\n",
    "\n",
    "        return parameters_decay, parameters_no_decay"
   ]
  },
  {
   "cell_type": "code",
   "execution_count": 20,
   "metadata": {},
   "outputs": [],
   "source": [
    "model = RelViT(NUM_CLASSES, IMAGE_SIZE, channels=256, head_channels=32, num_blocks=8, patch_size=2,\n",
    "               emb_p_drop=0., trans_p_drop=0., head_p_drop=0.3)"
   ]
  },
  {
   "cell_type": "code",
   "execution_count": 21,
   "metadata": {},
   "outputs": [],
   "source": [
    "model.to(DEVICE);"
   ]
  },
  {
   "cell_type": "code",
   "execution_count": 22,
   "metadata": {},
   "outputs": [
    {
     "name": "stdout",
     "output_type": "stream",
     "text": [
      "Number of parameters: 6,482,138\n"
     ]
    }
   ],
   "source": [
    "print(\"Number of parameters: {:,}\".format(sum(p.numel() for p in model.parameters())))"
   ]
  },
  {
   "cell_type": "markdown",
   "metadata": {},
   "source": [
    "## CutMix"
   ]
  },
  {
   "cell_type": "code",
   "execution_count": 23,
   "metadata": {},
   "outputs": [],
   "source": [
    "def reduce_loss(loss, reduction='mean'):\n",
    "    return loss.mean() if reduction=='mean' else loss.sum() if reduction=='sum' else loss"
   ]
  },
  {
   "cell_type": "code",
   "execution_count": 24,
   "metadata": {},
   "outputs": [],
   "source": [
    "class CutMix(nn.Module):\n",
    "    def __init__(self, loss, α=1.0):\n",
    "        super().__init__()\n",
    "        self.loss = loss\n",
    "        self.α = α\n",
    "        self.rng = np.random.default_rng()\n",
    "    \n",
    "    def prepare_batch(self, batch, device, non_blocking):\n",
    "        x, y = batch\n",
    "        x = convert_tensor(x, device=device, non_blocking=non_blocking)\n",
    "        y = convert_tensor(y, device=device, non_blocking=non_blocking)\n",
    "        \n",
    "        batch_size = x.size(0)\n",
    "        self.index = torch.randperm(batch_size).to(device)\n",
    "        \n",
    "        self.λ = self.rng.beta(self.α, self.α)\n",
    "        y1, x1, y2, x2 = self.cut_bounding_box(x.shape[-2:], self.λ)\n",
    "        x[:, :, y1:y2, x1:x2] = x[self.index, :, y1:y2, x1:x2]\n",
    "                \n",
    "        # adjust lambda to exactly match pixel ratio\n",
    "        area = x.size(2) * x.size(3)\n",
    "        self.λ = 1. - (x2 - x1) * (y2 - y1) / area\n",
    "        return x, y\n",
    "    \n",
    "    def cut_bounding_box(self, shape, λ):\n",
    "        cut_size_2 = 0.5 * np.sqrt(1. - λ)\n",
    "        center_yx = self.rng.random(2)\n",
    "        \n",
    "        y1x1 = (np.clip(center_yx - cut_size_2, 0., 1.) * shape).astype(int)\n",
    "        y2x2 = (np.clip(center_yx + cut_size_2, 0., 1.) * shape).astype(int)\n",
    "        return np.concatenate((y1x1, y2x2))\n",
    "        \n",
    "    def forward(self, pred, target):\n",
    "        orig_reduction = self.loss.reduction\n",
    "        self.loss.reduction = 'none'\n",
    "        batch_loss = self.λ * self.loss(pred, target) + (1. - self.λ) * self.loss(pred, target[self.index])\n",
    "        self.loss.reduction = orig_reduction\n",
    "        return reduce_loss(batch_loss, orig_reduction)"
   ]
  },
  {
   "cell_type": "markdown",
   "metadata": {},
   "source": [
    "## Training"
   ]
  },
  {
   "cell_type": "markdown",
   "metadata": {},
   "source": [
    "### Optimizer"
   ]
  },
  {
   "cell_type": "code",
   "execution_count": 25,
   "metadata": {},
   "outputs": [],
   "source": [
    "def get_optimizer(model, learning_rate, weight_decay):\n",
    "    param_dict = {pn: p for pn, p in model.named_parameters()}\n",
    "    parameters_decay, parameters_no_decay = model.separate_parameters()\n",
    "    \n",
    "    optim_groups = [\n",
    "        {\"params\": [param_dict[pn] for pn in parameters_decay], \"weight_decay\": weight_decay},\n",
    "        {\"params\": [param_dict[pn] for pn in parameters_no_decay], \"weight_decay\": 0.0},\n",
    "    ]\n",
    "    optimizer = optim.AdamW(optim_groups, lr=learning_rate)\n",
    "    return optimizer"
   ]
  },
  {
   "cell_type": "markdown",
   "metadata": {},
   "source": [
    "### Setup trainer"
   ]
  },
  {
   "cell_type": "code",
   "execution_count": 26,
   "metadata": {},
   "outputs": [],
   "source": [
    "loss = nn.CrossEntropyLoss(label_smoothing=0.1)"
   ]
  },
  {
   "cell_type": "code",
   "execution_count": 27,
   "metadata": {},
   "outputs": [],
   "source": [
    "cutmix = CutMix(loss, α=1.0)"
   ]
  },
  {
   "cell_type": "code",
   "execution_count": 28,
   "metadata": {
    "tags": []
   },
   "outputs": [],
   "source": [
    "optimizer = get_optimizer(model, learning_rate=LEARNING_RATE, weight_decay=WEIGHT_DECAY)"
   ]
  },
  {
   "cell_type": "code",
   "execution_count": 29,
   "metadata": {
    "tags": []
   },
   "outputs": [],
   "source": [
    "trainer = create_supervised_trainer(model, optimizer, cutmix, device=DEVICE, prepare_batch=cutmix.prepare_batch)"
   ]
  },
  {
   "cell_type": "code",
   "execution_count": 30,
   "metadata": {
    "tags": []
   },
   "outputs": [],
   "source": [
    "lr_scheduler = optim.lr_scheduler.OneCycleLR(optimizer, max_lr=LEARNING_RATE,\n",
    "                                             steps_per_epoch=len(train_loader), epochs=EPOCHS)"
   ]
  },
  {
   "cell_type": "code",
   "execution_count": 31,
   "metadata": {
    "tags": []
   },
   "outputs": [],
   "source": [
    "trainer.add_event_handler(Events.ITERATION_COMPLETED, lambda engine: lr_scheduler.step());"
   ]
  },
  {
   "cell_type": "code",
   "execution_count": 32,
   "metadata": {
    "tags": []
   },
   "outputs": [],
   "source": [
    "ignite.metrics.RunningAverage(output_transform=lambda x: x).attach(trainer, \"loss\")"
   ]
  },
  {
   "cell_type": "code",
   "execution_count": 33,
   "metadata": {
    "tags": []
   },
   "outputs": [],
   "source": [
    "val_metrics = {\"accuracy\": ignite.metrics.Accuracy(), \"loss\": ignite.metrics.Loss(loss)}"
   ]
  },
  {
   "cell_type": "code",
   "execution_count": 34,
   "metadata": {
    "tags": []
   },
   "outputs": [],
   "source": [
    "evaluator = create_supervised_evaluator(model, metrics=val_metrics, device=DEVICE)"
   ]
  },
  {
   "cell_type": "code",
   "execution_count": 35,
   "metadata": {
    "tags": []
   },
   "outputs": [],
   "source": [
    "history = defaultdict(list)"
   ]
  },
  {
   "cell_type": "code",
   "execution_count": 36,
   "metadata": {
    "tags": []
   },
   "outputs": [],
   "source": [
    "@trainer.on(Events.EPOCH_COMPLETED)\n",
    "def log_validation_results(engine):\n",
    "    train_state = engine.state\n",
    "    epoch = train_state.epoch\n",
    "    max_epochs = train_state.max_epochs\n",
    "    train_loss = train_state.metrics[\"loss\"]\n",
    "    history['train loss'].append(train_loss)\n",
    "    \n",
    "    evaluator.run(test_loader)\n",
    "    val_metrics = evaluator.state.metrics\n",
    "    val_loss = val_metrics[\"loss\"]\n",
    "    val_acc = val_metrics[\"accuracy\"]\n",
    "    history['val loss'].append(val_loss)\n",
    "    history['val acc'].append(val_acc)\n",
    "    \n",
    "    print(\"{}/{} - train: loss {:.3f}; val: loss {:.3f} accuracy {:.3f}\".format(\n",
    "        epoch, max_epochs, train_loss, val_loss, val_acc))"
   ]
  },
  {
   "cell_type": "markdown",
   "metadata": {},
   "source": [
    "### Start training"
   ]
  },
  {
   "cell_type": "code",
   "execution_count": 39,
   "metadata": {
    "execution": {
     "iopub.execute_input": "2021-12-02T11:59:50.516995Z",
     "iopub.status.busy": "2021-12-02T11:59:50.516655Z",
     "iopub.status.idle": "2021-12-03T01:07:22.761861Z",
     "shell.execute_reply": "2021-12-03T01:07:22.762074Z"
    }
   },
   "outputs": [
    {
     "name": "stdout",
     "output_type": "stream",
     "text": [
      "1/200 - train: loss 2.203; val: loss 2.018 accuracy 0.299\n",
      "2/200 - train: loss 2.143; val: loss 1.856 accuracy 0.368\n",
      "3/200 - train: loss 2.111; val: loss 1.757 accuracy 0.448\n",
      "4/200 - train: loss 2.042; val: loss 1.635 accuracy 0.484\n",
      "5/200 - train: loss 2.033; val: loss 1.530 accuracy 0.549\n",
      "6/200 - train: loss 1.980; val: loss 1.472 accuracy 0.553\n",
      "7/200 - train: loss 1.945; val: loss 1.435 accuracy 0.576\n",
      "8/200 - train: loss 1.950; val: loss 1.382 accuracy 0.607\n",
      "9/200 - train: loss 1.948; val: loss 1.388 accuracy 0.611\n",
      "10/200 - train: loss 1.896; val: loss 1.351 accuracy 0.620\n",
      "11/200 - train: loss 1.915; val: loss 1.356 accuracy 0.614\n",
      "12/200 - train: loss 1.917; val: loss 1.309 accuracy 0.648\n",
      "13/200 - train: loss 1.875; val: loss 1.258 accuracy 0.662\n",
      "14/200 - train: loss 1.902; val: loss 1.265 accuracy 0.675\n",
      "15/200 - train: loss 1.867; val: loss 1.261 accuracy 0.660\n",
      "16/200 - train: loss 1.830; val: loss 1.230 accuracy 0.678\n",
      "17/200 - train: loss 1.874; val: loss 1.215 accuracy 0.692\n",
      "18/200 - train: loss 1.839; val: loss 1.178 accuracy 0.704\n",
      "19/200 - train: loss 1.853; val: loss 1.204 accuracy 0.693\n",
      "20/200 - train: loss 1.839; val: loss 1.150 accuracy 0.729\n",
      "21/200 - train: loss 1.862; val: loss 1.207 accuracy 0.700\n",
      "22/200 - train: loss 1.860; val: loss 1.179 accuracy 0.699\n",
      "23/200 - train: loss 1.857; val: loss 1.137 accuracy 0.729\n",
      "24/200 - train: loss 1.827; val: loss 1.122 accuracy 0.731\n",
      "25/200 - train: loss 1.822; val: loss 1.215 accuracy 0.678\n",
      "26/200 - train: loss 1.835; val: loss 1.201 accuracy 0.691\n",
      "27/200 - train: loss 1.819; val: loss 1.137 accuracy 0.718\n",
      "28/200 - train: loss 1.841; val: loss 1.129 accuracy 0.726\n",
      "29/200 - train: loss 1.821; val: loss 1.142 accuracy 0.720\n",
      "30/200 - train: loss 1.775; val: loss 1.138 accuracy 0.720\n",
      "31/200 - train: loss 1.786; val: loss 1.132 accuracy 0.727\n",
      "32/200 - train: loss 1.785; val: loss 1.124 accuracy 0.728\n",
      "33/200 - train: loss 1.820; val: loss 1.112 accuracy 0.743\n",
      "34/200 - train: loss 1.783; val: loss 1.100 accuracy 0.752\n",
      "35/200 - train: loss 1.820; val: loss 1.077 accuracy 0.762\n",
      "36/200 - train: loss 1.791; val: loss 1.075 accuracy 0.755\n",
      "37/200 - train: loss 1.796; val: loss 1.072 accuracy 0.765\n",
      "38/200 - train: loss 1.754; val: loss 1.064 accuracy 0.752\n",
      "39/200 - train: loss 1.794; val: loss 1.066 accuracy 0.763\n",
      "40/200 - train: loss 1.817; val: loss 1.073 accuracy 0.763\n",
      "41/200 - train: loss 1.749; val: loss 1.067 accuracy 0.754\n",
      "42/200 - train: loss 1.778; val: loss 1.065 accuracy 0.757\n",
      "43/200 - train: loss 1.760; val: loss 1.053 accuracy 0.759\n",
      "44/200 - train: loss 1.764; val: loss 1.003 accuracy 0.785\n",
      "45/200 - train: loss 1.716; val: loss 1.033 accuracy 0.769\n",
      "46/200 - train: loss 1.733; val: loss 1.020 accuracy 0.772\n",
      "47/200 - train: loss 1.742; val: loss 1.067 accuracy 0.763\n",
      "48/200 - train: loss 1.720; val: loss 0.970 accuracy 0.804\n",
      "49/200 - train: loss 1.748; val: loss 1.012 accuracy 0.786\n",
      "50/200 - train: loss 1.739; val: loss 0.994 accuracy 0.794\n",
      "51/200 - train: loss 1.708; val: loss 0.970 accuracy 0.798\n",
      "52/200 - train: loss 1.693; val: loss 0.963 accuracy 0.805\n",
      "53/200 - train: loss 1.734; val: loss 1.074 accuracy 0.750\n",
      "54/200 - train: loss 1.713; val: loss 0.945 accuracy 0.810\n",
      "55/200 - train: loss 1.757; val: loss 1.020 accuracy 0.785\n",
      "56/200 - train: loss 1.648; val: loss 0.905 accuracy 0.830\n",
      "57/200 - train: loss 1.703; val: loss 0.953 accuracy 0.814\n",
      "58/200 - train: loss 1.662; val: loss 0.952 accuracy 0.807\n",
      "59/200 - train: loss 1.683; val: loss 0.932 accuracy 0.819\n",
      "60/200 - train: loss 1.634; val: loss 0.973 accuracy 0.800\n",
      "61/200 - train: loss 1.683; val: loss 0.904 accuracy 0.834\n",
      "62/200 - train: loss 1.695; val: loss 0.887 accuracy 0.844\n",
      "63/200 - train: loss 1.651; val: loss 0.888 accuracy 0.836\n",
      "64/200 - train: loss 1.643; val: loss 0.871 accuracy 0.845\n",
      "65/200 - train: loss 1.657; val: loss 0.965 accuracy 0.796\n",
      "66/200 - train: loss 1.587; val: loss 0.921 accuracy 0.820\n",
      "67/200 - train: loss 1.626; val: loss 0.876 accuracy 0.844\n",
      "68/200 - train: loss 1.636; val: loss 0.880 accuracy 0.841\n",
      "69/200 - train: loss 1.653; val: loss 0.889 accuracy 0.835\n",
      "70/200 - train: loss 1.641; val: loss 0.893 accuracy 0.838\n",
      "71/200 - train: loss 1.596; val: loss 0.848 accuracy 0.856\n",
      "72/200 - train: loss 1.623; val: loss 0.846 accuracy 0.860\n",
      "73/200 - train: loss 1.614; val: loss 0.825 accuracy 0.864\n",
      "74/200 - train: loss 1.630; val: loss 0.825 accuracy 0.868\n",
      "75/200 - train: loss 1.608; val: loss 0.837 accuracy 0.860\n",
      "76/200 - train: loss 1.581; val: loss 0.865 accuracy 0.850\n",
      "77/200 - train: loss 1.603; val: loss 0.852 accuracy 0.852\n",
      "78/200 - train: loss 1.548; val: loss 0.856 accuracy 0.846\n",
      "79/200 - train: loss 1.561; val: loss 0.831 accuracy 0.865\n",
      "80/200 - train: loss 1.555; val: loss 0.810 accuracy 0.870\n",
      "81/200 - train: loss 1.599; val: loss 0.807 accuracy 0.878\n",
      "82/200 - train: loss 1.572; val: loss 0.799 accuracy 0.872\n",
      "83/200 - train: loss 1.587; val: loss 0.826 accuracy 0.865\n",
      "84/200 - train: loss 1.574; val: loss 0.836 accuracy 0.853\n",
      "85/200 - train: loss 1.629; val: loss 0.820 accuracy 0.877\n",
      "86/200 - train: loss 1.564; val: loss 0.792 accuracy 0.879\n",
      "87/200 - train: loss 1.573; val: loss 0.804 accuracy 0.875\n",
      "88/200 - train: loss 1.563; val: loss 0.796 accuracy 0.876\n",
      "89/200 - train: loss 1.551; val: loss 0.794 accuracy 0.880\n",
      "90/200 - train: loss 1.567; val: loss 0.791 accuracy 0.881\n",
      "91/200 - train: loss 1.564; val: loss 0.829 accuracy 0.862\n",
      "92/200 - train: loss 1.573; val: loss 0.792 accuracy 0.878\n",
      "93/200 - train: loss 1.546; val: loss 0.763 accuracy 0.891\n",
      "94/200 - train: loss 1.566; val: loss 0.791 accuracy 0.878\n",
      "95/200 - train: loss 1.565; val: loss 0.819 accuracy 0.869\n",
      "96/200 - train: loss 1.526; val: loss 0.832 accuracy 0.858\n",
      "97/200 - train: loss 1.544; val: loss 0.778 accuracy 0.888\n",
      "98/200 - train: loss 1.534; val: loss 0.761 accuracy 0.891\n",
      "99/200 - train: loss 1.545; val: loss 0.782 accuracy 0.887\n",
      "100/200 - train: loss 1.502; val: loss 0.761 accuracy 0.891\n",
      "101/200 - train: loss 1.556; val: loss 0.776 accuracy 0.884\n",
      "102/200 - train: loss 1.521; val: loss 0.762 accuracy 0.892\n",
      "103/200 - train: loss 1.491; val: loss 0.765 accuracy 0.889\n",
      "104/200 - train: loss 1.551; val: loss 0.803 accuracy 0.877\n",
      "105/200 - train: loss 1.522; val: loss 0.785 accuracy 0.876\n",
      "106/200 - train: loss 1.476; val: loss 0.762 accuracy 0.890\n",
      "107/200 - train: loss 1.527; val: loss 0.750 accuracy 0.899\n",
      "108/200 - train: loss 1.505; val: loss 0.737 accuracy 0.899\n",
      "109/200 - train: loss 1.533; val: loss 0.745 accuracy 0.896\n",
      "110/200 - train: loss 1.502; val: loss 0.776 accuracy 0.886\n",
      "111/200 - train: loss 1.472; val: loss 0.725 accuracy 0.907\n",
      "112/200 - train: loss 1.474; val: loss 0.733 accuracy 0.905\n",
      "113/200 - train: loss 1.516; val: loss 0.760 accuracy 0.892\n",
      "114/200 - train: loss 1.499; val: loss 0.719 accuracy 0.911\n",
      "115/200 - train: loss 1.462; val: loss 0.727 accuracy 0.906\n",
      "116/200 - train: loss 1.452; val: loss 0.722 accuracy 0.906\n",
      "117/200 - train: loss 1.473; val: loss 0.750 accuracy 0.890\n",
      "118/200 - train: loss 1.487; val: loss 0.739 accuracy 0.900\n",
      "119/200 - train: loss 1.490; val: loss 0.729 accuracy 0.905\n",
      "120/200 - train: loss 1.436; val: loss 0.731 accuracy 0.902\n",
      "121/200 - train: loss 1.487; val: loss 0.731 accuracy 0.903\n",
      "122/200 - train: loss 1.442; val: loss 0.705 accuracy 0.914\n",
      "123/200 - train: loss 1.445; val: loss 0.745 accuracy 0.895\n",
      "124/200 - train: loss 1.423; val: loss 0.701 accuracy 0.917\n",
      "125/200 - train: loss 1.445; val: loss 0.707 accuracy 0.911\n",
      "126/200 - train: loss 1.380; val: loss 0.699 accuracy 0.916\n",
      "127/200 - train: loss 1.461; val: loss 0.704 accuracy 0.913\n",
      "128/200 - train: loss 1.433; val: loss 0.693 accuracy 0.916\n",
      "129/200 - train: loss 1.425; val: loss 0.703 accuracy 0.914\n",
      "130/200 - train: loss 1.416; val: loss 0.679 accuracy 0.928\n",
      "131/200 - train: loss 1.404; val: loss 0.671 accuracy 0.930\n",
      "132/200 - train: loss 1.440; val: loss 0.688 accuracy 0.928\n",
      "133/200 - train: loss 1.440; val: loss 0.704 accuracy 0.912\n",
      "134/200 - train: loss 1.421; val: loss 0.694 accuracy 0.922\n",
      "135/200 - train: loss 1.406; val: loss 0.668 accuracy 0.933\n",
      "136/200 - train: loss 1.419; val: loss 0.707 accuracy 0.914\n",
      "137/200 - train: loss 1.427; val: loss 0.668 accuracy 0.931\n",
      "138/200 - train: loss 1.379; val: loss 0.670 accuracy 0.930\n",
      "139/200 - train: loss 1.420; val: loss 0.675 accuracy 0.931\n",
      "140/200 - train: loss 1.371; val: loss 0.665 accuracy 0.933\n",
      "141/200 - train: loss 1.359; val: loss 0.666 accuracy 0.932\n",
      "142/200 - train: loss 1.412; val: loss 0.655 accuracy 0.935\n",
      "143/200 - train: loss 1.378; val: loss 0.666 accuracy 0.935\n",
      "144/200 - train: loss 1.378; val: loss 0.648 accuracy 0.938\n",
      "145/200 - train: loss 1.331; val: loss 0.661 accuracy 0.934\n",
      "146/200 - train: loss 1.340; val: loss 0.641 accuracy 0.942\n",
      "147/200 - train: loss 1.353; val: loss 0.660 accuracy 0.935\n",
      "148/200 - train: loss 1.358; val: loss 0.644 accuracy 0.944\n",
      "149/200 - train: loss 1.351; val: loss 0.646 accuracy 0.941\n",
      "150/200 - train: loss 1.343; val: loss 0.648 accuracy 0.937\n",
      "151/200 - train: loss 1.342; val: loss 0.633 accuracy 0.944\n",
      "152/200 - train: loss 1.347; val: loss 0.643 accuracy 0.943\n",
      "153/200 - train: loss 1.341; val: loss 0.648 accuracy 0.937\n",
      "154/200 - train: loss 1.308; val: loss 0.638 accuracy 0.942\n",
      "155/200 - train: loss 1.304; val: loss 0.635 accuracy 0.944\n",
      "156/200 - train: loss 1.347; val: loss 0.628 accuracy 0.948\n",
      "157/200 - train: loss 1.301; val: loss 0.621 accuracy 0.952\n",
      "158/200 - train: loss 1.319; val: loss 0.616 accuracy 0.954\n",
      "159/200 - train: loss 1.328; val: loss 0.617 accuracy 0.953\n",
      "160/200 - train: loss 1.302; val: loss 0.620 accuracy 0.953\n",
      "161/200 - train: loss 1.290; val: loss 0.618 accuracy 0.953\n",
      "162/200 - train: loss 1.268; val: loss 0.615 accuracy 0.954\n",
      "163/200 - train: loss 1.276; val: loss 0.616 accuracy 0.953\n",
      "164/200 - train: loss 1.249; val: loss 0.611 accuracy 0.957\n",
      "165/200 - train: loss 1.224; val: loss 0.607 accuracy 0.957\n",
      "166/200 - train: loss 1.258; val: loss 0.610 accuracy 0.954\n",
      "167/200 - train: loss 1.255; val: loss 0.604 accuracy 0.957\n",
      "168/200 - train: loss 1.250; val: loss 0.607 accuracy 0.955\n",
      "169/200 - train: loss 1.218; val: loss 0.598 accuracy 0.961\n",
      "170/200 - train: loss 1.248; val: loss 0.593 accuracy 0.963\n",
      "171/200 - train: loss 1.251; val: loss 0.593 accuracy 0.964\n",
      "172/200 - train: loss 1.269; val: loss 0.595 accuracy 0.962\n",
      "173/200 - train: loss 1.239; val: loss 0.592 accuracy 0.963\n",
      "174/200 - train: loss 1.255; val: loss 0.595 accuracy 0.963\n",
      "175/200 - train: loss 1.262; val: loss 0.589 accuracy 0.966\n",
      "176/200 - train: loss 1.216; val: loss 0.591 accuracy 0.964\n",
      "177/200 - train: loss 1.211; val: loss 0.587 accuracy 0.965\n",
      "178/200 - train: loss 1.220; val: loss 0.587 accuracy 0.964\n",
      "179/200 - train: loss 1.215; val: loss 0.582 accuracy 0.968\n",
      "180/200 - train: loss 1.189; val: loss 0.581 accuracy 0.967\n",
      "181/200 - train: loss 1.197; val: loss 0.580 accuracy 0.968\n",
      "182/200 - train: loss 1.157; val: loss 0.581 accuracy 0.967\n",
      "183/200 - train: loss 1.150; val: loss 0.575 accuracy 0.968\n",
      "184/200 - train: loss 1.212; val: loss 0.575 accuracy 0.972\n",
      "185/200 - train: loss 1.205; val: loss 0.576 accuracy 0.969\n",
      "186/200 - train: loss 1.180; val: loss 0.575 accuracy 0.970\n",
      "187/200 - train: loss 1.171; val: loss 0.574 accuracy 0.971\n",
      "188/200 - train: loss 1.200; val: loss 0.571 accuracy 0.972\n",
      "189/200 - train: loss 1.171; val: loss 0.571 accuracy 0.971\n",
      "190/200 - train: loss 1.160; val: loss 0.570 accuracy 0.972\n",
      "191/200 - train: loss 1.161; val: loss 0.572 accuracy 0.971\n",
      "192/200 - train: loss 1.167; val: loss 0.571 accuracy 0.971\n",
      "193/200 - train: loss 1.174; val: loss 0.570 accuracy 0.972\n",
      "194/200 - train: loss 1.199; val: loss 0.572 accuracy 0.971\n",
      "195/200 - train: loss 1.170; val: loss 0.572 accuracy 0.971\n",
      "196/200 - train: loss 1.138; val: loss 0.570 accuracy 0.971\n",
      "197/200 - train: loss 1.211; val: loss 0.570 accuracy 0.971\n",
      "198/200 - train: loss 1.183; val: loss 0.570 accuracy 0.971\n",
      "199/200 - train: loss 1.173; val: loss 0.570 accuracy 0.971\n",
      "200/200 - train: loss 1.159; val: loss 0.570 accuracy 0.971\n"
     ]
    }
   ],
   "source": [
    "trainer.run(train_loader, max_epochs=EPOCHS);"
   ]
  },
  {
   "cell_type": "code",
   "execution_count": 40,
   "metadata": {
    "execution": {
     "iopub.execute_input": "2021-12-03T01:07:22.778735Z",
     "iopub.status.busy": "2021-12-03T01:07:22.773840Z",
     "iopub.status.idle": "2021-12-03T01:07:22.870785Z",
     "shell.execute_reply": "2021-12-03T01:07:22.870574Z"
    }
   },
   "outputs": [
    {
     "data": {
      "image/png": "[encoded data removed]",
      "text/plain": [
       "<Figure size 432x288 with 1 Axes>"
      ]
     },
     "metadata": {
      "needs_background": "light"
     },
     "output_type": "display_data"
    }
   ],
   "source": [
    "fig = plt.figure()\n",
    "ax = fig.add_subplot(111)\n",
    "xs = np.arange(1, len(history['train loss']) + 1)\n",
    "ax.plot(xs, history['train loss'], '.-', label='train')\n",
    "ax.plot(xs, history['val loss'], '.-', label='val')\n",
    "ax.set_xlabel('epoch')\n",
    "ax.set_ylabel('loss')\n",
    "ax.legend()\n",
    "ax.grid()\n",
    "plt.show()"
   ]
  },
  {
   "cell_type": "code",
   "execution_count": 41,
   "metadata": {
    "execution": {
     "iopub.execute_input": "2021-12-03T01:07:22.873588Z",
     "iopub.status.busy": "2021-12-03T01:07:22.871723Z",
     "iopub.status.idle": "2021-12-03T01:07:22.940741Z",
     "shell.execute_reply": "2021-12-03T01:07:22.940962Z"
    }
   },
   "outputs": [
    {
     "data": {
      "image/png": "[encoded data removed]",
      "text/plain": [
       "<Figure size 432x288 with 1 Axes>"
      ]
     },
     "metadata": {
      "needs_background": "light"
     },
     "output_type": "display_data"
    }
   ],
   "source": [
    "fig = plt.figure()\n",
    "ax = fig.add_subplot(111)\n",
    "xs = np.arange(1, len(history['val acc']) + 1)\n",
    "ax.plot(xs, history['val acc'], '-')\n",
    "ax.set_xlabel('epoch')\n",
    "ax.set_ylabel('val acc')\n",
    "ax.grid()\n",
    "plt.show()"
   ]
  },
  {
   "cell_type": "markdown",
   "metadata": {},
   "source": [
    "## Model without attention"
   ]
  },
  {
   "cell_type": "markdown",
   "metadata": {},
   "source": [
    "Only input-independent weights (relative position encoding) remain:"
   ]
  },
  {
   "cell_type": "code",
   "execution_count": 11,
   "metadata": {
    "execution": {
     "iopub.execute_input": "2022-01-07T12:52:20.296887Z",
     "iopub.status.busy": "2022-01-07T12:52:20.296596Z",
     "iopub.status.idle": "2022-01-07T12:52:20.297633Z",
     "shell.execute_reply": "2022-01-07T12:52:20.297828Z"
    }
   },
   "outputs": [],
   "source": [
    "class SelfAttention2d(nn.Module):\n",
    "    def __init__(self, in_channels, out_channels, head_channels, shape):\n",
    "        super().__init__()\n",
    "        self.heads = out_channels // head_channels\n",
    "        self.head_channels = head_channels\n",
    "        self.scale = head_channels**-0.5\n",
    "        \n",
    "        self.to_values = nn.Conv2d(in_channels, out_channels, 1)\n",
    "        self.unifyheads = nn.Conv2d(out_channels, out_channels, 1)\n",
    "        \n",
    "        height, width = shape\n",
    "        self.pos_enc = nn.Parameter(torch.Tensor(self.heads, (2 * height - 1) * (2 * width - 1)))\n",
    "        self.register_buffer(\"relative_indices\", self.get_indices(height, width))\n",
    "    \n",
    "    def forward(self, x):\n",
    "        b, _, h, w = x.shape\n",
    "        \n",
    "        values = self.to_values(x).view(b, self.heads, self.head_channels, -1)\n",
    "        \n",
    "        indices = self.relative_indices.expand(self.heads, -1)\n",
    "        rel_pos_enc = self.pos_enc.gather(-1, indices)\n",
    "        rel_pos_enc = rel_pos_enc.unflatten(-1, (h * w, h * w))\n",
    "        \n",
    "        att = F.softmax(rel_pos_enc, dim=-2)\n",
    "        \n",
    "        out = values @ att\n",
    "        out = out.view(b, -1, h, w)\n",
    "        out = self.unifyheads(out)\n",
    "        return out\n",
    "    \n",
    "    @staticmethod\n",
    "    def get_indices(h, w):\n",
    "        y = torch.arange(h, dtype=torch.long)\n",
    "        x = torch.arange(w, dtype=torch.long)\n",
    "        \n",
    "        y1, x1, y2, x2 = torch.meshgrid(y, x, y, x, indexing='ij')\n",
    "        indices = (y1 - y2 + h - 1) * (2 * w - 1) + x1 - x2 + w - 1\n",
    "        indices = indices.flatten()\n",
    "        \n",
    "        return indices"
   ]
  },
  {
   "cell_type": "code",
   "execution_count": 22,
   "metadata": {
    "execution": {
     "iopub.execute_input": "2022-01-07T12:52:22.700677Z",
     "iopub.status.busy": "2022-01-07T12:52:22.700193Z",
     "iopub.status.idle": "2022-01-07T12:52:22.702031Z",
     "shell.execute_reply": "2022-01-07T12:52:22.702405Z"
    }
   },
   "outputs": [
    {
     "name": "stdout",
     "output_type": "stream",
     "text": [
      "Number of parameters: 5,429,466\n"
     ]
    }
   ],
   "source": [
    "print(\"Number of parameters: {:,}\".format(sum(p.numel() for p in model.parameters())))"
   ]
  },
  {
   "cell_type": "markdown",
   "metadata": {},
   "source": [
    "### Start training"
   ]
  },
  {
   "cell_type": "code",
   "execution_count": 37,
   "metadata": {
    "execution": {
     "iopub.execute_input": "2022-01-07T12:52:22.764380Z",
     "iopub.status.busy": "2022-01-07T12:52:22.764098Z",
     "iopub.status.idle": "2022-01-07T21:56:45.927487Z",
     "shell.execute_reply": "2022-01-07T21:56:45.927056Z"
    }
   },
   "outputs": [
    {
     "name": "stdout",
     "output_type": "stream",
     "text": [
      "1/200 - train: loss 2.248; val: loss 2.092 accuracy 0.262\n",
      "2/200 - train: loss 2.203; val: loss 1.968 accuracy 0.318\n",
      "3/200 - train: loss 2.155; val: loss 1.874 accuracy 0.350\n",
      "4/200 - train: loss 2.121; val: loss 1.838 accuracy 0.374\n",
      "5/200 - train: loss 2.093; val: loss 1.768 accuracy 0.404\n",
      "6/200 - train: loss 2.068; val: loss 1.691 accuracy 0.472\n",
      "7/200 - train: loss 2.027; val: loss 1.597 accuracy 0.502\n",
      "8/200 - train: loss 2.013; val: loss 1.560 accuracy 0.519\n",
      "9/200 - train: loss 2.019; val: loss 1.539 accuracy 0.518\n",
      "10/200 - train: loss 1.979; val: loss 1.484 accuracy 0.559\n",
      "11/200 - train: loss 1.991; val: loss 1.443 accuracy 0.580\n",
      "12/200 - train: loss 1.925; val: loss 1.406 accuracy 0.607\n",
      "13/200 - train: loss 1.920; val: loss 1.411 accuracy 0.592\n",
      "14/200 - train: loss 1.949; val: loss 1.398 accuracy 0.591\n",
      "15/200 - train: loss 1.903; val: loss 1.333 accuracy 0.629\n",
      "16/200 - train: loss 1.872; val: loss 1.272 accuracy 0.666\n",
      "17/200 - train: loss 1.865; val: loss 1.273 accuracy 0.665\n",
      "18/200 - train: loss 1.862; val: loss 1.255 accuracy 0.673\n",
      "19/200 - train: loss 1.860; val: loss 1.255 accuracy 0.664\n",
      "20/200 - train: loss 1.832; val: loss 1.209 accuracy 0.695\n",
      "21/200 - train: loss 1.826; val: loss 1.170 accuracy 0.709\n",
      "22/200 - train: loss 1.809; val: loss 1.162 accuracy 0.713\n",
      "23/200 - train: loss 1.794; val: loss 1.161 accuracy 0.713\n",
      "24/200 - train: loss 1.801; val: loss 1.157 accuracy 0.731\n",
      "25/200 - train: loss 1.757; val: loss 1.145 accuracy 0.713\n",
      "26/200 - train: loss 1.771; val: loss 1.170 accuracy 0.710\n",
      "27/200 - train: loss 1.788; val: loss 1.122 accuracy 0.732\n",
      "28/200 - train: loss 1.786; val: loss 1.112 accuracy 0.738\n",
      "29/200 - train: loss 1.737; val: loss 1.144 accuracy 0.717\n",
      "30/200 - train: loss 1.768; val: loss 1.110 accuracy 0.739\n",
      "31/200 - train: loss 1.751; val: loss 1.077 accuracy 0.749\n",
      "32/200 - train: loss 1.733; val: loss 1.082 accuracy 0.747\n",
      "33/200 - train: loss 1.740; val: loss 1.063 accuracy 0.771\n",
      "34/200 - train: loss 1.761; val: loss 1.074 accuracy 0.763\n",
      "35/200 - train: loss 1.735; val: loss 1.072 accuracy 0.765\n",
      "36/200 - train: loss 1.721; val: loss 1.044 accuracy 0.760\n",
      "37/200 - train: loss 1.750; val: loss 1.009 accuracy 0.795\n",
      "38/200 - train: loss 1.773; val: loss 1.043 accuracy 0.779\n",
      "39/200 - train: loss 1.718; val: loss 0.989 accuracy 0.799\n",
      "40/200 - train: loss 1.740; val: loss 0.974 accuracy 0.801\n",
      "41/200 - train: loss 1.698; val: loss 0.977 accuracy 0.797\n",
      "42/200 - train: loss 1.715; val: loss 1.033 accuracy 0.769\n",
      "43/200 - train: loss 1.690; val: loss 0.955 accuracy 0.812\n",
      "44/200 - train: loss 1.702; val: loss 0.934 accuracy 0.821\n",
      "45/200 - train: loss 1.683; val: loss 0.961 accuracy 0.808\n",
      "46/200 - train: loss 1.703; val: loss 0.965 accuracy 0.819\n",
      "47/200 - train: loss 1.726; val: loss 0.946 accuracy 0.816\n",
      "48/200 - train: loss 1.704; val: loss 0.943 accuracy 0.813\n",
      "49/200 - train: loss 1.696; val: loss 0.950 accuracy 0.815\n",
      "50/200 - train: loss 1.689; val: loss 0.980 accuracy 0.805\n",
      "51/200 - train: loss 1.666; val: loss 0.934 accuracy 0.817\n",
      "52/200 - train: loss 1.686; val: loss 0.914 accuracy 0.828\n",
      "53/200 - train: loss 1.708; val: loss 0.979 accuracy 0.815\n",
      "54/200 - train: loss 1.678; val: loss 0.945 accuracy 0.815\n",
      "55/200 - train: loss 1.655; val: loss 0.923 accuracy 0.823\n",
      "56/200 - train: loss 1.683; val: loss 0.927 accuracy 0.823\n",
      "57/200 - train: loss 1.660; val: loss 0.905 accuracy 0.836\n",
      "58/200 - train: loss 1.637; val: loss 0.907 accuracy 0.832\n",
      "59/200 - train: loss 1.684; val: loss 0.947 accuracy 0.817\n",
      "60/200 - train: loss 1.671; val: loss 0.909 accuracy 0.834\n",
      "61/200 - train: loss 1.659; val: loss 0.919 accuracy 0.827\n",
      "62/200 - train: loss 1.653; val: loss 0.914 accuracy 0.833\n",
      "63/200 - train: loss 1.644; val: loss 0.885 accuracy 0.840\n",
      "64/200 - train: loss 1.676; val: loss 0.878 accuracy 0.846\n",
      "65/200 - train: loss 1.635; val: loss 0.856 accuracy 0.854\n",
      "66/200 - train: loss 1.646; val: loss 0.897 accuracy 0.836\n",
      "67/200 - train: loss 1.638; val: loss 0.894 accuracy 0.836\n",
      "68/200 - train: loss 1.614; val: loss 0.934 accuracy 0.807\n",
      "69/200 - train: loss 1.628; val: loss 0.879 accuracy 0.845\n",
      "70/200 - train: loss 1.642; val: loss 0.884 accuracy 0.837\n",
      "71/200 - train: loss 1.647; val: loss 0.857 accuracy 0.856\n",
      "72/200 - train: loss 1.633; val: loss 0.895 accuracy 0.839\n",
      "73/200 - train: loss 1.636; val: loss 0.855 accuracy 0.855\n",
      "74/200 - train: loss 1.604; val: loss 0.858 accuracy 0.863\n",
      "75/200 - train: loss 1.626; val: loss 0.881 accuracy 0.845\n",
      "76/200 - train: loss 1.592; val: loss 0.852 accuracy 0.850\n",
      "77/200 - train: loss 1.646; val: loss 0.866 accuracy 0.854\n",
      "78/200 - train: loss 1.611; val: loss 0.872 accuracy 0.847\n",
      "79/200 - train: loss 1.636; val: loss 0.883 accuracy 0.847\n",
      "80/200 - train: loss 1.611; val: loss 0.861 accuracy 0.846\n",
      "81/200 - train: loss 1.562; val: loss 0.828 accuracy 0.861\n",
      "82/200 - train: loss 1.595; val: loss 0.817 accuracy 0.871\n",
      "83/200 - train: loss 1.604; val: loss 0.846 accuracy 0.854\n",
      "84/200 - train: loss 1.566; val: loss 0.803 accuracy 0.876\n",
      "85/200 - train: loss 1.600; val: loss 0.834 accuracy 0.858\n",
      "86/200 - train: loss 1.594; val: loss 0.828 accuracy 0.868\n",
      "87/200 - train: loss 1.577; val: loss 0.853 accuracy 0.855\n",
      "88/200 - train: loss 1.611; val: loss 0.877 accuracy 0.843\n",
      "89/200 - train: loss 1.602; val: loss 0.803 accuracy 0.879\n",
      "90/200 - train: loss 1.578; val: loss 0.845 accuracy 0.860\n",
      "91/200 - train: loss 1.585; val: loss 0.838 accuracy 0.859\n",
      "92/200 - train: loss 1.592; val: loss 0.803 accuracy 0.875\n",
      "93/200 - train: loss 1.583; val: loss 0.829 accuracy 0.862\n",
      "94/200 - train: loss 1.589; val: loss 0.799 accuracy 0.879\n",
      "95/200 - train: loss 1.565; val: loss 0.798 accuracy 0.879\n",
      "96/200 - train: loss 1.599; val: loss 0.788 accuracy 0.885\n",
      "97/200 - train: loss 1.545; val: loss 0.816 accuracy 0.867\n",
      "98/200 - train: loss 1.582; val: loss 0.791 accuracy 0.882\n",
      "99/200 - train: loss 1.551; val: loss 0.805 accuracy 0.877\n",
      "100/200 - train: loss 1.596; val: loss 0.820 accuracy 0.866\n",
      "101/200 - train: loss 1.592; val: loss 0.832 accuracy 0.856\n",
      "102/200 - train: loss 1.572; val: loss 0.812 accuracy 0.872\n",
      "103/200 - train: loss 1.531; val: loss 0.784 accuracy 0.880\n",
      "104/200 - train: loss 1.571; val: loss 0.778 accuracy 0.883\n",
      "105/200 - train: loss 1.545; val: loss 0.787 accuracy 0.879\n",
      "106/200 - train: loss 1.562; val: loss 0.793 accuracy 0.882\n",
      "107/200 - train: loss 1.521; val: loss 0.782 accuracy 0.882\n",
      "108/200 - train: loss 1.525; val: loss 0.762 accuracy 0.887\n",
      "109/200 - train: loss 1.556; val: loss 0.781 accuracy 0.879\n",
      "110/200 - train: loss 1.581; val: loss 0.805 accuracy 0.869\n",
      "111/200 - train: loss 1.540; val: loss 0.751 accuracy 0.895\n",
      "112/200 - train: loss 1.539; val: loss 0.741 accuracy 0.899\n",
      "113/200 - train: loss 1.530; val: loss 0.747 accuracy 0.893\n",
      "114/200 - train: loss 1.540; val: loss 0.756 accuracy 0.891\n",
      "115/200 - train: loss 1.521; val: loss 0.741 accuracy 0.900\n",
      "116/200 - train: loss 1.530; val: loss 0.734 accuracy 0.902\n",
      "117/200 - train: loss 1.531; val: loss 0.797 accuracy 0.873\n",
      "118/200 - train: loss 1.504; val: loss 0.758 accuracy 0.890\n",
      "119/200 - train: loss 1.547; val: loss 0.761 accuracy 0.894\n",
      "120/200 - train: loss 1.527; val: loss 0.737 accuracy 0.902\n",
      "121/200 - train: loss 1.498; val: loss 0.763 accuracy 0.884\n",
      "122/200 - train: loss 1.541; val: loss 0.752 accuracy 0.896\n",
      "123/200 - train: loss 1.505; val: loss 0.729 accuracy 0.901\n",
      "124/200 - train: loss 1.511; val: loss 0.759 accuracy 0.891\n",
      "125/200 - train: loss 1.488; val: loss 0.733 accuracy 0.905\n",
      "126/200 - train: loss 1.509; val: loss 0.718 accuracy 0.910\n",
      "127/200 - train: loss 1.480; val: loss 0.737 accuracy 0.898\n",
      "128/200 - train: loss 1.478; val: loss 0.724 accuracy 0.906\n",
      "129/200 - train: loss 1.509; val: loss 0.722 accuracy 0.905\n",
      "130/200 - train: loss 1.447; val: loss 0.697 accuracy 0.917\n",
      "131/200 - train: loss 1.442; val: loss 0.722 accuracy 0.907\n",
      "132/200 - train: loss 1.463; val: loss 0.724 accuracy 0.905\n",
      "133/200 - train: loss 1.476; val: loss 0.723 accuracy 0.906\n",
      "134/200 - train: loss 1.439; val: loss 0.702 accuracy 0.913\n",
      "135/200 - train: loss 1.447; val: loss 0.715 accuracy 0.911\n",
      "136/200 - train: loss 1.469; val: loss 0.738 accuracy 0.901\n",
      "137/200 - train: loss 1.445; val: loss 0.706 accuracy 0.913\n",
      "138/200 - train: loss 1.471; val: loss 0.686 accuracy 0.923\n",
      "139/200 - train: loss 1.438; val: loss 0.694 accuracy 0.921\n",
      "140/200 - train: loss 1.458; val: loss 0.686 accuracy 0.924\n",
      "141/200 - train: loss 1.457; val: loss 0.701 accuracy 0.915\n",
      "142/200 - train: loss 1.466; val: loss 0.688 accuracy 0.921\n",
      "143/200 - train: loss 1.455; val: loss 0.676 accuracy 0.925\n",
      "144/200 - train: loss 1.418; val: loss 0.684 accuracy 0.925\n",
      "145/200 - train: loss 1.475; val: loss 0.675 accuracy 0.928\n",
      "146/200 - train: loss 1.433; val: loss 0.688 accuracy 0.922\n",
      "147/200 - train: loss 1.426; val: loss 0.682 accuracy 0.923\n",
      "148/200 - train: loss 1.407; val: loss 0.670 accuracy 0.929\n",
      "149/200 - train: loss 1.417; val: loss 0.653 accuracy 0.937\n",
      "150/200 - train: loss 1.408; val: loss 0.666 accuracy 0.928\n",
      "151/200 - train: loss 1.389; val: loss 0.664 accuracy 0.932\n",
      "152/200 - train: loss 1.389; val: loss 0.661 accuracy 0.933\n",
      "153/200 - train: loss 1.405; val: loss 0.646 accuracy 0.939\n",
      "154/200 - train: loss 1.396; val: loss 0.658 accuracy 0.935\n",
      "155/200 - train: loss 1.446; val: loss 0.650 accuracy 0.936\n",
      "156/200 - train: loss 1.384; val: loss 0.648 accuracy 0.939\n",
      "157/200 - train: loss 1.399; val: loss 0.650 accuracy 0.937\n",
      "158/200 - train: loss 1.388; val: loss 0.649 accuracy 0.939\n",
      "159/200 - train: loss 1.386; val: loss 0.646 accuracy 0.939\n",
      "160/200 - train: loss 1.347; val: loss 0.650 accuracy 0.937\n",
      "161/200 - train: loss 1.369; val: loss 0.636 accuracy 0.944\n",
      "162/200 - train: loss 1.358; val: loss 0.627 accuracy 0.947\n",
      "163/200 - train: loss 1.365; val: loss 0.643 accuracy 0.938\n",
      "164/200 - train: loss 1.357; val: loss 0.630 accuracy 0.945\n",
      "165/200 - train: loss 1.311; val: loss 0.622 accuracy 0.946\n",
      "166/200 - train: loss 1.306; val: loss 0.635 accuracy 0.944\n",
      "167/200 - train: loss 1.296; val: loss 0.617 accuracy 0.949\n",
      "168/200 - train: loss 1.307; val: loss 0.616 accuracy 0.952\n",
      "169/200 - train: loss 1.294; val: loss 0.612 accuracy 0.954\n",
      "170/200 - train: loss 1.308; val: loss 0.616 accuracy 0.953\n",
      "171/200 - train: loss 1.295; val: loss 0.612 accuracy 0.954\n",
      "172/200 - train: loss 1.277; val: loss 0.605 accuracy 0.957\n",
      "173/200 - train: loss 1.309; val: loss 0.615 accuracy 0.953\n",
      "174/200 - train: loss 1.267; val: loss 0.607 accuracy 0.955\n",
      "175/200 - train: loss 1.256; val: loss 0.606 accuracy 0.957\n",
      "176/200 - train: loss 1.273; val: loss 0.603 accuracy 0.958\n",
      "177/200 - train: loss 1.290; val: loss 0.605 accuracy 0.957\n",
      "178/200 - train: loss 1.268; val: loss 0.601 accuracy 0.958\n",
      "179/200 - train: loss 1.253; val: loss 0.597 accuracy 0.959\n",
      "180/200 - train: loss 1.232; val: loss 0.599 accuracy 0.959\n",
      "181/200 - train: loss 1.248; val: loss 0.598 accuracy 0.961\n",
      "182/200 - train: loss 1.288; val: loss 0.596 accuracy 0.959\n",
      "183/200 - train: loss 1.242; val: loss 0.597 accuracy 0.960\n",
      "184/200 - train: loss 1.237; val: loss 0.597 accuracy 0.960\n",
      "185/200 - train: loss 1.283; val: loss 0.590 accuracy 0.963\n",
      "186/200 - train: loss 1.273; val: loss 0.595 accuracy 0.961\n",
      "187/200 - train: loss 1.251; val: loss 0.590 accuracy 0.963\n",
      "188/200 - train: loss 1.219; val: loss 0.590 accuracy 0.964\n",
      "189/200 - train: loss 1.198; val: loss 0.587 accuracy 0.964\n",
      "190/200 - train: loss 1.261; val: loss 0.587 accuracy 0.964\n",
      "191/200 - train: loss 1.252; val: loss 0.589 accuracy 0.963\n",
      "192/200 - train: loss 1.210; val: loss 0.587 accuracy 0.964\n",
      "193/200 - train: loss 1.220; val: loss 0.585 accuracy 0.966\n",
      "194/200 - train: loss 1.227; val: loss 0.584 accuracy 0.965\n",
      "195/200 - train: loss 1.222; val: loss 0.585 accuracy 0.966\n",
      "196/200 - train: loss 1.239; val: loss 0.585 accuracy 0.965\n",
      "197/200 - train: loss 1.227; val: loss 0.584 accuracy 0.966\n",
      "198/200 - train: loss 1.237; val: loss 0.584 accuracy 0.965\n",
      "199/200 - train: loss 1.210; val: loss 0.585 accuracy 0.965\n",
      "200/200 - train: loss 1.174; val: loss 0.585 accuracy 0.965\n"
     ]
    }
   ],
   "source": [
    "trainer.run(train_loader, max_epochs=EPOCHS);"
   ]
  },
  {
   "cell_type": "code",
   "execution_count": 38,
   "metadata": {
    "execution": {
     "iopub.execute_input": "2022-01-07T21:56:45.940854Z",
     "iopub.status.busy": "2022-01-07T21:56:45.936644Z",
     "iopub.status.idle": "2022-01-07T21:56:46.088045Z",
     "shell.execute_reply": "2022-01-07T21:56:46.088266Z"
    }
   },
   "outputs": [
    {
     "data": {
      "image/png": "[encoded data removed]",
      "text/plain": [
       "<Figure size 432x288 with 1 Axes>"
      ]
     },
     "metadata": {
      "needs_background": "light"
     },
     "output_type": "display_data"
    }
   ],
   "source": [
    "fig = plt.figure()\n",
    "ax = fig.add_subplot(111)\n",
    "xs = np.arange(1, len(history['train loss']) + 1)\n",
    "ax.plot(xs, history['train loss'], '.-', label='train')\n",
    "ax.plot(xs, history['val loss'], '.-', label='val')\n",
    "ax.set_xlabel('epoch')\n",
    "ax.set_ylabel('loss')\n",
    "ax.legend()\n",
    "ax.grid()\n",
    "plt.show()"
   ]
  },
  {
   "cell_type": "code",
   "execution_count": 39,
   "metadata": {
    "execution": {
     "iopub.execute_input": "2022-01-07T21:56:46.095552Z",
     "iopub.status.busy": "2022-01-07T21:56:46.093875Z",
     "iopub.status.idle": "2022-01-07T21:56:46.160903Z",
     "shell.execute_reply": "2022-01-07T21:56:46.161114Z"
    }
   },
   "outputs": [
    {
     "data": {
      "image/png": "[encoded data removed]",
      "text/plain": [
       "<Figure size 432x288 with 1 Axes>"
      ]
     },
     "metadata": {
      "needs_background": "light"
     },
     "output_type": "display_data"
    }
   ],
   "source": [
    "fig = plt.figure()\n",
    "ax = fig.add_subplot(111)\n",
    "xs = np.arange(1, len(history['val acc']) + 1)\n",
    "ax.plot(xs, history['val acc'], '-')\n",
    "ax.set_xlabel('epoch')\n",
    "ax.set_ylabel('val acc')\n",
    "ax.grid()\n",
    "plt.show()"
   ]
  }
 ],
 "metadata": {
  "kernelspec": {
   "display_name": "Python 3",
   "language": "python",
   "name": "python3"
  },
  "language_info": {
   "codemirror_mode": {
    "name": "ipython",
    "version": 3
   },
   "file_extension": ".py",
   "mimetype": "text/x-python",
   "name": "python",
   "nbconvert_exporter": "python",
   "pygments_lexer": "ipython3",
   "version": "3.8.10"
  }
 },
 "nbformat": 4,
 "nbformat_minor": 4
}
