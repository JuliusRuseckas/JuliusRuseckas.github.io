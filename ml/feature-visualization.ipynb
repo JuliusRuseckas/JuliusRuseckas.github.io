{
 "cells": [
  {
   "cell_type": "markdown",
   "id": "e11845f0-19f7-4dfa-84a1-2318f7e49578",
   "metadata": {
    "tags": []
   },
   "source": [
    "# Feature Visualization by Optimization"
   ]
  },
  {
   "cell_type": "markdown",
   "id": "8f969a98-93cb-4683-9ca1-0984bee5c85e",
   "metadata": {},
   "source": [
    "Classifier neural network is differentiable with respect to the inputs, therefore the gradient descent can be used to maximize logits for a given class. In this way an image can be created such that the classifier strongly assigns it to the class. However, just optimizing the image creates high-frequency noise. To reduce this noise a bilateral filter can be used."
   ]
  },
  {
   "cell_type": "markdown",
   "id": "9b0a198b-18a5-457c-8e70-970c27c9f0ed",
   "metadata": {},
   "source": [
    "https://distill.pub/2017/feature-visualization/"
   ]
  },
  {
   "cell_type": "markdown",
   "id": "69381004-7124-4e7b-8e9b-df7bae224a33",
   "metadata": {},
   "source": [
    "## Configuration"
   ]
  },
  {
   "cell_type": "markdown",
   "id": "f9a9c435-decf-4b3d-917a-ced2ad0e1f30",
   "metadata": {},
   "source": [
    "Imports"
   ]
  },
  {
   "cell_type": "code",
   "execution_count": 1,
   "id": "c57aef75-b1e4-4814-be78-4b5f907a588e",
   "metadata": {},
   "outputs": [],
   "source": [
    "import os\n",
    "import numpy as np\n",
    "import matplotlib.pyplot as plt\n",
    "from tqdm import tqdm\n",
    "\n",
    "import torch\n",
    "import torch.nn as nn\n",
    "import torch.optim as optim\n",
    "import torch.nn.functional as F\n",
    "from torchvision import datasets\n",
    "import torchvision.transforms.v2 as transforms\n",
    "import torchvision.transforms.v2.functional as TF"
   ]
  },
  {
   "cell_type": "markdown",
   "id": "234f63e5-fab3-4354-91bd-7536ffe2095f",
   "metadata": {},
   "source": [
    "Smaller model leads to nicer images. We use previously created classifier with 80,177 parameters trained on CIFAR10."
   ]
  },
  {
   "cell_type": "code",
   "execution_count": 2,
   "id": "f886d882-da79-4aa3-80e2-3147c7a4f478",
   "metadata": {},
   "outputs": [],
   "source": [
    "from tiny_net import create_model"
   ]
  },
  {
   "cell_type": "markdown",
   "id": "36df7fb5-1fdb-4251-90f2-e876fe9c64e4",
   "metadata": {},
   "source": [
    "Configuration"
   ]
  },
  {
   "cell_type": "code",
   "execution_count": 3,
   "id": "de49f1c2-56e0-49ce-a71d-85dec2ca4cd7",
   "metadata": {},
   "outputs": [],
   "source": [
    "DATA_DIR = './data'\n",
    "MODELS_DIR = './models'\n",
    "\n",
    "IMAGE_SIZE = 32\n",
    "NUM_CLASSES = 10\n",
    "LEARNING_RATE = 0.25\n",
    "EPOCHS = 20000"
   ]
  },
  {
   "cell_type": "code",
   "execution_count": 4,
   "id": "a169e4df-d547-4e17-82ff-69ec5823c109",
   "metadata": {},
   "outputs": [
    {
     "name": "stdout",
     "output_type": "stream",
     "text": [
      "device: cuda\n"
     ]
    }
   ],
   "source": [
    "DEVICE = torch.device(\"cuda\") if torch.cuda.is_available() else torch.device(\"cpu\")\n",
    "print(\"device:\", DEVICE)"
   ]
  },
  {
   "cell_type": "markdown",
   "id": "d23f4327-b8ab-44eb-8750-e5da36937998",
   "metadata": {},
   "source": [
    "## Data"
   ]
  },
  {
   "cell_type": "code",
   "execution_count": 5,
   "id": "1d988513-3d12-4823-bc93-1afc1a50c719",
   "metadata": {},
   "outputs": [],
   "source": [
    "test_transform = transforms.Compose([\n",
    "    transforms.ToImage(),\n",
    "    transforms.ToDtype(torch.float, scale=True),\n",
    "])"
   ]
  },
  {
   "cell_type": "code",
   "execution_count": 6,
   "id": "760c3a81-79a0-4e9f-a400-70cd34544ae2",
   "metadata": {},
   "outputs": [
    {
     "name": "stdout",
     "output_type": "stream",
     "text": [
      "Files already downloaded and verified\n"
     ]
    }
   ],
   "source": [
    "test_dset = datasets.CIFAR10(root=DATA_DIR, train=False, download=True, transform=test_transform)"
   ]
  },
  {
   "cell_type": "code",
   "execution_count": 7,
   "id": "aa1e87b7-020c-42f5-93cc-8408ff5a52cc",
   "metadata": {},
   "outputs": [
    {
     "name": "stdout",
     "output_type": "stream",
     "text": [
      "0: airplane\n",
      "1: automobile\n",
      "2: bird\n",
      "3: cat\n",
      "4: deer\n",
      "5: dog\n",
      "6: frog\n",
      "7: horse\n",
      "8: ship\n",
      "9: truck\n"
     ]
    }
   ],
   "source": [
    "for num, name in enumerate(test_dset.classes):\n",
    "    print(f'{num}: {name}')"
   ]
  },
  {
   "cell_type": "code",
   "execution_count": 8,
   "id": "c7ab9eb7-d6a0-4368-b277-4daad27f6af8",
   "metadata": {},
   "outputs": [],
   "source": [
    "def dataset_show_image(dset, idx):\n",
    "    X, Y = dset[idx]\n",
    "    fig = plt.figure()\n",
    "    ax = fig.add_subplot(111)\n",
    "    ax.set_axis_off()\n",
    "    ax.imshow(np.moveaxis(X.numpy(), 0, -1))\n",
    "    ax.set_title(dset.classes[Y])\n",
    "    plt.show()"
   ]
  },
  {
   "cell_type": "code",
   "execution_count": 9,
   "id": "802499eb-dc43-4635-b63a-3978fcd13748",
   "metadata": {},
   "outputs": [
    {
     "data": {
      "image/png": "[encoded data removed]",
      "text/plain": [
       "<Figure size 640x480 with 1 Axes>"
      ]
     },
     "metadata": {},
     "output_type": "display_data"
    }
   ],
   "source": [
    "dataset_show_image(test_dset, 1)"
   ]
  },
  {
   "cell_type": "markdown",
   "id": "ea256214-3aff-409a-8204-4b3c9b1a15f2",
   "metadata": {},
   "source": [
    "## Model"
   ]
  },
  {
   "cell_type": "code",
   "execution_count": 10,
   "id": "509e4638-4f30-4e58-afaf-bed53ed0053f",
   "metadata": {},
   "outputs": [],
   "source": [
    "model = create_model(DEVICE)"
   ]
  },
  {
   "cell_type": "code",
   "execution_count": 11,
   "id": "67e7591c-583d-4879-b4c1-a2616c6800cd",
   "metadata": {},
   "outputs": [
    {
     "name": "stdout",
     "output_type": "stream",
     "text": [
      "Number of parameters: 80,177\n"
     ]
    }
   ],
   "source": [
    "print(\"Number of parameters: {:,}\".format(sum(p.numel() for p in model.parameters())))"
   ]
  },
  {
   "cell_type": "code",
   "execution_count": 12,
   "id": "ab6e02eb-8f56-4504-a626-70f6bb60d595",
   "metadata": {},
   "outputs": [
    {
     "data": {
      "text/plain": [
       "<All keys matched successfully>"
      ]
     },
     "execution_count": 12,
     "metadata": {},
     "output_type": "execute_result"
    }
   ],
   "source": [
    "model.load_state_dict(torch.load(os.path.join(MODELS_DIR, 'residual_tiny.pt')))"
   ]
  },
  {
   "cell_type": "code",
   "execution_count": 13,
   "id": "1db779dc-78a2-435b-9f53-c486740a0596",
   "metadata": {},
   "outputs": [],
   "source": [
    "model.eval();"
   ]
  },
  {
   "cell_type": "markdown",
   "id": "1b88c580-3391-4729-b2e6-6d8af9bf0199",
   "metadata": {},
   "source": [
    "Freeze model:"
   ]
  },
  {
   "cell_type": "code",
   "execution_count": 14,
   "id": "4ed252b7-7700-4dd1-87fb-63f5cb3826f7",
   "metadata": {},
   "outputs": [],
   "source": [
    "for p in model.parameters():\n",
    "    p.requires_grad = False"
   ]
  },
  {
   "cell_type": "markdown",
   "id": "c70fa731-7c5d-46e5-bca1-4af06ec7d8ac",
   "metadata": {},
   "source": [
    "## Feature visualization"
   ]
  },
  {
   "cell_type": "markdown",
   "id": "a9cca481-65df-40ef-8d80-962be174c70c",
   "metadata": {},
   "source": [
    "Bilateral filter, https://en.wikipedia.org/wiki/Bilateral_filter"
   ]
  },
  {
   "cell_type": "code",
   "execution_count": 15,
   "id": "9c29592c-2282-4059-bb83-72aae49f6cfb",
   "metadata": {},
   "outputs": [],
   "source": [
    "class BilateralFilter(nn.Module):\n",
    "    def __init__(self, kernel_size, sigma_color, sigma_space):\n",
    "        super().__init__()\n",
    "        self.kernel_size = kernel_size\n",
    "        self.padding = (kernel_size - 1) // 2\n",
    "        self.sigma_color = sigma_color\n",
    "        self.register_buffer(\"spatial_kernel\", self.gaussian_kernel(kernel_size, sigma_space))\n",
    "\n",
    "    def forward(self, image):\n",
    "        b, c, h, w = image.shape\n",
    "        image_unf = F.unfold(image, self.kernel_size, padding=self.padding).view(b, c, self.kernel_size**2, h * w)\n",
    "        image_ex = image.view(b, c, 1, h * w)\n",
    "        weight = torch.exp(-(image_unf - image_ex)**2 / (2 * self.sigma_color**2))  * self.spatial_kernel\n",
    "        norm = torch.sum(weight, dim=2)\n",
    "        image_filtered = torch.sum(image_unf * weight, dim=2) / norm\n",
    "        image_filtered = image_filtered.view(b, c, h, w)\n",
    "        return image_filtered\n",
    "\n",
    "    def gaussian_kernel(self, kernel_size, sigma):\n",
    "        side = (kernel_size - 1) // 2\n",
    "        ax = torch.arange(-side, side + 1)\n",
    "        xx, yy = torch.meshgrid(ax, ax, indexing='ij')\n",
    "        kernel = torch.exp(-(xx**2 + yy**2) / (2 * sigma**2))\n",
    "        kernel = kernel.view(-1, 1)\n",
    "        return kernel"
   ]
  },
  {
   "cell_type": "code",
   "execution_count": 16,
   "id": "6129609c-4c01-4d3f-877f-1fe18b2efba6",
   "metadata": {},
   "outputs": [],
   "source": [
    "class VisualizationModel(nn.Module):\n",
    "    def __init__(self, model, image):\n",
    "        super().__init__()\n",
    "        self.model = model\n",
    "        self.p = nn.Parameter(self.image_to_param(image))\n",
    "        self.filter = BilateralFilter(3, 1., 1.)\n",
    "\n",
    "    def forward(self):\n",
    "        image = self.get_image()\n",
    "        logits = self.model(image.unsqueeze(0)).squeeze(0)\n",
    "        return logits\n",
    "\n",
    "    def image_to_param(self, image):\n",
    "        p = torch.log(image / (1. - image))\n",
    "        return p\n",
    "\n",
    "    def set_image(self, image):\n",
    "        with torch.no_grad():\n",
    "            self.p.copy_(self.image_to_param(image))\n",
    "\n",
    "    def get_image(self):\n",
    "        image = torch.sigmoid(self.p)\n",
    "        image = self.filter(image.unsqueeze(0)).squeeze(0)\n",
    "        return image\n",
    "\n",
    "    def get_pil_image(self):\n",
    "        with torch.no_grad():\n",
    "            image = self.get_image()\n",
    "        image = image.cpu()\n",
    "        image_pil = TF.to_pil_image(image)\n",
    "        return image_pil"
   ]
  },
  {
   "cell_type": "code",
   "execution_count": 17,
   "id": "be59a764-ead4-44cb-a3b9-251e37991cec",
   "metadata": {},
   "outputs": [],
   "source": [
    "def train(num_steps, class_num, vis_model, optimizer):\n",
    "    pbar = tqdm(range(num_steps), leave=True, ncols=140)\n",
    "    for step in pbar:\n",
    "        logits = vis_model()\n",
    "        loss = -logits[class_num]\n",
    "        optimizer.zero_grad()\n",
    "        loss.backward()\n",
    "        optimizer.step()\n",
    "        pbar.set_postfix({'loss': loss.item()})"
   ]
  },
  {
   "cell_type": "code",
   "execution_count": 18,
   "id": "188f94bc-16b7-4f0b-95a5-70f77faec902",
   "metadata": {},
   "outputs": [],
   "source": [
    "def plot_image_list(image_list, name_list, ncols=5):\n",
    "    nrows, rem = divmod(len(image_list), ncols)\n",
    "    if rem > 0: nrows +=1\n",
    "          \n",
    "    fig = plt.figure(figsize=(15, 6))\n",
    "    for i, (image, name) in enumerate(zip(image_list, name_list)):\n",
    "        ax = fig.add_subplot(nrows, ncols, i + 1)\n",
    "        ax.set_axis_off()\n",
    "        ax.imshow(image)\n",
    "        ax.set_title(name)\n",
    "    fig.show()"
   ]
  },
  {
   "cell_type": "markdown",
   "id": "8b44820f-d927-4d36-a8c5-562b2e30fbd3",
   "metadata": {},
   "source": [
    "### Training"
   ]
  },
  {
   "cell_type": "code",
   "execution_count": 20,
   "id": "e72b5690-cd0d-4b33-9222-382615d142dd",
   "metadata": {},
   "outputs": [
    {
     "name": "stdout",
     "output_type": "stream",
     "text": [
      "Training: airplane\n"
     ]
    },
    {
     "name": "stderr",
     "output_type": "stream",
     "text": [
      "100%|█████████████████████████████████████████████████████████████████████████████████████| 20000/20000 [01:49<00:00, 182.10it/s, loss=-149]\n"
     ]
    },
    {
     "name": "stdout",
     "output_type": "stream",
     "text": [
      "Training: automobile\n"
     ]
    },
    {
     "name": "stderr",
     "output_type": "stream",
     "text": [
      "100%|████████████████████████████████████████████████████████████████████████████████████| 20000/20000 [01:50<00:00, 180.84it/s, loss=-83.9]\n"
     ]
    },
    {
     "name": "stdout",
     "output_type": "stream",
     "text": [
      "Training: bird\n"
     ]
    },
    {
     "name": "stderr",
     "output_type": "stream",
     "text": [
      "100%|█████████████████████████████████████████████████████████████████████████████████████| 20000/20000 [01:51<00:00, 178.66it/s, loss=-179]\n"
     ]
    },
    {
     "name": "stdout",
     "output_type": "stream",
     "text": [
      "Training: cat\n"
     ]
    },
    {
     "name": "stderr",
     "output_type": "stream",
     "text": [
      "100%|█████████████████████████████████████████████████████████████████████████████████████| 20000/20000 [01:51<00:00, 178.85it/s, loss=-130]\n"
     ]
    },
    {
     "name": "stdout",
     "output_type": "stream",
     "text": [
      "Training: deer\n"
     ]
    },
    {
     "name": "stderr",
     "output_type": "stream",
     "text": [
      "100%|█████████████████████████████████████████████████████████████████████████████████████| 20000/20000 [01:57<00:00, 170.08it/s, loss=-210]\n"
     ]
    },
    {
     "name": "stdout",
     "output_type": "stream",
     "text": [
      "Training: dog\n"
     ]
    },
    {
     "name": "stderr",
     "output_type": "stream",
     "text": [
      "100%|█████████████████████████████████████████████████████████████████████████████████████| 20000/20000 [01:52<00:00, 177.10it/s, loss=-182]\n"
     ]
    },
    {
     "name": "stdout",
     "output_type": "stream",
     "text": [
      "Training: frog\n"
     ]
    },
    {
     "name": "stderr",
     "output_type": "stream",
     "text": [
      "100%|█████████████████████████████████████████████████████████████████████████████████████| 20000/20000 [01:48<00:00, 183.83it/s, loss=-130]\n"
     ]
    },
    {
     "name": "stdout",
     "output_type": "stream",
     "text": [
      "Training: horse\n"
     ]
    },
    {
     "name": "stderr",
     "output_type": "stream",
     "text": [
      "100%|█████████████████████████████████████████████████████████████████████████████████████| 20000/20000 [01:53<00:00, 176.24it/s, loss=-164]\n"
     ]
    },
    {
     "name": "stdout",
     "output_type": "stream",
     "text": [
      "Training: ship\n"
     ]
    },
    {
     "name": "stderr",
     "output_type": "stream",
     "text": [
      "100%|████████████████████████████████████████████████████████████████████████████████████| 20000/20000 [01:51<00:00, 178.58it/s, loss=-99.4]\n"
     ]
    },
    {
     "name": "stdout",
     "output_type": "stream",
     "text": [
      "Training: truck\n"
     ]
    },
    {
     "name": "stderr",
     "output_type": "stream",
     "text": [
      "100%|████████████████████████████████████████████████████████████████████████████████████| 20000/20000 [01:52<00:00, 178.19it/s, loss=-69.3]\n"
     ]
    }
   ],
   "source": [
    "initial_image = torch.full((3, IMAGE_SIZE, IMAGE_SIZE), 0.01)\n",
    "vis_model = VisualizationModel(model, initial_image).to(DEVICE)\n",
    "params = [p for p in vis_model.parameters() if p.requires_grad]\n",
    "\n",
    "image_list = []\n",
    "for num, name in enumerate(test_dset.classes):\n",
    "    print(\"Training:\", name)\n",
    "    vis_model.set_image(initial_image)\n",
    "    optimizer = optim.Adam(params, lr=LEARNING_RATE)\n",
    "    train(EPOCHS, num, vis_model, optimizer)\n",
    "    image = vis_model.get_pil_image()\n",
    "    image_list.append(image)"
   ]
  },
  {
   "cell_type": "code",
   "execution_count": 21,
   "id": "62dac42d-747b-4c39-a3a2-50f23d620026",
   "metadata": {},
   "outputs": [
    {
     "data": {
      "image/png": "[encoded data removed]",
      "text/plain": [
       "<Figure size 1500x600 with 10 Axes>"
      ]
     },
     "metadata": {},
     "output_type": "display_data"
    }
   ],
   "source": [
    "plot_image_list(image_list, test_dset.classes)"
   ]
  }
 ],
 "metadata": {
  "kernelspec": {
   "display_name": "Python 3 (ipykernel)",
   "language": "python",
   "name": "python3"
  },
  "language_info": {
   "codemirror_mode": {
    "name": "ipython",
    "version": 3
   },
   "file_extension": ".py",
   "mimetype": "text/x-python",
   "name": "python",
   "nbconvert_exporter": "python",
   "pygments_lexer": "ipython3",
   "version": "3.10.12"
  }
 },
 "nbformat": 4,
 "nbformat_minor": 5
}
