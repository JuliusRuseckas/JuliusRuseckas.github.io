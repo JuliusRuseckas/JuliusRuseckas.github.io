{
 "cells": [
  {
   "cell_type": "markdown",
   "id": "48570c5b-1dd2-4165-8030-b25ad16f07f9",
   "metadata": {
    "tags": []
   },
   "source": [
    "# Small model for CIFAR10"
   ]
  },
  {
   "cell_type": "markdown",
   "id": "92c855a8-d324-4808-a558-82ccbba1f6b0",
   "metadata": {},
   "source": [
    "## Configuration"
   ]
  },
  {
   "cell_type": "markdown",
   "id": "bdc15059-94f2-4c2f-a18a-f1a23d48b723",
   "metadata": {},
   "source": [
    "Imports"
   ]
  },
  {
   "cell_type": "code",
   "execution_count": 1,
   "id": "763daad6-190d-407b-bf26-3dae3b045626",
   "metadata": {},
   "outputs": [],
   "source": [
    "import numpy as np\n",
    "from collections import defaultdict\n",
    "import matplotlib.pyplot as plt\n",
    "\n",
    "import torch\n",
    "import torch.nn as nn\n",
    "import torch.optim as optim\n",
    "import torch.nn.functional as F\n",
    "from torchvision import datasets, transforms\n",
    "\n",
    "from ignite.engine import Events, create_supervised_trainer, create_supervised_evaluator\n",
    "import ignite.metrics\n",
    "import ignite.contrib.handlers"
   ]
  },
  {
   "cell_type": "markdown",
   "id": "51da612b-e68a-48be-8fa1-b605edfe523c",
   "metadata": {},
   "source": [
    "Configuration"
   ]
  },
  {
   "cell_type": "code",
   "execution_count": 2,
   "id": "4fe0ce44-86f7-4cf0-9d0f-1c1010e25800",
   "metadata": {},
   "outputs": [],
   "source": [
    "DATA_DIR='./data'\n",
    "\n",
    "IMAGE_SIZE = 32\n",
    "\n",
    "NUM_CLASSES = 10\n",
    "NUM_WORKERS = 8\n",
    "BATCH_SIZE = 128\n",
    "EPOCHS = 100\n",
    "\n",
    "LEARNING_RATE = 1e-2\n",
    "WEIGHT_DECAY = 1e-2"
   ]
  },
  {
   "cell_type": "code",
   "execution_count": 3,
   "id": "3bbf98c8-d516-43b6-ac6f-9c6595e61ba0",
   "metadata": {},
   "outputs": [
    {
     "name": "stdout",
     "output_type": "stream",
     "text": [
      "device: cuda\n"
     ]
    }
   ],
   "source": [
    "DEVICE = torch.device(\"cuda\") if torch.cuda.is_available() else torch.device(\"cpu\")\n",
    "print(\"device:\", DEVICE)"
   ]
  },
  {
   "cell_type": "markdown",
   "id": "dc1b531a-47a8-4cbc-8227-6ced070a3f79",
   "metadata": {},
   "source": [
    "## Data"
   ]
  },
  {
   "cell_type": "code",
   "execution_count": 4,
   "id": "a93d5fe1-3897-41f3-b18a-dc9f445ed271",
   "metadata": {},
   "outputs": [],
   "source": [
    "train_transform = transforms.Compose([\n",
    "    transforms.RandomHorizontalFlip(),\n",
    "    transforms.RandomCrop(32, padding=4),\n",
    "    transforms.ColorJitter(brightness=0.2, contrast=0.2, saturation=0.2),\n",
    "    transforms.ToTensor(),\n",
    "    transforms.RandomErasing(p=0.1)\n",
    "])"
   ]
  },
  {
   "cell_type": "code",
   "execution_count": 5,
   "id": "69ed1857-7cb4-4d66-8018-af5a16bd1fca",
   "metadata": {},
   "outputs": [
    {
     "name": "stdout",
     "output_type": "stream",
     "text": [
      "Files already downloaded and verified\n",
      "Files already downloaded and verified\n"
     ]
    }
   ],
   "source": [
    "train_dset = datasets.CIFAR10(root=DATA_DIR, train=True, download=True, transform=train_transform)\n",
    "val_dset = datasets.CIFAR10(root=DATA_DIR, train=False, download=True, transform=transforms.ToTensor())"
   ]
  },
  {
   "cell_type": "code",
   "execution_count": 6,
   "id": "cc6eccfd-006f-4873-96fc-5ee7bd0c0a5d",
   "metadata": {},
   "outputs": [],
   "source": [
    "train_loader = torch.utils.data.DataLoader(train_dset, batch_size=BATCH_SIZE, shuffle=True,\n",
    "                                           num_workers=NUM_WORKERS, pin_memory=True)\n",
    "\n",
    "val_loader = torch.utils.data.DataLoader(val_dset, batch_size=BATCH_SIZE, shuffle=False,\n",
    "                                         num_workers=NUM_WORKERS, pin_memory=True)"
   ]
  },
  {
   "cell_type": "markdown",
   "id": "cb2c03c0-288c-44b8-98f2-be26d2f83bde",
   "metadata": {},
   "source": [
    "## Model"
   ]
  },
  {
   "cell_type": "markdown",
   "id": "9e6a34f6-f6e8-4831-9ffb-a01a6648ed2d",
   "metadata": {},
   "source": [
    "Utilities"
   ]
  },
  {
   "cell_type": "code",
   "execution_count": 7,
   "id": "3409b8df-fa8e-4078-baeb-db4860ec9cbc",
   "metadata": {},
   "outputs": [],
   "source": [
    "class NormAct(nn.Sequential):\n",
    "    def __init__(self, channels):\n",
    "        super().__init__(\n",
    "            nn.BatchNorm2d(channels),\n",
    "            nn.GELU()\n",
    "        )"
   ]
  },
  {
   "cell_type": "code",
   "execution_count": 8,
   "id": "b1150508-09bc-4f9a-b4d8-fe785b40f6fb",
   "metadata": {},
   "outputs": [],
   "source": [
    "class ConvBlock(nn.Sequential):\n",
    "    def __init__(self, in_channels, out_channels, kernel_size, stride=1, groups=1):\n",
    "        padding = (kernel_size - 1) // 2\n",
    "        super().__init__(\n",
    "            NormAct(in_channels),\n",
    "            nn.Conv2d(in_channels, out_channels, kernel_size, stride=stride, padding=padding, groups=groups),\n",
    "        )"
   ]
  },
  {
   "cell_type": "code",
   "execution_count": 9,
   "id": "69f060e3-5dc9-4814-8db4-99300bc0b9f5",
   "metadata": {},
   "outputs": [],
   "source": [
    "class Residual(nn.Module):\n",
    "    def __init__(self, *layers, shortcut=None):\n",
    "        super().__init__()\n",
    "        self.residual = nn.Sequential(*layers) if len(layers) > 1 else layers[0]\n",
    "        self.shortcut = shortcut if shortcut is not None else nn.Identity()\n",
    "        self.gamma = nn.Parameter(torch.tensor(0.))\n",
    "    \n",
    "    def forward(self, x):\n",
    "        return self.shortcut(x) + self.gamma * self.residual(x)"
   ]
  },
  {
   "cell_type": "markdown",
   "id": "ac54bdb6-6363-441c-a5cd-0ebd4979bac7",
   "metadata": {},
   "source": [
    "Block"
   ]
  },
  {
   "cell_type": "code",
   "execution_count": 10,
   "id": "0681b453-00d7-41e8-87b5-9618e2d64223",
   "metadata": {},
   "outputs": [],
   "source": [
    "class Block(Residual):\n",
    "    def __init__(self, channels, kernel_size=3, stride=1, mult=4):\n",
    "        mid_channels = channels * mult\n",
    "        kernel_size = kernel_size + stride - 1\n",
    "        super().__init__(\n",
    "            ConvBlock(channels, mid_channels, kernel_size, stride, groups=channels),\n",
    "            ConvBlock(mid_channels, channels, 1),\n",
    "            shortcut = nn.AvgPool2d(stride) if stride > 1 else None\n",
    "        )"
   ]
  },
  {
   "cell_type": "markdown",
   "id": "0787c364-c517-4155-b7cc-1595d5da9b76",
   "metadata": {},
   "source": [
    "Stage"
   ]
  },
  {
   "cell_type": "code",
   "execution_count": 11,
   "id": "74e2771b-e207-4c87-ac4f-bedafcaeb909",
   "metadata": {},
   "outputs": [],
   "source": [
    "class Stage(nn.Sequential):\n",
    "    def __init__(self, channels, num_blocks, kernel_size=3, stride=1, mult=4):\n",
    "        super().__init__(\n",
    "            Block(channels, kernel_size, stride, mult),\n",
    "            *[Block(channels, kernel_size, 1, mult) for _ in range(num_blocks - 1)]\n",
    "        )"
   ]
  },
  {
   "cell_type": "code",
   "execution_count": 12,
   "id": "f232c797-31f7-4305-b042-22e7a08ad994",
   "metadata": {},
   "outputs": [],
   "source": [
    "class StageStack(nn.Sequential):\n",
    "    def __init__(self, channels, num_blocks, strides, kernel_size=3, mult=4):\n",
    "        super().__init__(*[Stage(channels, num_blocks, kernel_size, stride, mult) for stride in strides])"
   ]
  },
  {
   "cell_type": "markdown",
   "id": "e29adb98-cf3e-4161-a919-061890297275",
   "metadata": {},
   "source": [
    "Main model"
   ]
  },
  {
   "cell_type": "code",
   "execution_count": 13,
   "id": "62ca9614-563d-47f9-a231-d8e44f466cff",
   "metadata": {},
   "outputs": [],
   "source": [
    "def Stem(in_channels, out_channels, kernel_size=3, stride=1):\n",
    "    padding = (kernel_size - 1) // 2\n",
    "    return nn.Conv2d(in_channels, out_channels, kernel_size, padding=padding, stride=stride)"
   ]
  },
  {
   "cell_type": "code",
   "execution_count": 14,
   "id": "b72929de-1a07-4cec-8b1c-757b9f2d7da2",
   "metadata": {},
   "outputs": [],
   "source": [
    "class Head(nn.Sequential):\n",
    "    def __init__(self, channels, classes, p_drop=0.):\n",
    "        super().__init__(\n",
    "            NormAct(channels),\n",
    "            nn.AdaptiveAvgPool2d(1),\n",
    "            nn.Flatten(),\n",
    "            nn.Dropout(p_drop),\n",
    "            nn.Linear(channels, classes)\n",
    "        )"
   ]
  },
  {
   "cell_type": "code",
   "execution_count": 15,
   "id": "263d8bcd-b955-43be-8b57-07d6c450e13a",
   "metadata": {},
   "outputs": [],
   "source": [
    "class Net(nn.Sequential):\n",
    "    def __init__(self, classes, channels, num_blocks, strides, mult=4, in_channels=3, head_p_drop=0.):\n",
    "        super().__init__(\n",
    "            Stem(in_channels, channels, 3, strides[0]),\n",
    "            StageStack(channels, num_blocks, strides[1:], 3, mult),\n",
    "            Head(channels, classes, head_p_drop)\n",
    "        )"
   ]
  },
  {
   "cell_type": "markdown",
   "id": "2702c933-d378-4564-97de-734b30b18496",
   "metadata": {},
   "source": [
    "Model creation"
   ]
  },
  {
   "cell_type": "code",
   "execution_count": 16,
   "id": "9348b49d-2c9f-43d6-84a4-fde3ef6b6ee8",
   "metadata": {},
   "outputs": [],
   "source": [
    "def init_linear(m):\n",
    "    if isinstance(m, (nn.Conv2d, nn.Conv1d, nn.Linear)):\n",
    "        nn.init.kaiming_normal_(m.weight)\n",
    "        if m.bias is not None: nn.init.zeros_(m.bias)"
   ]
  },
  {
   "cell_type": "code",
   "execution_count": 17,
   "id": "3b4c3090-2bfa-44e3-8fa2-5eb5d48076ed",
   "metadata": {},
   "outputs": [],
   "source": [
    "model = Net(classes = NUM_CLASSES,\n",
    "            channels = 128,\n",
    "            num_blocks = 2,\n",
    "            strides = [1, 1, 2, 2, 2],\n",
    "            head_p_drop = 0.3)"
   ]
  },
  {
   "cell_type": "code",
   "execution_count": 18,
   "id": "bfa2231b-982a-432b-9d96-9c7f6f8ae802",
   "metadata": {},
   "outputs": [],
   "source": [
    "model.apply(init_linear);"
   ]
  },
  {
   "cell_type": "code",
   "execution_count": 19,
   "id": "33376deb-3e52-4325-82bc-c0c8ef8016f1",
   "metadata": {},
   "outputs": [],
   "source": [
    "model.to(DEVICE);"
   ]
  },
  {
   "cell_type": "code",
   "execution_count": 20,
   "id": "f3874ee2-9739-4040-8cd9-659e50292af6",
   "metadata": {},
   "outputs": [
    {
     "name": "stdout",
     "output_type": "stream",
     "text": [
      "Number of parameters: 592,402\n"
     ]
    }
   ],
   "source": [
    "print(\"Number of parameters: {:,}\".format(sum(p.numel() for p in model.parameters())))"
   ]
  },
  {
   "cell_type": "markdown",
   "id": "7b7031d8-9926-42b0-8979-c03d042027fb",
   "metadata": {},
   "source": [
    "## Training"
   ]
  },
  {
   "cell_type": "markdown",
   "id": "c2be635b-6afd-4fb8-9d31-ab66f83c5e8f",
   "metadata": {},
   "source": [
    "### Trainer setup"
   ]
  },
  {
   "cell_type": "code",
   "execution_count": 21,
   "id": "9333eee7-6e98-48f3-8e9b-6dcd7f362dab",
   "metadata": {},
   "outputs": [],
   "source": [
    "loss = nn.CrossEntropyLoss(label_smoothing=0.1)"
   ]
  },
  {
   "cell_type": "code",
   "execution_count": 22,
   "id": "be039fe9-34ea-4f2b-bfdc-32c049273f4d",
   "metadata": {},
   "outputs": [],
   "source": [
    "optimizer = optim.AdamW(model.parameters(), lr=1e-6, weight_decay=WEIGHT_DECAY)"
   ]
  },
  {
   "cell_type": "markdown",
   "id": "e107d6d0-38bb-4158-ab30-42bdd6af415b",
   "metadata": {},
   "source": [
    "Trainer"
   ]
  },
  {
   "cell_type": "code",
   "execution_count": 23,
   "id": "2a232204-f17e-48c5-a8b2-796fea2d7a89",
   "metadata": {},
   "outputs": [],
   "source": [
    "trainer = create_supervised_trainer(model, optimizer, loss, device=DEVICE)"
   ]
  },
  {
   "cell_type": "code",
   "execution_count": 24,
   "id": "0962689b-0420-47c3-8d7b-e888aa88cb66",
   "metadata": {},
   "outputs": [],
   "source": [
    "lr_scheduler = optim.lr_scheduler.OneCycleLR(optimizer, max_lr=LEARNING_RATE,\n",
    "                                             steps_per_epoch=len(train_loader), epochs=EPOCHS)"
   ]
  },
  {
   "cell_type": "code",
   "execution_count": 25,
   "id": "721b82be-5634-4933-bfd3-fc96aeb6bc00",
   "metadata": {},
   "outputs": [],
   "source": [
    "trainer.add_event_handler(Events.ITERATION_COMPLETED, lambda engine: lr_scheduler.step());"
   ]
  },
  {
   "cell_type": "code",
   "execution_count": 26,
   "id": "def65fcc-2188-4a15-a7df-11082d8c2297",
   "metadata": {},
   "outputs": [],
   "source": [
    "ignite.metrics.RunningAverage(output_transform=lambda x: x).attach(trainer, \"loss\")"
   ]
  },
  {
   "cell_type": "markdown",
   "id": "410c4f8d-c4d3-44fc-93f2-d0edb49cd4ed",
   "metadata": {},
   "source": [
    "Evaluator"
   ]
  },
  {
   "cell_type": "code",
   "execution_count": 27,
   "id": "8224746f-7200-4dfc-ade8-d175aa41ffc0",
   "metadata": {},
   "outputs": [],
   "source": [
    "val_metrics = {\"accuracy\": ignite.metrics.Accuracy(), \"loss\": ignite.metrics.Loss(loss)}"
   ]
  },
  {
   "cell_type": "code",
   "execution_count": 28,
   "id": "b70545fd-6d4a-4d3b-95ab-1023016f4e60",
   "metadata": {},
   "outputs": [],
   "source": [
    "evaluator = create_supervised_evaluator(model, metrics=val_metrics, device=DEVICE)"
   ]
  },
  {
   "cell_type": "code",
   "execution_count": 29,
   "id": "e4109a4f-3a4d-4f68-a63a-2551a6baca68",
   "metadata": {},
   "outputs": [],
   "source": [
    "history = defaultdict(list)"
   ]
  },
  {
   "cell_type": "code",
   "execution_count": 30,
   "id": "c8bc5f37-b4ab-401f-9b8f-ffbf20a40334",
   "metadata": {},
   "outputs": [],
   "source": [
    "@trainer.on(Events.EPOCH_COMPLETED)\n",
    "def log_validation_results(engine):\n",
    "    train_state = engine.state\n",
    "    epoch = train_state.epoch\n",
    "    max_epochs = train_state.max_epochs\n",
    "    train_loss = train_state.metrics[\"loss\"]\n",
    "    history['train loss'].append(train_loss)\n",
    "    \n",
    "    evaluator.run(val_loader)\n",
    "    val_metrics = evaluator.state.metrics\n",
    "    val_loss = val_metrics[\"loss\"]\n",
    "    val_acc = val_metrics[\"accuracy\"]\n",
    "    history['val loss'].append(val_loss)\n",
    "    history['val acc'].append(val_acc)\n",
    "    \n",
    "    print(\"{}/{} - train: loss {:.3f}; val: loss {:.3f} accuracy {:.3f}\".format(\n",
    "        epoch, max_epochs, train_loss, val_loss, val_acc))"
   ]
  },
  {
   "cell_type": "markdown",
   "id": "b48d4e12-5f9d-4a96-aca3-d56089f9d7d7",
   "metadata": {},
   "source": [
    "### Start training"
   ]
  },
  {
   "cell_type": "code",
   "execution_count": 34,
   "id": "30fd79a5-4b6a-4ca6-a2b3-068452b4edaf",
   "metadata": {},
   "outputs": [
    {
     "name": "stdout",
     "output_type": "stream",
     "text": [
      "1/100 - train: loss 1.604; val: loss 1.479 accuracy 0.556\n",
      "2/100 - train: loss 1.341; val: loss 1.273 accuracy 0.665\n",
      "3/100 - train: loss 1.198; val: loss 1.166 accuracy 0.717\n",
      "4/100 - train: loss 1.113; val: loss 1.095 accuracy 0.751\n",
      "5/100 - train: loss 1.033; val: loss 1.007 accuracy 0.785\n",
      "6/100 - train: loss 0.982; val: loss 0.965 accuracy 0.813\n",
      "7/100 - train: loss 0.932; val: loss 0.935 accuracy 0.820\n",
      "8/100 - train: loss 0.915; val: loss 0.940 accuracy 0.819\n",
      "9/100 - train: loss 0.885; val: loss 0.869 accuracy 0.849\n",
      "10/100 - train: loss 0.861; val: loss 0.868 accuracy 0.846\n",
      "11/100 - train: loss 0.850; val: loss 0.829 accuracy 0.865\n",
      "12/100 - train: loss 0.828; val: loss 0.854 accuracy 0.858\n",
      "13/100 - train: loss 0.813; val: loss 0.861 accuracy 0.850\n",
      "14/100 - train: loss 0.798; val: loss 0.814 accuracy 0.870\n",
      "15/100 - train: loss 0.793; val: loss 0.836 accuracy 0.860\n",
      "16/100 - train: loss 0.783; val: loss 0.789 accuracy 0.880\n",
      "17/100 - train: loss 0.776; val: loss 0.792 accuracy 0.880\n",
      "18/100 - train: loss 0.781; val: loss 0.808 accuracy 0.876\n",
      "19/100 - train: loss 0.764; val: loss 0.781 accuracy 0.887\n",
      "20/100 - train: loss 0.771; val: loss 0.838 accuracy 0.858\n",
      "21/100 - train: loss 0.760; val: loss 0.779 accuracy 0.887\n",
      "22/100 - train: loss 0.758; val: loss 0.799 accuracy 0.873\n",
      "23/100 - train: loss 0.753; val: loss 0.847 accuracy 0.855\n",
      "24/100 - train: loss 0.754; val: loss 0.752 accuracy 0.896\n",
      "25/100 - train: loss 0.745; val: loss 0.788 accuracy 0.882\n",
      "26/100 - train: loss 0.735; val: loss 0.772 accuracy 0.888\n",
      "27/100 - train: loss 0.731; val: loss 0.765 accuracy 0.893\n",
      "28/100 - train: loss 0.722; val: loss 0.748 accuracy 0.897\n",
      "29/100 - train: loss 0.721; val: loss 0.782 accuracy 0.884\n",
      "30/100 - train: loss 0.722; val: loss 0.760 accuracy 0.893\n",
      "31/100 - train: loss 0.709; val: loss 0.751 accuracy 0.896\n",
      "32/100 - train: loss 0.700; val: loss 0.785 accuracy 0.883\n",
      "33/100 - train: loss 0.693; val: loss 0.801 accuracy 0.874\n",
      "34/100 - train: loss 0.699; val: loss 0.738 accuracy 0.905\n",
      "35/100 - train: loss 0.698; val: loss 0.741 accuracy 0.901\n",
      "36/100 - train: loss 0.689; val: loss 0.776 accuracy 0.890\n",
      "37/100 - train: loss 0.687; val: loss 0.748 accuracy 0.902\n",
      "38/100 - train: loss 0.684; val: loss 0.744 accuracy 0.902\n",
      "39/100 - train: loss 0.682; val: loss 0.750 accuracy 0.899\n",
      "40/100 - train: loss 0.673; val: loss 0.725 accuracy 0.911\n",
      "41/100 - train: loss 0.664; val: loss 0.741 accuracy 0.900\n",
      "42/100 - train: loss 0.662; val: loss 0.785 accuracy 0.885\n",
      "43/100 - train: loss 0.668; val: loss 0.764 accuracy 0.893\n",
      "44/100 - train: loss 0.661; val: loss 0.739 accuracy 0.905\n",
      "45/100 - train: loss 0.659; val: loss 0.716 accuracy 0.914\n",
      "46/100 - train: loss 0.668; val: loss 0.717 accuracy 0.913\n",
      "47/100 - train: loss 0.645; val: loss 0.729 accuracy 0.906\n",
      "48/100 - train: loss 0.649; val: loss 0.738 accuracy 0.904\n",
      "49/100 - train: loss 0.642; val: loss 0.742 accuracy 0.902\n",
      "50/100 - train: loss 0.630; val: loss 0.726 accuracy 0.908\n",
      "51/100 - train: loss 0.635; val: loss 0.716 accuracy 0.914\n",
      "52/100 - train: loss 0.622; val: loss 0.712 accuracy 0.913\n",
      "53/100 - train: loss 0.631; val: loss 0.700 accuracy 0.920\n",
      "54/100 - train: loss 0.617; val: loss 0.705 accuracy 0.918\n",
      "55/100 - train: loss 0.618; val: loss 0.707 accuracy 0.917\n",
      "56/100 - train: loss 0.617; val: loss 0.726 accuracy 0.908\n",
      "57/100 - train: loss 0.613; val: loss 0.695 accuracy 0.922\n",
      "58/100 - train: loss 0.610; val: loss 0.711 accuracy 0.916\n",
      "59/100 - train: loss 0.604; val: loss 0.701 accuracy 0.919\n",
      "60/100 - train: loss 0.605; val: loss 0.691 accuracy 0.923\n",
      "61/100 - train: loss 0.601; val: loss 0.693 accuracy 0.923\n",
      "62/100 - train: loss 0.589; val: loss 0.702 accuracy 0.921\n",
      "63/100 - train: loss 0.594; val: loss 0.697 accuracy 0.922\n",
      "64/100 - train: loss 0.590; val: loss 0.680 accuracy 0.930\n",
      "65/100 - train: loss 0.582; val: loss 0.685 accuracy 0.923\n",
      "66/100 - train: loss 0.578; val: loss 0.684 accuracy 0.925\n",
      "67/100 - train: loss 0.576; val: loss 0.706 accuracy 0.921\n",
      "68/100 - train: loss 0.573; val: loss 0.694 accuracy 0.921\n",
      "69/100 - train: loss 0.573; val: loss 0.680 accuracy 0.929\n",
      "70/100 - train: loss 0.570; val: loss 0.678 accuracy 0.929\n",
      "71/100 - train: loss 0.562; val: loss 0.685 accuracy 0.926\n",
      "72/100 - train: loss 0.564; val: loss 0.684 accuracy 0.926\n",
      "73/100 - train: loss 0.559; val: loss 0.678 accuracy 0.930\n",
      "74/100 - train: loss 0.556; val: loss 0.672 accuracy 0.935\n",
      "75/100 - train: loss 0.555; val: loss 0.666 accuracy 0.933\n",
      "76/100 - train: loss 0.551; val: loss 0.671 accuracy 0.932\n",
      "77/100 - train: loss 0.551; val: loss 0.657 accuracy 0.939\n",
      "78/100 - train: loss 0.548; val: loss 0.667 accuracy 0.936\n",
      "79/100 - train: loss 0.543; val: loss 0.659 accuracy 0.936\n",
      "80/100 - train: loss 0.542; val: loss 0.655 accuracy 0.938\n",
      "81/100 - train: loss 0.543; val: loss 0.657 accuracy 0.936\n",
      "82/100 - train: loss 0.539; val: loss 0.653 accuracy 0.941\n",
      "83/100 - train: loss 0.539; val: loss 0.650 accuracy 0.939\n",
      "84/100 - train: loss 0.537; val: loss 0.649 accuracy 0.941\n",
      "85/100 - train: loss 0.536; val: loss 0.649 accuracy 0.941\n",
      "86/100 - train: loss 0.536; val: loss 0.647 accuracy 0.942\n",
      "87/100 - train: loss 0.532; val: loss 0.647 accuracy 0.942\n",
      "88/100 - train: loss 0.532; val: loss 0.645 accuracy 0.942\n",
      "89/100 - train: loss 0.530; val: loss 0.644 accuracy 0.942\n",
      "90/100 - train: loss 0.532; val: loss 0.642 accuracy 0.942\n",
      "91/100 - train: loss 0.531; val: loss 0.644 accuracy 0.941\n",
      "92/100 - train: loss 0.529; val: loss 0.641 accuracy 0.944\n",
      "93/100 - train: loss 0.527; val: loss 0.640 accuracy 0.944\n",
      "94/100 - train: loss 0.525; val: loss 0.640 accuracy 0.943\n",
      "95/100 - train: loss 0.527; val: loss 0.640 accuracy 0.944\n",
      "96/100 - train: loss 0.525; val: loss 0.641 accuracy 0.944\n",
      "97/100 - train: loss 0.528; val: loss 0.640 accuracy 0.944\n",
      "98/100 - train: loss 0.526; val: loss 0.640 accuracy 0.943\n",
      "99/100 - train: loss 0.527; val: loss 0.639 accuracy 0.943\n",
      "100/100 - train: loss 0.527; val: loss 0.640 accuracy 0.944\n"
     ]
    }
   ],
   "source": [
    "trainer.run(train_loader, max_epochs=EPOCHS);"
   ]
  },
  {
   "cell_type": "code",
   "execution_count": 35,
   "id": "15fbc5dc-84ae-4a95-b90c-b52cc7c79076",
   "metadata": {},
   "outputs": [],
   "source": [
    "def history_plot_train_val(history, key):\n",
    "    fig = plt.figure()\n",
    "    ax = fig.add_subplot(111)\n",
    "    xs = np.arange(1, len(history['train ' + key]) + 1)\n",
    "    ax.plot(xs, history['train ' + key], '.-', label='train')\n",
    "    ax.plot(xs, history['val ' + key], '.-', label='val')\n",
    "    ax.set_xlabel('epoch')\n",
    "    ax.set_ylabel(key)\n",
    "    ax.legend()\n",
    "    ax.grid()\n",
    "    plt.show()"
   ]
  },
  {
   "cell_type": "code",
   "execution_count": 36,
   "id": "b68c4c77-87a2-485d-819b-74d667ee4244",
   "metadata": {},
   "outputs": [],
   "source": [
    "def history_plot(history, key):\n",
    "    fig = plt.figure()\n",
    "    ax = fig.add_subplot(111)\n",
    "    xs = np.arange(1, len(history[key]) + 1)\n",
    "    ax.plot(xs, history[key], '.-')\n",
    "    ax.set_xlabel('epoch')\n",
    "    ax.set_ylabel(key)\n",
    "    ax.grid()\n",
    "    plt.show()"
   ]
  },
  {
   "cell_type": "code",
   "execution_count": 37,
   "id": "532763f2-44b8-4669-97e0-1c11083c750b",
   "metadata": {},
   "outputs": [
    {
     "data": {
      "image/png": "[encoded data removed]",
      "text/plain": [
       "<Figure size 432x288 with 1 Axes>"
      ]
     },
     "metadata": {
      "needs_background": "light"
     },
     "output_type": "display_data"
    }
   ],
   "source": [
    "history_plot_train_val(history, 'loss')"
   ]
  },
  {
   "cell_type": "code",
   "execution_count": 38,
   "id": "413b30d7-0b8a-41ce-909a-ce30183d7fb4",
   "metadata": {},
   "outputs": [
    {
     "data": {
      "image/png": "[encoded data removed]",
      "text/plain": [
       "<Figure size 432x288 with 1 Axes>"
      ]
     },
     "metadata": {
      "needs_background": "light"
     },
     "output_type": "display_data"
    }
   ],
   "source": [
    "history_plot(history, 'val acc')"
   ]
  }
 ],
 "metadata": {
  "kernelspec": {
   "display_name": "Python 3",
   "language": "python",
   "name": "python3"
  },
  "language_info": {
   "codemirror_mode": {
    "name": "ipython",
    "version": 3
   },
   "file_extension": ".py",
   "mimetype": "text/x-python",
   "name": "python",
   "nbconvert_exporter": "python",
   "pygments_lexer": "ipython3",
   "version": "3.8.10"
  }
 },
 "nbformat": 4,
 "nbformat_minor": 5
}
