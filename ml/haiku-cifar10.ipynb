{
 "cells": [
  {
   "cell_type": "markdown",
   "id": "7c9f5df4-f39e-41a1-8528-6e80856b163d",
   "metadata": {},
   "source": [
    "# CIFAR10 classification using Haiku"
   ]
  },
  {
   "cell_type": "markdown",
   "id": "3eb4a429-9832-48fe-8934-a733327e9a72",
   "metadata": {},
   "source": [
    "[Haiku](https://dm-haiku.readthedocs.io/en/latest/) is a library built on top of JAX designed to provide simple, composable abstractions for machine learning research."
   ]
  },
  {
   "cell_type": "markdown",
   "id": "3aee0822-dc3c-4f55-84c5-68826b70d267",
   "metadata": {},
   "source": [
    "GitHub repo: https://github.com/deepmind/dm-haiku"
   ]
  },
  {
   "cell_type": "markdown",
   "id": "9934fb33-b7dc-495b-bbb1-ad7f1b957ff9",
   "metadata": {},
   "source": [
    "## Configuration"
   ]
  },
  {
   "cell_type": "markdown",
   "id": "7fb404d0-6f0d-478c-b1ff-ec5171c533a5",
   "metadata": {},
   "source": [
    "Imports"
   ]
  },
  {
   "cell_type": "code",
   "execution_count": 1,
   "id": "6ade4e8b-591c-4f46-8bb7-8b6bb75e16b8",
   "metadata": {},
   "outputs": [],
   "source": [
    "import math\n",
    "from collections import namedtuple, defaultdict\n",
    "import numpy as np\n",
    "import matplotlib.pyplot as plt\n",
    "\n",
    "import jax\n",
    "import jax.numpy as jnp\n",
    "\n",
    "import haiku as hk\n",
    "import optax\n",
    "\n",
    "import tensorflow as tf\n",
    "import tensorflow_datasets as tfds"
   ]
  },
  {
   "cell_type": "markdown",
   "id": "b6e7940f-5413-4960-a927-b31b8dcc6c8c",
   "metadata": {},
   "source": [
    "Disable GPU usage by TensorFlow:"
   ]
  },
  {
   "cell_type": "code",
   "execution_count": 2,
   "id": "83c5b7c9-2fd5-434f-98a1-89938b45bf78",
   "metadata": {},
   "outputs": [],
   "source": [
    "tf.config.set_visible_devices([], 'GPU')"
   ]
  },
  {
   "cell_type": "code",
   "execution_count": 3,
   "id": "7f4681f2-2c77-4a5e-a044-35319ae07030",
   "metadata": {},
   "outputs": [
    {
     "data": {
      "text/plain": [
       "[GpuDevice(id=0, process_index=0)]"
      ]
     },
     "execution_count": 3,
     "metadata": {},
     "output_type": "execute_result"
    }
   ],
   "source": [
    "jax.local_devices()"
   ]
  },
  {
   "cell_type": "markdown",
   "id": "59001cef-3104-4591-891a-d6202428572a",
   "metadata": {},
   "source": [
    "Configuration"
   ]
  },
  {
   "cell_type": "code",
   "execution_count": 4,
   "id": "b02b0cd3-e4c7-46ea-9fb9-28dbf217ebb3",
   "metadata": {},
   "outputs": [],
   "source": [
    "IMAGE_SIZE = 32\n",
    "\n",
    "NUM_CLASSES = 10\n",
    "BATCH_SIZE = 32\n",
    "EPOCHS = 100\n",
    "\n",
    "LEARNING_RATE = 1e-2\n",
    "WEIGHT_DECAY = 1e-2"
   ]
  },
  {
   "cell_type": "markdown",
   "id": "cd0ef4e9-bc00-4bb7-9065-45ecf9d1d98c",
   "metadata": {},
   "source": [
    "## Data"
   ]
  },
  {
   "cell_type": "code",
   "execution_count": 5,
   "id": "a6c87beb-4be3-41d7-9a0f-927bf5ba8b70",
   "metadata": {},
   "outputs": [],
   "source": [
    "def augment_image(img):\n",
    "    img = tf.image.resize_with_crop_or_pad(img, 40, 40)\n",
    "    img = tf.image.random_crop(img, [32, 32, 3])\n",
    "    img = tf.image.random_flip_left_right(img)\n",
    "    img = tf.image.random_brightness(img, max_delta=0.2)\n",
    "    img = tf.image.random_contrast(img, 0.8, 1.2)\n",
    "    img = tf.image.random_saturation(img, 0.8, 1.2)\n",
    "    return img"
   ]
  },
  {
   "cell_type": "code",
   "execution_count": 6,
   "id": "7c4c3e20-effd-4f93-9fe8-809de345c4c7",
   "metadata": {},
   "outputs": [],
   "source": [
    "def train_process_sample(x):\n",
    "    image = augment_image(x['image'])\n",
    "    image = tf.image.convert_image_dtype(image, dtype=tf.float32)\n",
    "    return {'images': image, 'labels': x['label']}"
   ]
  },
  {
   "cell_type": "code",
   "execution_count": 7,
   "id": "f24df89b-59b2-44bc-b14d-e0178fc54a8a",
   "metadata": {},
   "outputs": [],
   "source": [
    "def val_process_sample(x):\n",
    "    image = tf.image.convert_image_dtype(x['image'], dtype=tf.float32)\n",
    "    return {'images': image, 'labels': x['label']}"
   ]
  },
  {
   "cell_type": "code",
   "execution_count": 8,
   "id": "d7828455-dd63-4ce9-98da-987139e84119",
   "metadata": {},
   "outputs": [],
   "source": [
    "def prepare_train_dataset(dataset_builder, batch_size):\n",
    "    ds = dataset_builder.as_dataset(split='train')\n",
    "    ds = ds.repeat()\n",
    "    ds = ds.map(train_process_sample, num_parallel_calls=tf.data.AUTOTUNE)\n",
    "    df = ds.shuffle(16 * batch_size, reshuffle_each_iteration=True, seed=0)\n",
    "    ds = ds.batch(batch_size)\n",
    "    ds = ds.prefetch(tf.data.AUTOTUNE)\n",
    "    ds = tfds.as_numpy(ds)\n",
    "    return ds"
   ]
  },
  {
   "cell_type": "code",
   "execution_count": 9,
   "id": "a7646a2d-b574-4e31-b983-8b634fc12303",
   "metadata": {},
   "outputs": [],
   "source": [
    "def prepare_val_dataset(dataset_builder, batch_size):\n",
    "    ds = dataset_builder.as_dataset(split='test')\n",
    "    ds = ds.map(val_process_sample, num_parallel_calls=tf.data.AUTOTUNE)\n",
    "    ds = ds.batch(batch_size)\n",
    "    ds = ds.repeat()\n",
    "    ds = ds.prefetch(tf.data.AUTOTUNE)\n",
    "    ds = tfds.as_numpy(ds)\n",
    "    return ds"
   ]
  },
  {
   "cell_type": "code",
   "execution_count": 10,
   "id": "3c006c69-f9a0-4b59-a56f-e34c585b4524",
   "metadata": {},
   "outputs": [],
   "source": [
    "dataset_builder = tfds.builder('cifar10')"
   ]
  },
  {
   "cell_type": "code",
   "execution_count": 11,
   "id": "5ad91831-c804-480d-868b-a35d4ffa4541",
   "metadata": {},
   "outputs": [],
   "source": [
    "dataset_builder.download_and_prepare()"
   ]
  },
  {
   "cell_type": "code",
   "execution_count": 12,
   "id": "8e2eda88-10fa-4af8-9621-4eb84f27154a",
   "metadata": {},
   "outputs": [],
   "source": [
    "train_steps_per_epoch = math.ceil(dataset_builder.info.splits['train'].num_examples / BATCH_SIZE)\n",
    "val_steps_per_epoch = math.ceil(dataset_builder.info.splits['test'].num_examples / BATCH_SIZE)"
   ]
  },
  {
   "cell_type": "code",
   "execution_count": 13,
   "id": "2fa32cfe-3ca1-4cf9-a584-a8d2eebe560d",
   "metadata": {},
   "outputs": [],
   "source": [
    "train_ds = prepare_train_dataset(dataset_builder, BATCH_SIZE)\n",
    "val_ds = prepare_val_dataset(dataset_builder, BATCH_SIZE)"
   ]
  },
  {
   "cell_type": "code",
   "execution_count": 14,
   "id": "3d44b61c-b619-4d01-92a3-f9b41718687f",
   "metadata": {},
   "outputs": [],
   "source": [
    "train_iter = iter(train_ds)\n",
    "val_iter = iter(val_ds)"
   ]
  },
  {
   "cell_type": "markdown",
   "id": "b12f0c39-f8eb-4a07-8e49-7657ba9625de",
   "metadata": {},
   "source": [
    "## Model"
   ]
  },
  {
   "cell_type": "markdown",
   "id": "4e7febb7-effd-4cda-a6b5-5de5c837f7ca",
   "metadata": {},
   "source": [
    "Utilities"
   ]
  },
  {
   "cell_type": "code",
   "execution_count": 15,
   "id": "f2a1caae-8936-4abc-80ce-6480939e6c77",
   "metadata": {},
   "outputs": [],
   "source": [
    "class Sequential(hk.Module):\n",
    "    def __init__(self, layers):\n",
    "        super().__init__()\n",
    "        self.layers = tuple(layers)\n",
    "    \n",
    "    def __call__(self, inputs, *args):\n",
    "        out = inputs\n",
    "        for layer in self.layers:\n",
    "            out = layer(out, *args)\n",
    "        return out"
   ]
  },
  {
   "cell_type": "code",
   "execution_count": 16,
   "id": "f93950d2-9185-4f60-98d2-9d64dfa948ff",
   "metadata": {},
   "outputs": [],
   "source": [
    "class ConvBlock(hk.Module):\n",
    "    def __init__(self, channels, kernel_size, stride = 1, act = True):\n",
    "        super().__init__()\n",
    "        self.act = act\n",
    "        self.conv = hk.Conv2D(channels, kernel_size, stride=stride, with_bias=False, padding=\"SAME\",\n",
    "                              w_init=hk.initializers.VarianceScaling(2., \"fan_in\", \"truncated_normal\"))\n",
    "        self.bn = hk.BatchNorm(create_scale=True, create_offset=True, decay_rate=0.9)\n",
    "    \n",
    "    def __call__(self, inputs, is_training):\n",
    "        out = self.conv(inputs)\n",
    "        out = self.bn(out, is_training)\n",
    "        if self.act:\n",
    "            out = jax.nn.swish(out)\n",
    "        return out"
   ]
  },
  {
   "cell_type": "markdown",
   "id": "54511cc2-cb11-4b1b-9638-a32289c6cdcc",
   "metadata": {},
   "source": [
    "Residual blocks"
   ]
  },
  {
   "cell_type": "code",
   "execution_count": 17,
   "id": "7dd70841-5940-4dda-baeb-e29ebe1d92ef",
   "metadata": {},
   "outputs": [],
   "source": [
    "class ResidualBlock(hk.Module):\n",
    "    def __init__(self, channels):\n",
    "        super().__init__()\n",
    "        self.channels = channels\n",
    "        self.residual_blocks = Sequential([ConvBlock(channels, 3),\n",
    "                                           ConvBlock(channels, 3, act=False)])\n",
    "    \n",
    "    def __call__(self, inputs, is_training):\n",
    "        shortcut = inputs\n",
    "        residual = self.residual_blocks(inputs, is_training)\n",
    "        \n",
    "        if shortcut.shape != residual.shape:\n",
    "            shortcut = ConvBlock(self.channels, 1, act=False)(shortcut, is_training)\n",
    "        \n",
    "        gamma = hk.get_parameter(\"gamma\", [], inputs.dtype, init=jnp.zeros)\n",
    "        out = shortcut + gamma * residual\n",
    "        out = jax.nn.swish(out)\n",
    "        return out"
   ]
  },
  {
   "cell_type": "code",
   "execution_count": 18,
   "id": "996dfbaa-8f1a-4580-8a5f-659b7d20119c",
   "metadata": {},
   "outputs": [],
   "source": [
    "class Stage(hk.Module):\n",
    "    def __init__(self, channels, num_blocks, stride):\n",
    "        super().__init__()\n",
    "        self.stride = stride\n",
    "        if stride > 1:\n",
    "            self.pool = hk.MaxPool(stride, strides=stride, padding=\"VALID\")\n",
    "        self.blocks = Sequential([ResidualBlock(channels) for _ in range(num_blocks)])\n",
    "    \n",
    "    def __call__(self, inputs, is_training):\n",
    "        out = inputs\n",
    "        if self.stride > 1:\n",
    "            out = self.pool(out)\n",
    "        out = self.blocks(out, is_training)\n",
    "        return out"
   ]
  },
  {
   "cell_type": "code",
   "execution_count": 19,
   "id": "6b437c51-e12b-427e-8b69-45ab0be6e514",
   "metadata": {},
   "outputs": [],
   "source": [
    "class Body(hk.Module):\n",
    "    def __init__(self, channel_list, num_blocks_list, strides):\n",
    "        super().__init__()\n",
    "        self.stages = Sequential([Stage(channels, num_blocks, stride)\n",
    "                                  for channels, num_blocks, stride in zip(channel_list, num_blocks_list, strides)])\n",
    "    \n",
    "    def __call__(self, inputs, is_training):\n",
    "        out = self.stages(inputs, is_training)\n",
    "        return out"
   ]
  },
  {
   "cell_type": "markdown",
   "id": "80afd4e3-d1a4-4bb3-8f0d-d4d3c4447407",
   "metadata": {},
   "source": [
    "ResNet"
   ]
  },
  {
   "cell_type": "code",
   "execution_count": 20,
   "id": "d75aaf04-b68b-4cf0-aa45-8ada254aa31e",
   "metadata": {},
   "outputs": [],
   "source": [
    "class Stem(hk.Module):\n",
    "    def __init__(self, channel_list, stride):\n",
    "        super().__init__()\n",
    "        blocks = []\n",
    "        for channels in channel_list:\n",
    "            blocks.append(ConvBlock(channels, 3, stride=stride))\n",
    "            stride = 1\n",
    "        self.blocks = Sequential(blocks)\n",
    "    \n",
    "    def __call__(self, inputs, is_training):\n",
    "        out = self.blocks(inputs, is_training)\n",
    "        return out"
   ]
  },
  {
   "cell_type": "code",
   "execution_count": 21,
   "id": "1bbb0ecf-6916-4fdc-84f5-bd5244f35791",
   "metadata": {},
   "outputs": [],
   "source": [
    "class Head(hk.Module):\n",
    "    def __init__(self, classes, p_drop=0.):\n",
    "        super().__init__()\n",
    "        self.p_drop = p_drop\n",
    "        self.linear = hk.Linear(classes)\n",
    "    \n",
    "    def __call__(self, inputs, is_training):\n",
    "        out = jnp.mean(inputs, axis=(1, 2))\n",
    "        if is_training and self.p_drop > 0:\n",
    "            out = hk.dropout(hk.next_rng_key(), self.p_drop, out)\n",
    "        out = self.linear(out)\n",
    "        return out"
   ]
  },
  {
   "cell_type": "code",
   "execution_count": 22,
   "id": "501f6738-d325-465b-9231-e86b5187d89c",
   "metadata": {},
   "outputs": [],
   "source": [
    "class ResNet(hk.Module):\n",
    "    def __init__(self, classes, channel_list, num_blocks_list, strides, head_p_drop = 0.):\n",
    "        super().__init__()\n",
    "        self.stem = Stem([32, 32, 64], strides[0])\n",
    "        self.body = Body(channel_list, num_blocks_list, strides[1:])\n",
    "        self.head = Head(classes, head_p_drop)\n",
    "    \n",
    "    def __call__(self, inputs, is_training):\n",
    "        out = self.stem(inputs, is_training)\n",
    "        out = self.body(out, is_training)\n",
    "        out = self.head(out, is_training)\n",
    "        return out"
   ]
  },
  {
   "cell_type": "markdown",
   "id": "b1430bfe-1399-4c2d-b0fb-adf95f3e572a",
   "metadata": {},
   "source": [
    "### Model initialization"
   ]
  },
  {
   "cell_type": "code",
   "execution_count": 23,
   "id": "d1978d30-8094-4124-8de5-b921b8eb3683",
   "metadata": {},
   "outputs": [],
   "source": [
    "def _forward(batch, is_training):\n",
    "    images = batch['images']\n",
    "    model = ResNet(NUM_CLASSES,\n",
    "                   channel_list = [64, 128, 256, 512],\n",
    "                   num_blocks_list = [2, 2, 2, 2],\n",
    "                   strides = [1, 1, 2, 2, 2],\n",
    "                   head_p_drop = 0.3)\n",
    "    return model(images, is_training)"
   ]
  },
  {
   "cell_type": "code",
   "execution_count": 24,
   "id": "951a8aae-c46d-43e4-870c-93da88817301",
   "metadata": {},
   "outputs": [],
   "source": [
    "forward = hk.transform_with_state(_forward)"
   ]
  },
  {
   "cell_type": "code",
   "execution_count": 25,
   "id": "bf21f2e8-52c4-46a0-95d8-8a67bbf5050d",
   "metadata": {},
   "outputs": [],
   "source": [
    "rng = jax.random.PRNGKey(0)"
   ]
  },
  {
   "cell_type": "code",
   "execution_count": 26,
   "id": "db1c90c9-55c2-48d8-94cb-938c4cc5395c",
   "metadata": {},
   "outputs": [],
   "source": [
    "init_rng, rng = jax.random.split(rng)"
   ]
  },
  {
   "cell_type": "code",
   "execution_count": 27,
   "id": "9ef104b0-6a47-4805-b352-0c87f96f95ce",
   "metadata": {},
   "outputs": [],
   "source": [
    "batch = next(train_iter)"
   ]
  },
  {
   "cell_type": "code",
   "execution_count": 28,
   "id": "f21cdad9-7960-4f81-9540-39c1eb57af87",
   "metadata": {},
   "outputs": [],
   "source": [
    "params, state = forward.init(init_rng, batch, is_training=True)"
   ]
  },
  {
   "cell_type": "markdown",
   "id": "371e3368-5e6f-4b8b-9b43-7b1d8702a57e",
   "metadata": {},
   "source": [
    "### Model summary"
   ]
  },
  {
   "cell_type": "code",
   "execution_count": 29,
   "id": "70bbb4ae-8a45-4884-886c-d6ee0cd24830",
   "metadata": {},
   "outputs": [],
   "source": [
    "def summary_fn(params, state, rng, batch):\n",
    "    logits, new_state = forward.apply(params, state, rng, batch, is_training=True)\n",
    "    return logits"
   ]
  },
  {
   "cell_type": "code",
   "execution_count": 30,
   "id": "abd883cb-e236-490b-a627-0fb2988e1b90",
   "metadata": {},
   "outputs": [],
   "source": [
    "def format_module_name(name):\n",
    "    parts = name.split('~')\n",
    "    return \"  \" * (len(parts) - 1) + parts[-1]"
   ]
  },
  {
   "cell_type": "code",
   "execution_count": 31,
   "id": "907a860c-d3b2-4e1f-a7b4-298fe58f27a4",
   "metadata": {},
   "outputs": [],
   "source": [
    "tabulate_fn = hk.experimental.eval_summary(summary_fn)"
   ]
  },
  {
   "cell_type": "code",
   "execution_count": 32,
   "id": "26af3624-3f79-43f7-aaba-e6fc8e00e368",
   "metadata": {},
   "outputs": [],
   "source": [
    "summary = tabulate_fn(params, state, rng, batch)"
   ]
  },
  {
   "cell_type": "code",
   "execution_count": 33,
   "id": "80bcfea1-82b5-4f1b-be59-85da49e1091a",
   "metadata": {},
   "outputs": [
    {
     "name": "stdout",
     "output_type": "stream",
     "text": [
      "Module                           | Input             | Output            | Param count\n",
      "======================================================================================\n",
      "res_net                          | f32[32,32,32,3]   | f32[32,10]        | 11,200,882\n",
      "  /stem                          | f32[32,32,32,3]   | f32[32,32,32,64]  | 28,768\n",
      "    /sequential                  | f32[32,32,32,3]   | f32[32,32,32,64]  | 28,768\n",
      "    /conv_block                  | f32[32,32,32,3]   | f32[32,32,32,32]  | 928\n",
      "      /conv2_d                   | f32[32,32,32,3]   | f32[32,32,32,32]  | 864\n",
      "      /batch_norm                | f32[32,32,32,32]  | f32[32,32,32,32]  | 64\n",
      "        /mean_ema                | f32[1,1,1,32]     | f32[1,1,1,32]     | 0\n",
      "        /var_ema                 | f32[1,1,1,32]     | f32[1,1,1,32]     | 0\n",
      "    /conv_block_1                | f32[32,32,32,32]  | f32[32,32,32,32]  | 9,280\n",
      "      /conv2_d                   | f32[32,32,32,32]  | f32[32,32,32,32]  | 9,216\n",
      "      /batch_norm                | f32[32,32,32,32]  | f32[32,32,32,32]  | 64\n",
      "        /mean_ema                | f32[1,1,1,32]     | f32[1,1,1,32]     | 0\n",
      "        /var_ema                 | f32[1,1,1,32]     | f32[1,1,1,32]     | 0\n",
      "    /conv_block_2                | f32[32,32,32,32]  | f32[32,32,32,64]  | 18,560\n",
      "      /conv2_d                   | f32[32,32,32,32]  | f32[32,32,32,64]  | 18,432\n",
      "      /batch_norm                | f32[32,32,32,64]  | f32[32,32,32,64]  | 128\n",
      "        /mean_ema                | f32[1,1,1,64]     | f32[1,1,1,64]     | 0\n",
      "        /var_ema                 | f32[1,1,1,64]     | f32[1,1,1,64]     | 0\n",
      "  /body                          | f32[32,32,32,64]  | f32[32,4,4,512]   | 11,166,984\n",
      "    /sequential                  | f32[32,32,32,64]  | f32[32,4,4,512]   | 11,166,984\n",
      "    /stage                       | f32[32,32,32,64]  | f32[32,32,32,64]  | 147,970\n",
      "      /sequential                | f32[32,32,32,64]  | f32[32,32,32,64]  | 147,970\n",
      "      /residual_block            | f32[32,32,32,64]  | f32[32,32,32,64]  | 73,985\n",
      "        /sequential              | f32[32,32,32,64]  | f32[32,32,32,64]  | 73,985\n",
      "        /conv_block              | f32[32,32,32,64]  | f32[32,32,32,64]  | 36,993\n",
      "          /conv2_d               | f32[32,32,32,64]  | f32[32,32,32,64]  | 36,864\n",
      "          /batch_norm            | f32[32,32,32,64]  | f32[32,32,32,64]  | 129\n",
      "            /mean_ema            | f32[1,1,1,64]     | f32[1,1,1,64]     | 0\n",
      "            /var_ema             | f32[1,1,1,64]     | f32[1,1,1,64]     | 0\n",
      "        /conv_block_1            | f32[32,32,32,64]  | f32[32,32,32,64]  | 36,993\n",
      "          /conv2_d               | f32[32,32,32,64]  | f32[32,32,32,64]  | 36,864\n",
      "          /batch_norm            | f32[32,32,32,64]  | f32[32,32,32,64]  | 129\n",
      "            /mean_ema            | f32[1,1,1,64]     | f32[1,1,1,64]     | 0\n",
      "            /var_ema             | f32[1,1,1,64]     | f32[1,1,1,64]     | 0\n",
      "      /residual_block_1          | f32[32,32,32,64]  | f32[32,32,32,64]  | 73,985\n",
      "        /sequential              | f32[32,32,32,64]  | f32[32,32,32,64]  | 73,985\n",
      "        /conv_block              | f32[32,32,32,64]  | f32[32,32,32,64]  | 36,993\n",
      "          /conv2_d               | f32[32,32,32,64]  | f32[32,32,32,64]  | 36,864\n",
      "          /batch_norm            | f32[32,32,32,64]  | f32[32,32,32,64]  | 129\n",
      "            /mean_ema            | f32[1,1,1,64]     | f32[1,1,1,64]     | 0\n",
      "            /var_ema             | f32[1,1,1,64]     | f32[1,1,1,64]     | 0\n",
      "        /conv_block_1            | f32[32,32,32,64]  | f32[32,32,32,64]  | 36,993\n",
      "          /conv2_d               | f32[32,32,32,64]  | f32[32,32,32,64]  | 36,864\n",
      "          /batch_norm            | f32[32,32,32,64]  | f32[32,32,32,64]  | 129\n",
      "            /mean_ema            | f32[1,1,1,64]     | f32[1,1,1,64]     | 0\n",
      "            /var_ema             | f32[1,1,1,64]     | f32[1,1,1,64]     | 0\n",
      "    /stage_1                     | f32[32,32,32,64]  | f32[32,16,16,128] | 525,570\n",
      "      /max_pool                  | f32[32,32,32,64]  | f32[32,16,16,64]  | 0\n",
      "      /sequential                | f32[32,16,16,64]  | f32[32,16,16,128] | 525,570\n",
      "      /residual_block            | f32[32,16,16,64]  | f32[32,16,16,128] | 230,145\n",
      "        /sequential              | f32[32,16,16,64]  | f32[32,16,16,128] | 221,697\n",
      "        /conv_block              | f32[32,16,16,64]  | f32[32,16,16,128] | 73,985\n",
      "          /conv2_d               | f32[32,16,16,64]  | f32[32,16,16,128] | 73,728\n",
      "          /batch_norm            | f32[32,16,16,128] | f32[32,16,16,128] | 257\n",
      "            /mean_ema            | f32[1,1,1,128]    | f32[1,1,1,128]    | 0\n",
      "            /var_ema             | f32[1,1,1,128]    | f32[1,1,1,128]    | 0\n",
      "        /conv_block_1            | f32[32,16,16,128] | f32[32,16,16,128] | 147,713\n",
      "          /conv2_d               | f32[32,16,16,128] | f32[32,16,16,128] | 147,456\n",
      "          /batch_norm            | f32[32,16,16,128] | f32[32,16,16,128] | 257\n",
      "            /mean_ema            | f32[1,1,1,128]    | f32[1,1,1,128]    | 0\n",
      "            /var_ema             | f32[1,1,1,128]    | f32[1,1,1,128]    | 0\n",
      "      /residual_block/conv_block | f32[32,16,16,64]  | f32[32,16,16,128] | 8,449\n",
      "        /conv2_d                 | f32[32,16,16,64]  | f32[32,16,16,128] | 8,192\n",
      "        /batch_norm              | f32[32,16,16,128] | f32[32,16,16,128] | 257\n",
      "          /mean_ema              | f32[1,1,1,128]    | f32[1,1,1,128]    | 0\n",
      "          /var_ema               | f32[1,1,1,128]    | f32[1,1,1,128]    | 0\n",
      "      /residual_block_1          | f32[32,16,16,128] | f32[32,16,16,128] | 295,425\n",
      "        /sequential              | f32[32,16,16,128] | f32[32,16,16,128] | 295,425\n",
      "        /conv_block              | f32[32,16,16,128] | f32[32,16,16,128] | 147,713\n",
      "          /conv2_d               | f32[32,16,16,128] | f32[32,16,16,128] | 147,456\n",
      "          /batch_norm            | f32[32,16,16,128] | f32[32,16,16,128] | 257\n",
      "            /mean_ema            | f32[1,1,1,128]    | f32[1,1,1,128]    | 0\n",
      "            /var_ema             | f32[1,1,1,128]    | f32[1,1,1,128]    | 0\n",
      "        /conv_block_1            | f32[32,16,16,128] | f32[32,16,16,128] | 147,713\n",
      "          /conv2_d               | f32[32,16,16,128] | f32[32,16,16,128] | 147,456\n",
      "          /batch_norm            | f32[32,16,16,128] | f32[32,16,16,128] | 257\n",
      "            /mean_ema            | f32[1,1,1,128]    | f32[1,1,1,128]    | 0\n",
      "            /var_ema             | f32[1,1,1,128]    | f32[1,1,1,128]    | 0\n",
      "    /stage_2                     | f32[32,16,16,128] | f32[32,8,8,256]   | 2,099,714\n",
      "      /max_pool                  | f32[32,16,16,128] | f32[32,8,8,128]   | 0\n",
      "      /sequential                | f32[32,8,8,128]   | f32[32,8,8,256]   | 2,099,714\n",
      "      /residual_block            | f32[32,8,8,128]   | f32[32,8,8,256]   | 919,041\n",
      "        /sequential              | f32[32,8,8,128]   | f32[32,8,8,256]   | 885,761\n",
      "        /conv_block              | f32[32,8,8,128]   | f32[32,8,8,256]   | 295,425\n",
      "          /conv2_d               | f32[32,8,8,128]   | f32[32,8,8,256]   | 294,912\n",
      "          /batch_norm            | f32[32,8,8,256]   | f32[32,8,8,256]   | 513\n",
      "            /mean_ema            | f32[1,1,1,256]    | f32[1,1,1,256]    | 0\n",
      "            /var_ema             | f32[1,1,1,256]    | f32[1,1,1,256]    | 0\n",
      "        /conv_block_1            | f32[32,8,8,256]   | f32[32,8,8,256]   | 590,337\n",
      "          /conv2_d               | f32[32,8,8,256]   | f32[32,8,8,256]   | 589,824\n",
      "          /batch_norm            | f32[32,8,8,256]   | f32[32,8,8,256]   | 513\n",
      "            /mean_ema            | f32[1,1,1,256]    | f32[1,1,1,256]    | 0\n",
      "            /var_ema             | f32[1,1,1,256]    | f32[1,1,1,256]    | 0\n",
      "      /residual_block/conv_block | f32[32,8,8,128]   | f32[32,8,8,256]   | 33,281\n",
      "        /conv2_d                 | f32[32,8,8,128]   | f32[32,8,8,256]   | 32,768\n",
      "        /batch_norm              | f32[32,8,8,256]   | f32[32,8,8,256]   | 513\n",
      "          /mean_ema              | f32[1,1,1,256]    | f32[1,1,1,256]    | 0\n",
      "          /var_ema               | f32[1,1,1,256]    | f32[1,1,1,256]    | 0\n",
      "      /residual_block_1          | f32[32,8,8,256]   | f32[32,8,8,256]   | 1,180,673\n",
      "        /sequential              | f32[32,8,8,256]   | f32[32,8,8,256]   | 1,180,673\n",
      "        /conv_block              | f32[32,8,8,256]   | f32[32,8,8,256]   | 590,337\n",
      "          /conv2_d               | f32[32,8,8,256]   | f32[32,8,8,256]   | 589,824\n",
      "          /batch_norm            | f32[32,8,8,256]   | f32[32,8,8,256]   | 513\n",
      "            /mean_ema            | f32[1,1,1,256]    | f32[1,1,1,256]    | 0\n",
      "            /var_ema             | f32[1,1,1,256]    | f32[1,1,1,256]    | 0\n",
      "        /conv_block_1            | f32[32,8,8,256]   | f32[32,8,8,256]   | 590,337\n",
      "          /conv2_d               | f32[32,8,8,256]   | f32[32,8,8,256]   | 589,824\n",
      "          /batch_norm            | f32[32,8,8,256]   | f32[32,8,8,256]   | 513\n",
      "            /mean_ema            | f32[1,1,1,256]    | f32[1,1,1,256]    | 0\n",
      "            /var_ema             | f32[1,1,1,256]    | f32[1,1,1,256]    | 0\n",
      "    /stage_3                     | f32[32,8,8,256]   | f32[32,4,4,512]   | 8,393,730\n",
      "      /max_pool                  | f32[32,8,8,256]   | f32[32,4,4,256]   | 0\n",
      "      /sequential                | f32[32,4,4,256]   | f32[32,4,4,512]   | 8,393,730\n",
      "      /residual_block            | f32[32,4,4,256]   | f32[32,4,4,512]   | 3,673,089\n",
      "        /sequential              | f32[32,4,4,256]   | f32[32,4,4,512]   | 3,540,993\n",
      "        /conv_block              | f32[32,4,4,256]   | f32[32,4,4,512]   | 1,180,673\n",
      "          /conv2_d               | f32[32,4,4,256]   | f32[32,4,4,512]   | 1,179,648\n",
      "          /batch_norm            | f32[32,4,4,512]   | f32[32,4,4,512]   | 1,025\n",
      "            /mean_ema            | f32[1,1,1,512]    | f32[1,1,1,512]    | 0\n",
      "            /var_ema             | f32[1,1,1,512]    | f32[1,1,1,512]    | 0\n",
      "        /conv_block_1            | f32[32,4,4,512]   | f32[32,4,4,512]   | 2,360,321\n",
      "          /conv2_d               | f32[32,4,4,512]   | f32[32,4,4,512]   | 2,359,296\n",
      "          /batch_norm            | f32[32,4,4,512]   | f32[32,4,4,512]   | 1,025\n",
      "            /mean_ema            | f32[1,1,1,512]    | f32[1,1,1,512]    | 0\n",
      "            /var_ema             | f32[1,1,1,512]    | f32[1,1,1,512]    | 0\n",
      "      /residual_block/conv_block | f32[32,4,4,256]   | f32[32,4,4,512]   | 132,097\n",
      "        /conv2_d                 | f32[32,4,4,256]   | f32[32,4,4,512]   | 131,072\n",
      "        /batch_norm              | f32[32,4,4,512]   | f32[32,4,4,512]   | 1,025\n",
      "          /mean_ema              | f32[1,1,1,512]    | f32[1,1,1,512]    | 0\n",
      "          /var_ema               | f32[1,1,1,512]    | f32[1,1,1,512]    | 0\n",
      "      /residual_block_1          | f32[32,4,4,512]   | f32[32,4,4,512]   | 4,720,641\n",
      "        /sequential              | f32[32,4,4,512]   | f32[32,4,4,512]   | 4,720,641\n",
      "        /conv_block              | f32[32,4,4,512]   | f32[32,4,4,512]   | 2,360,321\n",
      "          /conv2_d               | f32[32,4,4,512]   | f32[32,4,4,512]   | 2,359,296\n",
      "          /batch_norm            | f32[32,4,4,512]   | f32[32,4,4,512]   | 1,025\n",
      "            /mean_ema            | f32[1,1,1,512]    | f32[1,1,1,512]    | 0\n",
      "            /var_ema             | f32[1,1,1,512]    | f32[1,1,1,512]    | 0\n",
      "        /conv_block_1            | f32[32,4,4,512]   | f32[32,4,4,512]   | 2,360,321\n",
      "          /conv2_d               | f32[32,4,4,512]   | f32[32,4,4,512]   | 2,359,296\n",
      "          /batch_norm            | f32[32,4,4,512]   | f32[32,4,4,512]   | 1,025\n",
      "            /mean_ema            | f32[1,1,1,512]    | f32[1,1,1,512]    | 0\n",
      "            /var_ema             | f32[1,1,1,512]    | f32[1,1,1,512]    | 0\n",
      "  /head                          | f32[32,4,4,512]   | f32[32,10]        | 5,130\n",
      "    /linear                      | f32[32,512]       | f32[32,10]        | 5,130\n"
     ]
    }
   ],
   "source": [
    "print(\"{:32} | {:17} | {:17} | {}\".format(\"Module\",\"Input\",\"Output\", \"Param count\"))\n",
    "print(\"=\" * 86)\n",
    "for i in summary:\n",
    "    print(\"{:32} | {:17} | {:17} | {:,}\".format(\n",
    "        format_module_name(i.module_details.module.module_name),\n",
    "        str(i.args_spec[0]),\n",
    "        str(i.output_spec),\n",
    "        hk.data_structures.tree_size(i.module_details.params)))"
   ]
  },
  {
   "cell_type": "markdown",
   "id": "6c1b0163-7fc0-4ab6-a53b-b2e61c18a655",
   "metadata": {
    "tags": []
   },
   "source": [
    "## Training"
   ]
  },
  {
   "cell_type": "markdown",
   "id": "47b1071d-77e4-4884-a90e-8c5625de13dc",
   "metadata": {},
   "source": [
    "### Loss"
   ]
  },
  {
   "cell_type": "code",
   "execution_count": 34,
   "id": "aca4d45e-09b8-4b85-b80b-b9eced478576",
   "metadata": {},
   "outputs": [],
   "source": [
    "def cross_entropy_loss(logits, labels):\n",
    "    one_hot_labels = jax.nn.one_hot(labels, NUM_CLASSES)\n",
    "    loss = optax.softmax_cross_entropy(logits=logits, labels=one_hot_labels).mean()\n",
    "    return loss"
   ]
  },
  {
   "cell_type": "code",
   "execution_count": 35,
   "id": "61c450db-ab1c-41cc-a50a-063ffe1d6884",
   "metadata": {},
   "outputs": [],
   "source": [
    "@jax.jit\n",
    "def loss_fn(params, state, rng, batch):\n",
    "    logits, new_state = forward.apply(params, state, rng, batch, is_training=True)\n",
    "    loss = cross_entropy_loss(logits, batch['labels'])\n",
    "    return loss, (new_state, logits)"
   ]
  },
  {
   "cell_type": "code",
   "execution_count": 36,
   "id": "5dda8964-14e9-4a4b-8083-2da3e9ad56b4",
   "metadata": {},
   "outputs": [],
   "source": [
    "grad_fn = jax.grad(loss_fn, has_aux=True)"
   ]
  },
  {
   "cell_type": "markdown",
   "id": "b89fb4f6-512e-4a06-99ea-47b17a82ccbe",
   "metadata": {},
   "source": [
    "### Metrics"
   ]
  },
  {
   "cell_type": "code",
   "execution_count": 37,
   "id": "8b63b3d0-f5cc-4d57-9199-92cf145076ba",
   "metadata": {},
   "outputs": [],
   "source": [
    "def compute_metrics(logits, labels):\n",
    "    loss = cross_entropy_loss(logits, labels)\n",
    "    accuracy = jnp.mean(jnp.argmax(logits, -1) == labels)\n",
    "    metrics = {\n",
    "      'loss': loss,\n",
    "      'accuracy': accuracy,\n",
    "    }\n",
    "    return metrics"
   ]
  },
  {
   "cell_type": "markdown",
   "id": "0cd5ec06-0657-42f5-8516-350fa54d0376",
   "metadata": {},
   "source": [
    "### Optimizer"
   ]
  },
  {
   "cell_type": "code",
   "execution_count": 38,
   "id": "f4d155bc-3d30-410b-b08c-18ebc7752f62",
   "metadata": {},
   "outputs": [],
   "source": [
    "num_train_steps = train_steps_per_epoch * EPOCHS"
   ]
  },
  {
   "cell_type": "code",
   "execution_count": 39,
   "id": "2514fe7d-2e2b-4179-a46e-a39e2b27f293",
   "metadata": {},
   "outputs": [],
   "source": [
    "shedule_fn = optax.cosine_onecycle_schedule(transition_steps=num_train_steps, peak_value=LEARNING_RATE)"
   ]
  },
  {
   "cell_type": "code",
   "execution_count": 40,
   "id": "4f02ce73-6c34-493f-9dc3-cc40e588a1fe",
   "metadata": {},
   "outputs": [],
   "source": [
    "optim = optax.adamw(learning_rate=shedule_fn, weight_decay=WEIGHT_DECAY)"
   ]
  },
  {
   "cell_type": "code",
   "execution_count": 41,
   "id": "18a68c09-4017-4670-b06f-411782061cda",
   "metadata": {},
   "outputs": [],
   "source": [
    "opt_state = optim.init(params)"
   ]
  },
  {
   "cell_type": "markdown",
   "id": "39241800-f9d3-49ac-b034-e53c42e4e120",
   "metadata": {},
   "source": [
    "### Train State"
   ]
  },
  {
   "cell_type": "code",
   "execution_count": 42,
   "id": "3af947b2-64f2-475c-9694-6c212bff640a",
   "metadata": {},
   "outputs": [],
   "source": [
    "TrainState = namedtuple(\"TrainState\", [\"params\", \"state\", \"opt_state\", \"rng\"])"
   ]
  },
  {
   "cell_type": "code",
   "execution_count": 43,
   "id": "42012d47-9619-4ca7-a2b3-566024ae71ed",
   "metadata": {},
   "outputs": [],
   "source": [
    "train_state = TrainState(params, state, opt_state, rng)"
   ]
  },
  {
   "cell_type": "markdown",
   "id": "5ec579a7-4703-4a35-a9a6-37c33301e768",
   "metadata": {},
   "source": [
    "### Train functions"
   ]
  },
  {
   "cell_type": "code",
   "execution_count": 44,
   "id": "5415a1c0-d2b9-4b51-8c06-e045184166ad",
   "metadata": {},
   "outputs": [],
   "source": [
    "@jax.jit\n",
    "def train_step(train_state, batch):\n",
    "    rng, new_rng = jax.random.split(train_state.rng)\n",
    "    grads, (new_state, logits) = grad_fn(train_state.params, train_state.state, rng, batch)\n",
    "    \n",
    "    updates, new_opt_state = optim.update(grads, train_state.opt_state, train_state.params)\n",
    "    new_params = optax.apply_updates(train_state.params, updates)\n",
    "    \n",
    "    train_state = TrainState(new_params, new_state, new_opt_state, new_rng)\n",
    "    \n",
    "    metrics = compute_metrics(logits, batch['labels'])\n",
    "    return train_state, metrics"
   ]
  },
  {
   "cell_type": "code",
   "execution_count": 45,
   "id": "3e2992c4-505b-4cad-a6ac-9bec1358153a",
   "metadata": {},
   "outputs": [],
   "source": [
    "@jax.jit\n",
    "def eval_step(train_state, batch):\n",
    "    logits, _ = forward.apply(train_state.params, train_state.state, None, batch, is_training=False)\n",
    "    metrics = compute_metrics(logits, batch['labels'])\n",
    "    return metrics"
   ]
  },
  {
   "cell_type": "code",
   "execution_count": 46,
   "id": "3eae9807-c5ed-4ace-a267-f44191581319",
   "metadata": {},
   "outputs": [],
   "source": [
    "def metrics_summary(metrics):\n",
    "    metrics = jax.device_get(metrics)\n",
    "    metrics = jax.tree_multimap(lambda *args: np.stack(args), *metrics)\n",
    "    summary = jax.tree_map(lambda x: x.mean(), metrics)\n",
    "    return summary"
   ]
  },
  {
   "cell_type": "code",
   "execution_count": 47,
   "id": "af99b39c-2b88-424f-af66-55a2c5e4edb1",
   "metadata": {},
   "outputs": [],
   "source": [
    "def log_metrics(history, summary, name):\n",
    "    print(f\"{name}: \", end='', flush=True)\n",
    "    for key, val in summary.items():\n",
    "        history[name + ' ' + key].append(val)\n",
    "        print(f\"{key} {val:.3f} \", end='')"
   ]
  },
  {
   "cell_type": "code",
   "execution_count": 48,
   "id": "8804a033-dfd7-41ce-a94a-6d489fb324e2",
   "metadata": {},
   "outputs": [],
   "source": [
    "def train(train_state, train_iter, val_iter, epochs):\n",
    "    history = defaultdict(list)\n",
    "    \n",
    "    for epoch in range(1, epochs + 1):\n",
    "        print(f\"{epoch}/{epochs} - \", end='')\n",
    "        \n",
    "        train_metrics = []\n",
    "        for step in range(train_steps_per_epoch):\n",
    "            batch = next(train_iter)\n",
    "            train_state, metrics = train_step(train_state, batch)\n",
    "            train_metrics.append(metrics)\n",
    "        \n",
    "        summary = metrics_summary(train_metrics)\n",
    "        log_metrics(history, summary, 'train')\n",
    "        print('; ', end='')\n",
    "        \n",
    "        val_metrics = []\n",
    "        for step in range(val_steps_per_epoch):\n",
    "            batch = next(val_iter)\n",
    "            metrics = eval_step(train_state, batch)\n",
    "            val_metrics.append(metrics)\n",
    "        \n",
    "        summary = metrics_summary(val_metrics)\n",
    "        log_metrics(history, summary, 'val')\n",
    "        print()\n",
    "    \n",
    "    return history"
   ]
  },
  {
   "cell_type": "markdown",
   "id": "f1988a88-b45e-41ca-8530-ba0d1b6e12e2",
   "metadata": {},
   "source": [
    "### Start training"
   ]
  },
  {
   "cell_type": "code",
   "execution_count": 49,
   "id": "d8305d25-a784-4b55-9a1f-7306d8219847",
   "metadata": {},
   "outputs": [
    {
     "name": "stdout",
     "output_type": "stream",
     "text": [
      "1/100 - train: accuracy 0.510 loss 1.355 ; val: accuracy 0.669 loss 0.951 \n",
      "2/100 - train: accuracy 0.711 loss 0.826 ; val: accuracy 0.753 loss 0.717 \n",
      "3/100 - train: accuracy 0.769 loss 0.667 ; val: accuracy 0.768 loss 0.678 \n",
      "4/100 - train: accuracy 0.802 loss 0.581 ; val: accuracy 0.781 loss 0.654 \n",
      "5/100 - train: accuracy 0.817 loss 0.529 ; val: accuracy 0.817 loss 0.550 \n",
      "6/100 - train: accuracy 0.830 loss 0.492 ; val: accuracy 0.802 loss 0.612 \n",
      "7/100 - train: accuracy 0.841 loss 0.461 ; val: accuracy 0.833 loss 0.507 \n",
      "8/100 - train: accuracy 0.850 loss 0.437 ; val: accuracy 0.833 loss 0.511 \n",
      "9/100 - train: accuracy 0.857 loss 0.412 ; val: accuracy 0.847 loss 0.468 \n",
      "10/100 - train: accuracy 0.864 loss 0.394 ; val: accuracy 0.854 loss 0.445 \n",
      "11/100 - train: accuracy 0.872 loss 0.375 ; val: accuracy 0.846 loss 0.463 \n",
      "12/100 - train: accuracy 0.876 loss 0.361 ; val: accuracy 0.847 loss 0.475 \n",
      "13/100 - train: accuracy 0.879 loss 0.353 ; val: accuracy 0.847 loss 0.477 \n",
      "14/100 - train: accuracy 0.882 loss 0.340 ; val: accuracy 0.846 loss 0.503 \n",
      "15/100 - train: accuracy 0.886 loss 0.332 ; val: accuracy 0.859 loss 0.435 \n",
      "16/100 - train: accuracy 0.890 loss 0.324 ; val: accuracy 0.874 loss 0.412 \n",
      "17/100 - train: accuracy 0.890 loss 0.322 ; val: accuracy 0.874 loss 0.402 \n",
      "18/100 - train: accuracy 0.892 loss 0.316 ; val: accuracy 0.864 loss 0.453 \n",
      "19/100 - train: accuracy 0.892 loss 0.314 ; val: accuracy 0.873 loss 0.403 \n",
      "20/100 - train: accuracy 0.893 loss 0.313 ; val: accuracy 0.851 loss 0.499 \n",
      "21/100 - train: accuracy 0.891 loss 0.314 ; val: accuracy 0.860 loss 0.465 \n",
      "22/100 - train: accuracy 0.891 loss 0.315 ; val: accuracy 0.870 loss 0.442 \n",
      "23/100 - train: accuracy 0.895 loss 0.306 ; val: accuracy 0.872 loss 0.444 \n",
      "24/100 - train: accuracy 0.894 loss 0.308 ; val: accuracy 0.871 loss 0.436 \n",
      "25/100 - train: accuracy 0.895 loss 0.308 ; val: accuracy 0.854 loss 0.509 \n",
      "26/100 - train: accuracy 0.895 loss 0.306 ; val: accuracy 0.862 loss 0.500 \n",
      "27/100 - train: accuracy 0.896 loss 0.302 ; val: accuracy 0.881 loss 0.394 \n",
      "28/100 - train: accuracy 0.898 loss 0.297 ; val: accuracy 0.865 loss 0.464 \n",
      "29/100 - train: accuracy 0.901 loss 0.295 ; val: accuracy 0.864 loss 0.464 \n",
      "30/100 - train: accuracy 0.900 loss 0.293 ; val: accuracy 0.849 loss 0.533 \n",
      "31/100 - train: accuracy 0.902 loss 0.287 ; val: accuracy 0.869 loss 0.434 \n",
      "32/100 - train: accuracy 0.904 loss 0.282 ; val: accuracy 0.881 loss 0.418 \n",
      "33/100 - train: accuracy 0.902 loss 0.282 ; val: accuracy 0.887 loss 0.363 \n",
      "34/100 - train: accuracy 0.906 loss 0.272 ; val: accuracy 0.852 loss 0.520 \n",
      "35/100 - train: accuracy 0.906 loss 0.274 ; val: accuracy 0.870 loss 0.425 \n",
      "36/100 - train: accuracy 0.907 loss 0.269 ; val: accuracy 0.881 loss 0.393 \n",
      "37/100 - train: accuracy 0.910 loss 0.264 ; val: accuracy 0.880 loss 0.406 \n",
      "38/100 - train: accuracy 0.910 loss 0.262 ; val: accuracy 0.886 loss 0.368 \n",
      "39/100 - train: accuracy 0.912 loss 0.257 ; val: accuracy 0.886 loss 0.380 \n",
      "40/100 - train: accuracy 0.914 loss 0.252 ; val: accuracy 0.885 loss 0.415 \n",
      "41/100 - train: accuracy 0.914 loss 0.250 ; val: accuracy 0.885 loss 0.381 \n",
      "42/100 - train: accuracy 0.915 loss 0.246 ; val: accuracy 0.880 loss 0.424 \n",
      "43/100 - train: accuracy 0.916 loss 0.247 ; val: accuracy 0.881 loss 0.396 \n",
      "44/100 - train: accuracy 0.917 loss 0.243 ; val: accuracy 0.895 loss 0.387 \n",
      "45/100 - train: accuracy 0.918 loss 0.241 ; val: accuracy 0.883 loss 0.403 \n",
      "46/100 - train: accuracy 0.920 loss 0.234 ; val: accuracy 0.881 loss 0.399 \n",
      "47/100 - train: accuracy 0.922 loss 0.228 ; val: accuracy 0.903 loss 0.326 \n",
      "48/100 - train: accuracy 0.924 loss 0.223 ; val: accuracy 0.900 loss 0.347 \n",
      "49/100 - train: accuracy 0.925 loss 0.220 ; val: accuracy 0.886 loss 0.397 \n",
      "50/100 - train: accuracy 0.928 loss 0.212 ; val: accuracy 0.889 loss 0.355 \n",
      "51/100 - train: accuracy 0.927 loss 0.210 ; val: accuracy 0.883 loss 0.388 \n",
      "52/100 - train: accuracy 0.931 loss 0.202 ; val: accuracy 0.896 loss 0.358 \n",
      "53/100 - train: accuracy 0.933 loss 0.197 ; val: accuracy 0.900 loss 0.327 \n",
      "54/100 - train: accuracy 0.933 loss 0.196 ; val: accuracy 0.890 loss 0.378 \n",
      "55/100 - train: accuracy 0.936 loss 0.187 ; val: accuracy 0.904 loss 0.330 \n",
      "56/100 - train: accuracy 0.937 loss 0.183 ; val: accuracy 0.895 loss 0.386 \n",
      "57/100 - train: accuracy 0.938 loss 0.178 ; val: accuracy 0.893 loss 0.372 \n",
      "58/100 - train: accuracy 0.942 loss 0.170 ; val: accuracy 0.886 loss 0.414 \n",
      "59/100 - train: accuracy 0.943 loss 0.166 ; val: accuracy 0.907 loss 0.309 \n",
      "60/100 - train: accuracy 0.943 loss 0.163 ; val: accuracy 0.908 loss 0.315 \n",
      "61/100 - train: accuracy 0.946 loss 0.153 ; val: accuracy 0.901 loss 0.338 \n",
      "62/100 - train: accuracy 0.950 loss 0.144 ; val: accuracy 0.912 loss 0.325 \n",
      "63/100 - train: accuracy 0.952 loss 0.141 ; val: accuracy 0.914 loss 0.309 \n",
      "64/100 - train: accuracy 0.953 loss 0.136 ; val: accuracy 0.901 loss 0.345 \n",
      "65/100 - train: accuracy 0.955 loss 0.129 ; val: accuracy 0.907 loss 0.347 \n",
      "66/100 - train: accuracy 0.958 loss 0.121 ; val: accuracy 0.897 loss 0.381 \n",
      "67/100 - train: accuracy 0.960 loss 0.117 ; val: accuracy 0.912 loss 0.308 \n",
      "68/100 - train: accuracy 0.963 loss 0.109 ; val: accuracy 0.908 loss 0.337 \n",
      "69/100 - train: accuracy 0.964 loss 0.105 ; val: accuracy 0.920 loss 0.299 \n",
      "70/100 - train: accuracy 0.966 loss 0.097 ; val: accuracy 0.916 loss 0.351 \n",
      "71/100 - train: accuracy 0.968 loss 0.092 ; val: accuracy 0.919 loss 0.324 \n",
      "72/100 - train: accuracy 0.971 loss 0.086 ; val: accuracy 0.920 loss 0.326 \n",
      "73/100 - train: accuracy 0.972 loss 0.080 ; val: accuracy 0.921 loss 0.328 \n",
      "74/100 - train: accuracy 0.974 loss 0.074 ; val: accuracy 0.923 loss 0.317 \n",
      "75/100 - train: accuracy 0.976 loss 0.068 ; val: accuracy 0.925 loss 0.324 \n",
      "76/100 - train: accuracy 0.978 loss 0.064 ; val: accuracy 0.928 loss 0.301 \n",
      "77/100 - train: accuracy 0.982 loss 0.056 ; val: accuracy 0.925 loss 0.313 \n",
      "78/100 - train: accuracy 0.982 loss 0.052 ; val: accuracy 0.921 loss 0.357 \n",
      "79/100 - train: accuracy 0.983 loss 0.048 ; val: accuracy 0.931 loss 0.315 \n",
      "80/100 - train: accuracy 0.986 loss 0.042 ; val: accuracy 0.932 loss 0.318 \n",
      "81/100 - train: accuracy 0.987 loss 0.037 ; val: accuracy 0.932 loss 0.323 \n",
      "82/100 - train: accuracy 0.989 loss 0.033 ; val: accuracy 0.929 loss 0.338 \n",
      "83/100 - train: accuracy 0.990 loss 0.029 ; val: accuracy 0.937 loss 0.316 \n",
      "84/100 - train: accuracy 0.992 loss 0.024 ; val: accuracy 0.934 loss 0.321 \n",
      "85/100 - train: accuracy 0.993 loss 0.020 ; val: accuracy 0.933 loss 0.358 \n",
      "86/100 - train: accuracy 0.993 loss 0.021 ; val: accuracy 0.937 loss 0.346 \n",
      "87/100 - train: accuracy 0.995 loss 0.015 ; val: accuracy 0.940 loss 0.332 \n",
      "88/100 - train: accuracy 0.996 loss 0.014 ; val: accuracy 0.940 loss 0.322 \n",
      "89/100 - train: accuracy 0.996 loss 0.011 ; val: accuracy 0.945 loss 0.321 \n",
      "90/100 - train: accuracy 0.997 loss 0.010 ; val: accuracy 0.941 loss 0.334 \n",
      "91/100 - train: accuracy 0.998 loss 0.007 ; val: accuracy 0.941 loss 0.342 \n",
      "92/100 - train: accuracy 0.998 loss 0.006 ; val: accuracy 0.945 loss 0.327 \n",
      "93/100 - train: accuracy 0.998 loss 0.005 ; val: accuracy 0.948 loss 0.341 \n",
      "94/100 - train: accuracy 0.998 loss 0.004 ; val: accuracy 0.946 loss 0.335 \n",
      "95/100 - train: accuracy 0.999 loss 0.003 ; val: accuracy 0.947 loss 0.328 \n",
      "96/100 - train: accuracy 0.999 loss 0.003 ; val: accuracy 0.948 loss 0.328 \n",
      "97/100 - train: accuracy 0.999 loss 0.002 ; val: accuracy 0.949 loss 0.334 \n",
      "98/100 - train: accuracy 0.999 loss 0.003 ; val: accuracy 0.949 loss 0.330 \n",
      "99/100 - train: accuracy 0.999 loss 0.002 ; val: accuracy 0.949 loss 0.339 \n",
      "100/100 - train: accuracy 0.999 loss 0.002 ; val: accuracy 0.949 loss 0.335 \n"
     ]
    }
   ],
   "source": [
    "history = train(train_state, train_iter, val_iter, EPOCHS)"
   ]
  },
  {
   "cell_type": "code",
   "execution_count": 50,
   "id": "4f6a5662-7feb-4e18-b92f-b7a64855f336",
   "metadata": {},
   "outputs": [],
   "source": [
    "def plot_history_train_val(history, key):\n",
    "    fig = plt.figure()\n",
    "    ax = fig.add_subplot(111)\n",
    "    xs = np.arange(1, len(history['train ' + key]) + 1)\n",
    "    ax.plot(xs, history['train ' + key], '.-', label='train')\n",
    "    ax.plot(xs, history['val ' + key], '.-', label='val')\n",
    "    ax.set_xlabel('epoch')\n",
    "    ax.set_ylabel(key)\n",
    "    ax.legend()\n",
    "    ax.grid()\n",
    "    plt.show()"
   ]
  },
  {
   "cell_type": "code",
   "execution_count": 51,
   "id": "4ed6459b-15f8-422f-ad68-78f3ffefc91d",
   "metadata": {},
   "outputs": [
    {
     "data": {
      "image/png": "[encoded data removed]",
      "text/plain": [
       "<Figure size 432x288 with 1 Axes>"
      ]
     },
     "metadata": {
      "needs_background": "light"
     },
     "output_type": "display_data"
    }
   ],
   "source": [
    "plot_history_train_val(history, 'loss')"
   ]
  },
  {
   "cell_type": "code",
   "execution_count": 52,
   "id": "863e0e16-2702-4fe2-9afa-a525e42635ce",
   "metadata": {},
   "outputs": [
    {
     "data": {
      "image/png": "[encoded data removed]",
      "text/plain": [
       "<Figure size 432x288 with 1 Axes>"
      ]
     },
     "metadata": {
      "needs_background": "light"
     },
     "output_type": "display_data"
    }
   ],
   "source": [
    "plot_history_train_val(history, 'accuracy')"
   ]
  }
 ],
 "metadata": {
  "kernelspec": {
   "display_name": "Python 3 (ipykernel)",
   "language": "python",
   "name": "python3"
  },
  "language_info": {
   "codemirror_mode": {
    "name": "ipython",
    "version": 3
   },
   "file_extension": ".py",
   "mimetype": "text/x-python",
   "name": "python",
   "nbconvert_exporter": "python",
   "pygments_lexer": "ipython3",
   "version": "3.8.10"
  }
 },
 "nbformat": 4,
 "nbformat_minor": 5
}
