{
 "cells": [
  {
   "cell_type": "markdown",
   "metadata": {},
   "source": [
    "# EfficientNet-like model on CIFAR10"
   ]
  },
  {
   "cell_type": "markdown",
   "metadata": {},
   "source": [
    "## Configuration"
   ]
  },
  {
   "cell_type": "markdown",
   "metadata": {},
   "source": [
    "Imports"
   ]
  },
  {
   "cell_type": "code",
   "execution_count": 1,
   "metadata": {},
   "outputs": [],
   "source": [
    "import numpy as np\n",
    "from collections import defaultdict\n",
    "import matplotlib.pyplot as plt\n",
    "\n",
    "import torch\n",
    "import torch.nn as nn\n",
    "import torch.optim as optim\n",
    "import torch.nn.functional as F\n",
    "from torchvision import datasets, transforms\n",
    "\n",
    "from ignite.engine import Events, create_supervised_trainer, create_supervised_evaluator\n",
    "import ignite.metrics\n",
    "import ignite.contrib.handlers"
   ]
  },
  {
   "cell_type": "markdown",
   "metadata": {},
   "source": [
    "Configuration"
   ]
  },
  {
   "cell_type": "code",
   "execution_count": 2,
   "metadata": {},
   "outputs": [],
   "source": [
    "DATA_DIR='./data'\n",
    "\n",
    "NUM_CLASSES = 10\n",
    "NUM_WORKERS = 8\n",
    "BATCH_SIZE = 32\n",
    "EPOCHS = 100"
   ]
  },
  {
   "cell_type": "code",
   "execution_count": 3,
   "metadata": {},
   "outputs": [
    {
     "name": "stdout",
     "output_type": "stream",
     "text": [
      "device: cuda\n"
     ]
    }
   ],
   "source": [
    "DEVICE = torch.device(\"cuda\") if torch.cuda.is_available() else torch.device(\"cpu\")\n",
    "print(\"device:\", DEVICE)"
   ]
  },
  {
   "cell_type": "markdown",
   "metadata": {},
   "source": [
    "## Data"
   ]
  },
  {
   "cell_type": "code",
   "execution_count": 4,
   "metadata": {},
   "outputs": [],
   "source": [
    "train_transform = transforms.Compose([\n",
    "    transforms.RandomHorizontalFlip(),\n",
    "    transforms.RandomCrop(32, padding=4),\n",
    "    transforms.ColorJitter(brightness=0.2, contrast=0.2, saturation=0.2),\n",
    "    transforms.ToTensor()\n",
    "])"
   ]
  },
  {
   "cell_type": "code",
   "execution_count": 5,
   "metadata": {},
   "outputs": [
    {
     "name": "stdout",
     "output_type": "stream",
     "text": [
      "Files already downloaded and verified\n",
      "Files already downloaded and verified\n"
     ]
    }
   ],
   "source": [
    "train_dset = datasets.CIFAR10(root=DATA_DIR, train=True, download=True, transform=train_transform)\n",
    "test_dset = datasets.CIFAR10(root=DATA_DIR, train=False, download=True, transform=transforms.ToTensor())"
   ]
  },
  {
   "cell_type": "code",
   "execution_count": 6,
   "metadata": {},
   "outputs": [],
   "source": [
    "train_loader = torch.utils.data.DataLoader(train_dset, batch_size=BATCH_SIZE, shuffle=True,\n",
    "                                           num_workers=NUM_WORKERS, pin_memory=True)\n",
    "test_loader = torch.utils.data.DataLoader(test_dset, batch_size=BATCH_SIZE, shuffle=False,\n",
    "                                          num_workers=NUM_WORKERS, pin_memory=True)"
   ]
  },
  {
   "cell_type": "code",
   "execution_count": 7,
   "metadata": {},
   "outputs": [],
   "source": [
    "def dataset_show_image(dset, idx):\n",
    "    X, Y = dset[idx]\n",
    "    title = \"Ground truth: {}\".format(dset.classes[Y])\n",
    "    fig = plt.figure()\n",
    "    ax = fig.add_subplot(111)\n",
    "    ax.set_axis_off()\n",
    "    ax.imshow(np.moveaxis(X.numpy(), 0, -1))\n",
    "    ax.set_title(title)\n",
    "    plt.show()"
   ]
  },
  {
   "cell_type": "code",
   "execution_count": 8,
   "metadata": {},
   "outputs": [
    {
     "data": {
      "image/png": "[encoded data removed]",
      "text/plain": [
       "<Figure size 432x288 with 1 Axes>"
      ]
     },
     "metadata": {
      "needs_background": "light"
     },
     "output_type": "display_data"
    }
   ],
   "source": [
    "dataset_show_image(test_dset, 1)"
   ]
  },
  {
   "cell_type": "markdown",
   "metadata": {},
   "source": [
    "## Model"
   ]
  },
  {
   "cell_type": "markdown",
   "metadata": {},
   "source": [
    "Utilities"
   ]
  },
  {
   "cell_type": "code",
   "execution_count": 10,
   "metadata": {},
   "outputs": [],
   "source": [
    "def init_linear(m):\n",
    "    if isinstance(m, (nn.Conv2d, nn.Linear)):\n",
    "        nn.init.kaiming_normal_(m.weight)\n",
    "        if m.bias is not None: nn.init.zeros_(m.bias)"
   ]
  },
  {
   "cell_type": "code",
   "execution_count": 11,
   "metadata": {},
   "outputs": [],
   "source": [
    "class Residual(nn.Module):\n",
    "    def __init__(self, residual, shortcut=None):\n",
    "        super().__init__()\n",
    "        self.shortcut = nn.Identity() if shortcut is None else shortcut\n",
    "        self.residual = residual\n",
    "        self.gamma = nn.Parameter(torch.zeros(1))\n",
    "    \n",
    "    def forward(self, x):\n",
    "        return self.shortcut(x) + self.gamma * self.residual(x)"
   ]
  },
  {
   "cell_type": "code",
   "execution_count": 12,
   "metadata": {},
   "outputs": [],
   "source": [
    "class NormAct(nn.Sequential):\n",
    "    def __init__(self, channels):\n",
    "        super().__init__(\n",
    "            nn.BatchNorm2d(channels),\n",
    "            nn.SiLU(inplace=True)\n",
    "        )"
   ]
  },
  {
   "cell_type": "code",
   "execution_count": 13,
   "metadata": {},
   "outputs": [],
   "source": [
    "class ConvBlock(nn.Sequential):\n",
    "    def __init__(self, in_channels, out_channels, kernel_size=3, stride=1, groups=1):\n",
    "        padding = (kernel_size - 1) // 2\n",
    "        super().__init__(\n",
    "            NormAct(in_channels),\n",
    "            nn.Conv2d(in_channels, out_channels, kernel_size, stride=stride, padding=padding, groups=groups),\n",
    "        )"
   ]
  },
  {
   "cell_type": "code",
   "execution_count": 14,
   "metadata": {},
   "outputs": [],
   "source": [
    "class SqueezeExciteBlock(nn.Module):\n",
    "    def __init__(self, channels, reduced_channels):\n",
    "        super().__init__()\n",
    "        self.se = nn.Sequential(\n",
    "            nn.AdaptiveAvgPool2d(1),\n",
    "            nn.Conv2d(channels, reduced_channels, kernel_size=1),\n",
    "            nn.SiLU(inplace=True),\n",
    "            nn.Conv2d(reduced_channels, channels, kernel_size=1),\n",
    "            nn.Sigmoid()\n",
    "        )\n",
    "        \n",
    "    def forward(self, x):\n",
    "        return x * self.se(x)"
   ]
  },
  {
   "cell_type": "markdown",
   "metadata": {},
   "source": [
    "EfficientNet"
   ]
  },
  {
   "cell_type": "markdown",
   "metadata": {},
   "source": [
    "Inverted residual block"
   ]
  },
  {
   "cell_type": "code",
   "execution_count": 15,
   "metadata": {},
   "outputs": [],
   "source": [
    "class MBConvResidual(nn.Sequential):\n",
    "    def __init__(self, in_channels, out_channels, expansion, kernel_size=3, stride=1):\n",
    "        mid_channels = in_channels * expansion\n",
    "        squeeze_channels = in_channels // 4\n",
    "        super().__init__(\n",
    "            ConvBlock(in_channels, mid_channels, 1), # Pointwise\n",
    "            ConvBlock(mid_channels, mid_channels, kernel_size, stride=stride, groups=mid_channels), # Depthwise\n",
    "            NormAct(mid_channels),\n",
    "            SqueezeExciteBlock(mid_channels, squeeze_channels),\n",
    "            nn.Conv2d(mid_channels, out_channels, kernel_size=1) # Pointwise\n",
    "        )"
   ]
  },
  {
   "cell_type": "code",
   "execution_count": 16,
   "metadata": {},
   "outputs": [],
   "source": [
    "class MBConvBlock(Residual):\n",
    "    def __init__(self, in_channels, out_channels, expansion, kernel_size=3, stride=1):\n",
    "        residual = MBConvResidual(in_channels, out_channels, expansion, kernel_size, stride)\n",
    "        shortcut = self.get_shortcut(in_channels, out_channels, stride)\n",
    "        super().__init__(residual, shortcut)\n",
    "    \n",
    "    def get_shortcut(self, in_channels, out_channels, stride):\n",
    "        if in_channels != out_channels:\n",
    "            shortcut = nn.Conv2d(in_channels, out_channels, 1)\n",
    "            if stride > 1:\n",
    "                shortcut = nn.Sequential(nn.AvgPool2d(stride), shortcut)\n",
    "        elif stride > 1:\n",
    "            shortcut = nn.AvgPool2d(stride)\n",
    "        else:\n",
    "            shortcut = nn.Identity()\n",
    "        return shortcut"
   ]
  },
  {
   "cell_type": "code",
   "execution_count": 17,
   "metadata": {},
   "outputs": [],
   "source": [
    "class BlockStack(nn.Sequential):\n",
    "    def __init__(self, num_layers, channel_list, strides, expansion=4, kernel_size=3):\n",
    "        layers = []\n",
    "        for num, in_channels, out_channels, stride in zip(num_layers, channel_list, channel_list[1:], strides):\n",
    "            for _ in range(num):\n",
    "                layers.append(MBConvBlock(in_channels, out_channels, expansion, kernel_size, stride))\n",
    "                in_channels = out_channels\n",
    "                stride = 1\n",
    "        super().__init__(*layers)"
   ]
  },
  {
   "cell_type": "code",
   "execution_count": 18,
   "metadata": {},
   "outputs": [],
   "source": [
    "class Head(nn.Sequential):\n",
    "    def __init__(self, in_channels, classes, mult=4, p_drop=0.):\n",
    "        mid_channels = in_channels * mult\n",
    "        super().__init__(\n",
    "            ConvBlock(in_channels, mid_channels, 1),\n",
    "            NormAct(mid_channels),\n",
    "            nn.AdaptiveAvgPool2d(1),\n",
    "            nn.Flatten(),\n",
    "            nn.Dropout(p_drop),\n",
    "            nn.Linear(mid_channels, classes)\n",
    "        )"
   ]
  },
  {
   "cell_type": "code",
   "execution_count": 19,
   "metadata": {},
   "outputs": [],
   "source": [
    "class Stem(nn.Sequential):\n",
    "    def __init__(self, in_channels, mid_channels, out_channels, stride):\n",
    "        squeeze_channels = mid_channels // 4\n",
    "        super().__init__(\n",
    "            nn.Conv2d(in_channels, mid_channels, 3, stride=stride, padding=1),\n",
    "            ConvBlock(mid_channels, mid_channels, 3, groups=mid_channels), # Depthwise\n",
    "            NormAct(mid_channels),\n",
    "            SqueezeExciteBlock(mid_channels, squeeze_channels),\n",
    "            nn.Conv2d(mid_channels, out_channels, kernel_size=1) # Pointwise\n",
    "        )"
   ]
  },
  {
   "cell_type": "code",
   "execution_count": 20,
   "metadata": {},
   "outputs": [],
   "source": [
    "class EfficientNet(nn.Sequential):\n",
    "    def __init__(self, classes,  num_layers, channel_list, strides, expansion=4,\n",
    "                 in_channels=3, head_p_drop=0.):\n",
    "        super().__init__(\n",
    "            Stem(in_channels, *channel_list[:2], stride=strides[0]),\n",
    "            BlockStack(num_layers, channel_list[1:], strides[1:], expansion),\n",
    "            Head(channel_list[-1], classes, p_drop=head_p_drop)\n",
    "        )"
   ]
  },
  {
   "cell_type": "code",
   "execution_count": 21,
   "metadata": {},
   "outputs": [],
   "source": [
    "model = EfficientNet(NUM_CLASSES,\n",
    "                     num_layers =            [4,  4,   4,   4],\n",
    "                     channel_list = [32, 16, 32, 64, 128, 256],\n",
    "                     strides =           [1,  1,  2,   2,   2],\n",
    "                     expansion = 4,\n",
    "                     head_p_drop = 0.3)"
   ]
  },
  {
   "cell_type": "code",
   "execution_count": 22,
   "metadata": {},
   "outputs": [],
   "source": [
    "model.apply(init_linear);"
   ]
  },
  {
   "cell_type": "code",
   "execution_count": 23,
   "metadata": {},
   "outputs": [],
   "source": [
    "model.to(DEVICE);"
   ]
  },
  {
   "cell_type": "code",
   "execution_count": 22,
   "metadata": {},
   "outputs": [
    {
     "name": "stdout",
     "output_type": "stream",
     "text": [
      "Number of parameters: 3,351,478\n"
     ]
    }
   ],
   "source": [
    "print(\"Number of parameters: {:,}\".format(sum(p.numel() for p in model.parameters())))"
   ]
  },
  {
   "cell_type": "markdown",
   "metadata": {},
   "source": [
    "## Training"
   ]
  },
  {
   "cell_type": "markdown",
   "metadata": {},
   "source": [
    "### History"
   ]
  },
  {
   "cell_type": "code",
   "execution_count": 23,
   "metadata": {},
   "outputs": [],
   "source": [
    "class History:\n",
    "    def __init__(self):\n",
    "        self.values = defaultdict(list)\n",
    "\n",
    "    def append(self, key, value):\n",
    "        self.values[key].append(value)\n",
    "\n",
    "    def reset(self):\n",
    "        for k in self.values.keys():\n",
    "            self.values[k] = []\n",
    "\n",
    "    def _begin_plot(self):\n",
    "        self.fig = plt.figure()\n",
    "        self.ax = self.fig.add_subplot(111)\n",
    "\n",
    "    def _end_plot(self, ylabel):\n",
    "        self.ax.set_xlabel('epoch')\n",
    "        self.ax.set_ylabel(ylabel)\n",
    "        plt.show()\n",
    "\n",
    "    def _plot(self, key, line_type='-', label=None):\n",
    "        if label is None: label=key\n",
    "        xs = np.arange(1, len(self.values[key])+1)\n",
    "        self.ax.plot(xs, self.values[key], line_type, label=label)\n",
    "\n",
    "    def plot(self, key):\n",
    "        self._begin_plot()\n",
    "        self._plot(key, '-')\n",
    "        self._end_plot(key)\n",
    "\n",
    "    def plot_train_val(self, key):\n",
    "        self._begin_plot()\n",
    "        self._plot('train ' + key, '.-', 'train')\n",
    "        self._plot('val ' + key, '.-', 'val')\n",
    "        self.ax.legend()\n",
    "        self._end_plot(key)"
   ]
  },
  {
   "cell_type": "markdown",
   "metadata": {},
   "source": [
    "### Setup trainer"
   ]
  },
  {
   "cell_type": "code",
   "execution_count": 24,
   "metadata": {},
   "outputs": [],
   "source": [
    "loss = nn.CrossEntropyLoss()"
   ]
  },
  {
   "cell_type": "code",
   "execution_count": 25,
   "metadata": {},
   "outputs": [],
   "source": [
    "optimizer = optim.AdamW(model.parameters(), lr=1e-6, weight_decay=1e-2)"
   ]
  },
  {
   "cell_type": "code",
   "execution_count": 26,
   "metadata": {},
   "outputs": [],
   "source": [
    "trainer = create_supervised_trainer(model, optimizer, loss, device=DEVICE)"
   ]
  },
  {
   "cell_type": "code",
   "execution_count": 27,
   "metadata": {},
   "outputs": [],
   "source": [
    "lr_scheduler = optim.lr_scheduler.OneCycleLR(optimizer, max_lr=1e-2,\n",
    "                                             steps_per_epoch=len(train_loader), epochs=EPOCHS)"
   ]
  },
  {
   "cell_type": "code",
   "execution_count": 28,
   "metadata": {},
   "outputs": [],
   "source": [
    "trainer.add_event_handler(Events.ITERATION_COMPLETED, lambda engine: lr_scheduler.step());"
   ]
  },
  {
   "cell_type": "code",
   "execution_count": 29,
   "metadata": {},
   "outputs": [],
   "source": [
    "ignite.metrics.RunningAverage(output_transform=lambda x: x).attach(trainer, \"loss\")"
   ]
  },
  {
   "cell_type": "code",
   "execution_count": 30,
   "metadata": {},
   "outputs": [],
   "source": [
    "val_metrics = {\"accuracy\": ignite.metrics.Accuracy(), \"loss\": ignite.metrics.Loss(loss)}"
   ]
  },
  {
   "cell_type": "code",
   "execution_count": 31,
   "metadata": {},
   "outputs": [],
   "source": [
    "evaluator = create_supervised_evaluator(model, metrics=val_metrics, device=DEVICE)"
   ]
  },
  {
   "cell_type": "code",
   "execution_count": 32,
   "metadata": {},
   "outputs": [],
   "source": [
    "history = History()"
   ]
  },
  {
   "cell_type": "code",
   "execution_count": 33,
   "metadata": {},
   "outputs": [],
   "source": [
    "@trainer.on(Events.EPOCH_COMPLETED)\n",
    "def log_validation_results(engine):\n",
    "    train_state = engine.state\n",
    "    epoch = train_state.epoch\n",
    "    max_epochs = train_state.max_epochs\n",
    "    train_loss = train_state.metrics[\"loss\"]\n",
    "    history.append('train loss', train_loss)\n",
    "    \n",
    "    evaluator.run(test_loader)\n",
    "    val_metrics = evaluator.state.metrics\n",
    "    val_loss = val_metrics[\"loss\"]\n",
    "    val_acc = val_metrics[\"accuracy\"]\n",
    "    history.append('val loss', val_loss)\n",
    "    history.append('val acc', val_acc)\n",
    "    \n",
    "    print(\"{}/{} - train: loss {:.3f}; val: loss {:.3f} accuracy {:.3f}\".format(\n",
    "        epoch, max_epochs, train_loss, val_loss, val_acc))"
   ]
  },
  {
   "cell_type": "markdown",
   "metadata": {},
   "source": [
    "### Start training"
   ]
  },
  {
   "cell_type": "code",
   "execution_count": 36,
   "metadata": {},
   "outputs": [
    {
     "name": "stdout",
     "output_type": "stream",
     "text": [
      "1/100 - train: loss 1.085; val: loss 0.977 accuracy 0.653\n",
      "2/100 - train: loss 0.779; val: loss 0.679 accuracy 0.762\n",
      "3/100 - train: loss 0.648; val: loss 0.593 accuracy 0.792\n",
      "4/100 - train: loss 0.569; val: loss 0.535 accuracy 0.815\n",
      "5/100 - train: loss 0.560; val: loss 0.573 accuracy 0.808\n",
      "6/100 - train: loss 0.518; val: loss 0.514 accuracy 0.822\n",
      "7/100 - train: loss 0.500; val: loss 0.557 accuracy 0.817\n",
      "8/100 - train: loss 0.473; val: loss 0.649 accuracy 0.785\n",
      "9/100 - train: loss 0.454; val: loss 0.504 accuracy 0.831\n",
      "10/100 - train: loss 0.462; val: loss 0.519 accuracy 0.824\n",
      "11/100 - train: loss 0.449; val: loss 0.504 accuracy 0.833\n",
      "12/100 - train: loss 0.447; val: loss 0.486 accuracy 0.836\n",
      "13/100 - train: loss 0.458; val: loss 0.512 accuracy 0.833\n",
      "14/100 - train: loss 0.445; val: loss 0.454 accuracy 0.846\n",
      "15/100 - train: loss 0.412; val: loss 0.519 accuracy 0.833\n",
      "16/100 - train: loss 0.423; val: loss 0.415 accuracy 0.864\n",
      "17/100 - train: loss 0.456; val: loss 0.550 accuracy 0.824\n",
      "18/100 - train: loss 0.454; val: loss 0.515 accuracy 0.828\n",
      "19/100 - train: loss 0.454; val: loss 0.486 accuracy 0.835\n",
      "20/100 - train: loss 0.454; val: loss 0.475 accuracy 0.841\n",
      "21/100 - train: loss 0.474; val: loss 0.448 accuracy 0.849\n",
      "22/100 - train: loss 0.462; val: loss 0.520 accuracy 0.835\n",
      "23/100 - train: loss 0.468; val: loss 0.544 accuracy 0.820\n",
      "24/100 - train: loss 0.442; val: loss 0.550 accuracy 0.828\n",
      "25/100 - train: loss 0.428; val: loss 0.541 accuracy 0.823\n",
      "26/100 - train: loss 0.455; val: loss 0.579 accuracy 0.816\n",
      "27/100 - train: loss 0.451; val: loss 0.463 accuracy 0.842\n",
      "28/100 - train: loss 0.447; val: loss 0.929 accuracy 0.735\n",
      "29/100 - train: loss 0.439; val: loss 0.487 accuracy 0.840\n",
      "30/100 - train: loss 0.417; val: loss 0.423 accuracy 0.857\n",
      "31/100 - train: loss 0.434; val: loss 0.598 accuracy 0.808\n",
      "32/100 - train: loss 0.453; val: loss 0.544 accuracy 0.816\n",
      "33/100 - train: loss 0.439; val: loss 0.453 accuracy 0.851\n",
      "34/100 - train: loss 0.422; val: loss 0.505 accuracy 0.831\n",
      "35/100 - train: loss 0.430; val: loss 0.575 accuracy 0.812\n",
      "36/100 - train: loss 0.432; val: loss 0.469 accuracy 0.848\n",
      "37/100 - train: loss 0.439; val: loss 0.524 accuracy 0.830\n",
      "38/100 - train: loss 0.437; val: loss 0.548 accuracy 0.822\n",
      "39/100 - train: loss 0.434; val: loss 0.639 accuracy 0.808\n",
      "40/100 - train: loss 0.401; val: loss 0.472 accuracy 0.843\n",
      "41/100 - train: loss 0.394; val: loss 0.515 accuracy 0.842\n",
      "42/100 - train: loss 0.430; val: loss 0.626 accuracy 0.805\n",
      "43/100 - train: loss 0.386; val: loss 0.472 accuracy 0.848\n",
      "44/100 - train: loss 0.418; val: loss 0.673 accuracy 0.789\n",
      "45/100 - train: loss 0.405; val: loss 0.409 accuracy 0.868\n",
      "46/100 - train: loss 0.358; val: loss 0.437 accuracy 0.856\n",
      "47/100 - train: loss 0.375; val: loss 0.407 accuracy 0.863\n",
      "48/100 - train: loss 0.383; val: loss 0.469 accuracy 0.851\n",
      "49/100 - train: loss 0.363; val: loss 0.404 accuracy 0.862\n",
      "50/100 - train: loss 0.366; val: loss 0.400 accuracy 0.869\n",
      "51/100 - train: loss 0.350; val: loss 0.523 accuracy 0.837\n",
      "52/100 - train: loss 0.318; val: loss 0.392 accuracy 0.867\n",
      "53/100 - train: loss 0.358; val: loss 0.433 accuracy 0.858\n",
      "54/100 - train: loss 0.357; val: loss 0.379 accuracy 0.876\n",
      "55/100 - train: loss 0.328; val: loss 0.427 accuracy 0.860\n",
      "56/100 - train: loss 0.306; val: loss 0.545 accuracy 0.828\n",
      "57/100 - train: loss 0.256; val: loss 0.386 accuracy 0.876\n",
      "58/100 - train: loss 0.329; val: loss 0.384 accuracy 0.875\n",
      "59/100 - train: loss 0.302; val: loss 0.378 accuracy 0.875\n",
      "60/100 - train: loss 0.290; val: loss 0.389 accuracy 0.873\n",
      "61/100 - train: loss 0.327; val: loss 0.424 accuracy 0.863\n",
      "62/100 - train: loss 0.263; val: loss 0.331 accuracy 0.895\n",
      "63/100 - train: loss 0.245; val: loss 0.394 accuracy 0.876\n",
      "64/100 - train: loss 0.276; val: loss 0.418 accuracy 0.864\n",
      "65/100 - train: loss 0.264; val: loss 0.347 accuracy 0.887\n",
      "66/100 - train: loss 0.263; val: loss 0.343 accuracy 0.887\n",
      "67/100 - train: loss 0.219; val: loss 0.331 accuracy 0.892\n",
      "68/100 - train: loss 0.229; val: loss 0.288 accuracy 0.905\n",
      "69/100 - train: loss 0.205; val: loss 0.330 accuracy 0.898\n",
      "70/100 - train: loss 0.194; val: loss 0.272 accuracy 0.914\n",
      "71/100 - train: loss 0.176; val: loss 0.295 accuracy 0.905\n",
      "72/100 - train: loss 0.164; val: loss 0.261 accuracy 0.917\n",
      "73/100 - train: loss 0.197; val: loss 0.276 accuracy 0.915\n",
      "74/100 - train: loss 0.165; val: loss 0.274 accuracy 0.914\n",
      "75/100 - train: loss 0.168; val: loss 0.264 accuracy 0.918\n",
      "76/100 - train: loss 0.123; val: loss 0.257 accuracy 0.920\n",
      "77/100 - train: loss 0.140; val: loss 0.267 accuracy 0.917\n",
      "78/100 - train: loss 0.130; val: loss 0.302 accuracy 0.911\n",
      "79/100 - train: loss 0.100; val: loss 0.234 accuracy 0.928\n",
      "80/100 - train: loss 0.106; val: loss 0.249 accuracy 0.926\n",
      "81/100 - train: loss 0.106; val: loss 0.247 accuracy 0.928\n",
      "82/100 - train: loss 0.088; val: loss 0.233 accuracy 0.934\n",
      "83/100 - train: loss 0.066; val: loss 0.230 accuracy 0.934\n",
      "84/100 - train: loss 0.084; val: loss 0.239 accuracy 0.933\n",
      "85/100 - train: loss 0.053; val: loss 0.227 accuracy 0.936\n",
      "86/100 - train: loss 0.053; val: loss 0.222 accuracy 0.938\n",
      "87/100 - train: loss 0.042; val: loss 0.233 accuracy 0.939\n",
      "88/100 - train: loss 0.039; val: loss 0.220 accuracy 0.941\n",
      "89/100 - train: loss 0.031; val: loss 0.217 accuracy 0.946\n",
      "90/100 - train: loss 0.026; val: loss 0.226 accuracy 0.942\n",
      "91/100 - train: loss 0.022; val: loss 0.223 accuracy 0.946\n",
      "92/100 - train: loss 0.025; val: loss 0.226 accuracy 0.945\n",
      "93/100 - train: loss 0.022; val: loss 0.224 accuracy 0.945\n",
      "94/100 - train: loss 0.018; val: loss 0.216 accuracy 0.949\n",
      "95/100 - train: loss 0.016; val: loss 0.211 accuracy 0.949\n",
      "96/100 - train: loss 0.009; val: loss 0.217 accuracy 0.949\n",
      "97/100 - train: loss 0.009; val: loss 0.213 accuracy 0.950\n",
      "98/100 - train: loss 0.010; val: loss 0.213 accuracy 0.951\n",
      "99/100 - train: loss 0.009; val: loss 0.211 accuracy 0.950\n",
      "100/100 - train: loss 0.011; val: loss 0.214 accuracy 0.950\n"
     ]
    }
   ],
   "source": [
    "trainer.run(train_loader, max_epochs=EPOCHS);"
   ]
  },
  {
   "cell_type": "code",
   "execution_count": 37,
   "metadata": {},
   "outputs": [
    {
     "data": {
      "image/png": "[encoded data removed]",
      "text/plain": [
       "<Figure size 432x288 with 1 Axes>"
      ]
     },
     "metadata": {
      "needs_background": "light"
     },
     "output_type": "display_data"
    }
   ],
   "source": [
    "history.plot_train_val('loss')"
   ]
  },
  {
   "cell_type": "code",
   "execution_count": 38,
   "metadata": {},
   "outputs": [
    {
     "data": {
      "image/png": "[encoded data removed]",
      "text/plain": [
       "<Figure size 432x288 with 1 Axes>"
      ]
     },
     "metadata": {
      "needs_background": "light"
     },
     "output_type": "display_data"
    }
   ],
   "source": [
    "history.plot('val acc')"
   ]
  }
 ],
 "metadata": {
  "kernelspec": {
   "display_name": "Python 3 (ipykernel)",
   "language": "python",
   "name": "python3"
  },
  "language_info": {
   "codemirror_mode": {
    "name": "ipython",
    "version": 3
   },
   "file_extension": ".py",
   "mimetype": "text/x-python",
   "name": "python",
   "nbconvert_exporter": "python",
   "pygments_lexer": "ipython3",
   "version": "3.8.10"
  }
 },
 "nbformat": 4,
 "nbformat_minor": 4
}
