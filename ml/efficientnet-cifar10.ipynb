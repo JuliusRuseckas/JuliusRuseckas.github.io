{
 "cells": [
  {
   "cell_type": "markdown",
   "metadata": {},
   "source": [
    "# EfficientNet-like model on CIFAR10"
   ]
  },
  {
   "cell_type": "markdown",
   "metadata": {},
   "source": [
    "## Configuration"
   ]
  },
  {
   "cell_type": "markdown",
   "metadata": {},
   "source": [
    "Imports"
   ]
  },
  {
   "cell_type": "code",
   "execution_count": 1,
   "metadata": {},
   "outputs": [],
   "source": [
    "import numpy as np\n",
    "from collections import defaultdict\n",
    "import matplotlib.pyplot as plt\n",
    "\n",
    "import torch\n",
    "import torch.nn as nn\n",
    "import torch.optim as optim\n",
    "import torch.nn.functional as F\n",
    "from torchvision import datasets, transforms\n",
    "\n",
    "from ignite.engine import Events, create_supervised_trainer, create_supervised_evaluator\n",
    "import ignite.metrics\n",
    "import ignite.contrib.handlers"
   ]
  },
  {
   "cell_type": "markdown",
   "metadata": {},
   "source": [
    "Configuration"
   ]
  },
  {
   "cell_type": "code",
   "execution_count": 2,
   "metadata": {},
   "outputs": [],
   "source": [
    "DATA_DIR='./data'\n",
    "\n",
    "NUM_CLASSES = 10\n",
    "NUM_WORKERS = 8\n",
    "BATCH_SIZE = 32\n",
    "EPOCHS = 100"
   ]
  },
  {
   "cell_type": "code",
   "execution_count": 3,
   "metadata": {},
   "outputs": [
    {
     "name": "stdout",
     "output_type": "stream",
     "text": [
      "device: cuda\n"
     ]
    }
   ],
   "source": [
    "DEVICE = torch.device(\"cuda\") if torch.cuda.is_available() else torch.device(\"cpu\")\n",
    "print(\"device:\", DEVICE)"
   ]
  },
  {
   "cell_type": "markdown",
   "metadata": {},
   "source": [
    "## Data"
   ]
  },
  {
   "cell_type": "code",
   "execution_count": 4,
   "metadata": {},
   "outputs": [],
   "source": [
    "train_transform = transforms.Compose([\n",
    "    transforms.RandomHorizontalFlip(),\n",
    "    transforms.RandomCrop(32, padding=4),\n",
    "    transforms.ColorJitter(brightness=0.2, contrast=0.2, saturation=0.2),\n",
    "    transforms.ToTensor()\n",
    "])"
   ]
  },
  {
   "cell_type": "code",
   "execution_count": 5,
   "metadata": {},
   "outputs": [
    {
     "name": "stdout",
     "output_type": "stream",
     "text": [
      "Files already downloaded and verified\n",
      "Files already downloaded and verified\n"
     ]
    }
   ],
   "source": [
    "train_dset = datasets.CIFAR10(root=DATA_DIR, train=True, download=True, transform=train_transform)\n",
    "test_dset = datasets.CIFAR10(root=DATA_DIR, train=False, download=True, transform=transforms.ToTensor())"
   ]
  },
  {
   "cell_type": "code",
   "execution_count": 6,
   "metadata": {},
   "outputs": [],
   "source": [
    "train_loader = torch.utils.data.DataLoader(train_dset, batch_size=BATCH_SIZE, shuffle=True,\n",
    "                                           num_workers=NUM_WORKERS, pin_memory=True)\n",
    "test_loader = torch.utils.data.DataLoader(test_dset, batch_size=BATCH_SIZE, shuffle=False,\n",
    "                                          num_workers=NUM_WORKERS, pin_memory=True)"
   ]
  },
  {
   "cell_type": "code",
   "execution_count": 7,
   "metadata": {},
   "outputs": [],
   "source": [
    "def dataset_show_image(dset, idx):\n",
    "    X, Y = dset[idx]\n",
    "    title = \"Ground truth: {}\".format(dset.classes[Y])\n",
    "    fig = plt.figure()\n",
    "    ax = fig.add_subplot(111)\n",
    "    ax.set_axis_off()\n",
    "    ax.imshow(np.moveaxis(X.numpy(), 0, -1))\n",
    "    ax.set_title(title)\n",
    "    plt.show()"
   ]
  },
  {
   "cell_type": "code",
   "execution_count": 8,
   "metadata": {},
   "outputs": [
    {
     "data": {
      "image/png": "[encoded data removed]",
      "text/plain": [
       "<Figure size 432x288 with 1 Axes>"
      ]
     },
     "metadata": {
      "needs_background": "light"
     },
     "output_type": "display_data"
    }
   ],
   "source": [
    "dataset_show_image(test_dset, 1)"
   ]
  },
  {
   "cell_type": "markdown",
   "metadata": {},
   "source": [
    "## Model"
   ]
  },
  {
   "cell_type": "markdown",
   "metadata": {},
   "source": [
    "Utilities"
   ]
  },
  {
   "cell_type": "code",
   "execution_count": 9,
   "metadata": {},
   "outputs": [],
   "source": [
    "def init_linear(m):\n",
    "    if isinstance(m, (nn.Conv2d, nn.Linear)):\n",
    "        nn.init.kaiming_normal_(m.weight)\n",
    "        if m.bias is not None: nn.init.zeros_(m.bias)"
   ]
  },
  {
   "cell_type": "code",
   "execution_count": 10,
   "metadata": {},
   "outputs": [],
   "source": [
    "class Residual(nn.Module):\n",
    "    def __init__(self, residual, shortcut=None):\n",
    "        super().__init__()\n",
    "        self.shortcut = nn.Identity() if shortcut is None else shortcut\n",
    "        self.residual = residual\n",
    "        self.gamma = nn.Parameter(torch.zeros(1))\n",
    "    \n",
    "    def forward(self, x):\n",
    "        return self.shortcut(x) + self.gamma * self.residual(x)"
   ]
  },
  {
   "cell_type": "code",
   "execution_count": 11,
   "metadata": {},
   "outputs": [],
   "source": [
    "class ConvBlock(nn.Sequential):\n",
    "    def __init__(self, in_channels, out_channels, kernel_size=3, stride=1, groups=1):\n",
    "        padding = (kernel_size - 1) // 2\n",
    "        super().__init__(\n",
    "            nn.BatchNorm2d(in_channels),\n",
    "            nn.SiLU(inplace=True),\n",
    "            nn.Conv2d(in_channels, out_channels, kernel_size, stride=stride, padding=padding, groups=groups),\n",
    "        )"
   ]
  },
  {
   "cell_type": "code",
   "execution_count": 12,
   "metadata": {},
   "outputs": [],
   "source": [
    "class SqueezeExciteBlock(nn.Module):\n",
    "    def __init__(self, channels, reduced_channels):\n",
    "        super().__init__()\n",
    "        self.se = nn.Sequential(\n",
    "            nn.BatchNorm2d(channels),\n",
    "            nn.SiLU(inplace=True),\n",
    "            nn.AdaptiveAvgPool2d(1),\n",
    "            nn.Conv2d(channels, reduced_channels, kernel_size=1),\n",
    "            nn.SiLU(inplace=True),\n",
    "            nn.Conv2d(reduced_channels, channels, kernel_size=1),\n",
    "            nn.Sigmoid()\n",
    "        )\n",
    "        \n",
    "    def forward(self, x):\n",
    "        return x * self.se(x)"
   ]
  },
  {
   "cell_type": "markdown",
   "metadata": {},
   "source": [
    "EfficientNet"
   ]
  },
  {
   "cell_type": "markdown",
   "metadata": {},
   "source": [
    "Inverted residual block"
   ]
  },
  {
   "cell_type": "code",
   "execution_count": 13,
   "metadata": {},
   "outputs": [],
   "source": [
    "class MBConvResidual(nn.Sequential):\n",
    "    def __init__(self, in_channels, out_channels, expansion, kernel_size=3, stride=1):\n",
    "        mid_channels = in_channels * expansion\n",
    "        squeeze_channels = in_channels // 4\n",
    "        super().__init__(\n",
    "            ConvBlock(in_channels, mid_channels, 1), # Pointwise\n",
    "            ConvBlock(mid_channels, mid_channels, kernel_size, stride=stride, groups=mid_channels), # Depthwise\n",
    "            SqueezeExciteBlock(mid_channels, squeeze_channels),\n",
    "            nn.Conv2d(mid_channels, out_channels, kernel_size=1) # Pointwise\n",
    "        )"
   ]
  },
  {
   "cell_type": "code",
   "execution_count": 14,
   "metadata": {},
   "outputs": [],
   "source": [
    "class MBConvBlock(Residual):\n",
    "    def __init__(self, in_channels, out_channels, expansion, kernel_size=3, stride=1):\n",
    "        residual = MBConvResidual(in_channels, out_channels, expansion, kernel_size, stride)\n",
    "        shortcut = self.get_shortcut(in_channels, out_channels, stride)\n",
    "        super().__init__(residual, shortcut)\n",
    "    \n",
    "    def get_shortcut(self, in_channels, out_channels, stride):\n",
    "        if in_channels != out_channels:\n",
    "            shortcut = nn.Conv2d(in_channels, out_channels, 1)\n",
    "            if stride > 1:\n",
    "                shortcut = nn.Sequential(nn.AvgPool2d(stride), shortcut)\n",
    "        elif stride > 1:\n",
    "            shortcut = nn.AvgPool2d(stride)\n",
    "        else:\n",
    "            shortcut = nn.Identity()\n",
    "        return shortcut"
   ]
  },
  {
   "cell_type": "code",
   "execution_count": 15,
   "metadata": {},
   "outputs": [],
   "source": [
    "class BlockStack(nn.Sequential):\n",
    "    def __init__(self, num_layers, channel_list, strides, expansion=4, kernel_size=3):\n",
    "        layers = []\n",
    "        for num, in_channels, out_channels, stride in zip(num_layers, channel_list, channel_list[1:], strides):\n",
    "            for _ in range(num):\n",
    "                layers.append(MBConvBlock(in_channels, out_channels, expansion, kernel_size, stride))\n",
    "                in_channels = out_channels\n",
    "                stride = 1\n",
    "        super().__init__(*layers)"
   ]
  },
  {
   "cell_type": "code",
   "execution_count": 16,
   "metadata": {},
   "outputs": [],
   "source": [
    "class Head(nn.Sequential):\n",
    "    def __init__(self, in_channels, classes, mult=4, p_drop=0.):\n",
    "        mid_channels = in_channels * mult\n",
    "        super().__init__(\n",
    "            ConvBlock(in_channels, mid_channels, 1),\n",
    "            nn.BatchNorm2d(mid_channels),\n",
    "            nn.SiLU(inplace=True),\n",
    "            nn.AdaptiveAvgPool2d(1),\n",
    "            nn.Flatten(),\n",
    "            nn.Dropout(p_drop),\n",
    "            nn.Linear(mid_channels, classes)\n",
    "        )"
   ]
  },
  {
   "cell_type": "code",
   "execution_count": 17,
   "metadata": {},
   "outputs": [],
   "source": [
    "class Stem(nn.Sequential):\n",
    "    def __init__(self, in_channels, mid_channels, out_channels, stride):\n",
    "        squeeze_channels = mid_channels // 4\n",
    "        super().__init__(\n",
    "            nn.Conv2d(in_channels, mid_channels, 3, stride=stride, padding=1),\n",
    "            ConvBlock(mid_channels, mid_channels, 3, groups=mid_channels), # Depthwise\n",
    "            SqueezeExciteBlock(mid_channels, squeeze_channels),\n",
    "            nn.Conv2d(mid_channels, out_channels, kernel_size=1) # Pointwise\n",
    "        )"
   ]
  },
  {
   "cell_type": "code",
   "execution_count": 18,
   "metadata": {},
   "outputs": [],
   "source": [
    "class EfficientNet(nn.Sequential):\n",
    "    def __init__(self, classes,  num_layers, channel_list, strides, expansion=4,\n",
    "                 in_channels=3, head_p_drop=0.):\n",
    "        super().__init__(\n",
    "            Stem(in_channels, *channel_list[:2], stride=strides[0]),\n",
    "            BlockStack(num_layers, channel_list[1:], strides[1:], expansion),\n",
    "            Head(channel_list[-1], classes, p_drop=head_p_drop)\n",
    "        )"
   ]
  },
  {
   "cell_type": "code",
   "execution_count": 19,
   "metadata": {},
   "outputs": [],
   "source": [
    "model = EfficientNet(NUM_CLASSES,\n",
    "                     num_layers =            [4,  4,   4,   4],\n",
    "                     channel_list = [32, 16, 32, 64, 128, 256],\n",
    "                     strides =           [1,  1,  2,   2,   2],\n",
    "                     expansion = 4,\n",
    "                     head_p_drop = 0.3)"
   ]
  },
  {
   "cell_type": "code",
   "execution_count": 20,
   "metadata": {},
   "outputs": [],
   "source": [
    "model.apply(init_linear);"
   ]
  },
  {
   "cell_type": "code",
   "execution_count": 21,
   "metadata": {},
   "outputs": [],
   "source": [
    "model.to(DEVICE);"
   ]
  },
  {
   "cell_type": "code",
   "execution_count": 22,
   "metadata": {},
   "outputs": [
    {
     "name": "stdout",
     "output_type": "stream",
     "text": [
      "Number of parameters: 3,351,478\n"
     ]
    }
   ],
   "source": [
    "print(\"Number of parameters: {:,}\".format(sum(p.numel() for p in model.parameters())))"
   ]
  },
  {
   "cell_type": "markdown",
   "metadata": {},
   "source": [
    "## Training"
   ]
  },
  {
   "cell_type": "markdown",
   "metadata": {},
   "source": [
    "### History"
   ]
  },
  {
   "cell_type": "code",
   "execution_count": 23,
   "metadata": {},
   "outputs": [],
   "source": [
    "class History:\n",
    "    def __init__(self):\n",
    "        self.values = defaultdict(list)\n",
    "\n",
    "    def append(self, key, value):\n",
    "        self.values[key].append(value)\n",
    "\n",
    "    def reset(self):\n",
    "        for k in self.values.keys():\n",
    "            self.values[k] = []\n",
    "\n",
    "    def _begin_plot(self):\n",
    "        self.fig = plt.figure()\n",
    "        self.ax = self.fig.add_subplot(111)\n",
    "\n",
    "    def _end_plot(self, ylabel):\n",
    "        self.ax.set_xlabel('epoch')\n",
    "        self.ax.set_ylabel(ylabel)\n",
    "        plt.show()\n",
    "\n",
    "    def _plot(self, key, line_type='-', label=None):\n",
    "        if label is None: label=key\n",
    "        xs = np.arange(1, len(self.values[key])+1)\n",
    "        self.ax.plot(xs, self.values[key], line_type, label=label)\n",
    "\n",
    "    def plot(self, key):\n",
    "        self._begin_plot()\n",
    "        self._plot(key, '-')\n",
    "        self._end_plot(key)\n",
    "\n",
    "    def plot_train_val(self, key):\n",
    "        self._begin_plot()\n",
    "        self._plot('train ' + key, '.-', 'train')\n",
    "        self._plot('val ' + key, '.-', 'val')\n",
    "        self.ax.legend()\n",
    "        self._end_plot(key)"
   ]
  },
  {
   "cell_type": "markdown",
   "metadata": {},
   "source": [
    "### Setup trainer"
   ]
  },
  {
   "cell_type": "code",
   "execution_count": 24,
   "metadata": {},
   "outputs": [],
   "source": [
    "loss = nn.CrossEntropyLoss()"
   ]
  },
  {
   "cell_type": "code",
   "execution_count": 25,
   "metadata": {},
   "outputs": [],
   "source": [
    "optimizer = optim.AdamW(model.parameters(), lr=1e-6, weight_decay=1e-2)"
   ]
  },
  {
   "cell_type": "code",
   "execution_count": 26,
   "metadata": {},
   "outputs": [],
   "source": [
    "trainer = create_supervised_trainer(model, optimizer, loss, device=DEVICE)"
   ]
  },
  {
   "cell_type": "code",
   "execution_count": 27,
   "metadata": {},
   "outputs": [],
   "source": [
    "lr_scheduler = optim.lr_scheduler.OneCycleLR(optimizer, max_lr=1e-2,\n",
    "                                             steps_per_epoch=len(train_loader), epochs=EPOCHS)"
   ]
  },
  {
   "cell_type": "code",
   "execution_count": 28,
   "metadata": {},
   "outputs": [],
   "source": [
    "trainer.add_event_handler(Events.ITERATION_COMPLETED, lambda engine: lr_scheduler.step());"
   ]
  },
  {
   "cell_type": "code",
   "execution_count": 29,
   "metadata": {},
   "outputs": [],
   "source": [
    "ignite.metrics.RunningAverage(output_transform=lambda x: x).attach(trainer, \"loss\")"
   ]
  },
  {
   "cell_type": "code",
   "execution_count": 30,
   "metadata": {},
   "outputs": [],
   "source": [
    "val_metrics = {\"accuracy\": ignite.metrics.Accuracy(), \"loss\": ignite.metrics.Loss(loss)}"
   ]
  },
  {
   "cell_type": "code",
   "execution_count": 31,
   "metadata": {},
   "outputs": [],
   "source": [
    "evaluator = create_supervised_evaluator(model, metrics=val_metrics, device=DEVICE)"
   ]
  },
  {
   "cell_type": "code",
   "execution_count": 32,
   "metadata": {},
   "outputs": [],
   "source": [
    "history = History()"
   ]
  },
  {
   "cell_type": "code",
   "execution_count": 33,
   "metadata": {},
   "outputs": [],
   "source": [
    "@trainer.on(Events.EPOCH_COMPLETED)\n",
    "def log_validation_results(engine):\n",
    "    train_state = engine.state\n",
    "    epoch = train_state.epoch\n",
    "    max_epochs = train_state.max_epochs\n",
    "    train_loss = train_state.metrics[\"loss\"]\n",
    "    history.append('train loss', train_loss)\n",
    "    \n",
    "    evaluator.run(test_loader)\n",
    "    val_metrics = evaluator.state.metrics\n",
    "    val_loss = val_metrics[\"loss\"]\n",
    "    val_acc = val_metrics[\"accuracy\"]\n",
    "    history.append('val loss', val_loss)\n",
    "    history.append('val acc', val_acc)\n",
    "    \n",
    "    print(\"{}/{} - train: loss {:.3f}; val: loss {:.3f} accuracy {:.3f}\".format(\n",
    "        epoch, max_epochs, train_loss, val_loss, val_acc))"
   ]
  },
  {
   "cell_type": "markdown",
   "metadata": {},
   "source": [
    "### Start training"
   ]
  },
  {
   "cell_type": "code",
   "execution_count": 36,
   "metadata": {},
   "outputs": [
    {
     "name": "stdout",
     "output_type": "stream",
     "text": [
      "1/100 - train: loss 1.018; val: loss 0.988 accuracy 0.645\n",
      "2/100 - train: loss 0.729; val: loss 0.686 accuracy 0.764\n",
      "3/100 - train: loss 0.670; val: loss 0.576 accuracy 0.801\n",
      "4/100 - train: loss 0.605; val: loss 0.543 accuracy 0.814\n",
      "5/100 - train: loss 0.549; val: loss 0.571 accuracy 0.807\n",
      "6/100 - train: loss 0.506; val: loss 0.458 accuracy 0.846\n",
      "7/100 - train: loss 0.531; val: loss 0.526 accuracy 0.822\n",
      "8/100 - train: loss 0.466; val: loss 0.454 accuracy 0.846\n",
      "9/100 - train: loss 0.481; val: loss 0.435 accuracy 0.855\n",
      "10/100 - train: loss 0.454; val: loss 0.470 accuracy 0.837\n",
      "11/100 - train: loss 0.477; val: loss 0.434 accuracy 0.856\n",
      "12/100 - train: loss 0.455; val: loss 0.451 accuracy 0.850\n",
      "13/100 - train: loss 0.462; val: loss 0.453 accuracy 0.849\n",
      "14/100 - train: loss 0.454; val: loss 0.466 accuracy 0.852\n",
      "15/100 - train: loss 0.454; val: loss 0.597 accuracy 0.805\n",
      "16/100 - train: loss 0.463; val: loss 0.493 accuracy 0.835\n",
      "17/100 - train: loss 0.452; val: loss 0.582 accuracy 0.807\n",
      "18/100 - train: loss 0.459; val: loss 0.508 accuracy 0.832\n",
      "19/100 - train: loss 0.485; val: loss 0.586 accuracy 0.803\n",
      "20/100 - train: loss 0.440; val: loss 0.458 accuracy 0.848\n",
      "21/100 - train: loss 0.445; val: loss 0.585 accuracy 0.812\n",
      "22/100 - train: loss 0.436; val: loss 0.472 accuracy 0.846\n",
      "23/100 - train: loss 0.465; val: loss 0.517 accuracy 0.826\n",
      "24/100 - train: loss 0.495; val: loss 0.499 accuracy 0.832\n",
      "25/100 - train: loss 0.448; val: loss 0.465 accuracy 0.841\n",
      "26/100 - train: loss 0.457; val: loss 0.549 accuracy 0.823\n",
      "27/100 - train: loss 0.416; val: loss 0.459 accuracy 0.854\n",
      "28/100 - train: loss 0.432; val: loss 0.470 accuracy 0.836\n",
      "29/100 - train: loss 0.440; val: loss 0.486 accuracy 0.844\n",
      "30/100 - train: loss 0.452; val: loss 0.487 accuracy 0.837\n",
      "31/100 - train: loss 0.428; val: loss 0.503 accuracy 0.833\n",
      "32/100 - train: loss 0.414; val: loss 0.412 accuracy 0.857\n",
      "33/100 - train: loss 0.447; val: loss 0.596 accuracy 0.797\n",
      "34/100 - train: loss 0.398; val: loss 0.564 accuracy 0.819\n",
      "35/100 - train: loss 0.416; val: loss 0.597 accuracy 0.811\n",
      "36/100 - train: loss 0.412; val: loss 0.499 accuracy 0.840\n",
      "37/100 - train: loss 0.418; val: loss 0.588 accuracy 0.815\n",
      "38/100 - train: loss 0.391; val: loss 0.489 accuracy 0.847\n",
      "39/100 - train: loss 0.406; val: loss 0.472 accuracy 0.844\n",
      "40/100 - train: loss 0.418; val: loss 0.442 accuracy 0.857\n",
      "41/100 - train: loss 0.408; val: loss 0.494 accuracy 0.838\n",
      "42/100 - train: loss 0.380; val: loss 0.511 accuracy 0.839\n",
      "43/100 - train: loss 0.381; val: loss 0.437 accuracy 0.860\n",
      "44/100 - train: loss 0.382; val: loss 0.488 accuracy 0.845\n",
      "45/100 - train: loss 0.383; val: loss 0.403 accuracy 0.868\n",
      "46/100 - train: loss 0.363; val: loss 0.553 accuracy 0.821\n",
      "47/100 - train: loss 0.371; val: loss 0.430 accuracy 0.855\n",
      "48/100 - train: loss 0.338; val: loss 0.422 accuracy 0.864\n",
      "49/100 - train: loss 0.367; val: loss 0.467 accuracy 0.848\n",
      "50/100 - train: loss 0.357; val: loss 0.521 accuracy 0.829\n",
      "51/100 - train: loss 0.325; val: loss 0.474 accuracy 0.846\n",
      "52/100 - train: loss 0.343; val: loss 0.383 accuracy 0.875\n",
      "53/100 - train: loss 0.366; val: loss 0.419 accuracy 0.863\n",
      "54/100 - train: loss 0.306; val: loss 0.341 accuracy 0.886\n",
      "55/100 - train: loss 0.323; val: loss 0.381 accuracy 0.873\n",
      "56/100 - train: loss 0.304; val: loss 0.365 accuracy 0.881\n",
      "57/100 - train: loss 0.299; val: loss 0.349 accuracy 0.886\n",
      "58/100 - train: loss 0.306; val: loss 0.375 accuracy 0.881\n",
      "59/100 - train: loss 0.282; val: loss 0.390 accuracy 0.871\n",
      "60/100 - train: loss 0.261; val: loss 0.363 accuracy 0.886\n",
      "61/100 - train: loss 0.284; val: loss 0.464 accuracy 0.847\n",
      "62/100 - train: loss 0.234; val: loss 0.335 accuracy 0.891\n",
      "63/100 - train: loss 0.237; val: loss 0.329 accuracy 0.894\n",
      "64/100 - train: loss 0.248; val: loss 0.358 accuracy 0.891\n",
      "65/100 - train: loss 0.236; val: loss 0.301 accuracy 0.903\n",
      "66/100 - train: loss 0.258; val: loss 0.335 accuracy 0.892\n",
      "67/100 - train: loss 0.223; val: loss 0.340 accuracy 0.890\n",
      "68/100 - train: loss 0.207; val: loss 0.274 accuracy 0.911\n",
      "69/100 - train: loss 0.228; val: loss 0.292 accuracy 0.905\n",
      "70/100 - train: loss 0.177; val: loss 0.283 accuracy 0.908\n",
      "71/100 - train: loss 0.185; val: loss 0.269 accuracy 0.914\n",
      "72/100 - train: loss 0.169; val: loss 0.250 accuracy 0.920\n",
      "73/100 - train: loss 0.171; val: loss 0.255 accuracy 0.920\n",
      "74/100 - train: loss 0.175; val: loss 0.255 accuracy 0.921\n",
      "75/100 - train: loss 0.157; val: loss 0.275 accuracy 0.917\n",
      "76/100 - train: loss 0.124; val: loss 0.242 accuracy 0.926\n",
      "77/100 - train: loss 0.147; val: loss 0.248 accuracy 0.923\n",
      "78/100 - train: loss 0.134; val: loss 0.236 accuracy 0.930\n",
      "79/100 - train: loss 0.102; val: loss 0.237 accuracy 0.931\n",
      "80/100 - train: loss 0.108; val: loss 0.238 accuracy 0.932\n",
      "81/100 - train: loss 0.093; val: loss 0.231 accuracy 0.932\n",
      "82/100 - train: loss 0.089; val: loss 0.224 accuracy 0.938\n",
      "83/100 - train: loss 0.066; val: loss 0.238 accuracy 0.937\n",
      "84/100 - train: loss 0.062; val: loss 0.215 accuracy 0.941\n",
      "85/100 - train: loss 0.052; val: loss 0.243 accuracy 0.937\n",
      "86/100 - train: loss 0.063; val: loss 0.235 accuracy 0.941\n",
      "87/100 - train: loss 0.035; val: loss 0.239 accuracy 0.942\n",
      "88/100 - train: loss 0.039; val: loss 0.251 accuracy 0.940\n",
      "89/100 - train: loss 0.032; val: loss 0.229 accuracy 0.944\n",
      "90/100 - train: loss 0.033; val: loss 0.245 accuracy 0.942\n",
      "91/100 - train: loss 0.020; val: loss 0.228 accuracy 0.947\n",
      "92/100 - train: loss 0.019; val: loss 0.239 accuracy 0.946\n",
      "93/100 - train: loss 0.024; val: loss 0.233 accuracy 0.947\n",
      "94/100 - train: loss 0.010; val: loss 0.236 accuracy 0.948\n",
      "95/100 - train: loss 0.015; val: loss 0.238 accuracy 0.948\n",
      "96/100 - train: loss 0.012; val: loss 0.231 accuracy 0.949\n",
      "97/100 - train: loss 0.008; val: loss 0.231 accuracy 0.949\n",
      "98/100 - train: loss 0.009; val: loss 0.231 accuracy 0.950\n",
      "99/100 - train: loss 0.008; val: loss 0.231 accuracy 0.950\n",
      "100/100 - train: loss 0.009; val: loss 0.237 accuracy 0.950\n"
     ]
    }
   ],
   "source": [
    "trainer.run(train_loader, max_epochs=EPOCHS);"
   ]
  },
  {
   "cell_type": "code",
   "execution_count": 37,
   "metadata": {},
   "outputs": [
    {
     "data": {
      "image/png": "[encoded data removed]",
      "text/plain": [
       "<Figure size 432x288 with 1 Axes>"
      ]
     },
     "metadata": {
      "needs_background": "light"
     },
     "output_type": "display_data"
    }
   ],
   "source": [
    "history.plot_train_val('loss')"
   ]
  },
  {
   "cell_type": "code",
   "execution_count": 38,
   "metadata": {},
   "outputs": [
    {
     "data": {
      "image/png": "[encoded data removed]",
      "text/plain": [
       "<Figure size 432x288 with 1 Axes>"
      ]
     },
     "metadata": {
      "needs_background": "light"
     },
     "output_type": "display_data"
    }
   ],
   "source": [
    "history.plot('val acc')"
   ]
  }
 ],
 "metadata": {
  "kernelspec": {
   "display_name": "Python 3 (ipykernel)",
   "language": "python",
   "name": "python3"
  },
  "language_info": {
   "codemirror_mode": {
    "name": "ipython",
    "version": 3
   },
   "file_extension": ".py",
   "mimetype": "text/x-python",
   "name": "python",
   "nbconvert_exporter": "python",
   "pygments_lexer": "ipython3",
   "version": "3.8.10"
  }
 },
 "nbformat": 4,
 "nbformat_minor": 4
}
