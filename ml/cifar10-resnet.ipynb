{
 "cells": [
  {
   "cell_type": "markdown",
   "metadata": {},
   "source": [
    "# ResNet on CIFAR10"
   ]
  },
  {
   "cell_type": "markdown",
   "metadata": {},
   "source": [
    "## Configuration"
   ]
  },
  {
   "cell_type": "markdown",
   "metadata": {},
   "source": [
    "Imports"
   ]
  },
  {
   "cell_type": "code",
   "execution_count": 1,
   "metadata": {},
   "outputs": [],
   "source": [
    "import numpy as np\n",
    "from collections import defaultdict\n",
    "import matplotlib.pyplot as plt\n",
    "\n",
    "import torch\n",
    "import torch.nn as nn\n",
    "import torch.optim as optim\n",
    "import torch.nn.functional as F\n",
    "from torchvision import datasets, transforms\n",
    "\n",
    "from ignite.engine import Events, create_supervised_trainer, create_supervised_evaluator\n",
    "from ignite.utils import convert_tensor\n",
    "import ignite.metrics\n",
    "import ignite.contrib.handlers"
   ]
  },
  {
   "cell_type": "markdown",
   "metadata": {},
   "source": [
    "Configuration"
   ]
  },
  {
   "cell_type": "code",
   "execution_count": 2,
   "metadata": {},
   "outputs": [],
   "source": [
    "DATA_DIR='./data'\n",
    "\n",
    "NUM_CLASSES = 10\n",
    "NUM_WORKERS = 20\n",
    "BATCH_SIZE = 32\n",
    "NUM_BA_COPIES = 4\n",
    "EPOCHS = 200"
   ]
  },
  {
   "cell_type": "code",
   "execution_count": 3,
   "metadata": {},
   "outputs": [
    {
     "name": "stdout",
     "output_type": "stream",
     "text": [
      "device: cuda\n"
     ]
    }
   ],
   "source": [
    "DEVICE = torch.device(\"cuda\") if torch.cuda.is_available() else torch.device(\"cpu\")\n",
    "print(\"device:\", DEVICE)"
   ]
  },
  {
   "cell_type": "markdown",
   "metadata": {},
   "source": [
    "## Data"
   ]
  },
  {
   "cell_type": "code",
   "execution_count": 4,
   "metadata": {},
   "outputs": [],
   "source": [
    "train_transform = transforms.Compose([\n",
    "    transforms.RandomHorizontalFlip(),\n",
    "    transforms.RandomCrop(32, padding=4),\n",
    "    transforms.ColorJitter(brightness=0.2, contrast=0.2, saturation=0.2),\n",
    "    transforms.ToTensor()\n",
    "])"
   ]
  },
  {
   "cell_type": "code",
   "execution_count": 5,
   "metadata": {},
   "outputs": [
    {
     "name": "stdout",
     "output_type": "stream",
     "text": [
      "Files already downloaded and verified\n",
      "Files already downloaded and verified\n"
     ]
    }
   ],
   "source": [
    "train_dset = datasets.CIFAR10(root=DATA_DIR, train=True, download=True)\n",
    "test_dset = datasets.CIFAR10(root=DATA_DIR, train=False, download=True, transform=transforms.ToTensor())"
   ]
  },
  {
   "cell_type": "markdown",
   "metadata": {},
   "source": [
    "Batch Augmentation, [arXiv:1901.09335 [cs.LG]](https://arxiv.org/abs/1901.09335)"
   ]
  },
  {
   "cell_type": "code",
   "execution_count": 6,
   "metadata": {},
   "outputs": [],
   "source": [
    "class CollateFN:\n",
    "    def __init__(self, transform, num_copies=1):\n",
    "        self.transform = transform\n",
    "        self.num_copies = num_copies\n",
    "    \n",
    "    def __call__(self, batch):\n",
    "        images, labels = zip(*batch)\n",
    "        \n",
    "        transformed_images = [self.transform(img) for img in images for _ in range(self.num_copies)]\n",
    "        new_labels = [lbl for lbl in labels for _ in range(self.num_copies)]\n",
    "        X = torch.stack(transformed_images, dim=0)\n",
    "        Y = torch.tensor(new_labels)\n",
    "        return X, Y"
   ]
  },
  {
   "cell_type": "code",
   "execution_count": 7,
   "metadata": {},
   "outputs": [],
   "source": [
    "train_loader = torch.utils.data.DataLoader(train_dset, batch_size=BATCH_SIZE, shuffle=True,\n",
    "                                           collate_fn=CollateFN(train_transform, NUM_BA_COPIES),\n",
    "                                           num_workers=NUM_WORKERS, pin_memory=True)\n",
    "test_loader = torch.utils.data.DataLoader(test_dset, batch_size=BATCH_SIZE, shuffle=False,\n",
    "                                          num_workers=NUM_WORKERS, pin_memory=True)"
   ]
  },
  {
   "cell_type": "code",
   "execution_count": 8,
   "metadata": {},
   "outputs": [],
   "source": [
    "def dataset_show_image(dset, idx):\n",
    "    X, Y = dset[idx]\n",
    "    title = \"Ground truth: {}\".format(dset.classes[Y])\n",
    "    fig = plt.figure()\n",
    "    ax = fig.add_subplot(111)\n",
    "    ax.set_axis_off()\n",
    "    ax.imshow(np.moveaxis(X.numpy(), 0, -1))\n",
    "    ax.set_title(title)\n",
    "    plt.show()"
   ]
  },
  {
   "cell_type": "code",
   "execution_count": 9,
   "metadata": {},
   "outputs": [
    {
     "data": {
      "image/png": "[encoded data removed]",
      "text/plain": [
       "<Figure size 432x288 with 1 Axes>"
      ]
     },
     "metadata": {
      "needs_background": "light"
     },
     "output_type": "display_data"
    }
   ],
   "source": [
    "dataset_show_image(test_dset, 1)"
   ]
  },
  {
   "cell_type": "markdown",
   "metadata": {},
   "source": [
    "## Model"
   ]
  },
  {
   "cell_type": "markdown",
   "metadata": {},
   "source": [
    "Improvements of ResNet from [arXiv:1812.01187 [cs.CV]](https://arxiv.org/abs/1812.01187)"
   ]
  },
  {
   "cell_type": "markdown",
   "metadata": {},
   "source": [
    "SiLU activation $x\\cdot\\sigma(x)$, [arXiv:1702.03118 [cs.LG]](https://arxiv.org/abs/1702.03118);\n",
    "more general Swish activation $x\\cdot\\sigma(\\beta x)$, [arXiv:1710.05941 [cs.NE]](https://arxiv.org/abs/1710.05941)"
   ]
  },
  {
   "cell_type": "code",
   "execution_count": 10,
   "metadata": {},
   "outputs": [],
   "source": [
    "class ConvBlock(nn.Sequential):\n",
    "    def __init__(self, in_channels, out_channels, kernel_size=3, stride=1, act=True):\n",
    "        padding = (kernel_size - 1) // 2\n",
    "        layers = [\n",
    "            nn.Conv2d(in_channels, out_channels, kernel_size, stride=stride, padding=padding, bias=False),\n",
    "            nn.BatchNorm2d(out_channels)\n",
    "        ]\n",
    "        if act: layers.append(nn.SiLU(inplace=True))\n",
    "        super().__init__(*layers)"
   ]
  },
  {
   "cell_type": "code",
   "execution_count": 11,
   "metadata": {},
   "outputs": [],
   "source": [
    "class BasicResidual(nn.Sequential):\n",
    "    def __init__(self, in_channels, out_channels, p_drop=0.):\n",
    "        super().__init__(\n",
    "            ConvBlock(in_channels, out_channels),\n",
    "            ConvBlock(out_channels, out_channels, act=False),\n",
    "            nn.Dropout2d(p_drop)\n",
    "        )"
   ]
  },
  {
   "cell_type": "code",
   "execution_count": 12,
   "metadata": {},
   "outputs": [],
   "source": [
    "class ResidualBlock(nn.Module):\n",
    "    def __init__(self, in_channels, out_channels, p_drop=0.):\n",
    "        super().__init__()\n",
    "        self.shortcut = self.get_shortcut(in_channels, out_channels)\n",
    "        self.residual = BasicResidual(in_channels, out_channels, p_drop)\n",
    "        self.act = nn.SiLU(inplace=True)\n",
    "        self.gamma = nn.Parameter(torch.zeros(1))\n",
    "    \n",
    "    def forward(self, x):\n",
    "        out = self.shortcut(x) + self.gamma * self.residual(x)\n",
    "        return self.act(out)\n",
    "    \n",
    "    def get_shortcut(self, in_channels, out_channels):\n",
    "        if in_channels != out_channels:\n",
    "            shortcut = ConvBlock(in_channels, out_channels, 1, act=False)\n",
    "        else:\n",
    "            shortcut = nn.Identity()\n",
    "        return shortcut"
   ]
  },
  {
   "cell_type": "code",
   "execution_count": 13,
   "metadata": {},
   "outputs": [],
   "source": [
    "class ResidualStack(nn.Sequential):\n",
    "    def __init__(self, in_channels, repetitions, strides, p_drop=0.):\n",
    "        layers = []\n",
    "        out_channels = in_channels\n",
    "        for rep, stride in zip(repetitions, strides):\n",
    "            if stride > 1: layers.append(nn.MaxPool2d(stride))\n",
    "            for _ in range(rep):\n",
    "                layers.append(ResidualBlock(in_channels, out_channels, p_drop))\n",
    "                in_channels = out_channels\n",
    "            out_channels *= 2\n",
    "        super().__init__(*layers)"
   ]
  },
  {
   "cell_type": "code",
   "execution_count": 14,
   "metadata": {},
   "outputs": [],
   "source": [
    "class Stem(nn.Sequential):\n",
    "    def __init__(self, in_channels, channel_list, stride):\n",
    "        layers = []\n",
    "        for out_channels in channel_list:\n",
    "            layers.append(ConvBlock(in_channels, out_channels, 3, stride=stride))\n",
    "            in_channels = out_channels\n",
    "            stride = 1\n",
    "        super().__init__(*layers)"
   ]
  },
  {
   "cell_type": "code",
   "execution_count": 15,
   "metadata": {},
   "outputs": [],
   "source": [
    "class Head(nn.Sequential):\n",
    "    def __init__(self, in_channels, classes, p_drop=0.):\n",
    "        super().__init__(\n",
    "            nn.AdaptiveAvgPool2d(1),\n",
    "            nn.Flatten(),\n",
    "            nn.Dropout(p_drop),\n",
    "            nn.Linear(in_channels, classes)\n",
    "        )"
   ]
  },
  {
   "cell_type": "code",
   "execution_count": 16,
   "metadata": {},
   "outputs": [],
   "source": [
    "class ResNet(nn.Sequential):\n",
    "    def __init__(self, classes, repetitions, strides=None, in_channels=3, res_p_drop=0., head_p_drop=0.):\n",
    "        if strides is None: strides = [2] * (len(repetitions) + 1)\n",
    "        super().__init__(\n",
    "            Stem(in_channels, [32, 32, 64], strides[0]),\n",
    "            ResidualStack(64, repetitions, strides[1:], res_p_drop),\n",
    "            Head(64 * 2**(len(repetitions) - 1), classes, head_p_drop)\n",
    "        )"
   ]
  },
  {
   "cell_type": "code",
   "execution_count": 17,
   "metadata": {},
   "outputs": [],
   "source": [
    "def init_linear(m):\n",
    "    if isinstance(m, (nn.Conv2d, nn.Linear)):\n",
    "        nn.init.kaiming_normal_(m.weight)\n",
    "        if m.bias is not None: nn.init.zeros_(m.bias)"
   ]
  },
  {
   "cell_type": "code",
   "execution_count": 18,
   "metadata": {},
   "outputs": [],
   "source": [
    "model = ResNet(NUM_CLASSES, [2, 2, 2, 2], strides=[1, 1, 2, 2, 2], res_p_drop=0., head_p_drop=0.3)"
   ]
  },
  {
   "cell_type": "code",
   "execution_count": 19,
   "metadata": {},
   "outputs": [],
   "source": [
    "model.apply(init_linear);"
   ]
  },
  {
   "cell_type": "code",
   "execution_count": 20,
   "metadata": {},
   "outputs": [],
   "source": [
    "model.to(DEVICE);"
   ]
  },
  {
   "cell_type": "code",
   "execution_count": 21,
   "metadata": {},
   "outputs": [
    {
     "name": "stdout",
     "output_type": "stream",
     "text": [
      "Number of parameters: 11,200,882\n"
     ]
    }
   ],
   "source": [
    "print(\"Number of parameters: {:,}\".format(sum(p.numel() for p in model.parameters())))"
   ]
  },
  {
   "cell_type": "markdown",
   "metadata": {
    "tags": []
   },
   "source": [
    "## Loss"
   ]
  },
  {
   "cell_type": "code",
   "execution_count": 22,
   "metadata": {},
   "outputs": [],
   "source": [
    "def reduce_loss(loss, reduction='mean'):\n",
    "    return loss.mean() if reduction=='mean' else loss.sum() if reduction=='sum' else loss"
   ]
  },
  {
   "cell_type": "markdown",
   "metadata": {},
   "source": [
    "Label smoothing introduced in [arXiv:1512.00567 [cs.CV]](https://arxiv.org/abs/1512.00567)"
   ]
  },
  {
   "cell_type": "code",
   "execution_count": 23,
   "metadata": {},
   "outputs": [],
   "source": [
    "class LabelSmoothingCrossEntropy(nn.Module):\n",
    "    def __init__(self, ε=0.1, reduction='mean'):\n",
    "        super().__init__()\n",
    "        self.ε = ε\n",
    "        self.reduction = reduction\n",
    "\n",
    "    def forward(self, output, target):\n",
    "        c = output.size(-1)\n",
    "        log_preds = F.log_softmax(output, dim=-1)\n",
    "        loss1 = reduce_loss(-log_preds.sum(dim=-1) / c, self.reduction)\n",
    "        loss2 = F.nll_loss(log_preds, target, reduction=self.reduction)\n",
    "        loss = (1. - self.ε) * loss2 + self.ε * loss1\n",
    "        return loss"
   ]
  },
  {
   "cell_type": "markdown",
   "metadata": {},
   "source": [
    "## CutMix"
   ]
  },
  {
   "cell_type": "markdown",
   "metadata": {},
   "source": [
    "CutMix, [arXiv:1905.04899 [cs.CV]](https://arxiv.org/abs/1905.04899)"
   ]
  },
  {
   "cell_type": "code",
   "execution_count": 24,
   "metadata": {},
   "outputs": [],
   "source": [
    "class CutMix(nn.Module):\n",
    "    def __init__(self, loss, α=1.0):\n",
    "        super().__init__()\n",
    "        self.loss = loss\n",
    "        self.α = α\n",
    "        self.rng = np.random.default_rng()\n",
    "    \n",
    "    def prepare_batch(self, batch, device, non_blocking):\n",
    "        x, y = batch\n",
    "        x = convert_tensor(x, device=device, non_blocking=non_blocking)\n",
    "        y = convert_tensor(y, device=device, non_blocking=non_blocking)\n",
    "        \n",
    "        batch_size = x.size(0)\n",
    "        self.index = torch.randperm(batch_size).to(device)\n",
    "        \n",
    "        self.λ = self.rng.beta(self.α, self.α)\n",
    "        y1, x1, y2, x2 = self.cut_bounding_box(x.shape[-2:], self.λ)\n",
    "        x[:, :, y1:y2, x1:x2] = x[self.index, :, y1:y2, x1:x2]\n",
    "                \n",
    "        # adjust lambda to exactly match pixel ratio\n",
    "        area = x.size(2) * x.size(3)\n",
    "        self.λ = 1. - (x2 - x1) * (y2 - y1) / area\n",
    "        return x, y\n",
    "    \n",
    "    def cut_bounding_box(self, shape, λ):\n",
    "        cut_size_2 = 0.5 * np.sqrt(1. - λ)\n",
    "        center_yx = self.rng.random(2)\n",
    "        \n",
    "        y1x1 = (np.clip(center_yx - cut_size_2, 0., 1.) * shape).astype(int)\n",
    "        y2x2 = (np.clip(center_yx + cut_size_2, 0., 1.) * shape).astype(int)\n",
    "        return np.concatenate((y1x1, y2x2))\n",
    "        \n",
    "    def forward(self, pred, target):\n",
    "        orig_reduction = self.loss.reduction\n",
    "        self.loss.reduction = 'none'\n",
    "        batch_loss = self.λ * self.loss(pred, target) + (1. - self.λ) * self.loss(pred, target[self.index])\n",
    "        self.loss.reduction = orig_reduction\n",
    "        return reduce_loss(batch_loss, orig_reduction)"
   ]
  },
  {
   "cell_type": "markdown",
   "metadata": {},
   "source": [
    "## Training"
   ]
  },
  {
   "cell_type": "markdown",
   "metadata": {
    "tags": []
   },
   "source": [
    "### History"
   ]
  },
  {
   "cell_type": "code",
   "execution_count": 25,
   "metadata": {},
   "outputs": [],
   "source": [
    "class History:\n",
    "    def __init__(self):\n",
    "        self.values = defaultdict(list)\n",
    "\n",
    "    def append(self, key, value):\n",
    "        self.values[key].append(value)\n",
    "\n",
    "    def reset(self):\n",
    "        for k in self.values.keys():\n",
    "            self.values[k] = []\n",
    "\n",
    "    def _begin_plot(self):\n",
    "        self.fig = plt.figure()\n",
    "        self.ax = self.fig.add_subplot(111)\n",
    "\n",
    "    def _end_plot(self, ylabel):\n",
    "        self.ax.set_xlabel('epoch')\n",
    "        self.ax.set_ylabel(ylabel)\n",
    "        plt.show()\n",
    "\n",
    "    def _plot(self, key, line_type='-', label=None):\n",
    "        if label is None: label=key\n",
    "        xs = np.arange(1, len(self.values[key])+1)\n",
    "        self.ax.plot(xs, self.values[key], line_type, label=label)\n",
    "\n",
    "    def plot(self, key):\n",
    "        self._begin_plot()\n",
    "        self._plot(key, '-')\n",
    "        self._end_plot(key)\n",
    "\n",
    "    def plot_train_val(self, key):\n",
    "        self._begin_plot()\n",
    "        self._plot('train ' + key, '.-', 'train')\n",
    "        self._plot('val ' + key, '.-', 'val')\n",
    "        self.ax.legend()\n",
    "        self._end_plot(key)"
   ]
  },
  {
   "cell_type": "markdown",
   "metadata": {},
   "source": [
    "### Trainer Setup"
   ]
  },
  {
   "cell_type": "code",
   "execution_count": 26,
   "metadata": {},
   "outputs": [],
   "source": [
    "loss = LabelSmoothingCrossEntropy()"
   ]
  },
  {
   "cell_type": "code",
   "execution_count": 27,
   "metadata": {},
   "outputs": [],
   "source": [
    "cutmix = CutMix(loss, α=1.0)"
   ]
  },
  {
   "cell_type": "markdown",
   "metadata": {},
   "source": [
    "AdamW optimizer, [arXiv:1711.05101 [cs.LG]](https://arxiv.org/abs/1711.05101)"
   ]
  },
  {
   "cell_type": "code",
   "execution_count": 28,
   "metadata": {},
   "outputs": [],
   "source": [
    "optimizer = optim.AdamW(model.parameters(), lr=1e-6, weight_decay=1e-2)"
   ]
  },
  {
   "cell_type": "code",
   "execution_count": 29,
   "metadata": {},
   "outputs": [],
   "source": [
    "trainer = create_supervised_trainer(model, optimizer, cutmix, device=DEVICE, prepare_batch=cutmix.prepare_batch)"
   ]
  },
  {
   "cell_type": "markdown",
   "metadata": {},
   "source": [
    "\"1cycle\" leraning rate policy, [arXiv:1803.09820 [cs.LG]](https://arxiv.org/abs/1803.09820)"
   ]
  },
  {
   "cell_type": "code",
   "execution_count": 30,
   "metadata": {},
   "outputs": [],
   "source": [
    "lr_scheduler = optim.lr_scheduler.OneCycleLR(optimizer, max_lr=1e-2,\n",
    "                                             steps_per_epoch=len(train_loader), epochs=EPOCHS)"
   ]
  },
  {
   "cell_type": "code",
   "execution_count": 31,
   "metadata": {},
   "outputs": [],
   "source": [
    "trainer.add_event_handler(Events.ITERATION_COMPLETED, lambda engine: lr_scheduler.step());"
   ]
  },
  {
   "cell_type": "code",
   "execution_count": 32,
   "metadata": {},
   "outputs": [],
   "source": [
    "ignite.metrics.RunningAverage(output_transform=lambda x: x).attach(trainer, \"loss\")"
   ]
  },
  {
   "cell_type": "code",
   "execution_count": 33,
   "metadata": {},
   "outputs": [],
   "source": [
    "val_metrics = {\"accuracy\": ignite.metrics.Accuracy(), \"loss\": ignite.metrics.Loss(loss)}"
   ]
  },
  {
   "cell_type": "code",
   "execution_count": 34,
   "metadata": {},
   "outputs": [],
   "source": [
    "evaluator = create_supervised_evaluator(model, metrics=val_metrics, device=DEVICE)"
   ]
  },
  {
   "cell_type": "code",
   "execution_count": 35,
   "metadata": {},
   "outputs": [],
   "source": [
    "history = History()"
   ]
  },
  {
   "cell_type": "code",
   "execution_count": 36,
   "metadata": {},
   "outputs": [],
   "source": [
    "@trainer.on(Events.EPOCH_COMPLETED)\n",
    "def log_validation_results(engine):\n",
    "    train_state = engine.state\n",
    "    epoch = train_state.epoch\n",
    "    max_epochs = train_state.max_epochs\n",
    "    train_loss = train_state.metrics[\"loss\"]\n",
    "    history.append('train loss', train_loss)\n",
    "    \n",
    "    evaluator.run(test_loader)\n",
    "    val_metrics = evaluator.state.metrics\n",
    "    val_loss = val_metrics[\"loss\"]\n",
    "    val_acc = val_metrics[\"accuracy\"]\n",
    "    history.append('val loss', val_loss)\n",
    "    history.append('val acc', val_acc)\n",
    "    \n",
    "    print(\"{}/{} - train: loss {:.3f}; val: loss {:.3f} accuracy {:.3f}\".format(\n",
    "        epoch, max_epochs, train_loss, val_loss, val_acc))"
   ]
  },
  {
   "cell_type": "markdown",
   "metadata": {},
   "source": [
    "### Training"
   ]
  },
  {
   "cell_type": "code",
   "execution_count": 37,
   "metadata": {},
   "outputs": [
    {
     "name": "stdout",
     "output_type": "stream",
     "text": [
      "1/200 - train: loss 1.782; val: loss 1.256 accuracy 0.665\n",
      "2/200 - train: loss 1.634; val: loss 1.069 accuracy 0.764\n",
      "3/200 - train: loss 1.559; val: loss 0.994 accuracy 0.800\n",
      "4/200 - train: loss 1.516; val: loss 0.923 accuracy 0.841\n",
      "5/200 - train: loss 1.467; val: loss 0.887 accuracy 0.857\n",
      "6/200 - train: loss 1.454; val: loss 0.840 accuracy 0.872\n",
      "7/200 - train: loss 1.395; val: loss 0.815 accuracy 0.882\n",
      "8/200 - train: loss 1.396; val: loss 0.826 accuracy 0.875\n",
      "9/200 - train: loss 1.370; val: loss 0.791 accuracy 0.895\n",
      "10/200 - train: loss 1.359; val: loss 0.800 accuracy 0.893\n",
      "11/200 - train: loss 1.332; val: loss 0.769 accuracy 0.905\n",
      "12/200 - train: loss 1.294; val: loss 0.744 accuracy 0.909\n",
      "13/200 - train: loss 1.324; val: loss 0.768 accuracy 0.900\n",
      "14/200 - train: loss 1.303; val: loss 0.741 accuracy 0.909\n",
      "15/200 - train: loss 1.276; val: loss 0.718 accuracy 0.919\n",
      "16/200 - train: loss 1.301; val: loss 0.722 accuracy 0.927\n",
      "17/200 - train: loss 1.277; val: loss 0.727 accuracy 0.920\n",
      "18/200 - train: loss 1.284; val: loss 0.715 accuracy 0.919\n",
      "19/200 - train: loss 1.263; val: loss 0.706 accuracy 0.919\n",
      "20/200 - train: loss 1.263; val: loss 0.705 accuracy 0.923\n",
      "21/200 - train: loss 1.236; val: loss 0.694 accuracy 0.930\n",
      "22/200 - train: loss 1.273; val: loss 0.696 accuracy 0.926\n",
      "23/200 - train: loss 1.218; val: loss 0.696 accuracy 0.925\n",
      "24/200 - train: loss 1.239; val: loss 0.686 accuracy 0.927\n",
      "25/200 - train: loss 1.245; val: loss 0.681 accuracy 0.932\n",
      "26/200 - train: loss 1.213; val: loss 0.692 accuracy 0.928\n",
      "27/200 - train: loss 1.220; val: loss 0.686 accuracy 0.929\n",
      "28/200 - train: loss 1.218; val: loss 0.710 accuracy 0.918\n",
      "29/200 - train: loss 1.208; val: loss 0.700 accuracy 0.923\n",
      "30/200 - train: loss 1.220; val: loss 0.703 accuracy 0.920\n",
      "31/200 - train: loss 1.238; val: loss 0.708 accuracy 0.921\n",
      "32/200 - train: loss 1.249; val: loss 0.710 accuracy 0.920\n",
      "33/200 - train: loss 1.220; val: loss 0.700 accuracy 0.920\n",
      "34/200 - train: loss 1.262; val: loss 0.694 accuracy 0.924\n",
      "35/200 - train: loss 1.273; val: loss 0.689 accuracy 0.926\n",
      "36/200 - train: loss 1.247; val: loss 0.682 accuracy 0.933\n",
      "37/200 - train: loss 1.213; val: loss 0.711 accuracy 0.920\n",
      "38/200 - train: loss 1.261; val: loss 0.696 accuracy 0.934\n",
      "39/200 - train: loss 1.217; val: loss 0.691 accuracy 0.923\n",
      "40/200 - train: loss 1.246; val: loss 0.673 accuracy 0.932\n",
      "41/200 - train: loss 1.232; val: loss 0.680 accuracy 0.929\n",
      "42/200 - train: loss 1.236; val: loss 0.690 accuracy 0.923\n",
      "43/200 - train: loss 1.218; val: loss 0.692 accuracy 0.925\n",
      "44/200 - train: loss 1.253; val: loss 0.710 accuracy 0.922\n",
      "45/200 - train: loss 1.260; val: loss 0.718 accuracy 0.912\n",
      "46/200 - train: loss 1.237; val: loss 0.741 accuracy 0.904\n",
      "47/200 - train: loss 1.201; val: loss 0.758 accuracy 0.897\n",
      "48/200 - train: loss 1.226; val: loss 0.707 accuracy 0.919\n",
      "49/200 - train: loss 1.205; val: loss 0.700 accuracy 0.922\n",
      "50/200 - train: loss 1.206; val: loss 0.785 accuracy 0.886\n",
      "51/200 - train: loss 1.257; val: loss 0.699 accuracy 0.919\n",
      "52/200 - train: loss 1.242; val: loss 0.692 accuracy 0.925\n",
      "53/200 - train: loss 1.252; val: loss 0.715 accuracy 0.918\n",
      "54/200 - train: loss 1.237; val: loss 0.694 accuracy 0.922\n",
      "55/200 - train: loss 1.234; val: loss 0.662 accuracy 0.936\n",
      "56/200 - train: loss 1.218; val: loss 0.732 accuracy 0.910\n",
      "57/200 - train: loss 1.213; val: loss 0.730 accuracy 0.907\n",
      "58/200 - train: loss 1.190; val: loss 0.717 accuracy 0.913\n",
      "59/200 - train: loss 1.233; val: loss 0.748 accuracy 0.904\n",
      "60/200 - train: loss 1.223; val: loss 0.708 accuracy 0.921\n",
      "61/200 - train: loss 1.237; val: loss 0.685 accuracy 0.930\n",
      "62/200 - train: loss 1.224; val: loss 0.694 accuracy 0.927\n",
      "63/200 - train: loss 1.231; val: loss 0.758 accuracy 0.909\n",
      "64/200 - train: loss 1.207; val: loss 0.672 accuracy 0.928\n",
      "65/200 - train: loss 1.211; val: loss 0.750 accuracy 0.903\n",
      "66/200 - train: loss 1.213; val: loss 0.680 accuracy 0.928\n",
      "67/200 - train: loss 1.225; val: loss 0.664 accuracy 0.932\n",
      "68/200 - train: loss 1.212; val: loss 0.710 accuracy 0.917\n",
      "69/200 - train: loss 1.247; val: loss 0.717 accuracy 0.913\n",
      "70/200 - train: loss 1.225; val: loss 0.700 accuracy 0.922\n",
      "71/200 - train: loss 1.234; val: loss 0.681 accuracy 0.928\n",
      "72/200 - train: loss 1.238; val: loss 0.661 accuracy 0.942\n",
      "73/200 - train: loss 1.218; val: loss 0.663 accuracy 0.937\n",
      "74/200 - train: loss 1.230; val: loss 0.677 accuracy 0.929\n",
      "75/200 - train: loss 1.247; val: loss 0.683 accuracy 0.927\n",
      "76/200 - train: loss 1.211; val: loss 0.677 accuracy 0.935\n",
      "77/200 - train: loss 1.204; val: loss 0.719 accuracy 0.913\n",
      "78/200 - train: loss 1.225; val: loss 0.664 accuracy 0.935\n",
      "79/200 - train: loss 1.208; val: loss 0.681 accuracy 0.929\n",
      "80/200 - train: loss 1.231; val: loss 0.655 accuracy 0.940\n",
      "81/200 - train: loss 1.183; val: loss 0.674 accuracy 0.936\n",
      "82/200 - train: loss 1.235; val: loss 0.693 accuracy 0.923\n",
      "83/200 - train: loss 1.190; val: loss 0.719 accuracy 0.914\n",
      "84/200 - train: loss 1.223; val: loss 0.660 accuracy 0.937\n",
      "85/200 - train: loss 1.216; val: loss 0.664 accuracy 0.935\n",
      "86/200 - train: loss 1.221; val: loss 0.710 accuracy 0.917\n",
      "87/200 - train: loss 1.201; val: loss 0.709 accuracy 0.924\n",
      "88/200 - train: loss 1.202; val: loss 0.672 accuracy 0.931\n",
      "89/200 - train: loss 1.217; val: loss 0.662 accuracy 0.939\n",
      "90/200 - train: loss 1.227; val: loss 0.660 accuracy 0.938\n",
      "91/200 - train: loss 1.180; val: loss 0.652 accuracy 0.939\n",
      "92/200 - train: loss 1.208; val: loss 0.690 accuracy 0.926\n",
      "93/200 - train: loss 1.197; val: loss 0.672 accuracy 0.931\n",
      "94/200 - train: loss 1.187; val: loss 0.666 accuracy 0.935\n",
      "95/200 - train: loss 1.181; val: loss 0.687 accuracy 0.927\n",
      "96/200 - train: loss 1.188; val: loss 0.661 accuracy 0.936\n",
      "97/200 - train: loss 1.224; val: loss 0.667 accuracy 0.937\n",
      "98/200 - train: loss 1.197; val: loss 0.678 accuracy 0.929\n",
      "99/200 - train: loss 1.180; val: loss 0.665 accuracy 0.937\n",
      "100/200 - train: loss 1.191; val: loss 0.661 accuracy 0.939\n",
      "101/200 - train: loss 1.173; val: loss 0.670 accuracy 0.930\n",
      "102/200 - train: loss 1.157; val: loss 0.669 accuracy 0.934\n",
      "103/200 - train: loss 1.169; val: loss 0.656 accuracy 0.938\n",
      "104/200 - train: loss 1.169; val: loss 0.655 accuracy 0.939\n",
      "105/200 - train: loss 1.208; val: loss 0.677 accuracy 0.932\n",
      "106/200 - train: loss 1.185; val: loss 0.690 accuracy 0.926\n",
      "107/200 - train: loss 1.195; val: loss 0.661 accuracy 0.938\n",
      "108/200 - train: loss 1.201; val: loss 0.657 accuracy 0.939\n",
      "109/200 - train: loss 1.155; val: loss 0.647 accuracy 0.941\n",
      "110/200 - train: loss 1.188; val: loss 0.656 accuracy 0.938\n",
      "111/200 - train: loss 1.188; val: loss 0.650 accuracy 0.944\n",
      "112/200 - train: loss 1.174; val: loss 0.678 accuracy 0.930\n",
      "113/200 - train: loss 1.179; val: loss 0.655 accuracy 0.940\n",
      "114/200 - train: loss 1.155; val: loss 0.668 accuracy 0.936\n",
      "115/200 - train: loss 1.215; val: loss 0.643 accuracy 0.944\n",
      "116/200 - train: loss 1.203; val: loss 0.647 accuracy 0.942\n",
      "117/200 - train: loss 1.157; val: loss 0.635 accuracy 0.948\n",
      "118/200 - train: loss 1.133; val: loss 0.629 accuracy 0.951\n",
      "119/200 - train: loss 1.159; val: loss 0.641 accuracy 0.947\n",
      "120/200 - train: loss 1.161; val: loss 0.652 accuracy 0.941\n",
      "121/200 - train: loss 1.157; val: loss 0.663 accuracy 0.936\n",
      "122/200 - train: loss 1.123; val: loss 0.637 accuracy 0.950\n",
      "123/200 - train: loss 1.135; val: loss 0.632 accuracy 0.946\n",
      "124/200 - train: loss 1.156; val: loss 0.660 accuracy 0.938\n",
      "125/200 - train: loss 1.151; val: loss 0.628 accuracy 0.952\n",
      "126/200 - train: loss 1.172; val: loss 0.642 accuracy 0.944\n",
      "127/200 - train: loss 1.147; val: loss 0.646 accuracy 0.944\n",
      "128/200 - train: loss 1.113; val: loss 0.629 accuracy 0.947\n",
      "129/200 - train: loss 1.111; val: loss 0.637 accuracy 0.947\n",
      "130/200 - train: loss 1.124; val: loss 0.633 accuracy 0.949\n",
      "131/200 - train: loss 1.136; val: loss 0.642 accuracy 0.946\n",
      "132/200 - train: loss 1.095; val: loss 0.638 accuracy 0.945\n",
      "133/200 - train: loss 1.101; val: loss 0.626 accuracy 0.951\n",
      "134/200 - train: loss 1.138; val: loss 0.623 accuracy 0.952\n",
      "135/200 - train: loss 1.130; val: loss 0.636 accuracy 0.949\n",
      "136/200 - train: loss 1.132; val: loss 0.620 accuracy 0.953\n",
      "137/200 - train: loss 1.076; val: loss 0.614 accuracy 0.954\n",
      "138/200 - train: loss 1.133; val: loss 0.611 accuracy 0.958\n",
      "139/200 - train: loss 1.106; val: loss 0.616 accuracy 0.955\n",
      "140/200 - train: loss 1.082; val: loss 0.617 accuracy 0.954\n",
      "141/200 - train: loss 1.098; val: loss 0.619 accuracy 0.952\n",
      "142/200 - train: loss 1.112; val: loss 0.628 accuracy 0.951\n",
      "143/200 - train: loss 1.072; val: loss 0.604 accuracy 0.961\n",
      "144/200 - train: loss 1.064; val: loss 0.627 accuracy 0.949\n",
      "145/200 - train: loss 1.070; val: loss 0.639 accuracy 0.945\n",
      "146/200 - train: loss 1.072; val: loss 0.608 accuracy 0.959\n",
      "147/200 - train: loss 1.085; val: loss 0.618 accuracy 0.954\n",
      "148/200 - train: loss 1.074; val: loss 0.611 accuracy 0.958\n",
      "149/200 - train: loss 1.061; val: loss 0.603 accuracy 0.961\n",
      "150/200 - train: loss 1.067; val: loss 0.611 accuracy 0.956\n",
      "151/200 - train: loss 1.061; val: loss 0.610 accuracy 0.956\n",
      "152/200 - train: loss 1.059; val: loss 0.610 accuracy 0.959\n",
      "153/200 - train: loss 1.068; val: loss 0.609 accuracy 0.957\n",
      "154/200 - train: loss 1.067; val: loss 0.604 accuracy 0.959\n",
      "155/200 - train: loss 1.059; val: loss 0.609 accuracy 0.959\n",
      "156/200 - train: loss 1.024; val: loss 0.599 accuracy 0.961\n",
      "157/200 - train: loss 1.059; val: loss 0.602 accuracy 0.959\n",
      "158/200 - train: loss 1.066; val: loss 0.604 accuracy 0.960\n",
      "159/200 - train: loss 1.051; val: loss 0.606 accuracy 0.959\n",
      "160/200 - train: loss 1.048; val: loss 0.603 accuracy 0.959\n",
      "161/200 - train: loss 1.052; val: loss 0.601 accuracy 0.962\n",
      "162/200 - train: loss 1.032; val: loss 0.596 accuracy 0.962\n",
      "163/200 - train: loss 1.029; val: loss 0.593 accuracy 0.962\n",
      "164/200 - train: loss 1.010; val: loss 0.600 accuracy 0.961\n",
      "165/200 - train: loss 1.028; val: loss 0.606 accuracy 0.959\n",
      "166/200 - train: loss 1.038; val: loss 0.592 accuracy 0.965\n",
      "167/200 - train: loss 1.028; val: loss 0.604 accuracy 0.960\n",
      "168/200 - train: loss 0.983; val: loss 0.592 accuracy 0.964\n",
      "169/200 - train: loss 0.986; val: loss 0.586 accuracy 0.965\n",
      "170/200 - train: loss 1.036; val: loss 0.587 accuracy 0.968\n",
      "171/200 - train: loss 1.010; val: loss 0.590 accuracy 0.965\n",
      "172/200 - train: loss 1.021; val: loss 0.588 accuracy 0.965\n",
      "173/200 - train: loss 1.012; val: loss 0.591 accuracy 0.966\n",
      "174/200 - train: loss 0.984; val: loss 0.585 accuracy 0.967\n",
      "175/200 - train: loss 1.021; val: loss 0.581 accuracy 0.969\n",
      "176/200 - train: loss 1.002; val: loss 0.585 accuracy 0.968\n",
      "177/200 - train: loss 0.982; val: loss 0.582 accuracy 0.968\n",
      "178/200 - train: loss 1.006; val: loss 0.582 accuracy 0.968\n",
      "179/200 - train: loss 0.993; val: loss 0.582 accuracy 0.968\n",
      "180/200 - train: loss 0.993; val: loss 0.580 accuracy 0.968\n",
      "181/200 - train: loss 1.003; val: loss 0.576 accuracy 0.969\n",
      "182/200 - train: loss 0.941; val: loss 0.578 accuracy 0.970\n",
      "183/200 - train: loss 0.985; val: loss 0.575 accuracy 0.971\n",
      "184/200 - train: loss 0.994; val: loss 0.577 accuracy 0.969\n",
      "185/200 - train: loss 0.978; val: loss 0.577 accuracy 0.970\n",
      "186/200 - train: loss 0.995; val: loss 0.572 accuracy 0.972\n",
      "187/200 - train: loss 0.976; val: loss 0.572 accuracy 0.971\n",
      "188/200 - train: loss 0.960; val: loss 0.575 accuracy 0.969\n",
      "189/200 - train: loss 0.953; val: loss 0.574 accuracy 0.971\n",
      "190/200 - train: loss 0.969; val: loss 0.573 accuracy 0.970\n",
      "191/200 - train: loss 0.994; val: loss 0.573 accuracy 0.971\n",
      "192/200 - train: loss 0.960; val: loss 0.574 accuracy 0.969\n",
      "193/200 - train: loss 0.931; val: loss 0.574 accuracy 0.970\n",
      "194/200 - train: loss 0.972; val: loss 0.574 accuracy 0.970\n",
      "195/200 - train: loss 0.957; val: loss 0.574 accuracy 0.971\n",
      "196/200 - train: loss 0.989; val: loss 0.573 accuracy 0.969\n",
      "197/200 - train: loss 0.953; val: loss 0.574 accuracy 0.970\n",
      "198/200 - train: loss 0.948; val: loss 0.574 accuracy 0.970\n",
      "199/200 - train: loss 0.994; val: loss 0.574 accuracy 0.970\n",
      "200/200 - train: loss 0.932; val: loss 0.572 accuracy 0.971\n"
     ]
    }
   ],
   "source": [
    "trainer.run(train_loader, max_epochs=EPOCHS);"
   ]
  },
  {
   "cell_type": "code",
   "execution_count": 38,
   "metadata": {},
   "outputs": [
    {
     "data": {
      "image/png": "[encoded data removed]",
      "text/plain": [
       "<Figure size 432x288 with 1 Axes>"
      ]
     },
     "metadata": {
      "needs_background": "light"
     },
     "output_type": "display_data"
    }
   ],
   "source": [
    "history.plot_train_val('loss')"
   ]
  },
  {
   "cell_type": "code",
   "execution_count": 39,
   "metadata": {},
   "outputs": [
    {
     "data": {
      "image/png": "[encoded data removed]",
      "text/plain": [
       "<Figure size 432x288 with 1 Axes>"
      ]
     },
     "metadata": {
      "needs_background": "light"
     },
     "output_type": "display_data"
    }
   ],
   "source": [
    "history.plot('val acc')"
   ]
  }
 ],
 "metadata": {
  "kernelspec": {
   "display_name": "Python 3",
   "language": "python",
   "name": "python3"
  },
  "language_info": {
   "codemirror_mode": {
    "name": "ipython",
    "version": 3
   },
   "file_extension": ".py",
   "mimetype": "text/x-python",
   "name": "python",
   "nbconvert_exporter": "python",
   "pygments_lexer": "ipython3",
   "version": "3.8.10"
  }
 },
 "nbformat": 4,
 "nbformat_minor": 4
}
