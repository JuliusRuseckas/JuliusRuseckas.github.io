{
 "cells": [
  {
   "cell_type": "markdown",
   "metadata": {},
   "source": [
    "# ResNet on CIFAR10"
   ]
  },
  {
   "cell_type": "markdown",
   "metadata": {},
   "source": [
    "## Configuration"
   ]
  },
  {
   "cell_type": "markdown",
   "metadata": {},
   "source": [
    "Imports"
   ]
  },
  {
   "cell_type": "code",
   "execution_count": 1,
   "metadata": {},
   "outputs": [],
   "source": [
    "import numpy as np\n",
    "from collections import defaultdict\n",
    "import matplotlib.pyplot as plt\n",
    "\n",
    "import torch\n",
    "import torch.nn as nn\n",
    "import torch.optim as optim\n",
    "import torch.nn.functional as F\n",
    "from torchvision import datasets, transforms\n",
    "\n",
    "from ignite.engine import Events, create_supervised_trainer, create_supervised_evaluator\n",
    "from ignite.utils import convert_tensor\n",
    "import ignite.metrics\n",
    "import ignite.contrib.handlers"
   ]
  },
  {
   "cell_type": "markdown",
   "metadata": {},
   "source": [
    "Configuration"
   ]
  },
  {
   "cell_type": "code",
   "execution_count": 2,
   "metadata": {},
   "outputs": [],
   "source": [
    "DATA_DIR='./data'\n",
    "\n",
    "NUM_CLASSES = 10\n",
    "NUM_WORKERS = 20\n",
    "BATCH_SIZE = 32\n",
    "NUM_BA_COPIES = 4\n",
    "EPOCHS = 200"
   ]
  },
  {
   "cell_type": "code",
   "execution_count": 3,
   "metadata": {},
   "outputs": [
    {
     "name": "stdout",
     "output_type": "stream",
     "text": [
      "device: cuda\n"
     ]
    }
   ],
   "source": [
    "DEVICE = torch.device(\"cuda\") if torch.cuda.is_available() else torch.device(\"cpu\")\n",
    "print(\"device:\", DEVICE)"
   ]
  },
  {
   "cell_type": "markdown",
   "metadata": {},
   "source": [
    "## Data"
   ]
  },
  {
   "cell_type": "code",
   "execution_count": 4,
   "metadata": {},
   "outputs": [],
   "source": [
    "train_transform = transforms.Compose([\n",
    "    transforms.RandomHorizontalFlip(),\n",
    "    transforms.RandomCrop(32, padding=4),\n",
    "    transforms.ColorJitter(brightness=0.2, contrast=0.2, saturation=0.2),\n",
    "    transforms.ToTensor()\n",
    "])"
   ]
  },
  {
   "cell_type": "code",
   "execution_count": 5,
   "metadata": {},
   "outputs": [
    {
     "name": "stdout",
     "output_type": "stream",
     "text": [
      "Files already downloaded and verified\n",
      "Files already downloaded and verified\n"
     ]
    }
   ],
   "source": [
    "train_dset = datasets.CIFAR10(root=DATA_DIR, train=True, download=True)\n",
    "test_dset = datasets.CIFAR10(root=DATA_DIR, train=False, download=True, transform=transforms.ToTensor())"
   ]
  },
  {
   "cell_type": "markdown",
   "metadata": {},
   "source": [
    "Batch Augmentation, [arXiv:1901.09335 [cs.LG]](https://arxiv.org/abs/1901.09335)"
   ]
  },
  {
   "cell_type": "code",
   "execution_count": 6,
   "metadata": {},
   "outputs": [],
   "source": [
    "class CollateFN:\n",
    "    def __init__(self, transform, num_copies=1):\n",
    "        self.transform = transform\n",
    "        self.num_copies = num_copies\n",
    "    \n",
    "    def __call__(self, batch):\n",
    "        images, labels = zip(*batch)\n",
    "        \n",
    "        transformed_images = [self.transform(img) for img in images for _ in range(self.num_copies)]\n",
    "        new_labels = [lbl for lbl in labels for _ in range(self.num_copies)]\n",
    "        X = torch.stack(transformed_images, dim=0)\n",
    "        Y = torch.tensor(new_labels)\n",
    "        return X, Y"
   ]
  },
  {
   "cell_type": "code",
   "execution_count": 7,
   "metadata": {},
   "outputs": [],
   "source": [
    "train_loader = torch.utils.data.DataLoader(train_dset, batch_size=BATCH_SIZE, shuffle=True,\n",
    "                                           collate_fn=CollateFN(train_transform, NUM_BA_COPIES),\n",
    "                                           num_workers=NUM_WORKERS, pin_memory=True)\n",
    "test_loader = torch.utils.data.DataLoader(test_dset, batch_size=BATCH_SIZE, shuffle=False,\n",
    "                                          num_workers=NUM_WORKERS, pin_memory=True)"
   ]
  },
  {
   "cell_type": "code",
   "execution_count": 8,
   "metadata": {},
   "outputs": [],
   "source": [
    "def dataset_show_image(dset, idx):\n",
    "    X, Y = dset[idx]\n",
    "    title = \"Ground truth: {}\".format(dset.classes[Y])\n",
    "    fig = plt.figure()\n",
    "    ax = fig.add_subplot(111)\n",
    "    ax.set_axis_off()\n",
    "    ax.imshow(np.moveaxis(X.numpy(), 0, -1))\n",
    "    ax.set_title(title)\n",
    "    plt.show()"
   ]
  },
  {
   "cell_type": "code",
   "execution_count": 9,
   "metadata": {},
   "outputs": [
    {
     "data": {
      "image/png": "[encoded data removed]",
      "text/plain": [
       "<Figure size 432x288 with 1 Axes>"
      ]
     },
     "metadata": {
      "needs_background": "light"
     },
     "output_type": "display_data"
    }
   ],
   "source": [
    "dataset_show_image(test_dset, 1)"
   ]
  },
  {
   "cell_type": "markdown",
   "metadata": {},
   "source": [
    "## Model"
   ]
  },
  {
   "cell_type": "markdown",
   "metadata": {},
   "source": [
    "Improvements of ResNet from [arXiv:1812.01187 [cs.CV]](https://arxiv.org/abs/1812.01187)"
   ]
  },
  {
   "cell_type": "markdown",
   "metadata": {},
   "source": [
    "SiLU activation $x\\cdot\\sigma(x)$, [arXiv:1702.03118 [cs.LG]](https://arxiv.org/abs/1702.03118);\n",
    "more general Swish activation $x\\cdot\\sigma(\\beta x)$, [arXiv:1710.05941 [cs.NE]](https://arxiv.org/abs/1710.05941)"
   ]
  },
  {
   "cell_type": "code",
   "execution_count": 10,
   "metadata": {},
   "outputs": [],
   "source": [
    "class ConvBlock(nn.Sequential):\n",
    "    def __init__(self, in_channels, out_channels, kernel_size=3, stride=1, act=True):\n",
    "        padding = (kernel_size - 1) // 2\n",
    "        layers = [\n",
    "            nn.Conv2d(in_channels, out_channels, kernel_size, stride=stride, padding=padding, bias=False),\n",
    "            nn.BatchNorm2d(out_channels)\n",
    "        ]\n",
    "        if act: layers.append(nn.SiLU(inplace=True))\n",
    "        super().__init__(*layers)"
   ]
  },
  {
   "cell_type": "code",
   "execution_count": 11,
   "metadata": {},
   "outputs": [],
   "source": [
    "class BasicResidual(nn.Sequential):\n",
    "    def __init__(self, in_channels, out_channels, p_drop=0.):\n",
    "        super().__init__(\n",
    "            ConvBlock(in_channels, out_channels),\n",
    "            ConvBlock(out_channels, out_channels, act=False),\n",
    "            nn.Dropout2d(p_drop)\n",
    "        )"
   ]
  },
  {
   "cell_type": "code",
   "execution_count": 12,
   "metadata": {},
   "outputs": [],
   "source": [
    "class ResidualBlock(nn.Module):\n",
    "    def __init__(self, in_channels, out_channels, p_drop=0.):\n",
    "        super().__init__()\n",
    "        self.shortcut = self.get_shortcut(in_channels, out_channels)\n",
    "        self.residual = BasicResidual(in_channels, out_channels, p_drop)\n",
    "        self.act = nn.SiLU(inplace=True)\n",
    "        self.gamma = nn.Parameter(torch.zeros(1))\n",
    "    \n",
    "    def forward(self, x):\n",
    "        out = self.shortcut(x) + self.gamma * self.residual(x)\n",
    "        return self.act(out)\n",
    "    \n",
    "    def get_shortcut(self, in_channels, out_channels):\n",
    "        if in_channels != out_channels:\n",
    "            shortcut = ConvBlock(in_channels, out_channels, 1, act=False)\n",
    "        else:\n",
    "            shortcut = nn.Identity()\n",
    "        return shortcut"
   ]
  },
  {
   "cell_type": "code",
   "execution_count": 13,
   "metadata": {},
   "outputs": [],
   "source": [
    "class ResidualStack(nn.Sequential):\n",
    "    def __init__(self, in_channels, repetitions, strides, p_drop=0.):\n",
    "        layers = []\n",
    "        out_channels = in_channels\n",
    "        for rep, stride in zip(repetitions, strides):\n",
    "            if stride > 1: layers.append(nn.MaxPool2d(stride))\n",
    "            for _ in range(rep):\n",
    "                layers.append(ResidualBlock(in_channels, out_channels, p_drop))\n",
    "                in_channels = out_channels\n",
    "            out_channels *= 2\n",
    "        super().__init__(*layers)"
   ]
  },
  {
   "cell_type": "code",
   "execution_count": 14,
   "metadata": {},
   "outputs": [],
   "source": [
    "class Stem(nn.Sequential):\n",
    "    def __init__(self, in_channels, channel_list, stride):\n",
    "        layers = []\n",
    "        for out_channels in channel_list:\n",
    "            layers.append(ConvBlock(in_channels, out_channels, 3, stride=stride))\n",
    "            in_channels = out_channels\n",
    "            stride = 1\n",
    "        super().__init__(*layers)"
   ]
  },
  {
   "cell_type": "code",
   "execution_count": 15,
   "metadata": {},
   "outputs": [],
   "source": [
    "class Head(nn.Sequential):\n",
    "    def __init__(self, in_channels, classes, p_drop=0.):\n",
    "        super().__init__(\n",
    "            nn.AdaptiveAvgPool2d(1),\n",
    "            nn.Flatten(),\n",
    "            nn.Dropout(p_drop),\n",
    "            nn.Linear(in_channels, classes)\n",
    "        )"
   ]
  },
  {
   "cell_type": "code",
   "execution_count": 16,
   "metadata": {},
   "outputs": [],
   "source": [
    "class ResNet(nn.Sequential):\n",
    "    def __init__(self, classes, repetitions, strides=None, in_channels=3, res_p_drop=0., head_p_drop=0.):\n",
    "        if strides is None: strides = [2] * (len(repetitions) + 1)\n",
    "        super().__init__(\n",
    "            Stem(in_channels, [32, 32, 64], strides[0]),\n",
    "            ResidualStack(64, repetitions, strides[1:], res_p_drop),\n",
    "            Head(64 * 2**(len(repetitions) - 1), classes, head_p_drop)\n",
    "        )"
   ]
  },
  {
   "cell_type": "code",
   "execution_count": 17,
   "metadata": {},
   "outputs": [],
   "source": [
    "def init_linear(m):\n",
    "    if isinstance(m, (nn.Conv2d, nn.Linear)):\n",
    "        nn.init.kaiming_normal_(m.weight)\n",
    "        if m.bias is not None: nn.init.zeros_(m.bias)"
   ]
  },
  {
   "cell_type": "code",
   "execution_count": 18,
   "metadata": {},
   "outputs": [],
   "source": [
    "model = ResNet(NUM_CLASSES, [2, 2, 2, 2], strides=[1, 1, 2, 2, 2], res_p_drop=0., head_p_drop=0.3)"
   ]
  },
  {
   "cell_type": "code",
   "execution_count": 19,
   "metadata": {},
   "outputs": [],
   "source": [
    "model.apply(init_linear);"
   ]
  },
  {
   "cell_type": "code",
   "execution_count": 20,
   "metadata": {},
   "outputs": [],
   "source": [
    "model.to(DEVICE);"
   ]
  },
  {
   "cell_type": "code",
   "execution_count": 21,
   "metadata": {},
   "outputs": [
    {
     "name": "stdout",
     "output_type": "stream",
     "text": [
      "Number of parameters: 11,200,882\n"
     ]
    }
   ],
   "source": [
    "print(\"Number of parameters: {:,}\".format(sum(p.numel() for p in model.parameters())))"
   ]
  },
  {
   "cell_type": "markdown",
   "metadata": {
    "tags": []
   },
   "source": [
    "## Loss"
   ]
  },
  {
   "cell_type": "code",
   "execution_count": 22,
   "metadata": {},
   "outputs": [],
   "source": [
    "def reduce_loss(loss, reduction='mean'):\n",
    "    return loss.mean() if reduction=='mean' else loss.sum() if reduction=='sum' else loss"
   ]
  },
  {
   "cell_type": "markdown",
   "metadata": {},
   "source": [
    "Label smoothing introduced in [arXiv:1512.00567 [cs.CV]](https://arxiv.org/abs/1512.00567)"
   ]
  },
  {
   "cell_type": "code",
   "execution_count": 23,
   "metadata": {},
   "outputs": [],
   "source": [
    "class LabelSmoothingCrossEntropy(nn.Module):\n",
    "    def __init__(self, ε=0.1, reduction='mean'):\n",
    "        super().__init__()\n",
    "        self.ε = ε\n",
    "        self.reduction = reduction\n",
    "\n",
    "    def forward(self, output, target):\n",
    "        c = output.size(-1)\n",
    "        log_preds = F.log_softmax(output, dim=-1)\n",
    "        loss1 = reduce_loss(-log_preds.sum(dim=-1) / c, self.reduction)\n",
    "        loss2 = F.nll_loss(log_preds, target, reduction=self.reduction)\n",
    "        loss = (1. - self.ε) * loss2 + self.ε * loss1\n",
    "        return loss"
   ]
  },
  {
   "cell_type": "markdown",
   "metadata": {},
   "source": [
    "## CutMix"
   ]
  },
  {
   "cell_type": "markdown",
   "metadata": {},
   "source": [
    "CutMix, [arXiv:1905.04899 [cs.CV]](https://arxiv.org/abs/1905.04899)"
   ]
  },
  {
   "cell_type": "code",
   "execution_count": 24,
   "metadata": {},
   "outputs": [],
   "source": [
    "class CutMix(nn.Module):\n",
    "    def __init__(self, loss, α=1.0):\n",
    "        super().__init__()\n",
    "        self.loss = loss\n",
    "        self.α = α\n",
    "        self.rng = np.random.default_rng()\n",
    "    \n",
    "    def prepare_batch(self, batch, device, non_blocking):\n",
    "        x, y = batch\n",
    "        x = convert_tensor(x, device=device, non_blocking=non_blocking)\n",
    "        y = convert_tensor(y, device=device, non_blocking=non_blocking)\n",
    "        \n",
    "        batch_size = x.size(0)\n",
    "        self.index = torch.randperm(batch_size).to(device)\n",
    "        \n",
    "        self.λ = self.rng.beta(self.α, self.α)\n",
    "        y1, x1, y2, x2 = self.cut_bounding_box(x.shape[-2:], self.λ)\n",
    "        x[:, :, y1:y2, x1:x2] = x[self.index, :, y1:y2, x1:x2]\n",
    "                \n",
    "        # adjust lambda to exactly match pixel ratio\n",
    "        area = x.size(2) * x.size(3)\n",
    "        self.λ = 1. - (x2 - x1) * (y2 - y1) / area\n",
    "        return x, y\n",
    "    \n",
    "    def cut_bounding_box(self, shape, λ):\n",
    "        cut_size_2 = 0.5 * np.sqrt(1. - λ)\n",
    "        center_yx = self.rng.random(2)\n",
    "        \n",
    "        y1x1 = (np.clip(center_yx - cut_size_2, 0., 1.) * shape).astype(int)\n",
    "        y2x2 = (np.clip(center_yx + cut_size_2, 0., 1.) * shape).astype(int)\n",
    "        return np.concatenate((y1x1, y2x2))\n",
    "        \n",
    "    def forward(self, pred, target):\n",
    "        orig_reduction = self.loss.reduction\n",
    "        self.loss.reduction = 'none'\n",
    "        batch_loss = self.λ * self.loss(pred, target) + (1. - self.λ) * self.loss(pred, target[self.index])\n",
    "        self.loss.reduction = orig_reduction\n",
    "        return reduce_loss(batch_loss, orig_reduction)"
   ]
  },
  {
   "cell_type": "markdown",
   "metadata": {},
   "source": [
    "## Lookahead optimizer"
   ]
  },
  {
   "cell_type": "markdown",
   "metadata": {},
   "source": [
    "Lookahead optimizer, [arXiv:1907.08610 [cs.LG]](https://arxiv.org/abs/1907.08610)"
   ]
  },
  {
   "cell_type": "markdown",
   "metadata": {},
   "source": [
    "Code from https://github.com/alphadl/lookahead.pytorch"
   ]
  },
  {
   "cell_type": "code",
   "execution_count": 25,
   "metadata": {},
   "outputs": [],
   "source": [
    "class Lookahead(optim.Optimizer):\n",
    "    def __init__(self, optimizer, k=5, alpha=0.5):\n",
    "        self.optimizer = optimizer\n",
    "        self.k = k\n",
    "        self.alpha = alpha\n",
    "        self.param_groups = self.optimizer.param_groups\n",
    "        self.state = defaultdict(dict)\n",
    "        self.fast_state = self.optimizer.state\n",
    "        for group in self.param_groups:\n",
    "            group[\"counter\"] = 0\n",
    "    \n",
    "    def update(self, group):\n",
    "        for fast in group[\"params\"]:\n",
    "            param_state = self.state[fast]\n",
    "            if \"slow_param\" not in param_state:\n",
    "                param_state[\"slow_param\"] = torch.zeros_like(fast.data)\n",
    "                param_state[\"slow_param\"].copy_(fast.data)\n",
    "            slow = param_state[\"slow_param\"]\n",
    "            slow += (fast.data - slow) * self.alpha\n",
    "            fast.data.copy_(slow)\n",
    "    \n",
    "    def update_lookahead(self):\n",
    "        for group in self.param_groups:\n",
    "            self.update(group)\n",
    "\n",
    "    def step(self, closure=None):\n",
    "        loss = self.optimizer.step(closure)\n",
    "        for group in self.param_groups:\n",
    "            if group[\"counter\"] == 0:\n",
    "                self.update(group)\n",
    "            group[\"counter\"] += 1\n",
    "            if group[\"counter\"] >= self.k:\n",
    "                group[\"counter\"] = 0\n",
    "        return loss\n",
    "\n",
    "    def state_dict(self):\n",
    "        fast_state_dict = self.optimizer.state_dict()\n",
    "        slow_state = {\n",
    "            (id(k) if isinstance(k, torch.Tensor) else k): v\n",
    "            for k, v in self.state.items()\n",
    "        }\n",
    "        fast_state = fast_state_dict[\"state\"]\n",
    "        param_groups = fast_state_dict[\"param_groups\"]\n",
    "        return {\n",
    "            \"fast_state\": fast_state,\n",
    "            \"slow_state\": slow_state,\n",
    "            \"param_groups\": param_groups,\n",
    "        }\n",
    "\n",
    "    def load_state_dict(self, state_dict):\n",
    "        slow_state_dict = {\n",
    "            \"state\": state_dict[\"slow_state\"],\n",
    "            \"param_groups\": state_dict[\"param_groups\"],\n",
    "        }\n",
    "        fast_state_dict = {\n",
    "            \"state\": state_dict[\"fast_state\"],\n",
    "            \"param_groups\": state_dict[\"param_groups\"],\n",
    "        }\n",
    "        super().load_state_dict(slow_state_dict)\n",
    "        self.optimizer.load_state_dict(fast_state_dict)\n",
    "        self.fast_state = self.optimizer.state\n",
    "\n",
    "    def add_param_group(self, param_group):\n",
    "        param_group[\"counter\"] = 0\n",
    "        self.optimizer.add_param_group(param_group)"
   ]
  },
  {
   "cell_type": "markdown",
   "metadata": {},
   "source": [
    "## Training"
   ]
  },
  {
   "cell_type": "markdown",
   "metadata": {
    "tags": []
   },
   "source": [
    "### History"
   ]
  },
  {
   "cell_type": "code",
   "execution_count": 26,
   "metadata": {},
   "outputs": [],
   "source": [
    "class History:\n",
    "    def __init__(self):\n",
    "        self.values = defaultdict(list)\n",
    "\n",
    "    def append(self, key, value):\n",
    "        self.values[key].append(value)\n",
    "\n",
    "    def reset(self):\n",
    "        for k in self.values.keys():\n",
    "            self.values[k] = []\n",
    "\n",
    "    def _begin_plot(self):\n",
    "        self.fig = plt.figure()\n",
    "        self.ax = self.fig.add_subplot(111)\n",
    "\n",
    "    def _end_plot(self, ylabel):\n",
    "        self.ax.set_xlabel('epoch')\n",
    "        self.ax.set_ylabel(ylabel)\n",
    "        plt.show()\n",
    "\n",
    "    def _plot(self, key, line_type='-', label=None):\n",
    "        if label is None: label=key\n",
    "        xs = np.arange(1, len(self.values[key])+1)\n",
    "        self.ax.plot(xs, self.values[key], line_type, label=label)\n",
    "\n",
    "    def plot(self, key):\n",
    "        self._begin_plot()\n",
    "        self._plot(key, '-')\n",
    "        self._end_plot(key)\n",
    "\n",
    "    def plot_train_val(self, key):\n",
    "        self._begin_plot()\n",
    "        self._plot('train ' + key, '.-', 'train')\n",
    "        self._plot('val ' + key, '.-', 'val')\n",
    "        self.ax.legend()\n",
    "        self._end_plot(key)"
   ]
  },
  {
   "cell_type": "markdown",
   "metadata": {},
   "source": [
    "### Trainer Setup"
   ]
  },
  {
   "cell_type": "code",
   "execution_count": 27,
   "metadata": {},
   "outputs": [],
   "source": [
    "loss = LabelSmoothingCrossEntropy()"
   ]
  },
  {
   "cell_type": "code",
   "execution_count": 28,
   "metadata": {},
   "outputs": [],
   "source": [
    "cutmix = CutMix(loss, α=1.0)"
   ]
  },
  {
   "cell_type": "markdown",
   "metadata": {},
   "source": [
    "AdamW optimizer, [arXiv:1711.05101 [cs.LG]](https://arxiv.org/abs/1711.05101)"
   ]
  },
  {
   "cell_type": "code",
   "execution_count": 29,
   "metadata": {},
   "outputs": [],
   "source": [
    "base_optimizer = optim.AdamW(model.parameters(), lr=1e-6, weight_decay=1e-2)"
   ]
  },
  {
   "cell_type": "code",
   "execution_count": 30,
   "metadata": {},
   "outputs": [],
   "source": [
    "optimizer = Lookahead(base_optimizer, k=5, alpha=0.5)"
   ]
  },
  {
   "cell_type": "code",
   "execution_count": 31,
   "metadata": {},
   "outputs": [],
   "source": [
    "trainer = create_supervised_trainer(model, optimizer, cutmix, device=DEVICE, prepare_batch=cutmix.prepare_batch)"
   ]
  },
  {
   "cell_type": "markdown",
   "metadata": {},
   "source": [
    "\"1cycle\" leraning rate policy, [arXiv:1803.09820 [cs.LG]](https://arxiv.org/abs/1803.09820)"
   ]
  },
  {
   "cell_type": "code",
   "execution_count": 32,
   "metadata": {},
   "outputs": [],
   "source": [
    "lr_scheduler = optim.lr_scheduler.OneCycleLR(base_optimizer, max_lr=1e-2,\n",
    "                                             steps_per_epoch=len(train_loader), epochs=EPOCHS)"
   ]
  },
  {
   "cell_type": "code",
   "execution_count": 33,
   "metadata": {},
   "outputs": [],
   "source": [
    "trainer.add_event_handler(Events.ITERATION_COMPLETED, lambda engine: lr_scheduler.step());"
   ]
  },
  {
   "cell_type": "code",
   "execution_count": 34,
   "metadata": {},
   "outputs": [],
   "source": [
    "ignite.metrics.RunningAverage(output_transform=lambda x: x).attach(trainer, \"loss\")"
   ]
  },
  {
   "cell_type": "code",
   "execution_count": 35,
   "metadata": {},
   "outputs": [],
   "source": [
    "val_metrics = {\"accuracy\": ignite.metrics.Accuracy(), \"loss\": ignite.metrics.Loss(loss)}"
   ]
  },
  {
   "cell_type": "code",
   "execution_count": 36,
   "metadata": {},
   "outputs": [],
   "source": [
    "evaluator = create_supervised_evaluator(model, metrics=val_metrics, device=DEVICE)"
   ]
  },
  {
   "cell_type": "code",
   "execution_count": 37,
   "metadata": {},
   "outputs": [],
   "source": [
    "history = History()"
   ]
  },
  {
   "cell_type": "code",
   "execution_count": 38,
   "metadata": {},
   "outputs": [],
   "source": [
    "@trainer.on(Events.EPOCH_COMPLETED)\n",
    "def log_validation_results(engine):\n",
    "    train_state = engine.state\n",
    "    epoch = train_state.epoch\n",
    "    max_epochs = train_state.max_epochs\n",
    "    train_loss = train_state.metrics[\"loss\"]\n",
    "    history.append('train loss', train_loss)\n",
    "    \n",
    "    evaluator.run(test_loader)\n",
    "    val_metrics = evaluator.state.metrics\n",
    "    val_loss = val_metrics[\"loss\"]\n",
    "    val_acc = val_metrics[\"accuracy\"]\n",
    "    history.append('val loss', val_loss)\n",
    "    history.append('val acc', val_acc)\n",
    "    \n",
    "    print(\"{}/{} - train: loss {:.3f}; val: loss {:.3f} accuracy {:.3f}\".format(\n",
    "        epoch, max_epochs, train_loss, val_loss, val_acc))"
   ]
  },
  {
   "cell_type": "markdown",
   "metadata": {},
   "source": [
    "### Training"
   ]
  },
  {
   "cell_type": "code",
   "execution_count": 39,
   "metadata": {},
   "outputs": [
    {
     "name": "stdout",
     "output_type": "stream",
     "text": [
      "1/200 - train: loss 1.840; val: loss 1.279 accuracy 0.659\n",
      "2/200 - train: loss 1.673; val: loss 1.079 accuracy 0.763\n",
      "3/200 - train: loss 1.603; val: loss 1.000 accuracy 0.802\n",
      "4/200 - train: loss 1.564; val: loss 0.939 accuracy 0.832\n",
      "5/200 - train: loss 1.497; val: loss 0.939 accuracy 0.830\n",
      "6/200 - train: loss 1.501; val: loss 0.892 accuracy 0.856\n",
      "7/200 - train: loss 1.469; val: loss 0.853 accuracy 0.875\n",
      "8/200 - train: loss 1.427; val: loss 0.875 accuracy 0.856\n",
      "9/200 - train: loss 1.390; val: loss 0.806 accuracy 0.885\n",
      "10/200 - train: loss 1.446; val: loss 0.862 accuracy 0.856\n",
      "11/200 - train: loss 1.345; val: loss 0.790 accuracy 0.896\n",
      "12/200 - train: loss 1.354; val: loss 0.797 accuracy 0.895\n",
      "13/200 - train: loss 1.318; val: loss 0.776 accuracy 0.899\n",
      "14/200 - train: loss 1.286; val: loss 0.753 accuracy 0.905\n",
      "15/200 - train: loss 1.321; val: loss 0.750 accuracy 0.911\n",
      "16/200 - train: loss 1.288; val: loss 0.727 accuracy 0.919\n",
      "17/200 - train: loss 1.312; val: loss 0.727 accuracy 0.920\n",
      "18/200 - train: loss 1.277; val: loss 0.717 accuracy 0.923\n",
      "19/200 - train: loss 1.271; val: loss 0.720 accuracy 0.923\n",
      "20/200 - train: loss 1.234; val: loss 0.726 accuracy 0.917\n",
      "21/200 - train: loss 1.260; val: loss 0.704 accuracy 0.923\n",
      "22/200 - train: loss 1.246; val: loss 0.687 accuracy 0.932\n",
      "23/200 - train: loss 1.217; val: loss 0.693 accuracy 0.924\n",
      "24/200 - train: loss 1.226; val: loss 0.673 accuracy 0.935\n",
      "25/200 - train: loss 1.201; val: loss 0.701 accuracy 0.921\n",
      "26/200 - train: loss 1.204; val: loss 0.688 accuracy 0.925\n",
      "27/200 - train: loss 1.204; val: loss 0.679 accuracy 0.933\n",
      "28/200 - train: loss 1.221; val: loss 0.699 accuracy 0.923\n",
      "29/200 - train: loss 1.200; val: loss 0.652 accuracy 0.940\n",
      "30/200 - train: loss 1.173; val: loss 0.737 accuracy 0.903\n",
      "31/200 - train: loss 1.190; val: loss 0.672 accuracy 0.937\n",
      "32/200 - train: loss 1.218; val: loss 0.648 accuracy 0.946\n",
      "33/200 - train: loss 1.194; val: loss 0.666 accuracy 0.932\n",
      "34/200 - train: loss 1.234; val: loss 0.648 accuracy 0.943\n",
      "35/200 - train: loss 1.169; val: loss 0.666 accuracy 0.934\n",
      "36/200 - train: loss 1.193; val: loss 0.656 accuracy 0.938\n",
      "37/200 - train: loss 1.154; val: loss 0.650 accuracy 0.940\n",
      "38/200 - train: loss 1.192; val: loss 0.718 accuracy 0.914\n",
      "39/200 - train: loss 1.209; val: loss 0.671 accuracy 0.929\n",
      "40/200 - train: loss 1.189; val: loss 0.678 accuracy 0.931\n",
      "41/200 - train: loss 1.172; val: loss 0.657 accuracy 0.937\n",
      "42/200 - train: loss 1.170; val: loss 0.646 accuracy 0.941\n",
      "43/200 - train: loss 1.203; val: loss 0.693 accuracy 0.924\n",
      "44/200 - train: loss 1.186; val: loss 0.655 accuracy 0.939\n",
      "45/200 - train: loss 1.152; val: loss 0.704 accuracy 0.916\n",
      "46/200 - train: loss 1.190; val: loss 0.661 accuracy 0.938\n",
      "47/200 - train: loss 1.178; val: loss 0.645 accuracy 0.942\n",
      "48/200 - train: loss 1.182; val: loss 0.712 accuracy 0.916\n",
      "49/200 - train: loss 1.138; val: loss 0.640 accuracy 0.946\n",
      "50/200 - train: loss 1.196; val: loss 0.697 accuracy 0.928\n",
      "51/200 - train: loss 1.191; val: loss 0.698 accuracy 0.923\n",
      "52/200 - train: loss 1.193; val: loss 0.642 accuracy 0.945\n",
      "53/200 - train: loss 1.201; val: loss 0.664 accuracy 0.936\n",
      "54/200 - train: loss 1.187; val: loss 0.646 accuracy 0.941\n",
      "55/200 - train: loss 1.195; val: loss 0.693 accuracy 0.927\n",
      "56/200 - train: loss 1.169; val: loss 0.658 accuracy 0.936\n",
      "57/200 - train: loss 1.156; val: loss 0.637 accuracy 0.946\n",
      "58/200 - train: loss 1.152; val: loss 0.834 accuracy 0.871\n",
      "59/200 - train: loss 1.144; val: loss 0.648 accuracy 0.942\n",
      "60/200 - train: loss 1.191; val: loss 0.682 accuracy 0.928\n",
      "61/200 - train: loss 1.184; val: loss 0.677 accuracy 0.932\n",
      "62/200 - train: loss 1.116; val: loss 0.647 accuracy 0.941\n",
      "63/200 - train: loss 1.159; val: loss 0.703 accuracy 0.919\n",
      "64/200 - train: loss 1.138; val: loss 0.651 accuracy 0.939\n",
      "65/200 - train: loss 1.137; val: loss 0.692 accuracy 0.927\n",
      "66/200 - train: loss 1.176; val: loss 0.704 accuracy 0.923\n",
      "67/200 - train: loss 1.135; val: loss 0.629 accuracy 0.948\n",
      "68/200 - train: loss 1.171; val: loss 0.689 accuracy 0.928\n",
      "69/200 - train: loss 1.151; val: loss 0.659 accuracy 0.939\n",
      "70/200 - train: loss 1.171; val: loss 0.699 accuracy 0.922\n",
      "71/200 - train: loss 1.141; val: loss 0.654 accuracy 0.938\n",
      "72/200 - train: loss 1.158; val: loss 0.630 accuracy 0.951\n",
      "73/200 - train: loss 1.129; val: loss 0.657 accuracy 0.937\n",
      "74/200 - train: loss 1.148; val: loss 0.632 accuracy 0.948\n",
      "75/200 - train: loss 1.165; val: loss 0.671 accuracy 0.933\n",
      "76/200 - train: loss 1.091; val: loss 0.655 accuracy 0.941\n",
      "77/200 - train: loss 1.159; val: loss 0.633 accuracy 0.949\n",
      "78/200 - train: loss 1.151; val: loss 0.660 accuracy 0.939\n",
      "79/200 - train: loss 1.141; val: loss 0.638 accuracy 0.949\n",
      "80/200 - train: loss 1.168; val: loss 0.652 accuracy 0.940\n",
      "81/200 - train: loss 1.144; val: loss 0.628 accuracy 0.950\n",
      "82/200 - train: loss 1.126; val: loss 0.625 accuracy 0.952\n",
      "83/200 - train: loss 1.141; val: loss 0.653 accuracy 0.945\n",
      "84/200 - train: loss 1.132; val: loss 0.649 accuracy 0.940\n",
      "85/200 - train: loss 1.167; val: loss 0.650 accuracy 0.943\n",
      "86/200 - train: loss 1.168; val: loss 0.630 accuracy 0.950\n",
      "87/200 - train: loss 1.147; val: loss 0.622 accuracy 0.950\n",
      "88/200 - train: loss 1.157; val: loss 0.672 accuracy 0.932\n",
      "89/200 - train: loss 1.137; val: loss 0.647 accuracy 0.945\n",
      "90/200 - train: loss 1.149; val: loss 0.659 accuracy 0.939\n",
      "91/200 - train: loss 1.126; val: loss 0.662 accuracy 0.938\n",
      "92/200 - train: loss 1.137; val: loss 0.630 accuracy 0.950\n",
      "93/200 - train: loss 1.131; val: loss 0.665 accuracy 0.941\n",
      "94/200 - train: loss 1.135; val: loss 0.637 accuracy 0.947\n",
      "95/200 - train: loss 1.124; val: loss 0.680 accuracy 0.932\n",
      "96/200 - train: loss 1.099; val: loss 0.633 accuracy 0.950\n",
      "97/200 - train: loss 1.148; val: loss 0.618 accuracy 0.954\n",
      "98/200 - train: loss 1.101; val: loss 0.654 accuracy 0.939\n",
      "99/200 - train: loss 1.128; val: loss 0.634 accuracy 0.947\n",
      "100/200 - train: loss 1.102; val: loss 0.656 accuracy 0.937\n",
      "101/200 - train: loss 1.087; val: loss 0.640 accuracy 0.945\n",
      "102/200 - train: loss 1.106; val: loss 0.616 accuracy 0.953\n",
      "103/200 - train: loss 1.132; val: loss 0.632 accuracy 0.946\n",
      "104/200 - train: loss 1.107; val: loss 0.628 accuracy 0.953\n",
      "105/200 - train: loss 1.101; val: loss 0.651 accuracy 0.941\n",
      "106/200 - train: loss 1.109; val: loss 0.622 accuracy 0.952\n",
      "107/200 - train: loss 1.116; val: loss 0.618 accuracy 0.953\n",
      "108/200 - train: loss 1.115; val: loss 0.645 accuracy 0.944\n",
      "109/200 - train: loss 1.090; val: loss 0.625 accuracy 0.949\n",
      "110/200 - train: loss 1.128; val: loss 0.636 accuracy 0.947\n",
      "111/200 - train: loss 1.108; val: loss 0.622 accuracy 0.954\n",
      "112/200 - train: loss 1.089; val: loss 0.627 accuracy 0.951\n",
      "113/200 - train: loss 1.073; val: loss 0.654 accuracy 0.937\n",
      "114/200 - train: loss 1.020; val: loss 0.629 accuracy 0.950\n",
      "115/200 - train: loss 1.120; val: loss 0.654 accuracy 0.943\n",
      "116/200 - train: loss 1.096; val: loss 0.634 accuracy 0.948\n",
      "117/200 - train: loss 1.104; val: loss 0.617 accuracy 0.956\n",
      "118/200 - train: loss 1.098; val: loss 0.647 accuracy 0.944\n",
      "119/200 - train: loss 1.078; val: loss 0.604 accuracy 0.959\n",
      "120/200 - train: loss 1.098; val: loss 0.633 accuracy 0.949\n",
      "121/200 - train: loss 1.078; val: loss 0.628 accuracy 0.952\n",
      "122/200 - train: loss 1.082; val: loss 0.618 accuracy 0.955\n",
      "123/200 - train: loss 1.075; val: loss 0.639 accuracy 0.945\n",
      "124/200 - train: loss 1.074; val: loss 0.615 accuracy 0.958\n",
      "125/200 - train: loss 1.036; val: loss 0.617 accuracy 0.955\n",
      "126/200 - train: loss 1.037; val: loss 0.614 accuracy 0.955\n",
      "127/200 - train: loss 1.065; val: loss 0.609 accuracy 0.958\n",
      "128/200 - train: loss 1.084; val: loss 0.618 accuracy 0.957\n",
      "129/200 - train: loss 1.060; val: loss 0.607 accuracy 0.958\n",
      "130/200 - train: loss 1.111; val: loss 0.616 accuracy 0.954\n",
      "131/200 - train: loss 1.052; val: loss 0.617 accuracy 0.955\n",
      "132/200 - train: loss 1.079; val: loss 0.620 accuracy 0.952\n",
      "133/200 - train: loss 1.051; val: loss 0.645 accuracy 0.943\n",
      "134/200 - train: loss 1.061; val: loss 0.606 accuracy 0.959\n",
      "135/200 - train: loss 1.086; val: loss 0.617 accuracy 0.954\n",
      "136/200 - train: loss 1.069; val: loss 0.610 accuracy 0.958\n",
      "137/200 - train: loss 1.055; val: loss 0.602 accuracy 0.959\n",
      "138/200 - train: loss 1.032; val: loss 0.625 accuracy 0.953\n",
      "139/200 - train: loss 1.055; val: loss 0.603 accuracy 0.960\n",
      "140/200 - train: loss 1.042; val: loss 0.633 accuracy 0.950\n",
      "141/200 - train: loss 1.032; val: loss 0.605 accuracy 0.961\n",
      "142/200 - train: loss 1.024; val: loss 0.599 accuracy 0.962\n",
      "143/200 - train: loss 1.041; val: loss 0.611 accuracy 0.957\n",
      "144/200 - train: loss 1.059; val: loss 0.598 accuracy 0.963\n",
      "145/200 - train: loss 1.000; val: loss 0.603 accuracy 0.962\n",
      "146/200 - train: loss 1.005; val: loss 0.627 accuracy 0.953\n",
      "147/200 - train: loss 1.035; val: loss 0.598 accuracy 0.961\n",
      "148/200 - train: loss 1.048; val: loss 0.602 accuracy 0.963\n",
      "149/200 - train: loss 1.032; val: loss 0.608 accuracy 0.960\n",
      "150/200 - train: loss 1.005; val: loss 0.611 accuracy 0.956\n",
      "151/200 - train: loss 1.065; val: loss 0.602 accuracy 0.961\n",
      "152/200 - train: loss 1.029; val: loss 0.594 accuracy 0.965\n",
      "153/200 - train: loss 1.003; val: loss 0.595 accuracy 0.962\n",
      "154/200 - train: loss 1.009; val: loss 0.604 accuracy 0.960\n",
      "155/200 - train: loss 0.999; val: loss 0.598 accuracy 0.965\n",
      "156/200 - train: loss 1.010; val: loss 0.593 accuracy 0.965\n",
      "157/200 - train: loss 1.034; val: loss 0.587 accuracy 0.967\n",
      "158/200 - train: loss 0.975; val: loss 0.589 accuracy 0.965\n",
      "159/200 - train: loss 1.016; val: loss 0.596 accuracy 0.964\n",
      "160/200 - train: loss 1.008; val: loss 0.596 accuracy 0.964\n",
      "161/200 - train: loss 0.993; val: loss 0.589 accuracy 0.967\n",
      "162/200 - train: loss 1.000; val: loss 0.596 accuracy 0.964\n",
      "163/200 - train: loss 1.025; val: loss 0.596 accuracy 0.963\n",
      "164/200 - train: loss 0.971; val: loss 0.592 accuracy 0.964\n",
      "165/200 - train: loss 1.006; val: loss 0.588 accuracy 0.967\n",
      "166/200 - train: loss 0.995; val: loss 0.587 accuracy 0.968\n",
      "167/200 - train: loss 0.966; val: loss 0.588 accuracy 0.967\n",
      "168/200 - train: loss 0.988; val: loss 0.586 accuracy 0.966\n",
      "169/200 - train: loss 1.007; val: loss 0.587 accuracy 0.968\n",
      "170/200 - train: loss 0.989; val: loss 0.585 accuracy 0.968\n",
      "171/200 - train: loss 0.975; val: loss 0.589 accuracy 0.967\n",
      "172/200 - train: loss 0.974; val: loss 0.589 accuracy 0.966\n",
      "173/200 - train: loss 0.996; val: loss 0.585 accuracy 0.968\n",
      "174/200 - train: loss 0.967; val: loss 0.582 accuracy 0.969\n",
      "175/200 - train: loss 0.979; val: loss 0.583 accuracy 0.968\n",
      "176/200 - train: loss 0.970; val: loss 0.582 accuracy 0.969\n",
      "177/200 - train: loss 0.991; val: loss 0.580 accuracy 0.970\n",
      "178/200 - train: loss 0.968; val: loss 0.584 accuracy 0.968\n",
      "179/200 - train: loss 0.992; val: loss 0.584 accuracy 0.968\n",
      "180/200 - train: loss 0.976; val: loss 0.583 accuracy 0.969\n",
      "181/200 - train: loss 0.968; val: loss 0.581 accuracy 0.969\n",
      "182/200 - train: loss 0.972; val: loss 0.580 accuracy 0.971\n",
      "183/200 - train: loss 0.963; val: loss 0.579 accuracy 0.971\n",
      "184/200 - train: loss 0.977; val: loss 0.580 accuracy 0.971\n",
      "185/200 - train: loss 0.971; val: loss 0.576 accuracy 0.970\n",
      "186/200 - train: loss 0.941; val: loss 0.578 accuracy 0.971\n",
      "187/200 - train: loss 0.972; val: loss 0.577 accuracy 0.971\n",
      "188/200 - train: loss 0.969; val: loss 0.578 accuracy 0.971\n",
      "189/200 - train: loss 0.940; val: loss 0.578 accuracy 0.970\n",
      "190/200 - train: loss 0.964; val: loss 0.576 accuracy 0.971\n",
      "191/200 - train: loss 0.949; val: loss 0.577 accuracy 0.971\n",
      "192/200 - train: loss 0.964; val: loss 0.576 accuracy 0.971\n",
      "193/200 - train: loss 0.975; val: loss 0.576 accuracy 0.971\n",
      "194/200 - train: loss 0.973; val: loss 0.575 accuracy 0.972\n",
      "195/200 - train: loss 0.986; val: loss 0.577 accuracy 0.971\n",
      "196/200 - train: loss 0.992; val: loss 0.576 accuracy 0.971\n",
      "197/200 - train: loss 0.963; val: loss 0.576 accuracy 0.972\n",
      "198/200 - train: loss 0.950; val: loss 0.576 accuracy 0.972\n",
      "199/200 - train: loss 0.942; val: loss 0.576 accuracy 0.972\n",
      "200/200 - train: loss 0.980; val: loss 0.575 accuracy 0.972\n"
     ]
    }
   ],
   "source": [
    "trainer.run(train_loader, max_epochs=EPOCHS);"
   ]
  },
  {
   "cell_type": "code",
   "execution_count": 40,
   "metadata": {},
   "outputs": [
    {
     "data": {
      "image/png": "[encoded data removed]",
      "text/plain": [
       "<Figure size 432x288 with 1 Axes>"
      ]
     },
     "metadata": {
      "needs_background": "light"
     },
     "output_type": "display_data"
    }
   ],
   "source": [
    "history.plot_train_val('loss')"
   ]
  },
  {
   "cell_type": "code",
   "execution_count": 41,
   "metadata": {},
   "outputs": [
    {
     "data": {
      "image/png": "[encoded data removed]",
      "text/plain": [
       "<Figure size 432x288 with 1 Axes>"
      ]
     },
     "metadata": {
      "needs_background": "light"
     },
     "output_type": "display_data"
    }
   ],
   "source": [
    "history.plot('val acc')"
   ]
  }
 ],
 "metadata": {
  "kernelspec": {
   "display_name": "Python 3",
   "language": "python",
   "name": "python3"
  },
  "language_info": {
   "codemirror_mode": {
    "name": "ipython",
    "version": 3
   },
   "file_extension": ".py",
   "mimetype": "text/x-python",
   "name": "python",
   "nbconvert_exporter": "python",
   "pygments_lexer": "ipython3",
   "version": "3.8.10"
  }
 },
 "nbformat": 4,
 "nbformat_minor": 4
}
