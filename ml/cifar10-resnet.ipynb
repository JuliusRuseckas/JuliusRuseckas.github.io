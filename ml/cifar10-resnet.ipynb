{
 "cells": [
  {
   "cell_type": "markdown",
   "metadata": {},
   "source": [
    "# ResNet on CIFAR10"
   ]
  },
  {
   "cell_type": "markdown",
   "metadata": {},
   "source": [
    "## Configuration"
   ]
  },
  {
   "cell_type": "markdown",
   "metadata": {},
   "source": [
    "Imports"
   ]
  },
  {
   "cell_type": "code",
   "execution_count": 1,
   "metadata": {},
   "outputs": [],
   "source": [
    "import numpy as np\n",
    "from collections import defaultdict\n",
    "import matplotlib.pyplot as plt\n",
    "\n",
    "import torch\n",
    "import torch.nn as nn\n",
    "import torch.optim as optim\n",
    "import torch.nn.functional as F\n",
    "from torchvision import datasets, transforms\n",
    "\n",
    "from ignite.engine import Events, create_supervised_trainer, create_supervised_evaluator\n",
    "from ignite.utils import convert_tensor\n",
    "import ignite.metrics\n",
    "import ignite.contrib.handlers"
   ]
  },
  {
   "cell_type": "markdown",
   "metadata": {},
   "source": [
    "Configuration"
   ]
  },
  {
   "cell_type": "code",
   "execution_count": 2,
   "metadata": {},
   "outputs": [],
   "source": [
    "DATA_DIR='./data'\n",
    "\n",
    "NUM_CLASSES = 10\n",
    "NUM_WORKERS = 4\n",
    "BATCH_SIZE = 32\n",
    "EPOCHS = 200"
   ]
  },
  {
   "cell_type": "code",
   "execution_count": 4,
   "metadata": {},
   "outputs": [
    {
     "name": "stdout",
     "output_type": "stream",
     "text": [
      "device: cuda\n"
     ]
    }
   ],
   "source": [
    "DEVICE = torch.device(\"cuda\") if torch.cuda.is_available() else torch.device(\"cpu\")\n",
    "print(\"device:\", DEVICE)"
   ]
  },
  {
   "cell_type": "markdown",
   "metadata": {},
   "source": [
    "## Data"
   ]
  },
  {
   "cell_type": "code",
   "execution_count": 4,
   "metadata": {},
   "outputs": [],
   "source": [
    "train_transform = transforms.Compose([\n",
    "    transforms.RandomHorizontalFlip(),\n",
    "    transforms.RandomCrop(32, padding=4),\n",
    "    transforms.ColorJitter(brightness=0.2, contrast=0.2, saturation=0.2),\n",
    "    transforms.ToTensor()\n",
    "])"
   ]
  },
  {
   "cell_type": "code",
   "execution_count": 5,
   "metadata": {},
   "outputs": [
    {
     "name": "stdout",
     "output_type": "stream",
     "text": [
      "Files already downloaded and verified\n",
      "Files already downloaded and verified\n"
     ]
    }
   ],
   "source": [
    "train_dset = datasets.CIFAR10(root=DATA_DIR, train=True, download=True, transform=train_transform)\n",
    "test_dset = datasets.CIFAR10(root=DATA_DIR, train=False, download=True, transform=transforms.ToTensor())"
   ]
  },
  {
   "cell_type": "code",
   "execution_count": 6,
   "metadata": {},
   "outputs": [],
   "source": [
    "train_loader = torch.utils.data.DataLoader(train_dset, batch_size=BATCH_SIZE, shuffle=True,\n",
    "                                           num_workers=NUM_WORKERS, pin_memory=True)\n",
    "test_loader = torch.utils.data.DataLoader(test_dset, batch_size=BATCH_SIZE, shuffle=False,\n",
    "                                          num_workers=NUM_WORKERS, pin_memory=True)"
   ]
  },
  {
   "cell_type": "code",
   "execution_count": 7,
   "metadata": {},
   "outputs": [],
   "source": [
    "def dataset_show_image(dset, idx):\n",
    "    X, Y = dset[idx]\n",
    "    title = \"Ground truth: {}\".format(dset.classes[Y])\n",
    "    fig = plt.figure()\n",
    "    ax = fig.add_subplot(111)\n",
    "    ax.set_axis_off()\n",
    "    ax.imshow(np.moveaxis(X.numpy(), 0, -1))\n",
    "    ax.set_title(title)\n",
    "    plt.show()"
   ]
  },
  {
   "cell_type": "code",
   "execution_count": 8,
   "metadata": {},
   "outputs": [
    {
     "data": {
      "image/png": "[encoded data removed]",
      "text/plain": [
       "<Figure size 432x288 with 1 Axes>"
      ]
     },
     "metadata": {
      "needs_background": "light"
     },
     "output_type": "display_data"
    }
   ],
   "source": [
    "dataset_show_image(test_dset, 1)"
   ]
  },
  {
   "cell_type": "markdown",
   "metadata": {},
   "source": [
    "## Model"
   ]
  },
  {
   "cell_type": "code",
   "execution_count": 9,
   "metadata": {},
   "outputs": [],
   "source": [
    "class ConvBlock(nn.Sequential):\n",
    "    def __init__(self, in_channels, out_channels, kernel_size=3, stride=1, act=True):\n",
    "        padding = (kernel_size - 1) // 2\n",
    "        layers = [\n",
    "            nn.Conv2d(in_channels, out_channels, kernel_size, stride=stride, padding=padding, bias=False),\n",
    "            nn.BatchNorm2d(out_channels)\n",
    "        ]\n",
    "        if act: layers.append(nn.SiLU(inplace=True))\n",
    "        super().__init__(*layers)"
   ]
  },
  {
   "cell_type": "code",
   "execution_count": 10,
   "metadata": {},
   "outputs": [],
   "source": [
    "class BasicResidual(nn.Sequential):\n",
    "    def __init__(self, in_channels, out_channels, p_drop=0.):\n",
    "        super().__init__(\n",
    "            ConvBlock(in_channels, out_channels),\n",
    "            ConvBlock(out_channels, out_channels, act=False),\n",
    "            nn.Dropout2d(p_drop)\n",
    "        )"
   ]
  },
  {
   "cell_type": "code",
   "execution_count": 11,
   "metadata": {},
   "outputs": [],
   "source": [
    "class ResidualBlock(nn.Module):\n",
    "    def __init__(self, in_channels, out_channels, p_drop=0.):\n",
    "        super().__init__()\n",
    "        self.shortcut = self.get_shortcut(in_channels, out_channels)\n",
    "        self.residual = BasicResidual(in_channels, out_channels, p_drop)\n",
    "        self.act = nn.SiLU(inplace=True)\n",
    "        self.gamma = nn.Parameter(torch.zeros(1))\n",
    "    \n",
    "    def forward(self, x):\n",
    "        out = self.shortcut(x) + self.gamma * self.residual(x)\n",
    "        return self.act(out)\n",
    "    \n",
    "    def get_shortcut(self, in_channels, out_channels):\n",
    "        if in_channels != out_channels:\n",
    "            shortcut = ConvBlock(in_channels, out_channels, 1, act=False)\n",
    "        else:\n",
    "            shortcut = nn.Identity()\n",
    "        return shortcut"
   ]
  },
  {
   "cell_type": "code",
   "execution_count": 12,
   "metadata": {},
   "outputs": [],
   "source": [
    "class ResidualStack(nn.Sequential):\n",
    "    def __init__(self, in_channels, repetitions, strides, p_drop=0.):\n",
    "        layers = []\n",
    "        out_channels = in_channels\n",
    "        for rep, stride in zip(repetitions, strides):\n",
    "            if stride > 1: layers.append(nn.MaxPool2d(stride))\n",
    "            for _ in range(rep):\n",
    "                layers.append(ResidualBlock(in_channels, out_channels, p_drop))\n",
    "                in_channels = out_channels\n",
    "            out_channels *= 2\n",
    "        super().__init__(*layers)"
   ]
  },
  {
   "cell_type": "code",
   "execution_count": 13,
   "metadata": {},
   "outputs": [],
   "source": [
    "class Stem(nn.Sequential):\n",
    "    def __init__(self, in_channels, channel_list, stride):\n",
    "        layers = []\n",
    "        for out_channels in channel_list:\n",
    "            layers.append(ConvBlock(in_channels, out_channels, 3, stride=stride))\n",
    "            in_channels = out_channels\n",
    "            stride = 1\n",
    "        super().__init__(*layers)"
   ]
  },
  {
   "cell_type": "code",
   "execution_count": 14,
   "metadata": {},
   "outputs": [],
   "source": [
    "class Head(nn.Sequential):\n",
    "    def __init__(self, in_channels, classes, p_drop=0.):\n",
    "        super().__init__(\n",
    "            nn.AdaptiveAvgPool2d(1),\n",
    "            nn.Flatten(),\n",
    "            nn.Dropout(p_drop),\n",
    "            nn.Linear(in_channels, classes)\n",
    "        )"
   ]
  },
  {
   "cell_type": "code",
   "execution_count": 15,
   "metadata": {},
   "outputs": [],
   "source": [
    "class ResNet(nn.Sequential):\n",
    "    def __init__(self, classes, repetitions, strides=None, in_channels=3, res_p_drop=0., head_p_drop=0.):\n",
    "        if strides is None: strides = [2] * (len(repetitions) + 1)\n",
    "        super().__init__(\n",
    "            Stem(in_channels, [32, 32, 64], strides[0]),\n",
    "            ResidualStack(64, repetitions, strides[1:], res_p_drop),\n",
    "            Head(64 * 2**(len(repetitions) - 1), classes, head_p_drop)\n",
    "        )"
   ]
  },
  {
   "cell_type": "code",
   "execution_count": 16,
   "metadata": {},
   "outputs": [],
   "source": [
    "def init_linear(m):\n",
    "    if isinstance(m, (nn.Conv2d, nn.Linear)):\n",
    "        nn.init.kaiming_normal_(m.weight)\n",
    "        if m.bias is not None: nn.init.zeros_(m.bias)"
   ]
  },
  {
   "cell_type": "code",
   "execution_count": 17,
   "metadata": {},
   "outputs": [],
   "source": [
    "model = ResNet(NUM_CLASSES, [2, 2, 2, 2], strides=[1, 1, 2, 2, 2], res_p_drop=0., head_p_drop=0.3)"
   ]
  },
  {
   "cell_type": "code",
   "execution_count": 18,
   "metadata": {},
   "outputs": [],
   "source": [
    "model.apply(init_linear);"
   ]
  },
  {
   "cell_type": "code",
   "execution_count": 19,
   "metadata": {},
   "outputs": [],
   "source": [
    "model.to(DEVICE);"
   ]
  },
  {
   "cell_type": "code",
   "execution_count": 20,
   "metadata": {},
   "outputs": [
    {
     "name": "stdout",
     "output_type": "stream",
     "text": [
      "Number of parameters: 11,200,882\n"
     ]
    }
   ],
   "source": [
    "print(\"Number of parameters: {:,}\".format(sum(p.numel() for p in model.parameters())))"
   ]
  },
  {
   "cell_type": "markdown",
   "metadata": {
    "tags": []
   },
   "source": [
    "## Loss"
   ]
  },
  {
   "cell_type": "code",
   "execution_count": 21,
   "metadata": {},
   "outputs": [],
   "source": [
    "def reduce_loss(loss, reduction='mean'):\n",
    "    return loss.mean() if reduction=='mean' else loss.sum() if reduction=='sum' else loss"
   ]
  },
  {
   "cell_type": "code",
   "execution_count": 22,
   "metadata": {},
   "outputs": [],
   "source": [
    "class LabelSmoothingCrossEntropy(nn.Module):\n",
    "    def __init__(self, ε=0.1, reduction='mean'):\n",
    "        super().__init__()\n",
    "        self.ε = ε\n",
    "        self.reduction = reduction\n",
    "\n",
    "    def forward(self, output, target):\n",
    "        c = output.size(-1)\n",
    "        log_preds = F.log_softmax(output, dim=-1)\n",
    "        loss1 = reduce_loss(-log_preds.sum(dim=-1) / c, self.reduction)\n",
    "        loss2 = F.nll_loss(log_preds, target, reduction=self.reduction)\n",
    "        loss = (1. - self.ε) * loss2 + self.ε * loss1\n",
    "        return loss"
   ]
  },
  {
   "cell_type": "markdown",
   "metadata": {},
   "source": [
    "## CutMix"
   ]
  },
  {
   "cell_type": "code",
   "execution_count": 23,
   "metadata": {},
   "outputs": [],
   "source": [
    "class CutMix(nn.Module):\n",
    "    def __init__(self, loss, α=1.0):\n",
    "        super().__init__()\n",
    "        self.loss = loss\n",
    "        self.α = α\n",
    "        self.rng = np.random.default_rng()\n",
    "    \n",
    "    def prepare_batch(self, batch, device, non_blocking):\n",
    "        x, y = batch\n",
    "        x = convert_tensor(x, device=device, non_blocking=non_blocking)\n",
    "        y = convert_tensor(y, device=device, non_blocking=non_blocking)\n",
    "        \n",
    "        batch_size = x.size(0)\n",
    "        self.index = torch.randperm(batch_size).to(device)\n",
    "        \n",
    "        self.λ = self.rng.beta(self.α, self.α)\n",
    "        y1, x1, y2, x2 = self.cut_bounding_box(x.shape[-2:], self.λ)\n",
    "        x[:, :, y1:y2, x1:x2] = x[self.index, :, y1:y2, x1:x2]\n",
    "                \n",
    "        # adjust lambda to exactly match pixel ratio\n",
    "        area = x.size(2) * x.size(3)\n",
    "        self.λ = 1. - (x2 - x1) * (y2 - y1) / area\n",
    "        return x, y\n",
    "    \n",
    "    def cut_bounding_box(self, shape, λ):\n",
    "        cut_size_2 = 0.5 * np.sqrt(1. - λ)\n",
    "        center_yx = self.rng.random(2)\n",
    "        \n",
    "        y1x1 = (np.clip(center_yx - cut_size_2, 0., 1.) * shape).astype(int)\n",
    "        y2x2 = (np.clip(center_yx + cut_size_2, 0., 1.) * shape).astype(int)\n",
    "        return np.concatenate((y1x1, y2x2))\n",
    "        \n",
    "    def forward(self, pred, target):\n",
    "        orig_reduction = self.loss.reduction\n",
    "        self.loss.reduction = 'none'\n",
    "        batch_loss = self.λ * self.loss(pred, target) + (1. - self.λ) * self.loss(pred, target[self.index])\n",
    "        self.loss.reduction = orig_reduction\n",
    "        return reduce_loss(batch_loss, orig_reduction)"
   ]
  },
  {
   "cell_type": "markdown",
   "metadata": {},
   "source": [
    "## Training"
   ]
  },
  {
   "cell_type": "markdown",
   "metadata": {},
   "source": [
    "### History"
   ]
  },
  {
   "cell_type": "code",
   "execution_count": 24,
   "metadata": {},
   "outputs": [],
   "source": [
    "class History:\n",
    "    def __init__(self):\n",
    "        self.values = defaultdict(list)\n",
    "\n",
    "    def append(self, key, value):\n",
    "        self.values[key].append(value)\n",
    "\n",
    "    def reset(self):\n",
    "        for k in self.values.keys():\n",
    "            self.values[k] = []\n",
    "\n",
    "    def _begin_plot(self):\n",
    "        self.fig = plt.figure()\n",
    "        self.ax = self.fig.add_subplot(111)\n",
    "\n",
    "    def _end_plot(self, ylabel):\n",
    "        self.ax.set_xlabel('epoch')\n",
    "        self.ax.set_ylabel(ylabel)\n",
    "        plt.show()\n",
    "\n",
    "    def _plot(self, key, line_type='-', label=None):\n",
    "        if label is None: label=key\n",
    "        xs = np.arange(1, len(self.values[key])+1)\n",
    "        self.ax.plot(xs, self.values[key], line_type, label=label)\n",
    "\n",
    "    def plot(self, key):\n",
    "        self._begin_plot()\n",
    "        self._plot(key, '-')\n",
    "        self._end_plot(key)\n",
    "\n",
    "    def plot_train_val(self, key):\n",
    "        self._begin_plot()\n",
    "        self._plot('train ' + key, '.-', 'train')\n",
    "        self._plot('val ' + key, '.-', 'val')\n",
    "        self.ax.legend()\n",
    "        self._end_plot(key)"
   ]
  },
  {
   "cell_type": "markdown",
   "metadata": {},
   "source": [
    "### Trainer Setup"
   ]
  },
  {
   "cell_type": "code",
   "execution_count": 25,
   "metadata": {},
   "outputs": [],
   "source": [
    "loss = LabelSmoothingCrossEntropy()"
   ]
  },
  {
   "cell_type": "code",
   "execution_count": 26,
   "metadata": {},
   "outputs": [],
   "source": [
    "cutmix = CutMix(loss, α=1.0)"
   ]
  },
  {
   "cell_type": "code",
   "execution_count": 27,
   "metadata": {},
   "outputs": [],
   "source": [
    "optimizer = optim.AdamW(model.parameters(), lr=1e-6, weight_decay=1e-2)"
   ]
  },
  {
   "cell_type": "code",
   "execution_count": 28,
   "metadata": {},
   "outputs": [],
   "source": [
    "trainer = create_supervised_trainer(model, optimizer, cutmix, device=DEVICE, prepare_batch=cutmix.prepare_batch)"
   ]
  },
  {
   "cell_type": "code",
   "execution_count": 29,
   "metadata": {},
   "outputs": [],
   "source": [
    "lr_scheduler = optim.lr_scheduler.OneCycleLR(optimizer, max_lr=1e-2,\n",
    "                                             steps_per_epoch=len(train_loader), epochs=EPOCHS)"
   ]
  },
  {
   "cell_type": "code",
   "execution_count": 30,
   "metadata": {},
   "outputs": [],
   "source": [
    "trainer.add_event_handler(Events.ITERATION_COMPLETED, lambda engine: lr_scheduler.step());"
   ]
  },
  {
   "cell_type": "code",
   "execution_count": 31,
   "metadata": {},
   "outputs": [],
   "source": [
    "ignite.metrics.RunningAverage(output_transform=lambda x: x).attach(trainer, \"loss\")"
   ]
  },
  {
   "cell_type": "code",
   "execution_count": 32,
   "metadata": {},
   "outputs": [],
   "source": [
    "val_metrics = {\"accuracy\": ignite.metrics.Accuracy(), \"loss\": ignite.metrics.Loss(loss)}"
   ]
  },
  {
   "cell_type": "code",
   "execution_count": 33,
   "metadata": {},
   "outputs": [],
   "source": [
    "evaluator = create_supervised_evaluator(model, metrics=val_metrics, device=DEVICE)"
   ]
  },
  {
   "cell_type": "code",
   "execution_count": 34,
   "metadata": {},
   "outputs": [],
   "source": [
    "history = History()"
   ]
  },
  {
   "cell_type": "code",
   "execution_count": 35,
   "metadata": {},
   "outputs": [],
   "source": [
    "@trainer.on(Events.EPOCH_COMPLETED)\n",
    "def log_validation_results(engine):\n",
    "    train_state = engine.state\n",
    "    epoch = train_state.epoch\n",
    "    max_epochs = train_state.max_epochs\n",
    "    train_loss = train_state.metrics[\"loss\"]\n",
    "    history.append('train loss', train_loss)\n",
    "    \n",
    "    evaluator.run(test_loader)\n",
    "    val_metrics = evaluator.state.metrics\n",
    "    val_loss = val_metrics[\"loss\"]\n",
    "    val_acc = val_metrics[\"accuracy\"]\n",
    "    history.append('val loss', val_loss)\n",
    "    history.append('val acc', val_acc)\n",
    "    \n",
    "    print(\"{}/{} - train: loss {:.3f}; val: loss {:.3f} accuracy {:.3f}\".format(\n",
    "        epoch, max_epochs, train_loss, val_loss, val_acc))"
   ]
  },
  {
   "cell_type": "markdown",
   "metadata": {},
   "source": [
    "### Training"
   ]
  },
  {
   "cell_type": "code",
   "execution_count": 36,
   "metadata": {},
   "outputs": [
    {
     "name": "stdout",
     "output_type": "stream",
     "text": [
      "1/200 - train: loss 1.854; val: loss 1.365 accuracy 0.611\n",
      "2/200 - train: loss 1.724; val: loss 1.171 accuracy 0.718\n",
      "3/200 - train: loss 1.599; val: loss 1.038 accuracy 0.771\n",
      "4/200 - train: loss 1.610; val: loss 1.047 accuracy 0.770\n",
      "5/200 - train: loss 1.578; val: loss 0.997 accuracy 0.799\n",
      "6/200 - train: loss 1.535; val: loss 0.962 accuracy 0.810\n",
      "7/200 - train: loss 1.462; val: loss 0.901 accuracy 0.840\n",
      "8/200 - train: loss 1.554; val: loss 0.960 accuracy 0.828\n",
      "9/200 - train: loss 1.496; val: loss 0.883 accuracy 0.853\n",
      "10/200 - train: loss 1.503; val: loss 0.886 accuracy 0.856\n",
      "11/200 - train: loss 1.431; val: loss 0.853 accuracy 0.859\n",
      "12/200 - train: loss 1.455; val: loss 0.847 accuracy 0.866\n",
      "13/200 - train: loss 1.389; val: loss 0.820 accuracy 0.870\n",
      "14/200 - train: loss 1.382; val: loss 0.847 accuracy 0.867\n",
      "15/200 - train: loss 1.436; val: loss 0.827 accuracy 0.880\n",
      "16/200 - train: loss 1.429; val: loss 0.825 accuracy 0.879\n",
      "17/200 - train: loss 1.359; val: loss 0.791 accuracy 0.892\n",
      "18/200 - train: loss 1.366; val: loss 0.804 accuracy 0.885\n",
      "19/200 - train: loss 1.351; val: loss 0.853 accuracy 0.860\n",
      "20/200 - train: loss 1.388; val: loss 0.781 accuracy 0.891\n",
      "21/200 - train: loss 1.365; val: loss 0.812 accuracy 0.880\n",
      "22/200 - train: loss 1.358; val: loss 0.779 accuracy 0.900\n",
      "23/200 - train: loss 1.365; val: loss 0.790 accuracy 0.891\n",
      "24/200 - train: loss 1.341; val: loss 0.780 accuracy 0.895\n",
      "25/200 - train: loss 1.351; val: loss 0.773 accuracy 0.897\n",
      "26/200 - train: loss 1.342; val: loss 0.787 accuracy 0.892\n",
      "27/200 - train: loss 1.327; val: loss 0.760 accuracy 0.897\n",
      "28/200 - train: loss 1.328; val: loss 0.807 accuracy 0.879\n",
      "29/200 - train: loss 1.330; val: loss 0.789 accuracy 0.888\n",
      "30/200 - train: loss 1.403; val: loss 0.767 accuracy 0.896\n",
      "31/200 - train: loss 1.350; val: loss 0.771 accuracy 0.894\n",
      "32/200 - train: loss 1.364; val: loss 0.740 accuracy 0.910\n",
      "33/200 - train: loss 1.300; val: loss 0.794 accuracy 0.880\n",
      "34/200 - train: loss 1.353; val: loss 0.806 accuracy 0.877\n",
      "35/200 - train: loss 1.345; val: loss 0.785 accuracy 0.883\n",
      "36/200 - train: loss 1.350; val: loss 0.774 accuracy 0.896\n",
      "37/200 - train: loss 1.358; val: loss 0.759 accuracy 0.895\n",
      "38/200 - train: loss 1.345; val: loss 0.827 accuracy 0.874\n",
      "39/200 - train: loss 1.304; val: loss 0.753 accuracy 0.897\n",
      "40/200 - train: loss 1.361; val: loss 0.772 accuracy 0.891\n",
      "41/200 - train: loss 1.350; val: loss 0.853 accuracy 0.856\n",
      "42/200 - train: loss 1.374; val: loss 0.781 accuracy 0.892\n",
      "43/200 - train: loss 1.306; val: loss 0.744 accuracy 0.904\n",
      "44/200 - train: loss 1.372; val: loss 0.757 accuracy 0.900\n",
      "45/200 - train: loss 1.339; val: loss 0.769 accuracy 0.891\n",
      "46/200 - train: loss 1.393; val: loss 0.764 accuracy 0.902\n",
      "47/200 - train: loss 1.307; val: loss 0.761 accuracy 0.893\n",
      "48/200 - train: loss 1.370; val: loss 0.788 accuracy 0.891\n",
      "49/200 - train: loss 1.358; val: loss 0.851 accuracy 0.854\n",
      "50/200 - train: loss 1.370; val: loss 0.746 accuracy 0.905\n",
      "51/200 - train: loss 1.310; val: loss 0.757 accuracy 0.893\n",
      "52/200 - train: loss 1.371; val: loss 0.764 accuracy 0.897\n",
      "53/200 - train: loss 1.290; val: loss 0.745 accuracy 0.901\n",
      "54/200 - train: loss 1.324; val: loss 0.888 accuracy 0.843\n",
      "55/200 - train: loss 1.359; val: loss 0.752 accuracy 0.905\n",
      "56/200 - train: loss 1.363; val: loss 0.854 accuracy 0.859\n",
      "57/200 - train: loss 1.366; val: loss 0.784 accuracy 0.891\n",
      "58/200 - train: loss 1.335; val: loss 0.764 accuracy 0.901\n",
      "59/200 - train: loss 1.376; val: loss 0.823 accuracy 0.878\n",
      "60/200 - train: loss 1.353; val: loss 0.762 accuracy 0.893\n",
      "61/200 - train: loss 1.368; val: loss 0.745 accuracy 0.901\n",
      "62/200 - train: loss 1.394; val: loss 0.795 accuracy 0.883\n",
      "63/200 - train: loss 1.320; val: loss 0.742 accuracy 0.904\n",
      "64/200 - train: loss 1.335; val: loss 0.775 accuracy 0.890\n",
      "65/200 - train: loss 1.333; val: loss 0.775 accuracy 0.890\n",
      "66/200 - train: loss 1.354; val: loss 0.786 accuracy 0.882\n",
      "67/200 - train: loss 1.323; val: loss 0.770 accuracy 0.889\n",
      "68/200 - train: loss 1.335; val: loss 0.815 accuracy 0.878\n",
      "69/200 - train: loss 1.372; val: loss 0.773 accuracy 0.892\n",
      "70/200 - train: loss 1.330; val: loss 0.772 accuracy 0.893\n",
      "71/200 - train: loss 1.327; val: loss 0.750 accuracy 0.898\n",
      "72/200 - train: loss 1.354; val: loss 0.824 accuracy 0.869\n",
      "73/200 - train: loss 1.374; val: loss 0.728 accuracy 0.915\n",
      "74/200 - train: loss 1.322; val: loss 0.765 accuracy 0.894\n",
      "75/200 - train: loss 1.328; val: loss 0.709 accuracy 0.916\n",
      "76/200 - train: loss 1.303; val: loss 0.754 accuracy 0.900\n",
      "77/200 - train: loss 1.333; val: loss 0.732 accuracy 0.907\n",
      "78/200 - train: loss 1.281; val: loss 0.828 accuracy 0.865\n",
      "79/200 - train: loss 1.290; val: loss 0.734 accuracy 0.905\n",
      "80/200 - train: loss 1.352; val: loss 0.783 accuracy 0.889\n",
      "81/200 - train: loss 1.357; val: loss 0.765 accuracy 0.888\n",
      "82/200 - train: loss 1.311; val: loss 0.739 accuracy 0.903\n",
      "83/200 - train: loss 1.353; val: loss 0.731 accuracy 0.908\n",
      "84/200 - train: loss 1.354; val: loss 0.721 accuracy 0.919\n",
      "85/200 - train: loss 1.364; val: loss 0.728 accuracy 0.910\n",
      "86/200 - train: loss 1.277; val: loss 0.713 accuracy 0.917\n",
      "87/200 - train: loss 1.346; val: loss 0.726 accuracy 0.911\n",
      "88/200 - train: loss 1.318; val: loss 0.752 accuracy 0.899\n",
      "89/200 - train: loss 1.327; val: loss 0.797 accuracy 0.876\n",
      "90/200 - train: loss 1.320; val: loss 0.776 accuracy 0.891\n",
      "91/200 - train: loss 1.277; val: loss 0.764 accuracy 0.893\n",
      "92/200 - train: loss 1.336; val: loss 0.737 accuracy 0.908\n",
      "93/200 - train: loss 1.303; val: loss 0.738 accuracy 0.905\n",
      "94/200 - train: loss 1.302; val: loss 0.723 accuracy 0.911\n",
      "95/200 - train: loss 1.312; val: loss 0.736 accuracy 0.907\n",
      "96/200 - train: loss 1.313; val: loss 0.724 accuracy 0.910\n",
      "97/200 - train: loss 1.334; val: loss 0.738 accuracy 0.907\n",
      "98/200 - train: loss 1.324; val: loss 0.730 accuracy 0.907\n",
      "99/200 - train: loss 1.266; val: loss 0.719 accuracy 0.910\n",
      "100/200 - train: loss 1.310; val: loss 0.764 accuracy 0.893\n",
      "101/200 - train: loss 1.254; val: loss 0.740 accuracy 0.901\n",
      "102/200 - train: loss 1.293; val: loss 0.727 accuracy 0.910\n",
      "103/200 - train: loss 1.304; val: loss 0.711 accuracy 0.915\n",
      "104/200 - train: loss 1.285; val: loss 0.728 accuracy 0.908\n",
      "105/200 - train: loss 1.275; val: loss 0.755 accuracy 0.901\n",
      "106/200 - train: loss 1.266; val: loss 0.715 accuracy 0.917\n",
      "107/200 - train: loss 1.261; val: loss 0.709 accuracy 0.916\n",
      "108/200 - train: loss 1.301; val: loss 0.706 accuracy 0.916\n",
      "109/200 - train: loss 1.269; val: loss 0.712 accuracy 0.915\n",
      "110/200 - train: loss 1.262; val: loss 0.702 accuracy 0.922\n",
      "111/200 - train: loss 1.321; val: loss 0.702 accuracy 0.918\n",
      "112/200 - train: loss 1.268; val: loss 0.724 accuracy 0.912\n",
      "113/200 - train: loss 1.248; val: loss 0.699 accuracy 0.918\n",
      "114/200 - train: loss 1.244; val: loss 0.691 accuracy 0.923\n",
      "115/200 - train: loss 1.254; val: loss 0.746 accuracy 0.901\n",
      "116/200 - train: loss 1.243; val: loss 0.709 accuracy 0.916\n",
      "117/200 - train: loss 1.280; val: loss 0.676 accuracy 0.934\n",
      "118/200 - train: loss 1.217; val: loss 0.684 accuracy 0.927\n",
      "119/200 - train: loss 1.221; val: loss 0.680 accuracy 0.927\n",
      "120/200 - train: loss 1.255; val: loss 0.680 accuracy 0.929\n",
      "121/200 - train: loss 1.256; val: loss 0.674 accuracy 0.932\n",
      "122/200 - train: loss 1.279; val: loss 0.662 accuracy 0.935\n",
      "123/200 - train: loss 1.206; val: loss 0.671 accuracy 0.931\n",
      "124/200 - train: loss 1.245; val: loss 0.685 accuracy 0.926\n",
      "125/200 - train: loss 1.230; val: loss 0.700 accuracy 0.919\n",
      "126/200 - train: loss 1.224; val: loss 0.666 accuracy 0.937\n",
      "127/200 - train: loss 1.238; val: loss 0.684 accuracy 0.927\n",
      "128/200 - train: loss 1.233; val: loss 0.674 accuracy 0.931\n",
      "129/200 - train: loss 1.226; val: loss 0.690 accuracy 0.926\n",
      "130/200 - train: loss 1.236; val: loss 0.668 accuracy 0.932\n",
      "131/200 - train: loss 1.218; val: loss 0.659 accuracy 0.936\n",
      "132/200 - train: loss 1.254; val: loss 0.648 accuracy 0.941\n",
      "133/200 - train: loss 1.258; val: loss 0.675 accuracy 0.935\n",
      "134/200 - train: loss 1.192; val: loss 0.654 accuracy 0.938\n",
      "135/200 - train: loss 1.193; val: loss 0.659 accuracy 0.937\n",
      "136/200 - train: loss 1.205; val: loss 0.672 accuracy 0.931\n",
      "137/200 - train: loss 1.198; val: loss 0.659 accuracy 0.934\n",
      "138/200 - train: loss 1.173; val: loss 0.655 accuracy 0.937\n",
      "139/200 - train: loss 1.207; val: loss 0.657 accuracy 0.936\n",
      "140/200 - train: loss 1.236; val: loss 0.676 accuracy 0.932\n",
      "141/200 - train: loss 1.198; val: loss 0.647 accuracy 0.946\n",
      "142/200 - train: loss 1.165; val: loss 0.650 accuracy 0.938\n",
      "143/200 - train: loss 1.167; val: loss 0.668 accuracy 0.935\n",
      "144/200 - train: loss 1.216; val: loss 0.660 accuracy 0.939\n",
      "145/200 - train: loss 1.159; val: loss 0.644 accuracy 0.944\n",
      "146/200 - train: loss 1.175; val: loss 0.650 accuracy 0.942\n",
      "147/200 - train: loss 1.171; val: loss 0.638 accuracy 0.946\n",
      "148/200 - train: loss 1.166; val: loss 0.640 accuracy 0.943\n",
      "149/200 - train: loss 1.158; val: loss 0.635 accuracy 0.948\n",
      "150/200 - train: loss 1.130; val: loss 0.670 accuracy 0.927\n",
      "151/200 - train: loss 1.139; val: loss 0.626 accuracy 0.951\n",
      "152/200 - train: loss 1.119; val: loss 0.646 accuracy 0.940\n",
      "153/200 - train: loss 1.131; val: loss 0.643 accuracy 0.945\n",
      "154/200 - train: loss 1.168; val: loss 0.630 accuracy 0.947\n",
      "155/200 - train: loss 1.111; val: loss 0.635 accuracy 0.945\n",
      "156/200 - train: loss 1.116; val: loss 0.621 accuracy 0.953\n",
      "157/200 - train: loss 1.135; val: loss 0.625 accuracy 0.950\n",
      "158/200 - train: loss 1.133; val: loss 0.614 accuracy 0.955\n",
      "159/200 - train: loss 1.152; val: loss 0.616 accuracy 0.956\n",
      "160/200 - train: loss 1.060; val: loss 0.614 accuracy 0.955\n",
      "161/200 - train: loss 1.136; val: loss 0.615 accuracy 0.955\n",
      "162/200 - train: loss 1.125; val: loss 0.611 accuracy 0.955\n",
      "163/200 - train: loss 1.141; val: loss 0.615 accuracy 0.955\n",
      "164/200 - train: loss 1.093; val: loss 0.600 accuracy 0.961\n",
      "165/200 - train: loss 1.112; val: loss 0.604 accuracy 0.958\n",
      "166/200 - train: loss 1.083; val: loss 0.613 accuracy 0.955\n",
      "167/200 - train: loss 1.089; val: loss 0.603 accuracy 0.960\n",
      "168/200 - train: loss 1.102; val: loss 0.607 accuracy 0.959\n",
      "169/200 - train: loss 1.075; val: loss 0.597 accuracy 0.961\n",
      "170/200 - train: loss 1.074; val: loss 0.603 accuracy 0.958\n",
      "171/200 - train: loss 1.048; val: loss 0.599 accuracy 0.962\n",
      "172/200 - train: loss 1.103; val: loss 0.605 accuracy 0.959\n",
      "173/200 - train: loss 1.077; val: loss 0.593 accuracy 0.965\n",
      "174/200 - train: loss 1.050; val: loss 0.593 accuracy 0.963\n",
      "175/200 - train: loss 1.080; val: loss 0.600 accuracy 0.961\n",
      "176/200 - train: loss 1.049; val: loss 0.593 accuracy 0.964\n",
      "177/200 - train: loss 1.093; val: loss 0.593 accuracy 0.965\n",
      "178/200 - train: loss 1.017; val: loss 0.591 accuracy 0.965\n",
      "179/200 - train: loss 1.051; val: loss 0.592 accuracy 0.963\n",
      "180/200 - train: loss 1.034; val: loss 0.592 accuracy 0.966\n",
      "181/200 - train: loss 1.051; val: loss 0.590 accuracy 0.964\n",
      "182/200 - train: loss 1.033; val: loss 0.590 accuracy 0.963\n",
      "183/200 - train: loss 1.064; val: loss 0.587 accuracy 0.966\n",
      "184/200 - train: loss 1.044; val: loss 0.585 accuracy 0.968\n",
      "185/200 - train: loss 1.034; val: loss 0.586 accuracy 0.967\n",
      "186/200 - train: loss 1.012; val: loss 0.585 accuracy 0.967\n",
      "187/200 - train: loss 1.055; val: loss 0.584 accuracy 0.967\n",
      "188/200 - train: loss 1.022; val: loss 0.582 accuracy 0.968\n",
      "189/200 - train: loss 1.025; val: loss 0.582 accuracy 0.967\n",
      "190/200 - train: loss 1.033; val: loss 0.582 accuracy 0.968\n",
      "191/200 - train: loss 1.019; val: loss 0.581 accuracy 0.968\n",
      "192/200 - train: loss 1.017; val: loss 0.580 accuracy 0.970\n",
      "193/200 - train: loss 1.003; val: loss 0.582 accuracy 0.968\n",
      "194/200 - train: loss 1.007; val: loss 0.579 accuracy 0.970\n",
      "195/200 - train: loss 0.993; val: loss 0.581 accuracy 0.969\n",
      "196/200 - train: loss 1.017; val: loss 0.581 accuracy 0.969\n",
      "197/200 - train: loss 1.033; val: loss 0.579 accuracy 0.970\n",
      "198/200 - train: loss 1.032; val: loss 0.580 accuracy 0.969\n",
      "199/200 - train: loss 1.017; val: loss 0.578 accuracy 0.969\n",
      "200/200 - train: loss 0.983; val: loss 0.582 accuracy 0.969\n"
     ]
    }
   ],
   "source": [
    "trainer.run(train_loader, max_epochs=EPOCHS);"
   ]
  },
  {
   "cell_type": "code",
   "execution_count": 37,
   "metadata": {},
   "outputs": [
    {
     "data": {
      "image/png": "[encoded data removed]",
      "text/plain": [
       "<Figure size 432x288 with 1 Axes>"
      ]
     },
     "metadata": {
      "needs_background": "light"
     },
     "output_type": "display_data"
    }
   ],
   "source": [
    "history.plot_train_val('loss')"
   ]
  },
  {
   "cell_type": "code",
   "execution_count": 38,
   "metadata": {},
   "outputs": [
    {
     "data": {
      "image/png": "[encoded data removed]",
      "text/plain": [
       "<Figure size 432x288 with 1 Axes>"
      ]
     },
     "metadata": {
      "needs_background": "light"
     },
     "output_type": "display_data"
    }
   ],
   "source": [
    "history.plot('val acc')"
   ]
  }
 ],
 "metadata": {
  "kernelspec": {
   "display_name": "Python 3",
   "language": "python",
   "name": "python3"
  },
  "language_info": {
   "codemirror_mode": {
    "name": "ipython",
    "version": 3
   },
   "file_extension": ".py",
   "mimetype": "text/x-python",
   "name": "python",
   "nbconvert_exporter": "python",
   "pygments_lexer": "ipython3",
   "version": "3.8.10"
  }
 },
 "nbformat": 4,
 "nbformat_minor": 4
}
