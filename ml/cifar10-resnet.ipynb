{
 "cells": [
  {
   "cell_type": "markdown",
   "metadata": {},
   "source": [
    "# ResNet on CIFAR10"
   ]
  },
  {
   "cell_type": "markdown",
   "metadata": {},
   "source": [
    "## Configuration"
   ]
  },
  {
   "cell_type": "markdown",
   "metadata": {},
   "source": [
    "Imports"
   ]
  },
  {
   "cell_type": "code",
   "execution_count": 1,
   "metadata": {},
   "outputs": [],
   "source": [
    "import numpy as np\n",
    "from collections import defaultdict\n",
    "import matplotlib.pyplot as plt\n",
    "\n",
    "import torch\n",
    "import torch.nn as nn\n",
    "import torch.optim as optim\n",
    "import torch.nn.functional as F\n",
    "from torchvision import datasets, transforms\n",
    "\n",
    "from ignite.engine import Events, create_supervised_trainer, create_supervised_evaluator\n",
    "from ignite.utils import convert_tensor\n",
    "import ignite.metrics\n",
    "import ignite.contrib.handlers"
   ]
  },
  {
   "cell_type": "markdown",
   "metadata": {},
   "source": [
    "Configuration"
   ]
  },
  {
   "cell_type": "code",
   "execution_count": 3,
   "metadata": {},
   "outputs": [],
   "source": [
    "DATA_DIR='./data'\n",
    "\n",
    "NUM_CLASSES = 10\n",
    "NUM_WORKERS = 20\n",
    "BATCH_SIZE = 32\n",
    "EPOCHS = 150"
   ]
  },
  {
   "cell_type": "code",
   "execution_count": 4,
   "metadata": {},
   "outputs": [
    {
     "name": "stdout",
     "output_type": "stream",
     "text": [
      "device: cuda\n"
     ]
    }
   ],
   "source": [
    "DEVICE = torch.device(\"cuda\") if torch.cuda.is_available() else torch.device(\"cpu\")\n",
    "print(\"device:\", DEVICE)"
   ]
  },
  {
   "cell_type": "markdown",
   "metadata": {},
   "source": [
    "## Data"
   ]
  },
  {
   "cell_type": "code",
   "execution_count": 5,
   "metadata": {},
   "outputs": [],
   "source": [
    "train_transform = transforms.Compose([\n",
    "    transforms.RandomHorizontalFlip(),\n",
    "    transforms.RandomCrop(32, padding=4),\n",
    "    transforms.ColorJitter(brightness=0.2, contrast=0.2, saturation=0.2),\n",
    "    transforms.ToTensor()\n",
    "])"
   ]
  },
  {
   "cell_type": "code",
   "execution_count": 6,
   "metadata": {},
   "outputs": [
    {
     "name": "stdout",
     "output_type": "stream",
     "text": [
      "Files already downloaded and verified\n",
      "Files already downloaded and verified\n"
     ]
    }
   ],
   "source": [
    "train_dset = datasets.CIFAR10(root=DATA_DIR, train=True, download=True, transform=train_transform)\n",
    "test_dset = datasets.CIFAR10(root=DATA_DIR, train=False, download=True, transform=transforms.ToTensor())"
   ]
  },
  {
   "cell_type": "code",
   "execution_count": 7,
   "metadata": {},
   "outputs": [],
   "source": [
    "train_loader = torch.utils.data.DataLoader(train_dset, batch_size=BATCH_SIZE, shuffle=True,\n",
    "                                           num_workers=NUM_WORKERS, pin_memory=True)\n",
    "test_loader = torch.utils.data.DataLoader(test_dset, batch_size=BATCH_SIZE, shuffle=False,\n",
    "                                          num_workers=NUM_WORKERS, pin_memory=True)"
   ]
  },
  {
   "cell_type": "code",
   "execution_count": 8,
   "metadata": {},
   "outputs": [],
   "source": [
    "def dataset_show_image(dset, idx):\n",
    "    X, Y = dset[idx]\n",
    "    title = \"Ground truth: {}\".format(dset.classes[Y])\n",
    "    fig = plt.figure()\n",
    "    ax = fig.add_subplot(111)\n",
    "    ax.set_axis_off()\n",
    "    ax.imshow(np.moveaxis(X.numpy(), 0, -1))\n",
    "    ax.set_title(title)\n",
    "    plt.show()"
   ]
  },
  {
   "cell_type": "code",
   "execution_count": 9,
   "metadata": {},
   "outputs": [
    {
     "data": {
      "image/png": "[encoded data removed]",
      "text/plain": [
       "<Figure size 432x288 with 1 Axes>"
      ]
     },
     "metadata": {
      "needs_background": "light"
     },
     "output_type": "display_data"
    }
   ],
   "source": [
    "dataset_show_image(test_dset, 1)"
   ]
  },
  {
   "cell_type": "markdown",
   "metadata": {},
   "source": [
    "## Model"
   ]
  },
  {
   "cell_type": "code",
   "execution_count": 10,
   "metadata": {},
   "outputs": [],
   "source": [
    "class ConvBlock(nn.Sequential):\n",
    "    def __init__(self, in_channels, out_channels, kernel_size=3, stride=1, act=True):\n",
    "        padding = (kernel_size - 1) // 2\n",
    "        layers = [\n",
    "            nn.Conv2d(in_channels, out_channels, kernel_size, stride=stride, padding=padding, bias=False),\n",
    "            nn.BatchNorm2d(out_channels)\n",
    "        ]\n",
    "        if act: layers.append(nn.SiLU(inplace=True))\n",
    "        super().__init__(*layers)"
   ]
  },
  {
   "cell_type": "code",
   "execution_count": 11,
   "metadata": {},
   "outputs": [],
   "source": [
    "class BasicResidual(nn.Sequential):\n",
    "    def __init__(self, in_channels, out_channels, p_drop=0.):\n",
    "        super().__init__(\n",
    "            ConvBlock(in_channels, out_channels),\n",
    "            ConvBlock(out_channels, out_channels, act=False),\n",
    "            nn.Dropout2d(p_drop)\n",
    "        )"
   ]
  },
  {
   "cell_type": "code",
   "execution_count": 12,
   "metadata": {},
   "outputs": [],
   "source": [
    "class ResidualBlock(nn.Module):\n",
    "    def __init__(self, in_channels, out_channels, p_drop=0.):\n",
    "        super().__init__()\n",
    "        self.shortcut = self.get_shortcut(in_channels, out_channels)\n",
    "        self.residual = BasicResidual(in_channels, out_channels, p_drop)\n",
    "        self.act = nn.SiLU(inplace=True)\n",
    "        self.gamma = nn.Parameter(torch.zeros(1))\n",
    "    \n",
    "    def forward(self, x):\n",
    "        out = self.shortcut(x) + self.gamma * self.residual(x)\n",
    "        return self.act(out)\n",
    "    \n",
    "    def get_shortcut(self, in_channels, out_channels):\n",
    "        if in_channels != out_channels:\n",
    "            shortcut = ConvBlock(in_channels, out_channels, 1, act=False)\n",
    "        else:\n",
    "            shortcut = nn.Identity()\n",
    "        return shortcut"
   ]
  },
  {
   "cell_type": "code",
   "execution_count": 13,
   "metadata": {},
   "outputs": [],
   "source": [
    "class ResidualStack(nn.Sequential):\n",
    "    def __init__(self, in_channels, repetitions, strides, p_drop=0.):\n",
    "        layers = []\n",
    "        out_channels = in_channels\n",
    "        for rep, stride in zip(repetitions, strides):\n",
    "            if stride > 1: layers.append(nn.MaxPool2d(stride))\n",
    "            for _ in range(rep):\n",
    "                layers.append(ResidualBlock(in_channels, out_channels, p_drop))\n",
    "                in_channels = out_channels\n",
    "            out_channels *= 2\n",
    "        super().__init__(*layers)"
   ]
  },
  {
   "cell_type": "code",
   "execution_count": 14,
   "metadata": {},
   "outputs": [],
   "source": [
    "class Stem(nn.Sequential):\n",
    "    def __init__(self, in_channels, channel_list, stride):\n",
    "        layers = []\n",
    "        for out_channels in channel_list:\n",
    "            layers.append(ConvBlock(in_channels, out_channels, 3, stride=stride))\n",
    "            in_channels = out_channels\n",
    "            stride = 1\n",
    "        super().__init__(*layers)"
   ]
  },
  {
   "cell_type": "code",
   "execution_count": 15,
   "metadata": {},
   "outputs": [],
   "source": [
    "class Head(nn.Sequential):\n",
    "    def __init__(self, in_channels, classes, p_drop=0.):\n",
    "        super().__init__(\n",
    "            nn.AdaptiveAvgPool2d(1),\n",
    "            nn.Flatten(),\n",
    "            nn.Dropout(p_drop),\n",
    "            nn.Linear(in_channels, classes)\n",
    "        )"
   ]
  },
  {
   "cell_type": "code",
   "execution_count": 16,
   "metadata": {},
   "outputs": [],
   "source": [
    "class ResNet(nn.Sequential):\n",
    "    def __init__(self, classes, repetitions, strides=None, in_channels=3, res_p_drop=0., head_p_drop=0.):\n",
    "        if strides is None: strides = [2] * (len(repetitions) + 1)\n",
    "        super().__init__(\n",
    "            Stem(in_channels, [16, 32, 64], strides[0]),\n",
    "            ResidualStack(64, repetitions, strides[1:], res_p_drop),\n",
    "            Head(64 * 2**(len(repetitions) - 1), classes, head_p_drop)\n",
    "        )"
   ]
  },
  {
   "cell_type": "code",
   "execution_count": 17,
   "metadata": {},
   "outputs": [],
   "source": [
    "def init_linear(m):\n",
    "    if isinstance(m, (nn.Conv2d, nn.Linear)):\n",
    "        nn.init.kaiming_normal_(m.weight)\n",
    "        if m.bias is not None: nn.init.zeros_(m.bias)"
   ]
  },
  {
   "cell_type": "code",
   "execution_count": 18,
   "metadata": {},
   "outputs": [],
   "source": [
    "model = ResNet(NUM_CLASSES, [2, 2, 2, 2], strides=[1, 1, 2, 2, 2], res_p_drop=0., head_p_drop=0.3)"
   ]
  },
  {
   "cell_type": "code",
   "execution_count": 19,
   "metadata": {},
   "outputs": [],
   "source": [
    "model.apply(init_linear);"
   ]
  },
  {
   "cell_type": "code",
   "execution_count": 20,
   "metadata": {},
   "outputs": [],
   "source": [
    "model.to(DEVICE);"
   ]
  },
  {
   "cell_type": "code",
   "execution_count": 20,
   "metadata": {},
   "outputs": [
    {
     "name": "stdout",
     "output_type": "stream",
     "text": [
      "Number of parameters: 11,195,810\n"
     ]
    }
   ],
   "source": [
    "print(\"Number of parameters: {:,}\".format(sum(p.numel() for p in model.parameters())))"
   ]
  },
  {
   "cell_type": "markdown",
   "metadata": {
    "tags": []
   },
   "source": [
    "## Loss"
   ]
  },
  {
   "cell_type": "code",
   "execution_count": 22,
   "metadata": {},
   "outputs": [],
   "source": [
    "def reduce_loss(loss, reduction='mean'):\n",
    "    return loss.mean() if reduction=='mean' else loss.sum() if reduction=='sum' else loss"
   ]
  },
  {
   "cell_type": "code",
   "execution_count": 23,
   "metadata": {},
   "outputs": [],
   "source": [
    "class LabelSmoothingCrossEntropy(nn.Module):\n",
    "    def __init__(self, ε=0.1, reduction='mean'):\n",
    "        super().__init__()\n",
    "        self.ε = ε\n",
    "        self.reduction = reduction\n",
    "\n",
    "    def forward(self, output, target):\n",
    "        c = output.size(-1)\n",
    "        log_preds = F.log_softmax(output, dim=-1)\n",
    "        loss1 = reduce_loss(-log_preds.sum(dim=-1) / c, self.reduction)\n",
    "        loss2 = F.nll_loss(log_preds, target, reduction=self.reduction)\n",
    "        loss = (1. - self.ε) * loss2 + self.ε * loss1\n",
    "        return loss"
   ]
  },
  {
   "cell_type": "markdown",
   "metadata": {},
   "source": [
    "## CutMix"
   ]
  },
  {
   "cell_type": "code",
   "execution_count": 24,
   "metadata": {},
   "outputs": [],
   "source": [
    "class CutMix(nn.Module):\n",
    "    def __init__(self, loss, α=1.0):\n",
    "        super().__init__()\n",
    "        self.loss = loss\n",
    "        self.α = α\n",
    "        self.rng = np.random.default_rng()\n",
    "    \n",
    "    def prepare_batch(self, batch, device, non_blocking):\n",
    "        x, y = batch\n",
    "        x = convert_tensor(x, device=device, non_blocking=non_blocking)\n",
    "        y = convert_tensor(y, device=device, non_blocking=non_blocking)\n",
    "        \n",
    "        batch_size = x.size(0)\n",
    "        self.index = torch.randperm(batch_size).to(device)\n",
    "        \n",
    "        self.λ = self.rng.beta(self.α, self.α)\n",
    "        y1, x1, y2, x2 = self.cut_bounding_box(x.shape[-2:], self.λ)\n",
    "        x[:, :, y1:y2, x1:x2] = x[self.index, :, y1:y2, x1:x2]\n",
    "                \n",
    "        # adjust lambda to exactly match pixel ratio\n",
    "        area = x.size(2) * x.size(3)\n",
    "        self.λ = 1. - (x2 - x1) * (y2 - y1) / area\n",
    "        return x, y\n",
    "    \n",
    "    def cut_bounding_box(self, shape, λ):\n",
    "        cut_size_2 = 0.5 * np.sqrt(1. - λ)\n",
    "        center_yx = self.rng.random(2)\n",
    "        \n",
    "        y1x1 = (np.clip(center_yx - cut_size_2, 0., 1.) * shape).astype(int)\n",
    "        y2x2 = (np.clip(center_yx + cut_size_2, 0., 1.) * shape).astype(int)\n",
    "        return np.concatenate((y1x1, y2x2))\n",
    "        \n",
    "    def forward(self, pred, target):\n",
    "        orig_reduction = self.loss.reduction\n",
    "        self.loss.reduction = 'none'\n",
    "        batch_loss = self.λ * self.loss(pred, target) + (1. - self.λ) * self.loss(pred, target[self.index])\n",
    "        self.loss.reduction = orig_reduction\n",
    "        return reduce_loss(batch_loss, orig_reduction)"
   ]
  },
  {
   "cell_type": "markdown",
   "metadata": {},
   "source": [
    "## Training"
   ]
  },
  {
   "cell_type": "markdown",
   "metadata": {},
   "source": [
    "### History"
   ]
  },
  {
   "cell_type": "code",
   "execution_count": 24,
   "metadata": {},
   "outputs": [],
   "source": [
    "class History:\n",
    "    def __init__(self):\n",
    "        self.values = defaultdict(list)\n",
    "\n",
    "    def append(self, key, value):\n",
    "        self.values[key].append(value)\n",
    "\n",
    "    def reset(self):\n",
    "        for k in self.values.keys():\n",
    "            self.values[k] = []\n",
    "\n",
    "    def _begin_plot(self):\n",
    "        self.fig = plt.figure()\n",
    "        self.ax = self.fig.add_subplot(111)\n",
    "\n",
    "    def _end_plot(self, ylabel):\n",
    "        self.ax.set_xlabel('epoch')\n",
    "        self.ax.set_ylabel(ylabel)\n",
    "        plt.show()\n",
    "\n",
    "    def _plot(self, key, line_type='-', label=None):\n",
    "        if label is None: label=key\n",
    "        xs = np.arange(1, len(self.values[key])+1)\n",
    "        self.ax.plot(xs, self.values[key], line_type, label=label)\n",
    "\n",
    "    def plot(self, key):\n",
    "        self._begin_plot()\n",
    "        self._plot(key, '-')\n",
    "        self._end_plot(key)\n",
    "\n",
    "    def plot_train_val(self, key):\n",
    "        self._begin_plot()\n",
    "        self._plot('train ' + key, '.-', 'train')\n",
    "        self._plot('val ' + key, '.-', 'val')\n",
    "        self.ax.legend()\n",
    "        self._end_plot(key)"
   ]
  },
  {
   "cell_type": "markdown",
   "metadata": {},
   "source": [
    "### Trainer Setup"
   ]
  },
  {
   "cell_type": "code",
   "execution_count": 25,
   "metadata": {},
   "outputs": [],
   "source": [
    "loss = LabelSmoothingCrossEntropy()"
   ]
  },
  {
   "cell_type": "code",
   "execution_count": 26,
   "metadata": {},
   "outputs": [],
   "source": [
    "cutmix = CutMix(loss, α=1.0)"
   ]
  },
  {
   "cell_type": "code",
   "execution_count": 27,
   "metadata": {},
   "outputs": [],
   "source": [
    "optimizer = optim.AdamW(model.parameters(), lr=1e-6, weight_decay=1e-2)"
   ]
  },
  {
   "cell_type": "code",
   "execution_count": 28,
   "metadata": {},
   "outputs": [],
   "source": [
    "trainer = create_supervised_trainer(model, optimizer, cutmix, device=DEVICE, prepare_batch=cutmix.prepare_batch)"
   ]
  },
  {
   "cell_type": "code",
   "execution_count": 29,
   "metadata": {},
   "outputs": [],
   "source": [
    "lr_scheduler = optim.lr_scheduler.OneCycleLR(optimizer, max_lr=1e-2,\n",
    "                                             steps_per_epoch=len(train_loader), epochs=EPOCHS)"
   ]
  },
  {
   "cell_type": "code",
   "execution_count": 30,
   "metadata": {},
   "outputs": [],
   "source": [
    "trainer.add_event_handler(Events.ITERATION_COMPLETED, lambda engine: lr_scheduler.step());"
   ]
  },
  {
   "cell_type": "code",
   "execution_count": 31,
   "metadata": {},
   "outputs": [],
   "source": [
    "ignite.metrics.RunningAverage(output_transform=lambda x: x).attach(trainer, \"loss\")"
   ]
  },
  {
   "cell_type": "code",
   "execution_count": 32,
   "metadata": {},
   "outputs": [],
   "source": [
    "val_metrics = {\"accuracy\": ignite.metrics.Accuracy(), \"loss\": ignite.metrics.Loss(loss)}"
   ]
  },
  {
   "cell_type": "code",
   "execution_count": 33,
   "metadata": {},
   "outputs": [],
   "source": [
    "evaluator = create_supervised_evaluator(model, metrics=val_metrics, device=DEVICE)"
   ]
  },
  {
   "cell_type": "code",
   "execution_count": 34,
   "metadata": {},
   "outputs": [],
   "source": [
    "history = History()"
   ]
  },
  {
   "cell_type": "code",
   "execution_count": 35,
   "metadata": {},
   "outputs": [],
   "source": [
    "@trainer.on(Events.EPOCH_COMPLETED)\n",
    "def log_validation_results(engine):\n",
    "    train_state = engine.state\n",
    "    epoch = train_state.epoch\n",
    "    max_epochs = train_state.max_epochs\n",
    "    train_loss = train_state.metrics[\"loss\"]\n",
    "    history.append('train loss', train_loss)\n",
    "    \n",
    "    evaluator.run(test_loader)\n",
    "    val_metrics = evaluator.state.metrics\n",
    "    val_loss = val_metrics[\"loss\"]\n",
    "    val_acc = val_metrics[\"accuracy\"]\n",
    "    history.append('val loss', val_loss)\n",
    "    history.append('val acc', val_acc)\n",
    "    \n",
    "    print(\"{}/{} - train: loss {:.3f}; val: loss {:.3f} accuracy {:.3f}\".format(\n",
    "        epoch, max_epochs, train_loss, val_loss, val_acc))"
   ]
  },
  {
   "cell_type": "markdown",
   "metadata": {},
   "source": [
    "### Training"
   ]
  },
  {
   "cell_type": "code",
   "execution_count": 36,
   "metadata": {},
   "outputs": [
    {
     "name": "stdout",
     "output_type": "stream",
     "text": [
      "1/150 - train: loss 1.837; val: loss 1.335 accuracy 0.633\n",
      "2/150 - train: loss 1.710; val: loss 1.148 accuracy 0.727\n",
      "3/150 - train: loss 1.638; val: loss 1.093 accuracy 0.753\n",
      "4/150 - train: loss 1.634; val: loss 1.039 accuracy 0.783\n",
      "5/150 - train: loss 1.539; val: loss 0.983 accuracy 0.806\n",
      "6/150 - train: loss 1.552; val: loss 0.971 accuracy 0.821\n",
      "7/150 - train: loss 1.528; val: loss 0.963 accuracy 0.826\n",
      "8/150 - train: loss 1.545; val: loss 0.942 accuracy 0.829\n",
      "9/150 - train: loss 1.525; val: loss 0.910 accuracy 0.853\n",
      "10/150 - train: loss 1.474; val: loss 0.887 accuracy 0.854\n",
      "11/150 - train: loss 1.467; val: loss 0.885 accuracy 0.849\n",
      "12/150 - train: loss 1.447; val: loss 0.886 accuracy 0.854\n",
      "13/150 - train: loss 1.416; val: loss 0.823 accuracy 0.874\n",
      "14/150 - train: loss 1.435; val: loss 0.837 accuracy 0.872\n",
      "15/150 - train: loss 1.451; val: loss 0.872 accuracy 0.856\n",
      "16/150 - train: loss 1.413; val: loss 0.838 accuracy 0.872\n",
      "17/150 - train: loss 1.413; val: loss 0.799 accuracy 0.883\n",
      "18/150 - train: loss 1.430; val: loss 0.836 accuracy 0.875\n",
      "19/150 - train: loss 1.378; val: loss 0.832 accuracy 0.874\n",
      "20/150 - train: loss 1.406; val: loss 0.822 accuracy 0.877\n",
      "21/150 - train: loss 1.365; val: loss 0.816 accuracy 0.881\n",
      "22/150 - train: loss 1.412; val: loss 0.794 accuracy 0.894\n",
      "23/150 - train: loss 1.372; val: loss 0.806 accuracy 0.879\n",
      "24/150 - train: loss 1.368; val: loss 0.801 accuracy 0.888\n",
      "25/150 - train: loss 1.311; val: loss 0.775 accuracy 0.895\n",
      "26/150 - train: loss 1.421; val: loss 0.821 accuracy 0.882\n",
      "27/150 - train: loss 1.347; val: loss 0.808 accuracy 0.886\n",
      "28/150 - train: loss 1.379; val: loss 0.800 accuracy 0.881\n",
      "29/150 - train: loss 1.342; val: loss 0.834 accuracy 0.873\n",
      "30/150 - train: loss 1.380; val: loss 0.810 accuracy 0.888\n",
      "31/150 - train: loss 1.406; val: loss 0.793 accuracy 0.891\n",
      "32/150 - train: loss 1.373; val: loss 0.881 accuracy 0.849\n",
      "33/150 - train: loss 1.339; val: loss 0.852 accuracy 0.860\n",
      "34/150 - train: loss 1.366; val: loss 0.803 accuracy 0.881\n",
      "35/150 - train: loss 1.347; val: loss 0.776 accuracy 0.894\n",
      "36/150 - train: loss 1.351; val: loss 0.824 accuracy 0.873\n",
      "37/150 - train: loss 1.362; val: loss 0.789 accuracy 0.886\n",
      "38/150 - train: loss 1.385; val: loss 0.819 accuracy 0.879\n",
      "39/150 - train: loss 1.319; val: loss 0.813 accuracy 0.873\n",
      "40/150 - train: loss 1.374; val: loss 0.802 accuracy 0.885\n",
      "41/150 - train: loss 1.365; val: loss 0.817 accuracy 0.879\n",
      "42/150 - train: loss 1.383; val: loss 0.795 accuracy 0.886\n",
      "43/150 - train: loss 1.340; val: loss 0.822 accuracy 0.876\n",
      "44/150 - train: loss 1.394; val: loss 0.774 accuracy 0.895\n",
      "45/150 - train: loss 1.358; val: loss 0.844 accuracy 0.859\n",
      "46/150 - train: loss 1.395; val: loss 0.764 accuracy 0.901\n",
      "47/150 - train: loss 1.385; val: loss 0.752 accuracy 0.902\n",
      "48/150 - train: loss 1.397; val: loss 0.786 accuracy 0.894\n",
      "49/150 - train: loss 1.369; val: loss 0.778 accuracy 0.889\n",
      "50/150 - train: loss 1.363; val: loss 0.734 accuracy 0.907\n",
      "51/150 - train: loss 1.333; val: loss 0.760 accuracy 0.895\n",
      "52/150 - train: loss 1.336; val: loss 0.760 accuracy 0.900\n",
      "53/150 - train: loss 1.350; val: loss 0.772 accuracy 0.893\n",
      "54/150 - train: loss 1.342; val: loss 0.769 accuracy 0.892\n",
      "55/150 - train: loss 1.374; val: loss 0.782 accuracy 0.894\n",
      "56/150 - train: loss 1.347; val: loss 0.783 accuracy 0.887\n",
      "57/150 - train: loss 1.361; val: loss 0.766 accuracy 0.900\n",
      "58/150 - train: loss 1.322; val: loss 0.781 accuracy 0.887\n",
      "59/150 - train: loss 1.355; val: loss 0.788 accuracy 0.894\n",
      "60/150 - train: loss 1.357; val: loss 0.727 accuracy 0.910\n",
      "61/150 - train: loss 1.377; val: loss 0.766 accuracy 0.891\n",
      "62/150 - train: loss 1.355; val: loss 0.798 accuracy 0.875\n",
      "63/150 - train: loss 1.343; val: loss 0.771 accuracy 0.889\n",
      "64/150 - train: loss 1.331; val: loss 0.764 accuracy 0.898\n",
      "65/150 - train: loss 1.309; val: loss 0.729 accuracy 0.908\n",
      "66/150 - train: loss 1.319; val: loss 0.747 accuracy 0.907\n",
      "67/150 - train: loss 1.337; val: loss 0.757 accuracy 0.896\n",
      "68/150 - train: loss 1.350; val: loss 0.755 accuracy 0.897\n",
      "69/150 - train: loss 1.312; val: loss 0.720 accuracy 0.910\n",
      "70/150 - train: loss 1.312; val: loss 0.717 accuracy 0.917\n",
      "71/150 - train: loss 1.336; val: loss 0.747 accuracy 0.906\n",
      "72/150 - train: loss 1.335; val: loss 0.772 accuracy 0.890\n",
      "73/150 - train: loss 1.317; val: loss 0.740 accuracy 0.909\n",
      "74/150 - train: loss 1.259; val: loss 0.745 accuracy 0.897\n",
      "75/150 - train: loss 1.378; val: loss 0.718 accuracy 0.921\n",
      "76/150 - train: loss 1.311; val: loss 0.733 accuracy 0.908\n",
      "77/150 - train: loss 1.277; val: loss 0.716 accuracy 0.917\n",
      "78/150 - train: loss 1.295; val: loss 0.697 accuracy 0.921\n",
      "79/150 - train: loss 1.261; val: loss 0.746 accuracy 0.900\n",
      "80/150 - train: loss 1.297; val: loss 0.733 accuracy 0.910\n",
      "81/150 - train: loss 1.303; val: loss 0.726 accuracy 0.912\n",
      "82/150 - train: loss 1.302; val: loss 0.736 accuracy 0.905\n",
      "83/150 - train: loss 1.282; val: loss 0.703 accuracy 0.919\n",
      "84/150 - train: loss 1.245; val: loss 0.741 accuracy 0.901\n",
      "85/150 - train: loss 1.261; val: loss 0.695 accuracy 0.923\n",
      "86/150 - train: loss 1.289; val: loss 0.722 accuracy 0.914\n",
      "87/150 - train: loss 1.277; val: loss 0.708 accuracy 0.919\n",
      "88/150 - train: loss 1.232; val: loss 0.686 accuracy 0.925\n",
      "89/150 - train: loss 1.273; val: loss 0.691 accuracy 0.926\n",
      "90/150 - train: loss 1.262; val: loss 0.689 accuracy 0.925\n",
      "91/150 - train: loss 1.270; val: loss 0.725 accuracy 0.913\n",
      "92/150 - train: loss 1.283; val: loss 0.684 accuracy 0.928\n",
      "93/150 - train: loss 1.243; val: loss 0.704 accuracy 0.920\n",
      "94/150 - train: loss 1.203; val: loss 0.693 accuracy 0.923\n",
      "95/150 - train: loss 1.211; val: loss 0.693 accuracy 0.923\n",
      "96/150 - train: loss 1.231; val: loss 0.686 accuracy 0.930\n",
      "97/150 - train: loss 1.228; val: loss 0.680 accuracy 0.927\n",
      "98/150 - train: loss 1.238; val: loss 0.659 accuracy 0.936\n",
      "99/150 - train: loss 1.233; val: loss 0.658 accuracy 0.937\n",
      "100/150 - train: loss 1.241; val: loss 0.662 accuracy 0.934\n",
      "101/150 - train: loss 1.221; val: loss 0.653 accuracy 0.939\n",
      "102/150 - train: loss 1.210; val: loss 0.664 accuracy 0.935\n",
      "103/150 - train: loss 1.234; val: loss 0.662 accuracy 0.937\n",
      "104/150 - train: loss 1.220; val: loss 0.649 accuracy 0.942\n",
      "105/150 - train: loss 1.204; val: loss 0.651 accuracy 0.940\n",
      "106/150 - train: loss 1.195; val: loss 0.665 accuracy 0.933\n",
      "107/150 - train: loss 1.206; val: loss 0.661 accuracy 0.937\n",
      "108/150 - train: loss 1.170; val: loss 0.643 accuracy 0.943\n",
      "109/150 - train: loss 1.220; val: loss 0.645 accuracy 0.944\n",
      "110/150 - train: loss 1.199; val: loss 0.639 accuracy 0.945\n",
      "111/150 - train: loss 1.159; val: loss 0.645 accuracy 0.944\n",
      "112/150 - train: loss 1.198; val: loss 0.651 accuracy 0.940\n",
      "113/150 - train: loss 1.163; val: loss 0.630 accuracy 0.948\n",
      "114/150 - train: loss 1.167; val: loss 0.638 accuracy 0.945\n",
      "115/150 - train: loss 1.155; val: loss 0.639 accuracy 0.944\n",
      "116/150 - train: loss 1.187; val: loss 0.628 accuracy 0.949\n",
      "117/150 - train: loss 1.129; val: loss 0.624 accuracy 0.951\n",
      "118/150 - train: loss 1.106; val: loss 0.622 accuracy 0.952\n",
      "119/150 - train: loss 1.142; val: loss 0.616 accuracy 0.955\n",
      "120/150 - train: loss 1.116; val: loss 0.615 accuracy 0.954\n",
      "121/150 - train: loss 1.090; val: loss 0.612 accuracy 0.956\n",
      "122/150 - train: loss 1.139; val: loss 0.618 accuracy 0.953\n",
      "123/150 - train: loss 1.098; val: loss 0.613 accuracy 0.955\n",
      "124/150 - train: loss 1.120; val: loss 0.610 accuracy 0.959\n",
      "125/150 - train: loss 1.102; val: loss 0.611 accuracy 0.956\n",
      "126/150 - train: loss 1.098; val: loss 0.600 accuracy 0.961\n",
      "127/150 - train: loss 1.090; val: loss 0.604 accuracy 0.960\n",
      "128/150 - train: loss 1.091; val: loss 0.599 accuracy 0.961\n",
      "129/150 - train: loss 1.087; val: loss 0.600 accuracy 0.960\n",
      "130/150 - train: loss 1.045; val: loss 0.597 accuracy 0.963\n",
      "131/150 - train: loss 1.063; val: loss 0.600 accuracy 0.961\n",
      "132/150 - train: loss 1.062; val: loss 0.602 accuracy 0.960\n",
      "133/150 - train: loss 1.081; val: loss 0.593 accuracy 0.964\n",
      "134/150 - train: loss 1.055; val: loss 0.593 accuracy 0.963\n",
      "135/150 - train: loss 1.018; val: loss 0.597 accuracy 0.963\n",
      "136/150 - train: loss 1.050; val: loss 0.591 accuracy 0.965\n",
      "137/150 - train: loss 1.035; val: loss 0.595 accuracy 0.962\n",
      "138/150 - train: loss 1.006; val: loss 0.586 accuracy 0.966\n",
      "139/150 - train: loss 1.022; val: loss 0.588 accuracy 0.966\n",
      "140/150 - train: loss 1.046; val: loss 0.587 accuracy 0.966\n",
      "141/150 - train: loss 1.062; val: loss 0.586 accuracy 0.968\n",
      "142/150 - train: loss 1.025; val: loss 0.585 accuracy 0.968\n",
      "143/150 - train: loss 1.012; val: loss 0.583 accuracy 0.969\n",
      "144/150 - train: loss 1.061; val: loss 0.584 accuracy 0.968\n",
      "145/150 - train: loss 1.004; val: loss 0.584 accuracy 0.967\n",
      "146/150 - train: loss 1.043; val: loss 0.583 accuracy 0.967\n",
      "147/150 - train: loss 1.014; val: loss 0.583 accuracy 0.968\n",
      "148/150 - train: loss 1.026; val: loss 0.583 accuracy 0.968\n",
      "149/150 - train: loss 1.015; val: loss 0.582 accuracy 0.969\n",
      "150/150 - train: loss 1.037; val: loss 0.582 accuracy 0.968\n"
     ]
    }
   ],
   "source": [
    "trainer.run(train_loader, max_epochs=EPOCHS);"
   ]
  },
  {
   "cell_type": "code",
   "execution_count": 37,
   "metadata": {},
   "outputs": [
    {
     "data": {
      "image/png": "[encoded data removed]",
      "text/plain": [
       "<Figure size 432x288 with 1 Axes>"
      ]
     },
     "metadata": {
      "needs_background": "light"
     },
     "output_type": "display_data"
    }
   ],
   "source": [
    "history.plot_train_val('loss')"
   ]
  },
  {
   "cell_type": "code",
   "execution_count": 38,
   "metadata": {},
   "outputs": [
    {
     "data": {
      "image/png": "[encoded data removed]",
      "text/plain": [
       "<Figure size 432x288 with 1 Axes>"
      ]
     },
     "metadata": {
      "needs_background": "light"
     },
     "output_type": "display_data"
    }
   ],
   "source": [
    "history.plot('val acc')"
   ]
  }
 ],
 "metadata": {
  "kernelspec": {
   "display_name": "Python 3",
   "language": "python",
   "name": "python3"
  },
  "language_info": {
   "codemirror_mode": {
    "name": "ipython",
    "version": 3
   },
   "file_extension": ".py",
   "mimetype": "text/x-python",
   "name": "python",
   "nbconvert_exporter": "python",
   "pygments_lexer": "ipython3",
   "version": "3.8.5"
  }
 },
 "nbformat": 4,
 "nbformat_minor": 4
}
