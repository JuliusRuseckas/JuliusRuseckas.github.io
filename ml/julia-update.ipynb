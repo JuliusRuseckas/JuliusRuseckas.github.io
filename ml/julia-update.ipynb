{
 "cells": [
  {
   "cell_type": "markdown",
   "metadata": {},
   "source": [
    "# ResNet on CIFAR10 using Julia"
   ]
  },
  {
   "cell_type": "markdown",
   "metadata": {},
   "source": [
    "## Configuration"
   ]
  },
  {
   "cell_type": "markdown",
   "metadata": {},
   "source": [
    "Imports"
   ]
  },
  {
   "cell_type": "code",
   "execution_count": 1,
   "metadata": {},
   "outputs": [],
   "source": [
    "using Flux"
   ]
  },
  {
   "cell_type": "code",
   "execution_count": 2,
   "metadata": {},
   "outputs": [],
   "source": [
    "using CUDA"
   ]
  },
  {
   "cell_type": "code",
   "execution_count": 3,
   "metadata": {},
   "outputs": [],
   "source": [
    "using ParameterSchedulers"
   ]
  },
  {
   "cell_type": "code",
   "execution_count": 4,
   "metadata": {},
   "outputs": [],
   "source": [
    "using MLDatasets"
   ]
  },
  {
   "cell_type": "code",
   "execution_count": 5,
   "metadata": {},
   "outputs": [],
   "source": [
    "using Images"
   ]
  },
  {
   "cell_type": "code",
   "execution_count": 6,
   "metadata": {},
   "outputs": [],
   "source": [
    "using Augmentor"
   ]
  },
  {
   "cell_type": "code",
   "execution_count": 7,
   "metadata": {},
   "outputs": [],
   "source": [
    "using IterTools"
   ]
  },
  {
   "cell_type": "code",
   "execution_count": 8,
   "metadata": {},
   "outputs": [],
   "source": [
    "using OnlineStats"
   ]
  },
  {
   "cell_type": "code",
   "execution_count": 9,
   "metadata": {},
   "outputs": [],
   "source": [
    "using Printf"
   ]
  },
  {
   "cell_type": "markdown",
   "metadata": {},
   "source": [
    "Configuration"
   ]
  },
  {
   "cell_type": "code",
   "execution_count": 10,
   "metadata": {},
   "outputs": [],
   "source": [
    "Base.@kwdef struct Config\n",
    "    batchsize = 32\n",
    "    throttle = 40\n",
    "    lr = 1e-3\n",
    "    wd = 1f-2\n",
    "    epochs = 100\n",
    "end\n",
    "\n",
    "config = Config();"
   ]
  },
  {
   "cell_type": "code",
   "execution_count": 11,
   "metadata": {},
   "outputs": [
    {
     "name": "stderr",
     "output_type": "stream",
     "text": [
      "┌ Info: CUDA is on\n",
      "└ @ Main In[11]:2\n"
     ]
    }
   ],
   "source": [
    "if CUDA.has_cuda()\n",
    "    @info \"CUDA is on\"\n",
    "    CUDA.allowscalar(false)\n",
    "end"
   ]
  },
  {
   "cell_type": "markdown",
   "metadata": {},
   "source": [
    "## Data"
   ]
  },
  {
   "cell_type": "markdown",
   "metadata": {},
   "source": [
    "One needs to download data only once:"
   ]
  },
  {
   "cell_type": "code",
   "execution_count": 12,
   "metadata": {},
   "outputs": [],
   "source": [
    "# CIFAR10.download(i_accept_the_terms_of_use=true)"
   ]
  },
  {
   "cell_type": "code",
   "execution_count": 13,
   "metadata": {},
   "outputs": [],
   "source": [
    "train_data = CIFAR10.traindata(Float32)\n",
    "test_data = CIFAR10.testdata(Float32);"
   ]
  },
  {
   "cell_type": "code",
   "execution_count": 14,
   "metadata": {},
   "outputs": [
    {
     "data": {
      "text/plain": [
       "8-step Augmentor.ImmutablePipeline:\n",
       " 1.) Either: (50%) Flip the X axis. (50%) No operation.\n",
       " 2.) Either: (50%) ShearX by ϕ ∈ -5:5 degree. (50%) ShearY by ψ ∈ -5:5 degree.\n",
       " 3.) Rotate by θ ∈ -15:15 degree\n",
       " 4.) Crop a 32×32 window around the center\n",
       " 5.) Zoom by I ∈ {0.9×0.9, 1.0×1.0, 1.1×1.1, 1.2×1.2}\n",
       " 6.) Split colorant into its color channels\n",
       " 7.) Permute dimension order to (3, 2, 1)\n",
       " 8.) Convert eltype to Float32"
      ]
     },
     "execution_count": 14,
     "metadata": {},
     "output_type": "execute_result"
    }
   ],
   "source": [
    "train_aug = FlipX(0.5) |> ShearX(-5:5) * ShearY(-5:5) |> Rotate(-15:15) |> CropSize(32,32) |>\n",
    "            Zoom(0.9:0.1:1.2) |> SplitChannels() |> PermuteDims(3, 2, 1) |> ConvertEltype(Float32)"
   ]
  },
  {
   "cell_type": "code",
   "execution_count": 15,
   "metadata": {},
   "outputs": [
    {
     "data": {
      "text/plain": [
       "collate (generic function with 1 method)"
      ]
     },
     "execution_count": 15,
     "metadata": {},
     "output_type": "execute_result"
    }
   ],
   "source": [
    "function collate((imgs, labels))\n",
    "    imgs = imgs |> gpu\n",
    "    labels = Flux.onehotbatch(labels .+ 1, 1:10) |> gpu\n",
    "    imgs, labels\n",
    "end"
   ]
  },
  {
   "cell_type": "code",
   "execution_count": 16,
   "metadata": {},
   "outputs": [
    {
     "data": {
      "text/plain": [
       "collate (generic function with 2 methods)"
      ]
     },
     "execution_count": 16,
     "metadata": {},
     "output_type": "execute_result"
    }
   ],
   "source": [
    "function collate((imgs, labels), aug)\n",
    "    imgs_aug = Array{Float32}(undef, size(imgs))\n",
    "    augmentbatch!(imgs_aug, CIFAR10.convert2image(imgs), aug)\n",
    "    collate((imgs_aug, labels))\n",
    "end"
   ]
  },
  {
   "cell_type": "code",
   "execution_count": 17,
   "metadata": {},
   "outputs": [],
   "source": [
    "train_loader = imap(d -> collate(d, train_aug),\n",
    "    Flux.Data.DataLoader(train_data, batchsize=config.batchsize, shuffle=true))\n",
    "\n",
    "test_loader = imap(collate,\n",
    "    Flux.Data.DataLoader(test_data, batchsize=config.batchsize, shuffle=false));"
   ]
  },
  {
   "cell_type": "code",
   "execution_count": 18,
   "metadata": {},
   "outputs": [
    {
     "name": "stdout",
     "output_type": "stream",
     "text": [
      "truck\n"
     ]
    },
    {
     "data": {
      "image/png": "[encoded data removed]",
      "text/plain": [
       "32×32 reinterpret(reshape, RGB{Float32}, ::Array{Float32, 3}) with eltype RGB{Float32}:\n",
       " RGB{Float32}(0.457887,0.495099,0.52839)   …  RGB{Float32}(0.639491,0.659099,0.684648)\n",
       " RGB{Float32}(0.477535,0.49142,0.506141)      RGB{Float32}(0.632056,0.651664,0.67562)\n",
       " RGB{Float32}(0.652603,0.614044,0.58767)      RGB{Float32}(0.624622,0.64423,0.666593)\n",
       " RGB{Float32}(0.781785,0.683069,0.612557)     RGB{Float32}(0.617188,0.636796,0.657566)\n",
       " RGB{Float32}(0.835051,0.679681,0.569704)     RGB{Float32}(0.611765,0.631373,0.65098)\n",
       " RGB{Float32}(0.835335,0.659029,0.51814)   …  RGB{Float32}(0.498031,0.521561,0.517637)\n",
       " RGB{Float32}(0.822192,0.645722,0.48819)      RGB{Float32}(0.408382,0.435833,0.408007)\n",
       " RGB{Float32}(0.804294,0.627824,0.463118)     RGB{Float32}(0.373466,0.400165,0.371047)\n",
       " RGB{Float32}(0.788235,0.61068,0.449229)      RGB{Float32}(0.355151,0.37868,0.362453)\n",
       " RGB{Float32}(0.785314,0.606383,0.457823)     RGB{Float32}(0.342679,0.363204,0.355361)\n",
       " RGB{Float32}(0.773048,0.594742,0.460909)  …  RGB{Float32}(0.343221,0.355152,0.347309)\n",
       " RGB{Float32}(0.77134,0.588737,0.449978)      RGB{Float32}(0.338924,0.346767,0.336671)\n",
       " RGB{Float32}(0.789405,0.597331,0.425029)     RGB{Float32}(0.324113,0.329328,0.314935)\n",
       " ⋮                                         ⋱  \n",
       " RGB{Float32}(0.516479,0.425198,0.403337)  …  RGB{Float32}(0.529884,0.481617,0.516203)\n",
       " RGB{Float32}(0.513226,0.411098,0.389446)     RGB{Float32}(0.420446,0.365544,0.374474)\n",
       " RGB{Float32}(0.497122,0.391239,0.362871)     RGB{Float32}(0.568807,0.506522,0.502601)\n",
       " RGB{Float32}(0.505297,0.399415,0.373632)     RGB{Float32}(0.768777,0.693601,0.698189)\n",
       " RGB{Float32}(0.516145,0.419773,0.402585)     RGB{Float32}(0.759666,0.678023,0.679442)\n",
       " RGB{Float32}(0.538922,0.444804,0.422026)  …  RGB{Float32}(0.731083,0.645143,0.627207)\n",
       " RGB{Float32}(0.545098,0.439216,0.403923)     RGB{Float32}(0.792075,0.701755,0.678431)\n",
       " RGB{Float32}(0.552941,0.435294,0.380392)     RGB{Float32}(0.784314,0.681103,0.679681)\n",
       " RGB{Float32}(0.553329,0.435681,0.379617)     RGB{Float32}(0.785106,0.670588,0.69178)\n",
       " RGB{Float32}(0.55386,0.436213,0.378555)      RGB{Float32}(0.785901,0.668254,0.692202)\n",
       " RGB{Float32}(0.554391,0.436744,0.377493)  …  RGB{Float32}(0.783478,0.665831,0.679974)\n",
       " RGB{Float32}(0.554922,0.437275,0.376431)     RGB{Float32}(0.792072,0.676343,0.688108)"
      ]
     },
     "execution_count": 18,
     "metadata": {},
     "output_type": "execute_result"
    }
   ],
   "source": [
    "batch = iterate(train_loader)[1]\n",
    "println(CIFAR10.classnames()[Flux.onecold(cpu(batch[2])[:, 1], 1:10)])\n",
    "CIFAR10.convert2image(cpu(batch[1])[:,:,:, 1])"
   ]
  },
  {
   "cell_type": "markdown",
   "metadata": {},
   "source": [
    "## Model"
   ]
  },
  {
   "cell_type": "code",
   "execution_count": 19,
   "metadata": {},
   "outputs": [
    {
     "data": {
      "text/plain": [
       "conv_block (generic function with 1 method)"
      ]
     },
     "execution_count": 19,
     "metadata": {},
     "output_type": "execute_result"
    }
   ],
   "source": [
    "function conv_block(ch::Pair; kernel_size=3, stride=1, activation=relu)\n",
    "    Chain(Conv((kernel_size, kernel_size), ch, pad=SamePad(), stride=stride, bias=false, init=Flux.kaiming_normal),\n",
    "          BatchNorm(ch.second, activation))\n",
    "end"
   ]
  },
  {
   "cell_type": "code",
   "execution_count": 20,
   "metadata": {},
   "outputs": [
    {
     "data": {
      "text/plain": [
       "basic_residual (generic function with 1 method)"
      ]
     },
     "execution_count": 20,
     "metadata": {},
     "output_type": "execute_result"
    }
   ],
   "source": [
    "function basic_residual(ch::Pair)\n",
    "    Chain(conv_block(ch),\n",
    "          conv_block(ch.second => ch.second, activation=identity))\n",
    "end"
   ]
  },
  {
   "cell_type": "code",
   "execution_count": 21,
   "metadata": {},
   "outputs": [],
   "source": [
    "struct AddMerge\n",
    "    gamma\n",
    "    expand\n",
    "end\n",
    "\n",
    "Flux.@functor AddMerge\n",
    "\n",
    "function AddMerge(ch::Pair)\n",
    "    if ch.first == ch.second\n",
    "        expand = identity\n",
    "    else\n",
    "        expand = conv_block(ch, kernel_size=1, activation=identity)\n",
    "    end\n",
    "    AddMerge([0.f0], expand)\n",
    "end\n",
    "\n",
    "(m::AddMerge)(x1, x2) = relu.(m.gamma .* x1 .+ m.expand(x2))"
   ]
  },
  {
   "cell_type": "code",
   "execution_count": 22,
   "metadata": {},
   "outputs": [
    {
     "data": {
      "text/plain": [
       "residual_block (generic function with 1 method)"
      ]
     },
     "execution_count": 22,
     "metadata": {},
     "output_type": "execute_result"
    }
   ],
   "source": [
    "function residual_block(ch::Pair)\n",
    "    residual = basic_residual(ch)\n",
    "    SkipConnection(residual, AddMerge(ch))\n",
    "end"
   ]
  },
  {
   "cell_type": "code",
   "execution_count": 23,
   "metadata": {},
   "outputs": [
    {
     "data": {
      "text/plain": [
       "residual_stack (generic function with 1 method)"
      ]
     },
     "execution_count": 23,
     "metadata": {},
     "output_type": "execute_result"
    }
   ],
   "source": [
    "function residual_stack(in_channels, repetitions, downsamplings)\n",
    "    layers = []\n",
    "    res_channels = in_channels\n",
    "    for (rep, stride) in zip(repetitions, downsamplings)\n",
    "        if stride > 1\n",
    "            push!(layers, MaxPool((stride, stride)))\n",
    "        end\n",
    "        for i = 1:rep\n",
    "            push!(layers, residual_block(in_channels => res_channels))\n",
    "            in_channels = res_channels\n",
    "        end\n",
    "        res_channels *= 2\n",
    "    end\n",
    "    Chain(layers...)\n",
    "end"
   ]
  },
  {
   "cell_type": "code",
   "execution_count": 24,
   "metadata": {},
   "outputs": [
    {
     "data": {
      "text/plain": [
       "stem (generic function with 2 methods)"
      ]
     },
     "execution_count": 24,
     "metadata": {},
     "output_type": "execute_result"
    }
   ],
   "source": [
    "function stem(in_channels=3; channel_list = [32, 32, 64], stride=1)\n",
    "    layers = []\n",
    "    for channels in channel_list\n",
    "        push!(layers, conv_block(in_channels => channels, stride=stride))\n",
    "        in_channels = channels\n",
    "        stride=1\n",
    "    end\n",
    "    Chain(layers...)\n",
    "end"
   ]
  },
  {
   "cell_type": "code",
   "execution_count": 25,
   "metadata": {},
   "outputs": [
    {
     "data": {
      "text/plain": [
       "head (generic function with 2 methods)"
      ]
     },
     "execution_count": 25,
     "metadata": {},
     "output_type": "execute_result"
    }
   ],
   "source": [
    "function head(in_channels, classes, p_drop=0.)\n",
    "    Chain(GlobalMeanPool(),\n",
    "          flatten,\n",
    "          Dropout(p_drop),\n",
    "          Dense(in_channels, classes))\n",
    "end"
   ]
  },
  {
   "cell_type": "code",
   "execution_count": 26,
   "metadata": {},
   "outputs": [
    {
     "data": {
      "text/plain": [
       "resnet (generic function with 1 method)"
      ]
     },
     "execution_count": 26,
     "metadata": {},
     "output_type": "execute_result"
    }
   ],
   "source": [
    "function resnet(classes, repetitions, downsamplings; in_channels=3, p_drop=0.)\n",
    "    Chain(stem(in_channels, stride=downsamplings[1]),\n",
    "          residual_stack(64, repetitions, downsamplings[1:end]),\n",
    "          head(64 * 2^(length(repetitions) - 1), classes, p_drop))\n",
    "end"
   ]
  },
  {
   "cell_type": "code",
   "execution_count": 27,
   "metadata": {},
   "outputs": [],
   "source": [
    "model = resnet(10, [2, 2, 2, 2], [1, 1, 2, 2, 2], p_drop=0.3) |> gpu;"
   ]
  },
  {
   "cell_type": "markdown",
   "metadata": {
    "tags": []
   },
   "source": [
    "## Training"
   ]
  },
  {
   "cell_type": "markdown",
   "metadata": {},
   "source": [
    "### AdamW as in PyTorch"
   ]
  },
  {
   "cell_type": "markdown",
   "metadata": {},
   "source": [
    "Change AdamW optimiser to make weight decay proportional to the learning rate:"
   ]
  },
  {
   "cell_type": "code",
   "execution_count": 28,
   "metadata": {},
   "outputs": [],
   "source": [
    "mutable struct AdaptiveWeightDecay{O}\n",
    "    opt::O\n",
    "    wd::Real\n",
    "end\n",
    "\n",
    "function Flux.Optimise.apply!(o::AdaptiveWeightDecay, x, Δ)\n",
    "    opt = o.opt\n",
    "    Δ = Flux.Optimise.apply!(opt, x, Δ)\n",
    "    @. Δ += o.wd * opt.eta * x\n",
    "    return Δ\n",
    "end"
   ]
  },
  {
   "cell_type": "code",
   "execution_count": 29,
   "metadata": {},
   "outputs": [
    {
     "data": {
      "text/plain": [
       "FixedADAMW (generic function with 4 methods)"
      ]
     },
     "execution_count": 29,
     "metadata": {},
     "output_type": "execute_result"
    }
   ],
   "source": [
    "FixedADAMW(η = 0.001, β = (0.9, 0.999), decay = 0) = AdaptiveWeightDecay(Flux.ADAM(η, β), decay)"
   ]
  },
  {
   "cell_type": "markdown",
   "metadata": {},
   "source": [
    "### 1Cycle scheduler"
   ]
  },
  {
   "cell_type": "code",
   "execution_count": 30,
   "metadata": {},
   "outputs": [],
   "source": [
    "struct Cos2{T, S<:Integer}\n",
    "    r_start::T\n",
    "    r_end::T\n",
    "    period::S\n",
    "end\n",
    "\n",
    "(schedule::Cos2)(t) = schedule.r_end + (schedule.r_start - schedule.r_end) * (1 + cos(π * (t - 1) / schedule.period)) / 2\n",
    "\n",
    "Base.iterate(schedule::Cos2, t = 1) = schedule(t), t + 1"
   ]
  },
  {
   "cell_type": "code",
   "execution_count": 31,
   "metadata": {},
   "outputs": [],
   "source": [
    "struct SchedPair\n",
    "    sched1\n",
    "    sched2\n",
    "end\n",
    "\n",
    "(schedule::SchedPair)(t) = (schedule.sched1(t), schedule.sched2(t))\n",
    "\n",
    "Base.iterate(schedule::SchedPair, t = 1) = schedule(t), t + 1"
   ]
  },
  {
   "cell_type": "code",
   "execution_count": 32,
   "metadata": {},
   "outputs": [
    {
     "data": {
      "text/plain": [
       "one_cycle (generic function with 1 method)"
      ]
     },
     "execution_count": 32,
     "metadata": {},
     "output_type": "execute_result"
    }
   ],
   "source": [
    "function one_cycle(max_lr, total_steps; pct_start=0.3, div_factor=25., final_div_factor=1e4, max_m=0.95, base_m=0.85)\n",
    "    initial_lr = max_lr / div_factor\n",
    "    min_lr = initial_lr / final_div_factor\n",
    "    steps_up = floor(Int, pct_start * total_steps)\n",
    "    steps_down = total_steps - steps_up\n",
    "    SchedPair(\n",
    "        Sequence([Cos2(initial_lr, max_lr, steps_up), Cos2(max_lr, min_lr, steps_down)], [steps_up, steps_down]),\n",
    "        Sequence([Cos2(max_m, base_m, steps_up), Cos2(base_m, max_m, steps_down)], [steps_up, steps_down]))\n",
    "end"
   ]
  },
  {
   "cell_type": "code",
   "execution_count": 33,
   "metadata": {},
   "outputs": [
    {
     "data": {
      "text/plain": [
       "update_func (generic function with 1 method)"
      ]
     },
     "execution_count": 33,
     "metadata": {},
     "output_type": "execute_result"
    }
   ],
   "source": [
    "function update_func(o::AdaptiveWeightDecay{Flux.Optimise.ADAM}, s::Tuple{Float64,Float64})\n",
    "    opt = o.opt\n",
    "    opt.eta = s[1]\n",
    "    opt.beta = (s[2], opt.beta[2]) # Tuple is immutable, therefore it needs to be replaced entirely\n",
    "end"
   ]
  },
  {
   "cell_type": "code",
   "execution_count": 34,
   "metadata": {},
   "outputs": [],
   "source": [
    "sched = one_cycle(config.lr, config.epochs * length(train_loader));"
   ]
  },
  {
   "cell_type": "code",
   "execution_count": 35,
   "metadata": {},
   "outputs": [],
   "source": [
    "opt = ParameterSchedulers.Scheduler(sched, FixedADAMW(config.lr, (0.9, 0.999), config.wd), update_func);"
   ]
  },
  {
   "cell_type": "markdown",
   "metadata": {},
   "source": [
    "### Start Training"
   ]
  },
  {
   "cell_type": "code",
   "execution_count": 36,
   "metadata": {},
   "outputs": [],
   "source": [
    "loss(x, y) = Flux.logitcrossentropy(model(x), y);"
   ]
  },
  {
   "cell_type": "code",
   "execution_count": 37,
   "metadata": {},
   "outputs": [],
   "source": [
    "ps = params(model);"
   ]
  },
  {
   "cell_type": "code",
   "execution_count": 38,
   "metadata": {},
   "outputs": [
    {
     "data": {
      "text/plain": [
       "accuracy (generic function with 1 method)"
      ]
     },
     "execution_count": 38,
     "metadata": {},
     "output_type": "execute_result"
    }
   ],
   "source": [
    "function accuracy(model, data)\n",
    "    m = Mean()\n",
    "    for (x, y) in data\n",
    "        fit!(m, Flux.onecold(cpu(model(x)), 1:10) .== Flux.onecold(cpu(y), 1:10))\n",
    "    end\n",
    "    value(m)\n",
    "end"
   ]
  },
  {
   "cell_type": "code",
   "execution_count": 39,
   "metadata": {},
   "outputs": [],
   "source": [
    "evalcb = Flux.throttle(config.throttle) do\n",
    "    @printf \"Val accuracy: %.3f\\n\" accuracy(model, test_loader)\n",
    "end;"
   ]
  },
  {
   "cell_type": "code",
   "execution_count": 40,
   "metadata": {},
   "outputs": [
    {
     "name": "stderr",
     "output_type": "stream",
     "text": [
      "┌ Info: Epoch 1\n",
      "└ @ Main /home/julius/.julia/packages/Flux/qp1gc/src/optimise/train.jl:135\n"
     ]
    },
    {
     "name": "stdout",
     "output_type": "stream",
     "text": [
      "Val accuracy: 0.100\n",
      "Val accuracy: 0.426\n"
     ]
    },
    {
     "name": "stderr",
     "output_type": "stream",
     "text": [
      "┌ Info: Epoch 2\n",
      "└ @ Main /home/julius/.julia/packages/Flux/qp1gc/src/optimise/train.jl:135\n"
     ]
    },
    {
     "name": "stdout",
     "output_type": "stream",
     "text": [
      "Val accuracy: 0.501\n",
      "Val accuracy: 0.538\n"
     ]
    },
    {
     "name": "stderr",
     "output_type": "stream",
     "text": [
      "┌ Info: Epoch 3\n",
      "└ @ Main /home/julius/.julia/packages/Flux/qp1gc/src/optimise/train.jl:135\n"
     ]
    },
    {
     "name": "stdout",
     "output_type": "stream",
     "text": [
      "Val accuracy: 0.570\n",
      "Val accuracy: 0.573\n"
     ]
    },
    {
     "name": "stderr",
     "output_type": "stream",
     "text": [
      "┌ Info: Epoch 4\n",
      "└ @ Main /home/julius/.julia/packages/Flux/qp1gc/src/optimise/train.jl:135\n"
     ]
    },
    {
     "name": "stdout",
     "output_type": "stream",
     "text": [
      "Val accuracy: 0.625\n",
      "Val accuracy: 0.659\n"
     ]
    },
    {
     "name": "stderr",
     "output_type": "stream",
     "text": [
      "┌ Info: Epoch 5\n",
      "└ @ Main /home/julius/.julia/packages/Flux/qp1gc/src/optimise/train.jl:135\n"
     ]
    },
    {
     "name": "stdout",
     "output_type": "stream",
     "text": [
      "Val accuracy: 0.675\n",
      "Val accuracy: 0.698\n"
     ]
    },
    {
     "name": "stderr",
     "output_type": "stream",
     "text": [
      "┌ Info: Epoch 6\n",
      "└ @ Main /home/julius/.julia/packages/Flux/qp1gc/src/optimise/train.jl:135\n"
     ]
    },
    {
     "name": "stdout",
     "output_type": "stream",
     "text": [
      "Val accuracy: 0.654\n",
      "Val accuracy: 0.682\n"
     ]
    },
    {
     "name": "stderr",
     "output_type": "stream",
     "text": [
      "┌ Info: Epoch 7\n",
      "└ @ Main /home/julius/.julia/packages/Flux/qp1gc/src/optimise/train.jl:135\n"
     ]
    },
    {
     "name": "stdout",
     "output_type": "stream",
     "text": [
      "Val accuracy: 0.692\n",
      "Val accuracy: 0.741\n"
     ]
    },
    {
     "name": "stderr",
     "output_type": "stream",
     "text": [
      "┌ Info: Epoch 8\n",
      "└ @ Main /home/julius/.julia/packages/Flux/qp1gc/src/optimise/train.jl:135\n"
     ]
    },
    {
     "name": "stdout",
     "output_type": "stream",
     "text": [
      "Val accuracy: 0.735\n",
      "Val accuracy: 0.666\n"
     ]
    },
    {
     "name": "stderr",
     "output_type": "stream",
     "text": [
      "┌ Info: Epoch 9\n",
      "└ @ Main /home/julius/.julia/packages/Flux/qp1gc/src/optimise/train.jl:135\n"
     ]
    },
    {
     "name": "stdout",
     "output_type": "stream",
     "text": [
      "Val accuracy: 0.692\n",
      "Val accuracy: 0.761\n"
     ]
    },
    {
     "name": "stderr",
     "output_type": "stream",
     "text": [
      "┌ Info: Epoch 10\n",
      "└ @ Main /home/julius/.julia/packages/Flux/qp1gc/src/optimise/train.jl:135\n"
     ]
    },
    {
     "name": "stdout",
     "output_type": "stream",
     "text": [
      "Val accuracy: 0.769\n",
      "Val accuracy: 0.798\n"
     ]
    },
    {
     "name": "stderr",
     "output_type": "stream",
     "text": [
      "┌ Info: Epoch 11\n",
      "└ @ Main /home/julius/.julia/packages/Flux/qp1gc/src/optimise/train.jl:135\n"
     ]
    },
    {
     "name": "stdout",
     "output_type": "stream",
     "text": [
      "Val accuracy: 0.826\n",
      "Val accuracy: 0.782\n"
     ]
    },
    {
     "name": "stderr",
     "output_type": "stream",
     "text": [
      "┌ Info: Epoch 12\n",
      "└ @ Main /home/julius/.julia/packages/Flux/qp1gc/src/optimise/train.jl:135\n"
     ]
    },
    {
     "name": "stdout",
     "output_type": "stream",
     "text": [
      "Val accuracy: 0.817\n",
      "Val accuracy: 0.807\n",
      "Val accuracy: 0.823\n"
     ]
    },
    {
     "name": "stderr",
     "output_type": "stream",
     "text": [
      "┌ Info: Epoch 13\n",
      "└ @ Main /home/julius/.julia/packages/Flux/qp1gc/src/optimise/train.jl:135\n"
     ]
    },
    {
     "name": "stdout",
     "output_type": "stream",
     "text": [
      "Val accuracy: 0.833\n",
      "Val accuracy: 0.835\n"
     ]
    },
    {
     "name": "stderr",
     "output_type": "stream",
     "text": [
      "┌ Info: Epoch 14\n",
      "└ @ Main /home/julius/.julia/packages/Flux/qp1gc/src/optimise/train.jl:135\n"
     ]
    },
    {
     "name": "stdout",
     "output_type": "stream",
     "text": [
      "Val accuracy: 0.825\n",
      "Val accuracy: 0.823\n"
     ]
    },
    {
     "name": "stderr",
     "output_type": "stream",
     "text": [
      "┌ Info: Epoch 15\n",
      "└ @ Main /home/julius/.julia/packages/Flux/qp1gc/src/optimise/train.jl:135\n"
     ]
    },
    {
     "name": "stdout",
     "output_type": "stream",
     "text": [
      "Val accuracy: 0.841\n",
      "Val accuracy: 0.827\n"
     ]
    },
    {
     "name": "stderr",
     "output_type": "stream",
     "text": [
      "┌ Info: Epoch 16\n",
      "└ @ Main /home/julius/.julia/packages/Flux/qp1gc/src/optimise/train.jl:135\n"
     ]
    },
    {
     "name": "stdout",
     "output_type": "stream",
     "text": [
      "Val accuracy: 0.828\n",
      "Val accuracy: 0.843\n"
     ]
    },
    {
     "name": "stderr",
     "output_type": "stream",
     "text": [
      "┌ Info: Epoch 17\n",
      "└ @ Main /home/julius/.julia/packages/Flux/qp1gc/src/optimise/train.jl:135\n"
     ]
    },
    {
     "name": "stdout",
     "output_type": "stream",
     "text": [
      "Val accuracy: 0.856\n",
      "Val accuracy: 0.828\n"
     ]
    },
    {
     "name": "stderr",
     "output_type": "stream",
     "text": [
      "┌ Info: Epoch 18\n",
      "└ @ Main /home/julius/.julia/packages/Flux/qp1gc/src/optimise/train.jl:135\n"
     ]
    },
    {
     "name": "stdout",
     "output_type": "stream",
     "text": [
      "Val accuracy: 0.853\n",
      "Val accuracy: 0.836\n"
     ]
    },
    {
     "name": "stderr",
     "output_type": "stream",
     "text": [
      "┌ Info: Epoch 19\n",
      "└ @ Main /home/julius/.julia/packages/Flux/qp1gc/src/optimise/train.jl:135\n"
     ]
    },
    {
     "name": "stdout",
     "output_type": "stream",
     "text": [
      "Val accuracy: 0.855\n",
      "Val accuracy: 0.861\n"
     ]
    },
    {
     "name": "stderr",
     "output_type": "stream",
     "text": [
      "┌ Info: Epoch 20\n",
      "└ @ Main /home/julius/.julia/packages/Flux/qp1gc/src/optimise/train.jl:135\n"
     ]
    },
    {
     "name": "stdout",
     "output_type": "stream",
     "text": [
      "Val accuracy: 0.870\n",
      "Val accuracy: 0.884\n"
     ]
    },
    {
     "name": "stderr",
     "output_type": "stream",
     "text": [
      "┌ Info: Epoch 21\n",
      "└ @ Main /home/julius/.julia/packages/Flux/qp1gc/src/optimise/train.jl:135\n"
     ]
    },
    {
     "name": "stdout",
     "output_type": "stream",
     "text": [
      "Val accuracy: 0.869\n",
      "Val accuracy: 0.873\n"
     ]
    },
    {
     "name": "stderr",
     "output_type": "stream",
     "text": [
      "┌ Info: Epoch 22\n",
      "└ @ Main /home/julius/.julia/packages/Flux/qp1gc/src/optimise/train.jl:135\n"
     ]
    },
    {
     "name": "stdout",
     "output_type": "stream",
     "text": [
      "Val accuracy: 0.855\n",
      "Val accuracy: 0.880\n"
     ]
    },
    {
     "name": "stderr",
     "output_type": "stream",
     "text": [
      "┌ Info: Epoch 23\n",
      "└ @ Main /home/julius/.julia/packages/Flux/qp1gc/src/optimise/train.jl:135\n"
     ]
    },
    {
     "name": "stdout",
     "output_type": "stream",
     "text": [
      "Val accuracy: 0.852\n",
      "Val accuracy: 0.866\n"
     ]
    },
    {
     "name": "stderr",
     "output_type": "stream",
     "text": [
      "┌ Info: Epoch 24\n",
      "└ @ Main /home/julius/.julia/packages/Flux/qp1gc/src/optimise/train.jl:135\n"
     ]
    },
    {
     "name": "stdout",
     "output_type": "stream",
     "text": [
      "Val accuracy: 0.879\n",
      "Val accuracy: 0.893\n"
     ]
    },
    {
     "name": "stderr",
     "output_type": "stream",
     "text": [
      "┌ Info: Epoch 25\n",
      "└ @ Main /home/julius/.julia/packages/Flux/qp1gc/src/optimise/train.jl:135\n"
     ]
    },
    {
     "name": "stdout",
     "output_type": "stream",
     "text": [
      "Val accuracy: 0.896\n",
      "Val accuracy: 0.876\n"
     ]
    },
    {
     "name": "stderr",
     "output_type": "stream",
     "text": [
      "┌ Info: Epoch 26\n",
      "└ @ Main /home/julius/.julia/packages/Flux/qp1gc/src/optimise/train.jl:135\n"
     ]
    },
    {
     "name": "stdout",
     "output_type": "stream",
     "text": [
      "Val accuracy: 0.872\n",
      "Val accuracy: 0.901\n"
     ]
    },
    {
     "name": "stderr",
     "output_type": "stream",
     "text": [
      "┌ Info: Epoch 27\n",
      "└ @ Main /home/julius/.julia/packages/Flux/qp1gc/src/optimise/train.jl:135\n"
     ]
    },
    {
     "name": "stdout",
     "output_type": "stream",
     "text": [
      "Val accuracy: 0.900\n",
      "Val accuracy: 0.885\n"
     ]
    },
    {
     "name": "stderr",
     "output_type": "stream",
     "text": [
      "┌ Info: Epoch 28\n",
      "└ @ Main /home/julius/.julia/packages/Flux/qp1gc/src/optimise/train.jl:135\n"
     ]
    },
    {
     "name": "stdout",
     "output_type": "stream",
     "text": [
      "Val accuracy: 0.897\n",
      "Val accuracy: 0.900\n"
     ]
    },
    {
     "name": "stderr",
     "output_type": "stream",
     "text": [
      "┌ Info: Epoch 29\n",
      "└ @ Main /home/julius/.julia/packages/Flux/qp1gc/src/optimise/train.jl:135\n"
     ]
    },
    {
     "name": "stdout",
     "output_type": "stream",
     "text": [
      "Val accuracy: 0.897\n",
      "Val accuracy: 0.899\n"
     ]
    },
    {
     "name": "stderr",
     "output_type": "stream",
     "text": [
      "┌ Info: Epoch 30\n",
      "└ @ Main /home/julius/.julia/packages/Flux/qp1gc/src/optimise/train.jl:135\n"
     ]
    },
    {
     "name": "stdout",
     "output_type": "stream",
     "text": [
      "Val accuracy: 0.898\n",
      "Val accuracy: 0.912\n"
     ]
    },
    {
     "name": "stderr",
     "output_type": "stream",
     "text": [
      "┌ Info: Epoch 31\n",
      "└ @ Main /home/julius/.julia/packages/Flux/qp1gc/src/optimise/train.jl:135\n"
     ]
    },
    {
     "name": "stdout",
     "output_type": "stream",
     "text": [
      "Val accuracy: 0.906\n",
      "Val accuracy: 0.906\n"
     ]
    },
    {
     "name": "stderr",
     "output_type": "stream",
     "text": [
      "┌ Info: Epoch 32\n",
      "└ @ Main /home/julius/.julia/packages/Flux/qp1gc/src/optimise/train.jl:135\n"
     ]
    },
    {
     "name": "stdout",
     "output_type": "stream",
     "text": [
      "Val accuracy: 0.914\n",
      "Val accuracy: 0.912\n"
     ]
    },
    {
     "name": "stderr",
     "output_type": "stream",
     "text": [
      "┌ Info: Epoch 33\n",
      "└ @ Main /home/julius/.julia/packages/Flux/qp1gc/src/optimise/train.jl:135\n"
     ]
    },
    {
     "name": "stdout",
     "output_type": "stream",
     "text": [
      "Val accuracy: 0.917\n",
      "Val accuracy: 0.910\n"
     ]
    },
    {
     "name": "stderr",
     "output_type": "stream",
     "text": [
      "┌ Info: Epoch 34\n",
      "└ @ Main /home/julius/.julia/packages/Flux/qp1gc/src/optimise/train.jl:135\n"
     ]
    },
    {
     "name": "stdout",
     "output_type": "stream",
     "text": [
      "Val accuracy: 0.911\n",
      "Val accuracy: 0.899\n"
     ]
    },
    {
     "name": "stderr",
     "output_type": "stream",
     "text": [
      "┌ Info: Epoch 35\n",
      "└ @ Main /home/julius/.julia/packages/Flux/qp1gc/src/optimise/train.jl:135\n"
     ]
    },
    {
     "name": "stdout",
     "output_type": "stream",
     "text": [
      "Val accuracy: 0.917\n",
      "Val accuracy: 0.912\n"
     ]
    },
    {
     "name": "stderr",
     "output_type": "stream",
     "text": [
      "┌ Info: Epoch 36\n",
      "└ @ Main /home/julius/.julia/packages/Flux/qp1gc/src/optimise/train.jl:135\n"
     ]
    },
    {
     "name": "stdout",
     "output_type": "stream",
     "text": [
      "Val accuracy: 0.921\n",
      "Val accuracy: 0.919\n"
     ]
    },
    {
     "name": "stderr",
     "output_type": "stream",
     "text": [
      "┌ Info: Epoch 37\n",
      "└ @ Main /home/julius/.julia/packages/Flux/qp1gc/src/optimise/train.jl:135\n"
     ]
    },
    {
     "name": "stdout",
     "output_type": "stream",
     "text": [
      "Val accuracy: 0.917\n",
      "Val accuracy: 0.915\n"
     ]
    },
    {
     "name": "stderr",
     "output_type": "stream",
     "text": [
      "┌ Info: Epoch 38\n",
      "└ @ Main /home/julius/.julia/packages/Flux/qp1gc/src/optimise/train.jl:135\n"
     ]
    },
    {
     "name": "stdout",
     "output_type": "stream",
     "text": [
      "Val accuracy: 0.911\n",
      "Val accuracy: 0.912\n"
     ]
    },
    {
     "name": "stderr",
     "output_type": "stream",
     "text": [
      "┌ Info: Epoch 39\n",
      "└ @ Main /home/julius/.julia/packages/Flux/qp1gc/src/optimise/train.jl:135\n"
     ]
    },
    {
     "name": "stdout",
     "output_type": "stream",
     "text": [
      "Val accuracy: 0.921\n",
      "Val accuracy: 0.919\n"
     ]
    },
    {
     "name": "stderr",
     "output_type": "stream",
     "text": [
      "┌ Info: Epoch 40\n",
      "└ @ Main /home/julius/.julia/packages/Flux/qp1gc/src/optimise/train.jl:135\n"
     ]
    },
    {
     "name": "stdout",
     "output_type": "stream",
     "text": [
      "Val accuracy: 0.911\n",
      "Val accuracy: 0.921\n"
     ]
    },
    {
     "name": "stderr",
     "output_type": "stream",
     "text": [
      "┌ Info: Epoch 41\n",
      "└ @ Main /home/julius/.julia/packages/Flux/qp1gc/src/optimise/train.jl:135\n"
     ]
    },
    {
     "name": "stdout",
     "output_type": "stream",
     "text": [
      "Val accuracy: 0.917\n",
      "Val accuracy: 0.920\n"
     ]
    },
    {
     "name": "stderr",
     "output_type": "stream",
     "text": [
      "┌ Info: Epoch 42\n",
      "└ @ Main /home/julius/.julia/packages/Flux/qp1gc/src/optimise/train.jl:135\n"
     ]
    },
    {
     "name": "stdout",
     "output_type": "stream",
     "text": [
      "Val accuracy: 0.915\n",
      "Val accuracy: 0.921\n"
     ]
    },
    {
     "name": "stderr",
     "output_type": "stream",
     "text": [
      "┌ Info: Epoch 43\n",
      "└ @ Main /home/julius/.julia/packages/Flux/qp1gc/src/optimise/train.jl:135\n"
     ]
    },
    {
     "name": "stdout",
     "output_type": "stream",
     "text": [
      "Val accuracy: 0.924\n",
      "Val accuracy: 0.924\n"
     ]
    },
    {
     "name": "stderr",
     "output_type": "stream",
     "text": [
      "┌ Info: Epoch 44\n",
      "└ @ Main /home/julius/.julia/packages/Flux/qp1gc/src/optimise/train.jl:135\n"
     ]
    },
    {
     "name": "stdout",
     "output_type": "stream",
     "text": [
      "Val accuracy: 0.924\n",
      "Val accuracy: 0.929\n"
     ]
    },
    {
     "name": "stderr",
     "output_type": "stream",
     "text": [
      "┌ Info: Epoch 45\n",
      "└ @ Main /home/julius/.julia/packages/Flux/qp1gc/src/optimise/train.jl:135\n"
     ]
    },
    {
     "name": "stdout",
     "output_type": "stream",
     "text": [
      "Val accuracy: 0.920\n",
      "Val accuracy: 0.919\n"
     ]
    },
    {
     "name": "stderr",
     "output_type": "stream",
     "text": [
      "┌ Info: Epoch 46\n",
      "└ @ Main /home/julius/.julia/packages/Flux/qp1gc/src/optimise/train.jl:135\n"
     ]
    },
    {
     "name": "stdout",
     "output_type": "stream",
     "text": [
      "Val accuracy: 0.919\n",
      "Val accuracy: 0.926\n"
     ]
    },
    {
     "name": "stderr",
     "output_type": "stream",
     "text": [
      "┌ Info: Epoch 47\n",
      "└ @ Main /home/julius/.julia/packages/Flux/qp1gc/src/optimise/train.jl:135\n"
     ]
    },
    {
     "name": "stdout",
     "output_type": "stream",
     "text": [
      "Val accuracy: 0.918\n",
      "Val accuracy: 0.923\n"
     ]
    },
    {
     "name": "stderr",
     "output_type": "stream",
     "text": [
      "┌ Info: Epoch 48\n",
      "└ @ Main /home/julius/.julia/packages/Flux/qp1gc/src/optimise/train.jl:135\n"
     ]
    },
    {
     "name": "stdout",
     "output_type": "stream",
     "text": [
      "Val accuracy: 0.925\n",
      "Val accuracy: 0.922\n",
      "Val accuracy: 0.926\n"
     ]
    },
    {
     "name": "stderr",
     "output_type": "stream",
     "text": [
      "┌ Info: Epoch 49\n",
      "└ @ Main /home/julius/.julia/packages/Flux/qp1gc/src/optimise/train.jl:135\n"
     ]
    },
    {
     "name": "stdout",
     "output_type": "stream",
     "text": [
      "Val accuracy: 0.928\n",
      "Val accuracy: 0.924\n"
     ]
    },
    {
     "name": "stderr",
     "output_type": "stream",
     "text": [
      "┌ Info: Epoch 50\n",
      "└ @ Main /home/julius/.julia/packages/Flux/qp1gc/src/optimise/train.jl:135\n"
     ]
    },
    {
     "name": "stdout",
     "output_type": "stream",
     "text": [
      "Val accuracy: 0.927\n",
      "Val accuracy: 0.923\n"
     ]
    },
    {
     "name": "stderr",
     "output_type": "stream",
     "text": [
      "┌ Info: Epoch 51\n",
      "└ @ Main /home/julius/.julia/packages/Flux/qp1gc/src/optimise/train.jl:135\n"
     ]
    },
    {
     "name": "stdout",
     "output_type": "stream",
     "text": [
      "Val accuracy: 0.923\n",
      "Val accuracy: 0.925\n"
     ]
    },
    {
     "name": "stderr",
     "output_type": "stream",
     "text": [
      "┌ Info: Epoch 52\n",
      "└ @ Main /home/julius/.julia/packages/Flux/qp1gc/src/optimise/train.jl:135\n"
     ]
    },
    {
     "name": "stdout",
     "output_type": "stream",
     "text": [
      "Val accuracy: 0.931\n"
     ]
    },
    {
     "name": "stderr",
     "output_type": "stream",
     "text": [
      "┌ Info: Epoch 53\n",
      "└ @ Main /home/julius/.julia/packages/Flux/qp1gc/src/optimise/train.jl:135\n"
     ]
    },
    {
     "name": "stdout",
     "output_type": "stream",
     "text": [
      "Val accuracy: 0.928\n",
      "Val accuracy: 0.928\n",
      "Val accuracy: 0.933\n"
     ]
    },
    {
     "name": "stderr",
     "output_type": "stream",
     "text": [
      "┌ Info: Epoch 54\n",
      "└ @ Main /home/julius/.julia/packages/Flux/qp1gc/src/optimise/train.jl:135\n"
     ]
    },
    {
     "name": "stdout",
     "output_type": "stream",
     "text": [
      "Val accuracy: 0.929\n",
      "Val accuracy: 0.930\n"
     ]
    },
    {
     "name": "stderr",
     "output_type": "stream",
     "text": [
      "┌ Info: Epoch 55\n",
      "└ @ Main /home/julius/.julia/packages/Flux/qp1gc/src/optimise/train.jl:135\n"
     ]
    },
    {
     "name": "stdout",
     "output_type": "stream",
     "text": [
      "Val accuracy: 0.925\n",
      "Val accuracy: 0.926\n"
     ]
    },
    {
     "name": "stderr",
     "output_type": "stream",
     "text": [
      "┌ Info: Epoch 56\n",
      "└ @ Main /home/julius/.julia/packages/Flux/qp1gc/src/optimise/train.jl:135\n"
     ]
    },
    {
     "name": "stdout",
     "output_type": "stream",
     "text": [
      "Val accuracy: 0.934\n",
      "Val accuracy: 0.932\n"
     ]
    },
    {
     "name": "stderr",
     "output_type": "stream",
     "text": [
      "┌ Info: Epoch 57\n",
      "└ @ Main /home/julius/.julia/packages/Flux/qp1gc/src/optimise/train.jl:135\n"
     ]
    },
    {
     "name": "stdout",
     "output_type": "stream",
     "text": [
      "Val accuracy: 0.928\n",
      "Val accuracy: 0.926\n"
     ]
    },
    {
     "name": "stderr",
     "output_type": "stream",
     "text": [
      "┌ Info: Epoch 58\n",
      "└ @ Main /home/julius/.julia/packages/Flux/qp1gc/src/optimise/train.jl:135\n"
     ]
    },
    {
     "name": "stdout",
     "output_type": "stream",
     "text": [
      "Val accuracy: 0.934\n",
      "Val accuracy: 0.930\n"
     ]
    },
    {
     "name": "stderr",
     "output_type": "stream",
     "text": [
      "┌ Info: Epoch 59\n",
      "└ @ Main /home/julius/.julia/packages/Flux/qp1gc/src/optimise/train.jl:135\n"
     ]
    },
    {
     "name": "stdout",
     "output_type": "stream",
     "text": [
      "Val accuracy: 0.934\n",
      "Val accuracy: 0.926\n"
     ]
    },
    {
     "name": "stderr",
     "output_type": "stream",
     "text": [
      "┌ Info: Epoch 60\n",
      "└ @ Main /home/julius/.julia/packages/Flux/qp1gc/src/optimise/train.jl:135\n"
     ]
    },
    {
     "name": "stdout",
     "output_type": "stream",
     "text": [
      "Val accuracy: 0.930\n",
      "Val accuracy: 0.929\n"
     ]
    },
    {
     "name": "stderr",
     "output_type": "stream",
     "text": [
      "┌ Info: Epoch 61\n",
      "└ @ Main /home/julius/.julia/packages/Flux/qp1gc/src/optimise/train.jl:135\n"
     ]
    },
    {
     "name": "stdout",
     "output_type": "stream",
     "text": [
      "Val accuracy: 0.935\n",
      "Val accuracy: 0.926\n"
     ]
    },
    {
     "name": "stderr",
     "output_type": "stream",
     "text": [
      "┌ Info: Epoch 62\n",
      "└ @ Main /home/julius/.julia/packages/Flux/qp1gc/src/optimise/train.jl:135\n"
     ]
    },
    {
     "name": "stdout",
     "output_type": "stream",
     "text": [
      "Val accuracy: 0.933\n",
      "Val accuracy: 0.933\n"
     ]
    },
    {
     "name": "stderr",
     "output_type": "stream",
     "text": [
      "┌ Info: Epoch 63\n",
      "└ @ Main /home/julius/.julia/packages/Flux/qp1gc/src/optimise/train.jl:135\n"
     ]
    },
    {
     "name": "stdout",
     "output_type": "stream",
     "text": [
      "Val accuracy: 0.930\n",
      "Val accuracy: 0.934\n"
     ]
    },
    {
     "name": "stderr",
     "output_type": "stream",
     "text": [
      "┌ Info: Epoch 64\n",
      "└ @ Main /home/julius/.julia/packages/Flux/qp1gc/src/optimise/train.jl:135\n"
     ]
    },
    {
     "name": "stdout",
     "output_type": "stream",
     "text": [
      "Val accuracy: 0.932\n",
      "Val accuracy: 0.933\n"
     ]
    },
    {
     "name": "stderr",
     "output_type": "stream",
     "text": [
      "┌ Info: Epoch 65\n",
      "└ @ Main /home/julius/.julia/packages/Flux/qp1gc/src/optimise/train.jl:135\n"
     ]
    },
    {
     "name": "stdout",
     "output_type": "stream",
     "text": [
      "Val accuracy: 0.936\n",
      "Val accuracy: 0.932\n",
      "Val accuracy: 0.932\n"
     ]
    },
    {
     "name": "stderr",
     "output_type": "stream",
     "text": [
      "┌ Info: Epoch 66\n",
      "└ @ Main /home/julius/.julia/packages/Flux/qp1gc/src/optimise/train.jl:135\n"
     ]
    },
    {
     "name": "stdout",
     "output_type": "stream",
     "text": [
      "Val accuracy: 0.931\n",
      "Val accuracy: 0.934\n"
     ]
    },
    {
     "name": "stderr",
     "output_type": "stream",
     "text": [
      "┌ Info: Epoch 67\n",
      "└ @ Main /home/julius/.julia/packages/Flux/qp1gc/src/optimise/train.jl:135\n"
     ]
    },
    {
     "name": "stdout",
     "output_type": "stream",
     "text": [
      "Val accuracy: 0.928\n",
      "Val accuracy: 0.936\n"
     ]
    },
    {
     "name": "stderr",
     "output_type": "stream",
     "text": [
      "┌ Info: Epoch 68\n",
      "└ @ Main /home/julius/.julia/packages/Flux/qp1gc/src/optimise/train.jl:135\n"
     ]
    },
    {
     "name": "stdout",
     "output_type": "stream",
     "text": [
      "Val accuracy: 0.937\n",
      "Val accuracy: 0.939\n"
     ]
    },
    {
     "name": "stderr",
     "output_type": "stream",
     "text": [
      "┌ Info: Epoch 69\n",
      "└ @ Main /home/julius/.julia/packages/Flux/qp1gc/src/optimise/train.jl:135\n"
     ]
    },
    {
     "name": "stdout",
     "output_type": "stream",
     "text": [
      "Val accuracy: 0.932\n",
      "Val accuracy: 0.935\n"
     ]
    },
    {
     "name": "stderr",
     "output_type": "stream",
     "text": [
      "┌ Info: Epoch 70\n",
      "└ @ Main /home/julius/.julia/packages/Flux/qp1gc/src/optimise/train.jl:135\n"
     ]
    },
    {
     "name": "stdout",
     "output_type": "stream",
     "text": [
      "Val accuracy: 0.931\n",
      "Val accuracy: 0.935\n"
     ]
    },
    {
     "name": "stderr",
     "output_type": "stream",
     "text": [
      "┌ Info: Epoch 71\n",
      "└ @ Main /home/julius/.julia/packages/Flux/qp1gc/src/optimise/train.jl:135\n"
     ]
    },
    {
     "name": "stdout",
     "output_type": "stream",
     "text": [
      "Val accuracy: 0.939\n",
      "Val accuracy: 0.931\n"
     ]
    },
    {
     "name": "stderr",
     "output_type": "stream",
     "text": [
      "┌ Info: Epoch 72\n",
      "└ @ Main /home/julius/.julia/packages/Flux/qp1gc/src/optimise/train.jl:135\n"
     ]
    },
    {
     "name": "stdout",
     "output_type": "stream",
     "text": [
      "Val accuracy: 0.936\n",
      "Val accuracy: 0.934\n"
     ]
    },
    {
     "name": "stderr",
     "output_type": "stream",
     "text": [
      "┌ Info: Epoch 73\n",
      "└ @ Main /home/julius/.julia/packages/Flux/qp1gc/src/optimise/train.jl:135\n"
     ]
    },
    {
     "name": "stdout",
     "output_type": "stream",
     "text": [
      "Val accuracy: 0.937\n",
      "Val accuracy: 0.937\n"
     ]
    },
    {
     "name": "stderr",
     "output_type": "stream",
     "text": [
      "┌ Info: Epoch 74\n",
      "└ @ Main /home/julius/.julia/packages/Flux/qp1gc/src/optimise/train.jl:135\n"
     ]
    },
    {
     "name": "stdout",
     "output_type": "stream",
     "text": [
      "Val accuracy: 0.939\n",
      "Val accuracy: 0.936\n"
     ]
    },
    {
     "name": "stderr",
     "output_type": "stream",
     "text": [
      "┌ Info: Epoch 75\n",
      "└ @ Main /home/julius/.julia/packages/Flux/qp1gc/src/optimise/train.jl:135\n"
     ]
    },
    {
     "name": "stdout",
     "output_type": "stream",
     "text": [
      "Val accuracy: 0.937\n",
      "Val accuracy: 0.938\n"
     ]
    },
    {
     "name": "stderr",
     "output_type": "stream",
     "text": [
      "┌ Info: Epoch 76\n",
      "└ @ Main /home/julius/.julia/packages/Flux/qp1gc/src/optimise/train.jl:135\n"
     ]
    },
    {
     "name": "stdout",
     "output_type": "stream",
     "text": [
      "Val accuracy: 0.938\n",
      "Val accuracy: 0.940\n"
     ]
    },
    {
     "name": "stderr",
     "output_type": "stream",
     "text": [
      "┌ Info: Epoch 77\n",
      "└ @ Main /home/julius/.julia/packages/Flux/qp1gc/src/optimise/train.jl:135\n"
     ]
    },
    {
     "name": "stdout",
     "output_type": "stream",
     "text": [
      "Val accuracy: 0.940\n",
      "Val accuracy: 0.942\n"
     ]
    },
    {
     "name": "stderr",
     "output_type": "stream",
     "text": [
      "┌ Info: Epoch 78\n",
      "└ @ Main /home/julius/.julia/packages/Flux/qp1gc/src/optimise/train.jl:135\n"
     ]
    },
    {
     "name": "stdout",
     "output_type": "stream",
     "text": [
      "Val accuracy: 0.938\n",
      "Val accuracy: 0.941\n"
     ]
    },
    {
     "name": "stderr",
     "output_type": "stream",
     "text": [
      "┌ Info: Epoch 79\n",
      "└ @ Main /home/julius/.julia/packages/Flux/qp1gc/src/optimise/train.jl:135\n"
     ]
    },
    {
     "name": "stdout",
     "output_type": "stream",
     "text": [
      "Val accuracy: 0.941\n",
      "Val accuracy: 0.939\n"
     ]
    },
    {
     "name": "stderr",
     "output_type": "stream",
     "text": [
      "┌ Info: Epoch 80\n",
      "└ @ Main /home/julius/.julia/packages/Flux/qp1gc/src/optimise/train.jl:135\n"
     ]
    },
    {
     "name": "stdout",
     "output_type": "stream",
     "text": [
      "Val accuracy: 0.940\n",
      "Val accuracy: 0.940\n"
     ]
    },
    {
     "name": "stderr",
     "output_type": "stream",
     "text": [
      "┌ Info: Epoch 81\n",
      "└ @ Main /home/julius/.julia/packages/Flux/qp1gc/src/optimise/train.jl:135\n"
     ]
    },
    {
     "name": "stdout",
     "output_type": "stream",
     "text": [
      "Val accuracy: 0.939\n",
      "Val accuracy: 0.943\n"
     ]
    },
    {
     "name": "stderr",
     "output_type": "stream",
     "text": [
      "┌ Info: Epoch 82\n",
      "└ @ Main /home/julius/.julia/packages/Flux/qp1gc/src/optimise/train.jl:135\n"
     ]
    },
    {
     "name": "stdout",
     "output_type": "stream",
     "text": [
      "Val accuracy: 0.941\n",
      "Val accuracy: 0.940\n"
     ]
    },
    {
     "name": "stderr",
     "output_type": "stream",
     "text": [
      "┌ Info: Epoch 83\n",
      "└ @ Main /home/julius/.julia/packages/Flux/qp1gc/src/optimise/train.jl:135\n"
     ]
    },
    {
     "name": "stdout",
     "output_type": "stream",
     "text": [
      "Val accuracy: 0.943\n",
      "Val accuracy: 0.942\n"
     ]
    },
    {
     "name": "stderr",
     "output_type": "stream",
     "text": [
      "┌ Info: Epoch 84\n",
      "└ @ Main /home/julius/.julia/packages/Flux/qp1gc/src/optimise/train.jl:135\n"
     ]
    },
    {
     "name": "stdout",
     "output_type": "stream",
     "text": [
      "Val accuracy: 0.942\n",
      "Val accuracy: 0.943\n"
     ]
    },
    {
     "name": "stderr",
     "output_type": "stream",
     "text": [
      "┌ Info: Epoch 85\n",
      "└ @ Main /home/julius/.julia/packages/Flux/qp1gc/src/optimise/train.jl:135\n"
     ]
    },
    {
     "name": "stdout",
     "output_type": "stream",
     "text": [
      "Val accuracy: 0.945\n",
      "Val accuracy: 0.944\n",
      "Val accuracy: 0.945\n"
     ]
    },
    {
     "name": "stderr",
     "output_type": "stream",
     "text": [
      "┌ Info: Epoch 86\n",
      "└ @ Main /home/julius/.julia/packages/Flux/qp1gc/src/optimise/train.jl:135\n"
     ]
    },
    {
     "name": "stdout",
     "output_type": "stream",
     "text": [
      "Val accuracy: 0.944\n",
      "Val accuracy: 0.946\n"
     ]
    },
    {
     "name": "stderr",
     "output_type": "stream",
     "text": [
      "┌ Info: Epoch 87\n",
      "└ @ Main /home/julius/.julia/packages/Flux/qp1gc/src/optimise/train.jl:135\n"
     ]
    },
    {
     "name": "stdout",
     "output_type": "stream",
     "text": [
      "Val accuracy: 0.944\n",
      "Val accuracy: 0.946\n"
     ]
    },
    {
     "name": "stderr",
     "output_type": "stream",
     "text": [
      "┌ Info: Epoch 88\n",
      "└ @ Main /home/julius/.julia/packages/Flux/qp1gc/src/optimise/train.jl:135\n"
     ]
    },
    {
     "name": "stdout",
     "output_type": "stream",
     "text": [
      "Val accuracy: 0.945\n",
      "Val accuracy: 0.943\n"
     ]
    },
    {
     "name": "stderr",
     "output_type": "stream",
     "text": [
      "┌ Info: Epoch 89\n",
      "└ @ Main /home/julius/.julia/packages/Flux/qp1gc/src/optimise/train.jl:135\n"
     ]
    },
    {
     "name": "stdout",
     "output_type": "stream",
     "text": [
      "Val accuracy: 0.944\n",
      "Val accuracy: 0.946\n"
     ]
    },
    {
     "name": "stderr",
     "output_type": "stream",
     "text": [
      "┌ Info: Epoch 90\n",
      "└ @ Main /home/julius/.julia/packages/Flux/qp1gc/src/optimise/train.jl:135\n"
     ]
    },
    {
     "name": "stdout",
     "output_type": "stream",
     "text": [
      "Val accuracy: 0.947\n",
      "Val accuracy: 0.947\n"
     ]
    },
    {
     "name": "stderr",
     "output_type": "stream",
     "text": [
      "┌ Info: Epoch 91\n",
      "└ @ Main /home/julius/.julia/packages/Flux/qp1gc/src/optimise/train.jl:135\n"
     ]
    },
    {
     "name": "stdout",
     "output_type": "stream",
     "text": [
      "Val accuracy: 0.946\n",
      "Val accuracy: 0.947\n",
      "Val accuracy: 0.948\n"
     ]
    },
    {
     "name": "stderr",
     "output_type": "stream",
     "text": [
      "┌ Info: Epoch 92\n",
      "└ @ Main /home/julius/.julia/packages/Flux/qp1gc/src/optimise/train.jl:135\n"
     ]
    },
    {
     "name": "stdout",
     "output_type": "stream",
     "text": [
      "Val accuracy: 0.947\n",
      "Val accuracy: 0.946\n"
     ]
    },
    {
     "name": "stderr",
     "output_type": "stream",
     "text": [
      "┌ Info: Epoch 93\n",
      "└ @ Main /home/julius/.julia/packages/Flux/qp1gc/src/optimise/train.jl:135\n"
     ]
    },
    {
     "name": "stdout",
     "output_type": "stream",
     "text": [
      "Val accuracy: 0.948\n",
      "Val accuracy: 0.948\n"
     ]
    },
    {
     "name": "stderr",
     "output_type": "stream",
     "text": [
      "┌ Info: Epoch 94\n",
      "└ @ Main /home/julius/.julia/packages/Flux/qp1gc/src/optimise/train.jl:135\n"
     ]
    },
    {
     "name": "stdout",
     "output_type": "stream",
     "text": [
      "Val accuracy: 0.947\n",
      "Val accuracy: 0.948\n"
     ]
    },
    {
     "name": "stderr",
     "output_type": "stream",
     "text": [
      "┌ Info: Epoch 95\n",
      "└ @ Main /home/julius/.julia/packages/Flux/qp1gc/src/optimise/train.jl:135\n"
     ]
    },
    {
     "name": "stdout",
     "output_type": "stream",
     "text": [
      "Val accuracy: 0.946\n",
      "Val accuracy: 0.948\n"
     ]
    },
    {
     "name": "stderr",
     "output_type": "stream",
     "text": [
      "┌ Info: Epoch 96\n",
      "└ @ Main /home/julius/.julia/packages/Flux/qp1gc/src/optimise/train.jl:135\n"
     ]
    },
    {
     "name": "stdout",
     "output_type": "stream",
     "text": [
      "Val accuracy: 0.947\n",
      "Val accuracy: 0.947\n"
     ]
    },
    {
     "name": "stderr",
     "output_type": "stream",
     "text": [
      "┌ Info: Epoch 97\n",
      "└ @ Main /home/julius/.julia/packages/Flux/qp1gc/src/optimise/train.jl:135\n"
     ]
    },
    {
     "name": "stdout",
     "output_type": "stream",
     "text": [
      "Val accuracy: 0.948\n",
      "Val accuracy: 0.948\n"
     ]
    },
    {
     "name": "stderr",
     "output_type": "stream",
     "text": [
      "┌ Info: Epoch 98\n",
      "└ @ Main /home/julius/.julia/packages/Flux/qp1gc/src/optimise/train.jl:135\n"
     ]
    },
    {
     "name": "stdout",
     "output_type": "stream",
     "text": [
      "Val accuracy: 0.948\n",
      "Val accuracy: 0.947\n"
     ]
    },
    {
     "name": "stderr",
     "output_type": "stream",
     "text": [
      "┌ Info: Epoch 99\n",
      "└ @ Main /home/julius/.julia/packages/Flux/qp1gc/src/optimise/train.jl:135\n"
     ]
    },
    {
     "name": "stdout",
     "output_type": "stream",
     "text": [
      "Val accuracy: 0.947\n",
      "Val accuracy: 0.948\n"
     ]
    },
    {
     "name": "stderr",
     "output_type": "stream",
     "text": [
      "┌ Info: Epoch 100\n",
      "└ @ Main /home/julius/.julia/packages/Flux/qp1gc/src/optimise/train.jl:135\n"
     ]
    },
    {
     "name": "stdout",
     "output_type": "stream",
     "text": [
      "Val accuracy: 0.949\n",
      "Val accuracy: 0.947\n"
     ]
    }
   ],
   "source": [
    "Flux.@epochs config.epochs Flux.train!(loss, ps, train_loader, opt, cb=evalcb)"
   ]
  }
 ],
 "metadata": {
  "kernelspec": {
   "display_name": "Julia 1.6.1",
   "language": "julia",
   "name": "julia-1.6"
  },
  "language_info": {
   "file_extension": ".jl",
   "mimetype": "application/julia",
   "name": "julia",
   "version": "1.6.1"
  }
 },
 "nbformat": 4,
 "nbformat_minor": 4
}
