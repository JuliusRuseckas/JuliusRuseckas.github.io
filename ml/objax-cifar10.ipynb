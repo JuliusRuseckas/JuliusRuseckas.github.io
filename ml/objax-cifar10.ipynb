{
 "cells": [
  {
   "cell_type": "markdown",
   "id": "7c9f5df4-f39e-41a1-8528-6e80856b163d",
   "metadata": {},
   "source": [
    "# CIFAR10 classification using Objax"
   ]
  },
  {
   "cell_type": "markdown",
   "id": "3eb4a429-9832-48fe-8934-a733327e9a72",
   "metadata": {},
   "source": [
    "[Objax](https://objax.readthedocs.io/en/latest/) is an open source machine learning framework that accelerates research and learning thanks to a minimalist object-oriented design and a readable code base."
   ]
  },
  {
   "cell_type": "markdown",
   "id": "3aee0822-dc3c-4f55-84c5-68826b70d267",
   "metadata": {},
   "source": [
    "GitHub repo: https://github.com/google/objax"
   ]
  },
  {
   "cell_type": "markdown",
   "id": "9934fb33-b7dc-495b-bbb1-ad7f1b957ff9",
   "metadata": {},
   "source": [
    "## Configuration"
   ]
  },
  {
   "cell_type": "markdown",
   "id": "7fb404d0-6f0d-478c-b1ff-ec5171c533a5",
   "metadata": {},
   "source": [
    "Imports"
   ]
  },
  {
   "cell_type": "code",
   "execution_count": 1,
   "id": "6ade4e8b-591c-4f46-8bb7-8b6bb75e16b8",
   "metadata": {},
   "outputs": [],
   "source": [
    "from collections import defaultdict\n",
    "from functools import partial\n",
    "import numpy as np\n",
    "import matplotlib.pyplot as plt\n",
    "\n",
    "import jax\n",
    "import jax.numpy as jnp\n",
    "\n",
    "import objax\n",
    "\n",
    "import torch\n",
    "from torchvision import datasets, transforms"
   ]
  },
  {
   "cell_type": "code",
   "execution_count": 2,
   "id": "7f4681f2-2c77-4a5e-a044-35319ae07030",
   "metadata": {},
   "outputs": [
    {
     "data": {
      "text/plain": [
       "[GpuDevice(id=0, process_index=0)]"
      ]
     },
     "execution_count": 2,
     "metadata": {},
     "output_type": "execute_result"
    }
   ],
   "source": [
    "jax.local_devices()"
   ]
  },
  {
   "cell_type": "markdown",
   "id": "59001cef-3104-4591-891a-d6202428572a",
   "metadata": {},
   "source": [
    "Configuration"
   ]
  },
  {
   "cell_type": "code",
   "execution_count": 3,
   "id": "b02b0cd3-e4c7-46ea-9fb9-28dbf217ebb3",
   "metadata": {},
   "outputs": [],
   "source": [
    "DATA_DIR='./data'\n",
    "\n",
    "IMAGE_SIZE = 32\n",
    "\n",
    "NUM_CLASSES = 10\n",
    "BATCH_SIZE = 32\n",
    "EPOCHS = 50\n",
    "\n",
    "LEARNING_RATE = 1e-3"
   ]
  },
  {
   "cell_type": "markdown",
   "id": "cd0ef4e9-bc00-4bb7-9065-45ecf9d1d98c",
   "metadata": {},
   "source": [
    "## Data"
   ]
  },
  {
   "cell_type": "code",
   "execution_count": 4,
   "id": "71ccd933-d3f9-4b8e-b3a8-dbbec1d6f646",
   "metadata": {},
   "outputs": [],
   "source": [
    "train_transform = transforms.Compose([\n",
    "    transforms.RandomHorizontalFlip(),\n",
    "    transforms.RandomCrop(IMAGE_SIZE, padding=4),\n",
    "    transforms.ColorJitter(brightness=0.2, contrast=0.2, saturation=0.2),\n",
    "    transforms.ToTensor()\n",
    "])"
   ]
  },
  {
   "cell_type": "code",
   "execution_count": 5,
   "id": "24d71f05-bf6e-4e5b-bcd1-aac9f12a4971",
   "metadata": {},
   "outputs": [
    {
     "name": "stdout",
     "output_type": "stream",
     "text": [
      "Files already downloaded and verified\n",
      "Files already downloaded and verified\n"
     ]
    }
   ],
   "source": [
    "train_dset = datasets.CIFAR10(root=DATA_DIR, train=True, download=True, transform=train_transform)\n",
    "val_dset = datasets.CIFAR10(root=DATA_DIR, train=False, download=True, transform=transforms.ToTensor())"
   ]
  },
  {
   "cell_type": "code",
   "execution_count": 6,
   "id": "1f64ab7f-cb60-403e-81d8-36cf0bfd8396",
   "metadata": {},
   "outputs": [],
   "source": [
    "train_loader = torch.utils.data.DataLoader(train_dset, batch_size=BATCH_SIZE, shuffle=True)\n",
    "val_loader = torch.utils.data.DataLoader(val_dset, batch_size=BATCH_SIZE, shuffle=False)"
   ]
  },
  {
   "cell_type": "markdown",
   "id": "b12f0c39-f8eb-4a07-8e49-7657ba9625de",
   "metadata": {},
   "source": [
    "## Model"
   ]
  },
  {
   "cell_type": "markdown",
   "id": "4e7febb7-effd-4cda-a6b5-5de5c837f7ca",
   "metadata": {},
   "source": [
    "Utilities"
   ]
  },
  {
   "cell_type": "code",
   "execution_count": 7,
   "id": "0317a521-4dd4-4a47-90c0-2456c74a7c2e",
   "metadata": {},
   "outputs": [],
   "source": [
    "class ConvBlock(objax.Module):\n",
    "    def __init__(self, in_channels, out_channels, kernel_size=3, stride=1, act=True):\n",
    "        super().__init__()\n",
    "        self.conv = objax.nn.Conv2D(in_channels, out_channels, kernel_size, strides=stride,\n",
    "                                    padding=objax.ConvPadding.SAME, use_bias=False,\n",
    "                                    w_init=objax.nn.init.kaiming_normal)\n",
    "        self.norm = objax.nn.BatchNorm2D(out_channels, momentum=0.9, eps=1e-5)\n",
    "        self.act = act\n",
    "    \n",
    "    def __call__(self, x, training):\n",
    "        out = self.conv(x)\n",
    "        out = self.norm(out, training=training)\n",
    "        if self.act:\n",
    "            out = objax.functional.swish(out)\n",
    "        return out"
   ]
  },
  {
   "cell_type": "markdown",
   "id": "bcee2f5a-728e-4a7d-90d0-616e67132c08",
   "metadata": {},
   "source": [
    "Residual block"
   ]
  },
  {
   "cell_type": "code",
   "execution_count": 8,
   "id": "da5cf7c7-eaed-41e4-a14e-8b5f1e743ef1",
   "metadata": {},
   "outputs": [],
   "source": [
    "class BasicResidual(objax.nn.Sequential):\n",
    "    def __init__(self, in_channels, out_channels):\n",
    "        super().__init__([\n",
    "            ConvBlock(in_channels, out_channels),\n",
    "            ConvBlock(out_channels, out_channels, act=False)\n",
    "        ])"
   ]
  },
  {
   "cell_type": "code",
   "execution_count": 9,
   "id": "266b35fa-93bb-4c0d-9f6d-0869b7319ab2",
   "metadata": {},
   "outputs": [],
   "source": [
    "class ResidualBlock(objax.Module):\n",
    "    def __init__(self, in_channels, out_channels):\n",
    "        super().__init__()\n",
    "        self.shortcut = self.get_shortcut(in_channels, out_channels)\n",
    "        self.residual = BasicResidual(in_channels, out_channels)\n",
    "        self.gamma = objax.TrainVar(jnp.zeros(1))\n",
    "    \n",
    "    def __call__(self, x, training):\n",
    "        shortcut = x if self.shortcut is None else self.shortcut(x, training=training)\n",
    "        out = shortcut + self.gamma * self.residual(x, training=training)\n",
    "        return objax.functional.swish(out)\n",
    "    \n",
    "    @staticmethod\n",
    "    def get_shortcut(in_channels, out_channels):\n",
    "        if in_channels != out_channels:\n",
    "            shortcut = ConvBlock(in_channels, out_channels, 1, act=False)\n",
    "        else:\n",
    "            shortcut = None\n",
    "        return shortcut"
   ]
  },
  {
   "cell_type": "markdown",
   "id": "54511cc2-cb11-4b1b-9638-a32289c6cdcc",
   "metadata": {},
   "source": [
    "Stages"
   ]
  },
  {
   "cell_type": "code",
   "execution_count": 10,
   "id": "221e038f-2b1a-454e-8748-ec152b9ed804",
   "metadata": {},
   "outputs": [],
   "source": [
    "class Stage(objax.nn.Sequential):\n",
    "    def __init__(self, in_channels, out_channels, num_blocks, stride):\n",
    "        layers = [partial(objax.functional.max_pool_2d, size=stride)] if stride > 1 else []\n",
    "        for num in range(num_blocks):\n",
    "            layers.append(ResidualBlock(in_channels, out_channels))\n",
    "            in_channels = out_channels\n",
    "        super().__init__(layers)"
   ]
  },
  {
   "cell_type": "code",
   "execution_count": 11,
   "id": "090d96b1-dc27-4e45-bc98-d39c06ec6998",
   "metadata": {},
   "outputs": [],
   "source": [
    "class Body(objax.nn.Sequential):\n",
    "    def __init__(self, in_channels, channel_list, num_blocks_list, strides):\n",
    "        layers = []\n",
    "        for out_channels, num_blocks, stride in zip(channel_list, num_blocks_list, strides):\n",
    "            layers.append(Stage(in_channels, out_channels, num_blocks, stride))\n",
    "            in_channels = out_channels\n",
    "        super().__init__(layers)"
   ]
  },
  {
   "cell_type": "markdown",
   "id": "80afd4e3-d1a4-4bb3-8f0d-d4d3c4447407",
   "metadata": {},
   "source": [
    "Main module"
   ]
  },
  {
   "cell_type": "code",
   "execution_count": 12,
   "id": "2d6dbfe2-aeb7-4491-8e65-8b3007a30ec3",
   "metadata": {},
   "outputs": [],
   "source": [
    "class Stem(objax.nn.Sequential):\n",
    "    def __init__(self, in_channels, channel_list, stride):\n",
    "        layers = []\n",
    "        for out_channels in channel_list:\n",
    "            layers.append(ConvBlock(in_channels, out_channels, 3, stride=stride))\n",
    "            in_channels = out_channels\n",
    "            stride = 1\n",
    "        super().__init__(layers)"
   ]
  },
  {
   "cell_type": "code",
   "execution_count": 13,
   "id": "b704a95f-fc53-4325-b3f5-f07cba3b811d",
   "metadata": {},
   "outputs": [],
   "source": [
    "class Head(objax.Module):\n",
    "    def __init__(self, in_channels, classes, p_drop=0.):\n",
    "        super().__init__()\n",
    "        self.dropout = objax.nn.Dropout(1 - p_drop)\n",
    "        self.linear = objax.nn.Linear(in_channels, classes)\n",
    "    \n",
    "    def __call__(self, x, training):\n",
    "        out = jnp.mean(x, axis=(2, 3))\n",
    "        out = self.dropout(out, training=training)\n",
    "        out = self.linear(out)\n",
    "        return out"
   ]
  },
  {
   "cell_type": "code",
   "execution_count": 14,
   "id": "b92035dd-1a0b-45d6-9429-d26d2f97231d",
   "metadata": {},
   "outputs": [],
   "source": [
    "class ResNet(objax.nn.Sequential):\n",
    "    def __init__(self, classes, channel_list, num_blocks_list, strides, head_p_drop = 0., in_channels=3):\n",
    "        super().__init__([\n",
    "            Stem(in_channels, [32, 32, 64], strides[0]),\n",
    "            Body(64, channel_list, num_blocks_list, strides[1:]),\n",
    "            Head(channel_list[-1], classes, head_p_drop)\n",
    "        ])"
   ]
  },
  {
   "cell_type": "markdown",
   "id": "b1430bfe-1399-4c2d-b0fb-adf95f3e572a",
   "metadata": {},
   "source": [
    "### Model initialization"
   ]
  },
  {
   "cell_type": "code",
   "execution_count": 15,
   "id": "638fa064-c651-4399-b4bb-927a9bc0fc56",
   "metadata": {},
   "outputs": [],
   "source": [
    "model = ResNet(NUM_CLASSES,\n",
    "               channel_list = [64, 128, 256, 512],\n",
    "               num_blocks_list = [2, 2, 2, 2],\n",
    "               strides = [1, 1, 2, 2, 2],\n",
    "               head_p_drop = 0.3)"
   ]
  },
  {
   "cell_type": "code",
   "execution_count": 16,
   "id": "39032809-1d8d-49a5-9532-8ca65844fdb2",
   "metadata": {},
   "outputs": [
    {
     "name": "stdout",
     "output_type": "stream",
     "text": [
      "(ResNet)[0](Stem)[0](ConvBlock).conv(Conv2D).w                                                            864 (3, 3, 3, 32)\n",
      "(ResNet)[0](Stem)[0](ConvBlock).norm(BatchNorm2D).running_mean                                             32 (1, 32, 1, 1)\n",
      "(ResNet)[0](Stem)[0](ConvBlock).norm(BatchNorm2D).running_var                                              32 (1, 32, 1, 1)\n",
      "(ResNet)[0](Stem)[0](ConvBlock).norm(BatchNorm2D).beta                                                     32 (1, 32, 1, 1)\n",
      "(ResNet)[0](Stem)[0](ConvBlock).norm(BatchNorm2D).gamma                                                    32 (1, 32, 1, 1)\n",
      "(ResNet)[0](Stem)[1](ConvBlock).conv(Conv2D).w                                                           9216 (3, 3, 32, 32)\n",
      "(ResNet)[0](Stem)[1](ConvBlock).norm(BatchNorm2D).running_mean                                             32 (1, 32, 1, 1)\n",
      "(ResNet)[0](Stem)[1](ConvBlock).norm(BatchNorm2D).running_var                                              32 (1, 32, 1, 1)\n",
      "(ResNet)[0](Stem)[1](ConvBlock).norm(BatchNorm2D).beta                                                     32 (1, 32, 1, 1)\n",
      "(ResNet)[0](Stem)[1](ConvBlock).norm(BatchNorm2D).gamma                                                    32 (1, 32, 1, 1)\n",
      "(ResNet)[0](Stem)[2](ConvBlock).conv(Conv2D).w                                                          18432 (3, 3, 32, 64)\n",
      "(ResNet)[0](Stem)[2](ConvBlock).norm(BatchNorm2D).running_mean                                             64 (1, 64, 1, 1)\n",
      "(ResNet)[0](Stem)[2](ConvBlock).norm(BatchNorm2D).running_var                                              64 (1, 64, 1, 1)\n",
      "(ResNet)[0](Stem)[2](ConvBlock).norm(BatchNorm2D).beta                                                     64 (1, 64, 1, 1)\n",
      "(ResNet)[0](Stem)[2](ConvBlock).norm(BatchNorm2D).gamma                                                    64 (1, 64, 1, 1)\n",
      "(ResNet)[1](Body)[0](Stage)[0](ResidualBlock).residual(BasicResidual)[0](ConvBlock).conv(Conv2D).w      36864 (3, 3, 64, 64)\n",
      "(ResNet)[1](Body)[0](Stage)[0](ResidualBlock).residual(BasicResidual)[0](ConvBlock).norm(BatchNorm2D).running_mean       64 (1, 64, 1, 1)\n",
      "(ResNet)[1](Body)[0](Stage)[0](ResidualBlock).residual(BasicResidual)[0](ConvBlock).norm(BatchNorm2D).running_var       64 (1, 64, 1, 1)\n",
      "(ResNet)[1](Body)[0](Stage)[0](ResidualBlock).residual(BasicResidual)[0](ConvBlock).norm(BatchNorm2D).beta       64 (1, 64, 1, 1)\n",
      "(ResNet)[1](Body)[0](Stage)[0](ResidualBlock).residual(BasicResidual)[0](ConvBlock).norm(BatchNorm2D).gamma       64 (1, 64, 1, 1)\n",
      "(ResNet)[1](Body)[0](Stage)[0](ResidualBlock).residual(BasicResidual)[1](ConvBlock).conv(Conv2D).w      36864 (3, 3, 64, 64)\n",
      "(ResNet)[1](Body)[0](Stage)[0](ResidualBlock).residual(BasicResidual)[1](ConvBlock).norm(BatchNorm2D).running_mean       64 (1, 64, 1, 1)\n",
      "(ResNet)[1](Body)[0](Stage)[0](ResidualBlock).residual(BasicResidual)[1](ConvBlock).norm(BatchNorm2D).running_var       64 (1, 64, 1, 1)\n",
      "(ResNet)[1](Body)[0](Stage)[0](ResidualBlock).residual(BasicResidual)[1](ConvBlock).norm(BatchNorm2D).beta       64 (1, 64, 1, 1)\n",
      "(ResNet)[1](Body)[0](Stage)[0](ResidualBlock).residual(BasicResidual)[1](ConvBlock).norm(BatchNorm2D).gamma       64 (1, 64, 1, 1)\n",
      "(ResNet)[1](Body)[0](Stage)[0](ResidualBlock).gamma                                                         1 (1,)\n",
      "(ResNet)[1](Body)[0](Stage)[1](ResidualBlock).residual(BasicResidual)[0](ConvBlock).conv(Conv2D).w      36864 (3, 3, 64, 64)\n",
      "(ResNet)[1](Body)[0](Stage)[1](ResidualBlock).residual(BasicResidual)[0](ConvBlock).norm(BatchNorm2D).running_mean       64 (1, 64, 1, 1)\n",
      "(ResNet)[1](Body)[0](Stage)[1](ResidualBlock).residual(BasicResidual)[0](ConvBlock).norm(BatchNorm2D).running_var       64 (1, 64, 1, 1)\n",
      "(ResNet)[1](Body)[0](Stage)[1](ResidualBlock).residual(BasicResidual)[0](ConvBlock).norm(BatchNorm2D).beta       64 (1, 64, 1, 1)\n",
      "(ResNet)[1](Body)[0](Stage)[1](ResidualBlock).residual(BasicResidual)[0](ConvBlock).norm(BatchNorm2D).gamma       64 (1, 64, 1, 1)\n",
      "(ResNet)[1](Body)[0](Stage)[1](ResidualBlock).residual(BasicResidual)[1](ConvBlock).conv(Conv2D).w      36864 (3, 3, 64, 64)\n",
      "(ResNet)[1](Body)[0](Stage)[1](ResidualBlock).residual(BasicResidual)[1](ConvBlock).norm(BatchNorm2D).running_mean       64 (1, 64, 1, 1)\n",
      "(ResNet)[1](Body)[0](Stage)[1](ResidualBlock).residual(BasicResidual)[1](ConvBlock).norm(BatchNorm2D).running_var       64 (1, 64, 1, 1)\n",
      "(ResNet)[1](Body)[0](Stage)[1](ResidualBlock).residual(BasicResidual)[1](ConvBlock).norm(BatchNorm2D).beta       64 (1, 64, 1, 1)\n",
      "(ResNet)[1](Body)[0](Stage)[1](ResidualBlock).residual(BasicResidual)[1](ConvBlock).norm(BatchNorm2D).gamma       64 (1, 64, 1, 1)\n",
      "(ResNet)[1](Body)[0](Stage)[1](ResidualBlock).gamma                                                         1 (1,)\n",
      "(ResNet)[1](Body)[1](Stage)[1](ResidualBlock).shortcut(ConvBlock).conv(Conv2D).w                         8192 (1, 1, 64, 128)\n",
      "(ResNet)[1](Body)[1](Stage)[1](ResidualBlock).shortcut(ConvBlock).norm(BatchNorm2D).running_mean          128 (1, 128, 1, 1)\n",
      "(ResNet)[1](Body)[1](Stage)[1](ResidualBlock).shortcut(ConvBlock).norm(BatchNorm2D).running_var           128 (1, 128, 1, 1)\n",
      "(ResNet)[1](Body)[1](Stage)[1](ResidualBlock).shortcut(ConvBlock).norm(BatchNorm2D).beta                  128 (1, 128, 1, 1)\n",
      "(ResNet)[1](Body)[1](Stage)[1](ResidualBlock).shortcut(ConvBlock).norm(BatchNorm2D).gamma                 128 (1, 128, 1, 1)\n",
      "(ResNet)[1](Body)[1](Stage)[1](ResidualBlock).residual(BasicResidual)[0](ConvBlock).conv(Conv2D).w      73728 (3, 3, 64, 128)\n",
      "(ResNet)[1](Body)[1](Stage)[1](ResidualBlock).residual(BasicResidual)[0](ConvBlock).norm(BatchNorm2D).running_mean      128 (1, 128, 1, 1)\n",
      "(ResNet)[1](Body)[1](Stage)[1](ResidualBlock).residual(BasicResidual)[0](ConvBlock).norm(BatchNorm2D).running_var      128 (1, 128, 1, 1)\n",
      "(ResNet)[1](Body)[1](Stage)[1](ResidualBlock).residual(BasicResidual)[0](ConvBlock).norm(BatchNorm2D).beta      128 (1, 128, 1, 1)\n",
      "(ResNet)[1](Body)[1](Stage)[1](ResidualBlock).residual(BasicResidual)[0](ConvBlock).norm(BatchNorm2D).gamma      128 (1, 128, 1, 1)\n",
      "(ResNet)[1](Body)[1](Stage)[1](ResidualBlock).residual(BasicResidual)[1](ConvBlock).conv(Conv2D).w     147456 (3, 3, 128, 128)\n",
      "(ResNet)[1](Body)[1](Stage)[1](ResidualBlock).residual(BasicResidual)[1](ConvBlock).norm(BatchNorm2D).running_mean      128 (1, 128, 1, 1)\n",
      "(ResNet)[1](Body)[1](Stage)[1](ResidualBlock).residual(BasicResidual)[1](ConvBlock).norm(BatchNorm2D).running_var      128 (1, 128, 1, 1)\n",
      "(ResNet)[1](Body)[1](Stage)[1](ResidualBlock).residual(BasicResidual)[1](ConvBlock).norm(BatchNorm2D).beta      128 (1, 128, 1, 1)\n",
      "(ResNet)[1](Body)[1](Stage)[1](ResidualBlock).residual(BasicResidual)[1](ConvBlock).norm(BatchNorm2D).gamma      128 (1, 128, 1, 1)\n",
      "(ResNet)[1](Body)[1](Stage)[1](ResidualBlock).gamma                                                         1 (1,)\n",
      "(ResNet)[1](Body)[1](Stage)[2](ResidualBlock).residual(BasicResidual)[0](ConvBlock).conv(Conv2D).w     147456 (3, 3, 128, 128)\n",
      "(ResNet)[1](Body)[1](Stage)[2](ResidualBlock).residual(BasicResidual)[0](ConvBlock).norm(BatchNorm2D).running_mean      128 (1, 128, 1, 1)\n",
      "(ResNet)[1](Body)[1](Stage)[2](ResidualBlock).residual(BasicResidual)[0](ConvBlock).norm(BatchNorm2D).running_var      128 (1, 128, 1, 1)\n",
      "(ResNet)[1](Body)[1](Stage)[2](ResidualBlock).residual(BasicResidual)[0](ConvBlock).norm(BatchNorm2D).beta      128 (1, 128, 1, 1)\n",
      "(ResNet)[1](Body)[1](Stage)[2](ResidualBlock).residual(BasicResidual)[0](ConvBlock).norm(BatchNorm2D).gamma      128 (1, 128, 1, 1)\n",
      "(ResNet)[1](Body)[1](Stage)[2](ResidualBlock).residual(BasicResidual)[1](ConvBlock).conv(Conv2D).w     147456 (3, 3, 128, 128)\n",
      "(ResNet)[1](Body)[1](Stage)[2](ResidualBlock).residual(BasicResidual)[1](ConvBlock).norm(BatchNorm2D).running_mean      128 (1, 128, 1, 1)\n",
      "(ResNet)[1](Body)[1](Stage)[2](ResidualBlock).residual(BasicResidual)[1](ConvBlock).norm(BatchNorm2D).running_var      128 (1, 128, 1, 1)\n",
      "(ResNet)[1](Body)[1](Stage)[2](ResidualBlock).residual(BasicResidual)[1](ConvBlock).norm(BatchNorm2D).beta      128 (1, 128, 1, 1)\n",
      "(ResNet)[1](Body)[1](Stage)[2](ResidualBlock).residual(BasicResidual)[1](ConvBlock).norm(BatchNorm2D).gamma      128 (1, 128, 1, 1)\n",
      "(ResNet)[1](Body)[1](Stage)[2](ResidualBlock).gamma                                                         1 (1,)\n",
      "(ResNet)[1](Body)[2](Stage)[1](ResidualBlock).shortcut(ConvBlock).conv(Conv2D).w                        32768 (1, 1, 128, 256)\n",
      "(ResNet)[1](Body)[2](Stage)[1](ResidualBlock).shortcut(ConvBlock).norm(BatchNorm2D).running_mean          256 (1, 256, 1, 1)\n",
      "(ResNet)[1](Body)[2](Stage)[1](ResidualBlock).shortcut(ConvBlock).norm(BatchNorm2D).running_var           256 (1, 256, 1, 1)\n",
      "(ResNet)[1](Body)[2](Stage)[1](ResidualBlock).shortcut(ConvBlock).norm(BatchNorm2D).beta                  256 (1, 256, 1, 1)\n",
      "(ResNet)[1](Body)[2](Stage)[1](ResidualBlock).shortcut(ConvBlock).norm(BatchNorm2D).gamma                 256 (1, 256, 1, 1)\n",
      "(ResNet)[1](Body)[2](Stage)[1](ResidualBlock).residual(BasicResidual)[0](ConvBlock).conv(Conv2D).w     294912 (3, 3, 128, 256)\n",
      "(ResNet)[1](Body)[2](Stage)[1](ResidualBlock).residual(BasicResidual)[0](ConvBlock).norm(BatchNorm2D).running_mean      256 (1, 256, 1, 1)\n",
      "(ResNet)[1](Body)[2](Stage)[1](ResidualBlock).residual(BasicResidual)[0](ConvBlock).norm(BatchNorm2D).running_var      256 (1, 256, 1, 1)\n",
      "(ResNet)[1](Body)[2](Stage)[1](ResidualBlock).residual(BasicResidual)[0](ConvBlock).norm(BatchNorm2D).beta      256 (1, 256, 1, 1)\n",
      "(ResNet)[1](Body)[2](Stage)[1](ResidualBlock).residual(BasicResidual)[0](ConvBlock).norm(BatchNorm2D).gamma      256 (1, 256, 1, 1)\n",
      "(ResNet)[1](Body)[2](Stage)[1](ResidualBlock).residual(BasicResidual)[1](ConvBlock).conv(Conv2D).w     589824 (3, 3, 256, 256)\n",
      "(ResNet)[1](Body)[2](Stage)[1](ResidualBlock).residual(BasicResidual)[1](ConvBlock).norm(BatchNorm2D).running_mean      256 (1, 256, 1, 1)\n",
      "(ResNet)[1](Body)[2](Stage)[1](ResidualBlock).residual(BasicResidual)[1](ConvBlock).norm(BatchNorm2D).running_var      256 (1, 256, 1, 1)\n",
      "(ResNet)[1](Body)[2](Stage)[1](ResidualBlock).residual(BasicResidual)[1](ConvBlock).norm(BatchNorm2D).beta      256 (1, 256, 1, 1)\n",
      "(ResNet)[1](Body)[2](Stage)[1](ResidualBlock).residual(BasicResidual)[1](ConvBlock).norm(BatchNorm2D).gamma      256 (1, 256, 1, 1)\n",
      "(ResNet)[1](Body)[2](Stage)[1](ResidualBlock).gamma                                                         1 (1,)\n",
      "(ResNet)[1](Body)[2](Stage)[2](ResidualBlock).residual(BasicResidual)[0](ConvBlock).conv(Conv2D).w     589824 (3, 3, 256, 256)\n",
      "(ResNet)[1](Body)[2](Stage)[2](ResidualBlock).residual(BasicResidual)[0](ConvBlock).norm(BatchNorm2D).running_mean      256 (1, 256, 1, 1)\n",
      "(ResNet)[1](Body)[2](Stage)[2](ResidualBlock).residual(BasicResidual)[0](ConvBlock).norm(BatchNorm2D).running_var      256 (1, 256, 1, 1)\n",
      "(ResNet)[1](Body)[2](Stage)[2](ResidualBlock).residual(BasicResidual)[0](ConvBlock).norm(BatchNorm2D).beta      256 (1, 256, 1, 1)\n",
      "(ResNet)[1](Body)[2](Stage)[2](ResidualBlock).residual(BasicResidual)[0](ConvBlock).norm(BatchNorm2D).gamma      256 (1, 256, 1, 1)\n",
      "(ResNet)[1](Body)[2](Stage)[2](ResidualBlock).residual(BasicResidual)[1](ConvBlock).conv(Conv2D).w     589824 (3, 3, 256, 256)\n",
      "(ResNet)[1](Body)[2](Stage)[2](ResidualBlock).residual(BasicResidual)[1](ConvBlock).norm(BatchNorm2D).running_mean      256 (1, 256, 1, 1)\n",
      "(ResNet)[1](Body)[2](Stage)[2](ResidualBlock).residual(BasicResidual)[1](ConvBlock).norm(BatchNorm2D).running_var      256 (1, 256, 1, 1)\n",
      "(ResNet)[1](Body)[2](Stage)[2](ResidualBlock).residual(BasicResidual)[1](ConvBlock).norm(BatchNorm2D).beta      256 (1, 256, 1, 1)\n",
      "(ResNet)[1](Body)[2](Stage)[2](ResidualBlock).residual(BasicResidual)[1](ConvBlock).norm(BatchNorm2D).gamma      256 (1, 256, 1, 1)\n",
      "(ResNet)[1](Body)[2](Stage)[2](ResidualBlock).gamma                                                         1 (1,)\n",
      "(ResNet)[1](Body)[3](Stage)[1](ResidualBlock).shortcut(ConvBlock).conv(Conv2D).w                       131072 (1, 1, 256, 512)\n",
      "(ResNet)[1](Body)[3](Stage)[1](ResidualBlock).shortcut(ConvBlock).norm(BatchNorm2D).running_mean          512 (1, 512, 1, 1)\n",
      "(ResNet)[1](Body)[3](Stage)[1](ResidualBlock).shortcut(ConvBlock).norm(BatchNorm2D).running_var           512 (1, 512, 1, 1)\n",
      "(ResNet)[1](Body)[3](Stage)[1](ResidualBlock).shortcut(ConvBlock).norm(BatchNorm2D).beta                  512 (1, 512, 1, 1)\n",
      "(ResNet)[1](Body)[3](Stage)[1](ResidualBlock).shortcut(ConvBlock).norm(BatchNorm2D).gamma                 512 (1, 512, 1, 1)\n",
      "(ResNet)[1](Body)[3](Stage)[1](ResidualBlock).residual(BasicResidual)[0](ConvBlock).conv(Conv2D).w    1179648 (3, 3, 256, 512)\n",
      "(ResNet)[1](Body)[3](Stage)[1](ResidualBlock).residual(BasicResidual)[0](ConvBlock).norm(BatchNorm2D).running_mean      512 (1, 512, 1, 1)\n",
      "(ResNet)[1](Body)[3](Stage)[1](ResidualBlock).residual(BasicResidual)[0](ConvBlock).norm(BatchNorm2D).running_var      512 (1, 512, 1, 1)\n",
      "(ResNet)[1](Body)[3](Stage)[1](ResidualBlock).residual(BasicResidual)[0](ConvBlock).norm(BatchNorm2D).beta      512 (1, 512, 1, 1)\n",
      "(ResNet)[1](Body)[3](Stage)[1](ResidualBlock).residual(BasicResidual)[0](ConvBlock).norm(BatchNorm2D).gamma      512 (1, 512, 1, 1)\n",
      "(ResNet)[1](Body)[3](Stage)[1](ResidualBlock).residual(BasicResidual)[1](ConvBlock).conv(Conv2D).w    2359296 (3, 3, 512, 512)\n",
      "(ResNet)[1](Body)[3](Stage)[1](ResidualBlock).residual(BasicResidual)[1](ConvBlock).norm(BatchNorm2D).running_mean      512 (1, 512, 1, 1)\n",
      "(ResNet)[1](Body)[3](Stage)[1](ResidualBlock).residual(BasicResidual)[1](ConvBlock).norm(BatchNorm2D).running_var      512 (1, 512, 1, 1)\n",
      "(ResNet)[1](Body)[3](Stage)[1](ResidualBlock).residual(BasicResidual)[1](ConvBlock).norm(BatchNorm2D).beta      512 (1, 512, 1, 1)\n",
      "(ResNet)[1](Body)[3](Stage)[1](ResidualBlock).residual(BasicResidual)[1](ConvBlock).norm(BatchNorm2D).gamma      512 (1, 512, 1, 1)\n",
      "(ResNet)[1](Body)[3](Stage)[1](ResidualBlock).gamma                                                         1 (1,)\n",
      "(ResNet)[1](Body)[3](Stage)[2](ResidualBlock).residual(BasicResidual)[0](ConvBlock).conv(Conv2D).w    2359296 (3, 3, 512, 512)\n",
      "(ResNet)[1](Body)[3](Stage)[2](ResidualBlock).residual(BasicResidual)[0](ConvBlock).norm(BatchNorm2D).running_mean      512 (1, 512, 1, 1)\n",
      "(ResNet)[1](Body)[3](Stage)[2](ResidualBlock).residual(BasicResidual)[0](ConvBlock).norm(BatchNorm2D).running_var      512 (1, 512, 1, 1)\n",
      "(ResNet)[1](Body)[3](Stage)[2](ResidualBlock).residual(BasicResidual)[0](ConvBlock).norm(BatchNorm2D).beta      512 (1, 512, 1, 1)\n",
      "(ResNet)[1](Body)[3](Stage)[2](ResidualBlock).residual(BasicResidual)[0](ConvBlock).norm(BatchNorm2D).gamma      512 (1, 512, 1, 1)\n",
      "(ResNet)[1](Body)[3](Stage)[2](ResidualBlock).residual(BasicResidual)[1](ConvBlock).conv(Conv2D).w    2359296 (3, 3, 512, 512)\n",
      "(ResNet)[1](Body)[3](Stage)[2](ResidualBlock).residual(BasicResidual)[1](ConvBlock).norm(BatchNorm2D).running_mean      512 (1, 512, 1, 1)\n",
      "(ResNet)[1](Body)[3](Stage)[2](ResidualBlock).residual(BasicResidual)[1](ConvBlock).norm(BatchNorm2D).running_var      512 (1, 512, 1, 1)\n",
      "(ResNet)[1](Body)[3](Stage)[2](ResidualBlock).residual(BasicResidual)[1](ConvBlock).norm(BatchNorm2D).beta      512 (1, 512, 1, 1)\n",
      "(ResNet)[1](Body)[3](Stage)[2](ResidualBlock).residual(BasicResidual)[1](ConvBlock).norm(BatchNorm2D).gamma      512 (1, 512, 1, 1)\n",
      "(ResNet)[1](Body)[3](Stage)[2](ResidualBlock).gamma                                                         1 (1,)\n",
      "(ResNet)[2](Head).dropout(Dropout).keygen(Generator)._key                                                   2 (2,)\n",
      "(ResNet)[2](Head).linear(Linear).b                                                                         10 (10,)\n",
      "(ResNet)[2](Head).linear(Linear).w                                                                       5120 (512, 10)\n",
      "+Total(121)                                                                                          11210612\n"
     ]
    }
   ],
   "source": [
    "print(model.vars())"
   ]
  },
  {
   "cell_type": "markdown",
   "id": "6c1b0163-7fc0-4ab6-a53b-b2e61c18a655",
   "metadata": {
    "tags": []
   },
   "source": [
    "## Training"
   ]
  },
  {
   "cell_type": "markdown",
   "id": "47b1071d-77e4-4884-a90e-8c5625de13dc",
   "metadata": {
    "tags": []
   },
   "source": [
    "### Loss"
   ]
  },
  {
   "cell_type": "code",
   "execution_count": 17,
   "id": "7e838dda-5e82-4869-a7d3-96e686711748",
   "metadata": {},
   "outputs": [],
   "source": [
    "def cross_entropy_loss(logits, labels):\n",
    "    return objax.functional.loss.cross_entropy_logits_sparse(logits, labels).mean()"
   ]
  },
  {
   "cell_type": "code",
   "execution_count": 18,
   "id": "976205bd-402d-4154-b973-bd74c1e6e6da",
   "metadata": {},
   "outputs": [],
   "source": [
    "def loss_fn(images, labels):\n",
    "    logits = model(images, training=True)\n",
    "    loss = cross_entropy_loss(logits, labels)\n",
    "    return loss, logits"
   ]
  },
  {
   "cell_type": "code",
   "execution_count": 19,
   "id": "c42b0e0d-29a0-4c2a-b0e4-9dd3fe9ba2eb",
   "metadata": {},
   "outputs": [],
   "source": [
    "grad_loss = objax.GradValues(loss_fn, model.vars())"
   ]
  },
  {
   "cell_type": "markdown",
   "id": "b89fb4f6-512e-4a06-99ea-47b17a82ccbe",
   "metadata": {},
   "source": [
    "### Metrics"
   ]
  },
  {
   "cell_type": "code",
   "execution_count": 20,
   "id": "8b63b3d0-f5cc-4d57-9199-92cf145076ba",
   "metadata": {},
   "outputs": [],
   "source": [
    "def compute_metrics(logits, labels):\n",
    "    loss = cross_entropy_loss(logits, labels)\n",
    "    num_correct = jnp.sum(jnp.argmax(logits, -1) == labels)\n",
    "    batch_size = logits.shape[0]\n",
    "    metrics = {\n",
    "        'batch_size': batch_size,\n",
    "        'batch_loss': batch_size * loss,\n",
    "        'num_correct': num_correct\n",
    "    }\n",
    "    return metrics"
   ]
  },
  {
   "cell_type": "code",
   "execution_count": 21,
   "id": "3eae9807-c5ed-4ace-a267-f44191581319",
   "metadata": {},
   "outputs": [],
   "source": [
    "def metrics_summary(metrics):\n",
    "    metrics = jax.device_get(metrics)\n",
    "    metrics = jax.tree_multimap(lambda *args: np.stack(args), *metrics)\n",
    "    metrics_sum = jax.tree_map(lambda x: x.sum(), metrics)\n",
    "    num_total = metrics_sum['batch_size']\n",
    "    summary = {\n",
    "        'loss' : metrics_sum['batch_loss'] / num_total,\n",
    "        'accuracy': metrics_sum['num_correct'] / num_total\n",
    "    }\n",
    "    return summary"
   ]
  },
  {
   "cell_type": "markdown",
   "id": "0cd5ec06-0657-42f5-8516-350fa54d0376",
   "metadata": {},
   "source": [
    "### Optimizer"
   ]
  },
  {
   "cell_type": "code",
   "execution_count": 22,
   "id": "796bdca8-0c24-4414-ac4f-78b6aab5d00d",
   "metadata": {},
   "outputs": [],
   "source": [
    "opt = objax.optimizer.Adam(model.vars())"
   ]
  },
  {
   "cell_type": "markdown",
   "id": "5ec579a7-4703-4a35-a9a6-37c33301e768",
   "metadata": {},
   "source": [
    "### Train functions"
   ]
  },
  {
   "cell_type": "code",
   "execution_count": 23,
   "id": "5415a1c0-d2b9-4b51-8c06-e045184166ad",
   "metadata": {},
   "outputs": [],
   "source": [
    "def train_step(images, labels, lr):\n",
    "    grads, (_, logits) = grad_loss(images, labels)\n",
    "    opt(lr, grads)\n",
    "    metrics = compute_metrics(logits, labels)\n",
    "    return metrics"
   ]
  },
  {
   "cell_type": "code",
   "execution_count": 24,
   "id": "3e2992c4-505b-4cad-a6ac-9bec1358153a",
   "metadata": {},
   "outputs": [],
   "source": [
    "def eval_step(images, labels):\n",
    "    logits = model(images, training=False)\n",
    "    metrics = compute_metrics(logits, labels)\n",
    "    return metrics"
   ]
  },
  {
   "cell_type": "code",
   "execution_count": 25,
   "id": "7843dc9e-5b1e-438a-af15-acaf39647371",
   "metadata": {},
   "outputs": [],
   "source": [
    "train_step = objax.Jit(train_step, grad_loss.vars() + opt.vars())"
   ]
  },
  {
   "cell_type": "code",
   "execution_count": 26,
   "id": "719ed276-f661-4f52-aa53-3c8cc7f20834",
   "metadata": {},
   "outputs": [],
   "source": [
    "eval_step = objax.Jit(eval_step, model.vars())"
   ]
  },
  {
   "cell_type": "code",
   "execution_count": 27,
   "id": "af99b39c-2b88-424f-af66-55a2c5e4edb1",
   "metadata": {},
   "outputs": [],
   "source": [
    "def log_metrics(history, summary, name):\n",
    "    print(f\"{name}: \", end='', flush=True)\n",
    "    for key, val in summary.items():\n",
    "        history[name + ' ' + key].append(val)\n",
    "        print(f\"{key} {val:.3f} \", end='')"
   ]
  },
  {
   "cell_type": "code",
   "execution_count": 28,
   "id": "8804a033-dfd7-41ce-a94a-6d489fb324e2",
   "metadata": {},
   "outputs": [],
   "source": [
    "def train(train_loader, val_loader, epochs, lr):\n",
    "    history = defaultdict(list)\n",
    "    \n",
    "    for epoch in range(1, epochs + 1):\n",
    "        print(f\"{epoch}/{epochs} - \", end='')\n",
    "        \n",
    "        train_metrics = []\n",
    "        for images, labels in train_loader:\n",
    "            images, labels = images.numpy(), labels.numpy()\n",
    "            metrics = train_step(images, labels, lr)\n",
    "            train_metrics.append(metrics)\n",
    "        \n",
    "        summary = metrics_summary(train_metrics)\n",
    "        log_metrics(history, summary, 'train')\n",
    "        print('; ', end='')\n",
    "        \n",
    "        val_metrics = []\n",
    "        for images, labels in val_loader:\n",
    "            images, labels = images.numpy(), labels.numpy()\n",
    "            metrics = eval_step(images, labels)\n",
    "            val_metrics.append(metrics)\n",
    "        \n",
    "        summary = metrics_summary(val_metrics)\n",
    "        log_metrics(history, summary, 'val')\n",
    "        print()\n",
    "    \n",
    "    return history"
   ]
  },
  {
   "cell_type": "markdown",
   "id": "f1988a88-b45e-41ca-8530-ba0d1b6e12e2",
   "metadata": {},
   "source": [
    "### Start training"
   ]
  },
  {
   "cell_type": "code",
   "execution_count": 29,
   "id": "d8305d25-a784-4b55-9a1f-7306d8219847",
   "metadata": {},
   "outputs": [
    {
     "name": "stdout",
     "output_type": "stream",
     "text": [
      "1/50 - train: loss 1.254 accuracy 0.548 ; val: loss 0.812 accuracy 0.719 \n",
      "2/50 - train: loss 0.742 accuracy 0.742 ; val: loss 0.650 accuracy 0.781 \n",
      "3/50 - train: loss 0.583 accuracy 0.799 ; val: loss 0.538 accuracy 0.813 \n",
      "4/50 - train: loss 0.489 accuracy 0.833 ; val: loss 0.448 accuracy 0.850 \n",
      "5/50 - train: loss 0.428 accuracy 0.850 ; val: loss 0.390 accuracy 0.867 \n",
      "6/50 - train: loss 0.380 accuracy 0.870 ; val: loss 0.385 accuracy 0.869 \n",
      "7/50 - train: loss 0.331 accuracy 0.887 ; val: loss 0.362 accuracy 0.879 \n",
      "8/50 - train: loss 0.303 accuracy 0.896 ; val: loss 0.329 accuracy 0.887 \n",
      "9/50 - train: loss 0.272 accuracy 0.906 ; val: loss 0.349 accuracy 0.889 \n",
      "10/50 - train: loss 0.247 accuracy 0.914 ; val: loss 0.323 accuracy 0.898 \n",
      "11/50 - train: loss 0.224 accuracy 0.922 ; val: loss 0.321 accuracy 0.900 \n",
      "12/50 - train: loss 0.203 accuracy 0.929 ; val: loss 0.302 accuracy 0.907 \n",
      "13/50 - train: loss 0.189 accuracy 0.933 ; val: loss 0.299 accuracy 0.907 \n",
      "14/50 - train: loss 0.172 accuracy 0.939 ; val: loss 0.308 accuracy 0.904 \n",
      "15/50 - train: loss 0.154 accuracy 0.947 ; val: loss 0.307 accuracy 0.904 \n",
      "16/50 - train: loss 0.143 accuracy 0.951 ; val: loss 0.311 accuracy 0.908 \n",
      "17/50 - train: loss 0.134 accuracy 0.953 ; val: loss 0.316 accuracy 0.911 \n",
      "18/50 - train: loss 0.122 accuracy 0.957 ; val: loss 0.309 accuracy 0.915 \n",
      "19/50 - train: loss 0.115 accuracy 0.959 ; val: loss 0.304 accuracy 0.916 \n",
      "20/50 - train: loss 0.104 accuracy 0.963 ; val: loss 0.308 accuracy 0.917 \n",
      "21/50 - train: loss 0.101 accuracy 0.964 ; val: loss 0.305 accuracy 0.921 \n",
      "22/50 - train: loss 0.093 accuracy 0.967 ; val: loss 0.289 accuracy 0.921 \n",
      "23/50 - train: loss 0.088 accuracy 0.969 ; val: loss 0.290 accuracy 0.921 \n",
      "24/50 - train: loss 0.084 accuracy 0.971 ; val: loss 0.280 accuracy 0.923 \n",
      "25/50 - train: loss 0.074 accuracy 0.974 ; val: loss 0.298 accuracy 0.923 \n",
      "26/50 - train: loss 0.074 accuracy 0.974 ; val: loss 0.321 accuracy 0.919 \n",
      "27/50 - train: loss 0.070 accuracy 0.975 ; val: loss 0.304 accuracy 0.921 \n",
      "28/50 - train: loss 0.065 accuracy 0.978 ; val: loss 0.302 accuracy 0.924 \n",
      "29/50 - train: loss 0.064 accuracy 0.978 ; val: loss 0.334 accuracy 0.917 \n",
      "30/50 - train: loss 0.061 accuracy 0.979 ; val: loss 0.324 accuracy 0.921 \n",
      "31/50 - train: loss 0.060 accuracy 0.979 ; val: loss 0.327 accuracy 0.919 \n",
      "32/50 - train: loss 0.054 accuracy 0.982 ; val: loss 0.320 accuracy 0.925 \n",
      "33/50 - train: loss 0.053 accuracy 0.981 ; val: loss 0.325 accuracy 0.920 \n",
      "34/50 - train: loss 0.049 accuracy 0.983 ; val: loss 0.320 accuracy 0.925 \n",
      "35/50 - train: loss 0.051 accuracy 0.983 ; val: loss 0.311 accuracy 0.928 \n",
      "36/50 - train: loss 0.045 accuracy 0.984 ; val: loss 0.331 accuracy 0.925 \n",
      "37/50 - train: loss 0.047 accuracy 0.984 ; val: loss 0.316 accuracy 0.930 \n",
      "38/50 - train: loss 0.043 accuracy 0.985 ; val: loss 0.362 accuracy 0.924 \n",
      "39/50 - train: loss 0.041 accuracy 0.986 ; val: loss 0.303 accuracy 0.931 \n",
      "40/50 - train: loss 0.043 accuracy 0.985 ; val: loss 0.331 accuracy 0.927 \n",
      "41/50 - train: loss 0.040 accuracy 0.986 ; val: loss 0.333 accuracy 0.927 \n",
      "42/50 - train: loss 0.038 accuracy 0.987 ; val: loss 0.356 accuracy 0.925 \n",
      "43/50 - train: loss 0.039 accuracy 0.987 ; val: loss 0.335 accuracy 0.927 \n",
      "44/50 - train: loss 0.036 accuracy 0.988 ; val: loss 0.355 accuracy 0.923 \n",
      "45/50 - train: loss 0.033 accuracy 0.989 ; val: loss 0.387 accuracy 0.925 \n",
      "46/50 - train: loss 0.036 accuracy 0.987 ; val: loss 0.345 accuracy 0.928 \n",
      "47/50 - train: loss 0.032 accuracy 0.989 ; val: loss 0.363 accuracy 0.927 \n",
      "48/50 - train: loss 0.033 accuracy 0.989 ; val: loss 0.347 accuracy 0.931 \n",
      "49/50 - train: loss 0.029 accuracy 0.990 ; val: loss 0.350 accuracy 0.931 \n",
      "50/50 - train: loss 0.032 accuracy 0.989 ; val: loss 0.353 accuracy 0.925 \n"
     ]
    }
   ],
   "source": [
    "history = train(train_loader, val_loader, EPOCHS, LEARNING_RATE)"
   ]
  },
  {
   "cell_type": "code",
   "execution_count": 30,
   "id": "4f6a5662-7feb-4e18-b92f-b7a64855f336",
   "metadata": {},
   "outputs": [],
   "source": [
    "def plot_history_train_val(history, key):\n",
    "    fig = plt.figure()\n",
    "    ax = fig.add_subplot(111)\n",
    "    xs = np.arange(1, len(history['train ' + key]) + 1)\n",
    "    ax.plot(xs, history['train ' + key], '.-', label='train')\n",
    "    ax.plot(xs, history['val ' + key], '.-', label='val')\n",
    "    ax.set_xlabel('epoch')\n",
    "    ax.set_ylabel(key)\n",
    "    ax.legend()\n",
    "    ax.grid()\n",
    "    plt.show()"
   ]
  },
  {
   "cell_type": "code",
   "execution_count": 31,
   "id": "4ed6459b-15f8-422f-ad68-78f3ffefc91d",
   "metadata": {},
   "outputs": [
    {
     "data": {
      "image/png": "[encoded data removed]",
      "text/plain": [
       "<Figure size 432x288 with 1 Axes>"
      ]
     },
     "metadata": {
      "needs_background": "light"
     },
     "output_type": "display_data"
    }
   ],
   "source": [
    "plot_history_train_val(history, 'loss')"
   ]
  },
  {
   "cell_type": "code",
   "execution_count": 32,
   "id": "863e0e16-2702-4fe2-9afa-a525e42635ce",
   "metadata": {},
   "outputs": [
    {
     "data": {
      "image/png": "[encoded data removed]",
      "text/plain": [
       "<Figure size 432x288 with 1 Axes>"
      ]
     },
     "metadata": {
      "needs_background": "light"
     },
     "output_type": "display_data"
    }
   ],
   "source": [
    "plot_history_train_val(history, 'accuracy')"
   ]
  }
 ],
 "metadata": {
  "kernelspec": {
   "display_name": "Python 3 (ipykernel)",
   "language": "python",
   "name": "python3"
  },
  "language_info": {
   "codemirror_mode": {
    "name": "ipython",
    "version": 3
   },
   "file_extension": ".py",
   "mimetype": "text/x-python",
   "name": "python",
   "nbconvert_exporter": "python",
   "pygments_lexer": "ipython3",
   "version": "3.8.10"
  }
 },
 "nbformat": 4,
 "nbformat_minor": 5
}
