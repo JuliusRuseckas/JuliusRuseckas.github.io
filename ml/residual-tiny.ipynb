{
 "cells": [
  {
   "cell_type": "markdown",
   "id": "e11845f0-19f7-4dfa-84a1-2318f7e49578",
   "metadata": {
    "tags": []
   },
   "source": [
    "# Tiny model for CIFAR10"
   ]
  },
  {
   "cell_type": "markdown",
   "id": "69381004-7124-4e7b-8e9b-df7bae224a33",
   "metadata": {},
   "source": [
    "## Configuration"
   ]
  },
  {
   "cell_type": "markdown",
   "id": "f9a9c435-decf-4b3d-917a-ced2ad0e1f30",
   "metadata": {},
   "source": [
    "Imports"
   ]
  },
  {
   "cell_type": "code",
   "execution_count": 1,
   "id": "c7aff9ae-2911-49b8-9a5a-c8bfe25d15ea",
   "metadata": {
    "execution": {
     "iopub.execute_input": "2024-01-09T07:11:18.100360Z",
     "iopub.status.busy": "2024-01-09T07:11:18.100230Z",
     "iopub.status.idle": "2024-01-09T07:11:18.108641Z",
     "shell.execute_reply": "2024-01-09T07:11:18.107760Z"
    }
   },
   "outputs": [],
   "source": [
    "import warnings"
   ]
  },
  {
   "cell_type": "code",
   "execution_count": 2,
   "id": "2709a229-3ae0-47f1-914c-6d11f24df774",
   "metadata": {
    "execution": {
     "iopub.execute_input": "2024-01-09T07:11:18.112763Z",
     "iopub.status.busy": "2024-01-09T07:11:18.112186Z",
     "iopub.status.idle": "2024-01-09T07:11:18.116220Z",
     "shell.execute_reply": "2024-01-09T07:11:18.115386Z"
    }
   },
   "outputs": [],
   "source": [
    "warnings.simplefilter('ignore')"
   ]
  },
  {
   "cell_type": "code",
   "execution_count": 3,
   "id": "c57aef75-b1e4-4814-be78-4b5f907a588e",
   "metadata": {
    "execution": {
     "iopub.execute_input": "2024-01-09T07:11:18.120333Z",
     "iopub.status.busy": "2024-01-09T07:11:18.119682Z",
     "iopub.status.idle": "2024-01-09T07:11:20.074600Z",
     "shell.execute_reply": "2024-01-09T07:11:20.073596Z"
    }
   },
   "outputs": [],
   "source": [
    "import numpy as np\n",
    "from collections import defaultdict\n",
    "import matplotlib.pyplot as plt\n",
    "\n",
    "import tqdm\n",
    "import tqdm.autonotebook\n",
    "tqdm.autonotebook.tqdm = tqdm.tqdm # hack to force ASCII output everywhere\n",
    "from tqdm import tqdm\n",
    "\n",
    "import torch\n",
    "import torch.nn as nn\n",
    "import torch.optim as optim\n",
    "import torch.nn.functional as F\n",
    "from torchvision import datasets\n",
    "import torchvision.transforms.v2 as transforms\n",
    "\n",
    "from ignite.engine import Events, create_supervised_trainer, create_supervised_evaluator\n",
    "import ignite.metrics\n",
    "import ignite.contrib.handlers"
   ]
  },
  {
   "cell_type": "markdown",
   "id": "36df7fb5-1fdb-4251-90f2-e876fe9c64e4",
   "metadata": {},
   "source": [
    "Configuration"
   ]
  },
  {
   "cell_type": "code",
   "execution_count": 4,
   "id": "de49f1c2-56e0-49ce-a71d-85dec2ca4cd7",
   "metadata": {
    "execution": {
     "iopub.execute_input": "2024-01-09T07:11:20.077875Z",
     "iopub.status.busy": "2024-01-09T07:11:20.077519Z",
     "iopub.status.idle": "2024-01-09T07:11:20.080890Z",
     "shell.execute_reply": "2024-01-09T07:11:20.080298Z"
    }
   },
   "outputs": [],
   "source": [
    "DATA_DIR='./data'\n",
    "\n",
    "NUM_CLASSES = 10\n",
    "NUM_WORKERS = 8\n",
    "BATCH_SIZE = 32\n",
    "EPOCHS = 2000\n",
    "LEARNING_RATE = 1e-2\n",
    "WEIGHT_DECAY = 1e-3"
   ]
  },
  {
   "cell_type": "code",
   "execution_count": 5,
   "id": "a169e4df-d547-4e17-82ff-69ec5823c109",
   "metadata": {
    "execution": {
     "iopub.execute_input": "2024-01-09T07:11:20.082719Z",
     "iopub.status.busy": "2024-01-09T07:11:20.082574Z",
     "iopub.status.idle": "2024-01-09T07:11:20.267539Z",
     "shell.execute_reply": "2024-01-09T07:11:20.266204Z"
    }
   },
   "outputs": [
    {
     "name": "stdout",
     "output_type": "stream",
     "text": [
      "device: cuda\n"
     ]
    }
   ],
   "source": [
    "DEVICE = torch.device(\"cuda\") if torch.cuda.is_available() else torch.device(\"cpu\")\n",
    "print(\"device:\", DEVICE)"
   ]
  },
  {
   "cell_type": "markdown",
   "id": "c9530a47-7ce5-4f9a-9825-2ec7e742fa68",
   "metadata": {},
   "source": [
    "## Data"
   ]
  },
  {
   "cell_type": "code",
   "execution_count": 6,
   "id": "44d931a9-957e-4b09-99c2-307a52a8ab17",
   "metadata": {
    "execution": {
     "iopub.execute_input": "2024-01-09T07:11:20.271887Z",
     "iopub.status.busy": "2024-01-09T07:11:20.271477Z",
     "iopub.status.idle": "2024-01-09T07:11:20.296438Z",
     "shell.execute_reply": "2024-01-09T07:11:20.295608Z"
    }
   },
   "outputs": [],
   "source": [
    "train_transform = transforms.Compose([\n",
    "    transforms.ToImage(),\n",
    "    transforms.RandomHorizontalFlip(),\n",
    "    transforms.RandomCrop(32, padding=4, fill=127),\n",
    "    transforms.ColorJitter(brightness=0.2, contrast=0.2, saturation=0.2),\n",
    "    transforms.ToDtype(torch.float, scale=True),\n",
    "    transforms.RandomErasing(p=0.5, value=0.5)\n",
    "])"
   ]
  },
  {
   "cell_type": "code",
   "execution_count": 7,
   "id": "56f03854-87b7-4ec5-8cd1-82bbd46ea093",
   "metadata": {
    "execution": {
     "iopub.execute_input": "2024-01-09T07:11:20.300421Z",
     "iopub.status.busy": "2024-01-09T07:11:20.300110Z",
     "iopub.status.idle": "2024-01-09T07:11:20.303959Z",
     "shell.execute_reply": "2024-01-09T07:11:20.303174Z"
    }
   },
   "outputs": [],
   "source": [
    "val_transform = transforms.Compose([\n",
    "    transforms.ToImage(),\n",
    "    transforms.ToDtype(torch.float, scale=True),\n",
    "])"
   ]
  },
  {
   "cell_type": "code",
   "execution_count": 8,
   "id": "b9ff1f70-b2eb-4547-ac7c-bdfdb3b9c492",
   "metadata": {
    "execution": {
     "iopub.execute_input": "2024-01-09T07:11:20.307845Z",
     "iopub.status.busy": "2024-01-09T07:11:20.307540Z",
     "iopub.status.idle": "2024-01-09T07:11:21.555637Z",
     "shell.execute_reply": "2024-01-09T07:11:21.553034Z"
    }
   },
   "outputs": [
    {
     "name": "stdout",
     "output_type": "stream",
     "text": [
      "Files already downloaded and verified\n",
      "Files already downloaded and verified\n"
     ]
    }
   ],
   "source": [
    "train_dset = datasets.CIFAR10(root=DATA_DIR, train=True, download=True, transform=train_transform)\n",
    "test_dset = datasets.CIFAR10(root=DATA_DIR, train=False, download=True, transform=val_transform)"
   ]
  },
  {
   "cell_type": "code",
   "execution_count": 9,
   "id": "974eae60-5813-431b-9d94-6848b5a4f8ea",
   "metadata": {
    "execution": {
     "iopub.execute_input": "2024-01-09T07:11:21.560776Z",
     "iopub.status.busy": "2024-01-09T07:11:21.560474Z",
     "iopub.status.idle": "2024-01-09T07:11:21.566205Z",
     "shell.execute_reply": "2024-01-09T07:11:21.565392Z"
    }
   },
   "outputs": [],
   "source": [
    "train_loader = torch.utils.data.DataLoader(train_dset, batch_size=BATCH_SIZE, shuffle=True, num_workers=NUM_WORKERS)\n",
    "test_loader = torch.utils.data.DataLoader(test_dset, batch_size=BATCH_SIZE, shuffle=False, num_workers=NUM_WORKERS)"
   ]
  },
  {
   "cell_type": "code",
   "execution_count": 10,
   "id": "a19e5fbe-8f4b-4999-a2b2-e4f267168977",
   "metadata": {
    "execution": {
     "iopub.execute_input": "2024-01-09T07:11:21.570184Z",
     "iopub.status.busy": "2024-01-09T07:11:21.569842Z",
     "iopub.status.idle": "2024-01-09T07:11:21.574126Z",
     "shell.execute_reply": "2024-01-09T07:11:21.573379Z"
    }
   },
   "outputs": [],
   "source": [
    "def dataset_show_image(dset, idx):\n",
    "    X, Y = dset[idx]\n",
    "    title = \"Ground truth: {}\".format(dset.classes[Y])\n",
    "    fig = plt.figure()\n",
    "    ax = fig.add_subplot(111)\n",
    "    ax.set_axis_off()\n",
    "    ax.imshow(np.moveaxis(X.numpy(), 0, -1))\n",
    "    ax.set_title(title)\n",
    "    plt.show()"
   ]
  },
  {
   "cell_type": "code",
   "execution_count": 11,
   "id": "db53574e-dd84-44ca-a3aa-50ed5fb004a0",
   "metadata": {
    "execution": {
     "iopub.execute_input": "2024-01-09T07:11:21.578472Z",
     "iopub.status.busy": "2024-01-09T07:11:21.577657Z",
     "iopub.status.idle": "2024-01-09T07:11:21.641896Z",
     "shell.execute_reply": "2024-01-09T07:11:21.640975Z"
    }
   },
   "outputs": [
    {
     "data": {
      "image/png": "[encoded data removed]",
      "text/plain": [
       "<Figure size 640x480 with 1 Axes>"
      ]
     },
     "metadata": {},
     "output_type": "display_data"
    }
   ],
   "source": [
    "dataset_show_image(test_dset, 1)"
   ]
  },
  {
   "cell_type": "markdown",
   "id": "ea256214-3aff-409a-8204-4b3c9b1a15f2",
   "metadata": {},
   "source": [
    "## Model"
   ]
  },
  {
   "cell_type": "code",
   "execution_count": 12,
   "id": "1d580930-79ff-4c25-92bb-e34b8e24e1b6",
   "metadata": {
    "execution": {
     "iopub.execute_input": "2024-01-09T07:11:21.646019Z",
     "iopub.status.busy": "2024-01-09T07:11:21.645682Z",
     "iopub.status.idle": "2024-01-09T07:11:21.649718Z",
     "shell.execute_reply": "2024-01-09T07:11:21.648956Z"
    }
   },
   "outputs": [],
   "source": [
    "class NormAct(nn.Sequential):\n",
    "    def __init__(self, channels):\n",
    "        super().__init__(\n",
    "            nn.BatchNorm2d(channels),\n",
    "        \tnn.ReLU(inplace=True)\n",
    "        )"
   ]
  },
  {
   "cell_type": "code",
   "execution_count": 13,
   "id": "4838b274-2fde-4fd4-9926-770ec8ca2a16",
   "metadata": {
    "execution": {
     "iopub.execute_input": "2024-01-09T07:11:21.653405Z",
     "iopub.status.busy": "2024-01-09T07:11:21.653105Z",
     "iopub.status.idle": "2024-01-09T07:11:21.658107Z",
     "shell.execute_reply": "2024-01-09T07:11:21.657342Z"
    }
   },
   "outputs": [],
   "source": [
    "class ResidualBlock(nn.Module):\n",
    "    def __init__(self, channels, stride=1, p_drop=0.):\n",
    "        super().__init__()\n",
    "        self.shortcut = nn.Dropout(p_drop)\n",
    "        if stride > 1:\n",
    "            self.shortcut = nn.Sequential(\n",
    "                nn.Conv2d(channels, channels, stride, stride=stride, groups=channels, bias=False),\n",
    "                self.shortcut\n",
    "            )\n",
    "        self.residual = nn.Sequential(\n",
    "            NormAct(channels),\n",
    "            nn.Conv2d(channels, channels, 2 + stride, stride=stride, padding=1, groups=channels, bias=False),\n",
    "            NormAct(channels),\n",
    "            nn.Conv2d(channels, channels, 1, bias=False),\n",
    "        )\n",
    "        self.γ = nn.Parameter(torch.tensor(0.))\n",
    "\n",
    "    def forward(self, x):\n",
    "        out = self.shortcut(x) + self.γ * self.residual(x)\n",
    "        return out"
   ]
  },
  {
   "cell_type": "code",
   "execution_count": 14,
   "id": "f06da46f-0923-4403-b7fc-7aa103e0fb56",
   "metadata": {
    "execution": {
     "iopub.execute_input": "2024-01-09T07:11:21.662002Z",
     "iopub.status.busy": "2024-01-09T07:11:21.661184Z",
     "iopub.status.idle": "2024-01-09T07:11:21.665534Z",
     "shell.execute_reply": "2024-01-09T07:11:21.664756Z"
    }
   },
   "outputs": [],
   "source": [
    "class Head(nn.Sequential):\n",
    "    def __init__(self, channels, classes, p_drop=0.):\n",
    "        super().__init__(\n",
    "            NormAct(channels),\n",
    "            nn.AdaptiveAvgPool2d(1),\n",
    "            nn.Flatten(),\n",
    "            nn.Dropout(p_drop),\n",
    "            nn.Linear(channels, classes)\n",
    "        )"
   ]
  },
  {
   "cell_type": "code",
   "execution_count": 15,
   "id": "608c14ba-3ef2-469f-b471-ae416fe83f22",
   "metadata": {
    "execution": {
     "iopub.execute_input": "2024-01-09T07:11:21.669362Z",
     "iopub.status.busy": "2024-01-09T07:11:21.668661Z",
     "iopub.status.idle": "2024-01-09T07:11:21.672266Z",
     "shell.execute_reply": "2024-01-09T07:11:21.671504Z"
    }
   },
   "outputs": [],
   "source": [
    "def Stem(in_channels, out_channels):\n",
    "    return nn.Conv2d(in_channels, out_channels, 3, padding=1, bias=False)"
   ]
  },
  {
   "cell_type": "code",
   "execution_count": 16,
   "id": "198ceec0-fb6e-4bfa-93e4-3fb1aef3bf54",
   "metadata": {
    "execution": {
     "iopub.execute_input": "2024-01-09T07:11:21.676149Z",
     "iopub.status.busy": "2024-01-09T07:11:21.675266Z",
     "iopub.status.idle": "2024-01-09T07:11:21.679633Z",
     "shell.execute_reply": "2024-01-09T07:11:21.678883Z"
    }
   },
   "outputs": [],
   "source": [
    "class Net(nn.Sequential):\n",
    "    def __init__(self, classes, width=32, in_channels=3, res_p_drop=0., head_p_drop=0.):\n",
    "        strides = [1, 2, 1, 2, 1, 2, 1]\n",
    "        super().__init__(\n",
    "            Stem(in_channels, width),\n",
    "            *[ResidualBlock(width, stride=stride, p_drop=res_p_drop) for stride in strides],\n",
    "            Head(width, classes, p_drop=head_p_drop)\n",
    "        )"
   ]
  },
  {
   "cell_type": "code",
   "execution_count": 17,
   "id": "d55e1490-0fda-46e7-afd5-7d1d2678243d",
   "metadata": {
    "execution": {
     "iopub.execute_input": "2024-01-09T07:11:21.682764Z",
     "iopub.status.busy": "2024-01-09T07:11:21.682619Z",
     "iopub.status.idle": "2024-01-09T07:11:21.686632Z",
     "shell.execute_reply": "2024-01-09T07:11:21.685833Z"
    }
   },
   "outputs": [],
   "source": [
    "def reset_parameters(model):\n",
    "    for m in model.modules():\n",
    "        if isinstance(m, (nn.Linear, nn.Conv2d)):\n",
    "            nn.init.xavier_normal_(m.weight)\n",
    "            if m.bias is not None: nn.init.zeros_(m.bias)\n",
    "        elif isinstance(m, nn.BatchNorm2d):\n",
    "            nn.init.constant_(m.weight, 1.)\n",
    "            nn.init.zeros_(m.bias)\n",
    "        elif isinstance(m, ResidualBlock):\n",
    "            nn.init.zeros_(m.γ)"
   ]
  },
  {
   "cell_type": "code",
   "execution_count": 18,
   "id": "8f93b948-6dd5-4710-a8e7-29241f1e7886",
   "metadata": {
    "execution": {
     "iopub.execute_input": "2024-01-09T07:11:21.690622Z",
     "iopub.status.busy": "2024-01-09T07:11:21.689828Z",
     "iopub.status.idle": "2024-01-09T07:11:22.626344Z",
     "shell.execute_reply": "2024-01-09T07:11:22.625067Z"
    }
   },
   "outputs": [],
   "source": [
    "model = Net(NUM_CLASSES, width=96, res_p_drop=0.1, head_p_drop=0.1).to(DEVICE)"
   ]
  },
  {
   "cell_type": "code",
   "execution_count": 19,
   "id": "a921232b-f807-4d1e-a866-e20e7b303772",
   "metadata": {
    "execution": {
     "iopub.execute_input": "2024-01-09T07:11:22.630493Z",
     "iopub.status.busy": "2024-01-09T07:11:22.630265Z",
     "iopub.status.idle": "2024-01-09T07:11:22.635097Z",
     "shell.execute_reply": "2024-01-09T07:11:22.634350Z"
    }
   },
   "outputs": [],
   "source": [
    "reset_parameters(model)"
   ]
  },
  {
   "cell_type": "code",
   "execution_count": 20,
   "id": "67e7591c-583d-4879-b4c1-a2616c6800cd",
   "metadata": {
    "execution": {
     "iopub.execute_input": "2024-01-09T07:11:22.638374Z",
     "iopub.status.busy": "2024-01-09T07:11:22.638234Z",
     "iopub.status.idle": "2024-01-09T07:11:22.642443Z",
     "shell.execute_reply": "2024-01-09T07:11:22.641644Z"
    }
   },
   "outputs": [
    {
     "name": "stdout",
     "output_type": "stream",
     "text": [
      "Number of parameters: 80,177\n"
     ]
    }
   ],
   "source": [
    "print(\"Number of parameters: {:,}\".format(sum(p.numel() for p in model.parameters())))"
   ]
  },
  {
   "cell_type": "markdown",
   "id": "f321926c-bd0e-4cdb-a9fd-b2f9d7ba4ced",
   "metadata": {},
   "source": [
    "## Training"
   ]
  },
  {
   "cell_type": "markdown",
   "id": "e04b4d16-2770-4cc6-bcda-44f7dc53ff9e",
   "metadata": {},
   "source": [
    "### Trainer setup"
   ]
  },
  {
   "cell_type": "markdown",
   "id": "ed7b5591-c666-47e8-97b9-18a1831d1401",
   "metadata": {},
   "source": [
    "Trainer"
   ]
  },
  {
   "cell_type": "code",
   "execution_count": 21,
   "id": "911594a0-96aa-4141-8b63-d08e35b17e20",
   "metadata": {
    "execution": {
     "iopub.execute_input": "2024-01-09T07:11:22.646477Z",
     "iopub.status.busy": "2024-01-09T07:11:22.646257Z",
     "iopub.status.idle": "2024-01-09T07:11:22.649627Z",
     "shell.execute_reply": "2024-01-09T07:11:22.648829Z"
    }
   },
   "outputs": [],
   "source": [
    "loss = nn.CrossEntropyLoss()"
   ]
  },
  {
   "cell_type": "code",
   "execution_count": 22,
   "id": "3ada98ce-db10-4fc5-9799-78cb95de52d0",
   "metadata": {
    "execution": {
     "iopub.execute_input": "2024-01-09T07:11:22.653371Z",
     "iopub.status.busy": "2024-01-09T07:11:22.652690Z",
     "iopub.status.idle": "2024-01-09T07:11:22.656408Z",
     "shell.execute_reply": "2024-01-09T07:11:22.655637Z"
    }
   },
   "outputs": [],
   "source": [
    "params = [p for p in model.parameters() if p.requires_grad]"
   ]
  },
  {
   "cell_type": "code",
   "execution_count": 23,
   "id": "921cce85-6993-41b0-af30-4fb16b68b813",
   "metadata": {
    "execution": {
     "iopub.execute_input": "2024-01-09T07:11:22.660199Z",
     "iopub.status.busy": "2024-01-09T07:11:22.659298Z",
     "iopub.status.idle": "2024-01-09T07:11:22.663426Z",
     "shell.execute_reply": "2024-01-09T07:11:22.662646Z"
    }
   },
   "outputs": [],
   "source": [
    "optimizer = optim.AdamW(params, lr=1e-6, weight_decay=WEIGHT_DECAY)"
   ]
  },
  {
   "cell_type": "code",
   "execution_count": 24,
   "id": "a9898d90-1ac7-4c0a-9eff-646021378698",
   "metadata": {
    "execution": {
     "iopub.execute_input": "2024-01-09T07:11:22.666213Z",
     "iopub.status.busy": "2024-01-09T07:11:22.666066Z",
     "iopub.status.idle": "2024-01-09T07:11:22.669996Z",
     "shell.execute_reply": "2024-01-09T07:11:22.669194Z"
    }
   },
   "outputs": [],
   "source": [
    "trainer = create_supervised_trainer(model, optimizer, loss, device=DEVICE,\n",
    "                                    output_transform=lambda x, y, y_pred, loss: (y_pred, y, loss.item()))"
   ]
  },
  {
   "cell_type": "code",
   "execution_count": 25,
   "id": "3e16a892-b50b-4569-9b3a-c22e9d1d0cb1",
   "metadata": {
    "execution": {
     "iopub.execute_input": "2024-01-09T07:11:22.673777Z",
     "iopub.status.busy": "2024-01-09T07:11:22.672915Z",
     "iopub.status.idle": "2024-01-09T07:11:22.676981Z",
     "shell.execute_reply": "2024-01-09T07:11:22.676179Z"
    }
   },
   "outputs": [],
   "source": [
    "lr_scheduler = optim.lr_scheduler.OneCycleLR(optimizer, max_lr=LEARNING_RATE,\n",
    "                                             steps_per_epoch=len(train_loader), epochs=EPOCHS)"
   ]
  },
  {
   "cell_type": "code",
   "execution_count": 26,
   "id": "f1b38edf-1fc1-4cc5-8eca-a2b97fd4fa8e",
   "metadata": {
    "execution": {
     "iopub.execute_input": "2024-01-09T07:11:22.680106Z",
     "iopub.status.busy": "2024-01-09T07:11:22.679740Z",
     "iopub.status.idle": "2024-01-09T07:11:22.683267Z",
     "shell.execute_reply": "2024-01-09T07:11:22.682473Z"
    }
   },
   "outputs": [],
   "source": [
    "trainer.add_event_handler(Events.ITERATION_COMPLETED, lambda engine: lr_scheduler.step());"
   ]
  },
  {
   "cell_type": "code",
   "execution_count": 27,
   "id": "bb05c68a-9201-43ff-b74c-677712cd88b0",
   "metadata": {
    "execution": {
     "iopub.execute_input": "2024-01-09T07:11:22.686406Z",
     "iopub.status.busy": "2024-01-09T07:11:22.685918Z",
     "iopub.status.idle": "2024-01-09T07:11:22.689645Z",
     "shell.execute_reply": "2024-01-09T07:11:22.688875Z"
    }
   },
   "outputs": [],
   "source": [
    "ignite.metrics.RunningAverage(output_transform=lambda output: output[2]).attach(trainer, \"loss\")"
   ]
  },
  {
   "cell_type": "code",
   "execution_count": 28,
   "id": "5e84d03c-693e-4977-9ee5-3efe18ed9a73",
   "metadata": {
    "execution": {
     "iopub.execute_input": "2024-01-09T07:11:22.693320Z",
     "iopub.status.busy": "2024-01-09T07:11:22.692644Z",
     "iopub.status.idle": "2024-01-09T07:11:22.696587Z",
     "shell.execute_reply": "2024-01-09T07:11:22.695787Z"
    }
   },
   "outputs": [],
   "source": [
    "ignite.metrics.Accuracy(output_transform=lambda output: (output[0], output[1])).attach(trainer, \"accuracy\")"
   ]
  },
  {
   "cell_type": "code",
   "execution_count": 29,
   "id": "0134544e-7178-42eb-8eaa-309fd16b561d",
   "metadata": {
    "execution": {
     "iopub.execute_input": "2024-01-09T07:11:22.700342Z",
     "iopub.status.busy": "2024-01-09T07:11:22.699620Z",
     "iopub.status.idle": "2024-01-09T07:11:22.703271Z",
     "shell.execute_reply": "2024-01-09T07:11:22.702494Z"
    }
   },
   "outputs": [],
   "source": [
    "pbar = ignite.contrib.handlers.ProgressBar(persist=True, ncols=140)"
   ]
  },
  {
   "cell_type": "code",
   "execution_count": 30,
   "id": "d8c1ea1d-27b3-4fe5-b7c4-c7e4b03f5fab",
   "metadata": {
    "execution": {
     "iopub.execute_input": "2024-01-09T07:11:22.706495Z",
     "iopub.status.busy": "2024-01-09T07:11:22.706010Z",
     "iopub.status.idle": "2024-01-09T07:11:22.709525Z",
     "shell.execute_reply": "2024-01-09T07:11:22.708738Z"
    }
   },
   "outputs": [],
   "source": [
    "pbar.attach(trainer, event_name=Events.EPOCH_COMPLETED, closing_event_name=Events.COMPLETED)"
   ]
  },
  {
   "cell_type": "markdown",
   "id": "900bcac6-349e-4a21-964a-d04ab611839e",
   "metadata": {},
   "source": [
    "Evaluator"
   ]
  },
  {
   "cell_type": "code",
   "execution_count": 31,
   "id": "33cc803e-5782-4e91-8af8-1620efef3ab2",
   "metadata": {
    "execution": {
     "iopub.execute_input": "2024-01-09T07:11:22.713391Z",
     "iopub.status.busy": "2024-01-09T07:11:22.712712Z",
     "iopub.status.idle": "2024-01-09T07:11:22.716348Z",
     "shell.execute_reply": "2024-01-09T07:11:22.715563Z"
    }
   },
   "outputs": [],
   "source": [
    "val_metrics = {\"accuracy\": ignite.metrics.Accuracy(), \"loss\": ignite.metrics.Loss(loss)}"
   ]
  },
  {
   "cell_type": "code",
   "execution_count": 32,
   "id": "ec0a7a68-20d0-40fa-9a06-0b201436ea0d",
   "metadata": {
    "execution": {
     "iopub.execute_input": "2024-01-09T07:11:22.719750Z",
     "iopub.status.busy": "2024-01-09T07:11:22.719108Z",
     "iopub.status.idle": "2024-01-09T07:11:22.723193Z",
     "shell.execute_reply": "2024-01-09T07:11:22.722410Z"
    }
   },
   "outputs": [],
   "source": [
    "evaluator = create_supervised_evaluator(model, metrics=val_metrics, device=DEVICE)"
   ]
  },
  {
   "cell_type": "code",
   "execution_count": 33,
   "id": "f6c60b1f-2512-44a3-bb45-d6404b164d62",
   "metadata": {
    "execution": {
     "iopub.execute_input": "2024-01-09T07:11:22.726399Z",
     "iopub.status.busy": "2024-01-09T07:11:22.725920Z",
     "iopub.status.idle": "2024-01-09T07:11:22.729143Z",
     "shell.execute_reply": "2024-01-09T07:11:22.728370Z"
    }
   },
   "outputs": [],
   "source": [
    "history = defaultdict(list)"
   ]
  },
  {
   "cell_type": "code",
   "execution_count": 34,
   "id": "e56e2f68-c027-40a6-89c7-88d1582e4e42",
   "metadata": {
    "execution": {
     "iopub.execute_input": "2024-01-09T07:11:22.731864Z",
     "iopub.status.busy": "2024-01-09T07:11:22.731717Z",
     "iopub.status.idle": "2024-01-09T07:11:22.736131Z",
     "shell.execute_reply": "2024-01-09T07:11:22.735347Z"
    }
   },
   "outputs": [],
   "source": [
    "@trainer.on(Events.EPOCH_COMPLETED)\n",
    "def log_validation_results(engine):\n",
    "    train_state = engine.state\n",
    "    epoch = train_state.epoch\n",
    "    max_epochs = train_state.max_epochs\n",
    "    train_loss = train_state.metrics[\"loss\"]\n",
    "    train_acc = train_state.metrics[\"accuracy\"]\n",
    "    history['train loss'].append(train_loss)\n",
    "    history['train acc'].append(train_acc)\n",
    "    \n",
    "    evaluator.run(test_loader)\n",
    "    val_metrics = evaluator.state.metrics\n",
    "    val_loss = val_metrics[\"loss\"]\n",
    "    val_acc = val_metrics[\"accuracy\"]\n",
    "    history['val loss'].append(val_loss)\n",
    "    history['val acc'].append(val_acc)\n",
    "\n",
    "    pbar.pbar.set_postfix({\"loss\": f\"{train_loss:.3f}\",\n",
    "                           \"acc\": f\"{train_acc:.3f}\",\n",
    "                           \"val loss\": f\"{val_loss:.3f}\",\n",
    "                           \"val acc\": f\"{val_acc:.3f}\"})"
   ]
  },
  {
   "cell_type": "markdown",
   "id": "b5e09d78-e795-4bd4-b82c-99f41aa84be9",
   "metadata": {},
   "source": [
    "### Start training"
   ]
  },
  {
   "cell_type": "code",
   "execution_count": 35,
   "id": "edb796ed-26e7-4bf6-993a-9e910275fbd9",
   "metadata": {
    "execution": {
     "iopub.execute_input": "2024-01-09T07:11:22.739914Z",
     "iopub.status.busy": "2024-01-09T07:11:22.739215Z",
     "iopub.status.idle": "2024-01-09T16:06:11.782927Z",
     "shell.execute_reply": "2024-01-09T16:06:11.782136Z"
    }
   },
   "outputs": [
    {
     "name": "stderr",
     "output_type": "stream",
     "text": [
      "Epoch: [2000/2000] 100%|██████████████████████████████████████████████, loss=0.100, acc=0.964, val loss=0.270, val acc=0.937 [8:54:31<00:00]\n"
     ]
    }
   ],
   "source": [
    "trainer.run(train_loader, max_epochs=EPOCHS);"
   ]
  },
  {
   "cell_type": "code",
   "execution_count": 36,
   "id": "90543eba-aa07-45c2-8493-457ae9bbca33",
   "metadata": {
    "execution": {
     "iopub.execute_input": "2024-01-09T16:06:11.786759Z",
     "iopub.status.busy": "2024-01-09T16:06:11.786598Z",
     "iopub.status.idle": "2024-01-09T16:06:11.790995Z",
     "shell.execute_reply": "2024-01-09T16:06:11.790409Z"
    }
   },
   "outputs": [],
   "source": [
    "def history_plot_train_val(history, key):\n",
    "    fig = plt.figure()\n",
    "    ax = fig.add_subplot(111)\n",
    "    xs = np.arange(1, len(history['train ' + key]) + 1)\n",
    "    ax.plot(xs, history['train ' + key], '.-', label='train')\n",
    "    ax.plot(xs, history['val ' + key], '.-', label='val')\n",
    "    ax.set_xlabel('epoch')\n",
    "    ax.set_ylabel(key)\n",
    "    ax.legend()\n",
    "    ax.grid()\n",
    "    plt.show()"
   ]
  },
  {
   "cell_type": "code",
   "execution_count": 37,
   "id": "eadf169c-e2ef-45fb-b476-849303783947",
   "metadata": {
    "execution": {
     "iopub.execute_input": "2024-01-09T16:06:11.793955Z",
     "iopub.status.busy": "2024-01-09T16:06:11.793600Z",
     "iopub.status.idle": "2024-01-09T16:06:11.899827Z",
     "shell.execute_reply": "2024-01-09T16:06:11.899085Z"
    }
   },
   "outputs": [
    {
     "data": {
      "image/png": "[encoded data removed]",
      "text/plain": [
       "<Figure size 640x480 with 1 Axes>"
      ]
     },
     "metadata": {},
     "output_type": "display_data"
    }
   ],
   "source": [
    "history_plot_train_val(history, 'loss')"
   ]
  },
  {
   "cell_type": "code",
   "execution_count": 38,
   "id": "004d34c1-c2b6-43d5-a5fb-787ece8e6ae9",
   "metadata": {
    "execution": {
     "iopub.execute_input": "2024-01-09T16:06:11.902952Z",
     "iopub.status.busy": "2024-01-09T16:06:11.902825Z",
     "iopub.status.idle": "2024-01-09T16:06:12.001344Z",
     "shell.execute_reply": "2024-01-09T16:06:12.000601Z"
    }
   },
   "outputs": [
    {
     "data": {
      "image/png": "[encoded data removed]",
      "text/plain": [
       "<Figure size 640x480 with 1 Axes>"
      ]
     },
     "metadata": {},
     "output_type": "display_data"
    }
   ],
   "source": [
    "history_plot_train_val(history, 'acc')"
   ]
  }
 ],
 "metadata": {
  "kernelspec": {
   "display_name": "Python 3 (ipykernel)",
   "language": "python",
   "name": "python3"
  },
  "language_info": {
   "codemirror_mode": {
    "name": "ipython",
    "version": 3
   },
   "file_extension": ".py",
   "mimetype": "text/x-python",
   "name": "python",
   "nbconvert_exporter": "python",
   "pygments_lexer": "ipython3",
   "version": "3.10.12"
  }
 },
 "nbformat": 4,
 "nbformat_minor": 5
}
