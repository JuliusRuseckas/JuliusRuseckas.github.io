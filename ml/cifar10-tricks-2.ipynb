{
 "cells": [
  {
   "cell_type": "markdown",
   "metadata": {
    "Collapsed": "false",
    "colab_type": "text",
    "id": "XWfjdA6zq0-j"
   },
   "source": [
    "# Neural network training tricks II"
   ]
  },
  {
   "cell_type": "markdown",
   "metadata": {
    "colab_type": "text",
    "id": "hZ5qmE6Sij31"
   },
   "source": [
    "From [fast.ai](https://course.fast.ai/) course for year 2018.\n",
    "\n",
    "Fast.ai [book](https://github.com/fastai/fastbook).\n",
    "\n",
    "CIFAR10 image classification"
   ]
  },
  {
   "cell_type": "markdown",
   "metadata": {
    "colab_type": "text",
    "id": "vNNBp3Ncjcqn"
   },
   "source": [
    "## Google Colab"
   ]
  },
  {
   "cell_type": "markdown",
   "metadata": {
    "colab_type": "text",
    "id": "-VQtD1Ttjg4H"
   },
   "source": [
    "Some tricks from [blog post](https://medium.com/@robertbracco1/configuring-google-colab-like-a-pro-d61c253f7573):"
   ]
  },
  {
   "cell_type": "code",
   "execution_count": null,
   "metadata": {
    "colab": {
     "base_uri": "https://localhost:8080/",
     "height": 17
    },
    "colab_type": "code",
    "id": "SiSaz_gekB5M",
    "outputId": "0a044a5c-810d-482d-c3c5-06fd24435e7c"
   },
   "outputs": [
    {
     "data": {
      "application/javascript": [
       "function ClickConnect(){\n",
       "console.log(\"Working\");\n",
       "document.querySelector(\"colab-toolbar-button#connect\").click()\n",
       "}\n",
       "setInterval(ClickConnect,60000)"
      ],
      "text/plain": [
       "<IPython.core.display.Javascript object>"
      ]
     },
     "metadata": {
      "tags": []
     },
     "output_type": "display_data"
    }
   ],
   "source": [
    "%%javascript\n",
    "function ClickConnect(){\n",
    "console.log(\"Working\");\n",
    "document.querySelector(\"colab-toolbar-button#connect\").click()\n",
    "}\n",
    "setInterval(ClickConnect,60000)"
   ]
  },
  {
   "cell_type": "markdown",
   "metadata": {
    "colab_type": "text",
    "id": "OK2fB6iykMSJ"
   },
   "source": [
    "Use `wget` to download datasets to Google Drive - it's faster:"
   ]
  },
  {
   "cell_type": "code",
   "execution_count": null,
   "metadata": {
    "colab": {},
    "colab_type": "code",
    "id": "-P0FQJVIkQcK"
   },
   "outputs": [],
   "source": [
    "# ! wget -c -P '/content/drive/My Drive/Colab Notebooks/data/' <URL>"
   ]
  },
  {
   "cell_type": "markdown",
   "metadata": {
    "colab_type": "text",
    "id": "ghiE_RTBkl9I"
   },
   "source": [
    "Use [Gdown](https://github.com/wkentaro/gdown) for downloading public Google Drive files"
   ]
  },
  {
   "cell_type": "code",
   "execution_count": null,
   "metadata": {
    "colab": {},
    "colab_type": "code",
    "id": "8n8IEr9_lCJr"
   },
   "outputs": [],
   "source": [
    "# ! pip install gdown -q\n",
    "# ! gdown <URL>"
   ]
  },
  {
   "cell_type": "markdown",
   "metadata": {
    "colab_type": "text",
    "id": "njNVLEDmlWx2"
   },
   "source": [
    "Run Tensorboard"
   ]
  },
  {
   "cell_type": "code",
   "execution_count": null,
   "metadata": {
    "colab": {},
    "colab_type": "code",
    "id": "BsFj31Valanb"
   },
   "outputs": [],
   "source": [
    "%load_ext tensorboard"
   ]
  },
  {
   "cell_type": "code",
   "execution_count": null,
   "metadata": {
    "colab": {},
    "colab_type": "code",
    "id": "O1a9S3P0oAid"
   },
   "outputs": [],
   "source": [
    "# %tensorboard --logdir logs"
   ]
  },
  {
   "cell_type": "markdown",
   "metadata": {
    "Collapsed": "true",
    "colab_type": "text",
    "id": "p9RL0eKe7v-b"
   },
   "source": [
    "## Configuration"
   ]
  },
  {
   "cell_type": "markdown",
   "metadata": {
    "Collapsed": "false",
    "colab_type": "text",
    "id": "jeR3zzSfq0-t"
   },
   "source": [
    "Imports"
   ]
  },
  {
   "cell_type": "code",
   "execution_count": null,
   "metadata": {
    "Collapsed": "false",
    "colab": {},
    "colab_type": "code",
    "id": "fHVJPPGPq0-y"
   },
   "outputs": [],
   "source": [
    "import numpy as np\n",
    "from itertools import islice\n",
    "import copy\n",
    "import math\n",
    "\n",
    "import torch\n",
    "import torch.nn as nn\n",
    "import torch.nn.functional as F\n",
    "import torch.optim as optim\n",
    "import torchvision\n",
    "from torchvision import datasets, transforms\n",
    "import torchvision.transforms.functional as TF\n",
    "\n",
    "import matplotlib.pyplot as plt"
   ]
  },
  {
   "cell_type": "markdown",
   "metadata": {
    "Collapsed": "false",
    "colab_type": "text",
    "id": "YUjzKE7wq0_e"
   },
   "source": [
    "Configuration"
   ]
  },
  {
   "cell_type": "code",
   "execution_count": null,
   "metadata": {
    "Collapsed": "false",
    "colab": {},
    "colab_type": "code",
    "id": "9q84mHpSq0_h"
   },
   "outputs": [],
   "source": [
    "NUM_CLASSES = 10\n",
    "BATCH_SIZE = 32"
   ]
  },
  {
   "cell_type": "code",
   "execution_count": null,
   "metadata": {
    "Collapsed": "false",
    "colab": {
     "base_uri": "https://localhost:8080/",
     "height": 34
    },
    "colab_type": "code",
    "id": "J6EDWr9Yq0_q",
    "outputId": "59934557-4d04-4db5-d331-2bc21b4195d1"
   },
   "outputs": [
    {
     "name": "stdout",
     "output_type": "stream",
     "text": [
      "device: cuda\n"
     ]
    }
   ],
   "source": [
    "DEVICE = torch.device(\"cuda\") if torch.cuda.is_available() else torch.device(\"cpu\")\n",
    "print(\"device:\", DEVICE)"
   ]
  },
  {
   "cell_type": "markdown",
   "metadata": {
    "Collapsed": "false",
    "colab_type": "text",
    "id": "O4cDLkp_q0_2"
   },
   "source": [
    "## Dataset"
   ]
  },
  {
   "cell_type": "code",
   "execution_count": null,
   "metadata": {
    "Collapsed": "false",
    "colab": {},
    "colab_type": "code",
    "id": "qP6AUK71q0_6"
   },
   "outputs": [],
   "source": [
    "train_transform = transforms.Compose([\n",
    "    transforms.RandomHorizontalFlip(),\n",
    "    transforms.RandomCrop(32, padding=4),\n",
    "    transforms.ColorJitter(brightness=0.2, contrast=0.2, saturation=0.2),\n",
    "    transforms.ToTensor()\n",
    "])"
   ]
  },
  {
   "cell_type": "code",
   "execution_count": null,
   "metadata": {
    "Collapsed": "false",
    "colab": {
     "base_uri": "https://localhost:8080/",
     "height": 52
    },
    "colab_type": "code",
    "id": "gufm2KRuq1AF",
    "outputId": "5ea42157-1ed1-4c92-f5ff-328997361003"
   },
   "outputs": [
    {
     "name": "stdout",
     "output_type": "stream",
     "text": [
      "Files already downloaded and verified\n",
      "Files already downloaded and verified\n"
     ]
    }
   ],
   "source": [
    "train_dset = datasets.CIFAR10(root='.', train=True, download=True, transform=train_transform)\n",
    "test_dset = datasets.CIFAR10(root='.', train=False, download=True, transform=transforms.ToTensor())\n",
    "\n",
    "train_loader = torch.utils.data.DataLoader(train_dset, batch_size=BATCH_SIZE, shuffle=True, num_workers=4)\n",
    "test_loader = torch.utils.data.DataLoader(test_dset, batch_size=BATCH_SIZE, shuffle=False, num_workers=4)"
   ]
  },
  {
   "cell_type": "code",
   "execution_count": null,
   "metadata": {
    "Collapsed": "false",
    "colab": {},
    "colab_type": "code",
    "id": "i2KnJFEyq1Ag"
   },
   "outputs": [],
   "source": [
    "def dataset_show_image(dset, idx):\n",
    "    X, Y = dset[idx]\n",
    "    title = \"Ground truth: {}\".format(dset.classes[Y])\n",
    "    fig = plt.figure()\n",
    "    ax = fig.add_subplot(111)\n",
    "    ax.set_axis_off()\n",
    "    ax.imshow(np.moveaxis(X.numpy(), 0, -1))\n",
    "    ax.set_title(title)\n",
    "    plt.show()"
   ]
  },
  {
   "cell_type": "code",
   "execution_count": null,
   "metadata": {
    "Collapsed": "false",
    "colab": {
     "base_uri": "https://localhost:8080/",
     "height": 264
    },
    "colab_type": "code",
    "id": "KML5a4Ctq1Am",
    "outputId": "2f679b91-86d6-4afb-9971-9fe2f8696743"
   },
   "outputs": [
    {
     "data": {
      "image/png": "[encoded data removed]",
      "text/plain": [
       "<Figure size 432x288 with 1 Axes>"
      ]
     },
     "metadata": {
      "needs_background": "light",
      "tags": []
     },
     "output_type": "display_data"
    }
   ],
   "source": [
    "dataset_show_image(test_dset, 1)"
   ]
  },
  {
   "cell_type": "markdown",
   "metadata": {
    "Collapsed": "true",
    "colab_type": "text",
    "id": "08aMOgN8q1Ay"
   },
   "source": [
    "## Model"
   ]
  },
  {
   "cell_type": "markdown",
   "metadata": {
    "colab_type": "text",
    "id": "188Bl5XeU0Ky"
   },
   "source": [
    "Darknet from YOLOv3, [arXiv:1804.02767 [cs.CV]](https://arxiv.org/abs/1804.02767)."
   ]
  },
  {
   "cell_type": "code",
   "execution_count": null,
   "metadata": {
    "Collapsed": "false",
    "colab": {},
    "colab_type": "code",
    "id": "QYUGElIAlGFw"
   },
   "outputs": [],
   "source": [
    "def init_linear(m):\n",
    "    nn.init.kaiming_normal_(m.weight, a=0.1, mode='fan_out', nonlinearity='leaky_relu')\n",
    "    if m.bias is not None: nn.init.zeros_(m.bias)"
   ]
  },
  {
   "cell_type": "code",
   "execution_count": null,
   "metadata": {
    "Collapsed": "false",
    "colab": {},
    "colab_type": "code",
    "id": "ZgIImsKIqL7N"
   },
   "outputs": [],
   "source": [
    "class ConvBlock(nn.Sequential):\n",
    "    def __init__(self, filters1, filters2, kernel_size, stride=1):\n",
    "        padding = (kernel_size - 1) // 2\n",
    "        super().__init__(\n",
    "            nn.Conv2d(filters1, filters2, kernel_size, stride=stride, padding=padding, bias=False),\n",
    "            nn.BatchNorm2d(filters2),\n",
    "            nn.LeakyReLU(negative_slope=0.1, inplace=True)\n",
    "        )\n",
    "    \n",
    "    def reset_parameters(self):\n",
    "        init_linear(self[0])\n",
    "        self[1].reset_parameters()"
   ]
  },
  {
   "cell_type": "code",
   "execution_count": null,
   "metadata": {
    "Collapsed": "false",
    "colab": {},
    "colab_type": "code",
    "id": "Dj0WMHUGq1A3"
   },
   "outputs": [],
   "source": [
    "class ResidualBlock(nn.Module):\n",
    "    def __init__(self, filters):\n",
    "        super().__init__()\n",
    "        filters2 = filters // 2\n",
    "        self.residual = nn.Sequential(\n",
    "            ConvBlock(filters, filters2, 1),\n",
    "            ConvBlock(filters2, filters, 3)\n",
    "        )\n",
    "\n",
    "    def forward(self, x):\n",
    "        return x + self.residual(x)"
   ]
  },
  {
   "cell_type": "code",
   "execution_count": null,
   "metadata": {
    "Collapsed": "false",
    "colab": {},
    "colab_type": "code",
    "id": "0X3peUU6q1BB"
   },
   "outputs": [],
   "source": [
    "class Darknet(nn.Sequential):\n",
    "    def __init__(self, repetitions, classes):\n",
    "        super().__init__()\n",
    "        \n",
    "        layers = [ConvBlock(3, 32, 3)]\n",
    "        \n",
    "        prev_filters = 32\n",
    "        for rep in repetitions:\n",
    "            filters = prev_filters * 2\n",
    "            layers.append(ConvBlock(prev_filters, filters, 3, stride=2))\n",
    "            layers += [ResidualBlock(filters) for _ in range(rep)]\n",
    "            prev_filters = filters\n",
    "        \n",
    "        layers += [nn.AdaptiveAvgPool2d(1),\n",
    "                   nn.Flatten(),\n",
    "                   nn.Linear(prev_filters, classes),\n",
    "                   nn.LogSoftmax(1)]\n",
    "        \n",
    "        super().__init__(*layers)\n",
    "        self.reset_parameters()\n",
    "        \n",
    "    def reset_parameters(self):\n",
    "        for m in self.modules():\n",
    "            if isinstance(m, ConvBlock) or isinstance(m, nn.Linear):\n",
    "                m.reset_parameters()"
   ]
  },
  {
   "cell_type": "code",
   "execution_count": null,
   "metadata": {
    "Collapsed": "false",
    "colab": {},
    "colab_type": "code",
    "id": "k4O1MXQyq1BL"
   },
   "outputs": [],
   "source": [
    "model = Darknet([1, 2, 2, 2], NUM_CLASSES).to(DEVICE) "
   ]
  },
  {
   "cell_type": "markdown",
   "metadata": {
    "colab_type": "text",
    "id": "ytwLzv_PcTbU"
   },
   "source": [
    "## Test time augmentation"
   ]
  },
  {
   "cell_type": "code",
   "execution_count": null,
   "metadata": {
    "colab": {},
    "colab_type": "code",
    "id": "z-OxvA2Wc4zw"
   },
   "outputs": [],
   "source": [
    "tta_transform = transforms.Compose([\n",
    "    transforms.Lambda(lambda img: [img, TF.hflip(img)]),\n",
    "    transforms.Lambda(lambda imgs: torch.stack([transforms.ToTensor()(img) for img in imgs])) \n",
    "])"
   ]
  },
  {
   "cell_type": "code",
   "execution_count": null,
   "metadata": {
    "colab": {},
    "colab_type": "code",
    "id": "m4eYucnKcXQa"
   },
   "outputs": [],
   "source": [
    "class TTA:\n",
    "    def __init__(self, transform):\n",
    "        self.transform = transform\n",
    "    \n",
    "    def begin_eval(self, dset):\n",
    "        self.dset = dset\n",
    "        self.orig_transform = self.dset.transform\n",
    "        self.dset.transform = self.transform\n",
    "    \n",
    "    def process_batch(self, learner):\n",
    "        x = learner.X\n",
    "        self.bs, self.n_imgs, c, h, w = x.size()\n",
    "        learner.X = x.view(-1, c, h, w)\n",
    "    \n",
    "    def process_prediction(self, learner):\n",
    "        probs = torch.exp(learner.Y_pred)\n",
    "        probs_tta = probs.view(self.bs, self.n_imgs, -1).mean(1)\n",
    "        learner.Y_pred = torch.log(probs_tta)\n",
    "    \n",
    "    def end_eval(self):\n",
    "        self.dset.transform = self.orig_transform"
   ]
  },
  {
   "cell_type": "markdown",
   "metadata": {
    "Collapsed": "false",
    "colab_type": "text",
    "id": "UeS0MzF-y4Pw"
   },
   "source": [
    "## Learner"
   ]
  },
  {
   "cell_type": "code",
   "execution_count": null,
   "metadata": {
    "Collapsed": "false",
    "colab": {},
    "colab_type": "code",
    "id": "URk4s21Y8AfH"
   },
   "outputs": [],
   "source": [
    "class Accuracy:\n",
    "    def __init__(self, counter=None):\n",
    "        self.counter = counter if counter else self\n",
    "        self.reset()\n",
    "    \n",
    "    def count_correct(self, pred, y):\n",
    "        return (pred == y).float().sum()\n",
    "    \n",
    "    def process_prediction(self, learner):\n",
    "        y = learner.Y\n",
    "        batch_size = y.size(0)\n",
    "        labels_pred = torch.argmax(learner.Y_pred, -1)\n",
    "        self.num_correct += self.counter.count_correct(labels_pred, y)\n",
    "        self.num_samples += batch_size\n",
    "    \n",
    "    def get_average(self):\n",
    "        return self.num_correct / self.num_samples\n",
    "    \n",
    "    def reset(self):\n",
    "        self.num_samples = 0\n",
    "        self.num_correct = 0"
   ]
  },
  {
   "cell_type": "code",
   "execution_count": null,
   "metadata": {
    "Collapsed": "false",
    "colab": {},
    "colab_type": "code",
    "id": "0qDdM3428AfR"
   },
   "outputs": [],
   "source": [
    "class AverageLoss:\n",
    "    def __init__(self):\n",
    "        self.reset()\n",
    "    \n",
    "    def process_loss(self, batch_size, batch_loss):\n",
    "        self.total_loss += batch_size * batch_loss\n",
    "        self.num_samples += batch_size\n",
    "    \n",
    "    def get_average(self):\n",
    "        return self.total_loss / self.num_samples\n",
    "    \n",
    "    def reset(self):\n",
    "        self.total_loss = 0.0\n",
    "        self.num_samples = 0"
   ]
  },
  {
   "cell_type": "code",
   "execution_count": null,
   "metadata": {
    "Collapsed": "false",
    "colab": {},
    "colab_type": "code",
    "id": "38KHeImF8Afb"
   },
   "outputs": [],
   "source": [
    "class AccumulateSmoothLoss:\n",
    "    def __init__(self, smooth_f=0.05, diverge_th=5):\n",
    "        self.diverge_th = diverge_th\n",
    "        self.smooth_f = smooth_f\n",
    "        self.reset()\n",
    "    \n",
    "    def process_loss(self, batch_size, loss):\n",
    "        if not self.losses:\n",
    "            self.best_loss = loss\n",
    "        else:\n",
    "            if self.smooth_f > 0:\n",
    "                loss = self.smooth_f * loss + (1. - self.smooth_f) * self.losses[-1]\n",
    "            if loss < self.best_loss:\n",
    "                self.best_loss = loss\n",
    "        \n",
    "        self.losses.append(loss)\n",
    "        if loss > self.diverge_th * self.best_loss:\n",
    "            raise StopIteration\n",
    "    \n",
    "    def get_losses(self):\n",
    "        return self.losses\n",
    "    \n",
    "    def reset(self):\n",
    "        self.losses = []"
   ]
  },
  {
   "cell_type": "code",
   "execution_count": null,
   "metadata": {
    "Collapsed": "false",
    "colab": {},
    "colab_type": "code",
    "id": "P1E5vop_5Zwa"
   },
   "outputs": [],
   "source": [
    "class Learner:\n",
    "    def __init__(self, model, loss, optimizer, train_loader, val_loader,\n",
    "                 epoch_scheduler=None, batch_scheduler=None, tta=None):\n",
    "        self.model = model\n",
    "        self.loss = loss\n",
    "        self.optimizer = optimizer\n",
    "        self.train_loader = train_loader\n",
    "        self.val_loader = val_loader\n",
    "        self.epoch_scheduler = epoch_scheduler\n",
    "        self.batch_scheduler = batch_scheduler\n",
    "        self.tta = tta\n",
    "        self.reset_history()\n",
    "    \n",
    "    \n",
    "    def reset_history(self):\n",
    "        self.train_losses = []\n",
    "        self.val_losses = []\n",
    "        self.lrs = []\n",
    "    \n",
    "\n",
    "    def run_callbacks(self, cbs, fname, *args):\n",
    "        for cb in cbs:\n",
    "            f = getattr(cb, fname, None)\n",
    "            if f: f(*args)\n",
    "    \n",
    "\n",
    "    def iterate(self, loader, cbs=[], backward_pass=False):\n",
    "        for X, Y in loader:\n",
    "            self.X, self.Y = X.to(DEVICE), Y.to(DEVICE)\n",
    "            self.run_callbacks(cbs, 'process_batch', self)\n",
    "            self.Y_pred = self.model(self.X)\n",
    "            self.run_callbacks(cbs, 'process_prediction', self)\n",
    "            batch_loss = self.loss(self.Y_pred, self.Y)\n",
    "            if backward_pass: self.backward_pass(batch_loss)\n",
    "            batch_size = self.X.size(0)\n",
    "            self.run_callbacks(cbs, 'process_loss', batch_size, batch_loss.item())\n",
    "    \n",
    "\n",
    "    def backward_pass(self, batch_loss):\n",
    "        self.optimizer.zero_grad()\n",
    "        batch_loss.backward()\n",
    "        self.optimizer.step()\n",
    "        \n",
    "        if self.batch_scheduler:\n",
    "            self.lrs.append(self.batch_scheduler.get_last_lr()[0])\n",
    "            self.batch_scheduler.step()\n",
    "    \n",
    "\n",
    "    def train_for_epoch(self):\n",
    "        self.model.train()\n",
    "        \n",
    "        cbs = [AverageLoss(), Accuracy(self.mixup), self.mixup]\n",
    "        self.iterate(self.train_loader, cbs, backward_pass=True)\n",
    "        \n",
    "        train_loss, train_acc = [cb.get_average() for cb in cbs[:2]]\n",
    "        self.train_losses.append(train_loss)\n",
    "        print(f'train loss {train_loss:.3f}, train accuracy {train_acc:.3f},', end=' ')\n",
    "    \n",
    "\n",
    "    def eval_on_validation(self):\n",
    "        self.model.eval()\n",
    "        \n",
    "        if self.tta: self.tta.begin_eval(self.val_loader.dataset)\n",
    "        cbs = [self.tta, AverageLoss(), Accuracy()]\n",
    "        with torch.no_grad():\n",
    "            self.iterate(self.val_loader, cbs)\n",
    "        if self.tta: self.tta.end_eval()\n",
    "        \n",
    "        val_loss, val_acc = [cb.get_average() for cb in cbs[-2:]]\n",
    "        self.val_losses.append(val_loss)\n",
    "        print(f'val loss {val_loss:.3f}, val accuracy {val_acc:.3f}')\n",
    "    \n",
    "    \n",
    "    def set_learning_rate(self, lr):\n",
    "        new_lrs = [lr] * len(self.optimizer.param_groups)\n",
    "        for param_group, new_lr in zip(self.optimizer.param_groups, new_lrs):\n",
    "            param_group[\"lr\"] = new_lr\n",
    "    \n",
    "    \n",
    "    def lr_find(self, start_lr, end_lr, num_iter):\n",
    "        model_state = copy.deepcopy(self.model.state_dict())\n",
    "        optimizer_state = copy.deepcopy(self.optimizer.state_dict())\n",
    "        \n",
    "        self.model.train()\n",
    "        self.set_learning_rate(start_lr)\n",
    "\n",
    "        gamma = (end_lr / start_lr)**(1 / num_iter)\n",
    "        self.batch_scheduler = optim.lr_scheduler.ExponentialLR(self.optimizer, gamma)\n",
    "        \n",
    "        cbs = [AccumulateSmoothLoss()]\n",
    "        try:\n",
    "            self.iterate(islice(self.train_loader, num_iter), cbs, backward_pass=True)\n",
    "        except StopIteration:\n",
    "            print(\"Stopping early, the loss has diverged\")\n",
    "        self.batch_scheduler = None\n",
    "        \n",
    "        self.model.load_state_dict(model_state)\n",
    "        self.optimizer.load_state_dict(optimizer_state)\n",
    "        \n",
    "        self.train_losses = cbs[0].get_losses()\n",
    "        self.plot_lr_find()\n",
    "        self.reset_history()\n",
    "    \n",
    "\n",
    "    def fit(self, epochs):\n",
    "        for i in range(epochs):\n",
    "            print(f'{i+1}/{epochs}:', end=' ')\n",
    "            self.train_for_epoch()\n",
    "            self.eval_on_validation()\n",
    "            \n",
    "            if self.epoch_scheduler:\n",
    "                self.lrs.append(self.epoch_scheduler.get_last_lr()[0])\n",
    "                self.epoch_scheduler.step()\n",
    "    \n",
    "\n",
    "    def plot_losses(self):\n",
    "        fig = plt.figure()\n",
    "        ax = fig.add_subplot(111)\n",
    "        epochs = np.arange(1, len(self.train_losses)+1)\n",
    "        ax.plot(epochs, self.train_losses, '.-', label='train')\n",
    "        ax.plot(epochs, self.val_losses, '.-', label='val')\n",
    "        ax.set_xlabel('epoch')\n",
    "        ax.set_ylabel('loss')\n",
    "        ax.legend()\n",
    "        plt.show()\n",
    "    \n",
    "\n",
    "    def plot_lr_find(self, skip_start=10, skip_end=5):\n",
    "        def split_list(vals, skip_start, skip_end):\n",
    "            return vals[skip_start:-skip_end] if skip_end > 0 else vals[skip_start:]\n",
    "        \n",
    "        lrs = split_list(self.lrs, skip_start, skip_end)\n",
    "        losses = split_list(self.train_losses, skip_start, skip_end)\n",
    "        fig = plt.figure()\n",
    "        ax = fig.add_subplot(111)\n",
    "        ax.plot(lrs, losses, '.-')\n",
    "        ax.set_xscale('log')\n",
    "        ax.set_xlabel('Learning rate')\n",
    "        ax.set_ylabel('Loss')\n",
    "        plt.show()"
   ]
  },
  {
   "cell_type": "code",
   "execution_count": null,
   "metadata": {
    "colab": {},
    "colab_type": "code",
    "id": "Qd34fVfMyr2d"
   },
   "outputs": [],
   "source": [
    "def plot_lrs(lrs):\n",
    "    fig = plt.figure()\n",
    "    ax = fig.add_subplot(111)\n",
    "    batches = np.arange(1, len(lrs)+1)\n",
    "    ax.plot(batches, lrs)\n",
    "    ax.set_xlabel('batch')\n",
    "    ax.set_ylabel('lr')\n",
    "    plt.show()"
   ]
  },
  {
   "cell_type": "markdown",
   "metadata": {
    "Collapsed": "false",
    "colab_type": "text",
    "id": "9wj3oZYYq1CL"
   },
   "source": [
    "## Training"
   ]
  },
  {
   "cell_type": "code",
   "execution_count": null,
   "metadata": {
    "Collapsed": "false",
    "colab": {},
    "colab_type": "code",
    "id": "erm8A8NXBDno"
   },
   "outputs": [],
   "source": [
    "model.reset_parameters()"
   ]
  },
  {
   "cell_type": "code",
   "execution_count": null,
   "metadata": {
    "colab": {},
    "colab_type": "code",
    "id": "m8nC4D979u2L"
   },
   "outputs": [],
   "source": [
    "loss = nn.NLLLoss()"
   ]
  },
  {
   "cell_type": "code",
   "execution_count": null,
   "metadata": {
    "Collapsed": "false",
    "colab": {},
    "colab_type": "code",
    "id": "0sLSJGEEiPbB"
   },
   "outputs": [],
   "source": [
    "optimizer = optim.AdamW(model.parameters(), lr=1e-3, weight_decay=1e-2)"
   ]
  },
  {
   "cell_type": "code",
   "execution_count": null,
   "metadata": {
    "Collapsed": "false",
    "colab": {},
    "colab_type": "code",
    "id": "qAJr4m815o29"
   },
   "outputs": [],
   "source": [
    "learner = Learner(model, loss, optimizer, train_loader, test_loader)"
   ]
  },
  {
   "cell_type": "code",
   "execution_count": null,
   "metadata": {
    "Collapsed": "false",
    "colab": {
     "base_uri": "https://localhost:8080/",
     "height": 283
    },
    "colab_type": "code",
    "id": "ftUhH47U8Age",
    "outputId": "3c475416-f3ec-477f-8b21-0225ffb1db9b"
   },
   "outputs": [
    {
     "data": {
      "image/png": "[encoded data removed]",
      "text/plain": [
       "<Figure size 432x288 with 1 Axes>"
      ]
     },
     "metadata": {
      "needs_background": "light",
      "tags": []
     },
     "output_type": "display_data"
    }
   ],
   "source": [
    "learner.lr_find(1e-6, 1e-1, num_iter=100)"
   ]
  },
  {
   "cell_type": "markdown",
   "metadata": {
    "colab_type": "text",
    "id": "nrtcl5fu-KH1"
   },
   "source": [
    "SGDR leraning rate annealing, [arXiv:1608.03983 [cs.LG]](https://arxiv.org/abs/1608.03983). Implemented in PyTorch: [torch.optim.lr_scheduler.CosineAnnealingWarmRestarts](https://pytorch.org/docs/stable/optim.html#torch.optim.lr_scheduler.CosineAnnealingWarmRestarts)."
   ]
  },
  {
   "cell_type": "code",
   "execution_count": null,
   "metadata": {
    "Collapsed": "false",
    "colab": {},
    "colab_type": "code",
    "id": "IM0tvPd4laPb"
   },
   "outputs": [],
   "source": [
    "learner.set_learning_rate(1e-3) # set maximal learning rate\n",
    "scheduler = optim.lr_scheduler.CosineAnnealingWarmRestarts(optimizer, T_0=len(train_loader), T_mult=2)\n",
    "learner.batch_scheduler = scheduler"
   ]
  },
  {
   "cell_type": "code",
   "execution_count": null,
   "metadata": {
    "Collapsed": "false",
    "colab": {},
    "colab_type": "code",
    "id": "6qzolZ2HYAp_"
   },
   "outputs": [],
   "source": [
    "EPOCHS = 1+2+4+8"
   ]
  },
  {
   "cell_type": "code",
   "execution_count": null,
   "metadata": {
    "Collapsed": "false",
    "colab": {
     "base_uri": "https://localhost:8080/",
     "height": 278
    },
    "colab_type": "code",
    "id": "LURg7UaeiPbG",
    "outputId": "8bb7e010-b3b4-46bc-bd79-1e27a302e9cc"
   },
   "outputs": [
    {
     "name": "stdout",
     "output_type": "stream",
     "text": [
      "1/15: train loss 1.465, train accuracy 0.468, val loss 1.015, val accuracy 0.629\n",
      "2/15: train loss 1.171, train accuracy 0.583, val loss 0.849, val accuracy 0.700\n",
      "3/15: train loss 0.805, train accuracy 0.718, val loss 0.667, val accuracy 0.762\n",
      "4/15: train loss 0.895, train accuracy 0.689, val loss 0.737, val accuracy 0.744\n",
      "5/15: train loss 0.723, train accuracy 0.750, val loss 0.667, val accuracy 0.774\n",
      "6/15: train loss 0.590, train accuracy 0.794, val loss 0.504, val accuracy 0.828\n",
      "7/15: train loss 0.505, train accuracy 0.826, val loss 0.479, val accuracy 0.835\n",
      "8/15: train loss 0.686, train accuracy 0.763, val loss 0.645, val accuracy 0.779\n",
      "9/15: train loss 0.616, train accuracy 0.786, val loss 0.552, val accuracy 0.812\n",
      "10/15: train loss 0.549, train accuracy 0.811, val loss 0.513, val accuracy 0.824\n",
      "11/15: train loss 0.491, train accuracy 0.830, val loss 0.469, val accuracy 0.839\n",
      "12/15: train loss 0.430, train accuracy 0.851, val loss 0.424, val accuracy 0.855\n",
      "13/15: train loss 0.380, train accuracy 0.868, val loss 0.391, val accuracy 0.865\n",
      "14/15: train loss 0.337, train accuracy 0.882, val loss 0.369, val accuracy 0.872\n",
      "15/15: train loss 0.320, train accuracy 0.888, val loss 0.364, val accuracy 0.871\n"
     ]
    }
   ],
   "source": [
    "learner.fit(EPOCHS)"
   ]
  },
  {
   "cell_type": "code",
   "execution_count": null,
   "metadata": {
    "Collapsed": "false",
    "colab": {
     "base_uri": "https://localhost:8080/",
     "height": 279
    },
    "colab_type": "code",
    "id": "k6ji7Sme0cch",
    "outputId": "46ce5d42-a265-4607-808a-efcb350e855c"
   },
   "outputs": [
    {
     "data": {
      "image/png": "[encoded data removed]",
      "text/plain": [
       "<Figure size 432x288 with 1 Axes>"
      ]
     },
     "metadata": {
      "needs_background": "light",
      "tags": []
     },
     "output_type": "display_data"
    }
   ],
   "source": [
    "learner.plot_losses()"
   ]
  },
  {
   "cell_type": "code",
   "execution_count": null,
   "metadata": {
    "colab": {
     "base_uri": "https://localhost:8080/",
     "height": 279
    },
    "colab_type": "code",
    "id": "z3YVfAXbwFf8",
    "outputId": "7082f181-e44a-4a16-e46b-e17bb9599e22"
   },
   "outputs": [
    {
     "data": {
      "image/png": "[encoded data removed]",
      "text/plain": [
       "<Figure size 432x288 with 1 Axes>"
      ]
     },
     "metadata": {
      "needs_background": "light",
      "tags": []
     },
     "output_type": "display_data"
    }
   ],
   "source": [
    "plot_lrs(learner.lrs)"
   ]
  },
  {
   "cell_type": "code",
   "execution_count": null,
   "metadata": {
    "colab": {},
    "colab_type": "code",
    "id": "9Tlnu8rcZQOa"
   },
   "outputs": [],
   "source": [
    "tta = TTA(tta_transform)"
   ]
  },
  {
   "cell_type": "code",
   "execution_count": null,
   "metadata": {
    "colab": {},
    "colab_type": "code",
    "id": "HiNmq0snZZCO"
   },
   "outputs": [],
   "source": [
    "learner.tta = tta"
   ]
  },
  {
   "cell_type": "code",
   "execution_count": null,
   "metadata": {
    "colab": {
     "base_uri": "https://localhost:8080/",
     "height": 34
    },
    "colab_type": "code",
    "id": "2NcNqcFjZbEz",
    "outputId": "e0e90cc7-4f4f-4d35-bdc4-2e75c836a0cc"
   },
   "outputs": [
    {
     "name": "stdout",
     "output_type": "stream",
     "text": [
      "val loss 0.337, val accuracy 0.882\n"
     ]
    }
   ],
   "source": [
    "learner.eval_on_validation()"
   ]
  },
  {
   "cell_type": "code",
   "execution_count": null,
   "metadata": {
    "colab": {},
    "colab_type": "code",
    "id": "mTX_TydiZlam"
   },
   "outputs": [],
   "source": []
  }
 ],
 "metadata": {
  "accelerator": "GPU",
  "colab": {
   "collapsed_sections": [],
   "name": "cifar10-tricks.ipynb",
   "provenance": []
  },
  "kernelspec": {
   "display_name": "Python 3",
   "language": "python",
   "name": "python3"
  },
  "language_info": {
   "codemirror_mode": {
    "name": "ipython",
    "version": 3
   },
   "file_extension": ".py",
   "mimetype": "text/x-python",
   "name": "python",
   "nbconvert_exporter": "python",
   "pygments_lexer": "ipython3",
   "version": "3.7.7"
  }
 },
 "nbformat": 4,
 "nbformat_minor": 4
}
