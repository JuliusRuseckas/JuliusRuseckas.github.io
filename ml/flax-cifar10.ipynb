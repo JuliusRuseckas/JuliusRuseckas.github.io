{
 "cells": [
  {
   "cell_type": "markdown",
   "id": "7c9f5df4-f39e-41a1-8528-6e80856b163d",
   "metadata": {},
   "source": [
    "# CIFAR10 classification using Flax"
   ]
  },
  {
   "cell_type": "markdown",
   "id": "3eb4a429-9832-48fe-8934-a733327e9a72",
   "metadata": {},
   "source": [
    "[Flax](https://flax.readthedocs.io/en/latest/) is a neural network library and ecosystem for JAX that is designed for flexibility. "
   ]
  },
  {
   "cell_type": "markdown",
   "id": "3aee0822-dc3c-4f55-84c5-68826b70d267",
   "metadata": {},
   "source": [
    "GitHub repo: https://github.com/google/flax"
   ]
  },
  {
   "cell_type": "markdown",
   "id": "6ec3063c-0e27-4461-8276-78c143f8932b",
   "metadata": {},
   "source": [
    "[Optax](https://optax.readthedocs.io/en/latest/) is a gradient processing and optimization library for JAX."
   ]
  },
  {
   "cell_type": "markdown",
   "id": "9934fb33-b7dc-495b-bbb1-ad7f1b957ff9",
   "metadata": {},
   "source": [
    "## Configuration"
   ]
  },
  {
   "cell_type": "markdown",
   "id": "7fb404d0-6f0d-478c-b1ff-ec5171c533a5",
   "metadata": {},
   "source": [
    "Imports"
   ]
  },
  {
   "cell_type": "code",
   "execution_count": 1,
   "id": "6ade4e8b-591c-4f46-8bb7-8b6bb75e16b8",
   "metadata": {},
   "outputs": [],
   "source": [
    "import math\n",
    "from functools import partial\n",
    "from collections import defaultdict\n",
    "from typing import Any, Sequence\n",
    "import numpy as np\n",
    "import matplotlib.pyplot as plt\n",
    "\n",
    "import jax\n",
    "import jax.numpy as jnp\n",
    "\n",
    "from flax import linen as nn\n",
    "from flax.training import train_state, common_utils\n",
    "import optax\n",
    "\n",
    "import tensorflow as tf\n",
    "import tensorflow_datasets as tfds"
   ]
  },
  {
   "cell_type": "markdown",
   "id": "b6e7940f-5413-4960-a927-b31b8dcc6c8c",
   "metadata": {},
   "source": [
    "Disable GPU usage by TensorFlow:"
   ]
  },
  {
   "cell_type": "code",
   "execution_count": 2,
   "id": "83c5b7c9-2fd5-434f-98a1-89938b45bf78",
   "metadata": {},
   "outputs": [],
   "source": [
    "tf.config.set_visible_devices([], 'GPU')"
   ]
  },
  {
   "cell_type": "code",
   "execution_count": 3,
   "id": "a65122f2-1c28-4f82-8c3f-a2aca271c7d4",
   "metadata": {},
   "outputs": [
    {
     "data": {
      "text/plain": [
       "[GpuDevice(id=0, process_index=0)]"
      ]
     },
     "execution_count": 3,
     "metadata": {},
     "output_type": "execute_result"
    }
   ],
   "source": [
    "jax.local_devices()"
   ]
  },
  {
   "cell_type": "markdown",
   "id": "59001cef-3104-4591-891a-d6202428572a",
   "metadata": {},
   "source": [
    "Configuration"
   ]
  },
  {
   "cell_type": "code",
   "execution_count": 4,
   "id": "b02b0cd3-e4c7-46ea-9fb9-28dbf217ebb3",
   "metadata": {},
   "outputs": [],
   "source": [
    "IMAGE_SIZE = 32\n",
    "\n",
    "NUM_CLASSES = 10\n",
    "BATCH_SIZE = 32\n",
    "EPOCHS = 100\n",
    "\n",
    "LEARNING_RATE = 1e-2\n",
    "WEIGHT_DECAY = 1e-2"
   ]
  },
  {
   "cell_type": "code",
   "execution_count": 5,
   "id": "2be3386f-2b18-4874-9f95-9998914fba79",
   "metadata": {},
   "outputs": [],
   "source": [
    "rng = jax.random.PRNGKey(0)"
   ]
  },
  {
   "cell_type": "markdown",
   "id": "cd0ef4e9-bc00-4bb7-9065-45ecf9d1d98c",
   "metadata": {},
   "source": [
    "## Data"
   ]
  },
  {
   "cell_type": "code",
   "execution_count": 6,
   "id": "95f15416-b2ef-4105-953f-ef31d0e43bd3",
   "metadata": {},
   "outputs": [],
   "source": [
    "def augment_image(img):\n",
    "    img = tf.image.resize_with_crop_or_pad(img, 40, 40)\n",
    "    img = tf.image.random_crop(img, [32, 32, 3])\n",
    "    img = tf.image.random_flip_left_right(img)\n",
    "    img = tf.image.random_brightness(img, max_delta=0.2)\n",
    "    img = tf.image.random_contrast(img, 0.8, 1.2)\n",
    "    img = tf.image.random_saturation(img, 0.8, 1.2)\n",
    "    return img"
   ]
  },
  {
   "cell_type": "code",
   "execution_count": 7,
   "id": "aa2267cf-841b-4d61-bc16-f9af3af81b67",
   "metadata": {},
   "outputs": [],
   "source": [
    "def train_process_sample(x):\n",
    "    image = augment_image(x['image'])\n",
    "    image = tf.image.convert_image_dtype(image, dtype=tf.float32)\n",
    "    return {'image': image, 'label': x['label']}"
   ]
  },
  {
   "cell_type": "code",
   "execution_count": 8,
   "id": "90406f5e-1986-451a-95c4-a8ca11bc37a3",
   "metadata": {},
   "outputs": [],
   "source": [
    "def val_process_sample(x):\n",
    "    image = tf.image.convert_image_dtype(x['image'], dtype=tf.float32)\n",
    "    return {'image': image, 'label': x['label']}"
   ]
  },
  {
   "cell_type": "code",
   "execution_count": 9,
   "id": "308b8bb0-67ba-4c42-a95f-17bfaccd596a",
   "metadata": {},
   "outputs": [],
   "source": [
    "def prepare_train_dataset(dataset_builder, batch_size):\n",
    "    ds = dataset_builder.as_dataset(split='train')\n",
    "    ds = ds.repeat()\n",
    "    ds = ds.map(train_process_sample, num_parallel_calls=tf.data.AUTOTUNE)\n",
    "    df = ds.shuffle(16 * batch_size, reshuffle_each_iteration=True, seed=0)\n",
    "    ds = ds.batch(batch_size)\n",
    "    ds = ds.prefetch(10)\n",
    "    return ds"
   ]
  },
  {
   "cell_type": "code",
   "execution_count": 10,
   "id": "2c55b125-646d-4798-a4d6-521dd578c6f1",
   "metadata": {},
   "outputs": [],
   "source": [
    "def prepare_val_dataset(dataset_builder, batch_size):\n",
    "    ds = dataset_builder.as_dataset(split='test')\n",
    "    ds = ds.map(val_process_sample, num_parallel_calls=tf.data.AUTOTUNE)\n",
    "    ds = ds.batch(batch_size)\n",
    "    ds = ds.repeat()\n",
    "    ds = ds.prefetch(10)\n",
    "    return ds"
   ]
  },
  {
   "cell_type": "code",
   "execution_count": 11,
   "id": "b3da84f9-fa10-4a3e-a9f9-90ebc6b455ce",
   "metadata": {},
   "outputs": [],
   "source": [
    "def tf_to_numpy(xs):\n",
    "    return jax.tree_map(lambda x: x._numpy(), xs)"
   ]
  },
  {
   "cell_type": "code",
   "execution_count": 12,
   "id": "a6abe5d6-6483-4cec-9048-3a720923a25f",
   "metadata": {},
   "outputs": [],
   "source": [
    "def dataset_to_iterator(ds):\n",
    "    it = map(tf_to_numpy, ds)\n",
    "    return it"
   ]
  },
  {
   "cell_type": "code",
   "execution_count": 13,
   "id": "9155293a-c61d-4fc8-9524-16746f8ac918",
   "metadata": {},
   "outputs": [],
   "source": [
    "dataset_builder = tfds.builder('cifar10')"
   ]
  },
  {
   "cell_type": "code",
   "execution_count": 14,
   "id": "5ebc7d85-e517-461a-af70-05c5e6ed029e",
   "metadata": {},
   "outputs": [],
   "source": [
    "dataset_builder.download_and_prepare()"
   ]
  },
  {
   "cell_type": "code",
   "execution_count": 15,
   "id": "533e3066-788a-4631-be4b-0169b20b32c0",
   "metadata": {},
   "outputs": [],
   "source": [
    "train_steps_per_epoch = math.ceil(dataset_builder.info.splits['train'].num_examples / BATCH_SIZE)\n",
    "val_steps_per_epoch = math.ceil(dataset_builder.info.splits['test'].num_examples / BATCH_SIZE)"
   ]
  },
  {
   "cell_type": "code",
   "execution_count": 16,
   "id": "8bdec5af-d029-4ff6-8996-985f42d4d7ef",
   "metadata": {},
   "outputs": [],
   "source": [
    "train_ds = prepare_train_dataset(dataset_builder, BATCH_SIZE)\n",
    "val_ds = prepare_val_dataset(dataset_builder, BATCH_SIZE)"
   ]
  },
  {
   "cell_type": "code",
   "execution_count": 17,
   "id": "bf4c794a-b43d-4201-a661-3fe5ae045c98",
   "metadata": {},
   "outputs": [],
   "source": [
    "train_iter = dataset_to_iterator(train_ds)\n",
    "val_iter = dataset_to_iterator(val_ds)"
   ]
  },
  {
   "cell_type": "markdown",
   "id": "b12f0c39-f8eb-4a07-8e49-7657ba9625de",
   "metadata": {},
   "source": [
    "## Model"
   ]
  },
  {
   "cell_type": "code",
   "execution_count": 18,
   "id": "42eba2db-a119-47af-a1d3-46026cc1c723",
   "metadata": {},
   "outputs": [],
   "source": [
    "ModuleDef = Any"
   ]
  },
  {
   "cell_type": "code",
   "execution_count": 19,
   "id": "36c5a385-5f62-4c31-9221-b65c75a66f89",
   "metadata": {},
   "outputs": [],
   "source": [
    "class ConvBlock(nn.Module):\n",
    "    channels: int\n",
    "    kernel_size: int\n",
    "    norm: ModuleDef\n",
    "    stride: int = 1\n",
    "    act: bool = True\n",
    "    \n",
    "    @nn.compact\n",
    "    def __call__(self, x):\n",
    "        x = nn.Conv(self.channels, (self.kernel_size, self.kernel_size), strides=self.stride,\n",
    "                    padding='SAME', use_bias=False, kernel_init=nn.initializers.kaiming_normal())(x)\n",
    "        x = self.norm()(x)\n",
    "        if self.act:\n",
    "            x = nn.swish(x)\n",
    "        return x"
   ]
  },
  {
   "cell_type": "markdown",
   "id": "7d4f8058-6d07-4123-923e-a98f3a22ec72",
   "metadata": {},
   "source": [
    "Residual blocks"
   ]
  },
  {
   "cell_type": "code",
   "execution_count": 20,
   "id": "9e8da022-1a38-48be-a651-89a126188ed4",
   "metadata": {},
   "outputs": [],
   "source": [
    "class ResidualBlock(nn.Module):\n",
    "    channels: int\n",
    "    conv_block: ModuleDef\n",
    "    \n",
    "    @nn.compact\n",
    "    def __call__(self, x):\n",
    "        channels = self.channels\n",
    "        conv_block = self.conv_block\n",
    "        \n",
    "        shortcut = x\n",
    "        \n",
    "        residual = conv_block(channels, 3)(x)\n",
    "        residual = conv_block(channels, 3, act=False)(residual)\n",
    "        \n",
    "        if shortcut.shape != residual.shape:\n",
    "            shortcut = conv_block(channels, 1, act=False)(shortcut)\n",
    "        \n",
    "        gamma = self.param('gamma', nn.initializers.zeros, 1, jnp.float32)\n",
    "        out = shortcut + gamma * residual\n",
    "        out = nn.swish(out)\n",
    "        return out"
   ]
  },
  {
   "cell_type": "code",
   "execution_count": 21,
   "id": "d376f166-f3ed-4a77-a176-5303bf2b33b6",
   "metadata": {},
   "outputs": [],
   "source": [
    "class Stage(nn.Module):\n",
    "    channels: int\n",
    "    num_blocks: int\n",
    "    stride: int\n",
    "    block: ModuleDef\n",
    "    \n",
    "    @nn.compact\n",
    "    def __call__(self, x):\n",
    "        stride = self.stride\n",
    "        if stride > 1:\n",
    "            x = nn.max_pool(x, (stride, stride), strides=(stride, stride))\n",
    "        for _ in range(self.num_blocks):\n",
    "            x = self.block(self.channels)(x)\n",
    "        return x"
   ]
  },
  {
   "cell_type": "code",
   "execution_count": 22,
   "id": "c5098d80-c635-4085-9978-15345f1c8bcb",
   "metadata": {},
   "outputs": [],
   "source": [
    "class Body(nn.Module):\n",
    "    channel_list: Sequence[int]\n",
    "    num_blocks_list: Sequence[int]\n",
    "    strides: Sequence[int]\n",
    "    stage: ModuleDef\n",
    "    \n",
    "    @nn.compact\n",
    "    def __call__(self, x):\n",
    "        for channels, num_blocks, stride in zip(self.channel_list, self.num_blocks_list, self.strides):\n",
    "            x = self.stage(channels, num_blocks, stride)(x)\n",
    "        return x"
   ]
  },
  {
   "cell_type": "markdown",
   "id": "2b1cef8b-1fa2-47c4-a719-6f610b6f384c",
   "metadata": {},
   "source": [
    "ResNet"
   ]
  },
  {
   "cell_type": "code",
   "execution_count": 23,
   "id": "e910905d-a436-4c42-b320-0495d029b16c",
   "metadata": {},
   "outputs": [],
   "source": [
    "class Stem(nn.Module):\n",
    "    channel_list: Sequence[int]\n",
    "    stride: int\n",
    "    conv_block: ModuleDef\n",
    "    \n",
    "    @nn.compact\n",
    "    def __call__(self, x):\n",
    "        for channels in self.channel_list:\n",
    "            x = self.conv_block(channels, 3, stride=self.stride)(x)\n",
    "        return x"
   ]
  },
  {
   "cell_type": "code",
   "execution_count": 24,
   "id": "d7b5fea4-51b6-47a0-8f8b-df1981861c92",
   "metadata": {},
   "outputs": [],
   "source": [
    "class Head(nn.Module):\n",
    "    classes: int\n",
    "    dropout: ModuleDef\n",
    "    \n",
    "    @nn.compact\n",
    "    def __call__(self, x):\n",
    "        x = jnp.mean(x, axis=(1, 2))\n",
    "        x = self.dropout()(x)\n",
    "        x = nn.Dense(self.classes)(x)\n",
    "        return x"
   ]
  },
  {
   "cell_type": "code",
   "execution_count": 25,
   "id": "bdb5ee83-e0f4-4158-a4ee-444a4f2b0343",
   "metadata": {},
   "outputs": [],
   "source": [
    "class ResNet(nn.Module):\n",
    "    classes: int\n",
    "    channel_list: Sequence[int]\n",
    "    num_blocks_list: Sequence[int]\n",
    "    strides: Sequence[int]\n",
    "    head_p_drop: float = 0.\n",
    "    \n",
    "    @nn.compact\n",
    "    def __call__(self, x, train=True):\n",
    "        norm = partial(nn.BatchNorm, use_running_average=not train)\n",
    "        dropout = partial(nn.Dropout, rate=self.head_p_drop, deterministic=not train)\n",
    "        conv_block = partial(ConvBlock, norm=norm)\n",
    "        residual_block = partial(ResidualBlock, conv_block=conv_block)\n",
    "        stage = partial(Stage, block=residual_block)\n",
    "        \n",
    "        x = Stem([32, 32, 64], self.strides[0], conv_block)(x)\n",
    "        x = Body(self.channel_list, self.num_blocks_list, self.strides[1:], stage)(x)\n",
    "        x = Head(self.classes, dropout)(x)\n",
    "        return x"
   ]
  },
  {
   "cell_type": "code",
   "execution_count": 26,
   "id": "23e7f96a-39f6-4231-93e4-f09e21864997",
   "metadata": {},
   "outputs": [],
   "source": [
    "@jax.jit\n",
    "def initialize(params_rng):\n",
    "    init_rngs = {'params': params_rng}\n",
    "    input_shape = (1, IMAGE_SIZE, IMAGE_SIZE, 3)\n",
    "    variables = model.init(init_rngs, jnp.ones(input_shape, jnp.float32), train=False)\n",
    "    return variables"
   ]
  },
  {
   "cell_type": "code",
   "execution_count": 27,
   "id": "c28ffb65-1fe7-4a85-ae5b-e1507ccc0a0e",
   "metadata": {},
   "outputs": [],
   "source": [
    "model = ResNet(NUM_CLASSES,\n",
    "               channel_list = [64, 128, 256, 512],\n",
    "               num_blocks_list = [2, 2, 2, 2],\n",
    "               strides = [1, 1, 2, 2, 2],\n",
    "               head_p_drop = 0.3)"
   ]
  },
  {
   "cell_type": "code",
   "execution_count": 28,
   "id": "ce1596fd-cae6-4bb6-8ad0-d6dadfcedba6",
   "metadata": {},
   "outputs": [],
   "source": [
    "params_rng, dropout_rng = jax.random.split(rng)"
   ]
  },
  {
   "cell_type": "code",
   "execution_count": 29,
   "id": "ab8aa368-8be7-42a7-aaf3-9669bc056d56",
   "metadata": {},
   "outputs": [],
   "source": [
    "variables = initialize(params_rng)"
   ]
  },
  {
   "cell_type": "markdown",
   "id": "6c1b0163-7fc0-4ab6-a53b-b2e61c18a655",
   "metadata": {
    "tags": []
   },
   "source": [
    "## Training"
   ]
  },
  {
   "cell_type": "markdown",
   "id": "ea267ce3-a4b3-4194-8491-cddffcc40061",
   "metadata": {},
   "source": [
    "### Loss"
   ]
  },
  {
   "cell_type": "code",
   "execution_count": 30,
   "id": "b98366f4-32e0-43f0-8b25-f1c81319429e",
   "metadata": {},
   "outputs": [],
   "source": [
    "def cross_entropy_loss(logits, labels):\n",
    "    one_hot_labels = common_utils.onehot(labels, num_classes=NUM_CLASSES)\n",
    "    loss = optax.softmax_cross_entropy(logits=logits, labels=one_hot_labels)\n",
    "    loss = jnp.mean(loss)\n",
    "    return loss"
   ]
  },
  {
   "cell_type": "markdown",
   "id": "277df9ab-0425-43f4-926b-fcaf1a63988a",
   "metadata": {},
   "source": [
    "### Metrics"
   ]
  },
  {
   "cell_type": "code",
   "execution_count": 31,
   "id": "8edc898e-f04d-40c3-a76d-7d8489936ad5",
   "metadata": {},
   "outputs": [],
   "source": [
    "def compute_metrics(logits, labels):\n",
    "    loss = cross_entropy_loss(logits, labels)\n",
    "    accuracy = jnp.mean(jnp.argmax(logits, -1) == labels)\n",
    "    metrics = {\n",
    "      'loss': loss,\n",
    "      'accuracy': accuracy,\n",
    "    }\n",
    "    return metrics"
   ]
  },
  {
   "cell_type": "markdown",
   "id": "5f9ba564-ad40-4a1a-994b-339a0786bba1",
   "metadata": {},
   "source": [
    "### Optimizer"
   ]
  },
  {
   "cell_type": "code",
   "execution_count": 32,
   "id": "a380ce80-a025-4fb3-934c-fa23e22cd098",
   "metadata": {},
   "outputs": [],
   "source": [
    "num_train_steps = train_steps_per_epoch * EPOCHS"
   ]
  },
  {
   "cell_type": "code",
   "execution_count": 33,
   "id": "b402c3ea-8768-4ec4-b567-c0eda2bff12e",
   "metadata": {},
   "outputs": [],
   "source": [
    "shedule_fn = optax.cosine_onecycle_schedule(transition_steps=num_train_steps, peak_value=LEARNING_RATE)"
   ]
  },
  {
   "cell_type": "code",
   "execution_count": 34,
   "id": "cf337e78-5797-4eb8-bafd-df1642e3e0c5",
   "metadata": {},
   "outputs": [],
   "source": [
    "tx = optax.adamw(learning_rate=shedule_fn, weight_decay=WEIGHT_DECAY)"
   ]
  },
  {
   "cell_type": "markdown",
   "id": "2e0912da-2324-4f4f-8bb2-0fa08b924386",
   "metadata": {},
   "source": [
    "### Train state"
   ]
  },
  {
   "cell_type": "code",
   "execution_count": 35,
   "id": "d7d8609c-82ec-4dfe-9a02-e37941c50fa0",
   "metadata": {},
   "outputs": [],
   "source": [
    "class TrainState(train_state.TrainState):\n",
    "    batch_stats: Any"
   ]
  },
  {
   "cell_type": "code",
   "execution_count": 36,
   "id": "c0ab5c4e-1840-4d47-a9fb-68a96936d470",
   "metadata": {},
   "outputs": [],
   "source": [
    "state = TrainState.create(\n",
    "    apply_fn = model.apply,\n",
    "    params = variables['params'],\n",
    "    batch_stats = variables['batch_stats'],\n",
    "    tx = tx)"
   ]
  },
  {
   "cell_type": "markdown",
   "id": "6e227976-90bb-45a3-bd5b-46886ada3931",
   "metadata": {},
   "source": [
    "### Train functions"
   ]
  },
  {
   "cell_type": "code",
   "execution_count": 37,
   "id": "9abae9aa-44fc-41da-8f5f-535605e77833",
   "metadata": {},
   "outputs": [],
   "source": [
    "@jax.jit\n",
    "def train_step(state, batch, dropout_rng):\n",
    "    dropout_rng = jax.random.fold_in(dropout_rng, state.step)\n",
    "    \n",
    "    def loss_fn(params):\n",
    "        variables = {'params': params, 'batch_stats': state.batch_stats}\n",
    "        logits, new_model_state = state.apply_fn(variables, batch['image'], train=True,\n",
    "                                                 rngs={'dropout': dropout_rng}, mutable='batch_stats')\n",
    "        loss = cross_entropy_loss(logits, batch['label'])\n",
    "        return loss, (new_model_state, logits)\n",
    "    \n",
    "    grad_fn = jax.value_and_grad(loss_fn, has_aux=True)\n",
    "    aux, grads = grad_fn(state.params)\n",
    "    new_model_state, logits = aux[1]\n",
    "    metrics = compute_metrics(logits, batch['label'])\n",
    "    new_state = state.apply_gradients(grads=grads, batch_stats=new_model_state['batch_stats'])\n",
    "    return new_state, metrics"
   ]
  },
  {
   "cell_type": "code",
   "execution_count": 38,
   "id": "d410ae00-d96b-4347-85a6-b575cda081ba",
   "metadata": {},
   "outputs": [],
   "source": [
    "@jax.jit\n",
    "def eval_step(state, batch):\n",
    "    variables = {'params': state.params, 'batch_stats': state.batch_stats}\n",
    "    logits = state.apply_fn(variables, batch['image'], train=False, mutable=False)\n",
    "    metrics = compute_metrics(logits, batch['label'])\n",
    "    return metrics"
   ]
  },
  {
   "cell_type": "code",
   "execution_count": 39,
   "id": "5cc161cd-0594-4182-bb9b-dac492525314",
   "metadata": {},
   "outputs": [],
   "source": [
    "def metrics_summary(metrics):\n",
    "    metrics = jax.device_get(metrics)\n",
    "    metrics = jax.tree_multimap(lambda *args: np.stack(args), *metrics)\n",
    "    summary = jax.tree_map(lambda x: x.mean(), metrics)\n",
    "    return summary"
   ]
  },
  {
   "cell_type": "code",
   "execution_count": 40,
   "id": "35b32265-d1d8-42b1-99d8-46a7dfa579d4",
   "metadata": {},
   "outputs": [],
   "source": [
    "def log_metrics(history, summary, name):\n",
    "    print(f\"{name}: \", end='', flush=True)\n",
    "    for key, val in summary.items():\n",
    "        history[name + ' ' + key].append(val)\n",
    "        print(f\"{key} {val:.3f} \", end='')"
   ]
  },
  {
   "cell_type": "code",
   "execution_count": 41,
   "id": "40196322-cae2-4eae-9fd3-75838a4f39eb",
   "metadata": {},
   "outputs": [],
   "source": [
    "def train(state, train_iter, val_iter, epochs):\n",
    "    history = defaultdict(list)\n",
    "    \n",
    "    for epoch in range(1, epochs + 1):\n",
    "        print(f\"{epoch}/{epochs} - \", end='')\n",
    "        \n",
    "        train_metrics = []\n",
    "        for step in range(train_steps_per_epoch):\n",
    "            batch = next(train_iter)\n",
    "            state, metrics = train_step(state, batch, dropout_rng)\n",
    "            train_metrics.append(metrics)\n",
    "        \n",
    "        summary = metrics_summary(train_metrics)\n",
    "        log_metrics(history, summary, 'train')\n",
    "        print('; ', end='')\n",
    "        \n",
    "        val_metrics = []\n",
    "        for step in range(val_steps_per_epoch):\n",
    "            batch = next(val_iter)\n",
    "            metrics = eval_step(state, batch)\n",
    "            val_metrics.append(metrics)\n",
    "        \n",
    "        summary = metrics_summary(val_metrics)\n",
    "        log_metrics(history, summary, 'val')\n",
    "        print()\n",
    "    \n",
    "    return history"
   ]
  },
  {
   "cell_type": "markdown",
   "id": "d6cab9f6-28e5-40e4-9527-f8a50755dc40",
   "metadata": {},
   "source": [
    "### Start training"
   ]
  },
  {
   "cell_type": "code",
   "execution_count": 42,
   "id": "ce548e48-80e7-4aba-96cc-c78f1d2f8b6d",
   "metadata": {},
   "outputs": [
    {
     "name": "stdout",
     "output_type": "stream",
     "text": [
      "1/100 - train: accuracy 0.519 loss 1.333 ; val: accuracy 0.679 loss 0.929 \n",
      "2/100 - train: accuracy 0.716 loss 0.819 ; val: accuracy 0.737 loss 0.788 \n",
      "3/100 - train: accuracy 0.773 loss 0.664 ; val: accuracy 0.770 loss 0.670 \n",
      "4/100 - train: accuracy 0.799 loss 0.584 ; val: accuracy 0.799 loss 0.596 \n",
      "5/100 - train: accuracy 0.816 loss 0.535 ; val: accuracy 0.800 loss 0.597 \n",
      "6/100 - train: accuracy 0.831 loss 0.493 ; val: accuracy 0.781 loss 0.735 \n",
      "7/100 - train: accuracy 0.840 loss 0.467 ; val: accuracy 0.810 loss 0.566 \n",
      "8/100 - train: accuracy 0.849 loss 0.441 ; val: accuracy 0.806 loss 0.607 \n",
      "9/100 - train: accuracy 0.857 loss 0.418 ; val: accuracy 0.807 loss 0.585 \n",
      "10/100 - train: accuracy 0.863 loss 0.398 ; val: accuracy 0.806 loss 0.625 \n",
      "11/100 - train: accuracy 0.870 loss 0.381 ; val: accuracy 0.826 loss 0.568 \n",
      "12/100 - train: accuracy 0.875 loss 0.363 ; val: accuracy 0.787 loss 0.738 \n",
      "13/100 - train: accuracy 0.877 loss 0.357 ; val: accuracy 0.825 loss 0.585 \n",
      "14/100 - train: accuracy 0.881 loss 0.341 ; val: accuracy 0.832 loss 0.553 \n",
      "15/100 - train: accuracy 0.884 loss 0.337 ; val: accuracy 0.823 loss 0.571 \n",
      "16/100 - train: accuracy 0.887 loss 0.329 ; val: accuracy 0.825 loss 0.566 \n",
      "17/100 - train: accuracy 0.887 loss 0.324 ; val: accuracy 0.848 loss 0.509 \n",
      "18/100 - train: accuracy 0.889 loss 0.322 ; val: accuracy 0.771 loss 0.799 \n",
      "19/100 - train: accuracy 0.890 loss 0.318 ; val: accuracy 0.776 loss 0.820 \n",
      "20/100 - train: accuracy 0.893 loss 0.315 ; val: accuracy 0.767 loss 0.909 \n",
      "21/100 - train: accuracy 0.891 loss 0.312 ; val: accuracy 0.727 loss 1.047 \n",
      "22/100 - train: accuracy 0.891 loss 0.314 ; val: accuracy 0.797 loss 0.711 \n",
      "23/100 - train: accuracy 0.893 loss 0.308 ; val: accuracy 0.821 loss 0.613 \n",
      "24/100 - train: accuracy 0.894 loss 0.308 ; val: accuracy 0.817 loss 0.683 \n",
      "25/100 - train: accuracy 0.892 loss 0.314 ; val: accuracy 0.730 loss 1.165 \n",
      "26/100 - train: accuracy 0.895 loss 0.306 ; val: accuracy 0.772 loss 0.874 \n",
      "27/100 - train: accuracy 0.897 loss 0.304 ; val: accuracy 0.809 loss 0.617 \n",
      "28/100 - train: accuracy 0.896 loss 0.300 ; val: accuracy 0.735 loss 1.021 \n",
      "29/100 - train: accuracy 0.898 loss 0.297 ; val: accuracy 0.826 loss 0.644 \n",
      "30/100 - train: accuracy 0.900 loss 0.291 ; val: accuracy 0.838 loss 0.529 \n",
      "31/100 - train: accuracy 0.901 loss 0.286 ; val: accuracy 0.801 loss 0.818 \n",
      "32/100 - train: accuracy 0.901 loss 0.288 ; val: accuracy 0.714 loss 1.196 \n",
      "33/100 - train: accuracy 0.903 loss 0.282 ; val: accuracy 0.815 loss 0.611 \n",
      "34/100 - train: accuracy 0.906 loss 0.271 ; val: accuracy 0.836 loss 0.565 \n",
      "35/100 - train: accuracy 0.907 loss 0.273 ; val: accuracy 0.854 loss 0.523 \n",
      "36/100 - train: accuracy 0.907 loss 0.272 ; val: accuracy 0.785 loss 0.812 \n",
      "37/100 - train: accuracy 0.908 loss 0.264 ; val: accuracy 0.848 loss 0.484 \n",
      "38/100 - train: accuracy 0.911 loss 0.261 ; val: accuracy 0.805 loss 0.819 \n",
      "39/100 - train: accuracy 0.911 loss 0.259 ; val: accuracy 0.845 loss 0.557 \n",
      "40/100 - train: accuracy 0.912 loss 0.257 ; val: accuracy 0.836 loss 0.638 \n",
      "41/100 - train: accuracy 0.913 loss 0.253 ; val: accuracy 0.858 loss 0.469 \n",
      "42/100 - train: accuracy 0.915 loss 0.249 ; val: accuracy 0.792 loss 0.807 \n",
      "43/100 - train: accuracy 0.915 loss 0.245 ; val: accuracy 0.858 loss 0.495 \n",
      "44/100 - train: accuracy 0.917 loss 0.241 ; val: accuracy 0.805 loss 0.701 \n",
      "45/100 - train: accuracy 0.919 loss 0.237 ; val: accuracy 0.868 loss 0.452 \n",
      "46/100 - train: accuracy 0.919 loss 0.235 ; val: accuracy 0.810 loss 0.706 \n",
      "47/100 - train: accuracy 0.922 loss 0.228 ; val: accuracy 0.865 loss 0.489 \n",
      "48/100 - train: accuracy 0.923 loss 0.221 ; val: accuracy 0.770 loss 0.835 \n",
      "49/100 - train: accuracy 0.925 loss 0.217 ; val: accuracy 0.863 loss 0.530 \n",
      "50/100 - train: accuracy 0.926 loss 0.216 ; val: accuracy 0.867 loss 0.454 \n",
      "51/100 - train: accuracy 0.928 loss 0.209 ; val: accuracy 0.836 loss 0.614 \n",
      "52/100 - train: accuracy 0.929 loss 0.203 ; val: accuracy 0.861 loss 0.506 \n",
      "53/100 - train: accuracy 0.931 loss 0.200 ; val: accuracy 0.861 loss 0.477 \n",
      "54/100 - train: accuracy 0.934 loss 0.194 ; val: accuracy 0.874 loss 0.406 \n",
      "55/100 - train: accuracy 0.934 loss 0.191 ; val: accuracy 0.852 loss 0.553 \n",
      "56/100 - train: accuracy 0.938 loss 0.181 ; val: accuracy 0.879 loss 0.413 \n",
      "57/100 - train: accuracy 0.939 loss 0.176 ; val: accuracy 0.814 loss 0.807 \n",
      "58/100 - train: accuracy 0.940 loss 0.173 ; val: accuracy 0.890 loss 0.380 \n",
      "59/100 - train: accuracy 0.943 loss 0.164 ; val: accuracy 0.864 loss 0.597 \n",
      "60/100 - train: accuracy 0.943 loss 0.162 ; val: accuracy 0.821 loss 0.624 \n",
      "61/100 - train: accuracy 0.948 loss 0.150 ; val: accuracy 0.844 loss 0.602 \n",
      "62/100 - train: accuracy 0.947 loss 0.151 ; val: accuracy 0.867 loss 0.477 \n",
      "63/100 - train: accuracy 0.951 loss 0.143 ; val: accuracy 0.863 loss 0.514 \n",
      "64/100 - train: accuracy 0.953 loss 0.135 ; val: accuracy 0.852 loss 0.538 \n",
      "65/100 - train: accuracy 0.954 loss 0.132 ; val: accuracy 0.862 loss 0.583 \n",
      "66/100 - train: accuracy 0.958 loss 0.122 ; val: accuracy 0.895 loss 0.407 \n",
      "67/100 - train: accuracy 0.960 loss 0.115 ; val: accuracy 0.875 loss 0.524 \n",
      "68/100 - train: accuracy 0.961 loss 0.110 ; val: accuracy 0.880 loss 0.459 \n",
      "69/100 - train: accuracy 0.964 loss 0.103 ; val: accuracy 0.877 loss 0.545 \n",
      "70/100 - train: accuracy 0.966 loss 0.098 ; val: accuracy 0.896 loss 0.433 \n",
      "71/100 - train: accuracy 0.968 loss 0.093 ; val: accuracy 0.891 loss 0.391 \n",
      "72/100 - train: accuracy 0.970 loss 0.087 ; val: accuracy 0.908 loss 0.373 \n",
      "73/100 - train: accuracy 0.973 loss 0.081 ; val: accuracy 0.914 loss 0.366 \n",
      "74/100 - train: accuracy 0.975 loss 0.074 ; val: accuracy 0.898 loss 0.483 \n",
      "75/100 - train: accuracy 0.976 loss 0.071 ; val: accuracy 0.895 loss 0.457 \n",
      "76/100 - train: accuracy 0.977 loss 0.064 ; val: accuracy 0.903 loss 0.390 \n",
      "77/100 - train: accuracy 0.980 loss 0.058 ; val: accuracy 0.893 loss 0.573 \n",
      "78/100 - train: accuracy 0.983 loss 0.051 ; val: accuracy 0.911 loss 0.435 \n",
      "79/100 - train: accuracy 0.984 loss 0.045 ; val: accuracy 0.921 loss 0.387 \n",
      "80/100 - train: accuracy 0.985 loss 0.044 ; val: accuracy 0.911 loss 0.427 \n",
      "81/100 - train: accuracy 0.987 loss 0.037 ; val: accuracy 0.916 loss 0.414 \n",
      "82/100 - train: accuracy 0.988 loss 0.036 ; val: accuracy 0.912 loss 0.451 \n",
      "83/100 - train: accuracy 0.990 loss 0.028 ; val: accuracy 0.932 loss 0.355 \n",
      "84/100 - train: accuracy 0.991 loss 0.026 ; val: accuracy 0.932 loss 0.354 \n",
      "85/100 - train: accuracy 0.992 loss 0.024 ; val: accuracy 0.932 loss 0.350 \n",
      "86/100 - train: accuracy 0.994 loss 0.019 ; val: accuracy 0.932 loss 0.341 \n",
      "87/100 - train: accuracy 0.995 loss 0.015 ; val: accuracy 0.931 loss 0.379 \n",
      "88/100 - train: accuracy 0.995 loss 0.014 ; val: accuracy 0.940 loss 0.355 \n",
      "89/100 - train: accuracy 0.997 loss 0.011 ; val: accuracy 0.939 loss 0.346 \n",
      "90/100 - train: accuracy 0.997 loss 0.009 ; val: accuracy 0.940 loss 0.338 \n",
      "91/100 - train: accuracy 0.998 loss 0.007 ; val: accuracy 0.943 loss 0.342 \n",
      "92/100 - train: accuracy 0.998 loss 0.007 ; val: accuracy 0.945 loss 0.332 \n",
      "93/100 - train: accuracy 0.998 loss 0.006 ; val: accuracy 0.946 loss 0.326 \n",
      "94/100 - train: accuracy 0.999 loss 0.004 ; val: accuracy 0.944 loss 0.332 \n",
      "95/100 - train: accuracy 0.999 loss 0.003 ; val: accuracy 0.948 loss 0.329 \n",
      "96/100 - train: accuracy 0.999 loss 0.004 ; val: accuracy 0.949 loss 0.324 \n",
      "97/100 - train: accuracy 0.999 loss 0.002 ; val: accuracy 0.949 loss 0.322 \n",
      "98/100 - train: accuracy 0.999 loss 0.003 ; val: accuracy 0.949 loss 0.322 \n",
      "99/100 - train: accuracy 0.999 loss 0.002 ; val: accuracy 0.950 loss 0.321 \n",
      "100/100 - train: accuracy 0.999 loss 0.002 ; val: accuracy 0.950 loss 0.321 \n"
     ]
    }
   ],
   "source": [
    "history = train(state, train_iter, val_iter, EPOCHS)"
   ]
  },
  {
   "cell_type": "code",
   "execution_count": 43,
   "id": "66951f37-49d2-4b04-978b-0e387b7eccd2",
   "metadata": {},
   "outputs": [],
   "source": [
    "def plot_history_train_val(history, key):\n",
    "    fig = plt.figure()\n",
    "    ax = fig.add_subplot(111)\n",
    "    xs = np.arange(1, len(history['train ' + key]) + 1)\n",
    "    ax.plot(xs, history['train ' + key], '.-', label='train')\n",
    "    ax.plot(xs, history['val ' + key], '.-', label='val')\n",
    "    ax.set_xlabel('epoch')\n",
    "    ax.set_ylabel(key)\n",
    "    ax.legend()\n",
    "    ax.grid()\n",
    "    plt.show()"
   ]
  },
  {
   "cell_type": "code",
   "execution_count": 44,
   "id": "03aeba53-c1e5-41c3-bd92-de6208132f5b",
   "metadata": {},
   "outputs": [
    {
     "data": {
      "image/png": "[encoded data removed]",
      "text/plain": [
       "<Figure size 432x288 with 1 Axes>"
      ]
     },
     "metadata": {
      "needs_background": "light"
     },
     "output_type": "display_data"
    }
   ],
   "source": [
    "plot_history_train_val(history, 'loss')"
   ]
  },
  {
   "cell_type": "code",
   "execution_count": 45,
   "id": "b430f62d-fcbc-4b6e-9d0c-24a7eb7aab9f",
   "metadata": {},
   "outputs": [
    {
     "data": {
      "image/png": "[encoded data removed]",
      "text/plain": [
       "<Figure size 432x288 with 1 Axes>"
      ]
     },
     "metadata": {
      "needs_background": "light"
     },
     "output_type": "display_data"
    }
   ],
   "source": [
    "plot_history_train_val(history, 'accuracy')"
   ]
  }
 ],
 "metadata": {
  "kernelspec": {
   "display_name": "Python 3 (ipykernel)",
   "language": "python",
   "name": "python3"
  },
  "language_info": {
   "codemirror_mode": {
    "name": "ipython",
    "version": 3
   },
   "file_extension": ".py",
   "mimetype": "text/x-python",
   "name": "python",
   "nbconvert_exporter": "python",
   "pygments_lexer": "ipython3",
   "version": "3.8.10"
  }
 },
 "nbformat": 4,
 "nbformat_minor": 5
}
