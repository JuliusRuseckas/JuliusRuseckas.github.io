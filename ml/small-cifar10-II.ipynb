{
 "cells": [
  {
   "cell_type": "markdown",
   "id": "48570c5b-1dd2-4165-8030-b25ad16f07f9",
   "metadata": {
    "tags": []
   },
   "source": [
    "# Small model for CIFAR10"
   ]
  },
  {
   "cell_type": "markdown",
   "id": "bfe22a0b-4ce6-4b1a-b020-1ae4c1b67257",
   "metadata": {},
   "source": [
    "Architecture based on general scheme of transformers.\n",
    "\n",
    "Ideas from:\n",
    "- MetaFormer, [arXiv:2111.11418 [cs.CV]](https://arxiv.org/abs/2111.11418)\n",
    "- ConvMixer, [arXiv:2201.09792 [cs.CV]](https://arxiv.org/abs/2201.09792)\n",
    "- ConvNeXt, [arXiv:2201.03545 [cs.CV]](https://arxiv.org/abs/2201.03545)"
   ]
  },
  {
   "cell_type": "markdown",
   "id": "92c855a8-d324-4808-a558-82ccbba1f6b0",
   "metadata": {},
   "source": [
    "## Configuration"
   ]
  },
  {
   "cell_type": "markdown",
   "id": "bdc15059-94f2-4c2f-a18a-f1a23d48b723",
   "metadata": {},
   "source": [
    "Imports"
   ]
  },
  {
   "cell_type": "code",
   "execution_count": 1,
   "id": "763daad6-190d-407b-bf26-3dae3b045626",
   "metadata": {},
   "outputs": [],
   "source": [
    "import numpy as np\n",
    "from collections import defaultdict\n",
    "import matplotlib.pyplot as plt\n",
    "\n",
    "import torch\n",
    "import torch.nn as nn\n",
    "import torch.optim as optim\n",
    "import torch.nn.functional as F\n",
    "from torchvision import datasets, transforms\n",
    "\n",
    "from ignite.engine import Events, create_supervised_trainer, create_supervised_evaluator\n",
    "import ignite.metrics\n",
    "import ignite.contrib.handlers"
   ]
  },
  {
   "cell_type": "markdown",
   "id": "51da612b-e68a-48be-8fa1-b605edfe523c",
   "metadata": {},
   "source": [
    "Configuration"
   ]
  },
  {
   "cell_type": "code",
   "execution_count": 2,
   "id": "4fe0ce44-86f7-4cf0-9d0f-1c1010e25800",
   "metadata": {},
   "outputs": [],
   "source": [
    "DATA_DIR='./data'\n",
    "\n",
    "IMAGE_SIZE = 32\n",
    "\n",
    "NUM_CLASSES = 10\n",
    "NUM_WORKERS = 8\n",
    "BATCH_SIZE = 512\n",
    "EPOCHS = 200\n",
    "\n",
    "LEARNING_RATE = 1e-2\n",
    "WEIGHT_DECAY = 1e-1"
   ]
  },
  {
   "cell_type": "code",
   "execution_count": 3,
   "id": "3bbf98c8-d516-43b6-ac6f-9c6595e61ba0",
   "metadata": {},
   "outputs": [
    {
     "name": "stdout",
     "output_type": "stream",
     "text": [
      "device: cuda\n"
     ]
    }
   ],
   "source": [
    "DEVICE = torch.device(\"cuda\") if torch.cuda.is_available() else torch.device(\"cpu\")\n",
    "print(\"device:\", DEVICE)"
   ]
  },
  {
   "cell_type": "markdown",
   "id": "dc1b531a-47a8-4cbc-8227-6ced070a3f79",
   "metadata": {},
   "source": [
    "## Data"
   ]
  },
  {
   "cell_type": "code",
   "execution_count": 4,
   "id": "a93d5fe1-3897-41f3-b18a-dc9f445ed271",
   "metadata": {},
   "outputs": [],
   "source": [
    "train_transform = transforms.Compose([\n",
    "    transforms.TrivialAugmentWide(interpolation=transforms.InterpolationMode.BILINEAR),\n",
    "    transforms.RandomHorizontalFlip(),\n",
    "    transforms.RandomCrop(32, padding=4),\n",
    "    transforms.PILToTensor(),\n",
    "    transforms.ConvertImageDtype(torch.float),\n",
    "    transforms.RandomErasing(p=0.1)\n",
    "])"
   ]
  },
  {
   "cell_type": "code",
   "execution_count": 5,
   "id": "69ed1857-7cb4-4d66-8018-af5a16bd1fca",
   "metadata": {},
   "outputs": [
    {
     "name": "stdout",
     "output_type": "stream",
     "text": [
      "Files already downloaded and verified\n",
      "Files already downloaded and verified\n"
     ]
    }
   ],
   "source": [
    "train_dset = datasets.CIFAR10(root=DATA_DIR, train=True, download=True, transform=train_transform)\n",
    "val_dset = datasets.CIFAR10(root=DATA_DIR, train=False, download=True, transform=transforms.ToTensor())"
   ]
  },
  {
   "cell_type": "code",
   "execution_count": 6,
   "id": "cc6eccfd-006f-4873-96fc-5ee7bd0c0a5d",
   "metadata": {},
   "outputs": [],
   "source": [
    "train_loader = torch.utils.data.DataLoader(train_dset, batch_size=BATCH_SIZE, shuffle=True,\n",
    "                                           num_workers=NUM_WORKERS, pin_memory=True)\n",
    "\n",
    "val_loader = torch.utils.data.DataLoader(val_dset, batch_size=BATCH_SIZE, shuffle=False,\n",
    "                                         num_workers=NUM_WORKERS, pin_memory=True)"
   ]
  },
  {
   "cell_type": "markdown",
   "id": "cb2c03c0-288c-44b8-98f2-be26d2f83bde",
   "metadata": {},
   "source": [
    "## Model"
   ]
  },
  {
   "cell_type": "code",
   "execution_count": 7,
   "id": "69f060e3-5dc9-4814-8db4-99300bc0b9f5",
   "metadata": {},
   "outputs": [],
   "source": [
    "class Residual(nn.Module):\n",
    "    def __init__(self, residual, shortcut=None):\n",
    "        super().__init__()\n",
    "        self.residual = residual\n",
    "        self.shortcut = shortcut if shortcut is not None else nn.Identity()\n",
    "        self.gamma = nn.Parameter(torch.zeros(1))\n",
    "    \n",
    "    def forward(self, x):\n",
    "        return self.shortcut(x) + self.gamma * self.residual(x)"
   ]
  },
  {
   "cell_type": "markdown",
   "id": "ac54bdb6-6363-441c-a5cd-0ebd4979bac7",
   "metadata": {},
   "source": [
    "Block"
   ]
  },
  {
   "cell_type": "code",
   "execution_count": 8,
   "id": "f639936a-8b14-4b63-a13a-0de682be4a98",
   "metadata": {},
   "outputs": [],
   "source": [
    "class SpatialMixer(nn.Sequential):\n",
    "    def __init__(self, channels, kernel_size, stride=1):\n",
    "        padding = (kernel_size - 1) // 2\n",
    "        super().__init__(\n",
    "            nn.BatchNorm2d(channels),\n",
    "            nn.Conv2d(channels, channels, kernel_size, padding=padding, stride=stride, groups=channels)\n",
    "        )"
   ]
  },
  {
   "cell_type": "code",
   "execution_count": 9,
   "id": "6adfefd9-a858-469e-96b8-d413ca4fbfc2",
   "metadata": {},
   "outputs": [],
   "source": [
    "class ChannelMixer(nn.Sequential):\n",
    "    def __init__(self, in_channels, out_channels, mult=4):\n",
    "        mid_channels = in_channels * mult\n",
    "        super().__init__(\n",
    "            nn.BatchNorm2d(in_channels),\n",
    "            nn.Conv2d(in_channels, mid_channels, 1),\n",
    "            nn.GELU(),\n",
    "            nn.Conv2d(mid_channels, out_channels, 1)\n",
    "        )"
   ]
  },
  {
   "cell_type": "code",
   "execution_count": 10,
   "id": "cc4b8dcd-8fde-4485-82fb-4184781f588f",
   "metadata": {},
   "outputs": [],
   "source": [
    "class Block(nn.Sequential):\n",
    "    def __init__(self, in_channels, out_channels, kernel_size, stride=1):\n",
    "        super().__init__(\n",
    "            Residual(SpatialMixer(in_channels, kernel_size, stride),\n",
    "                     shortcut = nn.AvgPool2d(stride) if stride > 1 else None),\n",
    "            Residual(ChannelMixer(in_channels, out_channels),\n",
    "                     shortcut = nn.Conv2d(in_channels, out_channels, 1) if in_channels != out_channels else None)\n",
    "        )"
   ]
  },
  {
   "cell_type": "markdown",
   "id": "0787c364-c517-4155-b7cc-1595d5da9b76",
   "metadata": {},
   "source": [
    "Stage"
   ]
  },
  {
   "cell_type": "code",
   "execution_count": 11,
   "id": "74e2771b-e207-4c87-ac4f-bedafcaeb909",
   "metadata": {},
   "outputs": [],
   "source": [
    "class Stage(nn.Sequential):\n",
    "    def __init__(self, in_channels, out_channels, num_blocks, kernel_size, stride=1):\n",
    "        super().__init__(\n",
    "            Block(in_channels, out_channels, kernel_size, stride),\n",
    "            *[Block(out_channels, out_channels, kernel_size) for _ in range(num_blocks - 1)]\n",
    "        )"
   ]
  },
  {
   "cell_type": "code",
   "execution_count": 12,
   "id": "f232c797-31f7-4305-b042-22e7a08ad994",
   "metadata": {},
   "outputs": [],
   "source": [
    "class StageStack(nn.Sequential):\n",
    "    def __init__(self, in_channels, channels_list, num_blocks_list, strides, kernel_size):\n",
    "        layers = []\n",
    "        for num, out_channels, stride in zip(num_blocks_list, channels_list, strides):\n",
    "            layers.append(Stage(in_channels, out_channels, num, kernel_size, stride))\n",
    "            in_channels = out_channels\n",
    "        \n",
    "        super().__init__(*layers)"
   ]
  },
  {
   "cell_type": "markdown",
   "id": "e29adb98-cf3e-4161-a919-061890297275",
   "metadata": {},
   "source": [
    "Main model"
   ]
  },
  {
   "cell_type": "code",
   "execution_count": 13,
   "id": "62ca9614-563d-47f9-a231-d8e44f466cff",
   "metadata": {},
   "outputs": [],
   "source": [
    "def Stem(in_channels, out_channels, kernel_size=3, stride=1):\n",
    "    padding = (kernel_size - 1) // 2\n",
    "    return nn.Conv2d(in_channels, out_channels, kernel_size, padding=padding, stride=stride)"
   ]
  },
  {
   "cell_type": "code",
   "execution_count": 14,
   "id": "b72929de-1a07-4cec-8b1c-757b9f2d7da2",
   "metadata": {},
   "outputs": [],
   "source": [
    "class Head(nn.Sequential):\n",
    "    def __init__(self, channels, classes, p_drop=0.):\n",
    "        super().__init__(\n",
    "            nn.BatchNorm2d(channels),\n",
    "            nn.GELU(),\n",
    "            nn.AdaptiveAvgPool2d(1),\n",
    "            nn.Flatten(),\n",
    "            nn.Dropout(p_drop),\n",
    "            nn.Linear(channels, classes)\n",
    "        )"
   ]
  },
  {
   "cell_type": "code",
   "execution_count": 15,
   "id": "263d8bcd-b955-43be-8b57-07d6c450e13a",
   "metadata": {},
   "outputs": [],
   "source": [
    "class Net(nn.Sequential):\n",
    "    def __init__(self, classes, num_blocks_list, channels_list, strides, kernel_size, in_channels=3, head_p_drop=0.):\n",
    "        super().__init__(\n",
    "            Stem(in_channels, channels_list[0], stride=strides[0]),\n",
    "            StageStack(channels_list[0], channels_list, num_blocks_list, strides[1:], kernel_size),\n",
    "            Head(channels_list[-1], classes, head_p_drop)\n",
    "        )"
   ]
  },
  {
   "cell_type": "code",
   "execution_count": 16,
   "id": "9348b49d-2c9f-43d6-84a4-fde3ef6b6ee8",
   "metadata": {},
   "outputs": [],
   "source": [
    "def init_linear(m):\n",
    "    if isinstance(m, (nn.Conv2d, nn.Conv1d, nn.Linear)):\n",
    "        nn.init.kaiming_normal_(m.weight)\n",
    "        if m.bias is not None: nn.init.zeros_(m.bias)"
   ]
  },
  {
   "cell_type": "code",
   "execution_count": 17,
   "id": "3b4c3090-2bfa-44e3-8fa2-5eb5d48076ed",
   "metadata": {},
   "outputs": [],
   "source": [
    "model = Net(NUM_CLASSES,\n",
    "            num_blocks_list = [4, 4, 2, 2],\n",
    "            channels_list = [32, 64, 128, 256],\n",
    "            strides = [1, 1, 2, 2, 2],\n",
    "            kernel_size = 5,\n",
    "            head_p_drop = 0.3)"
   ]
  },
  {
   "cell_type": "code",
   "execution_count": 18,
   "id": "bfa2231b-982a-432b-9d96-9c7f6f8ae802",
   "metadata": {},
   "outputs": [],
   "source": [
    "model.apply(init_linear);"
   ]
  },
  {
   "cell_type": "code",
   "execution_count": 19,
   "id": "33376deb-3e52-4325-82bc-c0c8ef8016f1",
   "metadata": {},
   "outputs": [],
   "source": [
    "model.to(DEVICE);"
   ]
  },
  {
   "cell_type": "code",
   "execution_count": 20,
   "id": "f3874ee2-9739-4040-8cd9-659e50292af6",
   "metadata": {},
   "outputs": [
    {
     "name": "stdout",
     "output_type": "stream",
     "text": [
      "Number of parameters: 1,124,642\n"
     ]
    }
   ],
   "source": [
    "print(\"Number of parameters: {:,}\".format(sum(p.numel() for p in model.parameters())))"
   ]
  },
  {
   "cell_type": "markdown",
   "id": "7b7031d8-9926-42b0-8979-c03d042027fb",
   "metadata": {},
   "source": [
    "## Training"
   ]
  },
  {
   "cell_type": "markdown",
   "id": "c2be635b-6afd-4fb8-9d31-ab66f83c5e8f",
   "metadata": {},
   "source": [
    "### Trainer setup"
   ]
  },
  {
   "cell_type": "code",
   "execution_count": 21,
   "id": "9333eee7-6e98-48f3-8e9b-6dcd7f362dab",
   "metadata": {},
   "outputs": [],
   "source": [
    "loss = nn.CrossEntropyLoss(label_smoothing=0.1)"
   ]
  },
  {
   "cell_type": "code",
   "execution_count": 22,
   "id": "be039fe9-34ea-4f2b-bfdc-32c049273f4d",
   "metadata": {},
   "outputs": [],
   "source": [
    "optimizer = optim.AdamW(model.parameters(), lr=LEARNING_RATE, weight_decay=WEIGHT_DECAY)"
   ]
  },
  {
   "cell_type": "code",
   "execution_count": 23,
   "id": "0962689b-0420-47c3-8d7b-e888aa88cb66",
   "metadata": {},
   "outputs": [],
   "source": [
    "lr_scheduler = optim.lr_scheduler.OneCycleLR(optimizer, max_lr=LEARNING_RATE,\n",
    "                                             steps_per_epoch=len(train_loader), epochs=EPOCHS)"
   ]
  },
  {
   "cell_type": "markdown",
   "id": "e107d6d0-38bb-4158-ab30-42bdd6af415b",
   "metadata": {},
   "source": [
    "Trainer"
   ]
  },
  {
   "cell_type": "code",
   "execution_count": 24,
   "id": "2a232204-f17e-48c5-a8b2-796fea2d7a89",
   "metadata": {},
   "outputs": [],
   "source": [
    "trainer = create_supervised_trainer(model, optimizer, loss, device=DEVICE)"
   ]
  },
  {
   "cell_type": "code",
   "execution_count": 25,
   "id": "721b82be-5634-4933-bfd3-fc96aeb6bc00",
   "metadata": {},
   "outputs": [],
   "source": [
    "trainer.add_event_handler(Events.ITERATION_COMPLETED, lambda engine: lr_scheduler.step());"
   ]
  },
  {
   "cell_type": "code",
   "execution_count": 26,
   "id": "def65fcc-2188-4a15-a7df-11082d8c2297",
   "metadata": {},
   "outputs": [],
   "source": [
    "ignite.metrics.RunningAverage(output_transform=lambda x: x).attach(trainer, \"loss\")"
   ]
  },
  {
   "cell_type": "markdown",
   "id": "410c4f8d-c4d3-44fc-93f2-d0edb49cd4ed",
   "metadata": {},
   "source": [
    "Evaluator"
   ]
  },
  {
   "cell_type": "code",
   "execution_count": 27,
   "id": "8224746f-7200-4dfc-ade8-d175aa41ffc0",
   "metadata": {},
   "outputs": [],
   "source": [
    "val_metrics = {\"accuracy\": ignite.metrics.Accuracy(), \"loss\": ignite.metrics.Loss(loss)}"
   ]
  },
  {
   "cell_type": "code",
   "execution_count": 28,
   "id": "b70545fd-6d4a-4d3b-95ab-1023016f4e60",
   "metadata": {},
   "outputs": [],
   "source": [
    "evaluator = create_supervised_evaluator(model, metrics=val_metrics, device=DEVICE)"
   ]
  },
  {
   "cell_type": "code",
   "execution_count": 29,
   "id": "e4109a4f-3a4d-4f68-a63a-2551a6baca68",
   "metadata": {},
   "outputs": [],
   "source": [
    "history = defaultdict(list)"
   ]
  },
  {
   "cell_type": "code",
   "execution_count": 30,
   "id": "c8bc5f37-b4ab-401f-9b8f-ffbf20a40334",
   "metadata": {},
   "outputs": [],
   "source": [
    "@trainer.on(Events.EPOCH_COMPLETED)\n",
    "def log_validation_results(engine):\n",
    "    train_state = engine.state\n",
    "    epoch = train_state.epoch\n",
    "    max_epochs = train_state.max_epochs\n",
    "    train_loss = train_state.metrics[\"loss\"]\n",
    "    history['train loss'].append(train_loss)\n",
    "    \n",
    "    evaluator.run(val_loader)\n",
    "    val_metrics = evaluator.state.metrics\n",
    "    val_loss = val_metrics[\"loss\"]\n",
    "    val_acc = val_metrics[\"accuracy\"]\n",
    "    history['val loss'].append(val_loss)\n",
    "    history['val acc'].append(val_acc)\n",
    "    \n",
    "    print(\"{}/{} - train: loss {:.3f}; val: loss {:.3f} accuracy {:.3f}\".format(\n",
    "        epoch, max_epochs, train_loss, val_loss, val_acc))"
   ]
  },
  {
   "cell_type": "markdown",
   "id": "b48d4e12-5f9d-4a96-aca3-d56089f9d7d7",
   "metadata": {},
   "source": [
    "### Start training"
   ]
  },
  {
   "cell_type": "code",
   "execution_count": 34,
   "id": "41581f11-c7b2-48af-b3eb-8c46ae4d9f05",
   "metadata": {},
   "outputs": [
    {
     "name": "stdout",
     "output_type": "stream",
     "text": [
      "1/200 - train: loss 2.228; val: loss 1.970 accuracy 0.302\n",
      "2/200 - train: loss 2.049; val: loss 1.775 accuracy 0.411\n",
      "3/200 - train: loss 1.907; val: loss 1.769 accuracy 0.419\n",
      "4/200 - train: loss 1.795; val: loss 1.558 accuracy 0.524\n",
      "5/200 - train: loss 1.682; val: loss 1.414 accuracy 0.594\n",
      "6/200 - train: loss 1.607; val: loss 1.357 accuracy 0.626\n",
      "7/200 - train: loss 1.541; val: loss 1.294 accuracy 0.644\n",
      "8/200 - train: loss 1.480; val: loss 1.237 accuracy 0.686\n",
      "9/200 - train: loss 1.434; val: loss 1.202 accuracy 0.697\n",
      "10/200 - train: loss 1.398; val: loss 1.156 accuracy 0.723\n",
      "11/200 - train: loss 1.346; val: loss 1.116 accuracy 0.739\n",
      "12/200 - train: loss 1.322; val: loss 1.056 accuracy 0.771\n",
      "13/200 - train: loss 1.286; val: loss 1.060 accuracy 0.773\n",
      "14/200 - train: loss 1.254; val: loss 1.026 accuracy 0.782\n",
      "15/200 - train: loss 1.229; val: loss 0.989 accuracy 0.796\n",
      "16/200 - train: loss 1.207; val: loss 0.995 accuracy 0.794\n",
      "17/200 - train: loss 1.198; val: loss 0.946 accuracy 0.815\n",
      "18/200 - train: loss 1.165; val: loss 0.937 accuracy 0.826\n",
      "19/200 - train: loss 1.150; val: loss 0.986 accuracy 0.799\n",
      "20/200 - train: loss 1.138; val: loss 0.927 accuracy 0.824\n",
      "21/200 - train: loss 1.123; val: loss 0.913 accuracy 0.835\n",
      "22/200 - train: loss 1.103; val: loss 0.950 accuracy 0.815\n",
      "23/200 - train: loss 1.098; val: loss 0.878 accuracy 0.850\n",
      "24/200 - train: loss 1.094; val: loss 0.907 accuracy 0.833\n",
      "25/200 - train: loss 1.079; val: loss 0.892 accuracy 0.836\n",
      "26/200 - train: loss 1.069; val: loss 0.866 accuracy 0.855\n",
      "27/200 - train: loss 1.062; val: loss 0.876 accuracy 0.847\n",
      "28/200 - train: loss 1.065; val: loss 0.918 accuracy 0.825\n",
      "29/200 - train: loss 1.049; val: loss 0.836 accuracy 0.865\n",
      "30/200 - train: loss 1.051; val: loss 0.843 accuracy 0.863\n",
      "31/200 - train: loss 1.030; val: loss 0.893 accuracy 0.832\n",
      "32/200 - train: loss 1.051; val: loss 0.836 accuracy 0.863\n",
      "33/200 - train: loss 1.025; val: loss 0.851 accuracy 0.854\n",
      "34/200 - train: loss 1.021; val: loss 0.844 accuracy 0.864\n",
      "35/200 - train: loss 1.019; val: loss 0.897 accuracy 0.833\n",
      "36/200 - train: loss 1.021; val: loss 0.851 accuracy 0.850\n",
      "37/200 - train: loss 1.021; val: loss 0.839 accuracy 0.863\n",
      "38/200 - train: loss 1.013; val: loss 0.926 accuracy 0.826\n",
      "39/200 - train: loss 1.018; val: loss 0.848 accuracy 0.858\n",
      "40/200 - train: loss 1.012; val: loss 0.839 accuracy 0.859\n",
      "41/200 - train: loss 1.018; val: loss 0.884 accuracy 0.841\n",
      "42/200 - train: loss 1.017; val: loss 0.959 accuracy 0.805\n",
      "43/200 - train: loss 1.016; val: loss 0.890 accuracy 0.841\n",
      "44/200 - train: loss 1.017; val: loss 0.884 accuracy 0.836\n",
      "45/200 - train: loss 1.022; val: loss 0.863 accuracy 0.853\n",
      "46/200 - train: loss 1.011; val: loss 0.963 accuracy 0.803\n",
      "47/200 - train: loss 0.994; val: loss 0.881 accuracy 0.844\n",
      "48/200 - train: loss 1.000; val: loss 0.863 accuracy 0.845\n",
      "49/200 - train: loss 1.011; val: loss 0.940 accuracy 0.816\n",
      "50/200 - train: loss 0.991; val: loss 1.022 accuracy 0.787\n",
      "51/200 - train: loss 0.994; val: loss 0.941 accuracy 0.822\n",
      "52/200 - train: loss 0.992; val: loss 1.092 accuracy 0.749\n",
      "53/200 - train: loss 1.003; val: loss 1.059 accuracy 0.764\n",
      "54/200 - train: loss 1.005; val: loss 0.962 accuracy 0.795\n",
      "55/200 - train: loss 0.986; val: loss 0.873 accuracy 0.842\n",
      "56/200 - train: loss 0.997; val: loss 0.954 accuracy 0.818\n",
      "57/200 - train: loss 1.001; val: loss 1.419 accuracy 0.607\n",
      "58/200 - train: loss 0.987; val: loss 1.045 accuracy 0.757\n",
      "59/200 - train: loss 0.979; val: loss 1.174 accuracy 0.775\n",
      "60/200 - train: loss 0.987; val: loss 1.037 accuracy 0.774\n",
      "61/200 - train: loss 0.993; val: loss 1.052 accuracy 0.768\n",
      "62/200 - train: loss 0.980; val: loss 1.090 accuracy 0.747\n",
      "63/200 - train: loss 0.975; val: loss 0.977 accuracy 0.802\n",
      "64/200 - train: loss 0.980; val: loss 0.911 accuracy 0.832\n",
      "65/200 - train: loss 0.985; val: loss 0.861 accuracy 0.856\n",
      "66/200 - train: loss 0.971; val: loss 0.909 accuracy 0.825\n",
      "67/200 - train: loss 0.971; val: loss 1.026 accuracy 0.778\n",
      "68/200 - train: loss 0.978; val: loss 1.008 accuracy 0.782\n",
      "69/200 - train: loss 0.976; val: loss 0.994 accuracy 0.804\n",
      "70/200 - train: loss 0.991; val: loss 1.017 accuracy 0.783\n",
      "71/200 - train: loss 0.971; val: loss 1.070 accuracy 0.755\n",
      "72/200 - train: loss 0.974; val: loss 1.003 accuracy 0.785\n",
      "73/200 - train: loss 0.966; val: loss 0.856 accuracy 0.854\n",
      "74/200 - train: loss 0.961; val: loss 0.988 accuracy 0.794\n",
      "75/200 - train: loss 0.963; val: loss 1.819 accuracy 0.520\n",
      "76/200 - train: loss 0.969; val: loss 1.111 accuracy 0.773\n",
      "77/200 - train: loss 0.971; val: loss 1.103 accuracy 0.748\n",
      "78/200 - train: loss 0.950; val: loss 1.076 accuracy 0.766\n",
      "79/200 - train: loss 0.950; val: loss 0.925 accuracy 0.817\n",
      "80/200 - train: loss 0.952; val: loss 0.911 accuracy 0.840\n",
      "81/200 - train: loss 0.949; val: loss 1.011 accuracy 0.788\n",
      "82/200 - train: loss 0.951; val: loss 1.048 accuracy 0.776\n",
      "83/200 - train: loss 0.956; val: loss 1.278 accuracy 0.668\n",
      "84/200 - train: loss 0.947; val: loss 0.885 accuracy 0.840\n",
      "85/200 - train: loss 0.947; val: loss 0.942 accuracy 0.809\n",
      "86/200 - train: loss 0.945; val: loss 0.871 accuracy 0.847\n",
      "87/200 - train: loss 0.941; val: loss 0.839 accuracy 0.861\n",
      "88/200 - train: loss 0.933; val: loss 1.012 accuracy 0.779\n",
      "89/200 - train: loss 0.938; val: loss 0.869 accuracy 0.859\n",
      "90/200 - train: loss 0.935; val: loss 1.051 accuracy 0.767\n",
      "91/200 - train: loss 0.943; val: loss 1.090 accuracy 0.752\n",
      "92/200 - train: loss 0.932; val: loss 0.874 accuracy 0.843\n",
      "93/200 - train: loss 0.939; val: loss 0.985 accuracy 0.796\n",
      "94/200 - train: loss 0.937; val: loss 0.852 accuracy 0.859\n",
      "95/200 - train: loss 0.932; val: loss 0.865 accuracy 0.854\n",
      "96/200 - train: loss 0.917; val: loss 0.804 accuracy 0.868\n",
      "97/200 - train: loss 0.920; val: loss 0.863 accuracy 0.845\n",
      "98/200 - train: loss 0.913; val: loss 0.910 accuracy 0.827\n",
      "99/200 - train: loss 0.923; val: loss 1.037 accuracy 0.762\n",
      "100/200 - train: loss 0.911; val: loss 0.858 accuracy 0.851\n",
      "101/200 - train: loss 0.926; val: loss 1.070 accuracy 0.767\n",
      "102/200 - train: loss 0.905; val: loss 0.881 accuracy 0.845\n",
      "103/200 - train: loss 0.907; val: loss 1.018 accuracy 0.782\n",
      "104/200 - train: loss 0.913; val: loss 0.976 accuracy 0.788\n",
      "105/200 - train: loss 0.912; val: loss 0.860 accuracy 0.850\n",
      "106/200 - train: loss 0.902; val: loss 0.890 accuracy 0.833\n",
      "107/200 - train: loss 0.900; val: loss 0.880 accuracy 0.846\n",
      "108/200 - train: loss 0.896; val: loss 0.904 accuracy 0.839\n",
      "109/200 - train: loss 0.888; val: loss 0.824 accuracy 0.864\n",
      "110/200 - train: loss 0.886; val: loss 0.848 accuracy 0.857\n",
      "111/200 - train: loss 0.884; val: loss 0.796 accuracy 0.879\n",
      "112/200 - train: loss 0.874; val: loss 0.844 accuracy 0.855\n",
      "113/200 - train: loss 0.879; val: loss 1.251 accuracy 0.649\n",
      "114/200 - train: loss 0.887; val: loss 0.869 accuracy 0.856\n",
      "115/200 - train: loss 0.878; val: loss 0.861 accuracy 0.855\n",
      "116/200 - train: loss 0.870; val: loss 1.118 accuracy 0.738\n",
      "117/200 - train: loss 0.874; val: loss 0.822 accuracy 0.868\n",
      "118/200 - train: loss 0.870; val: loss 0.991 accuracy 0.795\n",
      "119/200 - train: loss 0.875; val: loss 0.791 accuracy 0.882\n",
      "120/200 - train: loss 0.859; val: loss 0.967 accuracy 0.811\n",
      "121/200 - train: loss 0.863; val: loss 0.849 accuracy 0.859\n",
      "122/200 - train: loss 0.864; val: loss 0.828 accuracy 0.869\n",
      "123/200 - train: loss 0.846; val: loss 0.789 accuracy 0.882\n",
      "124/200 - train: loss 0.855; val: loss 0.781 accuracy 0.884\n",
      "125/200 - train: loss 0.842; val: loss 0.929 accuracy 0.823\n",
      "126/200 - train: loss 0.848; val: loss 0.788 accuracy 0.878\n",
      "127/200 - train: loss 0.835; val: loss 0.780 accuracy 0.883\n",
      "128/200 - train: loss 0.839; val: loss 0.772 accuracy 0.888\n",
      "129/200 - train: loss 0.830; val: loss 0.828 accuracy 0.862\n",
      "130/200 - train: loss 0.834; val: loss 0.795 accuracy 0.872\n",
      "131/200 - train: loss 0.827; val: loss 0.741 accuracy 0.898\n",
      "132/200 - train: loss 0.821; val: loss 0.814 accuracy 0.875\n",
      "133/200 - train: loss 0.818; val: loss 0.756 accuracy 0.895\n",
      "134/200 - train: loss 0.821; val: loss 0.761 accuracy 0.891\n",
      "135/200 - train: loss 0.823; val: loss 0.899 accuracy 0.836\n",
      "136/200 - train: loss 0.809; val: loss 0.772 accuracy 0.890\n",
      "137/200 - train: loss 0.809; val: loss 0.798 accuracy 0.875\n",
      "138/200 - train: loss 0.801; val: loss 0.789 accuracy 0.875\n",
      "139/200 - train: loss 0.801; val: loss 0.789 accuracy 0.882\n",
      "140/200 - train: loss 0.795; val: loss 0.816 accuracy 0.870\n",
      "141/200 - train: loss 0.785; val: loss 0.851 accuracy 0.856\n",
      "142/200 - train: loss 0.790; val: loss 0.852 accuracy 0.857\n",
      "143/200 - train: loss 0.791; val: loss 0.830 accuracy 0.866\n",
      "144/200 - train: loss 0.783; val: loss 0.696 accuracy 0.922\n",
      "145/200 - train: loss 0.789; val: loss 0.768 accuracy 0.888\n",
      "146/200 - train: loss 0.781; val: loss 0.810 accuracy 0.881\n",
      "147/200 - train: loss 0.778; val: loss 0.755 accuracy 0.895\n",
      "148/200 - train: loss 0.766; val: loss 0.714 accuracy 0.916\n",
      "149/200 - train: loss 0.771; val: loss 0.720 accuracy 0.914\n",
      "150/200 - train: loss 0.761; val: loss 0.806 accuracy 0.878\n",
      "151/200 - train: loss 0.760; val: loss 0.771 accuracy 0.887\n",
      "152/200 - train: loss 0.756; val: loss 0.849 accuracy 0.886\n",
      "153/200 - train: loss 0.758; val: loss 0.695 accuracy 0.921\n",
      "154/200 - train: loss 0.753; val: loss 0.662 accuracy 0.934\n",
      "155/200 - train: loss 0.745; val: loss 0.703 accuracy 0.917\n",
      "156/200 - train: loss 0.741; val: loss 0.724 accuracy 0.912\n",
      "157/200 - train: loss 0.738; val: loss 0.704 accuracy 0.917\n",
      "158/200 - train: loss 0.732; val: loss 0.825 accuracy 0.873\n",
      "159/200 - train: loss 0.732; val: loss 0.831 accuracy 0.867\n",
      "160/200 - train: loss 0.725; val: loss 0.748 accuracy 0.896\n",
      "161/200 - train: loss 0.726; val: loss 0.701 accuracy 0.920\n",
      "162/200 - train: loss 0.721; val: loss 0.722 accuracy 0.914\n",
      "163/200 - train: loss 0.718; val: loss 0.682 accuracy 0.926\n",
      "164/200 - train: loss 0.716; val: loss 0.677 accuracy 0.931\n",
      "165/200 - train: loss 0.713; val: loss 0.651 accuracy 0.941\n",
      "166/200 - train: loss 0.704; val: loss 0.643 accuracy 0.945\n",
      "167/200 - train: loss 0.695; val: loss 0.667 accuracy 0.932\n",
      "168/200 - train: loss 0.699; val: loss 0.653 accuracy 0.939\n",
      "169/200 - train: loss 0.698; val: loss 0.660 accuracy 0.934\n",
      "170/200 - train: loss 0.698; val: loss 0.668 accuracy 0.936\n",
      "171/200 - train: loss 0.695; val: loss 0.635 accuracy 0.946\n",
      "172/200 - train: loss 0.684; val: loss 0.636 accuracy 0.946\n",
      "173/200 - train: loss 0.685; val: loss 0.641 accuracy 0.945\n",
      "174/200 - train: loss 0.691; val: loss 0.632 accuracy 0.949\n",
      "175/200 - train: loss 0.684; val: loss 0.639 accuracy 0.944\n",
      "176/200 - train: loss 0.685; val: loss 0.627 accuracy 0.949\n",
      "177/200 - train: loss 0.680; val: loss 0.629 accuracy 0.948\n",
      "178/200 - train: loss 0.671; val: loss 0.627 accuracy 0.949\n",
      "179/200 - train: loss 0.675; val: loss 0.620 accuracy 0.951\n",
      "180/200 - train: loss 0.673; val: loss 0.629 accuracy 0.948\n",
      "181/200 - train: loss 0.664; val: loss 0.614 accuracy 0.951\n",
      "182/200 - train: loss 0.666; val: loss 0.616 accuracy 0.953\n",
      "183/200 - train: loss 0.662; val: loss 0.614 accuracy 0.953\n",
      "184/200 - train: loss 0.658; val: loss 0.613 accuracy 0.953\n",
      "185/200 - train: loss 0.657; val: loss 0.612 accuracy 0.954\n",
      "186/200 - train: loss 0.653; val: loss 0.613 accuracy 0.954\n",
      "187/200 - train: loss 0.658; val: loss 0.607 accuracy 0.956\n",
      "188/200 - train: loss 0.650; val: loss 0.609 accuracy 0.955\n",
      "189/200 - train: loss 0.650; val: loss 0.606 accuracy 0.956\n",
      "190/200 - train: loss 0.649; val: loss 0.606 accuracy 0.957\n",
      "191/200 - train: loss 0.649; val: loss 0.606 accuracy 0.957\n",
      "192/200 - train: loss 0.648; val: loss 0.606 accuracy 0.957\n",
      "193/200 - train: loss 0.642; val: loss 0.606 accuracy 0.957\n",
      "194/200 - train: loss 0.641; val: loss 0.604 accuracy 0.958\n",
      "195/200 - train: loss 0.645; val: loss 0.605 accuracy 0.958\n",
      "196/200 - train: loss 0.643; val: loss 0.604 accuracy 0.958\n",
      "197/200 - train: loss 0.647; val: loss 0.604 accuracy 0.959\n",
      "198/200 - train: loss 0.645; val: loss 0.604 accuracy 0.959\n",
      "199/200 - train: loss 0.639; val: loss 0.604 accuracy 0.959\n",
      "200/200 - train: loss 0.646; val: loss 0.604 accuracy 0.958\n"
     ]
    }
   ],
   "source": [
    "trainer.run(train_loader, max_epochs=EPOCHS);"
   ]
  },
  {
   "cell_type": "code",
   "execution_count": 35,
   "id": "04fbe51b-f997-4fa2-a886-dee3857ca8f1",
   "metadata": {},
   "outputs": [],
   "source": [
    "def history_plot_train_val(history, key):\n",
    "    fig = plt.figure()\n",
    "    ax = fig.add_subplot(111)\n",
    "    xs = np.arange(1, len(history['train ' + key]) + 1)\n",
    "    ax.plot(xs, history['train ' + key], '.-', label='train')\n",
    "    ax.plot(xs, history['val ' + key], '.-', label='val')\n",
    "    ax.set_xlabel('epoch')\n",
    "    ax.set_ylabel(key)\n",
    "    ax.legend()\n",
    "    ax.grid()\n",
    "    plt.show()"
   ]
  },
  {
   "cell_type": "code",
   "execution_count": 36,
   "id": "8d7ddb86-1ab1-4caa-8be0-936b35f297ef",
   "metadata": {},
   "outputs": [],
   "source": [
    "def history_plot(history, key):\n",
    "    fig = plt.figure()\n",
    "    ax = fig.add_subplot(111)\n",
    "    xs = np.arange(1, len(history[key]) + 1)\n",
    "    ax.plot(xs, history[key], '.-')\n",
    "    ax.set_xlabel('epoch')\n",
    "    ax.set_ylabel(key)\n",
    "    ax.grid()\n",
    "    plt.show()"
   ]
  },
  {
   "cell_type": "code",
   "execution_count": 37,
   "id": "12930b84-172a-4d35-925f-ce53b41342e7",
   "metadata": {},
   "outputs": [
    {
     "data": {
      "image/png": "[encoded data removed]",
      "text/plain": [
       "<Figure size 432x288 with 1 Axes>"
      ]
     },
     "metadata": {
      "needs_background": "light"
     },
     "output_type": "display_data"
    }
   ],
   "source": [
    "history_plot_train_val(history, 'loss')"
   ]
  },
  {
   "cell_type": "code",
   "execution_count": 38,
   "id": "bc8a6f9a-c872-40db-b148-4cd23a493b51",
   "metadata": {},
   "outputs": [
    {
     "data": {
      "image/png": "[encoded data removed]",
      "text/plain": [
       "<Figure size 432x288 with 1 Axes>"
      ]
     },
     "metadata": {
      "needs_background": "light"
     },
     "output_type": "display_data"
    }
   ],
   "source": [
    "history_plot(history, 'val acc')"
   ]
  }
 ],
 "metadata": {
  "kernelspec": {
   "display_name": "Python 3",
   "language": "python",
   "name": "python3"
  },
  "language_info": {
   "codemirror_mode": {
    "name": "ipython",
    "version": 3
   },
   "file_extension": ".py",
   "mimetype": "text/x-python",
   "name": "python",
   "nbconvert_exporter": "python",
   "pygments_lexer": "ipython3",
   "version": "3.8.10"
  }
 },
 "nbformat": 4,
 "nbformat_minor": 5
}
