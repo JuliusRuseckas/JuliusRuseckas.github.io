{
 "cells": [
  {
   "cell_type": "markdown",
   "metadata": {
    "tags": []
   },
   "source": [
    "# Small model for CIFAR10"
   ]
  },
  {
   "cell_type": "markdown",
   "metadata": {},
   "source": [
    "Main ideas:\n",
    "- architecture similar to pre-activation ResNet, [arXiv:1603.05027 [cs.CV]](https://arxiv.org/abs/1603.05027)\n",
    "- swish (SiLU) activation function\n",
    "- factorization of convolution into depthwise and pointwise parts as in MobileNet, [arXiv:1704.04861 [cs.CV]](https://arxiv.org/abs/1704.04861)\n",
    "- attention module to improve factorized convolution as in MnasNet, [arXiv:1807.11626 [cs.CV]](https://arxiv.org/abs/1807.11626)\n",
    "- ECA channel attention insead of Squeeze-and-Excitation, [arXiv:1910.03151 [cs.CV]](https://arxiv.org/abs/1910.03151)"
   ]
  },
  {
   "cell_type": "markdown",
   "metadata": {},
   "source": [
    "## Configuration"
   ]
  },
  {
   "cell_type": "markdown",
   "metadata": {},
   "source": [
    "Imports"
   ]
  },
  {
   "cell_type": "code",
   "execution_count": 32,
   "metadata": {},
   "outputs": [],
   "source": [
    "import math\n",
    "import numpy as np\n",
    "from collections import defaultdict\n",
    "import matplotlib.pyplot as plt\n",
    "\n",
    "import torch\n",
    "import torch.nn as nn\n",
    "import torch.optim as optim\n",
    "import torch.nn.functional as F\n",
    "from torchvision import datasets, transforms\n",
    "\n",
    "from ignite.engine import Events, create_supervised_trainer, create_supervised_evaluator\n",
    "import ignite.metrics\n",
    "import ignite.contrib.handlers"
   ]
  },
  {
   "cell_type": "markdown",
   "metadata": {},
   "source": [
    "Configuration"
   ]
  },
  {
   "cell_type": "code",
   "execution_count": 33,
   "metadata": {},
   "outputs": [],
   "source": [
    "DATA_DIR='./data'\n",
    "\n",
    "NUM_CLASSES = 10\n",
    "NUM_WORKERS = 8\n",
    "BATCH_SIZE = 32\n",
    "LEARNING_RATE = 1e-2\n",
    "WEIGHT_DECAY = 1e-2\n",
    "EPOCHS = 100"
   ]
  },
  {
   "cell_type": "code",
   "execution_count": 34,
   "metadata": {},
   "outputs": [
    {
     "name": "stdout",
     "output_type": "stream",
     "text": [
      "device: cuda\n"
     ]
    }
   ],
   "source": [
    "DEVICE = torch.device(\"cuda\") if torch.cuda.is_available() else torch.device(\"cpu\")\n",
    "print(\"device:\", DEVICE)"
   ]
  },
  {
   "cell_type": "markdown",
   "metadata": {},
   "source": [
    "## Data"
   ]
  },
  {
   "cell_type": "code",
   "execution_count": 35,
   "metadata": {},
   "outputs": [],
   "source": [
    "train_transform = transforms.Compose([\n",
    "    transforms.RandomHorizontalFlip(),\n",
    "    transforms.RandomCrop(32, padding=4),\n",
    "    transforms.ColorJitter(brightness=0.2, contrast=0.2, saturation=0.2),\n",
    "    transforms.ToTensor()\n",
    "])"
   ]
  },
  {
   "cell_type": "code",
   "execution_count": 36,
   "metadata": {},
   "outputs": [
    {
     "name": "stdout",
     "output_type": "stream",
     "text": [
      "Files already downloaded and verified\n",
      "Files already downloaded and verified\n"
     ]
    }
   ],
   "source": [
    "train_dset = datasets.CIFAR10(root=DATA_DIR, train=True, download=True, transform=train_transform)\n",
    "test_dset = datasets.CIFAR10(root=DATA_DIR, train=False, download=True, transform=transforms.ToTensor())"
   ]
  },
  {
   "cell_type": "code",
   "execution_count": 37,
   "metadata": {},
   "outputs": [],
   "source": [
    "train_loader = torch.utils.data.DataLoader(train_dset, batch_size=BATCH_SIZE, shuffle=True,\n",
    "                                           num_workers=NUM_WORKERS, pin_memory=True)\n",
    "test_loader = torch.utils.data.DataLoader(test_dset, batch_size=BATCH_SIZE, shuffle=False,\n",
    "                                          num_workers=NUM_WORKERS, pin_memory=True)"
   ]
  },
  {
   "cell_type": "markdown",
   "metadata": {},
   "source": [
    "## Model"
   ]
  },
  {
   "cell_type": "markdown",
   "metadata": {},
   "source": [
    "Utilities"
   ]
  },
  {
   "cell_type": "code",
   "execution_count": 38,
   "metadata": {},
   "outputs": [],
   "source": [
    "def init_linear(m):\n",
    "    if isinstance(m, (nn.Conv2d, nn.Conv1d, nn.Linear)):\n",
    "        nn.init.kaiming_normal_(m.weight)\n",
    "        if m.bias is not None: nn.init.zeros_(m.bias)"
   ]
  },
  {
   "cell_type": "code",
   "execution_count": 39,
   "metadata": {},
   "outputs": [],
   "source": [
    "class NormAct(nn.Sequential):\n",
    "    def __init__(self, channels):\n",
    "        super().__init__(nn.BatchNorm2d(channels),\n",
    "                         nn.SiLU(inplace=True))"
   ]
  },
  {
   "cell_type": "markdown",
   "metadata": {},
   "source": [
    "ECA channel attention, [arXiv:1910.03151 [cs.CV]](https://arxiv.org/abs/1910.03151)"
   ]
  },
  {
   "cell_type": "code",
   "execution_count": 40,
   "metadata": {},
   "outputs": [],
   "source": [
    "class ECA(nn.Module):\n",
    "    def __init__(self, channels, gamma=2, b=1):\n",
    "        super().__init__()\n",
    "        \n",
    "        t = int(abs((math.log(channels, 2) + b) / gamma))\n",
    "        k = t if t % 2 else t + 1\n",
    "        padding = (k - 1) // 2\n",
    "        \n",
    "        self.pool = nn.AdaptiveAvgPool2d(1)\n",
    "        self.conv = nn.Conv1d(1, 1, kernel_size=k, padding=padding)\n",
    "    \n",
    "    def forward(self, x):\n",
    "        s = self.pool(x)\n",
    "        c = s.size(1)\n",
    "        s = s.view(-1, 1, c)\n",
    "        s = self.conv(s)\n",
    "        s = s.view(-1, c, 1, 1)\n",
    "        s = torch.sigmoid(s)\n",
    "        \n",
    "        return x * s"
   ]
  },
  {
   "cell_type": "markdown",
   "metadata": {},
   "source": [
    "Residual block"
   ]
  },
  {
   "cell_type": "code",
   "execution_count": 41,
   "metadata": {},
   "outputs": [],
   "source": [
    "class Block(nn.Module):\n",
    "    def __init__(self, in_channels, out_channels, stride=1):\n",
    "        super().__init__()\n",
    "        self.residual = nn.Sequential(\n",
    "            NormAct(in_channels),\n",
    "            nn.Conv2d(in_channels, in_channels, 3, padding=1, stride=stride, groups=in_channels),\n",
    "            NormAct(in_channels),\n",
    "            ECA(in_channels),\n",
    "            nn.Conv2d(in_channels, out_channels, 1)\n",
    "        )\n",
    "        self.shortcut = self.get_shortcut(in_channels, out_channels, stride)\n",
    "        self.gamma = nn.Parameter(torch.zeros(1))\n",
    "    \n",
    "    def forward(self, x):\n",
    "        return self.shortcut(x) + self.gamma * self.residual(x)\n",
    "    \n",
    "    @staticmethod\n",
    "    def get_shortcut(in_channels, out_channels, stride):\n",
    "        if in_channels != out_channels:\n",
    "            shortcut = nn.Conv2d(in_channels, out_channels, 1)\n",
    "            if stride > 1:\n",
    "                shortcut = nn.Sequential(nn.AvgPool2d(stride), shortcut)\n",
    "        elif stride > 1:\n",
    "            shortcut = nn.AvgPool2d(stride)\n",
    "        else:\n",
    "            shortcut = nn.Identity()\n",
    "        return shortcut"
   ]
  },
  {
   "cell_type": "markdown",
   "metadata": {},
   "source": [
    "Main model"
   ]
  },
  {
   "cell_type": "code",
   "execution_count": 42,
   "metadata": {},
   "outputs": [],
   "source": [
    "class Stage(nn.Sequential):\n",
    "    def __init__(self, in_channels, out_channels, num_blocks, stride=1):\n",
    "        super().__init__(\n",
    "            Block(in_channels, out_channels, stride),\n",
    "            *[Block(out_channels, out_channels) for _ in range(num_blocks - 1)]\n",
    "        )"
   ]
  },
  {
   "cell_type": "code",
   "execution_count": 43,
   "metadata": {},
   "outputs": [],
   "source": [
    "class Body(nn.Sequential):\n",
    "    def __init__(self, in_channels, channel_list, num_blocks_list, strides):\n",
    "        layers = []\n",
    "        for out_channels, num_blocks, stride in zip(channel_list, num_blocks_list, strides):\n",
    "            layers.append(Stage(in_channels, out_channels, num_blocks, stride))\n",
    "            in_channels = out_channels\n",
    "        \n",
    "        super().__init__(*layers)"
   ]
  },
  {
   "cell_type": "code",
   "execution_count": 44,
   "metadata": {},
   "outputs": [],
   "source": [
    "class Head(nn.Sequential):\n",
    "    def __init__(self, in_channels, classes, p_drop=0.):\n",
    "        super().__init__(\n",
    "            NormAct(in_channels),\n",
    "            nn.AdaptiveAvgPool2d(1),\n",
    "            nn.Flatten(),\n",
    "            nn.Dropout(p_drop),\n",
    "            nn.Linear(in_channels, classes)\n",
    "        )"
   ]
  },
  {
   "cell_type": "code",
   "execution_count": 45,
   "metadata": {},
   "outputs": [],
   "source": [
    "def Stem(in_channels, out_channels, stride):\n",
    "    return nn.Conv2d(in_channels, out_channels, kernel_size=3, padding=1, stride=stride)"
   ]
  },
  {
   "cell_type": "code",
   "execution_count": 46,
   "metadata": {},
   "outputs": [],
   "source": [
    "class Net(nn.Sequential):\n",
    "    def __init__(self, classes, num_blocks_list, channel_list, strides, in_channels=3, head_p_drop=0.):\n",
    "        super().__init__(\n",
    "            Stem(in_channels, channel_list[0], strides[0]),\n",
    "            Body(channel_list[0], channel_list[1:], num_blocks_list, strides[1:]),\n",
    "            Head(channel_list[-1], classes, head_p_drop)\n",
    "        )"
   ]
  },
  {
   "cell_type": "code",
   "execution_count": 47,
   "metadata": {},
   "outputs": [],
   "source": [
    "model = Net(NUM_CLASSES, \n",
    "            num_blocks_list =   [6,   6,   6,   4],\n",
    "            channel_list = [32, 64, 128, 256, 512],\n",
    "            strides =       [1,  1,   2,   2,   2],\n",
    "            head_p_drop=0.3)"
   ]
  },
  {
   "cell_type": "code",
   "execution_count": 48,
   "metadata": {},
   "outputs": [],
   "source": [
    "model.apply(init_linear);"
   ]
  },
  {
   "cell_type": "code",
   "execution_count": 49,
   "metadata": {},
   "outputs": [],
   "source": [
    "model.to(DEVICE);"
   ]
  },
  {
   "cell_type": "code",
   "execution_count": 50,
   "metadata": {},
   "outputs": [
    {
     "name": "stdout",
     "output_type": "stream",
     "text": [
      "Number of parameters: 1,637,142\n"
     ]
    }
   ],
   "source": [
    "print(\"Number of parameters: {:,}\".format(sum(p.numel() for p in model.parameters())))"
   ]
  },
  {
   "cell_type": "markdown",
   "metadata": {},
   "source": [
    "## Training"
   ]
  },
  {
   "cell_type": "markdown",
   "metadata": {},
   "source": [
    "### Setup trainer"
   ]
  },
  {
   "cell_type": "code",
   "execution_count": 51,
   "metadata": {},
   "outputs": [],
   "source": [
    "loss = nn.CrossEntropyLoss()"
   ]
  },
  {
   "cell_type": "code",
   "execution_count": 52,
   "metadata": {},
   "outputs": [],
   "source": [
    "optimizer = optim.AdamW(model.parameters(), lr=LEARNING_RATE, weight_decay=WEIGHT_DECAY)"
   ]
  },
  {
   "cell_type": "code",
   "execution_count": 53,
   "metadata": {},
   "outputs": [],
   "source": [
    "trainer = create_supervised_trainer(model, optimizer, loss, device=DEVICE)"
   ]
  },
  {
   "cell_type": "code",
   "execution_count": 54,
   "metadata": {},
   "outputs": [],
   "source": [
    "lr_scheduler = optim.lr_scheduler.OneCycleLR(optimizer, max_lr=LEARNING_RATE,\n",
    "                                             steps_per_epoch=len(train_loader), epochs=EPOCHS)"
   ]
  },
  {
   "cell_type": "code",
   "execution_count": 55,
   "metadata": {},
   "outputs": [],
   "source": [
    "trainer.add_event_handler(Events.ITERATION_COMPLETED, lambda engine: lr_scheduler.step());"
   ]
  },
  {
   "cell_type": "code",
   "execution_count": 56,
   "metadata": {},
   "outputs": [],
   "source": [
    "ignite.metrics.RunningAverage(output_transform=lambda x: x).attach(trainer, \"loss\")"
   ]
  },
  {
   "cell_type": "code",
   "execution_count": 57,
   "metadata": {},
   "outputs": [],
   "source": [
    "val_metrics = {\"accuracy\": ignite.metrics.Accuracy(), \"loss\": ignite.metrics.Loss(loss)}"
   ]
  },
  {
   "cell_type": "code",
   "execution_count": 58,
   "metadata": {},
   "outputs": [],
   "source": [
    "evaluator = create_supervised_evaluator(model, metrics=val_metrics, device=DEVICE)"
   ]
  },
  {
   "cell_type": "code",
   "execution_count": 59,
   "metadata": {},
   "outputs": [],
   "source": [
    "history = defaultdict(list)"
   ]
  },
  {
   "cell_type": "code",
   "execution_count": 60,
   "metadata": {},
   "outputs": [],
   "source": [
    "@trainer.on(Events.EPOCH_COMPLETED)\n",
    "def log_validation_results(engine):\n",
    "    train_state = engine.state\n",
    "    epoch = train_state.epoch\n",
    "    max_epochs = train_state.max_epochs\n",
    "    train_loss = train_state.metrics[\"loss\"]\n",
    "    history['train loss'].append(train_loss)\n",
    "    \n",
    "    evaluator.run(test_loader)\n",
    "    val_metrics = evaluator.state.metrics\n",
    "    val_loss = val_metrics[\"loss\"]\n",
    "    val_acc = val_metrics[\"accuracy\"]\n",
    "    history['val loss'].append(val_loss)\n",
    "    history['val acc'].append(val_acc)\n",
    "    \n",
    "    print(\"{}/{} - train: loss {:.3f}; val: loss {:.3f} accuracy {:.3f}\".format(\n",
    "        epoch, max_epochs, train_loss, val_loss, val_acc))"
   ]
  },
  {
   "cell_type": "markdown",
   "metadata": {},
   "source": [
    "### Start training"
   ]
  },
  {
   "cell_type": "code",
   "execution_count": 34,
   "metadata": {},
   "outputs": [
    {
     "name": "stdout",
     "output_type": "stream",
     "text": [
      "1/100 - train: loss 1.085; val: loss 0.988 accuracy 0.648\n",
      "2/100 - train: loss 0.792; val: loss 0.804 accuracy 0.720\n",
      "3/100 - train: loss 0.656; val: loss 0.625 accuracy 0.782\n",
      "4/100 - train: loss 0.625; val: loss 0.578 accuracy 0.799\n",
      "5/100 - train: loss 0.558; val: loss 0.531 accuracy 0.818\n",
      "6/100 - train: loss 0.561; val: loss 0.490 accuracy 0.830\n",
      "7/100 - train: loss 0.470; val: loss 0.457 accuracy 0.844\n",
      "8/100 - train: loss 0.476; val: loss 0.467 accuracy 0.839\n",
      "9/100 - train: loss 0.443; val: loss 0.516 accuracy 0.827\n",
      "10/100 - train: loss 0.475; val: loss 0.482 accuracy 0.834\n",
      "11/100 - train: loss 0.430; val: loss 0.469 accuracy 0.842\n",
      "12/100 - train: loss 0.442; val: loss 0.439 accuracy 0.849\n",
      "13/100 - train: loss 0.442; val: loss 0.434 accuracy 0.854\n",
      "14/100 - train: loss 0.442; val: loss 0.472 accuracy 0.835\n",
      "15/100 - train: loss 0.457; val: loss 0.432 accuracy 0.853\n",
      "16/100 - train: loss 0.455; val: loss 0.436 accuracy 0.857\n",
      "17/100 - train: loss 0.464; val: loss 0.442 accuracy 0.851\n",
      "18/100 - train: loss 0.416; val: loss 0.460 accuracy 0.846\n",
      "19/100 - train: loss 0.416; val: loss 0.445 accuracy 0.848\n",
      "20/100 - train: loss 0.430; val: loss 0.502 accuracy 0.832\n",
      "21/100 - train: loss 0.427; val: loss 0.520 accuracy 0.823\n",
      "22/100 - train: loss 0.406; val: loss 0.470 accuracy 0.848\n",
      "23/100 - train: loss 0.427; val: loss 0.487 accuracy 0.835\n",
      "24/100 - train: loss 0.397; val: loss 0.420 accuracy 0.859\n",
      "25/100 - train: loss 0.423; val: loss 0.420 accuracy 0.860\n",
      "26/100 - train: loss 0.437; val: loss 0.405 accuracy 0.864\n",
      "27/100 - train: loss 0.418; val: loss 0.742 accuracy 0.759\n",
      "28/100 - train: loss 0.407; val: loss 0.467 accuracy 0.842\n",
      "29/100 - train: loss 0.411; val: loss 0.498 accuracy 0.835\n",
      "30/100 - train: loss 0.395; val: loss 0.456 accuracy 0.851\n",
      "31/100 - train: loss 0.389; val: loss 0.396 accuracy 0.868\n",
      "32/100 - train: loss 0.411; val: loss 0.526 accuracy 0.832\n",
      "33/100 - train: loss 0.404; val: loss 0.479 accuracy 0.844\n",
      "34/100 - train: loss 0.414; val: loss 0.471 accuracy 0.840\n",
      "35/100 - train: loss 0.358; val: loss 0.456 accuracy 0.853\n",
      "36/100 - train: loss 0.410; val: loss 0.424 accuracy 0.860\n",
      "37/100 - train: loss 0.382; val: loss 0.468 accuracy 0.849\n",
      "38/100 - train: loss 0.363; val: loss 0.552 accuracy 0.829\n",
      "39/100 - train: loss 0.420; val: loss 0.507 accuracy 0.826\n",
      "40/100 - train: loss 0.353; val: loss 0.463 accuracy 0.849\n",
      "41/100 - train: loss 0.343; val: loss 0.366 accuracy 0.876\n",
      "42/100 - train: loss 0.354; val: loss 0.428 accuracy 0.856\n",
      "43/100 - train: loss 0.356; val: loss 0.378 accuracy 0.870\n",
      "44/100 - train: loss 0.344; val: loss 0.372 accuracy 0.877\n",
      "45/100 - train: loss 0.362; val: loss 0.369 accuracy 0.875\n",
      "46/100 - train: loss 0.336; val: loss 0.434 accuracy 0.859\n",
      "47/100 - train: loss 0.327; val: loss 0.326 accuracy 0.888\n",
      "48/100 - train: loss 0.330; val: loss 0.533 accuracy 0.832\n",
      "49/100 - train: loss 0.350; val: loss 0.346 accuracy 0.886\n",
      "50/100 - train: loss 0.325; val: loss 0.427 accuracy 0.857\n",
      "51/100 - train: loss 0.300; val: loss 0.317 accuracy 0.896\n",
      "52/100 - train: loss 0.296; val: loss 0.542 accuracy 0.830\n",
      "53/100 - train: loss 0.321; val: loss 0.382 accuracy 0.868\n",
      "54/100 - train: loss 0.294; val: loss 0.359 accuracy 0.882\n",
      "55/100 - train: loss 0.294; val: loss 0.382 accuracy 0.876\n",
      "56/100 - train: loss 0.276; val: loss 0.358 accuracy 0.884\n",
      "57/100 - train: loss 0.276; val: loss 0.293 accuracy 0.902\n",
      "58/100 - train: loss 0.262; val: loss 0.293 accuracy 0.905\n",
      "59/100 - train: loss 0.255; val: loss 0.338 accuracy 0.892\n",
      "60/100 - train: loss 0.233; val: loss 0.337 accuracy 0.894\n",
      "61/100 - train: loss 0.244; val: loss 0.297 accuracy 0.902\n",
      "62/100 - train: loss 0.259; val: loss 0.364 accuracy 0.886\n",
      "63/100 - train: loss 0.237; val: loss 0.315 accuracy 0.899\n",
      "64/100 - train: loss 0.204; val: loss 0.267 accuracy 0.912\n",
      "65/100 - train: loss 0.196; val: loss 0.305 accuracy 0.903\n",
      "66/100 - train: loss 0.184; val: loss 0.302 accuracy 0.902\n",
      "67/100 - train: loss 0.192; val: loss 0.279 accuracy 0.910\n",
      "68/100 - train: loss 0.176; val: loss 0.302 accuracy 0.907\n",
      "69/100 - train: loss 0.155; val: loss 0.259 accuracy 0.916\n",
      "70/100 - train: loss 0.154; val: loss 0.277 accuracy 0.912\n",
      "71/100 - train: loss 0.157; val: loss 0.260 accuracy 0.919\n",
      "72/100 - train: loss 0.152; val: loss 0.247 accuracy 0.925\n",
      "73/100 - train: loss 0.116; val: loss 0.265 accuracy 0.921\n",
      "74/100 - train: loss 0.132; val: loss 0.241 accuracy 0.926\n",
      "75/100 - train: loss 0.105; val: loss 0.250 accuracy 0.923\n",
      "76/100 - train: loss 0.129; val: loss 0.321 accuracy 0.910\n",
      "77/100 - train: loss 0.087; val: loss 0.252 accuracy 0.928\n",
      "78/100 - train: loss 0.100; val: loss 0.262 accuracy 0.924\n",
      "79/100 - train: loss 0.105; val: loss 0.231 accuracy 0.932\n",
      "80/100 - train: loss 0.084; val: loss 0.254 accuracy 0.930\n",
      "81/100 - train: loss 0.076; val: loss 0.247 accuracy 0.937\n",
      "82/100 - train: loss 0.056; val: loss 0.247 accuracy 0.933\n",
      "83/100 - train: loss 0.059; val: loss 0.255 accuracy 0.934\n",
      "84/100 - train: loss 0.040; val: loss 0.244 accuracy 0.937\n",
      "85/100 - train: loss 0.038; val: loss 0.240 accuracy 0.937\n",
      "86/100 - train: loss 0.038; val: loss 0.262 accuracy 0.936\n",
      "87/100 - train: loss 0.035; val: loss 0.232 accuracy 0.942\n",
      "88/100 - train: loss 0.023; val: loss 0.224 accuracy 0.943\n",
      "89/100 - train: loss 0.017; val: loss 0.241 accuracy 0.941\n",
      "90/100 - train: loss 0.015; val: loss 0.231 accuracy 0.944\n",
      "91/100 - train: loss 0.009; val: loss 0.240 accuracy 0.944\n",
      "92/100 - train: loss 0.020; val: loss 0.240 accuracy 0.945\n",
      "93/100 - train: loss 0.009; val: loss 0.242 accuracy 0.946\n",
      "94/100 - train: loss 0.006; val: loss 0.237 accuracy 0.948\n",
      "95/100 - train: loss 0.007; val: loss 0.240 accuracy 0.949\n",
      "96/100 - train: loss 0.007; val: loss 0.238 accuracy 0.950\n",
      "97/100 - train: loss 0.005; val: loss 0.239 accuracy 0.950\n",
      "98/100 - train: loss 0.005; val: loss 0.238 accuracy 0.950\n",
      "99/100 - train: loss 0.005; val: loss 0.240 accuracy 0.951\n",
      "100/100 - train: loss 0.004; val: loss 0.237 accuracy 0.950\n"
     ]
    }
   ],
   "source": [
    "trainer.run(train_loader, max_epochs=EPOCHS);"
   ]
  },
  {
   "cell_type": "code",
   "execution_count": 35,
   "metadata": {},
   "outputs": [
    {
     "data": {
      "image/png": "[encoded data removed]",
      "text/plain": [
       "<Figure size 432x288 with 1 Axes>"
      ]
     },
     "metadata": {
      "needs_background": "light"
     },
     "output_type": "display_data"
    }
   ],
   "source": [
    "fig = plt.figure()\n",
    "ax = fig.add_subplot(111)\n",
    "xs = np.arange(1, len(history['train loss']) + 1)\n",
    "ax.plot(xs, history['train loss'], '.-', label='train')\n",
    "ax.plot(xs, history['val loss'], '.-', label='val')\n",
    "ax.set_xlabel('epoch')\n",
    "ax.set_ylabel('loss')\n",
    "ax.legend()\n",
    "ax.grid()\n",
    "plt.show()"
   ]
  },
  {
   "cell_type": "code",
   "execution_count": 36,
   "metadata": {},
   "outputs": [
    {
     "data": {
      "image/png": "[encoded data removed]",
      "text/plain": [
       "<Figure size 432x288 with 1 Axes>"
      ]
     },
     "metadata": {
      "needs_background": "light"
     },
     "output_type": "display_data"
    }
   ],
   "source": [
    "fig = plt.figure()\n",
    "ax = fig.add_subplot(111)\n",
    "xs = np.arange(1, len(history['val acc']) + 1)\n",
    "ax.plot(xs, history['val acc'], '-')\n",
    "ax.set_xlabel('epoch')\n",
    "ax.set_ylabel('val acc')\n",
    "ax.grid()\n",
    "plt.show()"
   ]
  }
 ],
 "metadata": {
  "kernelspec": {
   "display_name": "Python 3",
   "language": "python",
   "name": "python3"
  },
  "language_info": {
   "codemirror_mode": {
    "name": "ipython",
    "version": 3
   },
   "file_extension": ".py",
   "mimetype": "text/x-python",
   "name": "python",
   "nbconvert_exporter": "python",
   "pygments_lexer": "ipython3",
   "version": "3.8.10"
  }
 },
 "nbformat": 4,
 "nbformat_minor": 4
}
