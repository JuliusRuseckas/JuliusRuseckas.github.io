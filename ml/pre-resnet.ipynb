{
 "cells": [
  {
   "cell_type": "markdown",
   "metadata": {},
   "source": [
    "# Pre-activation ResNet on CIFAR10"
   ]
  },
  {
   "cell_type": "markdown",
   "metadata": {},
   "source": [
    "## Configuration"
   ]
  },
  {
   "cell_type": "markdown",
   "metadata": {},
   "source": [
    "Imports"
   ]
  },
  {
   "cell_type": "code",
   "execution_count": 1,
   "metadata": {},
   "outputs": [],
   "source": [
    "import numpy as np\n",
    "from collections import defaultdict\n",
    "import matplotlib.pyplot as plt\n",
    "\n",
    "import torch\n",
    "import torch.nn as nn\n",
    "import torch.optim as optim\n",
    "import torch.nn.functional as F\n",
    "from torchvision import datasets, transforms\n",
    "\n",
    "from ignite.engine import Events, create_supervised_trainer, create_supervised_evaluator\n",
    "import ignite.metrics\n",
    "import ignite.contrib.handlers"
   ]
  },
  {
   "cell_type": "markdown",
   "metadata": {},
   "source": [
    "Configuration"
   ]
  },
  {
   "cell_type": "code",
   "execution_count": 2,
   "metadata": {},
   "outputs": [],
   "source": [
    "DATA_DIR='./data'\n",
    "\n",
    "NUM_CLASSES = 10\n",
    "NUM_WORKERS = 8\n",
    "BATCH_SIZE = 32\n",
    "EPOCHS = 100"
   ]
  },
  {
   "cell_type": "code",
   "execution_count": 3,
   "metadata": {},
   "outputs": [
    {
     "name": "stdout",
     "output_type": "stream",
     "text": [
      "device: cuda\n"
     ]
    }
   ],
   "source": [
    "DEVICE = torch.device(\"cuda\") if torch.cuda.is_available() else torch.device(\"cpu\")\n",
    "print(\"device:\", DEVICE)"
   ]
  },
  {
   "cell_type": "markdown",
   "metadata": {},
   "source": [
    "## Data"
   ]
  },
  {
   "cell_type": "code",
   "execution_count": 4,
   "metadata": {},
   "outputs": [],
   "source": [
    "train_transform = transforms.Compose([\n",
    "    transforms.RandomHorizontalFlip(),\n",
    "    transforms.RandomCrop(32, padding=4),\n",
    "    transforms.ColorJitter(brightness=0.2, contrast=0.2, saturation=0.2),\n",
    "    transforms.ToTensor()\n",
    "])"
   ]
  },
  {
   "cell_type": "code",
   "execution_count": 5,
   "metadata": {},
   "outputs": [
    {
     "name": "stdout",
     "output_type": "stream",
     "text": [
      "Files already downloaded and verified\n",
      "Files already downloaded and verified\n"
     ]
    }
   ],
   "source": [
    "train_dset = datasets.CIFAR10(root=DATA_DIR, train=True, download=True, transform=train_transform)\n",
    "test_dset = datasets.CIFAR10(root=DATA_DIR, train=False, download=True, transform=transforms.ToTensor())"
   ]
  },
  {
   "cell_type": "code",
   "execution_count": 6,
   "metadata": {},
   "outputs": [],
   "source": [
    "train_loader = torch.utils.data.DataLoader(train_dset, batch_size=BATCH_SIZE, shuffle=True,\n",
    "                                           num_workers=NUM_WORKERS, pin_memory=True)\n",
    "test_loader = torch.utils.data.DataLoader(test_dset, batch_size=BATCH_SIZE, shuffle=False,\n",
    "                                          num_workers=NUM_WORKERS, pin_memory=True)"
   ]
  },
  {
   "cell_type": "code",
   "execution_count": 7,
   "metadata": {},
   "outputs": [],
   "source": [
    "def dataset_show_image(dset, idx):\n",
    "    X, Y = dset[idx]\n",
    "    title = \"Ground truth: {}\".format(dset.classes[Y])\n",
    "    fig = plt.figure()\n",
    "    ax = fig.add_subplot(111)\n",
    "    ax.set_axis_off()\n",
    "    ax.imshow(np.moveaxis(X.numpy(), 0, -1))\n",
    "    ax.set_title(title)\n",
    "    plt.show()"
   ]
  },
  {
   "cell_type": "code",
   "execution_count": 8,
   "metadata": {},
   "outputs": [
    {
     "data": {
      "image/png": "[encoded data removed]",
      "text/plain": [
       "<Figure size 432x288 with 1 Axes>"
      ]
     },
     "metadata": {
      "needs_background": "light"
     },
     "output_type": "display_data"
    }
   ],
   "source": [
    "dataset_show_image(test_dset, 1)"
   ]
  },
  {
   "cell_type": "markdown",
   "metadata": {},
   "source": [
    "## Model"
   ]
  },
  {
   "cell_type": "code",
   "execution_count": 9,
   "metadata": {},
   "outputs": [],
   "source": [
    "def init_linear(m):\n",
    "    if isinstance(m, (nn.Conv2d, nn.Linear)):\n",
    "        nn.init.kaiming_normal_(m.weight)\n",
    "        if m.bias is not None: nn.init.zeros_(m.bias)"
   ]
  },
  {
   "cell_type": "code",
   "execution_count": 10,
   "metadata": {},
   "outputs": [],
   "source": [
    "class ConvBlock(nn.Sequential):\n",
    "    def __init__(self, in_channels, out_channels, kernel_size=3, stride=1):\n",
    "        padding = (kernel_size - 1) // 2\n",
    "        super().__init__(\n",
    "            nn.BatchNorm2d(in_channels),\n",
    "            nn.ReLU(inplace=True),\n",
    "            nn.Conv2d(in_channels, out_channels, kernel_size, stride=stride, padding=padding)\n",
    "        )"
   ]
  },
  {
   "cell_type": "code",
   "execution_count": 11,
   "metadata": {},
   "outputs": [],
   "source": [
    "class BasicResidual(nn.Sequential):\n",
    "    def __init__(self, in_channels, out_channels, stride=1, p_drop=0.):\n",
    "        super().__init__(\n",
    "            ConvBlock(in_channels, out_channels, stride=stride),\n",
    "            ConvBlock(out_channels, out_channels),\n",
    "            nn.Dropout(p_drop)\n",
    "        )"
   ]
  },
  {
   "cell_type": "code",
   "execution_count": 12,
   "metadata": {},
   "outputs": [],
   "source": [
    "class ResidualBlock(nn.Module):\n",
    "    def __init__(self, in_channels, out_channels, stride=1, p_drop=0.):\n",
    "        super().__init__()\n",
    "        self.shortcut = self.get_shortcut(in_channels, out_channels, stride)\n",
    "        self.residual = BasicResidual(in_channels, out_channels, stride, p_drop)\n",
    "        self.gamma = nn.Parameter(torch.zeros(1))\n",
    "    \n",
    "    def forward(self, x):\n",
    "        out = self.shortcut(x) + self.gamma * self.residual(x)\n",
    "        return out\n",
    "    \n",
    "    def get_shortcut(self, in_channels, out_channels, stride):\n",
    "        if in_channels != out_channels:\n",
    "            shortcut = nn.Conv2d(in_channels, out_channels, 1)\n",
    "            if stride > 1:\n",
    "                shortcut = nn.Sequential(nn.AvgPool2d(stride), shortcut)\n",
    "        elif stride > 1:\n",
    "            shortcut = nn.AvgPool2d(stride)\n",
    "        else:\n",
    "            shortcut = nn.Identity()\n",
    "        return shortcut"
   ]
  },
  {
   "cell_type": "code",
   "execution_count": 13,
   "metadata": {},
   "outputs": [],
   "source": [
    "class ResidualStack(nn.Sequential):\n",
    "    def __init__(self, in_channels, repetitions, strides, p_drop=0.):\n",
    "        layers = []\n",
    "        out_channels = in_channels\n",
    "        for rep, stride in zip(repetitions, strides):\n",
    "            for _ in range(rep):\n",
    "                layers.append(ResidualBlock(in_channels, out_channels, stride, p_drop))\n",
    "                in_channels = out_channels\n",
    "                stride = 1\n",
    "            out_channels *= 2\n",
    "        super().__init__(*layers)"
   ]
  },
  {
   "cell_type": "code",
   "execution_count": 14,
   "metadata": {},
   "outputs": [],
   "source": [
    "class Stem(nn.Sequential):\n",
    "    def __init__(self, in_channels, channel_list, stride):\n",
    "        layers = [nn.Conv2d(in_channels, channel_list[0], 3, padding=1, stride=stride)]\n",
    "        for in_channels, out_channels in zip(channel_list, channel_list[1:]):\n",
    "            layers.append(ConvBlock(in_channels, out_channels, 3))\n",
    "        super().__init__(*layers)"
   ]
  },
  {
   "cell_type": "code",
   "execution_count": 15,
   "metadata": {},
   "outputs": [],
   "source": [
    "class Head(nn.Sequential):\n",
    "    def __init__(self, in_channels, classes, p_drop=0.):\n",
    "        super().__init__(\n",
    "            nn.BatchNorm2d(in_channels),\n",
    "            nn.ReLU(inplace=True),\n",
    "            nn.AdaptiveAvgPool2d(1),\n",
    "            nn.Flatten(),\n",
    "            nn.Dropout(p_drop),\n",
    "            nn.Linear(in_channels, classes)\n",
    "        )"
   ]
  },
  {
   "cell_type": "code",
   "execution_count": 16,
   "metadata": {},
   "outputs": [],
   "source": [
    "class ResNet(nn.Sequential):\n",
    "    def __init__(self, classes, repetitions, strides=None, in_channels=3, res_p_drop=0., head_p_drop=0.):\n",
    "        if strides is None: strides = [2] * (len(repetitions) + 1)\n",
    "        super().__init__(\n",
    "            Stem(in_channels, [32, 32, 64], strides[0]),\n",
    "            ResidualStack(64, repetitions, strides[1:], res_p_drop),\n",
    "            Head(64 * 2**(len(repetitions) - 1), classes, head_p_drop)\n",
    "        )"
   ]
  },
  {
   "cell_type": "code",
   "execution_count": 17,
   "metadata": {},
   "outputs": [],
   "source": [
    "model = ResNet(NUM_CLASSES, [2, 2, 2, 2], strides=[1, 1, 2, 2, 2], res_p_drop=0., head_p_drop=0.3)"
   ]
  },
  {
   "cell_type": "code",
   "execution_count": 18,
   "metadata": {},
   "outputs": [],
   "source": [
    "model.apply(init_linear);"
   ]
  },
  {
   "cell_type": "code",
   "execution_count": 19,
   "metadata": {},
   "outputs": [],
   "source": [
    "model.to(DEVICE);"
   ]
  },
  {
   "cell_type": "code",
   "execution_count": 20,
   "metadata": {},
   "outputs": [
    {
     "name": "stdout",
     "output_type": "stream",
     "text": [
      "Number of parameters: 11,203,954\n"
     ]
    }
   ],
   "source": [
    "print(\"Number of parameters: {:,}\".format(sum(p.numel() for p in model.parameters())))"
   ]
  },
  {
   "cell_type": "markdown",
   "metadata": {},
   "source": [
    "## Training"
   ]
  },
  {
   "cell_type": "markdown",
   "metadata": {},
   "source": [
    "### History"
   ]
  },
  {
   "cell_type": "code",
   "execution_count": 21,
   "metadata": {},
   "outputs": [],
   "source": [
    "class History:\n",
    "    def __init__(self):\n",
    "        self.values = defaultdict(list)\n",
    "\n",
    "    def append(self, key, value):\n",
    "        self.values[key].append(value)\n",
    "\n",
    "    def reset(self):\n",
    "        for k in self.values.keys():\n",
    "            self.values[k] = []\n",
    "\n",
    "    def _begin_plot(self):\n",
    "        self.fig = plt.figure()\n",
    "        self.ax = self.fig.add_subplot(111)\n",
    "\n",
    "    def _end_plot(self, ylabel):\n",
    "        self.ax.set_xlabel('epoch')\n",
    "        self.ax.set_ylabel(ylabel)\n",
    "        plt.show()\n",
    "\n",
    "    def _plot(self, key, line_type='-', label=None):\n",
    "        if label is None: label=key\n",
    "        xs = np.arange(1, len(self.values[key])+1)\n",
    "        self.ax.plot(xs, self.values[key], line_type, label=label)\n",
    "\n",
    "    def plot(self, key):\n",
    "        self._begin_plot()\n",
    "        self._plot(key, '-')\n",
    "        self._end_plot(key)\n",
    "\n",
    "    def plot_train_val(self, key):\n",
    "        self._begin_plot()\n",
    "        self._plot('train ' + key, '.-', 'train')\n",
    "        self._plot('val ' + key, '.-', 'val')\n",
    "        self.ax.legend()\n",
    "        self._end_plot(key)"
   ]
  },
  {
   "cell_type": "markdown",
   "metadata": {},
   "source": [
    "### Setup trainer"
   ]
  },
  {
   "cell_type": "code",
   "execution_count": 22,
   "metadata": {},
   "outputs": [],
   "source": [
    "loss = nn.CrossEntropyLoss()"
   ]
  },
  {
   "cell_type": "code",
   "execution_count": 23,
   "metadata": {},
   "outputs": [],
   "source": [
    "optimizer = optim.AdamW(model.parameters(), lr=1e-6, weight_decay=1e-2)"
   ]
  },
  {
   "cell_type": "code",
   "execution_count": 24,
   "metadata": {},
   "outputs": [],
   "source": [
    "trainer = create_supervised_trainer(model, optimizer, loss, device=DEVICE)"
   ]
  },
  {
   "cell_type": "code",
   "execution_count": 25,
   "metadata": {},
   "outputs": [],
   "source": [
    "lr_scheduler = optim.lr_scheduler.OneCycleLR(optimizer, max_lr=1e-2,\n",
    "                                             steps_per_epoch=len(train_loader), epochs=EPOCHS)"
   ]
  },
  {
   "cell_type": "code",
   "execution_count": 26,
   "metadata": {},
   "outputs": [],
   "source": [
    "trainer.add_event_handler(Events.ITERATION_COMPLETED, lambda engine: lr_scheduler.step());"
   ]
  },
  {
   "cell_type": "code",
   "execution_count": 27,
   "metadata": {},
   "outputs": [],
   "source": [
    "ignite.metrics.RunningAverage(output_transform=lambda x: x).attach(trainer, \"loss\")"
   ]
  },
  {
   "cell_type": "code",
   "execution_count": 28,
   "metadata": {},
   "outputs": [],
   "source": [
    "val_metrics = {\"accuracy\": ignite.metrics.Accuracy(), \"loss\": ignite.metrics.Loss(loss)}"
   ]
  },
  {
   "cell_type": "code",
   "execution_count": 29,
   "metadata": {},
   "outputs": [],
   "source": [
    "evaluator = create_supervised_evaluator(model, metrics=val_metrics, device=DEVICE)"
   ]
  },
  {
   "cell_type": "code",
   "execution_count": 30,
   "metadata": {},
   "outputs": [],
   "source": [
    "history = History()"
   ]
  },
  {
   "cell_type": "code",
   "execution_count": 31,
   "metadata": {},
   "outputs": [],
   "source": [
    "@trainer.on(Events.EPOCH_COMPLETED)\n",
    "def log_validation_results(engine):\n",
    "    train_state = engine.state\n",
    "    epoch = train_state.epoch\n",
    "    max_epochs = train_state.max_epochs\n",
    "    train_loss = train_state.metrics[\"loss\"]\n",
    "    history.append('train loss', train_loss)\n",
    "    \n",
    "    evaluator.run(test_loader)\n",
    "    val_metrics = evaluator.state.metrics\n",
    "    val_loss = val_metrics[\"loss\"]\n",
    "    val_acc = val_metrics[\"accuracy\"]\n",
    "    history.append('val loss', val_loss)\n",
    "    history.append('val acc', val_acc)\n",
    "    \n",
    "    print(\"{}/{} - train: loss {:.3f}; val: loss {:.3f} accuracy {:.3f}\".format(\n",
    "        epoch, max_epochs, train_loss, val_loss, val_acc))"
   ]
  },
  {
   "cell_type": "markdown",
   "metadata": {},
   "source": [
    "### Start training"
   ]
  },
  {
   "cell_type": "code",
   "execution_count": 33,
   "metadata": {},
   "outputs": [
    {
     "name": "stdout",
     "output_type": "stream",
     "text": [
      "1/100 - train: loss 1.173; val: loss 1.053 accuracy 0.622\n",
      "2/100 - train: loss 0.882; val: loss 0.845 accuracy 0.706\n",
      "3/100 - train: loss 0.727; val: loss 0.695 accuracy 0.763\n",
      "4/100 - train: loss 0.652; val: loss 0.651 accuracy 0.784\n",
      "5/100 - train: loss 0.638; val: loss 0.587 accuracy 0.798\n",
      "6/100 - train: loss 0.582; val: loss 0.589 accuracy 0.803\n",
      "7/100 - train: loss 0.554; val: loss 0.586 accuracy 0.813\n",
      "8/100 - train: loss 0.528; val: loss 0.577 accuracy 0.810\n",
      "9/100 - train: loss 0.517; val: loss 0.506 accuracy 0.833\n",
      "10/100 - train: loss 0.458; val: loss 0.590 accuracy 0.806\n",
      "11/100 - train: loss 0.466; val: loss 0.478 accuracy 0.839\n",
      "12/100 - train: loss 0.431; val: loss 0.521 accuracy 0.831\n",
      "13/100 - train: loss 0.450; val: loss 0.443 accuracy 0.845\n",
      "14/100 - train: loss 0.414; val: loss 0.416 accuracy 0.864\n",
      "15/100 - train: loss 0.417; val: loss 0.531 accuracy 0.828\n",
      "16/100 - train: loss 0.411; val: loss 0.499 accuracy 0.838\n",
      "17/100 - train: loss 0.426; val: loss 0.462 accuracy 0.849\n",
      "18/100 - train: loss 0.400; val: loss 0.663 accuracy 0.792\n",
      "19/100 - train: loss 0.414; val: loss 0.533 accuracy 0.819\n",
      "20/100 - train: loss 0.407; val: loss 0.431 accuracy 0.859\n",
      "21/100 - train: loss 0.434; val: loss 0.488 accuracy 0.842\n",
      "22/100 - train: loss 0.380; val: loss 0.471 accuracy 0.845\n",
      "23/100 - train: loss 0.428; val: loss 0.475 accuracy 0.840\n",
      "24/100 - train: loss 0.414; val: loss 0.393 accuracy 0.872\n",
      "25/100 - train: loss 0.406; val: loss 0.480 accuracy 0.843\n",
      "26/100 - train: loss 0.368; val: loss 0.623 accuracy 0.809\n",
      "27/100 - train: loss 0.384; val: loss 0.518 accuracy 0.833\n",
      "28/100 - train: loss 0.383; val: loss 0.500 accuracy 0.841\n",
      "29/100 - train: loss 0.388; val: loss 0.479 accuracy 0.843\n",
      "30/100 - train: loss 0.384; val: loss 0.407 accuracy 0.866\n",
      "31/100 - train: loss 0.360; val: loss 0.439 accuracy 0.859\n",
      "32/100 - train: loss 0.366; val: loss 0.466 accuracy 0.848\n",
      "33/100 - train: loss 0.382; val: loss 0.406 accuracy 0.863\n",
      "34/100 - train: loss 0.363; val: loss 0.690 accuracy 0.793\n",
      "35/100 - train: loss 0.354; val: loss 0.482 accuracy 0.845\n",
      "36/100 - train: loss 0.340; val: loss 0.514 accuracy 0.832\n",
      "37/100 - train: loss 0.351; val: loss 0.498 accuracy 0.840\n",
      "38/100 - train: loss 0.379; val: loss 0.577 accuracy 0.812\n",
      "39/100 - train: loss 0.365; val: loss 0.471 accuracy 0.851\n",
      "40/100 - train: loss 0.345; val: loss 0.484 accuracy 0.836\n",
      "41/100 - train: loss 0.344; val: loss 0.454 accuracy 0.857\n",
      "42/100 - train: loss 0.322; val: loss 0.423 accuracy 0.865\n",
      "43/100 - train: loss 0.295; val: loss 0.480 accuracy 0.853\n",
      "44/100 - train: loss 0.366; val: loss 0.442 accuracy 0.859\n",
      "45/100 - train: loss 0.348; val: loss 0.378 accuracy 0.877\n",
      "46/100 - train: loss 0.307; val: loss 0.419 accuracy 0.861\n",
      "47/100 - train: loss 0.349; val: loss 0.328 accuracy 0.889\n",
      "48/100 - train: loss 0.324; val: loss 0.406 accuracy 0.865\n",
      "49/100 - train: loss 0.330; val: loss 0.555 accuracy 0.828\n",
      "50/100 - train: loss 0.270; val: loss 0.423 accuracy 0.865\n",
      "51/100 - train: loss 0.306; val: loss 0.449 accuracy 0.859\n",
      "52/100 - train: loss 0.262; val: loss 0.297 accuracy 0.897\n",
      "53/100 - train: loss 0.287; val: loss 0.472 accuracy 0.850\n",
      "54/100 - train: loss 0.278; val: loss 0.440 accuracy 0.858\n",
      "55/100 - train: loss 0.279; val: loss 0.324 accuracy 0.893\n",
      "56/100 - train: loss 0.263; val: loss 0.425 accuracy 0.862\n",
      "57/100 - train: loss 0.227; val: loss 0.347 accuracy 0.888\n",
      "58/100 - train: loss 0.236; val: loss 0.392 accuracy 0.876\n",
      "59/100 - train: loss 0.234; val: loss 0.396 accuracy 0.872\n",
      "60/100 - train: loss 0.246; val: loss 0.401 accuracy 0.878\n",
      "61/100 - train: loss 0.237; val: loss 0.286 accuracy 0.902\n",
      "62/100 - train: loss 0.209; val: loss 0.327 accuracy 0.895\n",
      "63/100 - train: loss 0.224; val: loss 0.355 accuracy 0.886\n",
      "64/100 - train: loss 0.178; val: loss 0.359 accuracy 0.889\n",
      "65/100 - train: loss 0.215; val: loss 0.283 accuracy 0.910\n",
      "66/100 - train: loss 0.180; val: loss 0.303 accuracy 0.906\n",
      "67/100 - train: loss 0.174; val: loss 0.300 accuracy 0.906\n",
      "68/100 - train: loss 0.173; val: loss 0.277 accuracy 0.912\n",
      "69/100 - train: loss 0.175; val: loss 0.315 accuracy 0.906\n",
      "70/100 - train: loss 0.141; val: loss 0.270 accuracy 0.914\n",
      "71/100 - train: loss 0.149; val: loss 0.312 accuracy 0.912\n",
      "72/100 - train: loss 0.143; val: loss 0.279 accuracy 0.918\n",
      "73/100 - train: loss 0.125; val: loss 0.320 accuracy 0.907\n",
      "74/100 - train: loss 0.120; val: loss 0.264 accuracy 0.921\n",
      "75/100 - train: loss 0.112; val: loss 0.260 accuracy 0.924\n",
      "76/100 - train: loss 0.102; val: loss 0.248 accuracy 0.927\n",
      "77/100 - train: loss 0.090; val: loss 0.287 accuracy 0.922\n",
      "78/100 - train: loss 0.081; val: loss 0.254 accuracy 0.928\n",
      "79/100 - train: loss 0.059; val: loss 0.256 accuracy 0.931\n",
      "80/100 - train: loss 0.071; val: loss 0.264 accuracy 0.930\n",
      "81/100 - train: loss 0.073; val: loss 0.252 accuracy 0.931\n",
      "82/100 - train: loss 0.048; val: loss 0.262 accuracy 0.937\n",
      "83/100 - train: loss 0.054; val: loss 0.272 accuracy 0.934\n",
      "84/100 - train: loss 0.036; val: loss 0.276 accuracy 0.934\n",
      "85/100 - train: loss 0.036; val: loss 0.256 accuracy 0.936\n",
      "86/100 - train: loss 0.027; val: loss 0.267 accuracy 0.938\n",
      "87/100 - train: loss 0.025; val: loss 0.275 accuracy 0.937\n",
      "88/100 - train: loss 0.018; val: loss 0.256 accuracy 0.942\n",
      "89/100 - train: loss 0.017; val: loss 0.242 accuracy 0.945\n",
      "90/100 - train: loss 0.015; val: loss 0.246 accuracy 0.947\n",
      "91/100 - train: loss 0.008; val: loss 0.245 accuracy 0.947\n",
      "92/100 - train: loss 0.011; val: loss 0.254 accuracy 0.947\n",
      "93/100 - train: loss 0.008; val: loss 0.252 accuracy 0.947\n",
      "94/100 - train: loss 0.009; val: loss 0.255 accuracy 0.949\n",
      "95/100 - train: loss 0.005; val: loss 0.249 accuracy 0.950\n",
      "96/100 - train: loss 0.007; val: loss 0.242 accuracy 0.951\n",
      "97/100 - train: loss 0.004; val: loss 0.251 accuracy 0.950\n",
      "98/100 - train: loss 0.009; val: loss 0.251 accuracy 0.951\n",
      "99/100 - train: loss 0.003; val: loss 0.244 accuracy 0.952\n",
      "100/100 - train: loss 0.003; val: loss 0.250 accuracy 0.951\n"
     ]
    }
   ],
   "source": [
    "trainer.run(train_loader, max_epochs=EPOCHS);"
   ]
  },
  {
   "cell_type": "code",
   "execution_count": 34,
   "metadata": {},
   "outputs": [
    {
     "data": {
      "image/png": "[encoded data removed]",
      "text/plain": [
       "<Figure size 432x288 with 1 Axes>"
      ]
     },
     "metadata": {
      "needs_background": "light"
     },
     "output_type": "display_data"
    }
   ],
   "source": [
    "history.plot_train_val('loss')"
   ]
  },
  {
   "cell_type": "code",
   "execution_count": 35,
   "metadata": {},
   "outputs": [
    {
     "data": {
      "image/png": "[encoded data removed]",
      "text/plain": [
       "<Figure size 432x288 with 1 Axes>"
      ]
     },
     "metadata": {
      "needs_background": "light"
     },
     "output_type": "display_data"
    }
   ],
   "source": [
    "history.plot('val acc')"
   ]
  }
 ],
 "metadata": {
  "kernelspec": {
   "display_name": "Python 3 (ipykernel)",
   "language": "python",
   "name": "python3"
  },
  "language_info": {
   "codemirror_mode": {
    "name": "ipython",
    "version": 3
   },
   "file_extension": ".py",
   "mimetype": "text/x-python",
   "name": "python",
   "nbconvert_exporter": "python",
   "pygments_lexer": "ipython3",
   "version": "3.8.10"
  }
 },
 "nbformat": 4,
 "nbformat_minor": 4
}
